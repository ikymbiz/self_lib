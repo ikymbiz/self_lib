{
 "cells": [
  {
   "cell_type": "markdown",
   "metadata": {},
   "source": [
    "# Pandas_note\n",
    "https://pandas.pydata.org/pandas-docs/stable/reference/frame.html"
   ]
  },
  {
   "cell_type": "markdown",
   "metadata": {},
   "source": [
    "## Index\n",
    "1. [import](#import)\n",
    "1. [データ読込み](#データ読込み)\n",
    "1. [データ抽出](#データ抽出)\n",
    "1. [データ結合](#データ結合)\n",
    "1. [データ加工](#データ加工)\n",
    "1. [マルチインデックス](#マルチインデックス)\n",
    "1. [カテゴリー](#カテゴリー)\n",
    "1. [文字列の処理](#文字列の処理)\n",
    "1. [欠損値処理](#欠損値処理)\n",
    "1. [演算](#演算)\n",
    "1. [時系列](#時系列)\n",
    "1. [データ情報出力](#データ情報出力)\n",
    "1. [グラフ](#グラフ)\n",
    "1. [ファイル出力](#ファイル出力)\n",
    "1. [テスト](#テスト)"
   ]
  },
  {
   "cell_type": "markdown",
   "metadata": {},
   "source": [
    "## import"
   ]
  },
  {
   "cell_type": "code",
   "execution_count": 1,
   "metadata": {
    "execution": {
     "iopub.execute_input": "2020-12-18T13:46:50.215576Z",
     "iopub.status.busy": "2020-12-18T13:46:50.215576Z",
     "iopub.status.idle": "2020-12-18T13:46:50.617941Z",
     "shell.execute_reply": "2020-12-18T13:46:50.617941Z",
     "shell.execute_reply.started": "2020-12-18T13:46:50.215576Z"
    }
   },
   "outputs": [],
   "source": [
    "import numpy as np\n",
    "import pandas as pd\n",
    "import statsmodels.api as sm\n",
    "import matplotlib.pyplot as plt\n",
    "import seaborn as sns\n",
    "sns.set()"
   ]
  },
  {
   "cell_type": "markdown",
   "metadata": {},
   "source": [
    "->[Index](#Index)"
   ]
  },
  {
   "cell_type": "markdown",
   "metadata": {},
   "source": [
    "## データ読込み"
   ]
  },
  {
   "cell_type": "markdown",
   "metadata": {},
   "source": [
    "### DataFrame\n",
    "https://pandas.pydata.org/pandas-docs/stable/reference/frame.html"
   ]
  },
  {
   "cell_type": "code",
   "execution_count": 2,
   "metadata": {
    "execution": {
     "iopub.execute_input": "2020-12-18T13:46:50.618943Z",
     "iopub.status.busy": "2020-12-18T13:46:50.618943Z",
     "iopub.status.idle": "2020-12-18T13:46:50.622946Z",
     "shell.execute_reply": "2020-12-18T13:46:50.622946Z",
     "shell.execute_reply.started": "2020-12-18T13:46:50.618943Z"
    }
   },
   "outputs": [],
   "source": [
    "data = pd.DataFrame(\n",
    "    {\n",
    "        \"name\": [\"ノビタ\", \"タケシ\", np.nan, \"ホネカワ\", \"ジャイコ\",\"ノビタ\"],\n",
    "        \"score1\": [30, 50, 50, 80, 200, 30],\n",
    "        \"score2\": [50, 70, np.nan, np.nan, 70, 50],\n",
    "        \"score_3\": [40, 20, np.nan, 50, 50, 40.],\n",
    "        \"score4_5\":[\"30:50\",\"50:70\",np.nan,\"10:20\",\"20:10\",\"30:50\"]\n",
    "    }\n",
    ")"
   ]
  },
  {
   "cell_type": "markdown",
   "metadata": {},
   "source": [
    "### csvファイル読込み\n",
    "https://pandas.pydata.org/pandas-docs/stable/reference/api/pandas.DataFrame.to_csv.html"
   ]
  },
  {
   "cell_type": "code",
   "execution_count": 1,
   "metadata": {
    "execution": {
     "iopub.execute_input": "2020-12-19T12:51:57.099233Z",
     "iopub.status.busy": "2020-12-19T12:51:57.099233Z",
     "iopub.status.idle": "2020-12-19T12:51:57.101234Z",
     "shell.execute_reply": "2020-12-19T12:51:57.101234Z",
     "shell.execute_reply.started": "2020-12-19T12:51:57.099233Z"
    }
   },
   "outputs": [],
   "source": [
    "data=pd.read_csv('tips.csv',index=False)\n",
    "data=pd.read_csv('tips.csv',index_col(0))"
   ]
  },
  {
   "cell_type": "code",
   "execution_count": null,
   "metadata": {
    "execution": {
     "iopub.status.busy": "2020-12-18T13:46:50.686004Z",
     "iopub.status.idle": "2020-12-18T13:46:50.686004Z",
     "shell.execute_reply": "2020-12-18T13:46:50.686004Z"
    }
   },
   "outputs": [],
   "source": [
    "display(data)"
   ]
  },
  {
   "cell_type": "markdown",
   "metadata": {},
   "source": [
    "### Excelファイル読込み"
   ]
  },
  {
   "cell_type": "code",
   "execution_count": null,
   "metadata": {},
   "outputs": [],
   "source": [
    "# pip install xlrd-1.2.0\n",
    "data=pd.read_excel('test.xlsx')"
   ]
  },
  {
   "cell_type": "markdown",
   "metadata": {},
   "source": [
    "### pickleファイル読込み"
   ]
  },
  {
   "cell_type": "code",
   "execution_count": null,
   "metadata": {},
   "outputs": [],
   "source": [
    "data=pd.read_pickle(\"data.pkl\")"
   ]
  },
  {
   "cell_type": "markdown",
   "metadata": {},
   "source": [
    "#### - 最初 / 最後のn件のデータを読み込む\n",
    "https://pandas.pydata.org/pandas-docs/version/0.24/reference/api/pandas.DataFrame.head.html"
   ]
  },
  {
   "cell_type": "code",
   "execution_count": null,
   "metadata": {
    "execution": {
     "iopub.status.busy": "2020-12-18T13:46:50.687005Z",
     "iopub.status.idle": "2020-12-18T13:46:50.687005Z",
     "shell.execute_reply": "2020-12-18T13:46:50.687005Z"
    }
   },
   "outputs": [],
   "source": [
    "# dataの上三行\n",
    "data.head(3)"
   ]
  },
  {
   "cell_type": "code",
   "execution_count": null,
   "metadata": {
    "execution": {
     "iopub.status.busy": "2020-12-18T13:46:50.688005Z",
     "iopub.status.idle": "2020-12-18T13:46:50.688005Z",
     "shell.execute_reply": "2020-12-18T13:46:50.688005Z"
    }
   },
   "outputs": [],
   "source": [
    "# dataの下三行\n",
    "data.tail(3)"
   ]
  },
  {
   "cell_type": "markdown",
   "metadata": {},
   "source": [
    "->[Index](#Index)"
   ]
  },
  {
   "cell_type": "markdown",
   "metadata": {},
   "source": [
    "### 最大表示列数の指定"
   ]
  },
  {
   "cell_type": "code",
   "execution_count": null,
   "metadata": {},
   "outputs": [],
   "source": [
    "#現在の最大表示列数の出力\n",
    "pd.get_option(\"display.max_columns\")\n",
    "\n",
    "#最大表示列数の指定（ここでは50列を指定）\n",
    "pd.set_option('display.max_columns', 50)"
   ]
  },
  {
   "cell_type": "markdown",
   "metadata": {},
   "source": [
    "### 最大表示行数の指定"
   ]
  },
  {
   "cell_type": "code",
   "execution_count": null,
   "metadata": {},
   "outputs": [],
   "source": [
    "#現在の最大表示行数の出力\n",
    "pd.get_option(\"display.max_rows\")\n",
    "\n",
    "#最大表示行数の指定（ここでは50行を指定）\n",
    "pd.set_option('display.max_rows', 50)"
   ]
  },
  {
   "cell_type": "markdown",
   "metadata": {},
   "source": [
    "#### - 型\n",
    "https://docs.python.org/ja/3/library/functions.html?highlight=type#type"
   ]
  },
  {
   "cell_type": "code",
   "execution_count": null,
   "metadata": {
    "execution": {
     "iopub.status.busy": "2020-12-18T13:46:50.688005Z",
     "iopub.status.idle": "2020-12-18T13:46:50.688005Z",
     "shell.execute_reply": "2020-12-18T13:46:50.688005Z"
    }
   },
   "outputs": [],
   "source": [
    "type(data)"
   ]
  },
  {
   "cell_type": "code",
   "execution_count": null,
   "metadata": {
    "execution": {
     "iopub.status.busy": "2020-12-18T13:46:50.689005Z",
     "iopub.status.idle": "2020-12-18T13:46:50.689005Z",
     "shell.execute_reply": "2020-12-18T13:46:50.689005Z"
    }
   },
   "outputs": [],
   "source": [
    "data.dtypes"
   ]
  },
  {
   "cell_type": "markdown",
   "metadata": {},
   "source": [
    "#### - 各列の型\n",
    "https://pandas.pydata.org/pandas-docs/stable/reference/api/pandas.DataFrame.dtypes.html"
   ]
  },
  {
   "cell_type": "code",
   "execution_count": null,
   "metadata": {
    "execution": {
     "iopub.status.busy": "2020-12-18T13:46:50.689005Z",
     "iopub.status.idle": "2020-12-18T13:46:50.690007Z",
     "shell.execute_reply": "2020-12-18T13:46:50.690007Z"
    }
   },
   "outputs": [],
   "source": [
    "type(data)"
   ]
  },
  {
   "cell_type": "code",
   "execution_count": null,
   "metadata": {
    "execution": {
     "iopub.status.busy": "2020-12-18T13:46:50.690007Z",
     "iopub.status.idle": "2020-12-18T13:46:50.690007Z",
     "shell.execute_reply": "2020-12-18T13:46:50.690007Z"
    }
   },
   "outputs": [],
   "source": [
    "data.dtypes"
   ]
  },
  {
   "cell_type": "markdown",
   "metadata": {
    "execution": {
     "iopub.execute_input": "2020-12-17T13:07:09.699615Z",
     "iopub.status.busy": "2020-12-17T13:07:09.699615Z",
     "iopub.status.idle": "2020-12-17T13:07:09.702627Z",
     "shell.execute_reply": "2020-12-17T13:07:09.702627Z",
     "shell.execute_reply.started": "2020-12-17T13:07:09.699615Z"
    }
   },
   "source": [
    "#### - 型の変更\n",
    "https://pandas.pydata.org/pandas-docs/stable/reference/api/pandas.DataFrame.astype.html"
   ]
  },
  {
   "cell_type": "code",
   "execution_count": null,
   "metadata": {
    "execution": {
     "iopub.status.busy": "2020-12-18T13:46:50.691007Z",
     "iopub.status.idle": "2020-12-18T13:46:50.691007Z",
     "shell.execute_reply": "2020-12-18T13:46:50.691007Z"
    }
   },
   "outputs": [],
   "source": [
    "data['score1']=data['score1'].astype('float')\n",
    "data"
   ]
  },
  {
   "cell_type": "markdown",
   "metadata": {},
   "source": []
  },
  {
   "cell_type": "markdown",
   "metadata": {},
   "source": [
    "## リスト、Numpy配列、Series、DataFrame間のデータ変換\n",
    "https://punhundon-lifeshift.com/python_list_numpy_series_dataframe_convert"
   ]
  },
  {
   "cell_type": "markdown",
   "metadata": {},
   "source": [
    "### １）リスト⇔Numpy配列"
   ]
  },
  {
   "cell_type": "markdown",
   "metadata": {},
   "source": [
    "#### リスト→Numpy配列"
   ]
  },
  {
   "cell_type": "code",
   "execution_count": null,
   "metadata": {},
   "outputs": [],
   "source": [
    "HP_arr = np.array(HP)"
   ]
  },
  {
   "cell_type": "markdown",
   "metadata": {},
   "source": [
    "#### Numpy配列→リスト"
   ]
  },
  {
   "cell_type": "code",
   "execution_count": null,
   "metadata": {},
   "outputs": [],
   "source": [
    "HP_arr.tolist()"
   ]
  },
  {
   "cell_type": "markdown",
   "metadata": {},
   "source": [
    "### ２）リスト、Numpy配列⇔Series"
   ]
  },
  {
   "cell_type": "markdown",
   "metadata": {},
   "source": [
    "#### リスト→Series"
   ]
  },
  {
   "cell_type": "code",
   "execution_count": null,
   "metadata": {},
   "outputs": [],
   "source": [
    "HP_s = pd.Series(HP)"
   ]
  },
  {
   "cell_type": "code",
   "execution_count": null,
   "metadata": {},
   "outputs": [],
   "source": [
    "HP_s = pd.Series(HP, index = ['戦士', '勇者', '僧侶', '魔法使い'])"
   ]
  },
  {
   "cell_type": "markdown",
   "metadata": {},
   "source": [
    "#### Numpy配列→Series"
   ]
  },
  {
   "cell_type": "code",
   "execution_count": null,
   "metadata": {},
   "outputs": [],
   "source": [
    "HP_s = pd.Series(HP_arr"
   ]
  },
  {
   "cell_type": "code",
   "execution_count": null,
   "metadata": {},
   "outputs": [],
   "source": [
    "HP_s = pd.Series(HP_arr, index = ['戦士', '勇者', '僧侶', '魔法使い'])"
   ]
  },
  {
   "cell_type": "markdown",
   "metadata": {},
   "source": [
    "#### Series→Numpy配列"
   ]
  },
  {
   "cell_type": "code",
   "execution_count": null,
   "metadata": {},
   "outputs": [],
   "source": [
    "HP_s.values.tolist()"
   ]
  },
  {
   "cell_type": "markdown",
   "metadata": {},
   "source": [
    "#### Series→Numpy配列"
   ]
  },
  {
   "cell_type": "code",
   "execution_count": null,
   "metadata": {},
   "outputs": [],
   "source": [
    "HP_s.values"
   ]
  },
  {
   "cell_type": "markdown",
   "metadata": {},
   "source": [
    "### ３）Series⇔DataFrame"
   ]
  },
  {
   "cell_type": "markdown",
   "metadata": {},
   "source": [
    "#### Series→DataFrame"
   ]
  },
  {
   "cell_type": "code",
   "execution_count": null,
   "metadata": {},
   "outputs": [],
   "source": [
    "df = pd.DataFrame(HP_s)"
   ]
  },
  {
   "cell_type": "code",
   "execution_count": null,
   "metadata": {},
   "outputs": [],
   "source": [
    "df = pd.DataFrame(HP_s, columns = ['HP'])"
   ]
  },
  {
   "cell_type": "markdown",
   "metadata": {},
   "source": [
    "#### DataFrame→Series"
   ]
  },
  {
   "cell_type": "code",
   "execution_count": null,
   "metadata": {},
   "outputs": [],
   "source": [
    "df['HP']"
   ]
  },
  {
   "cell_type": "code",
   "execution_count": null,
   "metadata": {},
   "outputs": [],
   "source": [
    "df.HP"
   ]
  },
  {
   "cell_type": "markdown",
   "metadata": {},
   "source": [
    "->[Index](#Index)"
   ]
  },
  {
   "cell_type": "markdown",
   "metadata": {},
   "source": [
    "#### - dataの行数 / 列数\n",
    "https://docs.python.org/ja/3/library/functions.html#len"
   ]
  },
  {
   "cell_type": "code",
   "execution_count": null,
   "metadata": {
    "execution": {
     "iopub.status.busy": "2020-12-18T13:46:50.691007Z",
     "iopub.status.idle": "2020-12-18T13:46:50.691007Z",
     "shell.execute_reply": "2020-12-18T13:46:50.691007Z"
    }
   },
   "outputs": [],
   "source": [
    "# 行数\n",
    "len(data)"
   ]
  },
  {
   "cell_type": "code",
   "execution_count": null,
   "metadata": {
    "execution": {
     "iopub.status.busy": "2020-12-18T13:46:50.692008Z",
     "iopub.status.idle": "2020-12-18T13:46:50.692008Z",
     "shell.execute_reply": "2020-12-18T13:46:50.692008Z"
    }
   },
   "outputs": [],
   "source": [
    "# 列数\n",
    "len(data.columns)"
   ]
  },
  {
   "cell_type": "markdown",
   "metadata": {},
   "source": [
    "#### - dataの次元数(行数, 列数)\n",
    "https://pandas.pydata.org/pandas-docs/stable/reference/api/pandas.DataFrame.shape.html"
   ]
  },
  {
   "cell_type": "code",
   "execution_count": null,
   "metadata": {
    "execution": {
     "iopub.status.busy": "2020-12-18T13:46:50.692008Z",
     "iopub.status.idle": "2020-12-18T13:46:50.692008Z",
     "shell.execute_reply": "2020-12-18T13:46:50.692008Z"
    }
   },
   "outputs": [],
   "source": [
    "data.shape"
   ]
  },
  {
   "cell_type": "markdown",
   "metadata": {},
   "source": [
    "#### - dataの列名\n",
    "https://pandas.pydata.org/pandas-docs/stable/reference/api/pandas.DataFrame.columns.html"
   ]
  },
  {
   "cell_type": "code",
   "execution_count": null,
   "metadata": {
    "execution": {
     "iopub.status.busy": "2020-12-18T13:46:50.693011Z",
     "iopub.status.idle": "2020-12-18T13:46:50.693011Z",
     "shell.execute_reply": "2020-12-18T13:46:50.693011Z"
    }
   },
   "outputs": [],
   "source": [
    "data.columns"
   ]
  },
  {
   "cell_type": "markdown",
   "metadata": {},
   "source": [
    "#### - dataのインデックス\n",
    "https://pandas.pydata.org/pandas-docs/stable/reference/api/pandas.Index.html"
   ]
  },
  {
   "cell_type": "code",
   "execution_count": null,
   "metadata": {
    "execution": {
     "iopub.status.busy": "2020-12-18T13:46:50.694011Z",
     "iopub.status.idle": "2020-12-18T13:46:50.694011Z",
     "shell.execute_reply": "2020-12-18T13:46:50.694011Z"
    }
   },
   "outputs": [],
   "source": [
    "data.index"
   ]
  },
  {
   "cell_type": "markdown",
   "metadata": {},
   "source": [
    "->[Index](#Index)"
   ]
  },
  {
   "cell_type": "markdown",
   "metadata": {},
   "source": [
    "## データ抽出"
   ]
  },
  {
   "cell_type": "markdown",
   "metadata": {},
   "source": [
    "#### - 位置指定取得\n",
    "https://pandas.pydata.org/pandas-docs/stable/reference/api/pandas.DataFrame.iloc.html"
   ]
  },
  {
   "cell_type": "code",
   "execution_count": null,
   "metadata": {
    "execution": {
     "iopub.status.busy": "2020-12-18T13:46:50.694011Z",
     "iopub.status.idle": "2020-12-18T13:46:50.695012Z",
     "shell.execute_reply": "2020-12-18T13:46:50.694011Z"
    }
   },
   "outputs": [],
   "source": [
    "# dataの四行目(0から数えて4番目)のscore1の値\n",
    "data.iat[4,1]"
   ]
  },
  {
   "cell_type": "code",
   "execution_count": null,
   "metadata": {
    "execution": {
     "iopub.status.busy": "2020-12-18T13:46:50.695012Z",
     "iopub.status.idle": "2020-12-18T13:46:50.695012Z",
     "shell.execute_reply": "2020-12-18T13:46:50.695012Z"
    }
   },
   "outputs": [],
   "source": [
    "# dataの2-3行目\n",
    "data.iloc[2:4]"
   ]
  },
  {
   "cell_type": "code",
   "execution_count": null,
   "metadata": {
    "execution": {
     "iopub.status.busy": "2020-12-18T13:46:50.696013Z",
     "iopub.status.idle": "2020-12-18T13:46:50.696013Z",
     "shell.execute_reply": "2020-12-18T13:46:50.696013Z"
    }
   },
   "outputs": [],
   "source": [
    "# dataの2-3行目の2列目\n",
    "data.iloc[2:4,1]"
   ]
  },
  {
   "cell_type": "code",
   "execution_count": null,
   "metadata": {
    "execution": {
     "iopub.status.busy": "2020-12-18T13:46:50.696013Z",
     "iopub.status.idle": "2020-12-18T13:46:50.697014Z",
     "shell.execute_reply": "2020-12-18T13:46:50.696013Z"
    }
   },
   "outputs": [],
   "source": [
    "# dataの2-3行目\n",
    "data[2:4]"
   ]
  },
  {
   "cell_type": "markdown",
   "metadata": {},
   "source": [
    "#### - ラベル指定取得\n",
    "https://pandas.pydata.org/pandas-docs/stable/reference/api/pandas.DataFrame.loc.html#pandas.DataFrame.loc"
   ]
  },
  {
   "cell_type": "code",
   "execution_count": null,
   "metadata": {
    "execution": {
     "iopub.status.busy": "2020-12-18T13:46:50.697014Z",
     "iopub.status.idle": "2020-12-18T13:46:50.697014Z",
     "shell.execute_reply": "2020-12-18T13:46:50.697014Z"
    }
   },
   "outputs": [],
   "source": [
    "# dataのindexが3、columnsがscore2の値\n",
    "data.at[2,'score2']"
   ]
  },
  {
   "cell_type": "code",
   "execution_count": null,
   "metadata": {
    "execution": {
     "iopub.status.busy": "2020-12-18T13:46:50.697014Z",
     "iopub.status.idle": "2020-12-18T13:46:50.698015Z",
     "shell.execute_reply": "2020-12-18T13:46:50.698015Z"
    }
   },
   "outputs": [],
   "source": [
    "# dataのindexが3、columnsがscore2の値\n",
    "data.loc[2,'score2']"
   ]
  },
  {
   "cell_type": "code",
   "execution_count": null,
   "metadata": {
    "execution": {
     "iopub.status.busy": "2020-12-18T13:46:50.698015Z",
     "iopub.status.idle": "2020-12-18T13:46:50.698015Z",
     "shell.execute_reply": "2020-12-18T13:46:50.698015Z"
    }
   },
   "outputs": [],
   "source": [
    "# dataの列score1と列score2を抽出\n",
    "data.loc[:,'score1':'score2']"
   ]
  },
  {
   "cell_type": "code",
   "execution_count": null,
   "metadata": {
    "execution": {
     "iopub.status.busy": "2020-12-18T13:46:50.699016Z",
     "iopub.status.idle": "2020-12-18T13:46:50.699016Z",
     "shell.execute_reply": "2020-12-18T13:46:50.699016Z"
    }
   },
   "outputs": [],
   "source": [
    "data[['score1','score2']]"
   ]
  },
  {
   "cell_type": "markdown",
   "metadata": {},
   "source": [
    "#### - 条件付き指定"
   ]
  },
  {
   "cell_type": "code",
   "execution_count": null,
   "metadata": {
    "execution": {
     "iopub.status.busy": "2020-12-18T13:46:50.700016Z",
     "iopub.status.idle": "2020-12-18T13:46:50.700016Z",
     "shell.execute_reply": "2020-12-18T13:46:50.700016Z"
    }
   },
   "outputs": [],
   "source": [
    "# dataの列score1の値が60以上の行のみ抽出\n",
    "data.loc[data['score1'] >= 60]"
   ]
  },
  {
   "cell_type": "code",
   "execution_count": null,
   "metadata": {
    "execution": {
     "iopub.status.busy": "2020-12-18T13:46:50.700016Z",
     "iopub.status.idle": "2020-12-18T13:46:50.700016Z",
     "shell.execute_reply": "2020-12-18T13:46:50.700016Z"
    }
   },
   "outputs": [],
   "source": [
    "data[data['score1'] >= 60]"
   ]
  },
  {
   "cell_type": "code",
   "execution_count": null,
   "metadata": {
    "execution": {
     "iopub.status.busy": "2020-12-18T13:46:50.701018Z",
     "iopub.status.idle": "2020-12-18T13:46:50.701018Z",
     "shell.execute_reply": "2020-12-18T13:46:50.701018Z"
    }
   },
   "outputs": [],
   "source": [
    "# dataの列score2の値が50より大きい行の列nameを抽出\n",
    "data['name'].loc[data['score2'] > 50]"
   ]
  },
  {
   "cell_type": "code",
   "execution_count": null,
   "metadata": {
    "execution": {
     "iopub.status.busy": "2020-12-18T13:46:50.702017Z",
     "iopub.status.idle": "2020-12-18T13:46:50.702017Z",
     "shell.execute_reply": "2020-12-18T13:46:50.702017Z"
    }
   },
   "outputs": [],
   "source": [
    "data['name'][data['score2'] > 50]"
   ]
  },
  {
   "cell_type": "code",
   "execution_count": null,
   "metadata": {
    "execution": {
     "iopub.status.busy": "2020-12-18T13:46:50.702017Z",
     "iopub.status.idle": "2020-12-18T13:46:50.703019Z",
     "shell.execute_reply": "2020-12-18T13:46:50.702017Z"
    }
   },
   "outputs": [],
   "source": [
    "# 複数条件で抽出\n",
    "data.loc[(data['score1'] >= 60) & (data['score2'] > 50)]"
   ]
  },
  {
   "cell_type": "code",
   "execution_count": null,
   "metadata": {},
   "outputs": [],
   "source": [
    "data.loc[ ('デキスギ', 2014, 'A')]"
   ]
  },
  {
   "cell_type": "code",
   "execution_count": null,
   "metadata": {
    "execution": {
     "iopub.status.busy": "2020-12-18T13:46:50.703019Z",
     "iopub.status.idle": "2020-12-18T13:46:50.703019Z",
     "shell.execute_reply": "2020-12-18T13:46:50.703019Z"
    }
   },
   "outputs": [],
   "source": [
    "# query文で抽出\n",
    "data.query('score1 >= 60 & score2 > 50')"
   ]
  },
  {
   "cell_type": "code",
   "execution_count": null,
   "metadata": {
    "execution": {
     "iopub.status.busy": "2020-12-18T13:46:50.704020Z",
     "iopub.status.idle": "2020-12-18T13:46:50.704020Z",
     "shell.execute_reply": "2020-12-18T13:46:50.704020Z"
    }
   },
   "outputs": [],
   "source": [
    "data[(data['score1'] >= 60) & (data['score2'] > 50)]"
   ]
  },
  {
   "cell_type": "markdown",
   "metadata": {},
   "source": [
    "->[Index](#Index)"
   ]
  },
  {
   "cell_type": "markdown",
   "metadata": {},
   "source": [
    "## データ結合\n",
    "https://pandas.pydata.org/pandas-docs/stable/user_guide/merging.html"
   ]
  },
  {
   "cell_type": "markdown",
   "metadata": {},
   "source": [
    "#### - 縦方向の結合"
   ]
  },
  {
   "cell_type": "code",
   "execution_count": null,
   "metadata": {},
   "outputs": [],
   "source": [
    "# dfAとdfBを縦方向に結合\n",
    "pd.concat([dfA, dfB], axis=0, join='outer', sort=False)"
   ]
  },
  {
   "cell_type": "code",
   "execution_count": null,
   "metadata": {},
   "outputs": [],
   "source": [
    "# dfAとdfBを縦方向に結合\n",
    "dfA.append(dfB,sort = True)"
   ]
  },
  {
   "cell_type": "markdown",
   "metadata": {},
   "source": [
    "#### - 横方向の結合"
   ]
  },
  {
   "cell_type": "code",
   "execution_count": null,
   "metadata": {},
   "outputs": [],
   "source": [
    "# df1とdf2を、横方向にそのまま結合\n",
    "pd.concat([df1, df2], axis=1)"
   ]
  },
  {
   "cell_type": "code",
   "execution_count": null,
   "metadata": {},
   "outputs": [],
   "source": [
    "# dfAとdfBをindexの値に合わせて横方向に結合\n",
    "pd.merge(dfA, dfB, right_index=True, left_index=True)"
   ]
  },
  {
   "cell_type": "code",
   "execution_count": null,
   "metadata": {},
   "outputs": [],
   "source": [
    "# df1とdf2を列bの値に合わせて横方向に結合 / やカラムを削除しない\n",
    "pd.merge(df1, df2, on='b', how='outer')"
   ]
  },
  {
   "cell_type": "code",
   "execution_count": null,
   "metadata": {},
   "outputs": [],
   "source": [
    "# df1とdf2をそれぞれkey1, key2の値に合わせて横方向に結合\n",
    "pd.merge(df1, df2, left_on='key1', right_on='key2')"
   ]
  },
  {
   "cell_type": "code",
   "execution_count": null,
   "metadata": {},
   "outputs": [],
   "source": [
    "# b_x,b_yと表記されていたが、それをb_df1, b_df2と表示\n",
    "pd.merge(df1, df2, left_on='key1', right_on='key2', suffixes=['_df1', '_df2'])"
   ]
  },
  {
   "cell_type": "code",
   "execution_count": null,
   "metadata": {},
   "outputs": [],
   "source": [
    "# df3, df4をそれぞれkey3, key4に基づき左外部結合\n",
    "pd.merge(df3, df4, left_on='key3', right_on='key4', how='left')"
   ]
  },
  {
   "cell_type": "code",
   "execution_count": null,
   "metadata": {},
   "outputs": [],
   "source": [
    "# df3, df4をそれぞれkey3, key4に基づき右外部結合\n",
    "pd.merge(df3, df4, left_on='key3', right_on='key4', how='right')"
   ]
  },
  {
   "cell_type": "code",
   "execution_count": null,
   "metadata": {},
   "outputs": [],
   "source": [
    "# f5, df6をkeyA, keyBに合わせて結合\n",
    "pd.merge(df5, df6, on=['keyA', 'keyB'])"
   ]
  },
  {
   "cell_type": "markdown",
   "metadata": {},
   "source": [
    "->[Index](#Index)"
   ]
  },
  {
   "cell_type": "markdown",
   "metadata": {},
   "source": [
    "## データ加工"
   ]
  },
  {
   "cell_type": "markdown",
   "metadata": {},
   "source": [
    "#### - 行の追加\n",
    "https://pandas.pydata.org/pandas-docs/stable/reference/api/pandas.DataFrame.append.html"
   ]
  },
  {
   "cell_type": "code",
   "execution_count": null,
   "metadata": {
    "execution": {
     "iopub.status.busy": "2020-12-18T13:46:50.705021Z",
     "iopub.status.idle": "2020-12-18T13:46:50.705021Z",
     "shell.execute_reply": "2020-12-18T13:46:50.705021Z"
    }
   },
   "outputs": [],
   "source": [
    "data2 = pd.DataFrame(\n",
    "    {'name': 'デキスギ', 'score1': [100], 'score2': [100], 'score_3': [\"100,2\"]})\n",
    "data3 = data.append(data2,ignore_index=True,sort=True)\n",
    "data3"
   ]
  },
  {
   "cell_type": "markdown",
   "metadata": {},
   "source": [
    "#### - 行の削除\n",
    "https://pandas.pydata.org/pandas-docs/stable/reference/api/pandas.DataFrame.drop.html"
   ]
  },
  {
   "cell_type": "code",
   "execution_count": null,
   "metadata": {},
   "outputs": [],
   "source": [
    "data.drop(\n",
    "    data.loc[(data[\"name\"] == \"ノビタ\") & (data[\"score_val\"] < 0)].index, inplace=True\n",
    ")"
   ]
  },
  {
   "cell_type": "markdown",
   "metadata": {},
   "source": [
    "#### - 重複行の削除\n",
    "https://pandas.pydata.org/pandas-docs/stable/reference/api/pandas.DataFrame.drop_duplicates.html"
   ]
  },
  {
   "cell_type": "code",
   "execution_count": null,
   "metadata": {
    "execution": {
     "iopub.status.busy": "2020-12-18T13:46:50.705021Z",
     "iopub.status.idle": "2020-12-18T13:46:50.705021Z",
     "shell.execute_reply": "2020-12-18T13:46:50.705021Z"
    }
   },
   "outputs": [],
   "source": [
    "data4 = data3.drop_duplicates()\n",
    "data4"
   ]
  },
  {
   "cell_type": "markdown",
   "metadata": {},
   "source": [
    "#### - 列の追加"
   ]
  },
  {
   "cell_type": "code",
   "execution_count": null,
   "metadata": {},
   "outputs": [],
   "source": [
    "data8['合計点'] = data8.loc[:, 'score_1':'score_3'].sum(axis=1)"
   ]
  },
  {
   "cell_type": "markdown",
   "metadata": {},
   "source": [
    "新しい列を既存の DataFrame を作成し、新しく作成された DataFrame 列にデフォルト値を割り当て"
   ]
  },
  {
   "cell_type": "code",
   "execution_count": null,
   "metadata": {},
   "outputs": [],
   "source": [
    "new_df=df.assign(Profit=6)"
   ]
  },
  {
   "cell_type": "markdown",
   "metadata": {},
   "source": [
    "#### - 列の分割\n",
    "https://pandas.pydata.org/pandas-docs/stable/reference/api/pandas.Series.str.split.html\n",
    "https://spcx8.hatenablog.com/entry/2018/09/08/091834"
   ]
  },
  {
   "cell_type": "code",
   "execution_count": null,
   "metadata": {
    "execution": {
     "iopub.status.busy": "2020-12-18T13:46:50.706021Z",
     "iopub.status.idle": "2020-12-18T13:46:50.706021Z",
     "shell.execute_reply": "2020-12-18T13:46:50.706021Z"
    }
   },
   "outputs": [],
   "source": [
    "data5 = data4.copy()\n",
    "data5['score4'] = data5['score4_5'].str.split(':',expand=True)[0]\n",
    "data5['score5'] = data5['score4_5'].str.split(':',expand=True)[1]\n",
    "data5"
   ]
  },
  {
   "cell_type": "markdown",
   "metadata": {},
   "source": [
    "#### - 列の削除\n",
    "https://pandas.pydata.org/pandas-docs/stable/reference/api/pandas.DataFrame.drop.html"
   ]
  },
  {
   "cell_type": "code",
   "execution_count": null,
   "metadata": {
    "execution": {
     "iopub.status.busy": "2020-12-18T13:46:50.707023Z",
     "iopub.status.idle": "2020-12-18T13:46:50.707023Z",
     "shell.execute_reply": "2020-12-18T13:46:50.707023Z"
    }
   },
   "outputs": [],
   "source": [
    "display(data5)\n",
    "data5 = data5.drop(['score4_5'],axis=1)\n",
    "data5 = data5.drop(columns=['score1'])\n",
    "data5"
   ]
  },
  {
   "cell_type": "markdown",
   "metadata": {},
   "source": [
    "#### - index の再採番\n",
    "https://pandas.pydata.org/pandas-docs/stable/reference/api/pandas.DataFrame.reset_index.html"
   ]
  },
  {
   "cell_type": "code",
   "execution_count": null,
   "metadata": {
    "execution": {
     "iopub.status.busy": "2020-12-18T13:46:50.707023Z",
     "iopub.status.idle": "2020-12-18T13:46:50.708024Z",
     "shell.execute_reply": "2020-12-18T13:46:50.707023Z"
    }
   },
   "outputs": [],
   "source": [
    "data5=data5.reset_index(drop=True)\n",
    "data5"
   ]
  },
  {
   "cell_type": "markdown",
   "metadata": {},
   "source": [
    "#### - 列のインデックスへの変更\n",
    "https://pandas.pydata.org/pandas-docs/stable/reference/api/pandas.DataFrame.set_index.html"
   ]
  },
  {
   "cell_type": "code",
   "execution_count": null,
   "metadata": {},
   "outputs": [],
   "source": [
    "data.set_index(\"開始時刻\", inplace=True)"
   ]
  },
  {
   "cell_type": "code",
   "execution_count": null,
   "metadata": {},
   "outputs": [],
   "source": [
    "data.sort_index(level=1)"
   ]
  },
  {
   "cell_type": "markdown",
   "metadata": {},
   "source": [
    "#### - カラム名の変更\n",
    "https://pandas.pydata.org/pandas-docs/stable/reference/api/pandas.DataFrame.rename.html"
   ]
  },
  {
   "cell_type": "code",
   "execution_count": null,
   "metadata": {
    "execution": {
     "iopub.status.busy": "2020-12-18T13:46:50.708024Z",
     "iopub.status.idle": "2020-12-18T13:46:50.708024Z",
     "shell.execute_reply": "2020-12-18T13:46:50.708024Z"
    }
   },
   "outputs": [],
   "source": [
    "data5 = data5.rename(columns={\"score2\": \"score_2\", \"score4\": \"score_4\",\"score5\":\"score_5\"})\n",
    "data5"
   ]
  },
  {
   "cell_type": "markdown",
   "metadata": {},
   "source": [
    "#### - カラムの並び順の変更\n",
    "https://pandas.pydata.org/pandas-docs/stable/reference/api/pandas.DataFrame.reindex.html"
   ]
  },
  {
   "cell_type": "code",
   "execution_count": null,
   "metadata": {
    "execution": {
     "iopub.status.busy": "2020-12-18T13:46:50.709025Z",
     "iopub.status.idle": "2020-12-18T13:46:50.709025Z",
     "shell.execute_reply": "2020-12-18T13:46:50.709025Z"
    }
   },
   "outputs": [],
   "source": [
    "data5 = data5.reindex(columns=['name','score_3','score_2','score_4','score_5'])\n",
    "display(data5)\n",
    "data6 = data5.reindex(['name','score_2','score_3','score_4','score_5'],axis='columns')\n",
    "display(data6)\n",
    "# ->NaNが出たら列名のスペルミスを疑え"
   ]
  },
  {
   "cell_type": "markdown",
   "metadata": {},
   "source": [
    "手早く並び替えを行う方法"
   ]
  },
  {
   "cell_type": "code",
   "execution_count": null,
   "metadata": {},
   "outputs": [],
   "source": [
    "# カラム名を取得する\n",
    "data.columns.values"
   ]
  },
  {
   "cell_type": "code",
   "execution_count": null,
   "metadata": {},
   "outputs": [],
   "source": [
    "# 出力結果をコピペし、以下のコードにペーストし、順番を並び替える\n",
    "cols=['name','score_3','score_2','score_4','score_5']"
   ]
  },
  {
   "cell_type": "code",
   "execution_count": null,
   "metadata": {},
   "outputs": [],
   "source": [
    "# 並び替えを反映させる\n",
    "data_preprocessed = data[cols]"
   ]
  },
  {
   "cell_type": "markdown",
   "metadata": {},
   "source": [
    "#### - 行と列の入れ替え\n",
    "https://pandas.pydata.org/pandas-docs/stable/reference/api/pandas.DataFrame.T.html"
   ]
  },
  {
   "cell_type": "code",
   "execution_count": null,
   "metadata": {},
   "outputs": [],
   "source": [
    "data4 = data3.T"
   ]
  },
  {
   "cell_type": "markdown",
   "metadata": {},
   "source": [
    "#### - ユニークな値\n",
    "https://pandas.pydata.org/pandas-docs/stable/reference/api/pandas.unique.html"
   ]
  },
  {
   "cell_type": "code",
   "execution_count": null,
   "metadata": {},
   "outputs": [],
   "source": [
    "data['name'].unique()"
   ]
  },
  {
   "cell_type": "markdown",
   "metadata": {},
   "source": [
    "#### - 並び替え（ソート）\n",
    "https://pandas.pydata.org/pandas-docs/stable/reference/api/pandas.DataFrame.sort_values.html"
   ]
  },
  {
   "cell_type": "code",
   "execution_count": 5,
   "metadata": {
    "execution": {
     "iopub.execute_input": "2020-12-18T15:27:23.970395Z",
     "iopub.status.busy": "2020-12-18T15:27:23.970395Z",
     "iopub.status.idle": "2020-12-18T15:27:23.972398Z",
     "shell.execute_reply": "2020-12-18T15:27:23.972398Z",
     "shell.execute_reply.started": "2020-12-18T15:27:23.970395Z"
    }
   },
   "outputs": [],
   "source": [
    "# 昇順\n",
    "data.groupby(\"name\").sum().sort_values(\"score_val\")"
   ]
  },
  {
   "cell_type": "code",
   "execution_count": null,
   "metadata": {},
   "outputs": [],
   "source": [
    "# 降順\n",
    "data.groupby(\"name\").sum().sort_values(\"score_val\", ascending=False)"
   ]
  },
  {
   "cell_type": "code",
   "execution_count": null,
   "metadata": {},
   "outputs": [],
   "source": [
    "tips4.sort_values(by='tip', ascending=False).head(10)"
   ]
  },
  {
   "cell_type": "code",
   "execution_count": null,
   "metadata": {},
   "outputs": [],
   "source": [
    "tips4.nlargest(10, \"tip\")"
   ]
  },
  {
   "cell_type": "markdown",
   "metadata": {},
   "source": [
    "### - リストのネストをはずす\n",
    "https://qiita.com/hoto17296/items/e1f80fef8536a0e5e7db"
   ]
  },
  {
   "cell_type": "code",
   "execution_count": null,
   "metadata": {},
   "outputs": [],
   "source": [
    "np.array([[1,2,3],[4,5,6],[7,8,9]]).flatten() "
   ]
  },
  {
   "cell_type": "markdown",
   "metadata": {},
   "source": [
    "### - pivod"
   ]
  },
  {
   "cell_type": "code",
   "execution_count": null,
   "metadata": {},
   "outputs": [],
   "source": [
    "pd.pivod_table(df,index='顧客ID',aggfunc='sum')"
   ]
  },
  {
   "cell_type": "markdown",
   "metadata": {},
   "source": [
    "#### - グルーピング\n",
    "https://pandas.pydata.org/pandas-docs/stable/reference/api/pandas.DataFrame.groupby.html"
   ]
  },
  {
   "cell_type": "code",
   "execution_count": null,
   "metadata": {},
   "outputs": [],
   "source": [
    "tips4.groupby('day')"
   ]
  },
  {
   "cell_type": "code",
   "execution_count": null,
   "metadata": {},
   "outputs": [],
   "source": [
    "data[['name', 'score_val']].groupby('name').mean()"
   ]
  },
  {
   "cell_type": "markdown",
   "metadata": {},
   "source": [
    "#### - フラグを立てる"
   ]
  },
  {
   "cell_type": "code",
   "execution_count": null,
   "metadata": {},
   "outputs": [],
   "source": [
    "# countが４以上の行のフラグ列に1をたてる\n",
    "uselog_weekday[\"routing_flg\"] = uselog_weekday[\"routing_flg\"].where(uselog_weekday[\"count\"]<4,1)"
   ]
  },
  {
   "cell_type": "markdown",
   "metadata": {},
   "source": [
    "## マルチインデックス"
   ]
  },
  {
   "cell_type": "markdown",
   "metadata": {},
   "source": [
    "#### - 列をインデックスに指定\n",
    "https://pandas.pydata.org/pandas-docs/stable/reference/api/pandas.DataFrame.set_index.html"
   ]
  },
  {
   "cell_type": "code",
   "execution_count": null,
   "metadata": {},
   "outputs": [],
   "source": [
    "data.set_index(['名前', '年度', '種類'], inplace=True)"
   ]
  },
  {
   "cell_type": "markdown",
   "metadata": {},
   "source": [
    "#### - インデックスで並び替える\n",
    "https://pandas.pydata.org/pandas-docs/stable/reference/api/pandas.DataFrame.sort_index.html"
   ]
  },
  {
   "cell_type": "code",
   "execution_count": null,
   "metadata": {},
   "outputs": [],
   "source": [
    "data.sort_index(level=1)"
   ]
  },
  {
   "cell_type": "code",
   "execution_count": null,
   "metadata": {},
   "outputs": [],
   "source": [
    "data4.sort_index(level=1, axis=1)"
   ]
  },
  {
   "cell_type": "markdown",
   "metadata": {},
   "source": [
    "#### - インデックスの並び順の変更\n",
    "https://pandas.pydata.org/pandas-docs/stable/reference/api/pandas.DataFrame.swaplevel.html"
   ]
  },
  {
   "cell_type": "code",
   "execution_count": null,
   "metadata": {},
   "outputs": [],
   "source": [
    "data2.swaplevel(1, 0)"
   ]
  },
  {
   "cell_type": "markdown",
   "metadata": {},
   "source": [
    "#### - インデックスで抽出\n",
    "https://pandas.pydata.org/pandas-docs/stable/reference/api/pandas.IndexSlice.html"
   ]
  },
  {
   "cell_type": "code",
   "execution_count": null,
   "metadata": {},
   "outputs": [],
   "source": [
    "data.loc[pd.IndexSlice['ノビタ']]"
   ]
  },
  {
   "cell_type": "markdown",
   "metadata": {},
   "source": [
    "#### インデックスで抽出2\n",
    "https://pandas.pydata.org/pandas-docs/stable/reference/api/pandas.DataFrame.xs.html"
   ]
  },
  {
   "cell_type": "code",
   "execution_count": null,
   "metadata": {},
   "outputs": [],
   "source": [
    "data3.xs('A', level=2)"
   ]
  },
  {
   "cell_type": "markdown",
   "metadata": {},
   "source": [
    "#### - インデックスから列へ移動\n",
    "https://pandas.pydata.org/pandas-docs/stable/reference/api/pandas.DataFrame.unstack.html"
   ]
  },
  {
   "cell_type": "code",
   "execution_count": null,
   "metadata": {},
   "outputs": [],
   "source": [
    "data5.unstack(1)"
   ]
  },
  {
   "cell_type": "markdown",
   "metadata": {},
   "source": [
    "#### - 列からインデックスへ移動\n",
    "https://pandas.pydata.org/pandas-docs/stable/reference/api/pandas.DataFrame.stack.html#pandas.DataFrame.stack"
   ]
  },
  {
   "cell_type": "code",
   "execution_count": null,
   "metadata": {},
   "outputs": [],
   "source": [
    "data6.stack(1)"
   ]
  },
  {
   "cell_type": "markdown",
   "metadata": {},
   "source": [
    "#### - マルチインデックスを解除する"
   ]
  },
  {
   "cell_type": "code",
   "execution_count": null,
   "metadata": {},
   "outputs": [],
   "source": [
    "data7.reset_index()"
   ]
  },
  {
   "cell_type": "markdown",
   "metadata": {},
   "source": [
    "## カテゴリー"
   ]
  },
  {
   "cell_type": "markdown",
   "metadata": {},
   "source": [
    "#### - 列をカテゴリ変数へと変換\n",
    "https://pandas.pydata.org/pandas-docs/stable/reference/api/pandas.Categorical.html"
   ]
  },
  {
   "cell_type": "code",
   "execution_count": null,
   "metadata": {},
   "outputs": [],
   "source": [
    " pd.Categorical(tips4[col], values)"
   ]
  },
  {
   "cell_type": "code",
   "execution_count": null,
   "metadata": {},
   "outputs": [],
   "source": [
    "pd.Categorical(data['性別'])"
   ]
  },
  {
   "cell_type": "markdown",
   "metadata": {},
   "source": [
    "#### - 列のカテゴリー一覧\n",
    "https://pandas.pydata.org/pandas-docs/stable/user_guide/categorical.html#working-with-categories"
   ]
  },
  {
   "cell_type": "code",
   "execution_count": null,
   "metadata": {},
   "outputs": [],
   "source": [
    "data['性別'].cat.categories"
   ]
  },
  {
   "cell_type": "markdown",
   "metadata": {},
   "source": [
    "#### - 順序ありカテゴリ変数へと変換"
   ]
  },
  {
   "cell_type": "code",
   "execution_count": null,
   "metadata": {},
   "outputs": [],
   "source": [
    "pd.Categorical(\n",
    "    data[\"学年\"],\n",
    "    categories=[\"1学年\", \"2学年\", \"3学年\", \"4学年\", \"5学年\", \"6学年\", \"卒業済み\"],\n",
    "    ordered=True,\n",
    ")"
   ]
  },
  {
   "cell_type": "markdown",
   "metadata": {},
   "source": [
    "#### - ダミー変数\n",
    "https://pandas.pydata.org/pandas-docs/stable/reference/api/pandas.get_dummies.html"
   ]
  },
  {
   "cell_type": "code",
   "execution_count": null,
   "metadata": {},
   "outputs": [],
   "source": [
    "pd.get_dummies(data['性別'])"
   ]
  },
  {
   "cell_type": "code",
   "execution_count": null,
   "metadata": {},
   "outputs": [],
   "source": [
    "#多重共線性を排除するため１列削除する\n",
    "pd.get_dummies(data['学年'], drop_first=True)"
   ]
  },
  {
   "cell_type": "code",
   "execution_count": null,
   "metadata": {},
   "outputs": [],
   "source": [
    "# 多重共線性の有無を調べたい列を指定する\n",
    "from statsmodels.stats.outliers_influence import varianve_inflation_factor\n",
    "\n",
    "variables = data_cleaned[['Milage','Year','Engine']]\n",
    "\n",
    "vif = pd.DataFframe()\n",
    "vif['VIF'] = [variance_inflation_factor(variables.values,i) for i in range(variables.shape[1])]\n",
    "vif['features'] = variables.columns\n",
    "vif"
   ]
  },
  {
   "cell_type": "code",
   "execution_count": null,
   "metadata": {},
   "outputs": [],
   "source": [
    "pd.get_dummies(data, columns=['性別', '学年'], drop_first=True)"
   ]
  },
  {
   "cell_type": "code",
   "execution_count": null,
   "metadata": {},
   "outputs": [],
   "source": [
    "data['Admitted'] = data['Addmitted'].map({'Yes':1,'No':0})"
   ]
  },
  {
   "cell_type": "markdown",
   "metadata": {},
   "source": [
    "->[Index](#Index)"
   ]
  },
  {
   "cell_type": "markdown",
   "metadata": {},
   "source": [
    "### - OneHotEncoding"
   ]
  },
  {
   "cell_type": "code",
   "execution_count": null,
   "metadata": {},
   "outputs": [],
   "source": [
    "# OneHotEncoding\n",
    "import category_encoders as ce\n",
    "#インスタンス化\n",
    "encoder = ce.OneHotEncoder(use_cat_names=True)\n",
    "\n",
    "# 学習\n",
    "encoder.fit(c_data.drop('間取り',axis=1))\n",
    "\n",
    "# 変換\n",
    "d_data = encoder.transform(c_data.drop('間取り',axis=1))"
   ]
  },
  {
   "cell_type": "markdown",
   "metadata": {},
   "source": [
    "## 文字列の処理"
   ]
  },
  {
   "cell_type": "markdown",
   "metadata": {},
   "source": [
    "#### - 文字の置換\n",
    "https://pandas.pydata.org/pandas-docs/stable/reference/api/pandas.Series.str.replace.html"
   ]
  },
  {
   "cell_type": "code",
   "execution_count": null,
   "metadata": {
    "execution": {
     "iopub.status.busy": "2020-12-18T13:46:50.709025Z",
     "iopub.status.idle": "2020-12-18T13:46:50.710025Z",
     "shell.execute_reply": "2020-12-18T13:46:50.709025Z"
    }
   },
   "outputs": [],
   "source": [
    "data6['score_3'] = data6['score_3'].str.replace(',', '.')\n",
    "data6"
   ]
  },
  {
   "cell_type": "markdown",
   "metadata": {},
   "source": [
    "#### - ～で始まる文字列\n",
    "https://pandas.pydata.org/pandas-docs/stable/reference/api/pandas.Series.str.startswith.html#pandas.Series.str.startswith"
   ]
  },
  {
   "cell_type": "code",
   "execution_count": null,
   "metadata": {},
   "outputs": [],
   "source": [
    "# dataから列性別と年齢の値が、'男性'から始まる行を抽出\n",
    "data[data[\"性別と年齢\"].str.startswith(\"男性\")]"
   ]
  },
  {
   "cell_type": "markdown",
   "metadata": {},
   "source": [
    "#### - ～で終わる文字列\n",
    "https://pandas.pydata.org/pandas-docs/stable/reference/api/pandas.Series.str.endswith.html"
   ]
  },
  {
   "cell_type": "code",
   "execution_count": null,
   "metadata": {},
   "outputs": [],
   "source": [
    "# dataから列学年の値が、'学年'で終わる行を抽出\n",
    "data[data['学年'].str.endswith('学年')]"
   ]
  },
  {
   "cell_type": "markdown",
   "metadata": {},
   "source": [
    "#### - ～を含む文字列\n",
    "https://pandas.pydata.org/pandas-docs/stable/reference/api/pandas.Series.str.contains.html#pandas.Series.str.contains"
   ]
  },
  {
   "cell_type": "code",
   "execution_count": null,
   "metadata": {},
   "outputs": [],
   "source": [
    "data[data[\"好物\"].str.contains(\"浅漬け\")]"
   ]
  },
  {
   "cell_type": "markdown",
   "metadata": {},
   "source": [
    "#### - 文字列を分ける\n",
    "https://pandas.pydata.org/pandas-docs/stable/reference/api/pandas.Series.str.split.html"
   ]
  },
  {
   "cell_type": "code",
   "execution_count": null,
   "metadata": {},
   "outputs": [],
   "source": [
    "# dataの列性別と年齢を分けて、それぞれ性別・年齢のカラムを新しく作成し、そこに代入\n",
    "data[[\"性別\", \"年齢\"]] = data[\"性別と年齢\"].str.split(\"_\", expand=True)\n",
    "data.drop(\"性別と年齢\", axis=1, inplace=True)"
   ]
  },
  {
   "cell_type": "markdown",
   "metadata": {},
   "source": [
    "#### - 文字列のスライス\n",
    "https://pandas.pydata.org/pandas-docs/stable/user_guide/text.html#indexing-with-str"
   ]
  },
  {
   "cell_type": "code",
   "execution_count": null,
   "metadata": {},
   "outputs": [],
   "source": [
    "# dataの列学年を最初の一文字目だけ残して残りを削除\n",
    "data[\"学年\"] = data[\"学年\"].str[0]"
   ]
  },
  {
   "cell_type": "markdown",
   "metadata": {},
   "source": [
    "#### - 文字列の追加"
   ]
  },
  {
   "cell_type": "code",
   "execution_count": null,
   "metadata": {},
   "outputs": [],
   "source": [
    "data[\"年齢\"] = data[\"年齢\"] + \"歳\""
   ]
  },
  {
   "cell_type": "markdown",
   "metadata": {},
   "source": [
    "->[Index](#Index)"
   ]
  },
  {
   "cell_type": "markdown",
   "metadata": {},
   "source": [
    "## 欠損値処理\n",
    "https://pandas.pydata.org/pandas-docs/stable/reference/api/pandas.DataFrame.isnull.html#pandas.DataFrame.isnull\n",
    "https://docs.python.org/ja/3/library/functions.html#any\n",
    "https://estuarine.jp/2017/09/extract_rows_with_nan/"
   ]
  },
  {
   "cell_type": "markdown",
   "metadata": {},
   "source": [
    "#### - どこかの列に欠損値(NaN)がある行を抽出\n",
    "https://docs.python.org/ja/3/library/functions.html#any"
   ]
  },
  {
   "cell_type": "code",
   "execution_count": null,
   "metadata": {
    "execution": {
     "iopub.status.busy": "2020-12-18T13:46:50.710025Z",
     "iopub.status.idle": "2020-12-18T13:46:50.710025Z",
     "shell.execute_reply": "2020-12-18T13:46:50.710025Z"
    }
   },
   "outputs": [],
   "source": [
    "data5[data5.isnull().any(axis=1)]"
   ]
  },
  {
   "cell_type": "markdown",
   "metadata": {},
   "source": [
    "#### - 全ての列に欠損値がある行を抽出\n",
    "https://docs.python.org/ja/3/library/functions.html#all"
   ]
  },
  {
   "cell_type": "code",
   "execution_count": null,
   "metadata": {
    "execution": {
     "iopub.status.busy": "2020-12-18T13:46:50.711026Z",
     "iopub.status.idle": "2020-12-18T13:46:50.711026Z",
     "shell.execute_reply": "2020-12-18T13:46:50.711026Z"
    }
   },
   "outputs": [],
   "source": [
    "data5[data5.isnull().all(axis=1)]"
   ]
  },
  {
   "cell_type": "markdown",
   "metadata": {
    "execution": {
     "iopub.execute_input": "2020-12-16T14:28:35.267225Z",
     "iopub.status.busy": "2020-12-16T14:28:35.267225Z",
     "iopub.status.idle": "2020-12-16T14:28:35.270228Z",
     "shell.execute_reply": "2020-12-16T14:28:35.270228Z",
     "shell.execute_reply.started": "2020-12-16T14:28:35.267225Z"
    }
   },
   "source": [
    "#### - 欠損値を埋める\n",
    "https://pandas.pydata.org/pandas-docs/stable/reference/api/pandas.DataFrame.fillna.html"
   ]
  },
  {
   "cell_type": "code",
   "execution_count": null,
   "metadata": {
    "execution": {
     "iopub.status.busy": "2020-12-18T13:46:50.711026Z",
     "iopub.status.idle": "2020-12-18T13:46:50.711026Z",
     "shell.execute_reply": "2020-12-18T13:46:50.711026Z"
    }
   },
   "outputs": [],
   "source": [
    "data7 = data5.copy()\n",
    "data7['score_3'] = data7['score_3'].fillna(0)\n",
    "data8 = data5.fillna(data5.max())\n",
    "display(data7)\n",
    "display(data8)"
   ]
  },
  {
   "cell_type": "code",
   "execution_count": null,
   "metadata": {},
   "outputs": [],
   "source": [
    "#求めた最頻値a3_6で tips3 の size のデータ欠損を埋めた tips4 を作成\n",
    "tips4 = tips3.fillna({'size':a3_6})"
   ]
  },
  {
   "cell_type": "markdown",
   "metadata": {},
   "source": [
    "#### - 欠損値を含む行を削除する\n",
    "https://pandas.pydata.org/pandas-docs/stable/reference/api/pandas.DataFrame.dropna.html"
   ]
  },
  {
   "cell_type": "code",
   "execution_count": null,
   "metadata": {
    "execution": {
     "iopub.status.busy": "2020-12-18T13:46:50.712028Z",
     "iopub.status.idle": "2020-12-18T13:46:50.712028Z",
     "shell.execute_reply": "2020-12-18T13:46:50.712028Z"
    }
   },
   "outputs": [],
   "source": [
    "data7 = data7.dropna()\n",
    "data7"
   ]
  },
  {
   "cell_type": "code",
   "execution_count": null,
   "metadata": {
    "execution": {
     "iopub.status.busy": "2020-12-18T13:46:50.713028Z",
     "iopub.status.idle": "2020-12-18T13:46:50.713028Z",
     "shell.execute_reply": "2020-12-18T13:46:50.713028Z"
    }
   },
   "outputs": [],
   "source": [
    "data7 = data7.dropna(subset = ['score_1','score_3'])"
   ]
  },
  {
   "cell_type": "markdown",
   "metadata": {},
   "source": [
    "->[Index](#Index)"
   ]
  },
  {
   "cell_type": "markdown",
   "metadata": {},
   "source": [
    "#### - データの変換"
   ]
  },
  {
   "cell_type": "markdown",
   "metadata": {},
   "source": [
    "#### Pandas ⇔ Numpy\n",
    "https://note.nkmk.me/python-pandas-numpy-conversion/"
   ]
  },
  {
   "cell_type": "markdown",
   "metadata": {},
   "source": [
    "Pandas ->　Numpy"
   ]
  },
  {
   "cell_type": "code",
   "execution_count": null,
   "metadata": {},
   "outputs": [],
   "source": [
    "data_numpy = df.to_numpy()"
   ]
  },
  {
   "cell_type": "markdown",
   "metadata": {},
   "source": [
    "Numpy ->　Pandas"
   ]
  },
  {
   "cell_type": "code",
   "execution_count": null,
   "metadata": {},
   "outputs": [],
   "source": [
    "data_pandas = pd.Series(data_numpy)"
   ]
  },
  {
   "cell_type": "code",
   "execution_count": null,
   "metadata": {},
   "outputs": [],
   "source": [
    "data_pandas = pd.DataFrame(data_numpy)"
   ]
  },
  {
   "cell_type": "markdown",
   "metadata": {},
   "source": [
    "### - エスケープシーケンス"
   ]
  },
  {
   "cell_type": "markdown",
   "metadata": {},
   "source": [
    "https://www.javadrive.jp/python/string/index2.html"
   ]
  },
  {
   "cell_type": "markdown",
   "metadata": {},
   "source": [
    "## 演算"
   ]
  },
  {
   "cell_type": "markdown",
   "metadata": {},
   "source": [
    "#### - 合計\n",
    "https://pandas.pydata.org/pandas-docs/stable/reference/api/pandas.DataFrame.sum.html"
   ]
  },
  {
   "cell_type": "code",
   "execution_count": null,
   "metadata": {
    "execution": {
     "iopub.status.busy": "2020-12-18T13:46:50.716031Z",
     "iopub.status.idle": "2020-12-18T13:46:50.716031Z",
     "shell.execute_reply": "2020-12-18T13:46:50.716031Z"
    }
   },
   "outputs": [],
   "source": [
    "data.sum()"
   ]
  },
  {
   "cell_type": "markdown",
   "metadata": {},
   "source": [
    "#### - 平均\n",
    "https://pandas.pydata.org/pandas-docs/stable/reference/api/pandas.DataFrame.mean.html"
   ]
  },
  {
   "cell_type": "code",
   "execution_count": null,
   "metadata": {
    "execution": {
     "iopub.status.busy": "2020-12-18T13:46:50.717032Z",
     "iopub.status.idle": "2020-12-18T13:46:50.717032Z",
     "shell.execute_reply": "2020-12-18T13:46:50.717032Z"
    }
   },
   "outputs": [],
   "source": [
    "data.mean()"
   ]
  },
  {
   "cell_type": "markdown",
   "metadata": {},
   "source": [
    "#### - 最頻値\n",
    "https://pandas.pydata.org/pandas-docs/stable/reference/api/pandas.DataFrame.mode.html"
   ]
  },
  {
   "cell_type": "code",
   "execution_count": null,
   "metadata": {
    "execution": {
     "iopub.status.busy": "2020-12-18T13:46:50.718033Z",
     "iopub.status.idle": "2020-12-18T13:46:50.718033Z",
     "shell.execute_reply": "2020-12-18T13:46:50.718033Z"
    }
   },
   "outputs": [],
   "source": [
    "data.mode()"
   ]
  },
  {
   "cell_type": "markdown",
   "metadata": {},
   "source": [
    "#### - それぞれの列同士の相関係数\n",
    "https://pandas.pydata.org/pandas-docs/stable/reference/api/pandas.DataFrame.corr.html"
   ]
  },
  {
   "cell_type": "code",
   "execution_count": null,
   "metadata": {
    "execution": {
     "iopub.status.busy": "2020-12-18T13:46:50.717032Z",
     "iopub.status.idle": "2020-12-18T13:46:50.718033Z",
     "shell.execute_reply": "2020-12-18T13:46:50.718033Z"
    }
   },
   "outputs": [],
   "source": [
    "data.corr()"
   ]
  },
  {
   "cell_type": "markdown",
   "metadata": {},
   "source": [
    "#### - 標準偏差\n",
    "https://pandas.pydata.org/pandas-docs/stable/reference/api/pandas.DataFrame.std.html"
   ]
  },
  {
   "cell_type": "code",
   "execution_count": null,
   "metadata": {},
   "outputs": [],
   "source": [
    "data[['score_name', 'score_val']].groupby('score_name').std()"
   ]
  },
  {
   "cell_type": "markdown",
   "metadata": {},
   "source": [
    "### - apply関数\n",
    "https://pandas.pydata.org/pandas-docs/stable/reference/api/pandas.DataFrame.apply.html"
   ]
  },
  {
   "cell_type": "code",
   "execution_count": null,
   "metadata": {},
   "outputs": [],
   "source": [
    "dow.apply(lambda x: x / tips_by_dow.sum(axis=1))"
   ]
  },
  {
   "cell_type": "code",
   "execution_count": null,
   "metadata": {},
   "outputs": [],
   "source": [
    "data[[\"name\", \"score_val\"]]\n",
    "    .groupby(\"name\")\n",
    "    .apply(lambda x: x[\"score_val\"].max() - x[\"score_val\"].min())"
   ]
  },
  {
   "cell_type": "markdown",
   "metadata": {},
   "source": [
    "#### - agg関数\n",
    "https://pandas.pydata.org/pandas-docs/stable/reference/api/pandas.DataFrame.agg.html\n",
    "https://pandas.pydata.org/pandas-docs/version/0.23.4/generated/pandas.core.groupby.DataFrameGroupBy.agg.html"
   ]
  },
  {
   "cell_type": "code",
   "execution_count": null,
   "metadata": {},
   "outputs": [],
   "source": [
    "data.groupby('name').agg({'score_val': ['min', 'max']})"
   ]
  },
  {
   "cell_type": "code",
   "execution_count": null,
   "metadata": {},
   "outputs": [],
   "source": [
    "data[[\"score_name\", \"score_val\"]]\n",
    "    .groupby(\"score_name\")\n",
    "    .agg([(\"平均\", \"mean\"), (\"中央値\", \"median\"), (\"標準偏差\", \"std\")])"
   ]
  },
  {
   "cell_type": "markdown",
   "metadata": {},
   "source": [
    "->[Index](#Index)"
   ]
  },
  {
   "cell_type": "markdown",
   "metadata": {},
   "source": [
    "## 時系列"
   ]
  },
  {
   "cell_type": "markdown",
   "metadata": {},
   "source": [
    "#### - datetime型\n",
    "https://pandas.pydata.org/pandas-docs/stable/reference/api/pandas.to_datetime.html"
   ]
  },
  {
   "cell_type": "code",
   "execution_count": null,
   "metadata": {},
   "outputs": [],
   "source": [
    "data['開始時刻'] = pd.to_datetime(data['開始時刻'])"
   ]
  },
  {
   "cell_type": "markdown",
   "metadata": {},
   "source": [
    "#### - 日時型を年月項目に変換"
   ]
  },
  {
   "cell_type": "code",
   "execution_count": null,
   "metadata": {},
   "outputs": [],
   "source": [
    "analize_order_data['order_accept_month']=analize_order_data['order_accept_date'].dt.strftime('%Y%m')"
   ]
  },
  {
   "cell_type": "markdown",
   "metadata": {},
   "source": [
    "#### - 時間差の算出\n",
    "http://pandas.pydata.org/pandas-docs/stable/reference/api/pandas.DataFrame.diff.html"
   ]
  },
  {
   "cell_type": "code",
   "execution_count": 7,
   "metadata": {
    "execution": {
     "iopub.execute_input": "2020-12-18T16:41:27.799953Z",
     "iopub.status.busy": "2020-12-18T16:41:27.799953Z",
     "iopub.status.idle": "2020-12-18T16:41:27.801954Z",
     "shell.execute_reply": "2020-12-18T16:41:27.801954Z",
     "shell.execute_reply.started": "2020-12-18T16:41:27.799953Z"
    }
   },
   "outputs": [],
   "source": [
    "# dataの列終了時刻から列開始時刻を引いたものを(timedelta型)、新たに'継続時間'というカラムを作成\n",
    "data['継続時間'] = data['終了時刻'] - data['開始時刻']"
   ]
  },
  {
   "cell_type": "code",
   "execution_count": null,
   "metadata": {},
   "outputs": [],
   "source": [
    "# dataの列val1.の前日・二日前との値の差をそれぞれ算出\n",
    "a6_6_diff1 = data['val1'].diff(1)\n",
    "a6_6_diff2 = data['val1'].diff(2)"
   ]
  },
  {
   "cell_type": "markdown",
   "metadata": {},
   "source": [
    "#### - 時間の加算"
   ]
  },
  {
   "cell_type": "code",
   "execution_count": null,
   "metadata": {},
   "outputs": [],
   "source": [
    "# dataの列継続時間が２時間より長い日の数を算出\n",
    "np.sum(data['継続時間'] > '02:00:00')"
   ]
  },
  {
   "cell_type": "markdown",
   "metadata": {},
   "source": [
    "#### - 秒数への変換\n",
    "https://pandas.pydata.org/pandas-docs/stable/reference/api/pandas.Series.dt.total_seconds.html"
   ]
  },
  {
   "cell_type": "code",
   "execution_count": null,
   "metadata": {},
   "outputs": [],
   "source": [
    "data['継続時間'].dt.total_seconds()"
   ]
  },
  {
   "cell_type": "markdown",
   "metadata": {},
   "source": [
    "#### - 年・月・日・曜日の算出\n",
    "https://pandas.pydata.org/pandas-docs/stable/reference/api/pandas.Series.dt.month.html"
   ]
  },
  {
   "cell_type": "code",
   "execution_count": null,
   "metadata": {},
   "outputs": [],
   "source": [
    "# dataの列開始時刻からその行が何月なのかを取得\n",
    "data['開始時刻'].dt.month"
   ]
  },
  {
   "cell_type": "code",
   "execution_count": null,
   "metadata": {},
   "outputs": [],
   "source": [
    "data['開始時刻'].dt.year"
   ]
  },
  {
   "cell_type": "code",
   "execution_count": null,
   "metadata": {},
   "outputs": [],
   "source": [
    "data['開始時刻'].dt.day"
   ]
  },
  {
   "cell_type": "markdown",
   "metadata": {},
   "source": [
    "#### - 7日間ごと(7d)の・・・\n",
    "https://pandas.pydata.org/pandas-docs/stable/reference/api/pandas.Grouper.html"
   ]
  },
  {
   "cell_type": "code",
   "execution_count": null,
   "metadata": {},
   "outputs": [],
   "source": [
    "# dataの7日間ごと(7d)の列val1, 列val2の中央値を算出\n",
    "a6_9 = data.groupby(pd.Grouper(key=\"開始時刻\", freq=\"7d\")).median()"
   ]
  },
  {
   "cell_type": "markdown",
   "metadata": {},
   "source": [
    "#### - 前３日に対する移動平均\n",
    "https://pandas.pydata.org/pandas-docs/stable/reference/api/pandas.DataFrame.rolling.html"
   ]
  },
  {
   "cell_type": "code",
   "execution_count": null,
   "metadata": {},
   "outputs": [],
   "source": [
    "data['val1'].rolling(window=3,center=False).mean()"
   ]
  },
  {
   "cell_type": "markdown",
   "metadata": {},
   "source": [
    "#### - 一週間ごと(1w)のデータに圧縮\n",
    "https://pandas.pydata.org/pandas-docs/stable/reference/api/pandas.DataFrame.resample.html"
   ]
  },
  {
   "cell_type": "code",
   "execution_count": null,
   "metadata": {},
   "outputs": [],
   "source": [
    "#１日ごとではなく、一週間ごと(1w)のデータに圧縮。格納値は平均値\n",
    "data.resample('1w').mean()"
   ]
  },
  {
   "cell_type": "markdown",
   "metadata": {},
   "source": [
    "#### - 線形補間\n",
    "https://pandas.pydata.org/pandas-docs/stable/reference/api/pandas.Series.interpolate.html\n",
    "<br>時刻が前後の値から値を予測する手法"
   ]
  },
  {
   "cell_type": "code",
   "execution_count": null,
   "metadata": {},
   "outputs": [],
   "source": [
    "data[\"val1\"].interpolate(method=\"time\", limit_direction=\"both\", inplace=True)"
   ]
  },
  {
   "cell_type": "markdown",
   "metadata": {},
   "source": [
    "#### - 前週対比\n",
    "https://pandas.pydata.org/pandas-docs/stable/reference/api/pandas.DataFrame.pct_change.html"
   ]
  },
  {
   "cell_type": "code",
   "execution_count": null,
   "metadata": {},
   "outputs": [],
   "source": [
    "a6_15 = a6_14.pct_change(1) + 1"
   ]
  },
  {
   "cell_type": "markdown",
   "metadata": {},
   "source": [
    "### - 月別の集計\n",
    "https://python.civic-apps.com/add-month-relativedelta/"
   ]
  },
  {
   "cell_type": "code",
   "execution_count": null,
   "metadata": {},
   "outputs": [],
   "source": [
    "# ! pip install python-dateutil\n",
    "from"
   ]
  },
  {
   "cell_type": "markdown",
   "metadata": {},
   "source": [
    "->[Index](#Index)"
   ]
  },
  {
   "cell_type": "markdown",
   "metadata": {},
   "source": [
    "## データ情報出力"
   ]
  },
  {
   "cell_type": "markdown",
   "metadata": {},
   "source": [
    "#### - data.info()\n",
    "https://pandas.pydata.org/pandas-docs/stable/reference/api/pandas.DataFrame.info.html"
   ]
  },
  {
   "cell_type": "code",
   "execution_count": null,
   "metadata": {
    "execution": {
     "iopub.status.busy": "2020-12-18T13:46:50.714029Z",
     "iopub.status.idle": "2020-12-18T13:46:50.714029Z",
     "shell.execute_reply": "2020-12-18T13:46:50.714029Z"
    }
   },
   "outputs": [],
   "source": [
    "data.info()"
   ]
  },
  {
   "cell_type": "markdown",
   "metadata": {},
   "source": [
    "#### - 基礎統計量\n",
    "https://pandas.pydata.org/pandas-docs/stable/reference/api/pandas.DataFrame.describe.html"
   ]
  },
  {
   "cell_type": "markdown",
   "metadata": {},
   "source": [
    "数値カラムの基礎統計量"
   ]
  },
  {
   "cell_type": "code",
   "execution_count": null,
   "metadata": {
    "execution": {
     "iopub.status.busy": "2020-12-18T13:46:50.714029Z",
     "iopub.status.idle": "2020-12-18T13:46:50.714029Z",
     "shell.execute_reply": "2020-12-18T13:46:50.714029Z"
    }
   },
   "outputs": [],
   "source": [
    "data.describe()"
   ]
  },
  {
   "cell_type": "markdown",
   "metadata": {},
   "source": [
    "数値カラム以外の基礎統計量"
   ]
  },
  {
   "cell_type": "code",
   "execution_count": null,
   "metadata": {
    "execution": {
     "iopub.status.busy": "2020-12-18T13:46:50.715030Z",
     "iopub.status.idle": "2020-12-18T13:46:50.715030Z",
     "shell.execute_reply": "2020-12-18T13:46:50.715030Z"
    }
   },
   "outputs": [],
   "source": [
    "data.describe(exclude = 'number')"
   ]
  },
  {
   "cell_type": "markdown",
   "metadata": {},
   "source": [
    "#### - 要素数"
   ]
  },
  {
   "cell_type": "code",
   "execution_count": null,
   "metadata": {
    "execution": {
     "iopub.status.busy": "2020-12-18T13:46:50.716031Z",
     "iopub.status.idle": "2020-12-18T13:46:50.716031Z",
     "shell.execute_reply": "2020-12-18T13:46:50.716031Z"
    }
   },
   "outputs": [],
   "source": [
    "data.size"
   ]
  },
  {
   "cell_type": "markdown",
   "metadata": {},
   "source": [
    "#### - 値の個数\n",
    "https://pandas.pydata.org/pandas-docs/stable/reference/api/pandas.Series.value_counts.html"
   ]
  },
  {
   "cell_type": "code",
   "execution_count": null,
   "metadata": {},
   "outputs": [],
   "source": [
    "data['name'].value_counts()"
   ]
  },
  {
   "cell_type": "code",
   "execution_count": null,
   "metadata": {},
   "outputs": [],
   "source": [
    "data.groupby(['name', 'score_name']).count()"
   ]
  },
  {
   "cell_type": "markdown",
   "metadata": {},
   "source": [
    "->[Index](#Index)"
   ]
  },
  {
   "cell_type": "markdown",
   "metadata": {},
   "source": [
    "## グラフ"
   ]
  },
  {
   "cell_type": "markdown",
   "metadata": {},
   "source": [
    "### - 円グラフ"
   ]
  },
  {
   "cell_type": "code",
   "execution_count": null,
   "metadata": {},
   "outputs": [],
   "source": [
    "smoker.plot.pie(figsize=(6, 6))"
   ]
  },
  {
   "cell_type": "markdown",
   "metadata": {},
   "source": [
    "### - 棒グラフ"
   ]
  },
  {
   "cell_type": "code",
   "execution_count": null,
   "metadata": {},
   "outputs": [],
   "source": [
    "dow.plot.bar()"
   ]
  },
  {
   "cell_type": "markdown",
   "metadata": {},
   "source": [
    "### - 積み上げ棒グラフ"
   ]
  },
  {
   "cell_type": "code",
   "execution_count": null,
   "metadata": {},
   "outputs": [],
   "source": [
    "dow.plot.bar(stacked=True)"
   ]
  },
  {
   "cell_type": "markdown",
   "metadata": {},
   "source": [
    "->[Index](#Index)"
   ]
  },
  {
   "cell_type": "markdown",
   "metadata": {},
   "source": [
    "## ファイル出力"
   ]
  },
  {
   "cell_type": "markdown",
   "metadata": {},
   "source": [
    "### csvファイルで保存\n",
    "https://pandas.pydata.org/pandas-docs/stable/reference/api/pandas.DataFrame.to_csv.html"
   ]
  },
  {
   "cell_type": "code",
   "execution_count": null,
   "metadata": {
    "execution": {
     "iopub.status.busy": "2020-12-18T13:46:50.719034Z",
     "iopub.status.idle": "2020-12-18T13:46:50.719034Z",
     "shell.execute_reply": "2020-12-18T13:46:50.719034Z"
    }
   },
   "outputs": [],
   "source": [
    "data.to_csv('test.csv',index=False)"
   ]
  },
  {
   "cell_type": "markdown",
   "metadata": {},
   "source": [
    "### pickleで保存"
   ]
  },
  {
   "cell_type": "code",
   "execution_count": null,
   "metadata": {},
   "outputs": [],
   "source": [
    "data.to_pickle(\"data.pkl\",index=False)"
   ]
  },
  {
   "cell_type": "markdown",
   "metadata": {},
   "source": [
    "->[Index](#Index)"
   ]
  },
  {
   "cell_type": "markdown",
   "metadata": {},
   "source": [
    "## テスト"
   ]
  },
  {
   "cell_type": "code",
   "execution_count": null,
   "metadata": {},
   "outputs": [],
   "source": [
    "pd.testing.assert_series_equal(a7_5, data.loc[ ('デキスギ', 2014, 'A')])"
   ]
  },
  {
   "cell_type": "markdown",
   "metadata": {},
   "source": [
    "->[Index](#Index)"
   ]
  },
  {
   "cell_type": "code",
   "execution_count": null,
   "metadata": {},
   "outputs": [],
   "source": [
    ">データ結合\n",
    "\n",
    "import pandas as pd\n",
    "\n",
    "# データ読込み\n",
    "customer_master=pd.read_csv('customer_master.csv')\n",
    "\n",
    "# データの頭出し\n",
    "customer_master.head()\n",
    "\n",
    "# データの統合\n",
    "transaction_1=pd.read_csv('transaction_1.csv')\n",
    "transaction_2=pd.read_csv('transaction_2.csv')\n",
    "transaction=pd.concat([transaction_1,transaction_2],ignore_index=True)\n",
    "\n",
    "# データの結合\n",
    "join_data=pd.merge(transaction_detail,transaction[[\"transaction_id\",\"price\",\"payment_date\",\"customer_id\"]],on=\"transaction_id\",how=\"left\")\n",
    "join_data=pd.merge(join_data,customer_master,on=\"customer_id\",how=\"left\")\n",
    "\n",
    "# 必要なデータ列の作成\n",
    "join_data[\"price\"]=join_data[\"quantity\"] * join_data[\"item_price\"]\n",
    "join_data[[\"quantity\",\"item_price\",\"price\"]].head()\n",
    "\n",
    "# データの検算\n",
    "# データの数の検算\n",
    "print(len(transaction_1)+len(transaction_2))\n",
    "print(len(transaction))\n",
    "\n",
    "#各種統計量の把握\n",
    "#欠損している値の個数\n",
    "join_data.isnull().sum()\n",
    "#欠損値チェック\n",
    "uriage_data.isnull().any(axis=0)\n",
    "\n",
    "#全体の数字感(標本数・平均値・標準偏差・最小値・四分位数・最大値)\n",
    "join_data.describe()\n",
    "\n",
    "# 合計値の検算\n",
    "print(join_data[\"price\"].sum())\n",
    "print(transaction[\"price\"].sum())\n",
    "\n",
    "#データの期間範囲\n",
    "print(join_data[\"payment_date\"].min())\n",
    "print(join_data[\"payment_date\"].max())\n",
    "\n",
    "#データの集計\n",
    "join_data.groupby(\"payment_month\").sum()[\"price\"]\n",
    "join_data.groupby([\"payment_month\",\"item_name\"]).sum()[[\"price\",\"quantity\"]]\n",
    "\n",
    "#pivot_tableを使ったデータ集計\n",
    "pd.pivot_table(join_data,index='item_name',columns=\"payment_month\",values=[\"price\",\"quantity\"],aggfunc=\"sum\")\n",
    "\n",
    "\n",
    "#graphの出力\n",
    "import matplotlib.pyplot as plt\n",
    "%matplotlib inline\n",
    "plt.plot(list(graph_data.index),graph_data[\"PC-A\"],label=\"PC-A\")\n",
    "plt.plot(list(graph_data.index),graph_data[\"PC-B\"],label=\"PC-B\")\n",
    "plt.plot(list(graph_data.index),graph_data[\"PC-C\"],label=\"PC-C\")\n",
    "plt.plot(list(graph_data.index),graph_data[\"PC-D\"],label=\"PC-D\")\n",
    "plt.legend()\n"
   ]
  },
  {
   "cell_type": "code",
   "execution_count": null,
   "metadata": {},
   "outputs": [],
   "source": [
    "> データ揺れの補正\n",
    "import pandas as pd\n",
    "\n",
    "# すべて大文字に変換\n",
    "uriage_data[\"item_name\"]=uriage_data[\"item_name\"].str.upper()\n",
    "\n",
    "# 半角スペースの削除\n",
    "uriage_data[\"item_name\"]=uriage_data[\"item_name\"].str.replace(\" \",\"\")\n",
    "\n",
    "# 全角スペースの削除\n",
    "uriage_data[\"item_name\"]=uriage_data[\"item_name\"].str.replace(\"　\",\"\")\n",
    "\n",
    "# 並べ替え\n",
    "uriage_data.sort_values(by=[\"item_name\"],ascending=True)\n",
    "\n",
    "# 重複のない項目の列挙\n",
    "print(pd.unique(uriage_data.item_name))\n",
    "\n",
    "# 欠損値の補完\n",
    "# 欠損値にフラグを立てる\n",
    "flg_is_null = uriage_data[\"item_price\"].isnull()\n",
    "\n",
    "# フラグの立った重複のない項目で以下を繰り返す\n",
    "for trg in list(uriage_data.loc[flg_is_null,\"item_name\"].unique()):\n",
    "\n",
    "　　# フラグが立っていない、ターゲットと同じ名前のレコードの金額の最大値をpriceとする\n",
    "    price = uriage_data.loc[~flg_is_null & (uriage_data[\"item_name\"]==trg),\"item_price\"].max()\n",
    "　　# フラグの立っている、ターゲットと同じ名前のレコードの金額にpriceを代入する\n",
    "    uriage_data[\"item_price\"].loc[flg_is_null & (uriage_data[\"item_name\"]==trg)]=price\n",
    "uriage_data.head()\n",
    "\n",
    "# 欠損値修正の検証\n",
    "for trg in list(uriage_data[\"item_name\"].sort_values().unique()):\n",
    "    flt_max= str(uriage_data.loc[uriage_data[\"item_name\"]==trg][\"item_price\"].unique().max())\n",
    "    flt_min= str(uriage_data.loc[uriage_data[\"item_name\"]==trg][\"item_price\"].unique().min())\n",
    "    \n",
    "    if flt_max!=flt_min:\n",
    "        print(trg + \" : \" + str(flt_max) + \" : \" + str(flt_min) + \" : \" + \"False\")\n",
    "    else:\n",
    "        print(trg + \" : \" + str(flt_max) + \" : \" + str(flt_min) + \" : \" + \"True\")\n",
    "\n",
    "# 日付の揺れを修正する\n",
    "flg_is_serial = kokyaku_data[\"登録日\"].astype(\"str\").str.isdigit()\n",
    "flg_is_serial.sum()\n",
    "fromSerial= pd.to_timedelta(kokyaku_data.loc[flg_is_serial,\"登録日\"].astype('float'),unit=\"D\") + pd.to_datetime(\"1900/01/01\")\n",
    "print(fromSerial)"
   ]
  },
  {
   "cell_type": "markdown",
   "metadata": {},
   "source": [
    "文字列の種別変換と値変換\n",
    "https://www.python.ambitious-engineer.com/archives/420"
   ]
  },
  {
   "cell_type": "markdown",
   "metadata": {},
   "source": [
    "文字列の半角判定"
   ]
  },
  {
   "cell_type": "code",
   "execution_count": null,
   "metadata": {},
   "outputs": [],
   "source": [
    "# 半角英数字 \n",
    "print(\"1a\".isalnum()) # True\n",
    "print(\"1a\".isalpha()) # False\n",
    " \n",
    "# 半角英字\n",
    "print(\"a\".isalnum()) # True\n",
    "print(\"a\".isalpha()) # True \n",
    " \n",
    "# 半角記号 \n",
    "print(\"!\".isalnum()) # False \n",
    "print(\"!\".isalpha()) # False \n",
    " \n",
    " \n",
    "# 全角\n",
    "print(\"あ\".isalnum()) # True\n",
    "print(\"あ\".isalpha()) # True \n",
    " \n",
    "# utf-8に変換\n",
    "# 半角英数字 \n",
    "print(\"1a\".encode('utf-8').isalnum()) # True\n",
    "print(\"1a\".encode('utf-8').isalpha()) # False\n",
    " \n",
    " \n",
    "# 半角英字\n",
    "print(\"1\".encode('utf-8').isalnum()) # True \n",
    "print(\"1\".encode('utf-8').isalpha()) # False\n",
    " \n",
    "# 半角記号\n",
    "print(\"!\".encode('utf-8').isalnum()) # False \n",
    "print(\"!\".encode('utf-8').isalpha()) # False\n",
    " \n",
    " \n",
    "# 全角文字\n",
    "print(\"あ\".encode('utf-8').isalnum()) # False \n",
    "print(\"あ\".encode('utf-8').isalpha()) # False "
   ]
  },
  {
   "cell_type": "markdown",
   "metadata": {},
   "source": [
    "文字列の数字判定"
   ]
  },
  {
   "cell_type": "code",
   "execution_count": null,
   "metadata": {},
   "outputs": [],
   "source": [
    "# 半角数字\n",
    "print(\"1\".isdigit()) # True\n",
    "print(\"1\".isdecimal()) # True\n",
    "print(\"1\".isnumeric()) # True\n",
    " \n",
    "# 半角数値(符号付き)\n",
    "print(\"0.01\".isdigit()) # False \n",
    "print(\"0.01\".isdecimal()) # False \n",
    "print(\"0.01\".isnumeric()) # False \n",
    "  \n",
    "# 半角数値(小数)\n",
    "print(\"0.01\".isdigit()) # False \n",
    "print(\"0.01\".isdecimal()) # False \n",
    "print(\"0.01\".isnumeric()) # False \n",
    " \n",
    "# U+0660を含む場合\n",
    "print(\"0٠01\".isdigit()) # True \n",
    "print(\"0٠01\".isdecimal()) # True \n",
    "print(\"0٠01\".isnumeric()) # True \n",
    " \n",
    "# 全角数字\n",
    "print(\"１\".isdigit()) # True\n",
    "print(\"１\".isdecimal()) # True\n",
    "print(\"１\".isnumeric()) # True\n",
    " \n",
    "# 全角漢数字\n",
    "print(\"百\".isdigit()) # False \n",
    "print(\"百\".isdecimal()) #  False\n",
    "print(\"百\".isnumeric()) # True\n",
    " \n",
    "# 全角ローマ数字\n",
    "print(\"Ⅳ\".isdigit()) # False \n",
    "print(\"Ⅳ\".isdecimal()) # False \n",
    "print(\"Ⅳ\".isnumeric()) # True"
   ]
  },
  {
   "cell_type": "markdown",
   "metadata": {},
   "source": [
    "文字列の数字変換"
   ]
  },
  {
   "cell_type": "code",
   "execution_count": null,
   "metadata": {},
   "outputs": [],
   "source": [
    "# 整数\n",
    "integer_str = \"100\"\n",
    "integer_num = int(integer_str)\n",
    "print(integer_num)\n",
    " \n",
    "# 小数\n",
    "decimal_str = \"1.55\"\n",
    "decimal_num = float(decimal_str)\n",
    "print(decimal_num)"
   ]
  },
  {
   "cell_type": "markdown",
   "metadata": {},
   "source": [
    "文字列の数字変換判定"
   ]
  },
  {
   "cell_type": "code",
   "execution_count": null,
   "metadata": {},
   "outputs": [],
   "source": [
    "def is_float_str(num_str, default=0):\n",
    "    try:\n",
    "        return {\"is_float\": True ,\"val\": float(num_str)}\n",
    "    except ValueError:\n",
    "        return {\"is_float\": False , \"val\": default}\n",
    "         \n",
    " \n",
    "print(is_float_str(\"1.5x\")) # 変換に失敗{'is_float': False, 'val': 0}\n",
    "print(is_float_str(\"-1.5\")) # 変換に成功{'is_float': True, 'val': -1.5}\n",
    "print(is_float_str(\"1E16\")) # 変換に成功{'is_float': True, 'val': 1e+16}\n"
   ]
  },
  {
   "cell_type": "markdown",
   "metadata": {},
   "source": [
    "全角 -> 半角"
   ]
  },
  {
   "cell_type": "code",
   "execution_count": null,
   "metadata": {},
   "outputs": [],
   "source": [
    "# 元の文字列\n",
    "text = \"！＂＃＄％＆＇（）＊＋，－．／０１２３４５６７８９：；＜＝＞？＠ＡＢＣＤＥＦＧＨＩＪＫＬＭＮＯＰＱＲＳＴＵＶＷＸＹＺ［＼］＾＿｀>？＠ａｂｃｄｅｆｇｈｉｊｋｌｍｎｏｐｑｒｓｔｕｖｗｘｙｚ｛｜｝～\"\n",
    "\n",
    "# 変換\n",
    "text.translate(str.maketrans({chr(0xFF01 + i): chr(0x21 + i) for i in range(94)}))\n",
    "\n",
    "# 結果\n",
    "# '!\"#$%&\\'()*+,-./0123456789:;<=>?@ABCDEFGHIJKLMNOPQRSTUVWXYZ[\\\\]^_`>?@abcdefghijklmnopqrstuvwxyz{|}~'"
   ]
  },
  {
   "cell_type": "code",
   "execution_count": null,
   "metadata": {},
   "outputs": [],
   "source": []
  },
  {
   "cell_type": "markdown",
   "metadata": {},
   "source": [
    "半角 -> 全角"
   ]
  },
  {
   "cell_type": "code",
   "execution_count": null,
   "metadata": {},
   "outputs": [],
   "source": [
    "# 元の文字列(\"と\\の記号は「\\\"」「\\\\」としてエスケープしています。\n",
    "text = \"!\\\"#$%&'()*+,-./0123456789:;<=>?@ABCDEFGHIJKLMNOPQRSTUVWXYZ[\\\\]^_`abcdefghijklmnopqrstuvwxyz{|}~\"\n",
    "\n",
    "# 変換\n",
    "text.translate(str.maketrans({chr(0x0021 + i): chr(0xFF01 + i) for i in range(94)}))\n",
    "\n",
    "# 結果\n",
    "# '！＂＃＄％＆＇（）＊＋，－．／０１２３４５６７８９：；＜＝＞？＠ＡＢＣＤＥＦＧＨＩＪＫＬＭＮＯＰＱＲＳＴＵＶＷＸＹＺ［＼］＾＿｀ａｂｃｄｅｆｇｈｉｊｋｌｍｎｏｐｑｒｓｔｕｖｗｘｙｚ｛｜｝～'"
   ]
  },
  {
   "cell_type": "markdown",
   "metadata": {},
   "source": [
    "translate()"
   ]
  },
  {
   "cell_type": "code",
   "execution_count": null,
   "metadata": {},
   "outputs": [],
   "source": [
    "text = \"abcdefg\"\n",
    "\n",
    "trans_table = str.maketrans({\"a\":\"A\", \"d\":\"D\"})\n",
    "text.translate(trans_table)\n",
    "\n",
    "# 結果\n",
    "# 'AbcDefg'"
   ]
  },
  {
   "cell_type": "code",
   "execution_count": 69,
   "metadata": {
    "execution": {
     "iopub.execute_input": "2021-01-07T17:08:42.175152Z",
     "iopub.status.busy": "2021-01-07T17:08:42.175152Z",
     "iopub.status.idle": "2021-01-07T17:08:42.189164Z",
     "shell.execute_reply": "2021-01-07T17:08:42.189164Z",
     "shell.execute_reply.started": "2021-01-07T17:08:42.175152Z"
    }
   },
   "outputs": [
    {
     "data": {
      "text/plain": [
       "'滝野川3-'"
      ]
     },
     "execution_count": 69,
     "metadata": {},
     "output_type": "execute_result"
    }
   ],
   "source": [
    "import re \n",
    "class tr_text:\n",
    "    \"\"\"\n",
    "        class explaination\n",
    "        zen_han : zenkaku -> hankaku\n",
    "        tr_areas: replace 丁目/番地/番/号\n",
    "        tr_company:s\n",
    "    \"\"\"\n",
    "    def __init__(self):\n",
    "        self=str(self)\n",
    "        pass\n",
    "    \n",
    "    def zen_han(self):\n",
    "        tbl_zen2han = str.maketrans({\n",
    "                    \"１\":\"1\",\"２\":\"2\",\"３\":\"3\",\"４\":\"4\",\"５\":\"5\",\"６\":\"6\",\"７\":\"7\",\"８\":\"8\",\"９\":\"9\",\"０\":\"0\",\n",
    "                     \"ア\":\"ｱ\",\"イ\":\"ｲ\",\"ウ\":\"ｳ\",\"エ\":\"ｴ\",\"オ\":\"ｵ\",\n",
    "                     \"カ\":\"ｶ\",\"キ\":\"ｷ\",\"ク\":\"ｸ\",\"ケ\":\"ｹ\",\"コ\":\"ｺ\",\n",
    "                     \"サ\":\"ｻ\",\"シ\":\"ｼ\",\"ス\":\"ｽ\",\"セ\":\"ｾ\",\"ソ\":\"ｿ\",\n",
    "                     \"タ\":\"ﾀ\",\"チ\":\"ﾁ\",\"ツ\":\"ﾂ\",\"テ\":\"ﾃ\",\"ト\":\"ﾄ\",\n",
    "                     \"ナ\":\"ﾅ\",\"ニ\":\"ﾆ\",\"ヌ\":\"ﾇ\",\"ネ\":\"ﾈ\",\"ノ\":\"ﾉ\",\n",
    "                     \"ハ\":\"ﾊ\",\"ヒ\":\"ﾋ\",\"フ\":\"ﾌ\",\"ヘ\":\"ﾍ\",\"ホ\":\"ﾎ\",\n",
    "                     \"マ\":\"ﾏ\",\"ミ\":\"ﾐ\",\"ム\":\"ﾑ\",\"メ\":\"ﾒ\",\"モ\":\"ﾓ\",\n",
    "                     \"ヤ\":\"ﾔ\",\"ユ\":\"ﾕ\",\"ヨ\":\"ﾖ\",\n",
    "                     \"ラ\":\"ﾗ\",\"リ\":\"ﾘ\",\"ル\":\"ﾙ\",\"レ\":\"ﾚ\",\"ロ\":\"ﾛ\",\n",
    "                     \"ワ\":\"ﾜ\",\"ヲ\":\"ｦ\",\"ン\":\"ﾝ\",\n",
    "                     \"Ａ\":\"A\",\"Ｂ\":\"B\",\"Ｃ\":\"C\",\"Ｄ\":\"D\",\"Ｅ\":\"E\",\"Ｆ\":\"F\",\"Ｇ\":\"G\",\n",
    "                     \"Ｈ\":\"H\",\"Ｉ\":\"I\",\"Ｊ\":\"J\",\"Ｋ\":\"K\",\"Ｌ\":\"L\",\"Ｍ\":\"M\",\"Ｎ\":\"N\",\n",
    "                     \"Ｏ\":\"O\",\"Ｐ\":\"P\",\"Ｑ\":\"Q\",\"Ｒ\":\"R\",\"Ｓ\":\"S\",\"Ｔ\":\"T\",\"Ｕ\":\"U\",\n",
    "                     \"Ｖ\":\"V\",\"Ｗ\":\"W\",\"Ｘ\":\"X\",\"Ｙ\":\"Y\",\"Ｚ\":\"Z\",\n",
    "                     \"ａ\":\"a\",\"ｂ\":\"b\",\"ｃ\":\"c\",\"ｄ\":\"d\",\"ｅ\":\"e\",\"ｆ\":\"f\",\"ｇ\":\"g\",\n",
    "                     \"ｈ\":\"h\",\"ｉ\":\"i\",\"ｊ\":\"j\",\"ｋ\":\"k\",\"ｌ\":\"l\",\"ｍ\":\"m\",\"ｎ\":\"n\",\n",
    "                     \"ｏ\":\"o\",\"ｐ\":\"p\",\"ｑ\":\"q\",\"ｒ\":\"r\",\"ｓ\":\"s\",\"ｔ\":\"t\",\"ｕ\":\"u\",\n",
    "                     \"ｖ\":\"v\",\"ｗ\":\"w\",\"ｘ\":\"x\",\"ｙ\":\"y\",\"ｚ\":\"z\",\n",
    "                     \"！\":\"!\",\"％\":\"%\",\"（\":\"(\",\"）\":\")\",\"＝\":\"=\",\"ー\":\"-\",\"＾\":\"^\",\n",
    "                     \"～\":\"~\",\"｜\":\"|\",\"、\":\",\",\"＜\":\"<\",\"。\":\".\",\"＞\":\">\",\n",
    "                     \"；\":\";\",\"：\":\":\",\"＋\":\"+\",\"＊\":\"*\",\n",
    "                     \"＠\":\"@\",\"‘\":\"`\",\"［\":\"[\",\"］\":\"]\",\"？\":\"?\",\"＿\":\"_\"})\n",
    "        return self.translate(tbl_zen2han)\n",
    "    \n",
    "    def tr_areas(self):\n",
    "        tbl_areas = {\"丁目\":\"-\",\"番地\":\"-\",\"番\":\"-\",\"号\":\"\"}\n",
    "        return re.sub('({})'.format('|'.join(map(re.escape, tbl_areas.keys()))), lambda m: tbl_areas[m.group()], self)\n",
    "    def tr_areas(self):\n",
    "        tbl_areas = {\"丁目\":\"-\",\"番地\":\"-\",\"番\":\"-\",\"号\":\";\"}\n",
    "        return re.sub('({})'.format('|'.join(map(re.escape, tbl_areas.keys()))), lambda m: tbl_areas[m.group()], self)\n",
    "    def tr_company(self):\n",
    "        tbl_company = {\"株式会社\":\"株\",\"番地\":\"-\",\"番\":\"-\",\"号\":\"\"}\n",
    "        return re.sub('({})'.format('|'.join(map(re.escape, tbl_company.keys()))), lambda m: tbl_company[m.group()], self)\n",
    "text= \"滝野川３丁目\"\n",
    "text = tr_text.zen_han(text)\n",
    "tr_text.tr_areas(text)"
   ]
  },
  {
   "cell_type": "code",
   "execution_count": 2,
   "metadata": {
    "execution": {
     "iopub.execute_input": "2021-01-07T16:11:34.371614Z",
     "iopub.status.busy": "2021-01-07T16:11:34.371614Z",
     "iopub.status.idle": "2021-01-07T16:11:34.374616Z",
     "shell.execute_reply": "2021-01-07T16:11:34.374616Z",
     "shell.execute_reply.started": "2021-01-07T16:11:34.371614Z"
    }
   },
   "outputs": [
    {
     "data": {
      "text/plain": [
       "'滝野川3丁'"
      ]
     },
     "execution_count": 2,
     "metadata": {},
     "output_type": "execute_result"
    }
   ],
   "source": [
    "text= \"滝野川３丁\"\n",
    "text.translate(trans_table)"
   ]
  },
  {
   "cell_type": "markdown",
   "metadata": {},
   "source": [
    "mapを使えばシリーズに対しても使える"
   ]
  },
  {
   "cell_type": "code",
   "execution_count": null,
   "metadata": {},
   "outputs": [],
   "source": [
    "train_data['地区'] .map(trtx.zen_han).head()"
   ]
  }
 ],
 "metadata": {
  "kernelspec": {
   "display_name": "Python 3",
   "language": "python",
   "name": "python3"
  },
  "language_info": {
   "codemirror_mode": {
    "name": "ipython",
    "version": 3
   },
   "file_extension": ".py",
   "mimetype": "text/x-python",
   "name": "python",
   "nbconvert_exporter": "python",
   "pygments_lexer": "ipython3",
   "version": "3.7.9"
  },
  "toc-autonumbering": false,
  "toc-showmarkdowntxt": false,
  "toc-showtags": false,
  "widgets": {
   "application/vnd.jupyter.widget-state+json": {
    "state": {},
    "version_major": 2,
    "version_minor": 0
   }
  }
 },
 "nbformat": 4,
 "nbformat_minor": 4
}
