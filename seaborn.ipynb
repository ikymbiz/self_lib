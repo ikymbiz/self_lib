{
 "cells": [
  {
   "cell_type": "markdown",
   "metadata": {},
   "source": [
    "# seaborn"
   ]
  },
  {
   "cell_type": "code",
   "execution_count": 24,
   "metadata": {
    "execution": {
     "iopub.execute_input": "2021-01-12T13:55:01.621519Z",
     "iopub.status.busy": "2021-01-12T13:55:01.621519Z",
     "iopub.status.idle": "2021-01-12T13:55:01.625522Z",
     "shell.execute_reply": "2021-01-12T13:55:01.625522Z",
     "shell.execute_reply.started": "2021-01-12T13:55:01.621519Z"
    }
   },
   "outputs": [],
   "source": [
    "%matplotlib inline\n",
    "import seaborn as sns\n",
    "import numpy as np\n",
    "from ipywidgets import interact, FloatSlider"
   ]
  },
  {
   "cell_type": "markdown",
   "metadata": {},
   "source": [
    "https://qiita.com/SaitoTsutomu/items/c79c9973a92e1e2c77a7"
   ]
  },
  {
   "cell_type": "code",
   "execution_count": 12,
   "metadata": {
    "execution": {
     "iopub.execute_input": "2021-01-12T13:50:13.172289Z",
     "iopub.status.busy": "2021-01-12T13:50:13.172289Z",
     "iopub.status.idle": "2021-01-12T13:50:13.176292Z",
     "shell.execute_reply": "2021-01-12T13:50:13.176292Z",
     "shell.execute_reply.started": "2021-01-12T13:50:13.172289Z"
    }
   },
   "outputs": [],
   "source": [
    "# テーマ\n",
    "def show_pal0(palette):\n",
    "    sns.palplot(sns.color_palette(palette, 24))\n",
    "    interact(show_pal0, palette='deep muted pastel bright dark colorblind'.split());"
   ]
  },
  {
   "cell_type": "code",
   "execution_count": 11,
   "metadata": {
    "execution": {
     "iopub.execute_input": "2021-01-12T13:49:48.892216Z",
     "iopub.status.busy": "2021-01-12T13:49:48.892216Z",
     "iopub.status.idle": "2021-01-12T13:49:48.896217Z",
     "shell.execute_reply": "2021-01-12T13:49:48.896217Z",
     "shell.execute_reply.started": "2021-01-12T13:49:48.892216Z"
    }
   },
   "outputs": [],
   "source": [
    "# 明度と彩度\n",
    "def show_pal1(l, s):\n",
    "    sns.palplot(sns.hls_palette(24, l=l, s=s))\n",
    "    interact(show_pal1, l=FloatSlider(0.6, max=1), s=FloatSlider(0.65, max=1));"
   ]
  },
  {
   "cell_type": "markdown",
   "metadata": {
    "execution": {
     "iopub.execute_input": "2021-01-12T13:52:55.915762Z",
     "iopub.status.busy": "2021-01-12T13:52:55.914762Z",
     "iopub.status.idle": "2021-01-12T13:52:55.917764Z",
     "shell.execute_reply": "2021-01-12T13:52:55.917764Z",
     "shell.execute_reply.started": "2021-01-12T13:52:55.915762Z"
    }
   },
   "source": [
    "## 色相カラーパレット"
   ]
  },
  {
   "cell_type": "code",
   "execution_count": 5,
   "metadata": {
    "execution": {
     "iopub.execute_input": "2021-01-12T13:48:11.563001Z",
     "iopub.status.busy": "2021-01-12T13:48:11.563001Z",
     "iopub.status.idle": "2021-01-12T13:48:11.636067Z",
     "shell.execute_reply": "2021-01-12T13:48:11.636067Z",
     "shell.execute_reply.started": "2021-01-12T13:48:11.563001Z"
    }
   },
   "outputs": [
    {
     "data": {
      "image/png": "[encoded data removed]",
      "text/plain": [
       "<Figure size 1728x72 with 1 Axes>"
      ]
     },
     "metadata": {
      "needs_background": "light"
     },
     "output_type": "display_data"
    }
   ],
   "source": [
    "sns.palplot(sns.hls_palette(24))"
   ]
  },
  {
   "cell_type": "code",
   "execution_count": 6,
   "metadata": {
    "execution": {
     "iopub.execute_input": "2021-01-12T13:48:33.405850Z",
     "iopub.status.busy": "2021-01-12T13:48:33.404849Z",
     "iopub.status.idle": "2021-01-12T13:48:33.478915Z",
     "shell.execute_reply": "2021-01-12T13:48:33.478915Z",
     "shell.execute_reply.started": "2021-01-12T13:48:33.405850Z"
    }
   },
   "outputs": [
    {
     "data": {
      "image/png": "[encoded data removed]",
      "text/plain": [
       "<Figure size 1728x72 with 1 Axes>"
      ]
     },
     "metadata": {
      "needs_background": "light"
     },
     "output_type": "display_data"
    }
   ],
   "source": [
    "sns.palplot(sns.hls_palette(24, l=0.2))"
   ]
  },
  {
   "cell_type": "code",
   "execution_count": 7,
   "metadata": {
    "execution": {
     "iopub.execute_input": "2021-01-12T13:48:34.813127Z",
     "iopub.status.busy": "2021-01-12T13:48:34.813127Z",
     "iopub.status.idle": "2021-01-12T13:48:34.884192Z",
     "shell.execute_reply": "2021-01-12T13:48:34.884192Z",
     "shell.execute_reply.started": "2021-01-12T13:48:34.813127Z"
    }
   },
   "outputs": [
    {
     "data": {
      "image/png": "[encoded data removed]",
      "text/plain": [
       "<Figure size 1728x72 with 1 Axes>"
      ]
     },
     "metadata": {
      "needs_background": "light"
     },
     "output_type": "display_data"
    }
   ],
   "source": [
    "sns.palplot(sns.hls_palette(24, s=0.2))"
   ]
  },
  {
   "cell_type": "code",
   "execution_count": 8,
   "metadata": {
    "execution": {
     "iopub.execute_input": "2021-01-12T13:49:12.605549Z",
     "iopub.status.busy": "2021-01-12T13:49:12.604547Z",
     "iopub.status.idle": "2021-01-12T13:49:12.679614Z",
     "shell.execute_reply": "2021-01-12T13:49:12.679614Z",
     "shell.execute_reply.started": "2021-01-12T13:49:12.605549Z"
    }
   },
   "outputs": [
    {
     "data": {
      "image/png": "[encoded data removed]",
      "text/plain": [
       "<Figure size 1728x72 with 1 Axes>"
      ]
     },
     "metadata": {
      "needs_background": "light"
     },
     "output_type": "display_data"
    }
   ],
   "source": [
    "sns.palplot(sns.hls_palette(24, l=0.5, s=1))"
   ]
  },
  {
   "cell_type": "code",
   "execution_count": 13,
   "metadata": {
    "execution": {
     "iopub.execute_input": "2021-01-12T13:51:03.951635Z",
     "iopub.status.busy": "2021-01-12T13:51:03.951635Z",
     "iopub.status.idle": "2021-01-12T13:51:04.058733Z",
     "shell.execute_reply": "2021-01-12T13:51:04.058733Z",
     "shell.execute_reply.started": "2021-01-12T13:51:03.951635Z"
    }
   },
   "outputs": [
    {
     "data": {
      "image/png": "[encoded data removed]",
      "text/plain": [
       "<Figure size 1728x72 with 1 Axes>"
      ]
     },
     "metadata": {
      "needs_background": "light"
     },
     "output_type": "display_data"
    }
   ],
   "source": [
    "sns.palplot(sns.color_palette(\"Set1\", 24))"
   ]
  },
  {
   "cell_type": "markdown",
   "metadata": {},
   "source": [
    "## カテゴリカラー"
   ]
  },
  {
   "cell_type": "code",
   "execution_count": 14,
   "metadata": {
    "execution": {
     "iopub.execute_input": "2021-01-12T13:51:33.270572Z",
     "iopub.status.busy": "2021-01-12T13:51:33.270572Z",
     "iopub.status.idle": "2021-01-12T13:51:33.336631Z",
     "shell.execute_reply": "2021-01-12T13:51:33.336631Z",
     "shell.execute_reply.started": "2021-01-12T13:51:33.270572Z"
    }
   },
   "outputs": [
    {
     "data": {
      "application/vnd.jupyter.widget-view+json": {
       "model_id": "3ffd93ad967f48d1bcb7051de81d388c",
       "version_major": 2,
       "version_minor": 0
      },
      "text/plain": [
       "interactive(children=(Dropdown(description='name', options=('Set1', 'Set2', 'Set3', 'Paired', 'Accent', 'Paste…"
      ]
     },
     "metadata": {},
     "output_type": "display_data"
    }
   ],
   "source": [
    "sns.choose_colorbrewer_palette('qualitative');"
   ]
  },
  {
   "cell_type": "code",
   "execution_count": 15,
   "metadata": {
    "execution": {
     "iopub.execute_input": "2021-01-12T13:51:47.679975Z",
     "iopub.status.busy": "2021-01-12T13:51:47.678973Z",
     "iopub.status.idle": "2021-01-12T13:51:47.750039Z",
     "shell.execute_reply": "2021-01-12T13:51:47.750039Z",
     "shell.execute_reply.started": "2021-01-12T13:51:47.679975Z"
    }
   },
   "outputs": [
    {
     "data": {
      "image/png": "[encoded data removed]",
      "text/plain": [
       "<Figure size 1728x72 with 1 Axes>"
      ]
     },
     "metadata": {
      "needs_background": "light"
     },
     "output_type": "display_data"
    }
   ],
   "source": [
    "flatui = [\"#9b59b6\", \"#3498db\", \"#95a5a6\", \"#e74c3c\", \"#34495e\", \"#2ecc71\"]\n",
    "sns.palplot(sns.color_palette(flatui, 24))"
   ]
  },
  {
   "cell_type": "markdown",
   "metadata": {},
   "source": [
    "## 連続カラーパレット"
   ]
  },
  {
   "cell_type": "code",
   "execution_count": 18,
   "metadata": {
    "execution": {
     "iopub.execute_input": "2021-01-12T13:54:05.478622Z",
     "iopub.status.busy": "2021-01-12T13:54:05.478622Z",
     "iopub.status.idle": "2021-01-12T13:54:05.549686Z",
     "shell.execute_reply": "2021-01-12T13:54:05.549686Z",
     "shell.execute_reply.started": "2021-01-12T13:54:05.478622Z"
    }
   },
   "outputs": [
    {
     "data": {
      "image/png": "[encoded data removed]",
      "text/plain": [
       "<Figure size 1728x72 with 1 Axes>"
      ]
     },
     "metadata": {
      "needs_background": "light"
     },
     "output_type": "display_data"
    }
   ],
   "source": [
    "sns.palplot(sns.color_palette(\"Blues\", 24))"
   ]
  },
  {
   "cell_type": "code",
   "execution_count": 17,
   "metadata": {
    "execution": {
     "iopub.execute_input": "2021-01-12T13:54:03.801098Z",
     "iopub.status.busy": "2021-01-12T13:54:03.801098Z",
     "iopub.status.idle": "2021-01-12T13:54:03.873163Z",
     "shell.execute_reply": "2021-01-12T13:54:03.873163Z",
     "shell.execute_reply.started": "2021-01-12T13:54:03.801098Z"
    }
   },
   "outputs": [
    {
     "data": {
      "image/png": "[encoded data removed]",
      "text/plain": [
       "<Figure size 1728x72 with 1 Axes>"
      ]
     },
     "metadata": {
      "needs_background": "light"
     },
     "output_type": "display_data"
    }
   ],
   "source": [
    "sns.palplot(sns.color_palette(\"Blues_d\", 24))"
   ]
  },
  {
   "cell_type": "code",
   "execution_count": 19,
   "metadata": {
    "execution": {
     "iopub.execute_input": "2021-01-12T13:54:07.661606Z",
     "iopub.status.busy": "2021-01-12T13:54:07.661606Z",
     "iopub.status.idle": "2021-01-12T13:54:07.731670Z",
     "shell.execute_reply": "2021-01-12T13:54:07.731670Z",
     "shell.execute_reply.started": "2021-01-12T13:54:07.661606Z"
    }
   },
   "outputs": [
    {
     "data": {
      "image/png": "[encoded data removed]",
      "text/plain": [
       "<Figure size 1728x72 with 1 Axes>"
      ]
     },
     "metadata": {
      "needs_background": "light"
     },
     "output_type": "display_data"
    }
   ],
   "source": [
    "sns.palplot(sns.color_palette(\"Blues_r\", 24))"
   ]
  },
  {
   "cell_type": "code",
   "execution_count": 20,
   "metadata": {
    "execution": {
     "iopub.execute_input": "2021-01-12T13:54:14.180040Z",
     "iopub.status.busy": "2021-01-12T13:54:14.179039Z",
     "iopub.status.idle": "2021-01-12T13:54:14.254106Z",
     "shell.execute_reply": "2021-01-12T13:54:14.254106Z",
     "shell.execute_reply.started": "2021-01-12T13:54:14.179039Z"
    }
   },
   "outputs": [
    {
     "data": {
      "application/vnd.jupyter.widget-view+json": {
       "model_id": "afbe02fc750b4e32b25ac3fc81e60755",
       "version_major": 2,
       "version_minor": 0
      },
      "text/plain": [
       "interactive(children=(Dropdown(description='name', options=('Greys', 'Reds', 'Greens', 'Blues', 'Oranges', 'Pu…"
      ]
     },
     "metadata": {},
     "output_type": "display_data"
    }
   ],
   "source": [
    "sns.choose_colorbrewer_palette('sequential');"
   ]
  },
  {
   "cell_type": "markdown",
   "metadata": {},
   "source": [
    "## cubehelix_palette カラーパレット"
   ]
  },
  {
   "cell_type": "code",
   "execution_count": 21,
   "metadata": {
    "execution": {
     "iopub.execute_input": "2021-01-12T13:54:30.557642Z",
     "iopub.status.busy": "2021-01-12T13:54:30.557642Z",
     "iopub.status.idle": "2021-01-12T13:54:30.628706Z",
     "shell.execute_reply": "2021-01-12T13:54:30.628706Z",
     "shell.execute_reply.started": "2021-01-12T13:54:30.557642Z"
    }
   },
   "outputs": [
    {
     "data": {
      "image/png": "[encoded data removed]",
      "text/plain": [
       "<Figure size 1728x72 with 1 Axes>"
      ]
     },
     "metadata": {
      "needs_background": "light"
     },
     "output_type": "display_data"
    }
   ],
   "source": [
    "sns.palplot(sns.color_palette(\"cubehelix\", 24))"
   ]
  },
  {
   "cell_type": "code",
   "execution_count": 22,
   "metadata": {
    "execution": {
     "iopub.execute_input": "2021-01-12T13:54:39.453870Z",
     "iopub.status.busy": "2021-01-12T13:54:39.452870Z",
     "iopub.status.idle": "2021-01-12T13:54:39.523933Z",
     "shell.execute_reply": "2021-01-12T13:54:39.523933Z",
     "shell.execute_reply.started": "2021-01-12T13:54:39.453870Z"
    }
   },
   "outputs": [
    {
     "data": {
      "image/png": "[encoded data removed]",
      "text/plain": [
       "<Figure size 1728x72 with 1 Axes>"
      ]
     },
     "metadata": {
      "needs_background": "light"
     },
     "output_type": "display_data"
    }
   ],
   "source": [
    "sns.palplot(sns.cubehelix_palette(24))"
   ]
  },
  {
   "cell_type": "code",
   "execution_count": 25,
   "metadata": {
    "execution": {
     "iopub.execute_input": "2021-01-12T13:55:05.503046Z",
     "iopub.status.busy": "2021-01-12T13:55:05.503046Z",
     "iopub.status.idle": "2021-01-12T13:55:05.717240Z",
     "shell.execute_reply": "2021-01-12T13:55:05.717240Z",
     "shell.execute_reply.started": "2021-01-12T13:55:05.503046Z"
    }
   },
   "outputs": [
    {
     "name": "stderr",
     "output_type": "stream",
     "text": [
      "c:\\users\\sirec\\anaconda3\\envs\\datascience\\lib\\site-packages\\seaborn\\_decorators.py:43: FutureWarning: Pass the following variable as a keyword arg: y. From version 0.12, the only valid positional argument will be `data`, and passing other arguments without an explicit keyword will result in an error or misinterpretation.\n",
      "  FutureWarning\n"
     ]
    },
    {
     "data": {
      "image/png": "[encoded data removed]",
      "text/plain": [
       "<Figure size 432x288 with 1 Axes>"
      ]
     },
     "metadata": {
      "needs_background": "light"
     },
     "output_type": "display_data"
    }
   ],
   "source": [
    "np.random.seed(1)\n",
    "x, y = np.random.multivariate_normal([0, 0], [[1, -.5], [-.5, 1]], size=300).T\n",
    "cmap = sns.cubehelix_palette(light=1, as_cmap=True)\n",
    "sns.kdeplot(x, y, cmap=cmap, shade=True);"
   ]
  },
  {
   "cell_type": "code",
   "execution_count": 26,
   "metadata": {
    "execution": {
     "iopub.execute_input": "2021-01-12T13:55:17.090806Z",
     "iopub.status.busy": "2021-01-12T13:55:17.090806Z",
     "iopub.status.idle": "2021-01-12T13:55:17.182889Z",
     "shell.execute_reply": "2021-01-12T13:55:17.182889Z",
     "shell.execute_reply.started": "2021-01-12T13:55:17.090806Z"
    }
   },
   "outputs": [
    {
     "data": {
      "application/vnd.jupyter.widget-view+json": {
       "model_id": "5bc88ab083bc405cb0b89fddb48a5b72",
       "version_major": 2,
       "version_minor": 0
      },
      "text/plain": [
       "interactive(children=(FloatSlider(value=0.0, description='start', max=1.0), FloatSlider(value=0.4, description…"
      ]
     },
     "metadata": {},
     "output_type": "display_data"
    }
   ],
   "source": [
    "def show_pal2(start, rot):\n",
    "    sns.palplot(sns.cubehelix_palette(24, start=start, rot=rot))\n",
    "interact(show_pal2, start=FloatSlider(max=1), rot=FloatSlider(0.4, max=1));"
   ]
  },
  {
   "cell_type": "markdown",
   "metadata": {},
   "source": [
    "## カスタム連続カラーパレット"
   ]
  },
  {
   "cell_type": "code",
   "execution_count": 27,
   "metadata": {
    "execution": {
     "iopub.execute_input": "2021-01-12T13:55:59.622357Z",
     "iopub.status.busy": "2021-01-12T13:55:59.621357Z",
     "iopub.status.idle": "2021-01-12T13:55:59.734459Z",
     "shell.execute_reply": "2021-01-12T13:55:59.734459Z",
     "shell.execute_reply.started": "2021-01-12T13:55:59.622357Z"
    }
   },
   "outputs": [
    {
     "data": {
      "image/png": "[encoded data removed]",
      "text/plain": [
       "<Figure size 1728x72 with 1 Axes>"
      ]
     },
     "metadata": {
      "needs_background": "light"
     },
     "output_type": "display_data"
    }
   ],
   "source": [
    "sns.palplot(sns.light_palette(\"blue\", 24))"
   ]
  },
  {
   "cell_type": "code",
   "execution_count": 28,
   "metadata": {
    "execution": {
     "iopub.execute_input": "2021-01-12T13:56:01.285870Z",
     "iopub.status.busy": "2021-01-12T13:56:01.284869Z",
     "iopub.status.idle": "2021-01-12T13:56:01.358935Z",
     "shell.execute_reply": "2021-01-12T13:56:01.358935Z",
     "shell.execute_reply.started": "2021-01-12T13:56:01.285870Z"
    }
   },
   "outputs": [
    {
     "data": {
      "image/png": "[encoded data removed]",
      "text/plain": [
       "<Figure size 1728x72 with 1 Axes>"
      ]
     },
     "metadata": {
      "needs_background": "light"
     },
     "output_type": "display_data"
    }
   ],
   "source": [
    "sns.palplot(sns.dark_palette(\"blue\", 24))"
   ]
  },
  {
   "cell_type": "markdown",
   "metadata": {
    "execution": {
     "iopub.execute_input": "2021-01-12T13:57:00.289023Z",
     "iopub.status.busy": "2021-01-12T13:57:00.289023Z",
     "iopub.status.idle": "2021-01-12T13:57:00.291025Z",
     "shell.execute_reply": "2021-01-12T13:57:00.291025Z",
     "shell.execute_reply.started": "2021-01-12T13:57:00.289023Z"
    }
   },
   "source": [
    "## 2色に分かれたカラーパレット"
   ]
  },
  {
   "cell_type": "code",
   "execution_count": 34,
   "metadata": {
    "execution": {
     "iopub.execute_input": "2021-01-12T13:57:10.381145Z",
     "iopub.status.busy": "2021-01-12T13:57:10.381145Z",
     "iopub.status.idle": "2021-01-12T13:57:10.453210Z",
     "shell.execute_reply": "2021-01-12T13:57:10.453210Z",
     "shell.execute_reply.started": "2021-01-12T13:57:10.381145Z"
    }
   },
   "outputs": [
    {
     "data": {
      "image/png": "[encoded data removed]",
      "text/plain": [
       "<Figure size 1728x72 with 1 Axes>"
      ]
     },
     "metadata": {
      "needs_background": "light"
     },
     "output_type": "display_data"
    }
   ],
   "source": [
    "sns.palplot(sns.color_palette(\"BrBG\", 24))"
   ]
  },
  {
   "cell_type": "code",
   "execution_count": 35,
   "metadata": {
    "execution": {
     "iopub.execute_input": "2021-01-12T13:57:16.677012Z",
     "iopub.status.busy": "2021-01-12T13:57:16.677012Z",
     "iopub.status.idle": "2021-01-12T13:57:16.749077Z",
     "shell.execute_reply": "2021-01-12T13:57:16.749077Z",
     "shell.execute_reply.started": "2021-01-12T13:57:16.677012Z"
    }
   },
   "outputs": [
    {
     "data": {
      "image/png": "[encoded data removed]",
      "text/plain": [
       "<Figure size 1728x72 with 1 Axes>"
      ]
     },
     "metadata": {
      "needs_background": "light"
     },
     "output_type": "display_data"
    }
   ],
   "source": [
    "sns.palplot(sns.color_palette(\"RdBu_r\", 24))"
   ]
  },
  {
   "cell_type": "code",
   "execution_count": 36,
   "metadata": {
    "execution": {
     "iopub.execute_input": "2021-01-12T13:57:20.533103Z",
     "iopub.status.busy": "2021-01-12T13:57:20.533103Z",
     "iopub.status.idle": "2021-01-12T13:57:20.606171Z",
     "shell.execute_reply": "2021-01-12T13:57:20.606171Z",
     "shell.execute_reply.started": "2021-01-12T13:57:20.533103Z"
    }
   },
   "outputs": [
    {
     "data": {
      "image/png": "[encoded data removed]",
      "text/plain": [
       "<Figure size 1728x72 with 1 Axes>"
      ]
     },
     "metadata": {
      "needs_background": "light"
     },
     "output_type": "display_data"
    }
   ],
   "source": [
    "sns.palplot(sns.color_palette(\"coolwarm\", 24))"
   ]
  },
  {
   "cell_type": "code",
   "execution_count": 37,
   "metadata": {
    "execution": {
     "iopub.execute_input": "2021-01-12T13:57:27.851173Z",
     "iopub.status.busy": "2021-01-12T13:57:27.851173Z",
     "iopub.status.idle": "2021-01-12T13:57:27.922237Z",
     "shell.execute_reply": "2021-01-12T13:57:27.922237Z",
     "shell.execute_reply.started": "2021-01-12T13:57:27.851173Z"
    }
   },
   "outputs": [
    {
     "data": {
      "application/vnd.jupyter.widget-view+json": {
       "model_id": "5fe31fdf8ead4e0a9e7a8e2c25b5516e",
       "version_major": 2,
       "version_minor": 0
      },
      "text/plain": [
       "interactive(children=(Dropdown(description='name', options=('RdBu', 'RdGy', 'PRGn', 'PiYG', 'BrBG', 'RdYlBu', …"
      ]
     },
     "metadata": {},
     "output_type": "display_data"
    }
   ],
   "source": [
    "sns.choose_colorbrewer_palette('diverging');"
   ]
  },
  {
   "cell_type": "code",
   "execution_count": 38,
   "metadata": {
    "execution": {
     "iopub.execute_input": "2021-01-12T13:57:53.650674Z",
     "iopub.status.busy": "2021-01-12T13:57:53.649673Z",
     "iopub.status.idle": "2021-01-12T13:57:53.727744Z",
     "shell.execute_reply": "2021-01-12T13:57:53.727744Z",
     "shell.execute_reply.started": "2021-01-12T13:57:53.650674Z"
    }
   },
   "outputs": [
    {
     "data": {
      "image/png": "[encoded data removed]",
      "text/plain": [
       "<Figure size 1728x72 with 1 Axes>"
      ]
     },
     "metadata": {
      "needs_background": "light"
     },
     "output_type": "display_data"
    }
   ],
   "source": [
    "sns.palplot(sns.diverging_palette(220, 20, n=24))"
   ]
  },
  {
   "cell_type": "code",
   "execution_count": 39,
   "metadata": {
    "execution": {
     "iopub.execute_input": "2021-01-12T13:58:03.550796Z",
     "iopub.status.busy": "2021-01-12T13:58:03.549795Z",
     "iopub.status.idle": "2021-01-12T13:58:03.628867Z",
     "shell.execute_reply": "2021-01-12T13:58:03.628867Z",
     "shell.execute_reply.started": "2021-01-12T13:58:03.550796Z"
    }
   },
   "outputs": [
    {
     "data": {
      "image/png": "[encoded data removed]",
      "text/plain": [
       "<Figure size 1728x72 with 1 Axes>"
      ]
     },
     "metadata": {
      "needs_background": "light"
     },
     "output_type": "display_data"
    }
   ],
   "source": [
    "sns.palplot(sns.diverging_palette(145, 280, s=85, l=25, n=24))"
   ]
  },
  {
   "cell_type": "code",
   "execution_count": 40,
   "metadata": {
    "execution": {
     "iopub.execute_input": "2021-01-12T13:58:09.326296Z",
     "iopub.status.busy": "2021-01-12T13:58:09.325296Z",
     "iopub.status.idle": "2021-01-12T13:58:09.403366Z",
     "shell.execute_reply": "2021-01-12T13:58:09.403366Z",
     "shell.execute_reply.started": "2021-01-12T13:58:09.326296Z"
    }
   },
   "outputs": [
    {
     "data": {
      "image/png": "[encoded data removed]",
      "text/plain": [
       "<Figure size 1728x72 with 1 Axes>"
      ]
     },
     "metadata": {
      "needs_background": "light"
     },
     "output_type": "display_data"
    }
   ],
   "source": [
    "sns.palplot(sns.diverging_palette(255, 133, l=60, n=24, center=\"dark\"))"
   ]
  },
  {
   "cell_type": "code",
   "execution_count": null,
   "metadata": {},
   "outputs": [],
   "source": []
  },
  {
   "cell_type": "code",
   "execution_count": 45,
   "metadata": {
    "execution": {
     "iopub.execute_input": "2021-01-12T14:00:41.684673Z",
     "iopub.status.busy": "2021-01-12T14:00:41.683673Z",
     "iopub.status.idle": "2021-01-12T14:00:41.687676Z",
     "shell.execute_reply": "2021-01-12T14:00:41.687676Z",
     "shell.execute_reply.started": "2021-01-12T14:00:41.684673Z"
    }
   },
   "outputs": [],
   "source": [
    "sns.set_palette(\"husl\")\n",
    "sns.set_theme(style=\"whitegrid\")\n",
    "sns.color_palette(\"hls\", 8)\n",
    "sns.set(context='talk',\n",
    "        style='ticks',\n",
    "        palette='muted')"
   ]
  },
  {
   "cell_type": "code",
   "execution_count": 46,
   "metadata": {
    "execution": {
     "iopub.execute_input": "2021-01-12T14:00:42.097047Z",
     "iopub.status.busy": "2021-01-12T14:00:42.097047Z",
     "iopub.status.idle": "2021-01-12T14:00:42.417339Z",
     "shell.execute_reply": "2021-01-12T14:00:42.417339Z",
     "shell.execute_reply.started": "2021-01-12T14:00:42.097047Z"
    }
   },
   "outputs": [
    {
     "name": "stdout",
     "output_type": "stream",
     "text": [
      "<class 'seaborn.axisgrid.FacetGrid'>\n",
      "<class 'matplotlib.figure.Figure'>\n",
      "<class 'numpy.ndarray'>\n",
      "<class 'list'>\n",
      "True\n"
     ]
    },
    {
     "data": {
      "image/png": "[encoded data removed]",
      "text/plain": [
       "<Figure size 288x288 with 4 Axes>"
      ]
     },
     "metadata": {},
     "output_type": "display_data"
    }
   ],
   "source": [
    "df = sns.load_dataset(\"anscombe\") # seabornに含まれるサンプルデータの一つを読み込み\n",
    "grid = sns.lmplot(x=\"x\", y=\"y\", col=\"dataset\", hue=\"dataset\", data=df,\n",
    "                  col_wrap=2, ci=None, palette=\"muted\", height=2,\n",
    "                  scatter_kws={\"s\": 50, \"alpha\": 1})\n",
    "\n",
    "print(type(grid))\n",
    "print(type(grid.fig))\n",
    "# <class 'seaborn.axisgrid.FacetGrid'>\n",
    "# <class 'matplotlib.figure.Figure'>\n",
    "\n",
    "# FacetGridは1D numpy arrayとして、FigureはリストとしてAxesを保持\n",
    "print(type(grid.axes))\n",
    "print(type(grid.fig.axes))\n",
    "# <class 'numpy.ndarray'>\n",
    "# <class 'list'>\n",
    "\n",
    "# 中身は同じ\n",
    "print(id(grid.fig.axes[0]) == id(grid.axes[0]))\n",
    "# True"
   ]
  },
  {
   "cell_type": "code",
   "execution_count": 47,
   "metadata": {
    "execution": {
     "iopub.execute_input": "2021-01-12T14:00:57.683306Z",
     "iopub.status.busy": "2021-01-12T14:00:57.683306Z",
     "iopub.status.idle": "2021-01-12T14:00:59.688127Z",
     "shell.execute_reply": "2021-01-12T14:00:59.688127Z",
     "shell.execute_reply.started": "2021-01-12T14:00:57.683306Z"
    }
   },
   "outputs": [
    {
     "name": "stdout",
     "output_type": "stream",
     "text": [
      "<class 'matplotlib.axes._subplots.AxesSubplot'>\n",
      "True\n",
      "True\n"
     ]
    },
    {
     "data": {
      "image/png": "[encoded data removed]",
      "text/plain": [
       "<Figure size 288x216 with 1 Axes>"
      ]
     },
     "metadata": {},
     "output_type": "display_data"
    }
   ],
   "source": [
    "# https://seaborn.pydata.org/examples/errorband_lineplots.html より\n",
    "sns.set(style=\"darkgrid\")\n",
    "plt.figure(figsize=(4, 3)) # デフォルトだと大きいので小さめに\n",
    "fmri = sns.load_dataset(\"fmri\")\n",
    "ax = sns.lineplot(x=\"timepoint\", y=\"signal\",\n",
    "                  hue=\"region\", style=\"event\",\n",
    "                  data=fmri)\n",
    "print(type(ax))\n",
    "# <class 'matplotlib.axes._subplots.AxesSubplot'>\n",
    "print(id(ax) == id(plt.gca()))\n",
    "# True\n",
    "print(id(ax.figure) == id(plt.gcf()))\n",
    "# True"
   ]
  },
  {
   "cell_type": "code",
   "execution_count": 48,
   "metadata": {
    "execution": {
     "iopub.execute_input": "2021-01-12T14:01:18.575560Z",
     "iopub.status.busy": "2021-01-12T14:01:18.575560Z",
     "iopub.status.idle": "2021-01-12T14:01:18.676652Z",
     "shell.execute_reply": "2021-01-12T14:01:18.676652Z",
     "shell.execute_reply.started": "2021-01-12T14:01:18.575560Z"
    }
   },
   "outputs": [
    {
     "data": {
      "text/plain": [
       "[(0.0, 3.0),\n",
       " Text(0, 0.5, 'y position'),\n",
       " (0.0, 3.0),\n",
       " Text(0.5, 0, 'x position'),\n",
       " None]"
      ]
     },
     "execution_count": 48,
     "metadata": {},
     "output_type": "execute_result"
    },
    {
     "data": {
      "image/png": "[encoded data removed]",
      "text/plain": [
       "<Figure size 432x288 with 1 Axes>"
      ]
     },
     "metadata": {},
     "output_type": "display_data"
    }
   ],
   "source": [
    "ax = plt.gca()\n",
    "ax.scatter(3*np.random.rand(30), 3*np.random.rand(30))\n",
    "ax.set(ylim=(0,3), ylabel='y position', xlim=(0,3), xlabel='x position', aspect='equal')\n",
    "\n",
    "# 以下と同じ\n",
    "# ax.set_ylim((0,3))\n",
    "# ax.set_ylabel('y position')\n",
    "# ax.set_xlim((0,3))\n",
    "# ax.set_xlabel('x position')\n",
    "# ax.set_aspect('equal')"
   ]
  },
  {
   "cell_type": "code",
   "execution_count": 49,
   "metadata": {
    "execution": {
     "iopub.execute_input": "2021-01-12T14:01:29.462161Z",
     "iopub.status.busy": "2021-01-12T14:01:29.462161Z",
     "iopub.status.idle": "2021-01-12T14:01:29.767439Z",
     "shell.execute_reply": "2021-01-12T14:01:29.767439Z",
     "shell.execute_reply.started": "2021-01-12T14:01:29.462161Z"
    }
   },
   "outputs": [
    {
     "data": {
      "text/plain": [
       "<seaborn.axisgrid.FacetGrid at 0x2172c725ec8>"
      ]
     },
     "execution_count": 49,
     "metadata": {},
     "output_type": "execute_result"
    },
    {
     "data": {
      "image/png": "[encoded data removed]",
      "text/plain": [
       "<Figure size 288x288 with 4 Axes>"
      ]
     },
     "metadata": {},
     "output_type": "display_data"
    }
   ],
   "source": [
    "sns.set(style=\"ticks\")\n",
    "df = sns.load_dataset(\"anscombe\")\n",
    "grid = sns.lmplot(x=\"x\", y=\"y\", col=\"dataset\", hue=\"dataset\", data=df,\n",
    "                  col_wrap=2, ci=None, palette=\"muted\", height=2,\n",
    "                  scatter_kws={\"s\": 50, \"alpha\": 1})\n",
    "grid.set(xlabel='xx', ylabel='yy')"
   ]
  },
  {
   "cell_type": "code",
   "execution_count": null,
   "metadata": {},
   "outputs": [],
   "source": []
  }
 ],
 "metadata": {
  "kernelspec": {
   "display_name": "Python 3",
   "language": "python",
   "name": "python3"
  },
  "language_info": {
   "codemirror_mode": {
    "name": "ipython",
    "version": 3
   },
   "file_extension": ".py",
   "mimetype": "text/x-python",
   "name": "python",
   "nbconvert_exporter": "python",
   "pygments_lexer": "ipython3",
   "version": "3.7.9"
  },
  "widgets": {
   "application/vnd.jupyter.widget-state+json": {
    "state": {
     "0060fe6f09cd41c5be3a09736c3e739b": {
      "model_module": "@jupyter-widgets/output",
      "model_module_version": "1.0.0",
      "model_name": "OutputModel",
      "state": {
       "layout": "IPY_MODEL_9252afadc6fe4ec7be008177fc4bc2d3",
       "outputs": [
        {
         "data": {
          "image/png": "iVBORw0KGgoAAAANSUhEUgAAAj8AAABICAYAAAAZFJRnAAAAOXRFWHRTb2Z0d2FyZQBNYXRwbG90bGliIHZlcnNpb24zLjMuMywgaHR0cHM6Ly9tYXRwbG90bGliLm9yZy/Il7ecAAAACXBIWXMAAAsTAAALEwEAmpwYAAACV0lEQVR4nO3aQYoaQRiG4eowR3C2nUvktLmO21xglg6oCwdEsrOVyn7IIsJUyq7veZYi8n/o4oV2qrUWAIAU33ofAADwP4kfACCK+AEAoogfACCK+AEAoogfACDKyyNv3mw2dZ7nVrd0d7/fe5/Q1O12631CMyNvK6WUZVl6n9DU9XrtfUJTo39/I+8b/bc5+r5lWT5qra+fX38ofuZ5Ltvt9uuuejKXy6X3CU2dz+feJzRzOp16n9DUfr/vfUJTo+87Ho+9T2hq5H273a73CU29v7/3PqGpw+Hw1y/QYy8AIIr4AQCiiB8AIIr4AQCiiB8AIIr4AQCiiB8AIIr4AQCiiB8AIIr4AQCiiB8AIIr4AQCiiB8AIIr4AQCiiB8AIIr4AQCiiB8AIIr4AQCiiB8AIIr4AQCiiB8AIIr4AQCiiB8AIIr4AQCiiB8AIIr4AQCiiB8AIIr4AQCiiB8AIIr4AQCiiB8AIIr4AQCiiB8AIIr4AQCiiB8AIIr4AQCiiB8AIIr4AQCiiB8AIIr4AQCiiB8AIIr4AQCiiB8AIIr4AQCiiB8AIIr4AQCiiB8AIIr4AQCiiB8AIIr4AQCiiB8AIIr4AQCiTLXWf3/zNP0upby1O6e7TSnlo/cRjYy8rRT71s6+9Rp5Wyn2rd33Wuvr5xdfHvyQt1rrjy866OlM0/Rr1H0jbyvFvrWzb71G3laKfaPy2AsAiCJ+AIAoj8bPzyZXPI+R9428rRT71s6+9Rp5Wyn2DemhPzwDAKydx14AQBTxAwBEET8AQBTxAwBEET8AQJQ/CXyHQd0GEAcAAAAASUVORK5CYII=\n",
          "text/plain": "<Figure size 720x72 with 1 Axes>"
         },
         "metadata": {
          "needs_background": "light"
         },
         "output_type": "display_data"
        }
       ]
      }
     },
     "009a8f0529cd4f85a32232c917222004": {
      "model_module": "@jupyter-widgets/controls",
      "model_module_version": "1.5.0",
      "model_name": "SliderStyleModel",
      "state": {
       "description_width": ""
      }
     },
     "0696955e27304f20932e484392598bdd": {
      "model_module": "@jupyter-widgets/base",
      "model_module_version": "1.2.0",
      "model_name": "LayoutModel",
      "state": {}
     },
     "0696f4638dca460387fae16bdcd524c7": {
      "model_module": "@jupyter-widgets/base",
      "model_module_version": "1.2.0",
      "model_name": "LayoutModel",
      "state": {}
     },
     "0f7ad3a0015d4df4b81ee07f41f8bb44": {
      "model_module": "@jupyter-widgets/base",
      "model_module_version": "1.2.0",
      "model_name": "LayoutModel",
      "state": {}
     },
     "18b523056962408dadfc65db447f1679": {
      "model_module": "@jupyter-widgets/controls",
      "model_module_version": "1.5.0",
      "model_name": "FloatSliderModel",
      "state": {
       "description": "h_pos",
       "layout": "IPY_MODEL_d1b05c29d3d04d808a779ade3f4988b8",
       "max": 360,
       "step": 0.1,
       "style": "IPY_MODEL_56ecaf235fed4d8491074f9f4cc34704",
       "value": 20
      }
     },
     "1cf19432b89b42ee9c34c7d5e729deed": {
      "model_module": "@jupyter-widgets/base",
      "model_module_version": "1.2.0",
      "model_name": "LayoutModel",
      "state": {}
     },
     "20c41504e4604ddab235869fe33912bf": {
      "model_module": "@jupyter-widgets/base",
      "model_module_version": "1.2.0",
      "model_name": "LayoutModel",
      "state": {}
     },
     "2396cc5e51ee4851b877f253fa32b621": {
      "model_module": "@jupyter-widgets/output",
      "model_module_version": "1.0.0",
      "model_name": "OutputModel",
      "state": {
       "layout": "IPY_MODEL_fb7cf135d19540ff90f528b47ef7eaab",
       "outputs": [
        {
         "data": {
          "image/png": "iVBORw0KGgoAAAANSUhEUgAAAx8AAABICAYAAACXx0h3AAAAOXRFWHRTb2Z0d2FyZQBNYXRwbG90bGliIHZlcnNpb24zLjMuMywgaHR0cHM6Ly9tYXRwbG90bGliLm9yZy/Il7ecAAAACXBIWXMAAAsTAAALEwEAmpwYAAAC+klEQVR4nO3bMWpUURiG4XPDbUwjahJEArEUrAJZhVaCIBZ2gttQl6CNpBGsXIGrcAOxiHZBGEQQxUaOG0jEkZzv5B6fp70z4f+qywuTqdZaAAAAWtvofQAAAPB/EB8AAECE+AAAACLEBwAAECE+AACACPEBAABEzOt8+OrGRt2d1/rKohxv3ex9QlPz5ufeJzR1eXWt9wnNbG9+7H1CWzc2e1/Q1JfjX71PaOrKpb3eJzS1mn/2PqGpyycnvU9oauR3u/f6so38bv/0tZTVjzqd9mytktid5/Jue+dcjrqI7j9+2fuEpnb2X/Q+oam7rx/2PqGZJ/uPep/QVH16q/cJTb198L33CU3du/2q9wlNvbn+ofcJTd159rz3CU2N/G73Xl+2kd/tB4dnP/OzKwAAIEJ8AAAAEeIDAACIEB8AAECE+AAAACLEBwAAECE+AACACPEBAABEiA8AACBCfAAAABHiAwAAiBAfAABAhPgAAAAixAcAABAhPgAAgAjxAQAARIgPAAAgQnwAAAAR4gMAAIgQHwAAQIT4AAAAIsQHAAAQIT4AAIAI8QEAAESIDwAAIEJ8AAAAEeIDAACIEB8AAECE+AAAACLEBwAAECE+AACACPEBAABEiA8AACBCfAAAABHiAwAAiBAfAABAhPgAAAAixAcAABAhPgAAgAjxAQAARIgPAAAgQnwAAAAR4gMAAIgQHwAAQIT4AAAAIsQHAAAQIT4AAIAI8QEAAESIDwAAIEJ8AAAAEeIDAACIEB8AAEDEVGv9+w9P07dSylG7c7rbKqWseh/RyMjbSrFv6exbrpG3lWLf0tm3XCNvK2X8fXu11u3THsxr/qGjWuvBORx0IU3T9H7UfSNvK8W+pbNvuUbeVop9S2ffco28rZTx9/2Jn10BAAAR4gMAAIhYNz4Om1xxcYy8b+Rtpdi3dPYt18jbSrFv6exbrpG3lTL+vjOt9Q/nAAAA/8rPrgAAgAjxAQAARIgPAAAgQnwAAAAR4gMAAIj4DXD2gxys15LWAAAAAElFTkSuQmCC\n",
          "text/plain": "<Figure size 1008x72 with 1 Axes>"
         },
         "metadata": {
          "needs_background": "light"
         },
         "output_type": "display_data"
        }
       ]
      }
     },
     "250fb1eb93584e468c23fa3933140d87": {
      "model_module": "@jupyter-widgets/base",
      "model_module_version": "1.2.0",
      "model_name": "LayoutModel",
      "state": {}
     },
     "25dba8c125354edc9ceb59482b8eb3de": {
      "model_module": "@jupyter-widgets/controls",
      "model_module_version": "1.5.0",
      "model_name": "FloatSliderModel",
      "state": {
       "description": "s",
       "layout": "IPY_MODEL_4e506a366adf4c95a18493ebef485d5f",
       "max": 99,
       "step": 0.1,
       "style": "IPY_MODEL_94477ab317114e509048af0564ac7c9e",
       "value": 75
      }
     },
     "27519602bfc4410b906f6c84f2b1ac4f": {
      "model_module": "@jupyter-widgets/controls",
      "model_module_version": "1.5.0",
      "model_name": "SliderStyleModel",
      "state": {
       "description_width": ""
      }
     },
     "2c0212bf8ffd4474a79b63694213ae46": {
      "model_module": "@jupyter-widgets/base",
      "model_module_version": "1.2.0",
      "model_name": "LayoutModel",
      "state": {}
     },
     "3313f5cfc1c445a0818af66ad815855c": {
      "model_module": "@jupyter-widgets/controls",
      "model_module_version": "1.5.0",
      "model_name": "FloatSliderModel",
      "state": {
       "description": "desat",
       "layout": "IPY_MODEL_a674f7f9a35a4e7bb12d26d82cf02c51",
       "max": 1,
       "step": 0.1,
       "style": "IPY_MODEL_d8eb476d614f4a0c84df92421dbde1a4",
       "value": 1
      }
     },
     "39723ef8bbf34788addb2fc1e8edde37": {
      "model_module": "@jupyter-widgets/controls",
      "model_module_version": "1.5.0",
      "model_name": "SliderStyleModel",
      "state": {
       "description_width": ""
      }
     },
     "3ffd93ad967f48d1bcb7051de81d388c": {
      "model_module": "@jupyter-widgets/controls",
      "model_module_version": "1.5.0",
      "model_name": "VBoxModel",
      "state": {
       "_dom_classes": [
        "widget-interact"
       ],
       "children": [
        "IPY_MODEL_621f02ea0bf34a9084319e5b41906992",
        "IPY_MODEL_ba47f52b1f80449f94f64d2271cd0939",
        "IPY_MODEL_ba25bb8672e445628457ad8dd1267646",
        "IPY_MODEL_2396cc5e51ee4851b877f253fa32b621"
       ],
       "layout": "IPY_MODEL_a942bbdb14824caabdae54b203d7455e"
      }
     },
     "4041127b417a4b5eb25fb12f41d09a5e": {
      "model_module": "@jupyter-widgets/controls",
      "model_module_version": "1.5.0",
      "model_name": "VBoxModel",
      "state": {
       "_dom_classes": [
        "widget-interact"
       ],
       "layout": "IPY_MODEL_20c41504e4604ddab235869fe33912bf"
      }
     },
     "424bd74c35474d35a36264cacf5c261c": {
      "model_module": "@jupyter-widgets/base",
      "model_module_version": "1.2.0",
      "model_name": "LayoutModel",
      "state": {}
     },
     "4678d65f807544cf9533a91171b310c0": {
      "model_module": "@jupyter-widgets/base",
      "model_module_version": "1.2.0",
      "model_name": "LayoutModel",
      "state": {}
     },
     "4e1520e5dd11423b886e8c08af5c3e8a": {
      "model_module": "@jupyter-widgets/base",
      "model_module_version": "1.2.0",
      "model_name": "LayoutModel",
      "state": {}
     },
     "4e506a366adf4c95a18493ebef485d5f": {
      "model_module": "@jupyter-widgets/base",
      "model_module_version": "1.2.0",
      "model_name": "LayoutModel",
      "state": {}
     },
     "4fc8ffac924a4fbaa42f1fe657ad94fe": {
      "model_module": "@jupyter-widgets/controls",
      "model_module_version": "1.5.0",
      "model_name": "DropdownModel",
      "state": {
       "_options_labels": [
        "RdBu",
        "RdGy",
        "PRGn",
        "PiYG",
        "BrBG",
        "RdYlBu",
        "RdYlGn",
        "Spectral"
       ],
       "description": "name",
       "index": 0,
       "layout": "IPY_MODEL_70b63e1b0d344fb8beeedd4d99239709",
       "style": "IPY_MODEL_ddf3626619c84c02b78ff43368b213df"
      }
     },
     "4fdd10c1daa746c7b5b622a5fea0dede": {
      "model_module": "@jupyter-widgets/base",
      "model_module_version": "1.2.0",
      "model_name": "LayoutModel",
      "state": {}
     },
     "51c4b59c2649400d800edfaf1ea64c94": {
      "model_module": "@jupyter-widgets/controls",
      "model_module_version": "1.5.0",
      "model_name": "SliderStyleModel",
      "state": {
       "description_width": ""
      }
     },
     "56ecaf235fed4d8491074f9f4cc34704": {
      "model_module": "@jupyter-widgets/controls",
      "model_module_version": "1.5.0",
      "model_name": "SliderStyleModel",
      "state": {
       "description_width": ""
      }
     },
     "579a9e3614c747ef83b3657a9723f32f": {
      "model_module": "@jupyter-widgets/controls",
      "model_module_version": "1.5.0",
      "model_name": "FloatSliderModel",
      "state": {
       "description": "desat",
       "layout": "IPY_MODEL_0f7ad3a0015d4df4b81ee07f41f8bb44",
       "max": 1,
       "step": 0.1,
       "style": "IPY_MODEL_f69dda0b0c8e4e349587d853e6f19737",
       "value": 1
      }
     },
     "59dcfcace2114a2f949e3db9cb967fb8": {
      "model_module": "@jupyter-widgets/base",
      "model_module_version": "1.2.0",
      "model_name": "LayoutModel",
      "state": {}
     },
     "5b3cd381835e48af842ab00a323dad86": {
      "model_module": "@jupyter-widgets/base",
      "model_module_version": "1.2.0",
      "model_name": "LayoutModel",
      "state": {}
     },
     "5bc88ab083bc405cb0b89fddb48a5b72": {
      "model_module": "@jupyter-widgets/controls",
      "model_module_version": "1.5.0",
      "model_name": "VBoxModel",
      "state": {
       "_dom_classes": [
        "widget-interact"
       ],
       "children": [
        "IPY_MODEL_a177a86629f3408ba6879b884111af45",
        "IPY_MODEL_ecf73e4c16c2484eb1396dc10b1a1583",
        "IPY_MODEL_7e7f270c4b9f403ab5438bf68ddbf8c5"
       ],
       "layout": "IPY_MODEL_71454e447b104457a47b7917efbc8c9b"
      }
     },
     "5fe31fdf8ead4e0a9e7a8e2c25b5516e": {
      "model_module": "@jupyter-widgets/controls",
      "model_module_version": "1.5.0",
      "model_name": "VBoxModel",
      "state": {
       "_dom_classes": [
        "widget-interact"
       ],
       "children": [
        "IPY_MODEL_4fc8ffac924a4fbaa42f1fe657ad94fe",
        "IPY_MODEL_808c057a9bf94a159d74c3e6cf72efc1",
        "IPY_MODEL_579a9e3614c747ef83b3657a9723f32f",
        "IPY_MODEL_bf64cfd683314fe4aa7c963514e32f3b",
        "IPY_MODEL_a25c995924cc4b40a798e1a89e3a9ba7"
       ],
       "layout": "IPY_MODEL_2c0212bf8ffd4474a79b63694213ae46"
      }
     },
     "621f02ea0bf34a9084319e5b41906992": {
      "model_module": "@jupyter-widgets/controls",
      "model_module_version": "1.5.0",
      "model_name": "DropdownModel",
      "state": {
       "_options_labels": [
        "Set1",
        "Set2",
        "Set3",
        "Paired",
        "Accent",
        "Pastel1",
        "Pastel2",
        "Dark2"
       ],
       "description": "name",
       "index": 0,
       "layout": "IPY_MODEL_7428301fe4a74c1386de36e1abbd026d",
       "style": "IPY_MODEL_f08e3448bb334abf9e833903c79fb22e"
      }
     },
     "687bab43b01147cab5d8b0d70fdfb67a": {
      "model_module": "@jupyter-widgets/controls",
      "model_module_version": "1.5.0",
      "model_name": "SliderStyleModel",
      "state": {
       "description_width": ""
      }
     },
     "6b69c749091f468abe6690701c8ecebd": {
      "model_module": "@jupyter-widgets/controls",
      "model_module_version": "1.5.0",
      "model_name": "DropdownModel",
      "state": {
       "_options_labels": [
        "regular",
        "reverse",
        "dark"
       ],
       "description": "variant",
       "index": 0,
       "layout": "IPY_MODEL_780e0842f466416584437bef176ed130",
       "style": "IPY_MODEL_6da0d5c2192647869d0198b6727b8cb4"
      }
     },
     "6da0d5c2192647869d0198b6727b8cb4": {
      "model_module": "@jupyter-widgets/controls",
      "model_module_version": "1.5.0",
      "model_name": "DescriptionStyleModel",
      "state": {
       "description_width": ""
      }
     },
     "6ee47594c3c242a8a2412cfff546c1af": {
      "model_module": "@jupyter-widgets/controls",
      "model_module_version": "1.5.0",
      "model_name": "DescriptionStyleModel",
      "state": {
       "description_width": ""
      }
     },
     "70b63e1b0d344fb8beeedd4d99239709": {
      "model_module": "@jupyter-widgets/base",
      "model_module_version": "1.2.0",
      "model_name": "LayoutModel",
      "state": {}
     },
     "71454e447b104457a47b7917efbc8c9b": {
      "model_module": "@jupyter-widgets/base",
      "model_module_version": "1.2.0",
      "model_name": "LayoutModel",
      "state": {}
     },
     "7428301fe4a74c1386de36e1abbd026d": {
      "model_module": "@jupyter-widgets/base",
      "model_module_version": "1.2.0",
      "model_name": "LayoutModel",
      "state": {}
     },
     "780e0842f466416584437bef176ed130": {
      "model_module": "@jupyter-widgets/base",
      "model_module_version": "1.2.0",
      "model_name": "LayoutModel",
      "state": {}
     },
     "7aede29571624bf286616788b548e19a": {
      "model_module": "@jupyter-widgets/controls",
      "model_module_version": "1.5.0",
      "model_name": "FloatSliderModel",
      "state": {
       "description": "h_neg",
       "layout": "IPY_MODEL_a90591f7b0ea4819938984b46b1b97bf",
       "max": 360,
       "step": 0.1,
       "style": "IPY_MODEL_ef26afbcc7eb4ca6bcee59725d62a9d4",
       "value": 220
      }
     },
     "7e7f270c4b9f403ab5438bf68ddbf8c5": {
      "model_module": "@jupyter-widgets/output",
      "model_module_version": "1.0.0",
      "model_name": "OutputModel",
      "state": {
       "layout": "IPY_MODEL_f1fd5e4b5d764a7b93295f3af612b7fb",
       "outputs": [
        {
         "data": {
          "image/png": "iVBORw0KGgoAAAANSUhEUgAABU0AAABICAYAAADCk9RBAAAAOXRFWHRTb2Z0d2FyZQBNYXRwbG90bGliIHZlcnNpb24zLjMuMywgaHR0cHM6Ly9tYXRwbG90bGliLm9yZy/Il7ecAAAACXBIWXMAAAsTAAALEwEAmpwYAAAD3klEQVR4nO3dP4pbZxTG4aPgBSTEbgaMN5HVpkzjXXgFAdcGL8BFOo/+XkmfizRvYYMFvtz5Ds/TahjOy9Uw1g8G78YYBQAAAADA/37b+gAAAAAAgJdENAUAAAAACKIpAAAAAEAQTQEAAAAAgmgKAAAAABBEUwAAAACA8OqRL/7zj9/H26entW7Z3v2+9QWrGvex9QmrGZ7d1Oybm33zujfeVlV1H733jd6/+to/Pz9/8+r+7G6Nn11V7/dmVdW9+eei7s/v1viX+73xtqr++zq/N5frqa63Zfe91x6Kpm+fnurD+39+zVUv0PVw2vqEVd2O561PWM1133dbVdVyuGx9wqqWw7L1Cau6HHvvW47XrU9Y1bnxvlPz9+bp1PfZVVUdG783q6pO59vWJ6zqcO7983c49d23b/7sns+9/915WHrv2196fy56Pvf+zP689N33fDlsfcKqDstx6xNWtb/stz5hNZ+/fPzha/48HwAAAAAgiKYAAAAAAEE0BQAAAAAIoikAAAAAQBBNAQAAAACCaAoAAAAAEERTAAAAAIAgmgIAAAAABNEUAAAAACCIpgAAAAAAQTQFAAAAAAiiKQAAAABAEE0BAAAAAIJoCgAAAAAQRFMAAAAAgCCaAgAAAAAE0RQAAAAAIIimAAAAAABBNAUAAAAACKIpAAAAAEAQTQEAAAAAgmgKAAAAABBEUwAAAACAIJoCAAAAAATRFAAAAAAgiKYAAAAAAEE0BQAAAAAIoikAAAAAQBBNAQAAAACCaAoAAAAAEERTAAAAAIAgmgIAAAAABNEUAAAAACCIpgAAAAAAQTQFAAAAAAiiKQAAAABAEE0BAAAAAIJoCgAAAAAQRFMAAAAAgCCaAgAAAAAE0RQAAAAAIIimAAAAAABBNAUAAAAACKIpAAAAAEAQTQEAAAAAgmgKAAAAABBEUwAAAACAIJoCAAAAAATRFAAAAAAgiKYAAAAAAEE0BQAAAAAIoikAAAAAQNiNMX7+i3e7r1X1ab1zNve6qv7b+oiVdN5WZd/s7JtX521V9s3Ovnl13lZl3+zsm1fnbVX2za7zvs7bquyb3bsxxpvvvfDqwW/0aYzx1y846EXa7Xb/dt3XeVuVfbOzb16dt1XZNzv75tV5W5V9s7NvXp23Vdk3u877Om+rsq8zf54PAAAAABBEUwAAAACA8Gg0/XuVK16Ozvs6b6uyb3b2zavztir7ZmffvDpvq7JvdvbNq/O2Kvtm13lf521V9rX10H8EBQAAAADQnT/PBwAAAAAIoikAAAAAQBBNAQAAAACCaAoAAAAAEERTAAAAAIDwDQnPJf1Gx6T9AAAAAElFTkSuQmCC\n",
          "text/plain": "<Figure size 1728x72 with 1 Axes>"
         },
         "metadata": {
          "needs_background": "light"
         },
         "output_type": "display_data"
        }
       ]
      }
     },
     "7eef53dee1ab492cba065804db46bf3a": {
      "model_module": "@jupyter-widgets/controls",
      "model_module_version": "1.5.0",
      "model_name": "FloatSliderModel",
      "state": {
       "description": "l",
       "layout": "IPY_MODEL_424bd74c35474d35a36264cacf5c261c",
       "max": 99,
       "step": 0.1,
       "style": "IPY_MODEL_687bab43b01147cab5d8b0d70fdfb67a",
       "value": 50
      }
     },
     "808c057a9bf94a159d74c3e6cf72efc1": {
      "model_module": "@jupyter-widgets/controls",
      "model_module_version": "1.5.0",
      "model_name": "IntSliderModel",
      "state": {
       "description": "n",
       "layout": "IPY_MODEL_0696955e27304f20932e484392598bdd",
       "max": 16,
       "min": 2,
       "style": "IPY_MODEL_27519602bfc4410b906f6c84f2b1ac4f",
       "value": 16
      }
     },
     "86ca9a5d92da420bbfa4386887c4e944": {
      "model_module": "@jupyter-widgets/controls",
      "model_module_version": "1.5.0",
      "model_name": "VBoxModel",
      "state": {
       "_dom_classes": [
        "widget-interact"
       ],
       "layout": "IPY_MODEL_b1168e4223c143dcabd374ba1f84ab5e"
      }
     },
     "888be281aa1241eaa1eda7d810eb46c9": {
      "model_module": "@jupyter-widgets/controls",
      "model_module_version": "1.5.0",
      "model_name": "SliderStyleModel",
      "state": {
       "description_width": ""
      }
     },
     "9252afadc6fe4ec7be008177fc4bc2d3": {
      "model_module": "@jupyter-widgets/base",
      "model_module_version": "1.2.0",
      "model_name": "LayoutModel",
      "state": {}
     },
     "94477ab317114e509048af0564ac7c9e": {
      "model_module": "@jupyter-widgets/controls",
      "model_module_version": "1.5.0",
      "model_name": "SliderStyleModel",
      "state": {
       "description_width": ""
      }
     },
     "a177a86629f3408ba6879b884111af45": {
      "model_module": "@jupyter-widgets/controls",
      "model_module_version": "1.5.0",
      "model_name": "FloatSliderModel",
      "state": {
       "description": "start",
       "layout": "IPY_MODEL_59dcfcace2114a2f949e3db9cb967fb8",
       "max": 1,
       "step": 0.1,
       "style": "IPY_MODEL_39723ef8bbf34788addb2fc1e8edde37"
      }
     },
     "a1bf6e9157bf404db28c121965c7e414": {
      "model_module": "@jupyter-widgets/controls",
      "model_module_version": "1.5.0",
      "model_name": "SliderStyleModel",
      "state": {
       "description_width": ""
      }
     },
     "a25c995924cc4b40a798e1a89e3a9ba7": {
      "model_module": "@jupyter-widgets/output",
      "model_module_version": "1.0.0",
      "model_name": "OutputModel",
      "state": {
       "layout": "IPY_MODEL_4fdd10c1daa746c7b5b622a5fea0dede",
       "outputs": [
        {
         "data": {
          "image/png": "iVBORw0KGgoAAAANSUhEUgAAA44AAABICAYAAAC5rqugAAAAOXRFWHRTb2Z0d2FyZQBNYXRwbG90bGliIHZlcnNpb24zLjMuMywgaHR0cHM6Ly9tYXRwbG90bGliLm9yZy/Il7ecAAAACXBIWXMAAAsTAAALEwEAmpwYAAADRklEQVR4nO3cz0rUURjH4ffnTKmJVKZtCoOEtm26gG6oRbfTNbWN1BYRRou0iIryz+hpL/rSkIfj7/Q8y2EY3u9iGD7DMEMpJQAAAOAyC60PAAAA4HoTjgAAAKSEIwAAACnhCAAAQEo4AgAAkBKOAAAApKbzPHlhcaVMltdq3dLcZHGx9QlVTW9MWp9QzdLNfrdFRCx3vm9p2vd3WIuTvvdNF4bWJ1QzidPWJ1Q1zE5an1BVOTlsfUJV5ajvfbPD49YnVDP73e+2iIjZ4az1CVUdnpy1PqGqvbOjg1LKxvnH5wrHyfJa3H3+8uquumbWNrdan1DV+oPV1idUs/XwdusTqnq6eaf1CVU9ubfS+oSqHq8ttz6hqvu35vooGZXV05+tT6hq+u1j6xOqmu3ttj6hquP3261PqOrr9ofWJ1Tz5e2n1idUtf9mv/UJVb37/Kv1CVW9+L574Zuv76/BAQAA+GfCEQAAgJRwBAAAICUcAQAASAlHAAAAUsIRAACAlHAEAAAgJRwBAABICUcAAABSwhEAAICUcAQAACAlHAEAAEgJRwAAAFLCEQAAgJRwBAAAICUcAQAASAlHAAAAUsIRAACAlHAEAAAgJRwBAABICUcAAABSwhEAAICUcAQAACAlHAEAAEgJRwAAAFLCEQAAgJRwBAAAICUcAQAASAlHAAAAUsIRAACAlHAEAAAgJRwBAABICUcAAABSwhEAAICUcAQAACAlHAEAAEgJRwAAAFLCEQAAgJRwBAAAICUcAQAASAlHAAAAUsIRAACAlHAEAAAgJRwBAABICUcAAABSwhEAAICUcAQAACAlHAEAAEgJRwAAAFLCEQAAgJRwBAAAICUcAQAASA2llL9/8jD8iIideuc0tx4RB62PqKTnbRH2jZ1949Xztgj7xs6+8ep5W4R9Y9f7vkellI3zD07nfJGdUsqzKzro2hmG4XWv+3reFmHf2Nk3Xj1vi7Bv7Owbr563Rdg3dr3vu4yfqgIAAJASjgAAAKTmDcdXVa64Pnre1/O2CPvGzr7x6nlbhH1jZ9949bwtwr6x633fheb6cxwAAAD+P36qCgAAQEo4AgAAkBKOAAAApIQjAAAAKeEIAABA6g8LA54FI1JKtwAAAABJRU5ErkJggg==\n",
          "text/plain": "<Figure size 1152x72 with 1 Axes>"
         },
         "metadata": {
          "needs_background": "light"
         },
         "output_type": "display_data"
        }
       ]
      }
     },
     "a674f7f9a35a4e7bb12d26d82cf02c51": {
      "model_module": "@jupyter-widgets/base",
      "model_module_version": "1.2.0",
      "model_name": "LayoutModel",
      "state": {}
     },
     "a8fdeb6c68b544899031d1c3e772b99c": {
      "model_module": "@jupyter-widgets/base",
      "model_module_version": "1.2.0",
      "model_name": "LayoutModel",
      "state": {}
     },
     "a90591f7b0ea4819938984b46b1b97bf": {
      "model_module": "@jupyter-widgets/base",
      "model_module_version": "1.2.0",
      "model_name": "LayoutModel",
      "state": {}
     },
     "a942bbdb14824caabdae54b203d7455e": {
      "model_module": "@jupyter-widgets/base",
      "model_module_version": "1.2.0",
      "model_name": "LayoutModel",
      "state": {}
     },
     "afbe02fc750b4e32b25ac3fc81e60755": {
      "model_module": "@jupyter-widgets/controls",
      "model_module_version": "1.5.0",
      "model_name": "VBoxModel",
      "state": {
       "_dom_classes": [
        "widget-interact"
       ],
       "children": [
        "IPY_MODEL_fe6cf6ff0c024a059a419cadb3c0b9aa",
        "IPY_MODEL_d5397adca1e94db7972d628ff19cbc11",
        "IPY_MODEL_3313f5cfc1c445a0818af66ad815855c",
        "IPY_MODEL_6b69c749091f468abe6690701c8ecebd",
        "IPY_MODEL_0060fe6f09cd41c5be3a09736c3e739b"
       ],
       "layout": "IPY_MODEL_a8fdeb6c68b544899031d1c3e772b99c"
      }
     },
     "b1168e4223c143dcabd374ba1f84ab5e": {
      "model_module": "@jupyter-widgets/base",
      "model_module_version": "1.2.0",
      "model_name": "LayoutModel",
      "state": {}
     },
     "b7dd1369696540a6b7e196a985a4953e": {
      "model_module": "@jupyter-widgets/base",
      "model_module_version": "1.2.0",
      "model_name": "LayoutModel",
      "state": {}
     },
     "b8232584ec04422187ec224e18e59b04": {
      "model_module": "@jupyter-widgets/controls",
      "model_module_version": "1.5.0",
      "model_name": "VBoxModel",
      "state": {
       "_dom_classes": [
        "widget-interact"
       ],
       "layout": "IPY_MODEL_4678d65f807544cf9533a91171b310c0"
      }
     },
     "ba25bb8672e445628457ad8dd1267646": {
      "model_module": "@jupyter-widgets/controls",
      "model_module_version": "1.5.0",
      "model_name": "FloatSliderModel",
      "state": {
       "description": "desat",
       "layout": "IPY_MODEL_5b3cd381835e48af842ab00a323dad86",
       "max": 1,
       "step": 0.1,
       "style": "IPY_MODEL_009a8f0529cd4f85a32232c917222004",
       "value": 1
      }
     },
     "ba47f52b1f80449f94f64d2271cd0939": {
      "model_module": "@jupyter-widgets/controls",
      "model_module_version": "1.5.0",
      "model_name": "IntSliderModel",
      "state": {
       "description": "n",
       "layout": "IPY_MODEL_1cf19432b89b42ee9c34c7d5e729deed",
       "max": 16,
       "min": 2,
       "style": "IPY_MODEL_51c4b59c2649400d800edfaf1ea64c94",
       "value": 14
      }
     },
     "bf64cfd683314fe4aa7c963514e32f3b": {
      "model_module": "@jupyter-widgets/controls",
      "model_module_version": "1.5.0",
      "model_name": "DropdownModel",
      "state": {
       "_options_labels": [
        "regular",
        "reverse"
       ],
       "description": "variant",
       "index": 1,
       "layout": "IPY_MODEL_b7dd1369696540a6b7e196a985a4953e",
       "style": "IPY_MODEL_fdecbf90d8bd4c95aa787c19bb9a67dc"
      }
     },
     "d1b05c29d3d04d808a779ade3f4988b8": {
      "model_module": "@jupyter-widgets/base",
      "model_module_version": "1.2.0",
      "model_name": "LayoutModel",
      "state": {}
     },
     "d5397adca1e94db7972d628ff19cbc11": {
      "model_module": "@jupyter-widgets/controls",
      "model_module_version": "1.5.0",
      "model_name": "IntSliderModel",
      "state": {
       "description": "n",
       "layout": "IPY_MODEL_0696f4638dca460387fae16bdcd524c7",
       "max": 18,
       "min": 2,
       "style": "IPY_MODEL_888be281aa1241eaa1eda7d810eb46c9",
       "value": 10
      }
     },
     "d8eb476d614f4a0c84df92421dbde1a4": {
      "model_module": "@jupyter-widgets/controls",
      "model_module_version": "1.5.0",
      "model_name": "SliderStyleModel",
      "state": {
       "description_width": ""
      }
     },
     "ddf3626619c84c02b78ff43368b213df": {
      "model_module": "@jupyter-widgets/controls",
      "model_module_version": "1.5.0",
      "model_name": "DescriptionStyleModel",
      "state": {
       "description_width": ""
      }
     },
     "ecf73e4c16c2484eb1396dc10b1a1583": {
      "model_module": "@jupyter-widgets/controls",
      "model_module_version": "1.5.0",
      "model_name": "FloatSliderModel",
      "state": {
       "description": "rot",
       "layout": "IPY_MODEL_4e1520e5dd11423b886e8c08af5c3e8a",
       "max": 1,
       "step": 0.1,
       "style": "IPY_MODEL_a1bf6e9157bf404db28c121965c7e414",
       "value": 0.4
      }
     },
     "ef26afbcc7eb4ca6bcee59725d62a9d4": {
      "model_module": "@jupyter-widgets/controls",
      "model_module_version": "1.5.0",
      "model_name": "SliderStyleModel",
      "state": {
       "description_width": ""
      }
     },
     "f08e3448bb334abf9e833903c79fb22e": {
      "model_module": "@jupyter-widgets/controls",
      "model_module_version": "1.5.0",
      "model_name": "DescriptionStyleModel",
      "state": {
       "description_width": ""
      }
     },
     "f1fd5e4b5d764a7b93295f3af612b7fb": {
      "model_module": "@jupyter-widgets/base",
      "model_module_version": "1.2.0",
      "model_name": "LayoutModel",
      "state": {}
     },
     "f69dda0b0c8e4e349587d853e6f19737": {
      "model_module": "@jupyter-widgets/controls",
      "model_module_version": "1.5.0",
      "model_name": "SliderStyleModel",
      "state": {
       "description_width": ""
      }
     },
     "fb7cf135d19540ff90f528b47ef7eaab": {
      "model_module": "@jupyter-widgets/base",
      "model_module_version": "1.2.0",
      "model_name": "LayoutModel",
      "state": {}
     },
     "fdecbf90d8bd4c95aa787c19bb9a67dc": {
      "model_module": "@jupyter-widgets/controls",
      "model_module_version": "1.5.0",
      "model_name": "DescriptionStyleModel",
      "state": {
       "description_width": ""
      }
     },
     "fe6cf6ff0c024a059a419cadb3c0b9aa": {
      "model_module": "@jupyter-widgets/controls",
      "model_module_version": "1.5.0",
      "model_name": "DropdownModel",
      "state": {
       "_options_labels": [
        "Greys",
        "Reds",
        "Greens",
        "Blues",
        "Oranges",
        "Purples",
        "BuGn",
        "BuPu",
        "GnBu",
        "OrRd",
        "PuBu",
        "PuRd",
        "RdPu",
        "YlGn",
        "PuBuGn",
        "YlGnBu",
        "YlOrBr",
        "YlOrRd"
       ],
       "description": "name",
       "index": 0,
       "layout": "IPY_MODEL_250fb1eb93584e468c23fa3933140d87",
       "style": "IPY_MODEL_6ee47594c3c242a8a2412cfff546c1af"
      }
     }
    },
    "version_major": 2,
    "version_minor": 0
   }
  }
 },
 "nbformat": 4,
 "nbformat_minor": 4
}
