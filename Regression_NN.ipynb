{
 "cells": [
  {
   "cell_type": "markdown",
   "metadata": {},
   "source": [
    "# Regression by NN"
   ]
  },
  {
   "cell_type": "markdown",
   "metadata": {},
   "source": [
    "### Import"
   ]
  },
  {
   "cell_type": "code",
   "execution_count": 82,
   "metadata": {
    "execution": {
     "iopub.execute_input": "2021-01-02T17:16:54.311769Z",
     "iopub.status.busy": "2021-01-02T17:16:54.311769Z",
     "iopub.status.idle": "2021-01-02T17:16:54.313771Z",
     "shell.execute_reply": "2021-01-02T17:16:54.313771Z",
     "shell.execute_reply.started": "2021-01-02T17:16:54.311769Z"
    }
   },
   "outputs": [],
   "source": [
    "import numpy as np\n",
    "import matplotlib.pyplot as plt\n",
    "\n",
    "from mpl_toolkits.mplot3d import Axes3D"
   ]
  },
  {
   "cell_type": "markdown",
   "metadata": {},
   "source": []
  },
  {
   "cell_type": "markdown",
   "metadata": {},
   "source": [
    "### 訓練データ（ランダムなサンプル）作成"
   ]
  },
  {
   "cell_type": "code",
   "execution_count": 128,
   "metadata": {
    "execution": {
     "iopub.execute_input": "2021-01-02T17:25:31.872037Z",
     "iopub.status.busy": "2021-01-02T17:25:31.872037Z",
     "iopub.status.idle": "2021-01-02T17:25:31.875043Z",
     "shell.execute_reply": "2021-01-02T17:25:31.875043Z",
     "shell.execute_reply.started": "2021-01-02T17:25:31.872037Z"
    }
   },
   "outputs": [],
   "source": [
    "# sample\n",
    "observations = 1000\n",
    "xs = np.random.uniform(low=-10,high=10,size=(observations,1))\n",
    "zs = np.random.uniform(low=-10,high=10,size=(observations,1))\n",
    "\n",
    "inputs = np.column_stack((xs,zs))"
   ]
  },
  {
   "cell_type": "code",
   "execution_count": 129,
   "metadata": {
    "execution": {
     "iopub.execute_input": "2021-01-02T17:25:32.221355Z",
     "iopub.status.busy": "2021-01-02T17:25:32.221355Z",
     "iopub.status.idle": "2021-01-02T17:25:32.223359Z",
     "shell.execute_reply": "2021-01-02T17:25:32.223359Z",
     "shell.execute_reply.started": "2021-01-02T17:25:32.221355Z"
    }
   },
   "outputs": [
    {
     "name": "stdout",
     "output_type": "stream",
     "text": [
      "(1000, 1)\n",
      "(1000, 1)\n",
      "(1000, 2)\n"
     ]
    }
   ],
   "source": [
    "print(xs.shape)\n",
    "print(zs.shape)\n",
    "print(inputs.shape)"
   ]
  },
  {
   "cell_type": "markdown",
   "metadata": {},
   "source": [
    "### ターゲットの作成"
   ]
  },
  {
   "cell_type": "code",
   "execution_count": 130,
   "metadata": {
    "execution": {
     "iopub.execute_input": "2021-01-02T17:25:32.556660Z",
     "iopub.status.busy": "2021-01-02T17:25:32.556660Z",
     "iopub.status.idle": "2021-01-02T17:25:32.559663Z",
     "shell.execute_reply": "2021-01-02T17:25:32.559663Z",
     "shell.execute_reply.started": "2021-01-02T17:25:32.556660Z"
    }
   },
   "outputs": [
    {
     "name": "stdout",
     "output_type": "stream",
     "text": [
      "(1000, 1)\n"
     ]
    }
   ],
   "source": [
    "# sample\n",
    "noise = np.random.uniform(low=-1,high=1,size=(observations,1))\n",
    "targets = 2*xs - 3*zs + 5 + noise\n",
    "print(targets.shape)"
   ]
  },
  {
   "cell_type": "markdown",
   "metadata": {},
   "source": [
    "### 訓練データのプロット\n",
    "散布図をみて、線形の関係があることを確認する"
   ]
  },
  {
   "cell_type": "code",
   "execution_count": 131,
   "metadata": {
    "execution": {
     "iopub.execute_input": "2021-01-02T17:25:34.244138Z",
     "iopub.status.busy": "2021-01-02T17:25:34.243137Z",
     "iopub.status.idle": "2021-01-02T17:25:34.246140Z",
     "shell.execute_reply": "2021-01-02T17:25:34.246140Z",
     "shell.execute_reply.started": "2021-01-02T17:25:34.244138Z"
    }
   },
   "outputs": [],
   "source": [
    "# # targets = targets.reshape(observations,1)\n",
    "# targets = np.array(targets)\n",
    "\n",
    "# fig = plt.figure()\n",
    "# ax = fig.add_subplot(111,projection = '3d')\n",
    "\n",
    "# ax.plot(xs,zs,targets)\n",
    "\n",
    "# ax.set_xlabel('xs')\n",
    "# ax.set_ylabel('zs')\n",
    "# ax.set_zlabel('Targets')\n",
    "\n",
    "# ax.view_init(azim = 100)\n",
    "\n",
    "# plt.show()\n"
   ]
  },
  {
   "cell_type": "markdown",
   "metadata": {},
   "source": [
    "### 変数の初期値の設定\n",
    " - 重み\n",
    " - バイアス"
   ]
  },
  {
   "cell_type": "code",
   "execution_count": 132,
   "metadata": {
    "execution": {
     "iopub.execute_input": "2021-01-02T17:25:35.588976Z",
     "iopub.status.busy": "2021-01-02T17:25:35.587975Z",
     "iopub.status.idle": "2021-01-02T17:25:35.591978Z",
     "shell.execute_reply": "2021-01-02T17:25:35.591978Z",
     "shell.execute_reply.started": "2021-01-02T17:25:35.588976Z"
    }
   },
   "outputs": [
    {
     "name": "stdout",
     "output_type": "stream",
     "text": [
      "[[-0.06950561]\n",
      " [ 0.09214536]]\n",
      "[-0.07730701]\n"
     ]
    }
   ],
   "source": [
    "# sample\n",
    "init_range = 0.1\n",
    "\n",
    "# np.random.seed(0.1)\n",
    "weights = np.random.uniform(low = -init_range, high = init_range, size = (2,1))\n",
    "biases =  np.random.uniform(low = -init_range, high = init_range, size = 1)\n",
    "\n",
    "print(weights)\n",
    "print(biases)"
   ]
  },
  {
   "cell_type": "markdown",
   "metadata": {},
   "source": [
    "### 学習率の設定"
   ]
  },
  {
   "cell_type": "code",
   "execution_count": 133,
   "metadata": {
    "execution": {
     "iopub.execute_input": "2021-01-02T17:25:36.980030Z",
     "iopub.status.busy": "2021-01-02T17:25:36.979029Z",
     "iopub.status.idle": "2021-01-02T17:25:36.982032Z",
     "shell.execute_reply": "2021-01-02T17:25:36.982032Z",
     "shell.execute_reply.started": "2021-01-02T17:25:36.980030Z"
    }
   },
   "outputs": [],
   "source": [
    "# 勾配降下法で調整する\n",
    "learning_rate = 0.02"
   ]
  },
  {
   "cell_type": "markdown",
   "metadata": {},
   "source": [
    "### モデルの訓練"
   ]
  },
  {
   "cell_type": "code",
   "execution_count": 137,
   "metadata": {
    "execution": {
     "iopub.execute_input": "2021-01-02T17:26:09.344068Z",
     "iopub.status.busy": "2021-01-02T17:26:09.344068Z",
     "iopub.status.idle": "2021-01-02T17:26:09.366088Z",
     "shell.execute_reply": "2021-01-02T17:26:09.366088Z",
     "shell.execute_reply.started": "2021-01-02T17:26:09.344068Z"
    }
   },
   "outputs": [],
   "source": [
    "for i in range(100):\n",
    "    outputs = np.dot(inputs,weights) + biases\n",
    "    deltas = outputs -targets\n",
    "    \n",
    "    loss = np.sum(deltas **2) / 2 / observations\n",
    "    \n",
    "    print(loss)\n",
    "    \n",
    "    deltas_scaled = deltas / observations\n",
    "    \n",
    "    weights = weights - learning_rate * np.dot(inputs.T, deltas_scaled)\n",
    "    biases = biases - learning_rate * np.sum(deltas_scaled)"
   ]
  },
  {
   "cell_type": "markdown",
   "metadata": {},
   "source": [
    "### 重みとバイアスの出力"
   ]
  },
  {
   "cell_type": "code",
   "execution_count": 138,
   "metadata": {
    "execution": {
     "iopub.execute_input": "2021-01-02T17:26:10.643321Z",
     "iopub.status.busy": "2021-01-02T17:26:10.642320Z",
     "iopub.status.idle": "2021-01-02T17:26:10.645322Z",
     "shell.execute_reply": "2021-01-02T17:26:10.645322Z",
     "shell.execute_reply.started": "2021-01-02T17:26:10.643321Z"
    }
   },
   "outputs": [
    {
     "name": "stdout",
     "output_type": "stream",
     "text": [
      "[[ 2.00374274]\n",
      " [-3.00204889]] [4.98895799]\n"
     ]
    }
   ],
   "source": [
    "print(weights,biases)"
   ]
  },
  {
   "cell_type": "markdown",
   "metadata": {},
   "source": [
    "### ターゲットと比較する"
   ]
  },
  {
   "cell_type": "code",
   "execution_count": 127,
   "metadata": {
    "execution": {
     "iopub.execute_input": "2021-01-02T17:25:17.019924Z",
     "iopub.status.busy": "2021-01-02T17:25:17.019924Z",
     "iopub.status.idle": "2021-01-02T17:25:17.022927Z",
     "shell.execute_reply": "2021-01-02T17:25:17.022927Z",
     "shell.execute_reply.started": "2021-01-02T17:25:17.019924Z"
    }
   },
   "outputs": [
    {
     "name": "stdout",
     "output_type": "stream",
     "text": [
      "[-0.00031451]\n",
      "[-0.00073087]\n",
      "[-0.67110148]\n"
     ]
    }
   ],
   "source": [
    "#100回\n",
    "# targets = 2*xs - 3*zs + 5 + noise\n",
    "print(abs(weights[0]) - 2)\n",
    "print(abs(weights[1]) - 3)\n",
    "print(abs(biases) - 5)"
   ]
  },
  {
   "cell_type": "markdown",
   "metadata": {},
   "source": [
    "### 最終的な出力とターゲットのグラフ"
   ]
  },
  {
   "cell_type": "code",
   "execution_count": 142,
   "metadata": {
    "execution": {
     "iopub.execute_input": "2021-01-02T17:28:26.103368Z",
     "iopub.status.busy": "2021-01-02T17:28:26.103368Z",
     "iopub.status.idle": "2021-01-02T17:28:26.167426Z",
     "shell.execute_reply": "2021-01-02T17:28:26.167426Z",
     "shell.execute_reply.started": "2021-01-02T17:28:26.103368Z"
    }
   },
   "outputs": [
    {
     "data": {
      "text/plain": [
       "<function matplotlib.pyplot.show(close=None, block=None)>"
      ]
     },
     "execution_count": 142,
     "metadata": {},
     "output_type": "execute_result"
    },
    {
     "data": {
      "image/png": "[encoded data removed]",
      "text/plain": [
       "<Figure size 432x288 with 1 Axes>"
      ]
     },
     "metadata": {
      "needs_background": "light"
     },
     "output_type": "display_data"
    }
   ],
   "source": [
    "plt.plot(outputs,targets)\n",
    "plt.show"
   ]
  }
 ],
 "metadata": {
  "kernelspec": {
   "display_name": "Python 3",
   "language": "python",
   "name": "python3"
  },
  "language_info": {
   "codemirror_mode": {
    "name": "ipython",
    "version": 3
   },
   "file_extension": ".py",
   "mimetype": "text/x-python",
   "name": "python",
   "nbconvert_exporter": "python",
   "pygments_lexer": "ipython3",
   "version": "3.7.9"
  }
 },
 "nbformat": 4,
 "nbformat_minor": 4
}
