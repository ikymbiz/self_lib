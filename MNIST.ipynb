{
 "cells": [
  {
   "cell_type": "markdown",
   "metadata": {},
   "source": [
    "# MNIST"
   ]
  },
  {
   "cell_type": "markdown",
   "metadata": {},
   "source": [
    "## Import"
   ]
  },
  {
   "cell_type": "code",
   "execution_count": 8,
   "metadata": {
    "execution": {
     "iopub.execute_input": "2021-01-04T12:15:38.977588Z",
     "iopub.status.busy": "2021-01-04T12:15:38.977588Z",
     "iopub.status.idle": "2021-01-04T12:15:38.979594Z",
     "shell.execute_reply": "2021-01-04T12:15:38.979594Z",
     "shell.execute_reply.started": "2021-01-04T12:15:38.977588Z"
    }
   },
   "outputs": [],
   "source": [
    "import numpy as np\n",
    "import pandas as pd\n",
    "import tensorflow as tf\n",
    "\n",
    "import tensorflow_datasets as tfds"
   ]
  },
  {
   "cell_type": "markdown",
   "metadata": {},
   "source": []
  },
  {
   "cell_type": "markdown",
   "metadata": {},
   "source": [
    "## データの作成"
   ]
  },
  {
   "cell_type": "code",
   "execution_count": 56,
   "metadata": {
    "execution": {
     "iopub.execute_input": "2021-01-04T12:38:59.214300Z",
     "iopub.status.busy": "2021-01-04T12:38:59.214300Z",
     "iopub.status.idle": "2021-01-04T12:38:59.285365Z",
     "shell.execute_reply": "2021-01-04T12:38:59.285365Z",
     "shell.execute_reply.started": "2021-01-04T12:38:59.214300Z"
    }
   },
   "outputs": [],
   "source": [
    "mnist_dataset, mnist_info = tfds.load(name = 'mnist', with_info = True, as_supervised = True)"
   ]
  },
  {
   "cell_type": "code",
   "execution_count": 1,
   "metadata": {
    "execution": {
     "iopub.execute_input": "2021-01-05T14:27:32.509911Z",
     "iopub.status.busy": "2021-01-05T14:27:32.509911Z",
     "iopub.status.idle": "2021-01-05T14:27:32.511913Z",
     "shell.execute_reply": "2021-01-05T14:27:32.511913Z",
     "shell.execute_reply.started": "2021-01-05T14:27:32.509911Z"
    }
   },
   "outputs": [],
   "source": [
    "# mnistの情報を確認する\n",
    "# mnist_info"
   ]
  },
  {
   "cell_type": "code",
   "execution_count": 94,
   "metadata": {
    "execution": {
     "iopub.execute_input": "2021-01-04T13:12:36.492145Z",
     "iopub.status.busy": "2021-01-04T13:12:36.492145Z",
     "iopub.status.idle": "2021-01-04T13:12:37.517070Z",
     "shell.execute_reply": "2021-01-04T13:12:37.517070Z",
     "shell.execute_reply.started": "2021-01-04T13:12:36.492145Z"
    }
   },
   "outputs": [],
   "source": [
    "# mnistのtrain data と　test dataを変数に格納する\n",
    "mnist_train, mnist_test = mnist_dataset['train'], mnist_dataset['test']\n",
    "\n",
    "# test data のうち１割を検証用データとする\n",
    "num_validation_samples = 0.1 * mnist_info.splits['train'].num_examples\n",
    "num_validation_samples = tf.cast(num_validation_samples,tf.int64)\n",
    "\n",
    "num_test_samples = mnist_info.splits['test'].num_examples\n",
    "num_test_samples = tf.cast(num_test_samples,tf.int64)\n",
    "\n",
    "# datasetのfeature scaling\n",
    "def scale(image, label):\n",
    "    image = tf.cast(image,tf.float32)\n",
    "    image /= 255.\n",
    "    return image, label\n",
    "\n",
    "scaled_train_and_validation_data = mnist_train.map(scale)\n",
    "test_data = mnist_test.map(scale)\n",
    "\n",
    "# dataのシャッフル\n",
    "# bufferサイズの指定 -> 指定した数ごとにシャッフルする\n",
    "BUFFER_SIZE = 10000\n",
    "\n",
    "shuffled_train_and_validation_data = scaled_train_and_validation_data.shuffle(BUFFER_SIZE)\n",
    "\n",
    "validation_data = shuffled_train_and_validation_data.take(num_validation_samples)\n",
    "train_data = shuffled_train_and_validation_data.skip(num_validation_samples)\n",
    "\n",
    "BATCH_SIZE = 100\n",
    "\n",
    "train_data = train_data.batch(BATCH_SIZE)\n",
    "validation_data = validation_data.batch(num_validation_samples)\n",
    "test_data = test_data.batch(num_test_samples)\n",
    "\n",
    "validation_inputs, validation_targets = next(iter(validation_data))"
   ]
  },
  {
   "cell_type": "code",
   "execution_count": null,
   "metadata": {},
   "outputs": [],
   "source": []
  },
  {
   "cell_type": "code",
   "execution_count": null,
   "metadata": {},
   "outputs": [],
   "source": [
    "# train_size = int(0.7 * DATASET_SIZE)\n",
    "# val_size = int(0.15 * DATASET_SIZE)\n",
    "# test_size = int(0.15 * DATASET_SIZE)\n",
    "\n",
    "# full_dataset = tf.data.TFRecordDataset(FLAGS.input_file)\n",
    "# full_dataset = full_dataset.shuffle()\n",
    "# train_dataset = full_dataset.take(train_size)\n",
    "# test_dataset = full_dataset.skip(train_size)\n",
    "# val_dataset = test_dataset.skip(test_size)\n",
    "# test_dataset = test_dataset.take(test_size)"
   ]
  },
  {
   "cell_type": "markdown",
   "metadata": {},
   "source": [
    "#### 入出力データ数の定義"
   ]
  },
  {
   "cell_type": "code",
   "execution_count": 100,
   "metadata": {
    "execution": {
     "iopub.execute_input": "2021-01-04T13:28:19.772683Z",
     "iopub.status.busy": "2021-01-04T13:28:19.772683Z",
     "iopub.status.idle": "2021-01-04T13:28:19.774685Z",
     "shell.execute_reply": "2021-01-04T13:28:19.774685Z",
     "shell.execute_reply.started": "2021-01-04T13:28:19.772683Z"
    }
   },
   "outputs": [],
   "source": [
    "input_size = 28 * 28\n",
    "output_size = 10\n",
    "hidden_layer_size = 50 #隠れ層の１層あたりの要素数"
   ]
  },
  {
   "cell_type": "markdown",
   "metadata": {
    "execution": {
     "iopub.execute_input": "2021-01-04T13:27:49.563997Z",
     "iopub.status.busy": "2021-01-04T13:27:49.563997Z",
     "iopub.status.idle": "2021-01-04T13:27:49.566992Z",
     "shell.execute_reply": "2021-01-04T13:27:49.566992Z",
     "shell.execute_reply.started": "2021-01-04T13:27:49.563997Z"
    }
   },
   "source": []
  },
  {
   "cell_type": "markdown",
   "metadata": {
    "execution": {
     "iopub.execute_input": "2021-01-04T13:04:36.990559Z",
     "iopub.status.busy": "2021-01-04T13:04:36.990559Z",
     "iopub.status.idle": "2021-01-04T13:04:36.994562Z",
     "shell.execute_reply": "2021-01-04T13:04:36.994562Z",
     "shell.execute_reply.started": "2021-01-04T13:04:36.990559Z"
    }
   },
   "source": [
    "#### モデルの作成"
   ]
  },
  {
   "cell_type": "code",
   "execution_count": 102,
   "metadata": {
    "execution": {
     "iopub.execute_input": "2021-01-04T13:33:55.170914Z",
     "iopub.status.busy": "2021-01-04T13:33:55.170914Z",
     "iopub.status.idle": "2021-01-04T13:33:55.205945Z",
     "shell.execute_reply": "2021-01-04T13:33:55.205945Z",
     "shell.execute_reply.started": "2021-01-04T13:33:55.170914Z"
    }
   },
   "outputs": [],
   "source": [
    "model = tf.keras.Sequential([\n",
    "    tf.keras.layers.Flatten(input_shape=(28,28,1)),\n",
    "    tf.keras.layers.Dense(hidden_layer_size,activation='relu'),\n",
    "    tf.keras.layers.Dense(hidden_layer_size,activation='relu'),\n",
    "    tf.keras.layers.Dense(output_size,activation='softmax')\n",
    "])"
   ]
  },
  {
   "cell_type": "markdown",
   "metadata": {},
   "source": [
    "#### 最適化アルゴリズムと損失関数の決定"
   ]
  },
  {
   "cell_type": "code",
   "execution_count": 106,
   "metadata": {
    "execution": {
     "iopub.execute_input": "2021-01-04T13:43:15.929505Z",
     "iopub.status.busy": "2021-01-04T13:43:15.929505Z",
     "iopub.status.idle": "2021-01-04T13:43:15.951517Z",
     "shell.execute_reply": "2021-01-04T13:43:15.951517Z",
     "shell.execute_reply.started": "2021-01-04T13:43:15.929505Z"
    }
   },
   "outputs": [],
   "source": [
    "model.compile(optimizer = 'adam', loss ='sparse_categorical_crossentropy', metrics=['accuracy'])"
   ]
  },
  {
   "cell_type": "markdown",
   "metadata": {},
   "source": [
    "#### 訓練"
   ]
  },
  {
   "cell_type": "code",
   "execution_count": 107,
   "metadata": {
    "execution": {
     "iopub.execute_input": "2021-01-04T13:47:02.045790Z",
     "iopub.status.busy": "2021-01-04T13:47:02.045790Z",
     "iopub.status.idle": "2021-01-04T13:47:27.299411Z",
     "shell.execute_reply": "2021-01-04T13:47:27.299411Z",
     "shell.execute_reply.started": "2021-01-04T13:47:02.045790Z"
    }
   },
   "outputs": [
    {
     "name": "stdout",
     "output_type": "stream",
     "text": [
      "Epoch 1/5\n",
      "540/540 - 6s - loss: 0.4174 - accuracy: 0.8810 - val_loss: 0.1900 - val_accuracy: 0.9447\n",
      "Epoch 2/5\n",
      "540/540 - 5s - loss: 0.1789 - accuracy: 0.9481 - val_loss: 0.1359 - val_accuracy: 0.9613\n",
      "Epoch 3/5\n",
      "540/540 - 5s - loss: 0.1376 - accuracy: 0.9592 - val_loss: 0.1135 - val_accuracy: 0.9670\n",
      "Epoch 4/5\n",
      "540/540 - 5s - loss: 0.1154 - accuracy: 0.9660 - val_loss: 0.0968 - val_accuracy: 0.9732\n",
      "Epoch 5/5\n",
      "540/540 - 5s - loss: 0.0974 - accuracy: 0.9706 - val_loss: 0.0915 - val_accuracy: 0.9740\n"
     ]
    },
    {
     "data": {
      "text/plain": [
       "<tensorflow.python.keras.callbacks.History at 0x1dd39adc888>"
      ]
     },
     "execution_count": 107,
     "metadata": {},
     "output_type": "execute_result"
    }
   ],
   "source": [
    "NUM_EPOCHS = 5\n",
    "VALIDATION_STEPS = num_validation_samples\n",
    "\n",
    "model.fit(train_data, \n",
    "          epochs=NUM_EPOCHS, \n",
    "          validation_data = (validation_inputs, validation_targets),\n",
    "          validation_steps = VALIDATION_STEPS,\n",
    "          verbose=2)"
   ]
  },
  {
   "cell_type": "markdown",
   "metadata": {},
   "source": [
    "#### モデルのテスト"
   ]
  },
  {
   "cell_type": "code",
   "execution_count": 108,
   "metadata": {
    "execution": {
     "iopub.execute_input": "2021-01-04T13:50:01.203321Z",
     "iopub.status.busy": "2021-01-04T13:50:01.203321Z",
     "iopub.status.idle": "2021-01-04T13:50:02.379925Z",
     "shell.execute_reply": "2021-01-04T13:50:02.379925Z",
     "shell.execute_reply.started": "2021-01-04T13:50:01.203321Z"
    }
   },
   "outputs": [
    {
     "name": "stdout",
     "output_type": "stream",
     "text": [
      "      1/Unknown - 1s 899ms/step - loss: 0.1106 - accuracy: 0.9653"
     ]
    }
   ],
   "source": [
    "test_loss, test_accuracy = model.evaluate(test_data)"
   ]
  },
  {
   "cell_type": "code",
   "execution_count": 110,
   "metadata": {
    "execution": {
     "iopub.execute_input": "2021-01-04T13:52:38.643645Z",
     "iopub.status.busy": "2021-01-04T13:52:38.643645Z",
     "iopub.status.idle": "2021-01-04T13:52:38.646648Z",
     "shell.execute_reply": "2021-01-04T13:52:38.646648Z",
     "shell.execute_reply.started": "2021-01-04T13:52:38.643645Z"
    }
   },
   "outputs": [
    {
     "data": {
      "text/plain": [
       "0.00869999999999993"
      ]
     },
     "execution_count": 110,
     "metadata": {},
     "output_type": "execute_result"
    }
   ],
   "source": [
    "0.974 - 0.9653"
   ]
  },
  {
   "cell_type": "code",
   "execution_count": null,
   "metadata": {},
   "outputs": [],
   "source": []
  }
 ],
 "metadata": {
  "kernelspec": {
   "display_name": "Python 3",
   "language": "python",
   "name": "python3"
  },
  "language_info": {
   "codemirror_mode": {
    "name": "ipython",
    "version": 3
   },
   "file_extension": ".py",
   "mimetype": "text/x-python",
   "name": "python",
   "nbconvert_exporter": "python",
   "pygments_lexer": "ipython3",
   "version": "3.7.9"
  }
 },
 "nbformat": 4,
 "nbformat_minor": 4
}
