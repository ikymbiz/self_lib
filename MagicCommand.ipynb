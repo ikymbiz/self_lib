{
 "cells": [
  {
   "cell_type": "markdown",
   "metadata": {},
   "source": [
    "# ipywidgets"
   ]
  },
  {
   "cell_type": "markdown",
   "metadata": {},
   "source": [
    "https://ipywidgets.readthedocs.io/en/latest/examples/Widget%20List.html"
   ]
  },
  {
   "cell_type": "markdown",
   "metadata": {},
   "source": [
    "# Magic Command"
   ]
  },
  {
   "cell_type": "markdown",
   "metadata": {
    "execution": {
     "iopub.execute_input": "2020-12-26T16:33:11.077997Z",
     "iopub.status.busy": "2020-12-26T16:33:11.076996Z",
     "iopub.status.idle": "2020-12-26T16:33:11.079998Z",
     "shell.execute_reply": "2020-12-26T16:33:11.079998Z",
     "shell.execute_reply.started": "2020-12-26T16:33:11.077997Z"
    }
   },
   "source": [
    "### 表の左寄せ表示"
   ]
  },
  {
   "cell_type": "code",
   "execution_count": 7,
   "metadata": {
    "execution": {
     "iopub.execute_input": "2020-12-26T16:32:47.024556Z",
     "iopub.status.busy": "2020-12-26T16:32:47.024556Z",
     "iopub.status.idle": "2020-12-26T16:32:47.027559Z",
     "shell.execute_reply": "2020-12-26T16:32:47.027559Z",
     "shell.execute_reply.started": "2020-12-26T16:32:47.024556Z"
    }
   },
   "outputs": [
    {
     "data": {
      "text/html": [
       "<style>\n",
       "table {float:left}\n",
       "</style>\n"
      ],
      "text/plain": [
       "<IPython.core.display.HTML object>"
      ]
     },
     "metadata": {},
     "output_type": "display_data"
    }
   ],
   "source": [
    "%%html\n",
    "<style>\n",
    "table {float:left}\n",
    "</style>"
   ]
  },
  {
   "cell_type": "markdown",
   "metadata": {},
   "source": [
    "### 処理時間の計測"
   ]
  },
  {
   "cell_type": "code",
   "execution_count": null,
   "metadata": {},
   "outputs": [],
   "source": [
    "%%timeit"
   ]
  },
  {
   "cell_type": "markdown",
   "metadata": {},
   "source": [
    "## 数式\n",
    "https://qiita.com/namoshika/items/63db972bfd1030f8264a<br>\n",
    "https://qiita.com/PlanetMeron/items/63ac58898541cbe81ada"
   ]
  },
  {
   "cell_type": "markdown",
   "metadata": {},
   "source": [
    "### 分数"
   ]
  },
  {
   "cell_type": "markdown",
   "metadata": {
    "execution": {
     "iopub.execute_input": "2020-12-29T14:44:56.534076Z",
     "iopub.status.busy": "2020-12-29T14:44:56.533065Z",
     "iopub.status.idle": "2020-12-29T14:44:56.537076Z",
     "shell.execute_reply": "2020-12-29T14:44:56.537076Z",
     "shell.execute_reply.started": "2020-12-29T14:44:56.534076Z"
    }
   },
   "source": [
    "$\n",
    "Accuracy　= \\frac{TP + TN}{TP + FN + FP + TN}\n",
    "$"
   ]
  },
  {
   "cell_type": "markdown",
   "metadata": {},
   "source": [
    "コマンドプロンプト"
   ]
  },
  {
   "cell_type": "code",
   "execution_count": 1,
   "metadata": {
    "execution": {
     "iopub.execute_input": "2021-01-04T11:56:59.637949Z",
     "iopub.status.busy": "2021-01-04T11:56:59.637949Z",
     "iopub.status.idle": "2021-01-04T11:57:00.617840Z",
     "shell.execute_reply": "2021-01-04T11:57:00.617840Z",
     "shell.execute_reply.started": "2021-01-04T11:56:59.637949Z"
    }
   },
   "outputs": [
    {
     "name": "stdout",
     "output_type": "stream",
     "text": [
      "Requirement already satisfied: tensorflow-datasets in c:\\users\\sirec\\anaconda3\\envs\\datascience\\lib\\site-packages (4.1.0)\n",
      "Requirement already satisfied: tensorflow-metadata in c:\\users\\sirec\\anaconda3\\envs\\datascience\\lib\\site-packages (from tensorflow-datasets) (0.26.0)\n",
      "Requirement already satisfied: numpy in c:\\users\\sirec\\anaconda3\\envs\\datascience\\lib\\site-packages (from tensorflow-datasets) (1.16.4)\n",
      "Requirement already satisfied: typing-extensions in c:\\users\\sirec\\anaconda3\\envs\\datascience\\lib\\site-packages (from tensorflow-datasets) (3.7.4.3)\n",
      "Requirement already satisfied: six in c:\\users\\sirec\\anaconda3\\envs\\datascience\\lib\\site-packages (from tensorflow-datasets) (1.15.0)\n",
      "Requirement already satisfied: future in c:\\users\\sirec\\anaconda3\\envs\\datascience\\lib\\site-packages (from tensorflow-datasets) (0.18.2)\n",
      "Requirement already satisfied: protobuf>=3.6.1 in c:\\users\\sirec\\anaconda3\\envs\\datascience\\lib\\site-packages (from tensorflow-datasets) (3.14.0)\n",
      "Requirement already satisfied: termcolor in c:\\users\\sirec\\anaconda3\\envs\\datascience\\lib\\site-packages (from tensorflow-datasets) (1.1.0)\n",
      "Requirement already satisfied: requests>=2.19.0 in c:\\users\\sirec\\anaconda3\\envs\\datascience\\lib\\site-packages (from tensorflow-datasets) (2.25.0)\n",
      "Requirement already satisfied: importlib-resources in c:\\users\\sirec\\anaconda3\\envs\\datascience\\lib\\site-packages (from tensorflow-datasets) (4.1.1)\n",
      "Requirement already satisfied: dill in c:\\users\\sirec\\anaconda3\\envs\\datascience\\lib\\site-packages (from tensorflow-datasets) (0.3.3)\n",
      "Requirement already satisfied: promise in c:\\users\\sirec\\anaconda3\\envs\\datascience\\lib\\site-packages (from tensorflow-datasets) (2.3)\n",
      "Requirement already satisfied: absl-py in c:\\users\\sirec\\anaconda3\\envs\\datascience\\lib\\site-packages (from tensorflow-datasets) (0.10.0)\n",
      "Requirement already satisfied: tqdm in c:\\users\\sirec\\anaconda3\\envs\\datascience\\lib\\site-packages (from tensorflow-datasets) (4.55.1)\n",
      "Requirement already satisfied: attrs>=18.1.0 in c:\\users\\sirec\\anaconda3\\envs\\datascience\\lib\\site-packages (from tensorflow-datasets) (20.3.0)\n",
      "Requirement already satisfied: six in c:\\users\\sirec\\anaconda3\\envs\\datascience\\lib\\site-packages (from tensorflow-datasets) (1.15.0)\n",
      "Requirement already satisfied: zipp>=0.4 in c:\\users\\sirec\\anaconda3\\envs\\datascience\\lib\\site-packages (from importlib-resources->tensorflow-datasets) (3.4.0)\n",
      "Requirement already satisfied: six in c:\\users\\sirec\\anaconda3\\envs\\datascience\\lib\\site-packages (from tensorflow-datasets) (1.15.0)\n",
      "Requirement already satisfied: six in c:\\users\\sirec\\anaconda3\\envs\\datascience\\lib\\site-packages (from tensorflow-datasets) (1.15.0)\n",
      "Requirement already satisfied: idna<3,>=2.5 in c:\\users\\sirec\\anaconda3\\envs\\datascience\\lib\\site-packages (from requests>=2.19.0->tensorflow-datasets) (2.10)\n",
      "Requirement already satisfied: urllib3<1.27,>=1.21.1 in c:\\users\\sirec\\anaconda3\\envs\\datascience\\lib\\site-packages (from requests>=2.19.0->tensorflow-datasets) (1.26.2)\n",
      "Requirement already satisfied: chardet<4,>=3.0.2 in c:\\users\\sirec\\anaconda3\\envs\\datascience\\lib\\site-packages (from requests>=2.19.0->tensorflow-datasets) (3.0.4)\n",
      "Requirement already satisfied: certifi>=2017.4.17 in c:\\users\\sirec\\anaconda3\\envs\\datascience\\lib\\site-packages (from requests>=2.19.0->tensorflow-datasets) (2020.12.5)\n",
      "Requirement already satisfied: absl-py in c:\\users\\sirec\\anaconda3\\envs\\datascience\\lib\\site-packages (from tensorflow-datasets) (0.10.0)\n",
      "Requirement already satisfied: googleapis-common-protos<2,>=1.52.0 in c:\\users\\sirec\\anaconda3\\envs\\datascience\\lib\\site-packages (from tensorflow-metadata->tensorflow-datasets) (1.52.0)\n",
      "Requirement already satisfied: protobuf>=3.6.1 in c:\\users\\sirec\\anaconda3\\envs\\datascience\\lib\\site-packages (from tensorflow-datasets) (3.14.0)\n",
      "Requirement already satisfied: protobuf>=3.6.1 in c:\\users\\sirec\\anaconda3\\envs\\datascience\\lib\\site-packages (from tensorflow-datasets) (3.14.0)\n"
     ]
    }
   ],
   "source": [
    "! pip install tensorflow-datasets"
   ]
  },
  {
   "cell_type": "code",
   "execution_count": null,
   "metadata": {},
   "outputs": [],
   "source": []
  }
 ],
 "metadata": {
  "kernelspec": {
   "display_name": "Python 3",
   "language": "python",
   "name": "python3"
  },
  "language_info": {
   "codemirror_mode": {
    "name": "ipython",
    "version": 3
   },
   "file_extension": ".py",
   "mimetype": "text/x-python",
   "name": "python",
   "nbconvert_exporter": "python",
   "pygments_lexer": "ipython3",
   "version": "3.7.9"
  }
 },
 "nbformat": 4,
 "nbformat_minor": 4
}
