{
 "cells": [
  {
   "cell_type": "markdown",
   "metadata": {},
   "source": [
    "# stacking"
   ]
  },
  {
   "cell_type": "code",
   "execution_count": 47,
   "metadata": {
    "execution": {
     "iopub.execute_input": "2021-01-20T14:54:16.595093Z",
     "iopub.status.busy": "2021-01-20T14:54:16.595093Z",
     "iopub.status.idle": "2021-01-20T14:54:16.604101Z",
     "shell.execute_reply": "2021-01-20T14:54:16.604101Z",
     "shell.execute_reply.started": "2021-01-20T14:54:16.595093Z"
    }
   },
   "outputs": [],
   "source": [
    "import numpy as np\n",
    "import pandas as pd\n",
    "import matplotlib.pyplot as plt\n",
    "\n",
    "import xgboost as xgb\n",
    "import lightgbm as lgb\n",
    "\n",
    "from xgboost import XGBClassifier\n",
    "from lightgbm import LGBMClassifier\n",
    "from sklearn.neighbors import KNeighborsClassifier\n",
    "from sklearn.ensemble import RandomForestClassifier\n",
    "\n",
    "from keras.layers import Dense\n",
    "from keras.layers import Dropout\n",
    "from keras.models import Sequential\n",
    "\n",
    "from sklearn.model_selection import train_test_split\n",
    "\n",
    "from sklearn.metrics import f1_score\n",
    "\n",
    "# Jupyter上で図を表示するためのコマンド\n",
    "%matplotlib inline"
   ]
  },
  {
   "cell_type": "code",
   "execution_count": 48,
   "metadata": {
    "execution": {
     "iopub.execute_input": "2021-01-20T14:54:16.882304Z",
     "iopub.status.busy": "2021-01-20T14:54:16.881303Z",
     "iopub.status.idle": "2021-01-20T14:54:16.885306Z",
     "shell.execute_reply": "2021-01-20T14:54:16.885306Z",
     "shell.execute_reply.started": "2021-01-20T14:54:16.882304Z"
    }
   },
   "outputs": [],
   "source": [
    "def importances(model):\n",
    "    \"\"\" 変数重要度\n",
    "    \"\"\"\n",
    "    importances = model.feature_importances_\n",
    "    indices = np.argsort(importances)\n",
    "\n",
    "    plt.barh(range(len(indices)), importances[indices] , align='center')\n",
    "    plt.yticks(range(len(indices)), feature_X[indices])\n",
    "    plt.title('decision tree feature importance')\n",
    "    plt.xlabel('feature importance')\n",
    "    plt.ylabel('variable')\n",
    "    plt.show()"
   ]
  },
  {
   "cell_type": "code",
   "execution_count": 49,
   "metadata": {
    "execution": {
     "iopub.execute_input": "2021-01-20T14:54:17.210117Z",
     "iopub.status.busy": "2021-01-20T14:54:17.209116Z",
     "iopub.status.idle": "2021-01-20T14:54:17.212119Z",
     "shell.execute_reply": "2021-01-20T14:54:17.212119Z",
     "shell.execute_reply.started": "2021-01-20T14:54:17.210117Z"
    }
   },
   "outputs": [],
   "source": [
    "yName='LoanStatus'"
   ]
  },
  {
   "cell_type": "code",
   "execution_count": 50,
   "metadata": {
    "execution": {
     "iopub.execute_input": "2021-01-20T14:54:18.793434Z",
     "iopub.status.busy": "2021-01-20T14:54:18.793434Z",
     "iopub.status.idle": "2021-01-20T14:54:18.822460Z",
     "shell.execute_reply": "2021-01-20T14:54:18.822460Z",
     "shell.execute_reply.started": "2021-01-20T14:54:18.793434Z"
    }
   },
   "outputs": [],
   "source": [
    "# pickleで読込む\n",
    "import pickle\n",
    "\n",
    "# 前処理済みデータ取得\n",
    "with open('../data/dataset/pre/pre_data.pickle','rb') as f:\n",
    "    pre_data = pickle.load(f)"
   ]
  },
  {
   "cell_type": "code",
   "execution_count": 51,
   "metadata": {
    "execution": {
     "iopub.execute_input": "2021-01-20T14:54:19.282042Z",
     "iopub.status.busy": "2021-01-20T14:54:19.281041Z",
     "iopub.status.idle": "2021-01-20T14:54:19.331087Z",
     "shell.execute_reply": "2021-01-20T14:54:19.331087Z",
     "shell.execute_reply.started": "2021-01-20T14:54:19.282042Z"
    }
   },
   "outputs": [],
   "source": [
    "# 欠損値処理\n",
    "pre_data=pre_data.fillna(pre_data.mean())"
   ]
  },
  {
   "cell_type": "code",
   "execution_count": 52,
   "metadata": {
    "execution": {
     "iopub.execute_input": "2021-01-20T14:54:19.609171Z",
     "iopub.status.busy": "2021-01-20T14:54:19.609171Z",
     "iopub.status.idle": "2021-01-20T14:54:19.634194Z",
     "shell.execute_reply": "2021-01-20T14:54:19.634194Z",
     "shell.execute_reply.started": "2021-01-20T14:54:19.609171Z"
    }
   },
   "outputs": [],
   "source": [
    "# 目的変数と説明変数の取得\n",
    "y=pre_data['LoanStatus']\n",
    "X=pre_data.drop(columns='LoanStatus')"
   ]
  },
  {
   "cell_type": "code",
   "execution_count": 53,
   "metadata": {
    "execution": {
     "iopub.execute_input": "2021-01-20T14:54:19.985431Z",
     "iopub.status.busy": "2021-01-20T14:54:19.985431Z",
     "iopub.status.idle": "2021-01-20T14:54:19.987434Z",
     "shell.execute_reply": "2021-01-20T14:54:19.987434Z",
     "shell.execute_reply.started": "2021-01-20T14:54:19.985431Z"
    }
   },
   "outputs": [],
   "source": [
    "random_state = 1021"
   ]
  },
  {
   "cell_type": "code",
   "execution_count": 54,
   "metadata": {
    "execution": {
     "iopub.execute_input": "2021-01-20T14:54:20.321507Z",
     "iopub.status.busy": "2021-01-20T14:54:20.321507Z",
     "iopub.status.idle": "2021-01-20T14:54:20.419597Z",
     "shell.execute_reply": "2021-01-20T14:54:20.419597Z",
     "shell.execute_reply.started": "2021-01-20T14:54:20.321507Z"
    }
   },
   "outputs": [],
   "source": [
    "# 訓練データとテストデータの分割\n",
    "X_train_valid, X_meta_valid, y_train_valid, y_meta_valid = train_test_split(X, y, test_size=0.2, random_state=random_state)\n",
    "\n",
    "# 訓練データと検証データの分割\n",
    "X_train, X_valid, y_train, y_valid = train_test_split(X_train_valid, y_train_valid, test_size=0.5, random_state=random_state)"
   ]
  },
  {
   "cell_type": "code",
   "execution_count": null,
   "metadata": {},
   "outputs": [],
   "source": []
  },
  {
   "cell_type": "code",
   "execution_count": 56,
   "metadata": {
    "execution": {
     "iopub.execute_input": "2021-01-20T14:56:06.408697Z",
     "iopub.status.busy": "2021-01-20T14:56:06.407696Z",
     "iopub.status.idle": "2021-01-20T14:56:06.420707Z",
     "shell.execute_reply": "2021-01-20T14:56:06.420707Z",
     "shell.execute_reply.started": "2021-01-20T14:56:06.408697Z"
    }
   },
   "outputs": [],
   "source": [
    "# 調整済みモデル取得\n",
    "with open('../data/models/model_lightgbm.pickle','rb') as f:\n",
    "    model_lightgbm = pickle.load(f)"
   ]
  },
  {
   "cell_type": "code",
   "execution_count": 57,
   "metadata": {
    "execution": {
     "iopub.execute_input": "2021-01-20T14:56:09.466711Z",
     "iopub.status.busy": "2021-01-20T14:56:09.466711Z",
     "iopub.status.idle": "2021-01-20T14:56:09.469705Z",
     "shell.execute_reply": "2021-01-20T14:56:09.469705Z",
     "shell.execute_reply.started": "2021-01-20T14:56:09.466711Z"
    }
   },
   "outputs": [],
   "source": [
    "# train base model\n",
    "base_model_1 = XGBClassifier()\n",
    "base_model_2 = LGBMClassifier()\n",
    "base_model_3 = KNeighborsClassifier()\n",
    "base_model_4 = RandomForestClassifier()"
   ]
  },
  {
   "cell_type": "code",
   "execution_count": 58,
   "metadata": {
    "execution": {
     "iopub.execute_input": "2021-01-20T14:56:10.746937Z",
     "iopub.status.busy": "2021-01-20T14:56:10.745936Z",
     "iopub.status.idle": "2021-01-20T14:56:12.576601Z",
     "shell.execute_reply": "2021-01-20T14:56:12.576601Z",
     "shell.execute_reply.started": "2021-01-20T14:56:10.746937Z"
    }
   },
   "outputs": [
    {
     "name": "stderr",
     "output_type": "stream",
     "text": [
      "c:\\users\\sirec\\anaconda3\\envs\\datascience\\lib\\site-packages\\xgboost\\sklearn.py:892: UserWarning: The use of label encoder in XGBClassifier is deprecated and will be removed in a future release. To remove this warning, do the following: 1) Pass option use_label_encoder=False when constructing XGBClassifier object; and 2) Encode your labels (y) as integers starting with 0, i.e. 0, 1, 2, ..., [num_class - 1].\n",
      "  warnings.warn(label_encoder_deprecation_msg, UserWarning)\n"
     ]
    },
    {
     "name": "stdout",
     "output_type": "stream",
     "text": [
      "[23:56:10] WARNING: C:/Users/Administrator/workspace/xgboost-win64_release_1.3.0/src/learner.cc:1061: Starting in XGBoost 1.3.0, the default evaluation metric used with the objective 'binary:logistic' was changed from 'error' to 'logloss'. Explicitly set eval_metric if you'd like to restore the old behavior.\n"
     ]
    },
    {
     "ename": "AttributeError",
     "evalue": "'Booster' object has no attribute 'fit'",
     "output_type": "error",
     "traceback": [
      "\u001b[1;31m---------------------------------------------------------------------------\u001b[0m",
      "\u001b[1;31mAttributeError\u001b[0m                            Traceback (most recent call last)",
      "\u001b[1;32m<ipython-input-58-5463feefd0f3>\u001b[0m in \u001b[0;36m<module>\u001b[1;34m\u001b[0m\n\u001b[0;32m      1\u001b[0m \u001b[0mbase_model_1\u001b[0m\u001b[1;33m.\u001b[0m\u001b[0mfit\u001b[0m\u001b[1;33m(\u001b[0m\u001b[0mX_train\u001b[0m\u001b[1;33m,\u001b[0m \u001b[0my_train\u001b[0m\u001b[1;33m)\u001b[0m\u001b[1;33m\u001b[0m\u001b[1;33m\u001b[0m\u001b[0m\n\u001b[1;32m----> 2\u001b[1;33m \u001b[0mbase_model_2\u001b[0m\u001b[1;33m.\u001b[0m\u001b[0mfit\u001b[0m\u001b[1;33m(\u001b[0m\u001b[0mX_train\u001b[0m\u001b[1;33m,\u001b[0m \u001b[0my_train\u001b[0m\u001b[1;33m)\u001b[0m\u001b[1;33m\u001b[0m\u001b[1;33m\u001b[0m\u001b[0m\n\u001b[0m\u001b[0;32m      3\u001b[0m \u001b[0mbase_model_3\u001b[0m\u001b[1;33m.\u001b[0m\u001b[0mfit\u001b[0m\u001b[1;33m(\u001b[0m\u001b[0mX_train\u001b[0m\u001b[1;33m,\u001b[0m \u001b[0my_train\u001b[0m\u001b[1;33m)\u001b[0m\u001b[1;33m\u001b[0m\u001b[1;33m\u001b[0m\u001b[0m\n\u001b[0;32m      4\u001b[0m \u001b[0mbase_model_4\u001b[0m\u001b[1;33m.\u001b[0m\u001b[0mfit\u001b[0m\u001b[1;33m(\u001b[0m\u001b[0mX_train\u001b[0m\u001b[1;33m,\u001b[0m \u001b[0my_train\u001b[0m\u001b[1;33m)\u001b[0m\u001b[1;33m\u001b[0m\u001b[1;33m\u001b[0m\u001b[0m\n",
      "\u001b[1;31mAttributeError\u001b[0m: 'Booster' object has no attribute 'fit'"
     ]
    }
   ],
   "source": [
    "base_model_1.fit(X_train, y_train)\n",
    "base_model_2.fit(X_train, y_train)\n",
    "base_model_3.fit(X_train, y_train)\n",
    "base_model_4.fit(X_train, y_train)"
   ]
  },
  {
   "cell_type": "code",
   "execution_count": 18,
   "metadata": {
    "execution": {
     "iopub.execute_input": "2021-01-20T14:31:41.256584Z",
     "iopub.status.busy": "2021-01-20T14:31:41.256584Z",
     "iopub.status.idle": "2021-01-20T14:34:56.364001Z",
     "shell.execute_reply": "2021-01-20T14:34:56.364001Z",
     "shell.execute_reply.started": "2021-01-20T14:31:41.256584Z"
    }
   },
   "outputs": [],
   "source": [
    "# base predicts\n",
    "base_pred_1 = base_model_1.predict(X_valid)\n",
    "base_pred_2 = base_model_2.predict(X_valid)\n",
    "base_pred_3 = base_model_3.predict(X_valid)\n",
    "base_pred_4 = base_model_4.predict(X_valid)"
   ]
  },
  {
   "cell_type": "code",
   "execution_count": 19,
   "metadata": {
    "execution": {
     "iopub.execute_input": "2021-01-20T14:35:00.618002Z",
     "iopub.status.busy": "2021-01-20T14:35:00.618002Z",
     "iopub.status.idle": "2021-01-20T14:36:38.129672Z",
     "shell.execute_reply": "2021-01-20T14:36:38.129672Z",
     "shell.execute_reply.started": "2021-01-20T14:35:00.618002Z"
    }
   },
   "outputs": [
    {
     "name": "stdout",
     "output_type": "stream",
     "text": [
      "f1_score of model 1: 0.8551\n",
      "f1_score of model 2: 0.8501\n",
      "f1_score of model 3: 0.2612\n",
      "f1_score of model 4: 0.2612\n"
     ]
    }
   ],
   "source": [
    "# test predicts for final result \n",
    "valid_pred_1 = base_model_1.predict(X_meta_valid)\n",
    "valid_pred_2 = base_model_2.predict(X_meta_valid)\n",
    "valid_pred_3 = base_model_3.predict(X_meta_valid)\n",
    "valid_pred_4 = base_model_4.predict(X_meta_valid)\n",
    "\n",
    "print (\"f1_score of model 1: {:.4f}\".format(f1_score(y_meta_valid, valid_pred_1)) )\n",
    "print (\"f1_score of model 2: {:.4f}\".format(f1_score(y_meta_valid, valid_pred_2)) )\n",
    "print (\"f1_score of model 3: {:.4f}\".format(f1_score(y_meta_valid, valid_pred_3)) )\n",
    "print (\"f1_score of model 4: {:.4f}\".format(f1_score(y_meta_valid, valid_pred_3)) )"
   ]
  },
  {
   "cell_type": "code",
   "execution_count": 20,
   "metadata": {
    "execution": {
     "iopub.execute_input": "2021-01-20T14:38:29.566160Z",
     "iopub.status.busy": "2021-01-20T14:38:29.566160Z",
     "iopub.status.idle": "2021-01-20T14:38:29.940509Z",
     "shell.execute_reply": "2021-01-20T14:38:29.940509Z",
     "shell.execute_reply.started": "2021-01-20T14:38:29.566160Z"
    }
   },
   "outputs": [
    {
     "data": {
      "text/plain": [
       "<AxesSubplot:title={'center':'Feature importance'}, xlabel='F score', ylabel='Features'>"
      ]
     },
     "execution_count": 20,
     "metadata": {},
     "output_type": "execute_result"
    },
    {
     "data": {
      "image/png": "[encoded data removed]",
      "text/plain": [
       "<Figure size 432x288 with 1 Axes>"
      ]
     },
     "metadata": {
      "needs_background": "light"
     },
     "output_type": "display_data"
    }
   ],
   "source": [
    "# 重要度の可視化\n",
    "xgb.plot_importance(base_model_1,max_num_features=20)"
   ]
  },
  {
   "cell_type": "code",
   "execution_count": 21,
   "metadata": {
    "execution": {
     "iopub.execute_input": "2021-01-20T14:38:34.977385Z",
     "iopub.status.busy": "2021-01-20T14:38:34.977385Z",
     "iopub.status.idle": "2021-01-20T14:38:35.113508Z",
     "shell.execute_reply": "2021-01-20T14:38:35.113508Z",
     "shell.execute_reply.started": "2021-01-20T14:38:34.977385Z"
    }
   },
   "outputs": [
    {
     "data": {
      "text/plain": [
       "<AxesSubplot:title={'center':'Feature importance'}, xlabel='Feature importance', ylabel='Features'>"
      ]
     },
     "execution_count": 21,
     "metadata": {},
     "output_type": "execute_result"
    },
    {
     "data": {
      "image/png": "[encoded data removed]",
      "text/plain": [
       "<Figure size 432x288 with 1 Axes>"
      ]
     },
     "metadata": {
      "needs_background": "light"
     },
     "output_type": "display_data"
    }
   ],
   "source": [
    "lgb.plot_importance(base_model_2,max_num_features=20)"
   ]
  },
  {
   "cell_type": "code",
   "execution_count": 30,
   "metadata": {
    "execution": {
     "iopub.execute_input": "2021-01-20T14:41:17.010201Z",
     "iopub.status.busy": "2021-01-20T14:41:17.010201Z",
     "iopub.status.idle": "2021-01-20T14:41:17.023212Z",
     "shell.execute_reply": "2021-01-20T14:41:17.023212Z",
     "shell.execute_reply.started": "2021-01-20T14:41:17.010201Z"
    }
   },
   "outputs": [
    {
     "ename": "AttributeError",
     "evalue": "'KNeighborsClassifier' object has no attribute 'feature_importances_'",
     "output_type": "error",
     "traceback": [
      "\u001b[1;31m---------------------------------------------------------------------------\u001b[0m",
      "\u001b[1;31mAttributeError\u001b[0m                            Traceback (most recent call last)",
      "\u001b[1;32m<ipython-input-30-510b32b04cfc>\u001b[0m in \u001b[0;36m<module>\u001b[1;34m\u001b[0m\n\u001b[1;32m----> 1\u001b[1;33m \u001b[0mimportances\u001b[0m\u001b[1;33m(\u001b[0m\u001b[0mbase_model_3\u001b[0m\u001b[1;33m)\u001b[0m\u001b[1;33m\u001b[0m\u001b[1;33m\u001b[0m\u001b[0m\n\u001b[0m",
      "\u001b[1;32m<ipython-input-2-705da5d8ecff>\u001b[0m in \u001b[0;36mimportances\u001b[1;34m(model)\u001b[0m\n\u001b[0;32m      2\u001b[0m     \"\"\" 変数重要度\n\u001b[0;32m      3\u001b[0m     \"\"\"\n\u001b[1;32m----> 4\u001b[1;33m     \u001b[0mimportances\u001b[0m \u001b[1;33m=\u001b[0m \u001b[0mmodel\u001b[0m\u001b[1;33m.\u001b[0m\u001b[0mfeature_importances_\u001b[0m\u001b[1;33m\u001b[0m\u001b[1;33m\u001b[0m\u001b[0m\n\u001b[0m\u001b[0;32m      5\u001b[0m     \u001b[0mindices\u001b[0m \u001b[1;33m=\u001b[0m \u001b[0mnp\u001b[0m\u001b[1;33m.\u001b[0m\u001b[0margsort\u001b[0m\u001b[1;33m(\u001b[0m\u001b[0mimportances\u001b[0m\u001b[1;33m)\u001b[0m\u001b[1;33m\u001b[0m\u001b[1;33m\u001b[0m\u001b[0m\n\u001b[0;32m      6\u001b[0m \u001b[1;33m\u001b[0m\u001b[0m\n",
      "\u001b[1;31mAttributeError\u001b[0m: 'KNeighborsClassifier' object has no attribute 'feature_importances_'"
     ]
    }
   ],
   "source": [
    "importances(base_model_3)"
   ]
  },
  {
   "cell_type": "code",
   "execution_count": 31,
   "metadata": {
    "execution": {
     "iopub.execute_input": "2021-01-20T14:41:38.481726Z",
     "iopub.status.busy": "2021-01-20T14:41:38.481726Z",
     "iopub.status.idle": "2021-01-20T14:41:38.483728Z",
     "shell.execute_reply": "2021-01-20T14:41:38.483728Z",
     "shell.execute_reply.started": "2021-01-20T14:41:38.481726Z"
    }
   },
   "outputs": [],
   "source": [
    "# 変数重要度を見るため、変数名を取り出しておく\n",
    "feature_X = X.columns\n",
    "feature_y = y.name"
   ]
  },
  {
   "cell_type": "code",
   "execution_count": 32,
   "metadata": {
    "execution": {
     "iopub.execute_input": "2021-01-20T14:41:39.557417Z",
     "iopub.status.busy": "2021-01-20T14:41:39.557417Z",
     "iopub.status.idle": "2021-01-20T14:41:39.687526Z",
     "shell.execute_reply": "2021-01-20T14:41:39.687526Z",
     "shell.execute_reply.started": "2021-01-20T14:41:39.557417Z"
    }
   },
   "outputs": [
    {
     "data": {
      "image/png": "[encoded data removed]",
      "text/plain": [
       "<Figure size 432x288 with 1 Axes>"
      ]
     },
     "metadata": {
      "needs_background": "light"
     },
     "output_type": "display_data"
    }
   ],
   "source": [
    "importances(base_model_4)"
   ]
  },
  {
   "cell_type": "code",
   "execution_count": 33,
   "metadata": {
    "execution": {
     "iopub.execute_input": "2021-01-20T14:41:54.706198Z",
     "iopub.status.busy": "2021-01-20T14:41:54.705197Z",
     "iopub.status.idle": "2021-01-20T14:41:55.096551Z",
     "shell.execute_reply": "2021-01-20T14:41:55.096551Z",
     "shell.execute_reply.started": "2021-01-20T14:41:54.706198Z"
    }
   },
   "outputs": [
    {
     "name": "stderr",
     "output_type": "stream",
     "text": [
      "c:\\users\\sirec\\anaconda3\\envs\\datascience\\lib\\site-packages\\xgboost\\sklearn.py:892: UserWarning: The use of label encoder in XGBClassifier is deprecated and will be removed in a future release. To remove this warning, do the following: 1) Pass option use_label_encoder=False when constructing XGBClassifier object; and 2) Encode your labels (y) as integers starting with 0, i.e. 0, 1, 2, ..., [num_class - 1].\n",
      "  warnings.warn(label_encoder_deprecation_msg, UserWarning)\n"
     ]
    },
    {
     "name": "stdout",
     "output_type": "stream",
     "text": [
      "[23:41:54] WARNING: C:/Users/Administrator/workspace/xgboost-win64_release_1.3.0/src/learner.cc:1061: Starting in XGBoost 1.3.0, the default evaluation metric used with the objective 'binary:logistic' was changed from 'error' to 'logloss'. Explicitly set eval_metric if you'd like to restore the old behavior.\n",
      "f1_score of meta model: 0.8550\n"
     ]
    }
   ],
   "source": [
    "# stack base predicts for training meta model\n",
    "stacked_predictions = np.column_stack((base_pred_1, base_pred_2, base_pred_3, base_pred_4))\n",
    "\n",
    "# stack test predicts for final result \n",
    "stacked_valid_predictions = np.column_stack((valid_pred_1, valid_pred_2, valid_pred_3, valid_pred_4))\n",
    "\n",
    "# train meta model \n",
    "meta_model =  XGBClassifier()\n",
    "meta_model.fit(stacked_predictions, y_valid)\n",
    "\n",
    "# final result \n",
    "meta_valid_pred = meta_model.predict(stacked_valid_predictions)\n",
    "print (\"f1_score of meta model: {:.4f}\".format(f1_score(y_meta_valid, meta_valid_pred)) )"
   ]
  },
  {
   "cell_type": "code",
   "execution_count": null,
   "metadata": {},
   "outputs": [],
   "source": []
  },
  {
   "cell_type": "code",
   "execution_count": 42,
   "metadata": {
    "execution": {
     "iopub.execute_input": "2021-01-20T14:46:30.347040Z",
     "iopub.status.busy": "2021-01-20T14:46:30.346031Z",
     "iopub.status.idle": "2021-01-20T14:46:30.353046Z",
     "shell.execute_reply": "2021-01-20T14:46:30.353046Z",
     "shell.execute_reply.started": "2021-01-20T14:46:30.347040Z"
    }
   },
   "outputs": [],
   "source": [
    "# モデルの保存\n",
    "with open('../data/models/Stacking_XLKM_submission.pickle', mode='wb') as f:\n",
    "    pickle.dump(meta_model, f)"
   ]
  },
  {
   "cell_type": "code",
   "execution_count": 45,
   "metadata": {
    "execution": {
     "iopub.execute_input": "2021-01-20T14:50:26.813737Z",
     "iopub.status.busy": "2021-01-20T14:50:26.813737Z",
     "iopub.status.idle": "2021-01-20T14:50:26.833756Z",
     "shell.execute_reply": "2021-01-20T14:50:26.833756Z",
     "shell.execute_reply.started": "2021-01-20T14:50:26.813737Z"
    }
   },
   "outputs": [],
   "source": [
    "# テストデータの取得\n",
    "with open('../data/dataset/test/test_cleaned_data.pickle','rb') as f:\n",
    "    c_data = pickle.load(f)"
   ]
  },
  {
   "cell_type": "code",
   "execution_count": 46,
   "metadata": {
    "execution": {
     "iopub.execute_input": "2021-01-20T14:50:27.651093Z",
     "iopub.status.busy": "2021-01-20T14:50:27.651093Z",
     "iopub.status.idle": "2021-01-20T14:50:27.738162Z",
     "shell.execute_reply": "2021-01-20T14:50:27.737161Z",
     "shell.execute_reply.started": "2021-01-20T14:50:27.651093Z"
    }
   },
   "outputs": [
    {
     "ename": "ValueError",
     "evalue": "feature_names mismatch: ['f0', 'f1', 'f2', 'f3'] ['Term', 'Approval_Y', 'Approval_M', 'Disbursement_Y', 'Disbursement_M', 'TermFlg', 'RevLineCr', 'LowLoan', 'LoanAmount', 'BalanceGross', 'SystemCode', 'Employees', 'ExistNew', 'CreateJob', 'FranchiseCode', 'Zip', 'BankState', 'UrbanRural']\nexpected f0, f2, f3, f1 in input data\ntraining data did not have the following fields: Approval_Y, ExistNew, RevLineCr, CreateJob, TermFlg, SystemCode, BalanceGross, Employees, Term, LoanAmount, Disbursement_Y, Disbursement_M, LowLoan, FranchiseCode, Zip, UrbanRural, Approval_M, BankState",
     "output_type": "error",
     "traceback": [
      "\u001b[1;31m---------------------------------------------------------------------------\u001b[0m",
      "\u001b[1;31mValueError\u001b[0m                                Traceback (most recent call last)",
      "\u001b[1;32m<ipython-input-46-af5f91f4e31c>\u001b[0m in \u001b[0;36m<module>\u001b[1;34m\u001b[0m\n\u001b[0;32m      1\u001b[0m \u001b[1;31m# 予測\u001b[0m\u001b[1;33m\u001b[0m\u001b[1;33m\u001b[0m\u001b[1;33m\u001b[0m\u001b[0m\n\u001b[1;32m----> 2\u001b[1;33m \u001b[0mpred_data\u001b[0m \u001b[1;33m=\u001b[0m \u001b[0mmeta_model\u001b[0m\u001b[1;33m.\u001b[0m\u001b[0mpredict\u001b[0m\u001b[1;33m(\u001b[0m\u001b[0mc_data\u001b[0m\u001b[1;33m)\u001b[0m\u001b[1;33m\u001b[0m\u001b[1;33m\u001b[0m\u001b[0m\n\u001b[0m",
      "\u001b[1;32mc:\\users\\sirec\\anaconda3\\envs\\datascience\\lib\\site-packages\\xgboost\\sklearn.py\u001b[0m in \u001b[0;36mpredict\u001b[1;34m(self, data, output_margin, ntree_limit, validate_features, base_margin)\u001b[0m\n\u001b[0;32m    981\u001b[0m             \u001b[0moutput_margin\u001b[0m\u001b[1;33m=\u001b[0m\u001b[0moutput_margin\u001b[0m\u001b[1;33m,\u001b[0m\u001b[1;33m\u001b[0m\u001b[1;33m\u001b[0m\u001b[0m\n\u001b[0;32m    982\u001b[0m             \u001b[0mntree_limit\u001b[0m\u001b[1;33m=\u001b[0m\u001b[0mntree_limit\u001b[0m\u001b[1;33m,\u001b[0m\u001b[1;33m\u001b[0m\u001b[1;33m\u001b[0m\u001b[0m\n\u001b[1;32m--> 983\u001b[1;33m             validate_features=validate_features)\n\u001b[0m\u001b[0;32m    984\u001b[0m         \u001b[1;32mif\u001b[0m \u001b[0moutput_margin\u001b[0m\u001b[1;33m:\u001b[0m\u001b[1;33m\u001b[0m\u001b[1;33m\u001b[0m\u001b[0m\n\u001b[0;32m    985\u001b[0m             \u001b[1;31m# If output_margin is active, simply return the scores\u001b[0m\u001b[1;33m\u001b[0m\u001b[1;33m\u001b[0m\u001b[1;33m\u001b[0m\u001b[0m\n",
      "\u001b[1;32mc:\\users\\sirec\\anaconda3\\envs\\datascience\\lib\\site-packages\\xgboost\\core.py\u001b[0m in \u001b[0;36mpredict\u001b[1;34m(self, data, output_margin, ntree_limit, pred_leaf, pred_contribs, approx_contribs, pred_interactions, validate_features, training)\u001b[0m\n\u001b[0;32m   1483\u001b[0m \u001b[1;33m\u001b[0m\u001b[0m\n\u001b[0;32m   1484\u001b[0m         \u001b[1;32mif\u001b[0m \u001b[0mvalidate_features\u001b[0m\u001b[1;33m:\u001b[0m\u001b[1;33m\u001b[0m\u001b[1;33m\u001b[0m\u001b[0m\n\u001b[1;32m-> 1485\u001b[1;33m             \u001b[0mself\u001b[0m\u001b[1;33m.\u001b[0m\u001b[0m_validate_features\u001b[0m\u001b[1;33m(\u001b[0m\u001b[0mdata\u001b[0m\u001b[1;33m)\u001b[0m\u001b[1;33m\u001b[0m\u001b[1;33m\u001b[0m\u001b[0m\n\u001b[0m\u001b[0;32m   1486\u001b[0m \u001b[1;33m\u001b[0m\u001b[0m\n\u001b[0;32m   1487\u001b[0m         \u001b[0mlength\u001b[0m \u001b[1;33m=\u001b[0m \u001b[0mc_bst_ulong\u001b[0m\u001b[1;33m(\u001b[0m\u001b[1;33m)\u001b[0m\u001b[1;33m\u001b[0m\u001b[1;33m\u001b[0m\u001b[0m\n",
      "\u001b[1;32mc:\\users\\sirec\\anaconda3\\envs\\datascience\\lib\\site-packages\\xgboost\\core.py\u001b[0m in \u001b[0;36m_validate_features\u001b[1;34m(self, data)\u001b[0m\n\u001b[0;32m   2059\u001b[0m \u001b[1;33m\u001b[0m\u001b[0m\n\u001b[0;32m   2060\u001b[0m                 raise ValueError(msg.format(self.feature_names,\n\u001b[1;32m-> 2061\u001b[1;33m                                             data.feature_names))\n\u001b[0m\u001b[0;32m   2062\u001b[0m \u001b[1;33m\u001b[0m\u001b[0m\n\u001b[0;32m   2063\u001b[0m     def get_split_value_histogram(self, feature, fmap='', bins=None,\n",
      "\u001b[1;31mValueError\u001b[0m: feature_names mismatch: ['f0', 'f1', 'f2', 'f3'] ['Term', 'Approval_Y', 'Approval_M', 'Disbursement_Y', 'Disbursement_M', 'TermFlg', 'RevLineCr', 'LowLoan', 'LoanAmount', 'BalanceGross', 'SystemCode', 'Employees', 'ExistNew', 'CreateJob', 'FranchiseCode', 'Zip', 'BankState', 'UrbanRural']\nexpected f0, f2, f3, f1 in input data\ntraining data did not have the following fields: Approval_Y, ExistNew, RevLineCr, CreateJob, TermFlg, SystemCode, BalanceGross, Employees, Term, LoanAmount, Disbursement_Y, Disbursement_M, LowLoan, FranchiseCode, Zip, UrbanRural, Approval_M, BankState"
     ]
    }
   ],
   "source": [
    "# 予測\n",
    "pred_data = meta_model.predict(c_data)"
   ]
  },
  {
   "cell_type": "code",
   "execution_count": null,
   "metadata": {},
   "outputs": [],
   "source": [
    "# 提出サンプルデータの読み込み\n",
    "df_submission = pd.read_csv('../data/raw/sample_submission.csv')"
   ]
  },
  {
   "cell_type": "code",
   "execution_count": null,
   "metadata": {},
   "outputs": [],
   "source": [
    "# 提出用のデータを作成し、csv形式で保存\n",
    "df_submission['LoanStatus'] = pred_y\n",
    "df_submission.to_csv('../data/_submit/Stacking_XLKM_submission.csv', index=False)"
   ]
  }
 ],
 "metadata": {
  "kernelspec": {
   "display_name": "Python 3",
   "language": "python",
   "name": "python3"
  },
  "language_info": {
   "codemirror_mode": {
    "name": "ipython",
    "version": 3
   },
   "file_extension": ".py",
   "mimetype": "text/x-python",
   "name": "python",
   "nbconvert_exporter": "python",
   "pygments_lexer": "ipython3",
   "version": "3.7.9"
  },
  "widgets": {
   "application/vnd.jupyter.widget-state+json": {
    "state": {},
    "version_major": 2,
    "version_minor": 0
   }
  }
 },
 "nbformat": 4,
 "nbformat_minor": 4
}
