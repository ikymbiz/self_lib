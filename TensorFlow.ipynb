{
 "cells": [
  {
   "cell_type": "markdown",
   "metadata": {},
   "source": [
    "# TensorFlow\n",
    "https://note.nkmk.me/python-tensorflow-keras-basics/"
   ]
  },
  {
   "cell_type": "markdown",
   "metadata": {},
   "source": []
  },
  {
   "cell_type": "markdown",
   "metadata": {},
   "source": [
    "- スカラー (Tensor rank0)  \n",
    "- ベクトル (Tensor rank1)  \n",
    "- 行列     (Tensor rank2)\n",
    "- Tensor  "
   ]
  },
  {
   "cell_type": "markdown",
   "metadata": {},
   "source": []
  },
  {
   "cell_type": "markdown",
   "metadata": {},
   "source": [
    "### Import"
   ]
  },
  {
   "cell_type": "code",
   "execution_count": 1,
   "metadata": {
    "execution": {
     "iopub.execute_input": "2021-01-03T00:56:14.841600Z",
     "iopub.status.busy": "2021-01-03T00:56:14.841600Z",
     "iopub.status.idle": "2021-01-03T00:56:15.007755Z",
     "shell.execute_reply": "2021-01-03T00:56:15.007755Z",
     "shell.execute_reply.started": "2021-01-03T00:56:14.841600Z"
    }
   },
   "outputs": [],
   "source": [
    "import numpy as np\n",
    "import matplotlib.pyplot as plt\n",
    "import tensorflow as tf"
   ]
  },
  {
   "cell_type": "markdown",
   "metadata": {},
   "source": []
  },
  {
   "cell_type": "markdown",
   "metadata": {},
   "source": [
    "### 訓練データ（ランダムなサンプル）作成"
   ]
  },
  {
   "cell_type": "code",
   "execution_count": 2,
   "metadata": {
    "execution": {
     "iopub.execute_input": "2021-01-03T00:56:16.494661Z",
     "iopub.status.busy": "2021-01-03T00:56:16.493660Z",
     "iopub.status.idle": "2021-01-03T00:56:16.497664Z",
     "shell.execute_reply": "2021-01-03T00:56:16.497664Z",
     "shell.execute_reply.started": "2021-01-03T00:56:16.494661Z"
    }
   },
   "outputs": [],
   "source": [
    "# sample\n",
    "observations = 1000\n",
    "xs = np.random.uniform(low=-10,high=10,size=(observations,1))\n",
    "zs = np.random.uniform(low=-10,high=10,size=(observations,1))\n",
    "\n",
    "generated_inputs = np.column_stack((xs,zs))\n",
    "\n",
    "noise = np.random.uniform(low=-1,high=1,size=(observations,1))\n",
    "generated_targets = 2*xs - 3*zs + 5 + noise"
   ]
  },
  {
   "cell_type": "markdown",
   "metadata": {},
   "source": []
  },
  {
   "cell_type": "markdown",
   "metadata": {},
   "source": [
    "### TensorFlowの形式に合わせてデータを保存する"
   ]
  },
  {
   "cell_type": "markdown",
   "metadata": {},
   "source": [
    "NumPy独自のバイナリファイルに保存  \n",
    "https://note.nkmk.me/python-numpy-load-save-savez-npy-npz/"
   ]
  },
  {
   "cell_type": "code",
   "execution_count": 3,
   "metadata": {
    "execution": {
     "iopub.execute_input": "2021-01-03T00:56:18.188317Z",
     "iopub.status.busy": "2021-01-03T00:56:18.188317Z",
     "iopub.status.idle": "2021-01-03T00:56:18.192321Z",
     "shell.execute_reply": "2021-01-03T00:56:18.192321Z",
     "shell.execute_reply.started": "2021-01-03T00:56:18.188317Z"
    }
   },
   "outputs": [],
   "source": [
    "# 実行プログラムと同階層に保存される\n",
    "np.savez('TF_intro',inputs=generated_inputs,targets=generated_targets)"
   ]
  },
  {
   "cell_type": "markdown",
   "metadata": {},
   "source": []
  },
  {
   "cell_type": "markdown",
   "metadata": {},
   "source": [
    "### データ読込み"
   ]
  },
  {
   "cell_type": "code",
   "execution_count": 5,
   "metadata": {
    "execution": {
     "iopub.execute_input": "2021-01-03T01:07:21.668902Z",
     "iopub.status.busy": "2021-01-03T01:07:21.668902Z",
     "iopub.status.idle": "2021-01-03T01:07:21.672915Z",
     "shell.execute_reply": "2021-01-03T01:07:21.672915Z",
     "shell.execute_reply.started": "2021-01-03T01:07:21.668902Z"
    }
   },
   "outputs": [],
   "source": [
    "training_data =np.load('TF_intro.npz')"
   ]
  },
  {
   "cell_type": "markdown",
   "metadata": {},
   "source": []
  },
  {
   "cell_type": "markdown",
   "metadata": {},
   "source": [
    "### モデルの作成"
   ]
  },
  {
   "cell_type": "markdown",
   "metadata": {},
   "source": [
    "#### 入出力データ数の定義"
   ]
  },
  {
   "cell_type": "code",
   "execution_count": 27,
   "metadata": {
    "execution": {
     "iopub.execute_input": "2021-01-03T01:43:58.019941Z",
     "iopub.status.busy": "2021-01-03T01:43:58.019941Z",
     "iopub.status.idle": "2021-01-03T01:43:58.024944Z",
     "shell.execute_reply": "2021-01-03T01:43:58.024944Z",
     "shell.execute_reply.started": "2021-01-03T01:43:58.019941Z"
    }
   },
   "outputs": [],
   "source": [
    "# 入力はx,zの数\n",
    "input_size = 2\n",
    "\n",
    "# 出力はyの数\n",
    "output_size = 1"
   ]
  },
  {
   "cell_type": "code",
   "execution_count": null,
   "metadata": {},
   "outputs": [],
   "source": [
    "# default\n",
    "model = tf.keras.Sequential([\n",
    "    tf.keras.layers.Dense(output_size)\n",
    "])\n",
    "# 目的関数と最適化アルゴリズムの設定  \n",
    "#-目的関数  ->L2ノルム\n",
    "#  >mean_squared_error\n",
    "#-最適化アルゴリズム\n",
    "#  >sgd : 確率的勾配降下法\n",
    "model.compile(optimizer = 'sgd', loss='mean_squared_error')"
   ]
  },
  {
   "cell_type": "markdown",
   "metadata": {},
   "source": []
  },
  {
   "cell_type": "markdown",
   "metadata": {},
   "source": [
    "### モデルのカスタマイズ設定"
   ]
  },
  {
   "cell_type": "markdown",
   "metadata": {},
   "source": [
    "#### 重みとバイアスの初期値の設定\n",
    ">重み：kernel_initializer  \n",
    ">バイアス :bias"
   ]
  },
  {
   "cell_type": "code",
   "execution_count": 32,
   "metadata": {
    "execution": {
     "iopub.execute_input": "2021-01-03T01:55:20.418290Z",
     "iopub.status.busy": "2021-01-03T01:55:20.418290Z",
     "iopub.status.idle": "2021-01-03T01:55:20.422294Z",
     "shell.execute_reply": "2021-01-03T01:55:20.422294Z",
     "shell.execute_reply.started": "2021-01-03T01:55:20.418290Z"
    }
   },
   "outputs": [],
   "source": [
    "model = tf.keras.Sequential([\n",
    "    tf.keras.layers.Dense(output_size,\n",
    "                         kernel_initializer = tf.random_uniform_initializer(minval=-0.1, maxval=0.1),\n",
    "                         bias_initializer = tf.random_uniform_initializer(minval=-0.1, maxval=0.1)\n",
    "                         )\n",
    "])"
   ]
  },
  {
   "cell_type": "markdown",
   "metadata": {},
   "source": [
    "#### 学習率の設定"
   ]
  },
  {
   "cell_type": "code",
   "execution_count": 33,
   "metadata": {
    "execution": {
     "iopub.execute_input": "2021-01-03T01:55:23.065517Z",
     "iopub.status.busy": "2021-01-03T01:55:23.065517Z",
     "iopub.status.idle": "2021-01-03T01:55:23.067519Z",
     "shell.execute_reply": "2021-01-03T01:55:23.067519Z",
     "shell.execute_reply.started": "2021-01-03T01:55:23.065517Z"
    }
   },
   "outputs": [],
   "source": [
    "custom_optimizer = tf.keras.optimizers.SGD(learning_rate=0.02)"
   ]
  },
  {
   "cell_type": "markdown",
   "metadata": {},
   "source": [
    "#### 目的関数と最適化アルゴリズムの設定  \n",
    "\n",
    "https://keras.io/ja/losses/\n"
   ]
  },
  {
   "cell_type": "code",
   "execution_count": 34,
   "metadata": {
    "execution": {
     "iopub.execute_input": "2021-01-03T01:55:24.697560Z",
     "iopub.status.busy": "2021-01-03T01:55:24.696558Z",
     "iopub.status.idle": "2021-01-03T01:55:24.699561Z",
     "shell.execute_reply": "2021-01-03T01:55:24.699561Z",
     "shell.execute_reply.started": "2021-01-03T01:55:24.697560Z"
    }
   },
   "outputs": [],
   "source": [
    "model.compile(custom_optimizer, loss ='mean_squared_error')"
   ]
  },
  {
   "cell_type": "markdown",
   "metadata": {},
   "source": []
  },
  {
   "cell_type": "markdown",
   "metadata": {},
   "source": [
    "### 訓練"
   ]
  },
  {
   "cell_type": "code",
   "execution_count": 35,
   "metadata": {
    "execution": {
     "iopub.execute_input": "2021-01-03T01:55:37.335759Z",
     "iopub.status.busy": "2021-01-03T01:55:37.335759Z",
     "iopub.status.idle": "2021-01-03T01:55:37.337683Z",
     "shell.execute_reply": "2021-01-03T01:55:37.337683Z",
     "shell.execute_reply.started": "2021-01-03T01:55:37.335759Z"
    }
   },
   "outputs": [],
   "source": [
    "# epochs : 繰り返しの数\n",
    "epochs_cnt = 100"
   ]
  },
  {
   "cell_type": "code",
   "execution_count": 41,
   "metadata": {
    "execution": {
     "iopub.execute_input": "2021-01-03T02:26:01.604122Z",
     "iopub.status.busy": "2021-01-03T02:26:01.604122Z",
     "iopub.status.idle": "2021-01-03T02:26:03.213587Z",
     "shell.execute_reply": "2021-01-03T02:26:03.213587Z",
     "shell.execute_reply.started": "2021-01-03T02:26:01.604122Z"
    }
   },
   "outputs": [
    {
     "name": "stdout",
     "output_type": "stream",
     "text": [
      "Train on 1000 samples\n",
      "Epoch 1/100\n",
      "1000/1000 - 0s - loss: 0.3520\n",
      "Epoch 2/100\n",
      "1000/1000 - 0s - loss: 0.3460\n",
      "Epoch 3/100\n",
      "1000/1000 - 0s - loss: 0.3571\n",
      "Epoch 4/100\n",
      "1000/1000 - 0s - loss: 0.3577\n",
      "Epoch 5/100\n",
      "1000/1000 - 0s - loss: 0.3645\n",
      "Epoch 6/100\n",
      "1000/1000 - 0s - loss: 0.3591\n",
      "Epoch 7/100\n",
      "1000/1000 - 0s - loss: 0.3840\n",
      "Epoch 8/100\n",
      "1000/1000 - 0s - loss: 0.3930\n",
      "Epoch 9/100\n",
      "1000/1000 - 0s - loss: 0.3516\n",
      "Epoch 10/100\n",
      "1000/1000 - 0s - loss: 0.3463\n",
      "Epoch 11/100\n",
      "1000/1000 - 0s - loss: 0.3669\n",
      "Epoch 12/100\n",
      "1000/1000 - 0s - loss: 0.3408\n",
      "Epoch 13/100\n",
      "1000/1000 - 0s - loss: 0.3666\n",
      "Epoch 14/100\n",
      "1000/1000 - 0s - loss: 0.3897\n",
      "Epoch 15/100\n",
      "1000/1000 - 0s - loss: 0.3825\n",
      "Epoch 16/100\n",
      "1000/1000 - 0s - loss: 0.3668\n",
      "Epoch 17/100\n",
      "1000/1000 - 0s - loss: 0.3518\n",
      "Epoch 18/100\n",
      "1000/1000 - 0s - loss: 0.3477\n",
      "Epoch 19/100\n",
      "1000/1000 - 0s - loss: 0.3960\n",
      "Epoch 20/100\n",
      "1000/1000 - 0s - loss: 0.3751\n",
      "Epoch 21/100\n",
      "1000/1000 - 0s - loss: 0.3682\n",
      "Epoch 22/100\n",
      "1000/1000 - 0s - loss: 0.3791\n",
      "Epoch 23/100\n",
      "1000/1000 - 0s - loss: 0.3399\n",
      "Epoch 24/100\n",
      "1000/1000 - 0s - loss: 0.3595\n",
      "Epoch 25/100\n",
      "1000/1000 - 0s - loss: 0.3797\n",
      "Epoch 26/100\n",
      "1000/1000 - 0s - loss: 0.3733\n",
      "Epoch 27/100\n",
      "1000/1000 - 0s - loss: 0.3596\n",
      "Epoch 28/100\n",
      "1000/1000 - 0s - loss: 0.3389\n",
      "Epoch 29/100\n",
      "1000/1000 - 0s - loss: 0.3558\n",
      "Epoch 30/100\n",
      "1000/1000 - 0s - loss: 0.3635\n",
      "Epoch 31/100\n",
      "1000/1000 - 0s - loss: 0.3336\n",
      "Epoch 32/100\n",
      "1000/1000 - 0s - loss: 0.4012\n",
      "Epoch 33/100\n",
      "1000/1000 - 0s - loss: 0.3891\n",
      "Epoch 34/100\n",
      "1000/1000 - 0s - loss: 0.3458\n",
      "Epoch 35/100\n",
      "1000/1000 - 0s - loss: 0.3723\n",
      "Epoch 36/100\n",
      "1000/1000 - 0s - loss: 0.3387\n",
      "Epoch 37/100\n",
      "1000/1000 - 0s - loss: 0.3684\n",
      "Epoch 38/100\n",
      "1000/1000 - 0s - loss: 0.3640\n",
      "Epoch 39/100\n",
      "1000/1000 - 0s - loss: 0.3760\n",
      "Epoch 40/100\n",
      "1000/1000 - 0s - loss: 0.3402\n",
      "Epoch 41/100\n",
      "1000/1000 - 0s - loss: 0.3538\n",
      "Epoch 42/100\n",
      "1000/1000 - 0s - loss: 0.3669\n",
      "Epoch 43/100\n",
      "1000/1000 - 0s - loss: 0.3835\n",
      "Epoch 44/100\n",
      "1000/1000 - 0s - loss: 0.3478\n",
      "Epoch 45/100\n",
      "1000/1000 - 0s - loss: 0.3326\n",
      "Epoch 46/100\n",
      "1000/1000 - 0s - loss: 0.3526\n",
      "Epoch 47/100\n",
      "1000/1000 - 0s - loss: 0.3477\n",
      "Epoch 48/100\n",
      "1000/1000 - 0s - loss: 0.3603\n",
      "Epoch 49/100\n",
      "1000/1000 - 0s - loss: 0.3681\n",
      "Epoch 50/100\n",
      "1000/1000 - 0s - loss: 0.3678\n",
      "Epoch 51/100\n",
      "1000/1000 - 0s - loss: 0.3752\n",
      "Epoch 52/100\n",
      "1000/1000 - 0s - loss: 0.3544\n",
      "Epoch 53/100\n",
      "1000/1000 - 0s - loss: 0.3596\n",
      "Epoch 54/100\n",
      "1000/1000 - 0s - loss: 0.3679\n",
      "Epoch 55/100\n",
      "1000/1000 - 0s - loss: 0.3705\n",
      "Epoch 56/100\n",
      "1000/1000 - 0s - loss: 0.4137\n",
      "Epoch 57/100\n",
      "1000/1000 - 0s - loss: 0.3830\n",
      "Epoch 58/100\n",
      "1000/1000 - 0s - loss: 0.3493\n",
      "Epoch 59/100\n",
      "1000/1000 - 0s - loss: 0.3657\n",
      "Epoch 60/100\n",
      "1000/1000 - 0s - loss: 0.3646\n",
      "Epoch 61/100\n",
      "1000/1000 - 0s - loss: 0.3689\n",
      "Epoch 62/100\n",
      "1000/1000 - 0s - loss: 0.3820\n",
      "Epoch 63/100\n",
      "1000/1000 - 0s - loss: 0.3454\n",
      "Epoch 64/100\n",
      "1000/1000 - 0s - loss: 0.3551\n",
      "Epoch 65/100\n",
      "1000/1000 - 0s - loss: 0.3576\n",
      "Epoch 66/100\n",
      "1000/1000 - 0s - loss: 0.3848\n",
      "Epoch 67/100\n",
      "1000/1000 - 0s - loss: 0.4118\n",
      "Epoch 68/100\n",
      "1000/1000 - 0s - loss: 0.3483\n",
      "Epoch 69/100\n",
      "1000/1000 - 0s - loss: 0.3586\n",
      "Epoch 70/100\n",
      "1000/1000 - 0s - loss: 0.4039\n",
      "Epoch 71/100\n",
      "1000/1000 - 0s - loss: 0.3504\n",
      "Epoch 72/100\n",
      "1000/1000 - 0s - loss: 0.3748\n",
      "Epoch 73/100\n",
      "1000/1000 - 0s - loss: 0.3506\n",
      "Epoch 74/100\n",
      "1000/1000 - 0s - loss: 0.3754\n",
      "Epoch 75/100\n",
      "1000/1000 - 0s - loss: 0.3821\n",
      "Epoch 76/100\n",
      "1000/1000 - 0s - loss: 0.3552\n",
      "Epoch 77/100\n",
      "1000/1000 - 0s - loss: 0.3517\n",
      "Epoch 78/100\n",
      "1000/1000 - 0s - loss: 0.3550\n",
      "Epoch 79/100\n",
      "1000/1000 - 0s - loss: 0.3499\n",
      "Epoch 80/100\n",
      "1000/1000 - 0s - loss: 0.3712\n",
      "Epoch 81/100\n",
      "1000/1000 - 0s - loss: 0.3988\n",
      "Epoch 82/100\n",
      "1000/1000 - 0s - loss: 0.3555\n",
      "Epoch 83/100\n",
      "1000/1000 - 0s - loss: 0.3698\n",
      "Epoch 84/100\n",
      "1000/1000 - 0s - loss: 0.3790\n",
      "Epoch 85/100\n",
      "1000/1000 - 0s - loss: 0.3516\n",
      "Epoch 86/100\n",
      "1000/1000 - 0s - loss: 0.3462\n",
      "Epoch 87/100\n",
      "1000/1000 - 0s - loss: 0.4089\n",
      "Epoch 88/100\n",
      "1000/1000 - 0s - loss: 0.3547\n",
      "Epoch 89/100\n",
      "1000/1000 - 0s - loss: 0.3542\n",
      "Epoch 90/100\n",
      "1000/1000 - 0s - loss: 0.3485\n",
      "Epoch 91/100\n",
      "1000/1000 - 0s - loss: 0.3347\n",
      "Epoch 92/100\n",
      "1000/1000 - 0s - loss: 0.3550\n",
      "Epoch 93/100\n",
      "1000/1000 - 0s - loss: 0.3699\n",
      "Epoch 94/100\n",
      "1000/1000 - 0s - loss: 0.3605\n",
      "Epoch 95/100\n",
      "1000/1000 - 0s - loss: 0.3750\n",
      "Epoch 96/100\n",
      "1000/1000 - 0s - loss: 0.3399\n",
      "Epoch 97/100\n",
      "1000/1000 - 0s - loss: 0.3442\n",
      "Epoch 98/100\n",
      "1000/1000 - 0s - loss: 0.3338\n",
      "Epoch 99/100\n",
      "1000/1000 - 0s - loss: 0.3427\n",
      "Epoch 100/100\n",
      "1000/1000 - 0s - loss: 0.3485\n"
     ]
    },
    {
     "data": {
      "text/plain": [
       "<tensorflow.python.keras.callbacks.History at 0x166a36e5d48>"
      ]
     },
     "execution_count": 41,
     "metadata": {},
     "output_type": "execute_result"
    }
   ],
   "source": [
    "# verbose=1\n",
    "#エポックごとのログがプログレスバーの進行状況とともに示される。\n",
    "#verbose=2\n",
    "#プログレスバーなし（エポックごとのログはあり）\n",
    "#verbose=0\n",
    "#出力が一切なし\n",
    "\n",
    "model.fit(training_data['inputs'],training_data['targets'],epochs=epochs_cnt,verbose=2)"
   ]
  },
  {
   "cell_type": "markdown",
   "metadata": {},
   "source": [
    "## 重みとバイアスの出力"
   ]
  },
  {
   "cell_type": "code",
   "execution_count": 37,
   "metadata": {
    "execution": {
     "iopub.execute_input": "2021-01-03T01:55:41.487527Z",
     "iopub.status.busy": "2021-01-03T01:55:41.487527Z",
     "iopub.status.idle": "2021-01-03T01:55:41.491531Z",
     "shell.execute_reply": "2021-01-03T01:55:41.491531Z",
     "shell.execute_reply.started": "2021-01-03T01:55:41.487527Z"
    }
   },
   "outputs": [
    {
     "data": {
      "text/plain": [
       "[array([[ 1.9297246],\n",
       "        [-3.013228 ]], dtype=float32),\n",
       " array([5.0148726], dtype=float32)]"
      ]
     },
     "execution_count": 37,
     "metadata": {},
     "output_type": "execute_result"
    }
   ],
   "source": [
    "# layers : ディープニューラルネットワークの層(隠れ層)の深さ\n",
    "# weight array\n",
    "# biases array\n",
    "model.layers[0].get_weights()"
   ]
  },
  {
   "cell_type": "markdown",
   "metadata": {},
   "source": [
    "[考察]  \n",
    "ターゲット  \n",
    "generated_targets = 2*xs - 3*zs + 5 + noise\n",
    "<br><br>\n",
    "結果  \n",
    "[array([[ 1.9632605],\n",
    "        [-2.9835043]], dtype=float32),  \n",
    " array([5.007174], dtype=float32)]  \n",
    "<br>\n",
    "考察  \n",
    "ディープラーニングによりターゲットに近い変数を予測することができた"
   ]
  },
  {
   "cell_type": "markdown",
   "metadata": {},
   "source": []
  },
  {
   "cell_type": "markdown",
   "metadata": {},
   "source": [
    "### 出力データの抽出"
   ]
  },
  {
   "cell_type": "code",
   "execution_count": 38,
   "metadata": {
    "execution": {
     "iopub.execute_input": "2021-01-03T01:55:46.240104Z",
     "iopub.status.busy": "2021-01-03T01:55:46.240104Z",
     "iopub.status.idle": "2021-01-03T01:55:46.251113Z",
     "shell.execute_reply": "2021-01-03T01:55:46.251113Z",
     "shell.execute_reply.started": "2021-01-03T01:55:46.240104Z"
    }
   },
   "outputs": [],
   "source": [
    "predict_data = model.predict_on_batch(training_data['inputs']).numpy().round(1)"
   ]
  },
  {
   "cell_type": "code",
   "execution_count": 39,
   "metadata": {
    "execution": {
     "iopub.execute_input": "2021-01-03T01:55:46.936084Z",
     "iopub.status.busy": "2021-01-03T01:55:46.936084Z",
     "iopub.status.idle": "2021-01-03T01:55:46.939087Z",
     "shell.execute_reply": "2021-01-03T01:55:46.939087Z",
     "shell.execute_reply.started": "2021-01-03T01:55:46.936084Z"
    }
   },
   "outputs": [],
   "source": [
    "target_data = training_data['targets'].round(1)"
   ]
  },
  {
   "cell_type": "markdown",
   "metadata": {},
   "source": [
    "### 散布図を作成し視覚化する"
   ]
  },
  {
   "cell_type": "code",
   "execution_count": 40,
   "metadata": {
    "execution": {
     "iopub.execute_input": "2021-01-03T01:55:48.400310Z",
     "iopub.status.busy": "2021-01-03T01:55:48.400310Z",
     "iopub.status.idle": "2021-01-03T01:55:48.467890Z",
     "shell.execute_reply": "2021-01-03T01:55:48.467890Z",
     "shell.execute_reply.started": "2021-01-03T01:55:48.400310Z"
    }
   },
   "outputs": [
    {
     "data": {
      "text/plain": [
       "[<matplotlib.lines.Line2D at 0x166a2d286c8>]"
      ]
     },
     "execution_count": 40,
     "metadata": {},
     "output_type": "execute_result"
    },
    {
     "data": {
      "image/png": "[encoded data removed]",
      "text/plain": [
       "<Figure size 432x288 with 1 Axes>"
      ]
     },
     "metadata": {
      "needs_background": "light"
     },
     "output_type": "display_data"
    }
   ],
   "source": [
    "plt.plot(np.squeeze(predict_data),np.squeeze(target_data))"
   ]
  },
  {
   "cell_type": "code",
   "execution_count": null,
   "metadata": {},
   "outputs": [],
   "source": []
  }
 ],
 "metadata": {
  "kernelspec": {
   "display_name": "Python 3",
   "language": "python",
   "name": "python3"
  },
  "language_info": {
   "codemirror_mode": {
    "name": "ipython",
    "version": 3
   },
   "file_extension": ".py",
   "mimetype": "text/x-python",
   "name": "python",
   "nbconvert_exporter": "python",
   "pygments_lexer": "ipython3",
   "version": "3.7.9"
  }
 },
 "nbformat": 4,
 "nbformat_minor": 4
}
