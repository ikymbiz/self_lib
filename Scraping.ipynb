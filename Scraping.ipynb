{
 "cells": [
  {
   "cell_type": "markdown",
   "metadata": {},
   "source": [
    "### Scraping"
   ]
  },
  {
   "cell_type": "code",
   "execution_count": 20,
   "metadata": {},
   "outputs": [],
   "source": [
    "import requests\n",
    "from bs4 import BeautifulSoup\n",
    "import pprint #リストが改行されて読みやすくなって出力される\n",
    "import csv"
   ]
  },
  {
   "cell_type": "markdown",
   "metadata": {},
   "source": [
    "**対象のURLをセットする**"
   ]
  },
  {
   "cell_type": "code",
   "execution_count": 21,
   "metadata": {},
   "outputs": [],
   "source": [
    "response = requests.get('https://finance.yahoo.co.jp/')\n",
    "soup = BeautifulSoup(response.text, 'html.parser')"
   ]
  },
  {
   "cell_type": "markdown",
   "metadata": {},
   "source": [
    "**hrefタグを出力する**"
   ]
  },
  {
   "cell_type": "code",
   "execution_count": 22,
   "metadata": {},
   "outputs": [
    {
     "name": "stdout",
     "output_type": "stream",
     "text": [
      "['#contents-start',\n",
      " 'https://www.yahoo.co.jp/',\n",
      " 'https://www.yahoo-help.jp/app/home/service/finance/',\n",
      " 'https://finance.yahoo.co.jp/',\n",
      " 'https://account.edit.yahoo.co.jp/registration?.intl=jp&.done=https%3A%2F%2Ffinance.yahoo.co.jp%2F&.src=finance',\n",
      " 'https://login.yahoo.co.jp/config/login?.src=finance&lg=jp&.intl=jp&.done=https%3A%2F%2Ffinance.yahoo.co.jp%2F',\n",
      " 'https://rdsig.yahoo.co.jp/finance/top/g_navi/purchase_history/RV=1/RU=aHR0cHM6Ly9kZXRhaWwud2FsbGV0LnlhaG9vLmNvLmpwL2hpc3Rvcnk-',\n",
      " 'https://rdsig.yahoo.co.jp/finance/top/g_navi/alert/RV=1/RU=aHR0cHM6Ly9zdG9ja3MuZmluYW5jZS55YWhvby5jby5qcC9zdG9ja3MvYWxlcnQv',\n",
      " 'https://rdsig.yahoo.co.jp/finance/top/g_navi/customize/RV=1/RU=aHR0cHM6Ly9pbmZvLmZpbmFuY2UueWFob28uY28uanAvcG9ydGZvbGlvL2NvbG9yLz8uZG9uZT1odHRwcyUzQSUyRiUyRmZpbmFuY2UueWFob28uY28uanAlMkYmLmludGw9anA-',\n",
      " 'https://rdsig.yahoo.co.jp/finance/top/g_navi/sitemap/RV=1/RU=aHR0cHM6Ly9maW5hbmNlLnlhaG9vLmNvLmpwL3NpdGVtYXAv',\n",
      " 'https://finance.yahoo.co.jp/',\n",
      " 'https://stocks.finance.yahoo.co.jp/',\n",
      " 'https://info.finance.yahoo.co.jp/fx/',\n",
      " 'https://finance.yahoo.co.jp/funds',\n",
      " 'https://finance.yahoo.co.jp/news',\n",
      " 'https://finance.yahoo.co.jp/cm',\n",
      " 'https://profile.yahoo.co.jp/',\n",
      " 'https://ysyoken.hikaku.minkabu.jp/',\n",
      " 'http://www.rakumachi.jp/?uiaid=yfn',\n",
      " 'https://finance.yahoo.co.jp/money/?channel=y_internal&srv=hub',\n",
      " 'https://trade.finance.yahoo.co.jp/assets/list',\n",
      " 'https://stocks.finance.yahoo.co.jp/stocks/detail/?code=4563.T',\n",
      " 'https://stocks.finance.yahoo.co.jp/stocks/detail/?code=9984.T',\n",
      " 'https://stocks.finance.yahoo.co.jp/stocks/detail/?code=2929.T',\n",
      " 'https://info.finance.yahoo.co.jp/beginners/',\n",
      " 'https://finance.yahoo.co.jp/feature/promotion/portfolio/index.html',\n",
      " 'https://login.yahoo.co.jp/config/login?.src=quote&.intl=jp&.done=https://info.finance.yahoo.co.jp/portfolio/display/',\n",
      " 'https://www.yahoo-help.jp/app/noscript',\n",
      " 'https://rdsig.yahoo.co.jp/finance/realtime/pc/info/RV=1/RU=aHR0cHM6Ly9maW5hbmNlLnlhaG9vLmNvLmpwL2ZlYXR1cmUvc3BlY2lhbC9saXZlL2luZGV4Lmh0bWw-',\n",
      " 'https://rdsig.yahoo.co.jp/finance/top/board/998407.O/20d/RV=1/RU=aHR0cHM6Ly9zdG9ja3MuZmluYW5jZS55YWhvby5jby5qcC9zdG9ja3MvZGV0YWlsLz9jb2RlPTk5ODQwNy5P',\n",
      " 'https://rdsig.yahoo.co.jp/finance/top/board/DJI/20d/RV=1/RU=aHR0cHM6Ly9zdG9ja3MuZmluYW5jZS55YWhvby5jby5qcC9zdG9ja3MvZGV0YWlsLz9jb2RlPV5ESkk-',\n",
      " 'https://rdsig.yahoo.co.jp/finance/top/board/USDJPY=X/20d/RV=1/RU=aHR0cHM6Ly9zdG9ja3MuZmluYW5jZS55YWhvby5jby5qcC9zdG9ja3MvZGV0YWlsLz9jb2RlPVVTREpQWT1Y',\n",
      " 'https://rdsig.yahoo.co.jp/finance/top/board/EURJPY=X/20d/RV=1/RU=aHR0cHM6Ly9zdG9ja3MuZmluYW5jZS55YWhvby5jby5qcC9zdG9ja3MvZGV0YWlsLz9jb2RlPUVVUkpQWT1Y',\n",
      " 'https://rdsig.yahoo.co.jp/finance/top/board/search1/RV=1/RU=aHR0cHM6Ly9zdG9ja3MuZmluYW5jZS55YWhvby5jby5qcC9zdG9ja3MvZGV0YWlsLz9jb2RlPTQ1NjMuVA--',\n",
      " 'https://rdsig.yahoo.co.jp/finance/top/board/search2/RV=1/RU=aHR0cHM6Ly9zdG9ja3MuZmluYW5jZS55YWhvby5jby5qcC9zdG9ja3MvZGV0YWlsLz9jb2RlPTgzMDYuVA--',\n",
      " 'https://rdsig.yahoo.co.jp/finance/top/board/search3/RV=1/RU=aHR0cHM6Ly9zdG9ja3MuZmluYW5jZS55YWhvby5jby5qcC9zdG9ja3MvZGV0YWlsLz9jb2RlPTk5ODQuVA--',\n",
      " 'https://rdsig.yahoo.co.jp/finance/top/board/search4/RV=1/RU=aHR0cHM6Ly9zdG9ja3MuZmluYW5jZS55YWhvby5jby5qcC9zdG9ja3MvZGV0YWlsLz9jb2RlPTY3NTguVA--',\n",
      " 'https://rdsig.yahoo.co.jp/finance/top/board/search5/RV=1/RU=aHR0cHM6Ly9zdG9ja3MuZmluYW5jZS55YWhvby5jby5qcC9zdG9ja3MvZGV0YWlsLz9jb2RlPTk0MzIuVA--',\n",
      " 'https://finance.yahoo.co.jp/news/headline/',\n",
      " 'https://finance.yahoo.co.jp/news/detail/20201116-00000206-jijf-market',\n",
      " 'https://finance.yahoo.co.jp/news/detail/20201116-00000178-stkms-stocks',\n",
      " 'https://finance.yahoo.co.jp/news/detail/20201116-05359758-klugfx-fx',\n",
      " 'https://finance.yahoo.co.jp/news/detail/20201116-00000042-dzh-fx',\n",
      " 'https://finance.yahoo.co.jp/news/detail/20201116-10000042-dzh-market',\n",
      " 'https://finance.yahoo.co.jp/news/detail/20201116-00000181-stkms-stocks',\n",
      " 'https://finance.yahoo.co.jp/news/detail/20201116-00000052-dzh-fx',\n",
      " 'https://finance.yahoo.co.jp/news/detail/20201116-00026956-argent-column',\n",
      " 'https://finance.yahoo.co.jp/news/detail/20201116-00026955-argent-column',\n",
      " 'https://yahoo.jp/CuHKsH',\n",
      " 'https://yahoo.jp/8yCs5D',\n",
      " 'http://www.rakumachi.jp/news/?uiaid=yfn',\n",
      " 'https://rdsig.yahoo.co.jp/finance/top/promo/51/RV=1/RU=aHR0cHM6Ly9yZHNpZy55YWhvby5jby5qcC9maW5hbmNlL3RvcC9wcm9tby92aXAxL1JWPTEvUlU9YUhSMGNEb3ZMMmx1Wm04dVptbHVZVzVqWlM1NVlXaHZieTVqYnk1cWNDOTJhWEF2Y0hJdg--',\n",
      " 'https://rdsig.yahoo.co.jp/finance/toshin/pc/top/u_headline/RV=1/RU=aHR0cHM6Ly90cmFkZS5maW5hbmNlLnlhaG9vLmNvLmpwL2Fzc2V0cy9saXN0',\n",
      " 'https://stocks.finance.yahoo.co.jp/stocks/detail/?code=6081.T',\n",
      " 'https://stocks.finance.yahoo.co.jp/stocks/detail/?code=6897.T',\n",
      " 'https://stocks.finance.yahoo.co.jp/stocks/detail/?code=3010.T',\n",
      " 'https://stocks.finance.yahoo.co.jp/stocks/detail/?code=7779.T',\n",
      " 'https://stocks.finance.yahoo.co.jp/stocks/detail/?code=3856.T',\n",
      " 'https://info.finance.yahoo.co.jp/ranking/?kd=1&tm=d&mk=1',\n",
      " 'https://stocks.finance.yahoo.co.jp/stocks/detail/?code=4448.T',\n",
      " 'https://stocks.finance.yahoo.co.jp/stocks/detail/?code=6094.T',\n",
      " 'https://stocks.finance.yahoo.co.jp/stocks/detail/?code=2970.T',\n",
      " 'https://stocks.finance.yahoo.co.jp/stocks/detail/?code=7356.T',\n",
      " 'https://stocks.finance.yahoo.co.jp/stocks/detail/?code=4437.T',\n",
      " 'https://info.finance.yahoo.co.jp/ranking/?kd=2&tm=d&mk=1',\n",
      " 'https://stocks.finance.yahoo.co.jp/stocks/detail/?code=8306.T',\n",
      " 'https://stocks.finance.yahoo.co.jp/stocks/detail/?code=1357.T',\n",
      " 'https://stocks.finance.yahoo.co.jp/stocks/detail/?code=7647.T',\n",
      " 'https://stocks.finance.yahoo.co.jp/stocks/detail/?code=7201.T',\n",
      " 'https://stocks.finance.yahoo.co.jp/stocks/detail/?code=4689.T',\n",
      " 'https://info.finance.yahoo.co.jp/ranking/?kd=3&tm=d&mk=1',\n",
      " 'https://finance.yahoo.co.jp/cm/rd/finance/4563',\n",
      " 'https://finance.yahoo.co.jp/cm/rd/finance/2191',\n",
      " 'https://finance.yahoo.co.jp/cm/rd/finance/6897',\n",
      " 'https://finance.yahoo.co.jp/cm/rd/finance/2929',\n",
      " 'https://finance.yahoo.co.jp/cm/rd/finance/7707',\n",
      " 'https://info.finance.yahoo.co.jp/ranking/?kd=56&mk=1',\n",
      " 'https://rdsig.yahoo.co.jp/finance/top/fx/rate/USDJPY=FX/RV=1/RU=aHR0cHM6Ly9pbmZvLmZpbmFuY2UueWFob28uY28uanAvZngvZGV0YWlsLz9jb2RlPVVTREpQWT1GWA--',\n",
      " 'https://rdsig.yahoo.co.jp/finance/top/fx/rate/USDJPY=FX/RV=1/RU=aHR0cHM6Ly9pbmZvLmZpbmFuY2UueWFob28uY28uanAvZngvZGV0YWlsLz9jb2RlPVVTREpQWT1GWA--',\n",
      " 'https://rdsig.yahoo.co.jp/finance/top/fx/rate/more/RV=1/RU=aHR0cHM6Ly9pbmZvLmZpbmFuY2UueWFob28uY28uanAvZngv',\n",
      " 'https://rdsig.yahoo.co.jp/finance/top/fx/indicator/head/RV=1/RU=aHR0cHM6Ly9pbmZvLmZpbmFuY2UueWFob28uY28uanAvZngvbWFya2V0Y2FsZW5kYXIv',\n",
      " 'https://rdsig.yahoo.co.jp/finance/top/fx/indicator/RV=1/RU=aHR0cHM6Ly9pbmZvLmZpbmFuY2UueWFob28uY28uanAvZngvbWFya2V0Y2FsZW5kYXIvZGV0YWlsLzkwNDE-',\n",
      " 'https://rdsig.yahoo.co.jp/finance/top/fx/indicator/RV=1/RU=aHR0cHM6Ly9pbmZvLmZpbmFuY2UueWFob28uY28uanAvZngvbWFya2V0Y2FsZW5kYXIvZGV0YWlsLzkwNDI-',\n",
      " 'https://rdsig.yahoo.co.jp/finance/top/fx/indicator/RV=1/RU=aHR0cHM6Ly9pbmZvLmZpbmFuY2UueWFob28uY28uanAvZngvbWFya2V0Y2FsZW5kYXIvZGV0YWlsLzUwMTI-',\n",
      " 'https://rdsig.yahoo.co.jp/finance/top/fx/indicator/more/RV=1/RU=aHR0cHM6Ly9pbmZvLmZpbmFuY2UueWFob28uY28uanAvZngvbWFya2V0Y2FsZW5kYXIv',\n",
      " 'https://rdsig.yahoo.co.jp/finance/top/funds/head/RV=1/RU=aHR0cHM6Ly9zdG9ja3MuZmluYW5jZS55YWhvby5jby5qcC9mdW5kcy8-',\n",
      " 'https://stocks.finance.yahoo.co.jp/stocks/detail/?code=02312196',\n",
      " 'https://stocks.finance.yahoo.co.jp/stocks/detail/?code=47311207',\n",
      " 'https://stocks.finance.yahoo.co.jp/stocks/detail/?code=9C311125',\n",
      " 'https://rdsig.yahoo.co.jp/finance/top/fund/more/RV=1/RU=aHR0cHM6Ly9zdG9ja3MuZmluYW5jZS55YWhvby5jby5qcC9mdW5kcy8-',\n",
      " 'https://profile.yahoo.co.jp/fundamental/?s=3150',\n",
      " 'https://profile.yahoo.co.jp/press_release/?s=3150',\n",
      " 'https://profile.yahoo.co.jp/press_release/?s=3150&id=3150130379',\n",
      " 'https://profile.yahoo.co.jp/fundamental/?s=9449',\n",
      " 'https://profile.yahoo.co.jp/press_release/?s=9449',\n",
      " 'https://profile.yahoo.co.jp/press_release/?s=9449&id=9449130377',\n",
      " 'https://profile.yahoo.co.jp/fundamental/?s=9715',\n",
      " 'https://profile.yahoo.co.jp/press_release/?s=9715',\n",
      " 'https://profile.yahoo.co.jp/press_release/?s=9715&id=9715130376',\n",
      " 'https://profile.yahoo.co.jp/fundamental/?s=2498',\n",
      " 'https://profile.yahoo.co.jp/press_release/?s=2498',\n",
      " 'https://profile.yahoo.co.jp/press_release/?s=2498&id=2498130375',\n",
      " 'https://profile.yahoo.co.jp/new_list/new_list1.html',\n",
      " 'https://profile.yahoo.co.jp/irinfo/index.html',\n",
      " 'https://profile.yahoo.co.jp/irinfo/index.html',\n",
      " 'https://rdsig.yahoo.co.jp/finance/vip/top_pc/RV=1/RU=aHR0cHM6Ly9pbmZvLmZpbmFuY2UueWFob28uY28uanAvdmlwL3ByLw--',\n",
      " 'https://rdsig.yahoo.co.jp/finance/column/202010/pc/top/RV=1/RU=aHR0cHM6Ly9maW5hbmNlLnlhaG9vLmNvLmpwL2ZlYXR1cmUvc3BlY2lhbC9pbnZlc3RtZW50dHJ1c3QvY29sdW1uLzIwMjAxMC9pbmRleC5odG1s',\n",
      " 'https://stocks.finance.yahoo.co.jp/stocks/detail/?code=998407.O',\n",
      " 'https://stocks.finance.yahoo.co.jp/stocks/chart/?code=998407.O&ct=b',\n",
      " 'https://stocks.finance.yahoo.co.jp/stocks/detail/?code=^DJI',\n",
      " 'https://stocks.finance.yahoo.co.jp/stocks/chart/?code=^DJI&ct=b',\n",
      " 'https://stocks.finance.yahoo.co.jp/stocks/detail/?code=USDJPY=X',\n",
      " 'https://stocks.finance.yahoo.co.jp/stocks/chart/?code=USDJPY=X&ct=z&t=1m',\n",
      " 'https://rdsig.yahoo.co.jp/finance/marketsummary/worldindices/RV=1/RU=aHR0cHM6Ly9zdG9ja3MuZmluYW5jZS55YWhvby5jby5qcC9zdG9ja3MvbGlzdC9pbmRpY2VzP2FyZWE9YXNpYQ--',\n",
      " 'https://rdsig.yahoo.co.jp/finance/marketsummary/fx/RV=1/RU=aHR0cHM6Ly9pbmZvLmZpbmFuY2UueWFob28uY28uanAvZngv',\n",
      " 'https://rdsig.yahoo.co.jp/finance/top/ids/20d/RV=1/RU=aHR0cHM6Ly9zdG9ja3MuZmluYW5jZS55YWhvby5jby5qcC9zdG9ja3MvcWkvP2lkcz0yMDUw',\n",
      " 'https://rdsig.yahoo.co.jp/finance/top/ids/20d/RV=1/RU=aHR0cHM6Ly9zdG9ja3MuZmluYW5jZS55YWhvby5jby5qcC9zdG9ja3MvcWkvP2lkcz02MTAw',\n",
      " 'https://rdsig.yahoo.co.jp/finance/top/ids/20d/RV=1/RU=aHR0cHM6Ly9zdG9ja3MuZmluYW5jZS55YWhvby5jby5qcC9zdG9ja3MvcWkvP2lkcz0zNDUw',\n",
      " 'https://rdsig.yahoo.co.jp/finance/top/ids/20d/RV=1/RU=aHR0cHM6Ly9zdG9ja3MuZmluYW5jZS55YWhvby5jby5qcC9zdG9ja3MvcWkvP2lkcz03MDUw',\n",
      " 'https://rdsig.yahoo.co.jp/finance/top/ids/20d/RV=1/RU=aHR0cHM6Ly9zdG9ja3MuZmluYW5jZS55YWhvby5jby5qcC9zdG9ja3MvcWkvP2lkcz0zNjUw',\n",
      " 'https://rdsig.yahoo.co.jp/finance/top/ids/20d/RV=1/RU=aHR0cHM6Ly9zdG9ja3MuZmluYW5jZS55YWhvby5jby5qcC9zdG9ja3MvcWkvP2lkcz04MDUw',\n",
      " 'https://rdsig.yahoo.co.jp/finance/top/ids/20d/RV=1/RU=aHR0cHM6Ly9zdG9ja3MuZmluYW5jZS55YWhvby5jby5qcC9zdG9ja3MvcWkvP2lkcz0zNzAw',\n",
      " 'https://rdsig.yahoo.co.jp/finance/top/ids/20d/RV=1/RU=aHR0cHM6Ly9zdG9ja3MuZmluYW5jZS55YWhvby5jby5qcC9zdG9ja3MvcWkvP2lkcz05MDUw',\n",
      " 'https://www.yahoo-help.jp/app/answers/list/p/546/c/900,1211',\n",
      " 'https://rdsig.yahoo.co.jp/finance/top/pay/vip/evt=108336/RV=1/RU=aHR0cHM6Ly9pbmZvLmZpbmFuY2UueWFob28uY28uanAvdmlwL3ByLw--',\n",
      " 'https://rdsig.yahoo.co.jp/finance/top/pay/premium/RV=1/RU=aHR0cHM6Ly9maW5hbmNlLnlhaG9vLmNvLmpwL2ZlYXR1cmUvcHJvbW90aW9uL2R6aC9pbmRleC5odG1s',\n",
      " 'https://rdsig.yahoo.co.jp/finance/top/pay/report/evt=108338/RV=1/RU=aHR0cHM6Ly9pbmZvLmZpbmFuY2UueWFob28uY28uanAvcHIvcmVwb3J0Lw--',\n",
      " 'https://rdsig.yahoo.co.jp/finance/us-stock-volatility/pc/top_yokolink/sbi/RV=1/RU=aHR0cHM6Ly9maW5hbmNlLnlhaG9vLmNvLmpwL2ZlYXR1cmUvcHJvbW90aW9uL2Z1bmRzL3VzLXN0b2NrLXZvbGF0aWxpdHkuaHRtbA--',\n",
      " 'https://rdsig.yahoo.co.jp/finance/promotion/funds/ultra-series/pc/top_yokolink/RV=1/RU=aHR0cHM6Ly9maW5hbmNlLnlhaG9vLmNvLmpwL2ZlYXR1cmUvcHJvbW90aW9uL2Z1bmRzL3VsdHJhLWJhbGFuY2UuaHRtbA--',\n",
      " '#pagetop',\n",
      " 'https://finance.yahoo.com/',\n",
      " 'https://es-us.finanzas.yahoo.com/',\n",
      " 'https://uk.finance.yahoo.com/',\n",
      " 'https://au.finance.yahoo.com/',\n",
      " 'https://br.financas.yahoo.com/',\n",
      " 'https://ca.finance.yahoo.com/',\n",
      " 'https://fr.finance.yahoo.com/',\n",
      " 'https://de.finance.yahoo.com/',\n",
      " 'https://hk.finance.yahoo.com/',\n",
      " 'https://in.finance.yahoo.com/',\n",
      " 'https://it.finance.yahoo.com/',\n",
      " 'https://sg.finance.yahoo.com/',\n",
      " 'https://es.finance.yahoo.com/',\n",
      " 'https://tw.finance.yahoo.com/',\n",
      " 'https://www.yahoo-help.jp/app/answers/detail/p/546/a_id/45387',\n",
      " 'https://info.finance.yahoo.co.jp/dictionary/',\n",
      " 'http://www.jpx.co.jp/corporate/jpx-profile/tse/index.html',\n",
      " 'http://www.jpx.co.jp/corporate/jpx-profile/ose/index.html',\n",
      " 'http://www.nse.or.jp/',\n",
      " 'http://www.nri.co.jp/',\n",
      " 'https://corp.toyokeizai.net/',\n",
      " 'http://www.morningstar.co.jp/',\n",
      " 'https://www.refinitiv.com/ja',\n",
      " '//www.yjfx.jp/',\n",
      " 'https://privacy.yahoo.co.jp/',\n",
      " 'https://about.yahoo.co.jp/docs/info/terms/',\n",
      " 'https://about.yahoo.co.jp/info/mediastatement/',\n",
      " 'https://www.yahoo-help.jp/app/answers/detail/p/546/a_id/45297',\n",
      " 'https://info.finance.yahoo.co.jp/vip/purchase/',\n",
      " 'https://www.yahoo-help.jp/app/home/p/546/',\n",
      " 'https://rdsig.yahoo.co.jp/media/finance/footer/feedback/RV=1/RU=aHR0cHM6Ly9mZWVkYmFjay5tcy55YWhvby5jby5qcC92b2MvZmluYW5jZS12b2MvaW5wdXQ-']\n"
     ]
    }
   ],
   "source": [
    "href=[tag.get('href') for tag in soup('a')]\n",
    "href=[x for x in href if x is not None]\n",
    "pprint.pprint(href)"
   ]
  },
  {
   "cell_type": "markdown",
   "metadata": {},
   "source": [
    "**CSVファイルに出力する**"
   ]
  },
  {
   "cell_type": "code",
   "execution_count": 23,
   "metadata": {},
   "outputs": [],
   "source": [
    "# export to csv\n",
    "with open('u_scrape.csv', 'a', newline='') as f:\n",
    "    writer = csv.writer(f)\n",
    "    writer.writerow(href)"
   ]
  },
  {
   "cell_type": "markdown",
   "metadata": {},
   "source": [
    "**txtファイルに追加する**"
   ]
  },
  {
   "cell_type": "code",
   "execution_count": 24,
   "metadata": {},
   "outputs": [],
   "source": [
    "# export to txt\n",
    "with open('u_scrape.txt', mode='a') as f:\n",
    "    href='\\n'.join(href)\n",
    "    f.writelines(href)"
   ]
  },
  {
   "cell_type": "code",
   "execution_count": null,
   "metadata": {},
   "outputs": [],
   "source": []
  }
 ],
 "metadata": {
  "kernelspec": {
   "display_name": "Python 3",
   "language": "python",
   "name": "python3"
  },
  "language_info": {
   "codemirror_mode": {
    "name": "ipython",
    "version": 3
   },
   "file_extension": ".py",
   "mimetype": "text/x-python",
   "name": "python",
   "nbconvert_exporter": "python",
   "pygments_lexer": "ipython3",
   "version": "3.7.9"
  }
 },
 "nbformat": 4,
 "nbformat_minor": 4
}
