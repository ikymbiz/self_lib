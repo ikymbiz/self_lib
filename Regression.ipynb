{
 "cells": [
  {
   "cell_type": "markdown",
   "metadata": {},
   "source": [
    "# Regression"
   ]
  },
  {
   "cell_type": "markdown",
   "metadata": {},
   "source": [
    "# Linear Regression"
   ]
  },
  {
   "cell_type": "markdown",
   "metadata": {},
   "source": []
  },
  {
   "cell_type": "markdown",
   "metadata": {},
   "source": [
    "-> 機械学習の結果 x と b を出力<br>\n",
    "この結果が実際に観測された値とできるだけ近くなるようにする"
   ]
  },
  {
   "cell_type": "markdown",
   "metadata": {},
   "source": [
    "単一の入力と出力における線形モデル\n",
    ">y = x * w + b <br>\n",
    "\n",
    ">>y : 目的変数<br>\n",
    ">>x : 入力<br>\n",
    ">>w : 重み<br>\n",
    ">>b : バイアス"
   ]
  },
  {
   "cell_type": "markdown",
   "metadata": {},
   "source": [
    "複数の入力と出力における線形モデル\n",
    ">y1 = x1 * w11 + x2 * w21 + b1 <br>\n",
    ">y2 = x1 * w12 + x2 * w22 + b2 <br>\n",
    "\n",
    ">>y : 目的変数<br>\n",
    ">>x : 入力<br>\n",
    ">>w : 重み<br>\n",
    ">>b : バイアス"
   ]
  },
  {
   "cell_type": "markdown",
   "metadata": {},
   "source": [
    "目的変数がターゲット(t)に近づくようにしていく<br>\n",
    "y = x * w + b  --> t"
   ]
  },
  {
   "cell_type": "markdown",
   "metadata": {},
   "source": [
    "目的関数 -> 損失関数\n",
    "> L(y,t)"
   ]
  },
  {
   "cell_type": "markdown",
   "metadata": {},
   "source": []
  },
  {
   "cell_type": "markdown",
   "metadata": {},
   "source": [
    "# 1_線形回帰モデル\n",
    "連続的な数値を予測する<br>\n",
    "以下のポイントを充足しているか確認すること"
   ]
  },
  {
   "cell_type": "markdown",
   "metadata": {},
   "source": [
    "#### - 線形性を有している\n",
    "指数分布　->　対数変換<br>\n",
    "指数分布の場合は対数変換することで線形性をもつことになり、回帰モデルにあてはめることができる<br>\n",
    "> np.log(x)"
   ]
  },
  {
   "cell_type": "code",
   "execution_count": null,
   "metadata": {},
   "outputs": [],
   "source": [
    "# 対数変換する\n",
    "price_log = np.log(data_cleaned['price'])\n",
    "data_cleaned['price_log'] = price_log\n",
    "\n",
    "# もとの列を削除しておく\n",
    "data_cleaned = data_cleaned.drop(['price'],axis=1)\n",
    "\n",
    "# 表示\n",
    "data_cleaned"
   ]
  },
  {
   "cell_type": "markdown",
   "metadata": {
    "execution": {
     "iopub.execute_input": "2020-12-25T16:03:40.393920Z",
     "iopub.status.busy": "2020-12-25T16:03:40.393920Z",
     "iopub.status.idle": "2020-12-25T16:03:40.396924Z",
     "shell.execute_reply": "2020-12-25T16:03:40.396924Z",
     "shell.execute_reply.started": "2020-12-25T16:03:40.393920Z"
    }
   },
   "source": [
    "#### - 内生性がないこと\n",
    "→　残差が説明変数と関係している<br>"
   ]
  },
  {
   "cell_type": "markdown",
   "metadata": {},
   "source": [
    "#### - 正規性と同分散性<br>\n",
    "\n",
    "- 正規性<br>\n",
    "    中心極限定理を利用することで対処する\n",
    "- 残差の平均が０<br>\n",
    "    切片の値を加えることで対処する\n",
    "- 同分散性"
   ]
  },
  {
   "cell_type": "markdown",
   "metadata": {},
   "source": [
    "#### - 多重共線性がないこと\n",
    "http://statisticalhorizons.com/multicollinearity<br>\n",
    "statsmodel の VIF で確認することができる<br>\n",
    "　・VIF = 1     ：多重共線性はない<br>\n",
    "　・1 < VIF < 5 ：問題ない値<br>\n",
    "　・5 < VIF     ：多重共線性あり<br>\n",
    "        → 多重共線性がある列を取り除く"
   ]
  },
  {
   "cell_type": "code",
   "execution_count": null,
   "metadata": {},
   "outputs": [],
   "source": [
    "from statsmodels.stats.outliers_influence import varianve_inflation_factor\n",
    "\n",
    "# 多重共線性の有無を調べたい列を指定する\n",
    "variables = data_cleaned[['Milage','Year','Engine']]\n",
    "\n",
    "vif = pd.DataFframe()\n",
    "vif['VIF'] = [variance_inflation_factor(variables.values,i) for i in range(variables.shape[1])]\n",
    "vif['features'] = variables.columns\n",
    "vif"
   ]
  },
  {
   "cell_type": "markdown",
   "metadata": {},
   "source": [
    "## ◆線形回帰モデルの作成"
   ]
  },
  {
   "cell_type": "code",
   "execution_count": 1,
   "metadata": {
    "execution": {
     "iopub.execute_input": "2020-12-22T13:36:28.315639Z",
     "iopub.status.busy": "2020-12-22T13:36:28.315639Z",
     "iopub.status.idle": "2020-12-22T13:36:29.166692Z",
     "shell.execute_reply": "2020-12-22T13:36:29.166692Z",
     "shell.execute_reply.started": "2020-12-22T13:36:28.315639Z"
    }
   },
   "outputs": [],
   "source": [
    "import numpy as np\n",
    "import pandas as pd\n",
    "import matplotlib.pyplot as plt\n",
    "import seaborn as sns\n",
    "sns.set()\n",
    "\n",
    "%matplotlib inline"
   ]
  },
  {
   "cell_type": "code",
   "execution_count": null,
   "metadata": {},
   "outputs": [],
   "source": [
    "# 目的変数\n",
    "target = data_preprocessed['log_price']\n",
    "\n",
    "# 説明変数\n",
    "inputs = data_preprocessed.drop(['log_price'],axis=1)"
   ]
  },
  {
   "cell_type": "code",
   "execution_count": null,
   "metadata": {},
   "outputs": [],
   "source": [
    "# 正規化\n",
    "from sklearn import preprocessing\n",
    "\n",
    "scaler = preprocessing.StandardScaler()\n",
    "scaler.fit(inputs)\n",
    "\n",
    "inputs_scaled = scaler.transform(inputs) "
   ]
  },
  {
   "cell_type": "code",
   "execution_count": null,
   "metadata": {
    "execution": {
     "iopub.execute_input": "2020-12-25T16:45:57.263601Z",
     "iopub.status.busy": "2020-12-25T16:45:57.262608Z",
     "iopub.status.idle": "2020-12-25T16:45:57.265603Z",
     "shell.execute_reply": "2020-12-25T16:45:57.265603Z",
     "shell.execute_reply.started": "2020-12-25T16:45:57.263601Z"
    }
   },
   "outputs": [],
   "source": [
    "# 学習・訓練データの分割\n",
    "from sklearn.model_selection import train_test_split\n",
    "\n",
    "dataA_train, dataB_test = train_test_split(a,test_size=0.2,shuffle=True,random_state=42)"
   ]
  },
  {
   "cell_type": "code",
   "execution_count": null,
   "metadata": {},
   "outputs": [],
   "source": [
    "# 回帰分析モデルを生成\n",
    "from sklearn.linear_model import LinearRegression\n",
    "\n",
    "reg = LinearRegression()　#最小二乗法\n",
    "reg.fit(x_train,y_train)"
   ]
  },
  {
   "cell_type": "code",
   "execution_count": null,
   "metadata": {},
   "outputs": [],
   "source": [
    "# 予測\n",
    "y_hat = reg_predict(x_train)"
   ]
  },
  {
   "cell_type": "code",
   "execution_count": null,
   "metadata": {},
   "outputs": [],
   "source": [
    "# 予測結果を散布図で表示\n",
    "plt.scatter(y_train,y_hat)\n",
    "\n",
    "# ラベルを定義\n",
    "plt.xlabel('Targets(y_train)',size =10)\n",
    "plt.ylabel('Predictions(y_hat)',size =10)\n",
    "\n",
    "# 上限値・下限値設定\n",
    "plt.xlim(6,13)\n",
    "plt.ylim(6,13)\n",
    "\n",
    "# 表示\n",
    "plt.show()"
   ]
  },
  {
   "cell_type": "code",
   "execution_count": null,
   "metadata": {},
   "outputs": [],
   "source": [
    "# 評価\n",
    "reg_summary.summary()"
   ]
  },
  {
   "cell_type": "code",
   "execution_count": null,
   "metadata": {},
   "outputs": [],
   "source": [
    "# 残差（ターゲットと予測値の差）を表示\n",
    "sns.distplot(y_train - y_hat)\n",
    "plt.title('Residuals',size=18)"
   ]
  },
  {
   "cell_type": "code",
   "execution_count": null,
   "metadata": {},
   "outputs": [],
   "source": [
    "# 決定係数(データのバラツキを何％で説明しているか)\n",
    "reg.score(x_train,y_train)"
   ]
  },
  {
   "cell_type": "code",
   "execution_count": null,
   "metadata": {},
   "outputs": [],
   "source": [
    "# 重み\n",
    "# ダミー変数を含む場合、ダミー変数から落とした項目をベンチマークとしてプラス・マイナスの値づけを行う\n",
    "# 重みが大きいほど回帰に与える影響が大きい\n",
    "reg_summary = pd.DataFrame(inputs.columns.values, columns=['features'])\n",
    "reg_summary['Weights']=reg.coef_"
   ]
  },
  {
   "cell_type": "markdown",
   "metadata": {},
   "source": []
  },
  {
   "cell_type": "markdown",
   "metadata": {},
   "source": [
    "# 2_ロジスティック回帰分析"
   ]
  },
  {
   "cell_type": "markdown",
   "metadata": {},
   "source": [
    "カテゴリをもとにYes/Noを判断する場合に使われる"
   ]
  },
  {
   "cell_type": "markdown",
   "metadata": {},
   "source": [
    "ある事象が発生する確率を予測する<br>\n",
    "入力→確率\n",
    "- 内生性がないこと\n",
    "- 正規性と同分散性\n",
    "- 自己相関がないこと\n",
    "- 多重共線性がないこと"
   ]
  },
  {
   "cell_type": "markdown",
   "metadata": {},
   "source": [
    "モデル\n",
    "- ロジスティックモデル\n",
    "- ロジットモデル\n",
    "→　ロジットモデルのほうが簡潔に示すことができる"
   ]
  },
  {
   "cell_type": "markdown",
   "metadata": {},
   "source": [
    "## ◆ロジスティック回帰モデルの作成"
   ]
  },
  {
   "cell_type": "markdown",
   "metadata": {},
   "source": [
    "Import"
   ]
  },
  {
   "cell_type": "code",
   "execution_count": 2,
   "metadata": {
    "execution": {
     "iopub.execute_input": "2020-12-26T15:36:01.019016Z",
     "iopub.status.busy": "2020-12-26T15:36:01.019016Z",
     "iopub.status.idle": "2020-12-26T15:36:08.397053Z",
     "shell.execute_reply": "2020-12-26T15:36:08.397053Z",
     "shell.execute_reply.started": "2020-12-26T15:36:01.019016Z"
    }
   },
   "outputs": [],
   "source": [
    "import numpy as np\n",
    "import pandas as pd\n",
    "import statsmodels.api as sm\n",
    "import matplotlib.pyplot as plt\n",
    "import seaborn as sns\n",
    "sns.set()\n",
    "\n",
    "#Aplly a fix to the statsmodels library\n",
    "from scipy import stats\n",
    "stats.chisqprob = lambda chisq,df: stats.chi2.sf(chisq, df)"
   ]
  },
  {
   "cell_type": "code",
   "execution_count": null,
   "metadata": {},
   "outputs": [],
   "source": [
    "# Load the Data as data\n",
    "raw_data = pd.read_csv('xx.csv')"
   ]
  },
  {
   "cell_type": "code",
   "execution_count": null,
   "metadata": {},
   "outputs": [],
   "source": [
    "data = row_data.copy()\n",
    "data['Admitted'] = data['Addmitted'].map({'Yes':1,'No':0})\n",
    "data"
   ]
  },
  {
   "cell_type": "markdown",
   "metadata": {},
   "source": [
    "Regression"
   ]
  },
  {
   "cell_type": "code",
   "execution_count": null,
   "metadata": {},
   "outputs": [],
   "source": [
    "# ２つのステップで回帰モデルを作成する\n",
    "x = sm.add_constant(x1)\n",
    "reg_log = sm.Logit(y,x)　#logitモデル\n",
    "results_log = reg_log.fit"
   ]
  },
  {
   "cell_type": "markdown",
   "metadata": {},
   "source": [
    "Summary"
   ]
  },
  {
   "cell_type": "code",
   "execution_count": null,
   "metadata": {},
   "outputs": [],
   "source": [
    "results_log.summary"
   ]
  },
  {
   "cell_type": "markdown",
   "metadata": {},
   "source": [
    "Accuracy"
   ]
  },
  {
   "cell_type": "code",
   "execution_count": null,
   "metadata": {},
   "outputs": [],
   "source": [
    "# 予測\n",
    "results_log.predict()"
   ]
  },
  {
   "cell_type": "code",
   "execution_count": 12,
   "metadata": {
    "execution": {
     "iopub.execute_input": "2020-12-26T16:46:41.414263Z",
     "iopub.status.busy": "2020-12-26T16:46:41.414263Z",
     "iopub.status.idle": "2020-12-26T16:46:41.416265Z",
     "shell.execute_reply": "2020-12-26T16:46:41.416265Z",
     "shell.execute_reply.started": "2020-12-26T16:46:41.414263Z"
    }
   },
   "outputs": [],
   "source": [
    "# 混同行列\n",
    "results_log.pred_table()"
   ]
  }
 ],
 "metadata": {
  "kernelspec": {
   "display_name": "Python 3",
   "language": "python",
   "name": "python3"
  },
  "language_info": {
   "codemirror_mode": {
    "name": "ipython",
    "version": 3
   },
   "file_extension": ".py",
   "mimetype": "text/x-python",
   "name": "python",
   "nbconvert_exporter": "python",
   "pygments_lexer": "ipython3",
   "version": "3.7.9"
  }
 },
 "nbformat": 4,
 "nbformat_minor": 4
}
