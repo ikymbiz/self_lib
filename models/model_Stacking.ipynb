{
 "cells": [
  {
   "cell_type": "markdown",
   "metadata": {},
   "source": [
    "# Stacking"
   ]
  },
  {
   "cell_type": "markdown",
   "metadata": {},
   "source": [
    "http://segafreder.hatenablog.com/entry/2016/05/26/232728  \n",
    "https://github.com/ikedaosushi/python-sandbox/blob/master/ml/stacking/Stacking.ipynb"
   ]
  },
  {
   "cell_type": "code",
   "execution_count": 28,
   "metadata": {
    "execution": {
     "iopub.execute_input": "2021-01-21T15:55:48.560791Z",
     "iopub.status.busy": "2021-01-21T15:55:48.560791Z",
     "iopub.status.idle": "2021-01-21T15:55:50.200281Z",
     "shell.execute_reply": "2021-01-21T15:55:50.200281Z",
     "shell.execute_reply.started": "2021-01-21T15:55:48.560791Z"
    }
   },
   "outputs": [
    {
     "name": "stderr",
     "output_type": "stream",
     "text": [
      "[NbConvertApp] Converting notebook Stacking.ipynb to python\n",
      "[NbConvertApp] Writing 6425 bytes to Stacking.py\n"
     ]
    }
   ],
   "source": [
    "# !jupyter nbconvert --to python Stacking.ipynb"
   ]
  },
  {
   "cell_type": "code",
   "execution_count": 1,
   "metadata": {
    "execution": {
     "iopub.execute_input": "2021-01-24T06:59:14.354166Z",
     "iopub.status.busy": "2021-01-24T06:59:14.353166Z",
     "iopub.status.idle": "2021-01-24T06:59:14.359171Z",
     "shell.execute_reply": "2021-01-24T06:59:14.359171Z",
     "shell.execute_reply.started": "2021-01-24T06:59:14.354166Z"
    }
   },
   "outputs": [],
   "source": [
    "# warningの無視\n",
    "import warnings\n",
    "warnings.filterwarnings('ignore')"
   ]
  },
  {
   "cell_type": "code",
   "execution_count": 2,
   "metadata": {
    "execution": {
     "iopub.execute_input": "2021-01-24T06:59:15.328258Z",
     "iopub.status.busy": "2021-01-24T06:59:15.328258Z",
     "iopub.status.idle": "2021-01-24T06:59:16.416958Z",
     "shell.execute_reply": "2021-01-24T06:59:16.416958Z",
     "shell.execute_reply.started": "2021-01-24T06:59:15.328258Z"
    }
   },
   "outputs": [],
   "source": [
    "import pickle\n",
    "import numpy as np\n",
    "import pandas as pd\n",
    "import matplotlib.pyplot as plt\n",
    "\n",
    "from sklearn.model_selection import cross_val_score\n",
    "from sklearn.ensemble import StackingClassifier\n",
    "\n",
    "from sklearn.model_selection import GridSearchCV\n",
    "from sklearn.model_selection import KFold\n",
    "\n",
    "import xgboost as xgb\n",
    "import lightgbm as lgb\n",
    "from xgboost import XGBClassifier\n",
    "from lightgbm import LGBMClassifier\n",
    "\n",
    "from sklearn.neighbors import KNeighborsClassifier\n",
    "from sklearn.ensemble import RandomForestClassifier\n",
    "from sklearn.ensemble import ExtraTreesClassifier\n",
    "from sklearn.ensemble import GradientBoostingClassifier\n",
    "\n",
    "# from sklearn.linear_model import LogisticRegression\n",
    "from sklearn.linear_model import RidgeClassifier\n",
    "\n",
    "from sklearn.manifold import TSNE\n",
    "\n",
    "from sklearn.utils.validation import check_random_state\n",
    "\n",
    "# from keras.layers import Dense\n",
    "# from keras.layers import Dropout\n",
    "# from keras.models import Sequential\n",
    "\n",
    "from sklearn.model_selection import train_test_split\n",
    "\n",
    "from sklearn.metrics import f1_score\n",
    "\n",
    "# Jupyter上で図を表示するためのコマンド\n",
    "%matplotlib inline"
   ]
  },
  {
   "cell_type": "code",
   "execution_count": 3,
   "metadata": {
    "execution": {
     "iopub.execute_input": "2021-01-24T06:59:16.417959Z",
     "iopub.status.busy": "2021-01-24T06:59:16.417959Z",
     "iopub.status.idle": "2021-01-24T06:59:16.421962Z",
     "shell.execute_reply": "2021-01-24T06:59:16.421962Z",
     "shell.execute_reply.started": "2021-01-24T06:59:16.417959Z"
    }
   },
   "outputs": [],
   "source": [
    "def importances(model):\n",
    "    \"\"\" 変数重要度\n",
    "    \"\"\"\n",
    "    importances = model.feature_importances_\n",
    "    indices = np.argsort(importances)\n",
    "\n",
    "    plt.barh(range(len(indices[-20:])), importances[indices[-20:]] , align='center')\n",
    "    plt.yticks(range(len(indices[-20:])), feature_X[indices[-20:]])\n",
    "    plt.title('decision tree feature importance')\n",
    "    plt.xlabel('feature importance')\n",
    "    plt.ylabel('variable')\n",
    "    plt.show()"
   ]
  },
  {
   "cell_type": "code",
   "execution_count": 4,
   "metadata": {
    "execution": {
     "iopub.execute_input": "2021-01-24T06:59:17.600201Z",
     "iopub.status.busy": "2021-01-24T06:59:17.600201Z",
     "iopub.status.idle": "2021-01-24T06:59:17.767351Z",
     "shell.execute_reply": "2021-01-24T06:59:17.767351Z",
     "shell.execute_reply.started": "2021-01-24T06:59:17.600201Z"
    }
   },
   "outputs": [],
   "source": [
    "# 目的変数と説明変数の取得\n",
    "y=pd.read_pickle('../data/feature/pre_feature_data_y.pickle')\n",
    "X=pd.read_pickle('../data/feature/pre_feature_data_X.pickle')\n",
    "# submit_X=pd.read_pickle('../data/feature/test_feature_data_X.pickle')\n",
    "\n",
    "# 訓練データとテストデータの分割\n",
    "train_X, test_X, train_y, test_y = train_test_split(X, y, test_size=0.2, shuffle=True)"
   ]
  },
  {
   "cell_type": "code",
   "execution_count": 12,
   "metadata": {
    "execution": {
     "iopub.execute_input": "2021-01-24T07:00:51.809786Z",
     "iopub.status.busy": "2021-01-24T07:00:51.809786Z",
     "iopub.status.idle": "2021-01-24T07:00:51.840814Z",
     "shell.execute_reply": "2021-01-24T07:00:51.840814Z",
     "shell.execute_reply.started": "2021-01-24T07:00:51.809786Z"
    }
   },
   "outputs": [],
   "source": [
    "# train base model\n",
    "# base_model_1 = pd.read_pickle(\"../data/models/model_GS_XGB.pickle\")\n",
    "base_model_2 = pd.read_pickle(\"../data/models/model_GS_LGBM.pickle\")\n",
    "# base_model_3 = pd.read_pickle(\"../data/models/model_GS_ExTree.pickle\")\n",
    "# base_model_4 = pd.read_pickle(\"../data/models/model_GS_GB.pickle\")\n",
    "base_model_5 = pd.read_pickle(\"../data/models/model_GS_RFM.pickle\")\n",
    "# base_model_6 = pd.read_pickle(\"../data/models/model_GS_Ridge.pickle\")\n",
    "# base_model_7 = pd.read_pickle(\"../data/models/model_GS_KN.pickle\")\n",
    "# base_model_8 = pd.read_pickle(\"../data/models/model_GS_TSNE.pickle\")\n",
    "# base_model_9 = NN()"
   ]
  },
  {
   "cell_type": "code",
   "execution_count": 13,
   "metadata": {
    "execution": {
     "iopub.execute_input": "2021-01-24T07:00:52.183975Z",
     "iopub.status.busy": "2021-01-24T07:00:52.183975Z",
     "iopub.status.idle": "2021-01-24T07:00:52.185977Z",
     "shell.execute_reply": "2021-01-24T07:00:52.185977Z",
     "shell.execute_reply.started": "2021-01-24T07:00:52.183975Z"
    }
   },
   "outputs": [],
   "source": [
    "# base_model_2= LGBMClassifier()\n",
    "\n",
    "# base_model_5= RandomForestClassifier()"
   ]
  },
  {
   "cell_type": "code",
   "execution_count": 14,
   "metadata": {
    "execution": {
     "iopub.execute_input": "2021-01-24T07:00:52.584167Z",
     "iopub.status.busy": "2021-01-24T07:00:52.584167Z",
     "iopub.status.idle": "2021-01-24T07:00:53.920381Z",
     "shell.execute_reply": "2021-01-24T07:00:53.920381Z",
     "shell.execute_reply.started": "2021-01-24T07:00:52.584167Z"
    }
   },
   "outputs": [],
   "source": [
    "# base predicts\n",
    "# base_pred_1 = base_model_1.predict_proba(train_X)\n",
    "base_pred_2 = base_model_2.predict_proba(train_X)\n",
    "# base_pred_3 = base_model_3.predict_proba(train_X)\n",
    "# base_pred_4 = base_model_4.predict_proba(train_X)\n",
    "base_pred_5 = base_model_5.predict_proba(train_X)\n",
    "# base_pred_6 = base_model_6.predict_proba(train_X)\n",
    "# base_pred_7 = base_model_7.predict_proba(train_X)\n",
    "# base_pred_8 = base_model_8.predict_proba(train_X)\n",
    "# base_pred_9 = base_model_9.predict_proba(train_X)"
   ]
  },
  {
   "cell_type": "code",
   "execution_count": 34,
   "metadata": {
    "execution": {
     "iopub.execute_input": "2021-01-24T08:18:45.384724Z",
     "iopub.status.busy": "2021-01-24T08:18:45.384724Z",
     "iopub.status.idle": "2021-01-24T08:18:45.725025Z",
     "shell.execute_reply": "2021-01-24T08:18:45.725025Z",
     "shell.execute_reply.started": "2021-01-24T08:18:45.384724Z"
    }
   },
   "outputs": [],
   "source": [
    "# base predicts\n",
    "# base_pred_1 = base_model_1.predict_proba(test_X)\n",
    "test_pred_2 = base_model_2.predict_proba(test_X)\n",
    "# base_pred_3 = base_model_3.predict_proba(test_X)\n",
    "# base_pred_4 = base_model_4.predict_proba(test_X)\n",
    "test_pred_5 = base_model_5.predict_proba(test_X)\n",
    "# base_pred_6 = base_model_6.predict_proba(test_X)\n",
    "# base_pred_7 = base_model_7.predict_proba(test_X)\n",
    "# base_pred_8 = base_model_8.predict_proba(test_X)\n",
    "# base_pred_9 = base_model_9.predict_proba(test_X)"
   ]
  },
  {
   "cell_type": "code",
   "execution_count": 35,
   "metadata": {
    "execution": {
     "iopub.execute_input": "2021-01-24T08:18:46.556137Z",
     "iopub.status.busy": "2021-01-24T08:18:46.556137Z",
     "iopub.status.idle": "2021-01-24T08:18:46.561141Z",
     "shell.execute_reply": "2021-01-24T08:18:46.561141Z",
     "shell.execute_reply.started": "2021-01-24T08:18:46.556137Z"
    }
   },
   "outputs": [],
   "source": [
    "# stacking モデルの　trainデータを作成 \n",
    "stack_train = np.column_stack((base_pred_2, base_pred_5))\n",
    "\n",
    "# stacking モデルの　testデータを作成 \n",
    "stack_test = np.column_stack((test_pred_2, test_pred_5))"
   ]
  },
  {
   "cell_type": "code",
   "execution_count": 36,
   "metadata": {
    "execution": {
     "iopub.execute_input": "2021-01-24T08:18:47.530017Z",
     "iopub.status.busy": "2021-01-24T08:18:47.530017Z",
     "iopub.status.idle": "2021-01-24T08:18:47.533020Z",
     "shell.execute_reply": "2021-01-24T08:18:47.533020Z",
     "shell.execute_reply.started": "2021-01-24T08:18:47.530017Z"
    }
   },
   "outputs": [
    {
     "data": {
      "text/plain": [
       "array([[9.99961715e-01, 3.82852985e-05, 0.00000000e+00, 1.00000000e+00],\n",
       "       [9.95420346e-01, 4.57965445e-03, 0.00000000e+00, 1.00000000e+00],\n",
       "       [9.97855694e-01, 2.14430625e-03, 0.00000000e+00, 1.00000000e+00],\n",
       "       ...,\n",
       "       [9.75688172e-01, 2.43118285e-02, 0.00000000e+00, 1.00000000e+00],\n",
       "       [9.99793171e-01, 2.06829327e-04, 0.00000000e+00, 1.00000000e+00],\n",
       "       [9.99419937e-01, 5.80063407e-04, 0.00000000e+00, 1.00000000e+00]])"
      ]
     },
     "execution_count": 36,
     "metadata": {},
     "output_type": "execute_result"
    }
   ],
   "source": [
    "stack_test"
   ]
  },
  {
   "cell_type": "code",
   "execution_count": 20,
   "metadata": {
    "execution": {
     "iopub.execute_input": "2021-01-24T07:01:07.446966Z",
     "iopub.status.busy": "2021-01-24T07:01:07.446966Z",
     "iopub.status.idle": "2021-01-24T07:01:07.448968Z",
     "shell.execute_reply": "2021-01-24T07:01:07.448968Z",
     "shell.execute_reply.started": "2021-01-24T07:01:07.446966Z"
    }
   },
   "outputs": [],
   "source": [
    "random_state = 1"
   ]
  },
  {
   "cell_type": "code",
   "execution_count": 21,
   "metadata": {
    "execution": {
     "iopub.execute_input": "2021-01-24T07:01:08.055318Z",
     "iopub.status.busy": "2021-01-24T07:01:08.055318Z",
     "iopub.status.idle": "2021-01-24T07:01:08.057319Z",
     "shell.execute_reply": "2021-01-24T07:01:08.057319Z",
     "shell.execute_reply.started": "2021-01-24T07:01:08.055318Z"
    }
   },
   "outputs": [],
   "source": [
    "\"\"\"ハイパーパラメータの max_depth(木の深さ), \n",
    "# n_estimators(決定木の数)に関してグリッドサーチを行う\n",
    "# グリッドサーチに使用するパラメータの値を用意\n",
    "\"\"\"\n",
    "seed=1\n",
    "# params = {\n",
    "#     'max_depth': [10, 20, 30, 50],\n",
    "#     'n_estimators': [10, 100, 1000]}"
   ]
  },
  {
   "cell_type": "code",
   "execution_count": 22,
   "metadata": {
    "execution": {
     "iopub.execute_input": "2021-01-24T07:01:08.479317Z",
     "iopub.status.busy": "2021-01-24T07:01:08.479317Z",
     "iopub.status.idle": "2021-01-24T07:01:08.481319Z",
     "shell.execute_reply": "2021-01-24T07:01:08.481319Z",
     "shell.execute_reply.started": "2021-01-24T07:01:08.479317Z"
    }
   },
   "outputs": [],
   "source": [
    "# train meta model \n",
    "meta_model = LGBMClassifier(random_state=seed)"
   ]
  },
  {
   "cell_type": "code",
   "execution_count": 23,
   "metadata": {
    "execution": {
     "iopub.execute_input": "2021-01-24T07:01:08.823288Z",
     "iopub.status.busy": "2021-01-24T07:01:08.823288Z",
     "iopub.status.idle": "2021-01-24T07:01:08.826291Z",
     "shell.execute_reply": "2021-01-24T07:01:08.826291Z",
     "shell.execute_reply.started": "2021-01-24T07:01:08.823288Z"
    }
   },
   "outputs": [],
   "source": [
    "grid = GridSearchCV(estimator=meta_model,\n",
    "#     param_grid=params,\n",
    "    n_jobs=1,\n",
    "    cv=KFold(5,shuffle=True, random_state=seed),\n",
    "    scoring='f1',\n",
    "    verbose=3,\n",
    "    return_train_score=True)"
   ]
  },
  {
   "cell_type": "code",
   "execution_count": 24,
   "metadata": {
    "collapsed": true,
    "execution": {
     "iopub.execute_input": "2021-01-24T07:01:10.066305Z",
     "iopub.status.busy": "2021-01-24T07:01:10.066305Z",
     "iopub.status.idle": "2021-01-24T08:15:11.684529Z",
     "shell.execute_reply": "2021-01-24T08:15:11.684529Z",
     "shell.execute_reply.started": "2021-01-24T07:01:10.066305Z"
    },
    "jupyter": {
     "outputs_hidden": true
    }
   },
   "outputs": [
    {
     "name": "stdout",
     "output_type": "stream",
     "text": [
      "Fitting 5 folds for each of 12 candidates, totalling 60 fits\n",
      "[16:01:10] WARNING: C:/Users/Administrator/workspace/xgboost-win64_release_1.3.0/src/learner.cc:1061: Starting in XGBoost 1.3.0, the default evaluation metric used with the objective 'binary:logistic' was changed from 'error' to 'logloss'. Explicitly set eval_metric if you'd like to restore the old behavior.\n",
      "[CV 1/5] END ..................max_depth=10, n_estimators=10; total time=   0.7s\n",
      "[16:01:11] WARNING: C:/Users/Administrator/workspace/xgboost-win64_release_1.3.0/src/learner.cc:1061: Starting in XGBoost 1.3.0, the default evaluation metric used with the objective 'binary:logistic' was changed from 'error' to 'logloss'. Explicitly set eval_metric if you'd like to restore the old behavior.\n",
      "[CV 2/5] END ..................max_depth=10, n_estimators=10; total time=   0.7s\n",
      "[16:01:11] WARNING: C:/Users/Administrator/workspace/xgboost-win64_release_1.3.0/src/learner.cc:1061: Starting in XGBoost 1.3.0, the default evaluation metric used with the objective 'binary:logistic' was changed from 'error' to 'logloss'. Explicitly set eval_metric if you'd like to restore the old behavior.\n",
      "[CV 3/5] END ..................max_depth=10, n_estimators=10; total time=   0.7s\n",
      "[16:01:12] WARNING: C:/Users/Administrator/workspace/xgboost-win64_release_1.3.0/src/learner.cc:1061: Starting in XGBoost 1.3.0, the default evaluation metric used with the objective 'binary:logistic' was changed from 'error' to 'logloss'. Explicitly set eval_metric if you'd like to restore the old behavior.\n",
      "[CV 4/5] END ..................max_depth=10, n_estimators=10; total time=   0.6s\n",
      "[16:01:13] WARNING: C:/Users/Administrator/workspace/xgboost-win64_release_1.3.0/src/learner.cc:1061: Starting in XGBoost 1.3.0, the default evaluation metric used with the objective 'binary:logistic' was changed from 'error' to 'logloss'. Explicitly set eval_metric if you'd like to restore the old behavior.\n",
      "[CV 5/5] END ..................max_depth=10, n_estimators=10; total time=   0.6s\n",
      "[16:01:14] WARNING: C:/Users/Administrator/workspace/xgboost-win64_release_1.3.0/src/learner.cc:1061: Starting in XGBoost 1.3.0, the default evaluation metric used with the objective 'binary:logistic' was changed from 'error' to 'logloss'. Explicitly set eval_metric if you'd like to restore the old behavior.\n",
      "[CV 1/5] END .................max_depth=10, n_estimators=100; total time=   6.6s\n",
      "[16:01:21] WARNING: C:/Users/Administrator/workspace/xgboost-win64_release_1.3.0/src/learner.cc:1061: Starting in XGBoost 1.3.0, the default evaluation metric used with the objective 'binary:logistic' was changed from 'error' to 'logloss'. Explicitly set eval_metric if you'd like to restore the old behavior.\n",
      "[CV 2/5] END .................max_depth=10, n_estimators=100; total time=   6.6s\n",
      "[16:01:28] WARNING: C:/Users/Administrator/workspace/xgboost-win64_release_1.3.0/src/learner.cc:1061: Starting in XGBoost 1.3.0, the default evaluation metric used with the objective 'binary:logistic' was changed from 'error' to 'logloss'. Explicitly set eval_metric if you'd like to restore the old behavior.\n",
      "[CV 3/5] END .................max_depth=10, n_estimators=100; total time=   6.6s\n",
      "[16:01:34] WARNING: C:/Users/Administrator/workspace/xgboost-win64_release_1.3.0/src/learner.cc:1061: Starting in XGBoost 1.3.0, the default evaluation metric used with the objective 'binary:logistic' was changed from 'error' to 'logloss'. Explicitly set eval_metric if you'd like to restore the old behavior.\n",
      "[CV 4/5] END .................max_depth=10, n_estimators=100; total time=   6.7s\n",
      "[16:01:41] WARNING: C:/Users/Administrator/workspace/xgboost-win64_release_1.3.0/src/learner.cc:1061: Starting in XGBoost 1.3.0, the default evaluation metric used with the objective 'binary:logistic' was changed from 'error' to 'logloss'. Explicitly set eval_metric if you'd like to restore the old behavior.\n",
      "[CV 5/5] END .................max_depth=10, n_estimators=100; total time=   6.7s\n",
      "[16:01:48] WARNING: C:/Users/Administrator/workspace/xgboost-win64_release_1.3.0/src/learner.cc:1061: Starting in XGBoost 1.3.0, the default evaluation metric used with the objective 'binary:logistic' was changed from 'error' to 'logloss'. Explicitly set eval_metric if you'd like to restore the old behavior.\n",
      "[CV 1/5] END ................max_depth=10, n_estimators=1000; total time= 1.1min\n",
      "[16:02:56] WARNING: C:/Users/Administrator/workspace/xgboost-win64_release_1.3.0/src/learner.cc:1061: Starting in XGBoost 1.3.0, the default evaluation metric used with the objective 'binary:logistic' was changed from 'error' to 'logloss'. Explicitly set eval_metric if you'd like to restore the old behavior.\n",
      "[CV 2/5] END ................max_depth=10, n_estimators=1000; total time= 1.1min\n",
      "[16:04:04] WARNING: C:/Users/Administrator/workspace/xgboost-win64_release_1.3.0/src/learner.cc:1061: Starting in XGBoost 1.3.0, the default evaluation metric used with the objective 'binary:logistic' was changed from 'error' to 'logloss'. Explicitly set eval_metric if you'd like to restore the old behavior.\n",
      "[CV 3/5] END ................max_depth=10, n_estimators=1000; total time= 1.1min\n",
      "[16:05:12] WARNING: C:/Users/Administrator/workspace/xgboost-win64_release_1.3.0/src/learner.cc:1061: Starting in XGBoost 1.3.0, the default evaluation metric used with the objective 'binary:logistic' was changed from 'error' to 'logloss'. Explicitly set eval_metric if you'd like to restore the old behavior.\n",
      "[CV 4/5] END ................max_depth=10, n_estimators=1000; total time= 1.1min\n",
      "[16:06:20] WARNING: C:/Users/Administrator/workspace/xgboost-win64_release_1.3.0/src/learner.cc:1061: Starting in XGBoost 1.3.0, the default evaluation metric used with the objective 'binary:logistic' was changed from 'error' to 'logloss'. Explicitly set eval_metric if you'd like to restore the old behavior.\n",
      "[CV 5/5] END ................max_depth=10, n_estimators=1000; total time= 1.1min\n",
      "[16:07:29] WARNING: C:/Users/Administrator/workspace/xgboost-win64_release_1.3.0/src/learner.cc:1061: Starting in XGBoost 1.3.0, the default evaluation metric used with the objective 'binary:logistic' was changed from 'error' to 'logloss'. Explicitly set eval_metric if you'd like to restore the old behavior.\n",
      "[CV 1/5] END ..................max_depth=20, n_estimators=10; total time=   1.3s\n",
      "[16:07:30] WARNING: C:/Users/Administrator/workspace/xgboost-win64_release_1.3.0/src/learner.cc:1061: Starting in XGBoost 1.3.0, the default evaluation metric used with the objective 'binary:logistic' was changed from 'error' to 'logloss'. Explicitly set eval_metric if you'd like to restore the old behavior.\n",
      "[CV 2/5] END ..................max_depth=20, n_estimators=10; total time=   1.3s\n",
      "[16:07:32] WARNING: C:/Users/Administrator/workspace/xgboost-win64_release_1.3.0/src/learner.cc:1061: Starting in XGBoost 1.3.0, the default evaluation metric used with the objective 'binary:logistic' was changed from 'error' to 'logloss'. Explicitly set eval_metric if you'd like to restore the old behavior.\n",
      "[CV 3/5] END ..................max_depth=20, n_estimators=10; total time=   1.3s\n",
      "[16:07:33] WARNING: C:/Users/Administrator/workspace/xgboost-win64_release_1.3.0/src/learner.cc:1061: Starting in XGBoost 1.3.0, the default evaluation metric used with the objective 'binary:logistic' was changed from 'error' to 'logloss'. Explicitly set eval_metric if you'd like to restore the old behavior.\n",
      "[CV 4/5] END ..................max_depth=20, n_estimators=10; total time=   1.3s\n",
      "[16:07:35] WARNING: C:/Users/Administrator/workspace/xgboost-win64_release_1.3.0/src/learner.cc:1061: Starting in XGBoost 1.3.0, the default evaluation metric used with the objective 'binary:logistic' was changed from 'error' to 'logloss'. Explicitly set eval_metric if you'd like to restore the old behavior.\n",
      "[CV 5/5] END ..................max_depth=20, n_estimators=10; total time=   1.3s\n",
      "[16:07:36] WARNING: C:/Users/Administrator/workspace/xgboost-win64_release_1.3.0/src/learner.cc:1061: Starting in XGBoost 1.3.0, the default evaluation metric used with the objective 'binary:logistic' was changed from 'error' to 'logloss'. Explicitly set eval_metric if you'd like to restore the old behavior.\n",
      "[CV 1/5] END .................max_depth=20, n_estimators=100; total time=  13.2s\n",
      "[16:07:50] WARNING: C:/Users/Administrator/workspace/xgboost-win64_release_1.3.0/src/learner.cc:1061: Starting in XGBoost 1.3.0, the default evaluation metric used with the objective 'binary:logistic' was changed from 'error' to 'logloss'. Explicitly set eval_metric if you'd like to restore the old behavior.\n",
      "[CV 2/5] END .................max_depth=20, n_estimators=100; total time=  13.3s\n",
      "[16:08:03] WARNING: C:/Users/Administrator/workspace/xgboost-win64_release_1.3.0/src/learner.cc:1061: Starting in XGBoost 1.3.0, the default evaluation metric used with the objective 'binary:logistic' was changed from 'error' to 'logloss'. Explicitly set eval_metric if you'd like to restore the old behavior.\n",
      "[CV 3/5] END .................max_depth=20, n_estimators=100; total time=  13.3s\n",
      "[16:08:17] WARNING: C:/Users/Administrator/workspace/xgboost-win64_release_1.3.0/src/learner.cc:1061: Starting in XGBoost 1.3.0, the default evaluation metric used with the objective 'binary:logistic' was changed from 'error' to 'logloss'. Explicitly set eval_metric if you'd like to restore the old behavior.\n",
      "[CV 4/5] END .................max_depth=20, n_estimators=100; total time=  13.4s\n",
      "[16:08:31] WARNING: C:/Users/Administrator/workspace/xgboost-win64_release_1.3.0/src/learner.cc:1061: Starting in XGBoost 1.3.0, the default evaluation metric used with the objective 'binary:logistic' was changed from 'error' to 'logloss'. Explicitly set eval_metric if you'd like to restore the old behavior.\n",
      "[CV 5/5] END .................max_depth=20, n_estimators=100; total time=  13.3s\n",
      "[16:08:44] WARNING: C:/Users/Administrator/workspace/xgboost-win64_release_1.3.0/src/learner.cc:1061: Starting in XGBoost 1.3.0, the default evaluation metric used with the objective 'binary:logistic' was changed from 'error' to 'logloss'. Explicitly set eval_metric if you'd like to restore the old behavior.\n",
      "[CV 1/5] END ................max_depth=20, n_estimators=1000; total time= 2.2min\n",
      "[16:10:59] WARNING: C:/Users/Administrator/workspace/xgboost-win64_release_1.3.0/src/learner.cc:1061: Starting in XGBoost 1.3.0, the default evaluation metric used with the objective 'binary:logistic' was changed from 'error' to 'logloss'. Explicitly set eval_metric if you'd like to restore the old behavior.\n",
      "[CV 2/5] END ................max_depth=20, n_estimators=1000; total time= 2.2min\n",
      "[16:13:13] WARNING: C:/Users/Administrator/workspace/xgboost-win64_release_1.3.0/src/learner.cc:1061: Starting in XGBoost 1.3.0, the default evaluation metric used with the objective 'binary:logistic' was changed from 'error' to 'logloss'. Explicitly set eval_metric if you'd like to restore the old behavior.\n",
      "[CV 3/5] END ................max_depth=20, n_estimators=1000; total time= 2.2min\n",
      "[16:15:26] WARNING: C:/Users/Administrator/workspace/xgboost-win64_release_1.3.0/src/learner.cc:1061: Starting in XGBoost 1.3.0, the default evaluation metric used with the objective 'binary:logistic' was changed from 'error' to 'logloss'. Explicitly set eval_metric if you'd like to restore the old behavior.\n",
      "[CV 4/5] END ................max_depth=20, n_estimators=1000; total time= 2.2min\n",
      "[16:17:40] WARNING: C:/Users/Administrator/workspace/xgboost-win64_release_1.3.0/src/learner.cc:1061: Starting in XGBoost 1.3.0, the default evaluation metric used with the objective 'binary:logistic' was changed from 'error' to 'logloss'. Explicitly set eval_metric if you'd like to restore the old behavior.\n",
      "[CV 5/5] END ................max_depth=20, n_estimators=1000; total time= 2.2min\n",
      "[16:19:53] WARNING: C:/Users/Administrator/workspace/xgboost-win64_release_1.3.0/src/learner.cc:1061: Starting in XGBoost 1.3.0, the default evaluation metric used with the objective 'binary:logistic' was changed from 'error' to 'logloss'. Explicitly set eval_metric if you'd like to restore the old behavior.\n",
      "[CV 1/5] END ..................max_depth=30, n_estimators=10; total time=   1.9s\n",
      "[16:19:55] WARNING: C:/Users/Administrator/workspace/xgboost-win64_release_1.3.0/src/learner.cc:1061: Starting in XGBoost 1.3.0, the default evaluation metric used with the objective 'binary:logistic' was changed from 'error' to 'logloss'. Explicitly set eval_metric if you'd like to restore the old behavior.\n",
      "[CV 2/5] END ..................max_depth=30, n_estimators=10; total time=   1.9s\n",
      "[16:19:57] WARNING: C:/Users/Administrator/workspace/xgboost-win64_release_1.3.0/src/learner.cc:1061: Starting in XGBoost 1.3.0, the default evaluation metric used with the objective 'binary:logistic' was changed from 'error' to 'logloss'. Explicitly set eval_metric if you'd like to restore the old behavior.\n",
      "[CV 3/5] END ..................max_depth=30, n_estimators=10; total time=   1.9s\n",
      "[16:19:59] WARNING: C:/Users/Administrator/workspace/xgboost-win64_release_1.3.0/src/learner.cc:1061: Starting in XGBoost 1.3.0, the default evaluation metric used with the objective 'binary:logistic' was changed from 'error' to 'logloss'. Explicitly set eval_metric if you'd like to restore the old behavior.\n",
      "[CV 4/5] END ..................max_depth=30, n_estimators=10; total time=   1.9s\n",
      "[16:20:01] WARNING: C:/Users/Administrator/workspace/xgboost-win64_release_1.3.0/src/learner.cc:1061: Starting in XGBoost 1.3.0, the default evaluation metric used with the objective 'binary:logistic' was changed from 'error' to 'logloss'. Explicitly set eval_metric if you'd like to restore the old behavior.\n",
      "[CV 5/5] END ..................max_depth=30, n_estimators=10; total time=   1.9s\n",
      "[16:20:03] WARNING: C:/Users/Administrator/workspace/xgboost-win64_release_1.3.0/src/learner.cc:1061: Starting in XGBoost 1.3.0, the default evaluation metric used with the objective 'binary:logistic' was changed from 'error' to 'logloss'. Explicitly set eval_metric if you'd like to restore the old behavior.\n",
      "[CV 1/5] END .................max_depth=30, n_estimators=100; total time=  19.3s\n",
      "[16:20:23] WARNING: C:/Users/Administrator/workspace/xgboost-win64_release_1.3.0/src/learner.cc:1061: Starting in XGBoost 1.3.0, the default evaluation metric used with the objective 'binary:logistic' was changed from 'error' to 'logloss'. Explicitly set eval_metric if you'd like to restore the old behavior.\n",
      "[CV 2/5] END .................max_depth=30, n_estimators=100; total time=  19.3s\n",
      "[16:20:42] WARNING: C:/Users/Administrator/workspace/xgboost-win64_release_1.3.0/src/learner.cc:1061: Starting in XGBoost 1.3.0, the default evaluation metric used with the objective 'binary:logistic' was changed from 'error' to 'logloss'. Explicitly set eval_metric if you'd like to restore the old behavior.\n",
      "[CV 3/5] END .................max_depth=30, n_estimators=100; total time=  19.3s\n",
      "[16:21:02] WARNING: C:/Users/Administrator/workspace/xgboost-win64_release_1.3.0/src/learner.cc:1061: Starting in XGBoost 1.3.0, the default evaluation metric used with the objective 'binary:logistic' was changed from 'error' to 'logloss'. Explicitly set eval_metric if you'd like to restore the old behavior.\n",
      "[CV 4/5] END .................max_depth=30, n_estimators=100; total time=  19.3s\n",
      "[16:21:22] WARNING: C:/Users/Administrator/workspace/xgboost-win64_release_1.3.0/src/learner.cc:1061: Starting in XGBoost 1.3.0, the default evaluation metric used with the objective 'binary:logistic' was changed from 'error' to 'logloss'. Explicitly set eval_metric if you'd like to restore the old behavior.\n",
      "[CV 5/5] END .................max_depth=30, n_estimators=100; total time=  19.4s\n",
      "[16:21:42] WARNING: C:/Users/Administrator/workspace/xgboost-win64_release_1.3.0/src/learner.cc:1061: Starting in XGBoost 1.3.0, the default evaluation metric used with the objective 'binary:logistic' was changed from 'error' to 'logloss'. Explicitly set eval_metric if you'd like to restore the old behavior.\n",
      "[CV 1/5] END ................max_depth=30, n_estimators=1000; total time= 3.3min\n",
      "[16:25:00] WARNING: C:/Users/Administrator/workspace/xgboost-win64_release_1.3.0/src/learner.cc:1061: Starting in XGBoost 1.3.0, the default evaluation metric used with the objective 'binary:logistic' was changed from 'error' to 'logloss'. Explicitly set eval_metric if you'd like to restore the old behavior.\n",
      "[CV 2/5] END ................max_depth=30, n_estimators=1000; total time= 3.3min\n",
      "[16:28:19] WARNING: C:/Users/Administrator/workspace/xgboost-win64_release_1.3.0/src/learner.cc:1061: Starting in XGBoost 1.3.0, the default evaluation metric used with the objective 'binary:logistic' was changed from 'error' to 'logloss'. Explicitly set eval_metric if you'd like to restore the old behavior.\n",
      "[CV 3/5] END ................max_depth=30, n_estimators=1000; total time= 3.3min\n",
      "[16:31:38] WARNING: C:/Users/Administrator/workspace/xgboost-win64_release_1.3.0/src/learner.cc:1061: Starting in XGBoost 1.3.0, the default evaluation metric used with the objective 'binary:logistic' was changed from 'error' to 'logloss'. Explicitly set eval_metric if you'd like to restore the old behavior.\n",
      "[CV 4/5] END ................max_depth=30, n_estimators=1000; total time= 3.3min\n",
      "[16:34:57] WARNING: C:/Users/Administrator/workspace/xgboost-win64_release_1.3.0/src/learner.cc:1061: Starting in XGBoost 1.3.0, the default evaluation metric used with the objective 'binary:logistic' was changed from 'error' to 'logloss'. Explicitly set eval_metric if you'd like to restore the old behavior.\n",
      "[CV 5/5] END ................max_depth=30, n_estimators=1000; total time= 3.3min\n",
      "[16:38:15] WARNING: C:/Users/Administrator/workspace/xgboost-win64_release_1.3.0/src/learner.cc:1061: Starting in XGBoost 1.3.0, the default evaluation metric used with the objective 'binary:logistic' was changed from 'error' to 'logloss'. Explicitly set eval_metric if you'd like to restore the old behavior.\n",
      "[CV 1/5] END ..................max_depth=50, n_estimators=10; total time=   2.8s\n",
      "[16:38:18] WARNING: C:/Users/Administrator/workspace/xgboost-win64_release_1.3.0/src/learner.cc:1061: Starting in XGBoost 1.3.0, the default evaluation metric used with the objective 'binary:logistic' was changed from 'error' to 'logloss'. Explicitly set eval_metric if you'd like to restore the old behavior.\n",
      "[CV 2/5] END ..................max_depth=50, n_estimators=10; total time=   2.7s\n",
      "[16:38:21] WARNING: C:/Users/Administrator/workspace/xgboost-win64_release_1.3.0/src/learner.cc:1061: Starting in XGBoost 1.3.0, the default evaluation metric used with the objective 'binary:logistic' was changed from 'error' to 'logloss'. Explicitly set eval_metric if you'd like to restore the old behavior.\n",
      "[CV 3/5] END ..................max_depth=50, n_estimators=10; total time=   2.8s\n",
      "[16:38:24] WARNING: C:/Users/Administrator/workspace/xgboost-win64_release_1.3.0/src/learner.cc:1061: Starting in XGBoost 1.3.0, the default evaluation metric used with the objective 'binary:logistic' was changed from 'error' to 'logloss'. Explicitly set eval_metric if you'd like to restore the old behavior.\n",
      "[CV 4/5] END ..................max_depth=50, n_estimators=10; total time=   2.8s\n",
      "[16:38:27] WARNING: C:/Users/Administrator/workspace/xgboost-win64_release_1.3.0/src/learner.cc:1061: Starting in XGBoost 1.3.0, the default evaluation metric used with the objective 'binary:logistic' was changed from 'error' to 'logloss'. Explicitly set eval_metric if you'd like to restore the old behavior.\n",
      "[CV 5/5] END ..................max_depth=50, n_estimators=10; total time=   2.8s\n",
      "[16:38:30] WARNING: C:/Users/Administrator/workspace/xgboost-win64_release_1.3.0/src/learner.cc:1061: Starting in XGBoost 1.3.0, the default evaluation metric used with the objective 'binary:logistic' was changed from 'error' to 'logloss'. Explicitly set eval_metric if you'd like to restore the old behavior.\n",
      "[CV 1/5] END .................max_depth=50, n_estimators=100; total time=  31.8s\n",
      "[16:39:02] WARNING: C:/Users/Administrator/workspace/xgboost-win64_release_1.3.0/src/learner.cc:1061: Starting in XGBoost 1.3.0, the default evaluation metric used with the objective 'binary:logistic' was changed from 'error' to 'logloss'. Explicitly set eval_metric if you'd like to restore the old behavior.\n",
      "[CV 2/5] END .................max_depth=50, n_estimators=100; total time=  31.5s\n",
      "[16:39:34] WARNING: C:/Users/Administrator/workspace/xgboost-win64_release_1.3.0/src/learner.cc:1061: Starting in XGBoost 1.3.0, the default evaluation metric used with the objective 'binary:logistic' was changed from 'error' to 'logloss'. Explicitly set eval_metric if you'd like to restore the old behavior.\n",
      "[CV 3/5] END .................max_depth=50, n_estimators=100; total time=  31.7s\n",
      "[16:40:06] WARNING: C:/Users/Administrator/workspace/xgboost-win64_release_1.3.0/src/learner.cc:1061: Starting in XGBoost 1.3.0, the default evaluation metric used with the objective 'binary:logistic' was changed from 'error' to 'logloss'. Explicitly set eval_metric if you'd like to restore the old behavior.\n",
      "[CV 4/5] END .................max_depth=50, n_estimators=100; total time=  31.6s\n",
      "[16:40:38] WARNING: C:/Users/Administrator/workspace/xgboost-win64_release_1.3.0/src/learner.cc:1061: Starting in XGBoost 1.3.0, the default evaluation metric used with the objective 'binary:logistic' was changed from 'error' to 'logloss'. Explicitly set eval_metric if you'd like to restore the old behavior.\n",
      "[CV 5/5] END .................max_depth=50, n_estimators=100; total time=  31.7s\n",
      "[16:41:10] WARNING: C:/Users/Administrator/workspace/xgboost-win64_release_1.3.0/src/learner.cc:1061: Starting in XGBoost 1.3.0, the default evaluation metric used with the objective 'binary:logistic' was changed from 'error' to 'logloss'. Explicitly set eval_metric if you'd like to restore the old behavior.\n",
      "[CV 1/5] END ................max_depth=50, n_estimators=1000; total time= 5.4min\n",
      "[16:46:39] WARNING: C:/Users/Administrator/workspace/xgboost-win64_release_1.3.0/src/learner.cc:1061: Starting in XGBoost 1.3.0, the default evaluation metric used with the objective 'binary:logistic' was changed from 'error' to 'logloss'. Explicitly set eval_metric if you'd like to restore the old behavior.\n",
      "[CV 2/5] END ................max_depth=50, n_estimators=1000; total time= 5.4min\n",
      "[16:52:06] WARNING: C:/Users/Administrator/workspace/xgboost-win64_release_1.3.0/src/learner.cc:1061: Starting in XGBoost 1.3.0, the default evaluation metric used with the objective 'binary:logistic' was changed from 'error' to 'logloss'. Explicitly set eval_metric if you'd like to restore the old behavior.\n",
      "[CV 3/5] END ................max_depth=50, n_estimators=1000; total time= 5.4min\n",
      "[16:57:32] WARNING: C:/Users/Administrator/workspace/xgboost-win64_release_1.3.0/src/learner.cc:1061: Starting in XGBoost 1.3.0, the default evaluation metric used with the objective 'binary:logistic' was changed from 'error' to 'logloss'. Explicitly set eval_metric if you'd like to restore the old behavior.\n",
      "[CV 4/5] END ................max_depth=50, n_estimators=1000; total time= 5.4min\n",
      "[17:03:01] WARNING: C:/Users/Administrator/workspace/xgboost-win64_release_1.3.0/src/learner.cc:1061: Starting in XGBoost 1.3.0, the default evaluation metric used with the objective 'binary:logistic' was changed from 'error' to 'logloss'. Explicitly set eval_metric if you'd like to restore the old behavior.\n",
      "[CV 5/5] END ................max_depth=50, n_estimators=1000; total time= 5.4min\n",
      "[17:08:29] WARNING: C:/Users/Administrator/workspace/xgboost-win64_release_1.3.0/src/learner.cc:1061: Starting in XGBoost 1.3.0, the default evaluation metric used with the objective 'binary:logistic' was changed from 'error' to 'logloss'. Explicitly set eval_metric if you'd like to restore the old behavior.\n"
     ]
    },
    {
     "data": {
      "text/plain": [
       "GridSearchCV(cv=KFold(n_splits=5, random_state=1, shuffle=True),\n",
       "             estimator=XGBClassifier(base_score=None, booster=None,\n",
       "                                     colsample_bylevel=None,\n",
       "                                     colsample_bynode=None,\n",
       "                                     colsample_bytree=None, gamma=None,\n",
       "                                     gpu_id=None, importance_type='gain',\n",
       "                                     interaction_constraints=None,\n",
       "                                     learning_rate=None, max_delta_step=None,\n",
       "                                     max_depth=None, min_child_weight=None,\n",
       "                                     missing=nan, monotone_constraints=None,\n",
       "                                     n_estimators=100, n_jobs=None,\n",
       "                                     num_parallel_tree=None, random_state=1,\n",
       "                                     reg_alpha=None, reg_lambda=None,\n",
       "                                     scale_pos_weight=None, subsample=None,\n",
       "                                     tree_method=None, validate_parameters=None,\n",
       "                                     verbosity=None),\n",
       "             n_jobs=1,\n",
       "             param_grid={'max_depth': [10, 20, 30, 50],\n",
       "                         'n_estimators': [10, 100, 1000]},\n",
       "             return_train_score=True, scoring='f1', verbose=3)"
      ]
     },
     "execution_count": 24,
     "metadata": {},
     "output_type": "execute_result"
    }
   ],
   "source": [
    "# meta_model.fit(stacked_predictions, valid_y)\n",
    "grid.fit(stack_train, train_y)"
   ]
  },
  {
   "cell_type": "code",
   "execution_count": 25,
   "metadata": {
    "execution": {
     "iopub.execute_input": "2021-01-24T08:15:11.685530Z",
     "iopub.status.busy": "2021-01-24T08:15:11.685530Z",
     "iopub.status.idle": "2021-01-24T08:15:11.689534Z",
     "shell.execute_reply": "2021-01-24T08:15:11.689534Z",
     "shell.execute_reply.started": "2021-01-24T08:15:11.685530Z"
    }
   },
   "outputs": [
    {
     "name": "stdout",
     "output_type": "stream",
     "text": [
      "XGBClassifier(base_score=0.5, booster='gbtree', colsample_bylevel=1,\n",
      "              colsample_bynode=1, colsample_bytree=1, gamma=0, gpu_id=-1,\n",
      "              importance_type='gain', interaction_constraints='',\n",
      "              learning_rate=0.300000012, max_delta_step=0, max_depth=50,\n",
      "              min_child_weight=1, missing=nan, monotone_constraints='()',\n",
      "              n_estimators=1000, n_jobs=16, num_parallel_tree=1, random_state=1,\n",
      "              reg_alpha=0, reg_lambda=1, scale_pos_weight=1, subsample=1,\n",
      "              tree_method='exact', validate_parameters=1, verbosity=None)\n"
     ]
    }
   ],
   "source": [
    "print(grid.best_estimator_)"
   ]
  },
  {
   "cell_type": "code",
   "execution_count": 32,
   "metadata": {
    "execution": {
     "iopub.execute_input": "2021-01-24T08:16:59.854593Z",
     "iopub.status.busy": "2021-01-24T08:16:59.854593Z",
     "iopub.status.idle": "2021-01-24T08:16:59.856595Z",
     "shell.execute_reply": "2021-01-24T08:16:59.856595Z",
     "shell.execute_reply.started": "2021-01-24T08:16:59.854593Z"
    }
   },
   "outputs": [],
   "source": [
    "# 最適解でモデルを作成\n",
    "meta_model = grid.best_estimator_"
   ]
  },
  {
   "cell_type": "code",
   "execution_count": 27,
   "metadata": {
    "execution": {
     "iopub.execute_input": "2021-01-24T08:15:11.694538Z",
     "iopub.status.busy": "2021-01-24T08:15:11.694538Z",
     "iopub.status.idle": "2021-01-24T08:15:12.724475Z",
     "shell.execute_reply": "2021-01-24T08:15:12.724475Z",
     "shell.execute_reply.started": "2021-01-24T08:15:11.694538Z"
    }
   },
   "outputs": [],
   "source": [
    "# final result \n",
    "pred = meta_model.predict(stack_test)"
   ]
  },
  {
   "cell_type": "code",
   "execution_count": 28,
   "metadata": {
    "execution": {
     "iopub.execute_input": "2021-01-24T08:15:12.725476Z",
     "iopub.status.busy": "2021-01-24T08:15:12.725476Z",
     "iopub.status.idle": "2021-01-24T08:15:12.742491Z",
     "shell.execute_reply": "2021-01-24T08:15:12.742491Z",
     "shell.execute_reply.started": "2021-01-24T08:15:12.725476Z"
    }
   },
   "outputs": [
    {
     "name": "stdout",
     "output_type": "stream",
     "text": [
      "f1_score of meta model: 0.3074\n"
     ]
    }
   ],
   "source": [
    "print (\"f1_score of meta model: {:.4f}\".format(f1_score(pred,test_y)) )"
   ]
  },
  {
   "cell_type": "code",
   "execution_count": 29,
   "metadata": {
    "execution": {
     "iopub.execute_input": "2021-01-24T08:15:12.743492Z",
     "iopub.status.busy": "2021-01-24T08:15:12.743492Z",
     "iopub.status.idle": "2021-01-24T08:15:13.773416Z",
     "shell.execute_reply": "2021-01-24T08:15:13.773416Z",
     "shell.execute_reply.started": "2021-01-24T08:15:12.743492Z"
    }
   },
   "outputs": [],
   "source": [
    "# モデルの保存\n",
    "with open('../data/models/model_Stacking.pickle', mode='wb') as f:\n",
    "    pickle.dump(meta_model, f)"
   ]
  },
  {
   "cell_type": "code",
   "execution_count": null,
   "metadata": {},
   "outputs": [],
   "source": []
  }
 ],
 "metadata": {
  "kernelspec": {
   "display_name": "Python 3",
   "language": "python",
   "name": "python3"
  },
  "language_info": {
   "codemirror_mode": {
    "name": "ipython",
    "version": 3
   },
   "file_extension": ".py",
   "mimetype": "text/x-python",
   "name": "python",
   "nbconvert_exporter": "python",
   "pygments_lexer": "ipython3",
   "version": "3.7.9"
  },
  "widgets": {
   "application/vnd.jupyter.widget-state+json": {
    "state": {},
    "version_major": 2,
    "version_minor": 0
   }
  }
 },
 "nbformat": 4,
 "nbformat_minor": 4
}
