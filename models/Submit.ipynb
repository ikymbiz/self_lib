{
 "cells": [
  {
   "cell_type": "markdown",
   "metadata": {},
   "source": [
    "# Submit"
   ]
  },
  {
   "cell_type": "code",
   "execution_count": 1,
   "metadata": {
    "execution": {
     "iopub.execute_input": "2021-01-26T15:50:32.179846Z",
     "iopub.status.busy": "2021-01-26T15:50:32.176845Z",
     "iopub.status.idle": "2021-01-26T15:50:32.191850Z",
     "shell.execute_reply": "2021-01-26T15:50:32.190856Z",
     "shell.execute_reply.started": "2021-01-26T15:50:32.178847Z"
    }
   },
   "outputs": [],
   "source": [
    "# warningの無視\n",
    "import warnings\n",
    "warnings.filterwarnings('ignore')"
   ]
  },
  {
   "cell_type": "code",
   "execution_count": 14,
   "metadata": {
    "execution": {
     "iopub.execute_input": "2021-01-26T16:09:13.444945Z",
     "iopub.status.busy": "2021-01-26T16:09:13.444945Z",
     "iopub.status.idle": "2021-01-26T16:09:13.451951Z",
     "shell.execute_reply": "2021-01-26T16:09:13.451951Z",
     "shell.execute_reply.started": "2021-01-26T16:09:13.444945Z"
    }
   },
   "outputs": [],
   "source": [
    "# 標準ライブラリ\n",
    "import pickle\n",
    "import datetime\n",
    "from dateutil.relativedelta import relativedelta\n",
    "\n",
    "# basic\n",
    "import pandas as pd\n",
    "import numpy as np\n",
    "\n",
    "# visualize\n",
    "import matplotlib.pyplot as plt\n",
    "import seaborn as sns\n",
    "sns.set()\n",
    "\n",
    "# Preprocessing\n",
    "import category_encoders as ce\n",
    "from sklearn.model_selection import train_test_split\n",
    "from sklearn.preprocessing import StandardScaler\n",
    "\n",
    "# Categorize Models\n",
    "import xgboost as xgb\n",
    "# https://qiita.com/FJyusk56/items/0649f4362587261bd57a\n",
    "\n",
    "# Regression Models\n",
    "from sklearn.linear_model import LogisticRegression\n",
    "\n",
    "# 指標\n",
    "from sklearn.model_selection import train_test_split\n",
    "from sklearn.metrics import accuracy_score\n",
    "from sklearn.metrics import f1_score\n",
    "\n",
    "# User defined functions\n",
    "from self_lib import tips\n",
    "from self_lib import doggie_tail as d_\n",
    "from self_lib import giraffe as graph\n",
    "from self_lib import timer as t\n",
    "\n",
    "# Jupyter上で図を表示するためのコマンド\n",
    "%matplotlib inline"
   ]
  },
  {
   "cell_type": "markdown",
   "metadata": {},
   "source": [
    "### 提出用データの予測/作成"
   ]
  },
  {
   "cell_type": "code",
   "execution_count": 15,
   "metadata": {
    "execution": {
     "iopub.execute_input": "2021-01-26T16:09:14.307308Z",
     "iopub.status.busy": "2021-01-26T16:09:14.307308Z",
     "iopub.status.idle": "2021-01-26T16:09:14.461447Z",
     "shell.execute_reply": "2021-01-26T16:09:14.461447Z",
     "shell.execute_reply.started": "2021-01-26T16:09:14.307308Z"
    }
   },
   "outputs": [],
   "source": [
    "# テストデータの取得\n",
    "with open('../data/feature/test_feature_data_X.pickle','rb') as f:\n",
    "    data = pickle.load(f)"
   ]
  },
  {
   "cell_type": "code",
   "execution_count": 16,
   "metadata": {
    "execution": {
     "iopub.execute_input": "2021-01-26T16:09:17.643706Z",
     "iopub.status.busy": "2021-01-26T16:09:17.642705Z",
     "iopub.status.idle": "2021-01-26T16:09:17.675735Z",
     "shell.execute_reply": "2021-01-26T16:09:17.675735Z",
     "shell.execute_reply.started": "2021-01-26T16:09:17.643706Z"
    }
   },
   "outputs": [],
   "source": [
    "# モデルの取得\n",
    "model = pd.read_pickle('../data/models/model_GS_LGBM.pickle')"
   ]
  },
  {
   "cell_type": "code",
   "execution_count": 17,
   "metadata": {
    "execution": {
     "iopub.execute_input": "2021-01-26T16:09:18.163837Z",
     "iopub.status.busy": "2021-01-26T16:09:18.163837Z",
     "iopub.status.idle": "2021-01-26T16:09:18.166839Z",
     "shell.execute_reply": "2021-01-26T16:09:18.166839Z",
     "shell.execute_reply.started": "2021-01-26T16:09:18.163837Z"
    }
   },
   "outputs": [
    {
     "data": {
      "text/plain": [
       "(194669, 149)"
      ]
     },
     "execution_count": 17,
     "metadata": {},
     "output_type": "execute_result"
    }
   ],
   "source": [
    "data.shape"
   ]
  },
  {
   "cell_type": "code",
   "execution_count": 18,
   "metadata": {
    "execution": {
     "iopub.execute_input": "2021-01-26T16:09:18.658967Z",
     "iopub.status.busy": "2021-01-26T16:09:18.658967Z",
     "iopub.status.idle": "2021-01-26T16:09:19.469703Z",
     "shell.execute_reply": "2021-01-26T16:09:19.469703Z",
     "shell.execute_reply.started": "2021-01-26T16:09:18.658967Z"
    }
   },
   "outputs": [],
   "source": [
    "# 予測\n",
    "pred_data = model.predict(data)"
   ]
  },
  {
   "cell_type": "code",
   "execution_count": 19,
   "metadata": {
    "execution": {
     "iopub.execute_input": "2021-01-26T16:09:19.470705Z",
     "iopub.status.busy": "2021-01-26T16:09:19.470705Z",
     "iopub.status.idle": "2021-01-26T16:09:19.713926Z",
     "shell.execute_reply": "2021-01-26T16:09:19.713926Z",
     "shell.execute_reply.started": "2021-01-26T16:09:19.470705Z"
    }
   },
   "outputs": [],
   "source": [
    "filepath= \"../data/submit/\"\n",
    "filename= \"submit_0124_1.csv\"\n",
    "\n",
    "# 提出サンプルデータの読み込み\n",
    "form_data=pd.read_csv('../data/raw/sample_submission.csv')\n",
    "\n",
    "# 提出用のデータを作成し、csv形式で保存\n",
    "form_data['LoanStatus'] = pred_data\n",
    "form_data.to_csv(filepath + filename, index=False)"
   ]
  },
  {
   "cell_type": "code",
   "execution_count": 20,
   "metadata": {
    "execution": {
     "iopub.execute_input": "2021-01-26T16:09:20.444554Z",
     "iopub.status.busy": "2021-01-26T16:09:20.443554Z",
     "iopub.status.idle": "2021-01-26T16:09:20.447557Z",
     "shell.execute_reply": "2021-01-26T16:09:20.447557Z",
     "shell.execute_reply.started": "2021-01-26T16:09:20.444554Z"
    }
   },
   "outputs": [
    {
     "data": {
      "text/plain": [
       "array([0, 0, 0, ..., 0, 0, 0], dtype=int64)"
      ]
     },
     "execution_count": 20,
     "metadata": {},
     "output_type": "execute_result"
    }
   ],
   "source": [
    "pred_data"
   ]
  },
  {
   "cell_type": "code",
   "execution_count": null,
   "metadata": {},
   "outputs": [],
   "source": []
  }
 ],
 "metadata": {
  "kernelspec": {
   "display_name": "Python 3",
   "language": "python",
   "name": "python3"
  },
  "language_info": {
   "codemirror_mode": {
    "name": "ipython",
    "version": 3
   },
   "file_extension": ".py",
   "mimetype": "text/x-python",
   "name": "python",
   "nbconvert_exporter": "python",
   "pygments_lexer": "ipython3",
   "version": "3.7.9"
  },
  "widgets": {
   "application/vnd.jupyter.widget-state+json": {
    "state": {},
    "version_major": 2,
    "version_minor": 0
   }
  }
 },
 "nbformat": 4,
 "nbformat_minor": 4
}
