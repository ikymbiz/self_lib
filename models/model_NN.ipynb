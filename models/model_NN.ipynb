{
 "cells": [
  {
   "cell_type": "markdown",
   "metadata": {},
   "source": [
    "# NN - keras"
   ]
  },
  {
   "cell_type": "code",
   "execution_count": 12,
   "metadata": {
    "execution": {
     "iopub.execute_input": "2021-01-17T05:58:26.028072Z",
     "iopub.status.busy": "2021-01-17T05:58:26.027072Z",
     "iopub.status.idle": "2021-01-17T05:58:26.612603Z",
     "shell.execute_reply": "2021-01-17T05:58:26.612603Z",
     "shell.execute_reply.started": "2021-01-17T05:58:26.028072Z"
    }
   },
   "outputs": [],
   "source": [
    "import numpy as np\n",
    "import matplotlib.pyplot as plt\n",
    "\n",
    "from keras.layers import Dense\n",
    "from keras.layers import Dropout\n",
    "\n",
    "from keras.models import Sequential\n",
    "\n",
    "from sklearn.model_selection import train_test_split\n",
    "from sklearn.preprocessing import StandardScalar\n",
    "\n",
    "from sklearn.metrics import logg_loss"
   ]
  },
  {
   "cell_type": "code",
   "execution_count": 1,
   "metadata": {
    "execution": {
     "iopub.execute_input": "2021-01-18T13:03:18.940421Z",
     "iopub.status.busy": "2021-01-18T13:03:18.940421Z",
     "iopub.status.idle": "2021-01-18T13:03:18.942423Z",
     "shell.execute_reply": "2021-01-18T13:03:18.942423Z",
     "shell.execute_reply.started": "2021-01-18T13:03:18.940421Z"
    }
   },
   "outputs": [],
   "source": [
    "# データのスケーリング\n",
    "scaler =StandardScaler()\n",
    "tr_X=scaler.fit_transform(tr_X)\n",
    "va_X=scaler.transform(va_X)\n",
    "test_X=scaler.transform(test_X)"
   ]
  },
  {
   "cell_type": "code",
   "execution_count": null,
   "metadata": {},
   "outputs": [],
   "source": [
    "# ニューラルネットのモデルの構築\n",
    "model=Sequential()\n",
    "model.add(Dense(256,activation='reru',input_shape=(train_X.shape[1],)))\n",
    "model.add(Dropuout(0.2))\n",
    "model.add(Dense(256,activation='reru'))\n",
    "model.add(Dropuout(0.2))\n",
    "model.add(Dense(1,activation='sigmoid'))\n",
    "\n",
    "model.compile(loss='binary_crossentropy',\n",
    "             optimizer='adam'\n",
    "             metrics=['accuracy'])"
   ]
  },
  {
   "cell_type": "code",
   "execution_count": null,
   "metadata": {},
   "outputs": [],
   "source": [
    "# 学習の実行\n",
    "# バリデーションデータもモデルに渡す\n",
    "# 学習の進行とともにスコアがどう変わるかモニタリングする\n",
    "vatch_size=128\n",
    "epochs=10\n",
    "history=model.fit(tr_X,\n",
    "                  tr_y,\n",
    "                  batch_size=batch_size,\n",
    "                  epochs=epochs,\n",
    "                  verbose=2,\n",
    "                  validation_data=(va_X,va_y))"
   ]
  },
  {
   "cell_type": "code",
   "execution_count": null,
   "metadata": {},
   "outputs": [],
   "source": [
    "# バリデーションデータでのスコアの確認\n",
    "va_pred=model.predict(va_x)\n",
    "score=log_loss(va_y,va_pred,eps=1e-7)\n",
    "print(f'logloss:{score:.4f}')"
   ]
  },
  {
   "cell_type": "code",
   "execution_count": null,
   "metadata": {},
   "outputs": [],
   "source": [
    "# 予測\n",
    "pred=model.predict(test_X)"
   ]
  }
 ],
 "metadata": {
  "kernelspec": {
   "display_name": "Python 3",
   "language": "python",
   "name": "python3"
  },
  "language_info": {
   "codemirror_mode": {
    "name": "ipython",
    "version": 3
   },
   "file_extension": ".py",
   "mimetype": "text/x-python",
   "name": "python",
   "nbconvert_exporter": "python",
   "pygments_lexer": "ipython3",
   "version": "3.7.9"
  },
  "widgets": {
   "application/vnd.jupyter.widget-state+json": {
    "state": {},
    "version_major": 2,
    "version_minor": 0
   }
  }
 },
 "nbformat": 4,
 "nbformat_minor": 4
}
