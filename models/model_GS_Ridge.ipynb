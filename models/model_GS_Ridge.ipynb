{
 "cells": [
  {
   "cell_type": "markdown",
   "metadata": {
    "execution": {
     "iopub.execute_input": "2021-01-17T06:24:00.638325Z",
     "iopub.status.busy": "2021-01-17T06:24:00.638325Z",
     "iopub.status.idle": "2021-01-17T06:24:00.640327Z",
     "shell.execute_reply": "2021-01-17T06:24:00.640327Z",
     "shell.execute_reply.started": "2021-01-17T06:24:00.638325Z"
    }
   },
   "source": [
    "# model_GS_Ridge"
   ]
  },
  {
   "cell_type": "markdown",
   "metadata": {
    "execution": {
     "iopub.execute_input": "2021-01-14T16:07:35.403347Z",
     "iopub.status.busy": "2021-01-14T16:07:35.403347Z",
     "iopub.status.idle": "2021-01-14T16:07:43.720902Z",
     "shell.execute_reply": "2021-01-14T16:07:43.718902Z",
     "shell.execute_reply.started": "2021-01-14T16:07:35.403347Z"
    }
   },
   "source": [
    "#### Grid_Search\n",
    "https://scikit-learn.org/stable/modules/model_evaluation.html#scoring-parameter  \n",
    "https://www.codexa.net/hyperparameter-tuning-python/"
   ]
  },
  {
   "cell_type": "code",
   "execution_count": 1,
   "metadata": {
    "execution": {
     "iopub.execute_input": "2021-01-23T00:29:44.406299Z",
     "iopub.status.busy": "2021-01-23T00:29:44.406299Z",
     "iopub.status.idle": "2021-01-23T00:29:45.932679Z",
     "shell.execute_reply": "2021-01-23T00:29:45.932679Z",
     "shell.execute_reply.started": "2021-01-23T00:29:44.406299Z"
    }
   },
   "outputs": [
    {
     "name": "stderr",
     "output_type": "stream",
     "text": [
      "[NbConvertApp] Converting notebook model_GS_Ridge.ipynb to python\n",
      "[NbConvertApp] Writing 2604 bytes to model_GS_Ridge.py\n"
     ]
    }
   ],
   "source": [
    "# !jupyter nbconvert --to python model_GS_Ridge.ipynb"
   ]
  },
  {
   "cell_type": "code",
   "execution_count": 1,
   "metadata": {
    "execution": {
     "iopub.execute_input": "2021-01-22T11:38:26.973333Z",
     "iopub.status.busy": "2021-01-22T11:38:26.973333Z",
     "iopub.status.idle": "2021-01-22T11:38:26.979337Z",
     "shell.execute_reply": "2021-01-22T11:38:26.979337Z",
     "shell.execute_reply.started": "2021-01-22T11:38:26.973333Z"
    }
   },
   "outputs": [],
   "source": [
    "# warningの無視\n",
    "import warnings\n",
    "warnings.filterwarnings('ignore')"
   ]
  },
  {
   "cell_type": "code",
   "execution_count": 1,
   "metadata": {
    "execution": {
     "iopub.execute_input": "2021-01-22T23:55:00.945034Z",
     "iopub.status.busy": "2021-01-22T23:55:00.945034Z",
     "iopub.status.idle": "2021-01-22T23:55:02.123226Z",
     "shell.execute_reply": "2021-01-22T23:55:02.123226Z",
     "shell.execute_reply.started": "2021-01-22T23:55:00.945034Z"
    }
   },
   "outputs": [],
   "source": [
    "import pickle\n",
    "\n",
    "import pandas as pd\n",
    "import numpy as np\n",
    "import matplotlib.pyplot as plt\n",
    "\n",
    "from sklearn.model_selection import train_test_split\n",
    "from sklearn.preprocessing import StandardScaler\n",
    "\n",
    "from sklearn.linear_model import RidgeClassifier\n",
    "\n",
    "from sklearn.model_selection import GridSearchCV\n",
    "from sklearn.model_selection import KFold\n",
    "\n",
    "from sklearn.metrics import f1_score\n",
    "\n",
    "%matplotlib inline"
   ]
  },
  {
   "cell_type": "code",
   "execution_count": 3,
   "metadata": {
    "execution": {
     "iopub.execute_input": "2021-01-22T11:38:28.240389Z",
     "iopub.status.busy": "2021-01-22T11:38:28.240389Z",
     "iopub.status.idle": "2021-01-22T11:38:28.244394Z",
     "shell.execute_reply": "2021-01-22T11:38:28.244394Z",
     "shell.execute_reply.started": "2021-01-22T11:38:28.240389Z"
    }
   },
   "outputs": [],
   "source": [
    "def importances(model):\n",
    "    \"\"\" 変数重要度\n",
    "    \"\"\"\n",
    "    importances = model.feature_importances_\n",
    "    indices = np.argsort(importances)\n",
    "\n",
    "    plt.barh(range(len(indices[-20:])), importances[indices[-20:]] , align='center')\n",
    "    plt.yticks(range(len(indices[-20:])), feature_X[indices[-20:]])\n",
    "    plt.title('decision tree feature importance')\n",
    "    plt.xlabel('feature importance')\n",
    "    plt.ylabel('variable')\n",
    "    plt.show()"
   ]
  },
  {
   "cell_type": "markdown",
   "metadata": {},
   "source": [
    "#### =========要変更==========="
   ]
  },
  {
   "cell_type": "code",
   "execution_count": 4,
   "metadata": {
    "execution": {
     "iopub.execute_input": "2021-01-22T11:38:28.245395Z",
     "iopub.status.busy": "2021-01-22T11:38:28.245395Z",
     "iopub.status.idle": "2021-01-22T11:38:28.250400Z",
     "shell.execute_reply": "2021-01-22T11:38:28.250400Z",
     "shell.execute_reply.started": "2021-01-22T11:38:28.245395Z"
    }
   },
   "outputs": [],
   "source": [
    "path = \"../data/models/\"\n",
    "modelName= \"model_GS_Ridge\""
   ]
  },
  {
   "cell_type": "markdown",
   "metadata": {},
   "source": [
    "#### ========================"
   ]
  },
  {
   "cell_type": "code",
   "execution_count": 14,
   "metadata": {
    "execution": {
     "iopub.execute_input": "2021-01-23T02:54:37.006860Z",
     "iopub.status.busy": "2021-01-23T02:54:37.006860Z",
     "iopub.status.idle": "2021-01-23T02:55:19.805698Z",
     "shell.execute_reply": "2021-01-23T02:55:19.805698Z",
     "shell.execute_reply.started": "2021-01-23T02:54:37.006860Z"
    }
   },
   "outputs": [],
   "source": [
    "train_X=pd.read_pickle('../data/feature/train_X.pickle')\n",
    "valid_X=pd.read_pickle('../data/feature/valid_X.pickle')\n",
    "test_X=pd.read_pickle('../data/feature/test_X.pickle')\n",
    "\n",
    "train_y=pd.read_pickle('../data/feature/train_y.pickle')\n",
    "valid_y=pd.read_pickle('../data/feature/valid_y.pickle')\n",
    "test_y=pd.read_pickle('../data/feature/test_y.pickle')"
   ]
  },
  {
   "cell_type": "code",
   "execution_count": null,
   "metadata": {},
   "outputs": [],
   "source": [
    "# データのスケーリング\n",
    "scaler =StandardScaler()\n",
    "train_X=scaler.fit_transform(train_X)\n",
    "valid_X=scaler.transform(valid_X)"
   ]
  },
  {
   "cell_type": "code",
   "execution_count": 10,
   "metadata": {
    "execution": {
     "iopub.execute_input": "2021-01-22T11:38:29.923276Z",
     "iopub.status.busy": "2021-01-22T11:38:29.923276Z",
     "iopub.status.idle": "2021-01-22T11:38:29.926279Z",
     "shell.execute_reply": "2021-01-22T11:38:29.926279Z",
     "shell.execute_reply.started": "2021-01-22T11:38:29.923276Z"
    }
   },
   "outputs": [],
   "source": [
    "\"\"\"ハイパーパラメータの max_depth(木の深さ), \n",
    "# n_estimators(決定木の数)に関してグリッドサーチを行う\n",
    "# グリッドサーチに使用するパラメータの値を用意\n",
    "\"\"\"\n",
    "seed=1\n",
    "params = {\"alpha\": [25,10,4,2,1.0,0.8,0.5,0.3,0.2,0.1,0.05,0.02,0.01]}"
   ]
  },
  {
   "cell_type": "markdown",
   "metadata": {},
   "source": [
    "#### =========要変更==========="
   ]
  },
  {
   "cell_type": "code",
   "execution_count": 11,
   "metadata": {
    "execution": {
     "iopub.execute_input": "2021-01-22T11:38:32.507639Z",
     "iopub.status.busy": "2021-01-22T11:38:32.507639Z",
     "iopub.status.idle": "2021-01-22T11:38:32.509641Z",
     "shell.execute_reply": "2021-01-22T11:38:32.509641Z",
     "shell.execute_reply.started": "2021-01-22T11:38:32.507639Z"
    }
   },
   "outputs": [],
   "source": [
    "model=RidgeClassifier(random_state=seed)"
   ]
  },
  {
   "cell_type": "markdown",
   "metadata": {},
   "source": [
    "#### ========================"
   ]
  },
  {
   "cell_type": "code",
   "execution_count": 12,
   "metadata": {
    "execution": {
     "iopub.execute_input": "2021-01-22T11:38:33.235640Z",
     "iopub.status.busy": "2021-01-22T11:38:33.235640Z",
     "iopub.status.idle": "2021-01-22T11:38:33.238642Z",
     "shell.execute_reply": "2021-01-22T11:38:33.238642Z",
     "shell.execute_reply.started": "2021-01-22T11:38:33.235640Z"
    }
   },
   "outputs": [],
   "source": [
    "grid = GridSearchCV(estimator=model,\n",
    "    param_grid=params,\n",
    "    n_jobs=1,\n",
    "    cv=KFold(5,shuffle=True, random_state=seed),\n",
    "    scoring='f1',\n",
    "    verbose=3,\n",
    "    return_train_score=True)"
   ]
  },
  {
   "cell_type": "code",
   "execution_count": 13,
   "metadata": {
    "execution": {
     "iopub.execute_input": "2021-01-22T11:38:34.174647Z",
     "iopub.status.busy": "2021-01-22T11:38:34.174647Z",
     "iopub.status.idle": "2021-01-22T11:38:43.458079Z",
     "shell.execute_reply": "2021-01-22T11:38:43.458079Z",
     "shell.execute_reply.started": "2021-01-22T11:38:34.174647Z"
    }
   },
   "outputs": [
    {
     "name": "stdout",
     "output_type": "stream",
     "text": [
      "Fitting 5 folds for each of 13 candidates, totalling 65 fits\n",
      "[CV 1/5] END .......................................alpha=25; total time=   0.0s\n",
      "[CV 2/5] END .......................................alpha=25; total time=   0.0s\n",
      "[CV 3/5] END .......................................alpha=25; total time=   0.0s\n",
      "[CV 4/5] END .......................................alpha=25; total time=   0.0s\n",
      "[CV 5/5] END .......................................alpha=25; total time=   0.0s\n",
      "[CV 1/5] END .......................................alpha=10; total time=   0.0s\n",
      "[CV 2/5] END .......................................alpha=10; total time=   0.0s\n",
      "[CV 3/5] END .......................................alpha=10; total time=   0.0s\n",
      "[CV 4/5] END .......................................alpha=10; total time=   0.0s\n",
      "[CV 5/5] END .......................................alpha=10; total time=   0.0s\n",
      "[CV 1/5] END ........................................alpha=4; total time=   0.0s\n",
      "[CV 2/5] END ........................................alpha=4; total time=   0.0s\n",
      "[CV 3/5] END ........................................alpha=4; total time=   0.0s\n",
      "[CV 4/5] END ........................................alpha=4; total time=   0.0s\n",
      "[CV 5/5] END ........................................alpha=4; total time=   0.0s\n",
      "[CV 1/5] END ........................................alpha=2; total time=   0.0s\n",
      "[CV 2/5] END ........................................alpha=2; total time=   0.0s\n",
      "[CV 3/5] END ........................................alpha=2; total time=   0.0s\n",
      "[CV 4/5] END ........................................alpha=2; total time=   0.0s\n",
      "[CV 5/5] END ........................................alpha=2; total time=   0.0s\n",
      "[CV 1/5] END ......................................alpha=1.0; total time=   0.0s\n",
      "[CV 2/5] END ......................................alpha=1.0; total time=   0.0s\n",
      "[CV 3/5] END ......................................alpha=1.0; total time=   0.0s\n",
      "[CV 4/5] END ......................................alpha=1.0; total time=   0.0s\n",
      "[CV 5/5] END ......................................alpha=1.0; total time=   0.0s\n",
      "[CV 1/5] END ......................................alpha=0.8; total time=   0.0s\n",
      "[CV 2/5] END ......................................alpha=0.8; total time=   0.0s\n",
      "[CV 3/5] END ......................................alpha=0.8; total time=   0.0s\n",
      "[CV 4/5] END ......................................alpha=0.8; total time=   0.0s\n",
      "[CV 5/5] END ......................................alpha=0.8; total time=   0.0s\n",
      "[CV 1/5] END ......................................alpha=0.5; total time=   0.0s\n",
      "[CV 2/5] END ......................................alpha=0.5; total time=   0.0s\n",
      "[CV 3/5] END ......................................alpha=0.5; total time=   0.0s\n",
      "[CV 4/5] END ......................................alpha=0.5; total time=   0.0s\n",
      "[CV 5/5] END ......................................alpha=0.5; total time=   0.0s\n",
      "[CV 1/5] END ......................................alpha=0.3; total time=   0.0s\n",
      "[CV 2/5] END ......................................alpha=0.3; total time=   0.0s\n",
      "[CV 3/5] END ......................................alpha=0.3; total time=   0.0s\n",
      "[CV 4/5] END ......................................alpha=0.3; total time=   0.0s\n",
      "[CV 5/5] END ......................................alpha=0.3; total time=   0.0s\n",
      "[CV 1/5] END ......................................alpha=0.2; total time=   0.0s\n",
      "[CV 2/5] END ......................................alpha=0.2; total time=   0.0s\n",
      "[CV 3/5] END ......................................alpha=0.2; total time=   0.0s\n",
      "[CV 4/5] END ......................................alpha=0.2; total time=   0.0s\n",
      "[CV 5/5] END ......................................alpha=0.2; total time=   0.0s\n",
      "[CV 1/5] END ......................................alpha=0.1; total time=   0.0s\n",
      "[CV 2/5] END ......................................alpha=0.1; total time=   0.0s\n",
      "[CV 3/5] END ......................................alpha=0.1; total time=   0.0s\n",
      "[CV 4/5] END ......................................alpha=0.1; total time=   0.0s\n",
      "[CV 5/5] END ......................................alpha=0.1; total time=   0.0s\n",
      "[CV 1/5] END .....................................alpha=0.05; total time=   0.0s\n",
      "[CV 2/5] END .....................................alpha=0.05; total time=   0.0s\n",
      "[CV 3/5] END .....................................alpha=0.05; total time=   0.0s\n",
      "[CV 4/5] END .....................................alpha=0.05; total time=   0.0s\n",
      "[CV 5/5] END .....................................alpha=0.05; total time=   0.0s\n",
      "[CV 1/5] END .....................................alpha=0.02; total time=   0.0s\n",
      "[CV 2/5] END .....................................alpha=0.02; total time=   0.0s\n",
      "[CV 3/5] END .....................................alpha=0.02; total time=   0.0s\n",
      "[CV 4/5] END .....................................alpha=0.02; total time=   0.0s\n",
      "[CV 5/5] END .....................................alpha=0.02; total time=   0.0s\n",
      "[CV 1/5] END .....................................alpha=0.01; total time=   0.0s\n",
      "[CV 2/5] END .....................................alpha=0.01; total time=   0.0s\n",
      "[CV 3/5] END .....................................alpha=0.01; total time=   0.0s\n",
      "[CV 4/5] END .....................................alpha=0.01; total time=   0.0s\n",
      "[CV 5/5] END .....................................alpha=0.01; total time=   0.0s\n"
     ]
    },
    {
     "data": {
      "text/plain": [
       "GridSearchCV(cv=KFold(n_splits=5, random_state=1, shuffle=True),\n",
       "             estimator=RidgeClassifier(random_state=1), n_jobs=1,\n",
       "             param_grid={'alpha': [25, 10, 4, 2, 1.0, 0.8, 0.5, 0.3, 0.2, 0.1,\n",
       "                                   0.05, 0.02, 0.01]},\n",
       "             return_train_score=True, scoring='f1', verbose=3)"
      ]
     },
     "execution_count": 13,
     "metadata": {},
     "output_type": "execute_result"
    }
   ],
   "source": [
    "grid.fit(train_X,  train_y)"
   ]
  },
  {
   "cell_type": "code",
   "execution_count": null,
   "metadata": {},
   "outputs": [],
   "source": [
    "print(grid.best_estimator_)"
   ]
  },
  {
   "cell_type": "code",
   "execution_count": 14,
   "metadata": {
    "execution": {
     "iopub.execute_input": "2021-01-22T11:38:43.459081Z",
     "iopub.status.busy": "2021-01-22T11:38:43.459081Z",
     "iopub.status.idle": "2021-01-22T11:38:43.461083Z",
     "shell.execute_reply": "2021-01-22T11:38:43.461083Z",
     "shell.execute_reply.started": "2021-01-22T11:38:43.459081Z"
    }
   },
   "outputs": [],
   "source": [
    "# 最適解でモデルを作成\n",
    "model = grid.best_estimator_"
   ]
  },
  {
   "cell_type": "code",
   "execution_count": 15,
   "metadata": {
    "execution": {
     "iopub.execute_input": "2021-01-22T11:38:43.462083Z",
     "iopub.status.busy": "2021-01-22T11:38:43.462083Z",
     "iopub.status.idle": "2021-01-22T11:38:43.467087Z",
     "shell.execute_reply": "2021-01-22T11:38:43.467087Z",
     "shell.execute_reply.started": "2021-01-22T11:38:43.462083Z"
    }
   },
   "outputs": [],
   "source": [
    "# モデルの保存\n",
    "with open(path + modelName + '.pickle', mode='wb') as f:\n",
    "    pickle.dump(model, f)"
   ]
  },
  {
   "cell_type": "markdown",
   "metadata": {},
   "source": [
    "#### ========================"
   ]
  },
  {
   "cell_type": "code",
   "execution_count": 35,
   "metadata": {
    "execution": {
     "iopub.execute_input": "2021-01-23T14:20:35.934155Z",
     "iopub.status.busy": "2021-01-23T14:20:35.934155Z",
     "iopub.status.idle": "2021-01-23T14:20:41.292028Z",
     "shell.execute_reply": "2021-01-23T14:20:41.292028Z",
     "shell.execute_reply.started": "2021-01-23T14:20:35.934155Z"
    }
   },
   "outputs": [],
   "source": [
    "pred=model.predict(test_X)"
   ]
  },
  {
   "cell_type": "code",
   "execution_count": 3,
   "metadata": {
    "execution": {
     "iopub.execute_input": "2021-01-23T14:29:44.529414Z",
     "iopub.status.busy": "2021-01-23T14:29:44.528413Z",
     "iopub.status.idle": "2021-01-23T14:29:44.530416Z",
     "shell.execute_reply": "2021-01-23T14:29:44.530416Z",
     "shell.execute_reply.started": "2021-01-23T14:29:44.528413Z"
    }
   },
   "outputs": [],
   "source": [
    "print(f1_score(test_y, pred))"
   ]
  },
  {
   "cell_type": "markdown",
   "metadata": {},
   "source": [
    "#### ========================"
   ]
  },
  {
   "cell_type": "code",
   "execution_count": 44,
   "metadata": {
    "execution": {
     "iopub.execute_input": "2021-01-23T14:22:09.046426Z",
     "iopub.status.busy": "2021-01-23T14:22:09.045425Z",
     "iopub.status.idle": "2021-01-23T14:22:09.048428Z",
     "shell.execute_reply": "2021-01-23T14:22:09.048428Z",
     "shell.execute_reply.started": "2021-01-23T14:22:09.046426Z"
    }
   },
   "outputs": [],
   "source": [
    "# 変数重要度を見るため、変数名を取り出しておく\n",
    "feature_X = train_X.columns\n",
    "feature_y = train_y.name"
   ]
  },
  {
   "cell_type": "code",
   "execution_count": 4,
   "metadata": {
    "execution": {
     "iopub.execute_input": "2021-01-23T14:29:50.511162Z",
     "iopub.status.busy": "2021-01-23T14:29:50.511162Z",
     "iopub.status.idle": "2021-01-23T14:29:50.513165Z",
     "shell.execute_reply": "2021-01-23T14:29:50.513165Z",
     "shell.execute_reply.started": "2021-01-23T14:29:50.511162Z"
    }
   },
   "outputs": [],
   "source": [
    "importances(model)"
   ]
  },
  {
   "cell_type": "code",
   "execution_count": null,
   "metadata": {},
   "outputs": [],
   "source": []
  },
  {
   "cell_type": "code",
   "execution_count": null,
   "metadata": {},
   "outputs": [],
   "source": []
  }
 ],
 "metadata": {
  "kernelspec": {
   "display_name": "Python 3",
   "language": "python",
   "name": "python3"
  },
  "language_info": {
   "codemirror_mode": {
    "name": "ipython",
    "version": 3
   },
   "file_extension": ".py",
   "mimetype": "text/x-python",
   "name": "python",
   "nbconvert_exporter": "python",
   "pygments_lexer": "ipython3",
   "version": "3.7.9"
  },
  "widgets": {
   "application/vnd.jupyter.widget-state+json": {
    "state": {},
    "version_major": 2,
    "version_minor": 0
   }
  }
 },
 "nbformat": 4,
 "nbformat_minor": 4
}
