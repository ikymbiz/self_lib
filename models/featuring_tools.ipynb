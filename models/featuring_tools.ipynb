{
 "cells": [
  {
   "cell_type": "code",
   "execution_count": 4,
   "metadata": {
    "execution": {
     "iopub.execute_input": "2021-01-24T13:55:10.765090Z",
     "iopub.status.busy": "2021-01-24T13:55:10.765090Z",
     "iopub.status.idle": "2021-01-24T13:55:12.267267Z",
     "shell.execute_reply": "2021-01-24T13:55:12.267267Z",
     "shell.execute_reply.started": "2021-01-24T13:55:10.765090Z"
    }
   },
   "outputs": [
    {
     "name": "stderr",
     "output_type": "stream",
     "text": [
      "[NbConvertApp] Converting notebook featuring_tools.ipynb to python\n",
      "[NbConvertApp] Writing 1193 bytes to featuring_tools.py\n"
     ]
    }
   ],
   "source": [
    "!jupyter nbconvert --to python featuring_tools.ipynb"
   ]
  },
  {
   "cell_type": "code",
   "execution_count": null,
   "metadata": {},
   "outputs": [],
   "source": [
    "import datetime\n",
    "import pandas as pd\n",
    "import numpy as np\n",
    "from sklearn.cluster import KMeans"
   ]
  },
  {
   "cell_type": "code",
   "execution_count": 2,
   "metadata": {
    "execution": {
     "iopub.execute_input": "2021-01-24T13:54:11.368166Z",
     "iopub.status.busy": "2021-01-24T13:54:11.368166Z",
     "iopub.status.idle": "2021-01-24T13:54:11.373170Z",
     "shell.execute_reply": "2021-01-24T13:54:11.373170Z",
     "shell.execute_reply.started": "2021-01-24T13:54:11.368166Z"
    }
   },
   "outputs": [],
   "source": [
    "def get_features(dic_features):\n",
    "    \"\"\"get_features(dic_features)\n",
    "    dic_features={\n",
    "      \"key\":[\"feature1\",\"feature2\",n_clusters],\n",
    "      \"\":[\"\",\"\",3],\n",
    "      \"\":[\"\",\"\",3],\n",
    "      \"\":[\"\",\"\",10],\n",
    "      \"\":[\"\",\"\",100],\n",
    "      \"\":[\"\",\"\",100]}\n",
    "    \"\"\"\n",
    "    for key in dic_features:\n",
    "        l=dic_features.get(key)\n",
    "        *l_features,cnt=l\n",
    "\n",
    "        print(datetime.datetime.now().strftime(\"%Y-%m-%d %H:%M:%S\"))\n",
    "        print(\"  > \" + key)\n",
    "        \n",
    "        # ファイル名\n",
    "        featureName=key\n",
    "        \n",
    "        # クラスターの数\n",
    "        n_clusters=cnt\n",
    "\n",
    "        # データ取得\n",
    "        print(\"  >> \" + str(l_features) + \" clustering to \" + str(cnt))\n",
    "        feature_X = data[l_features]\n",
    "\n",
    "        # クラスター\n",
    "        kmeans = KMeans(n_clusters=n_clusters, random_state=seed)\n",
    "        kmeans.fit(features_X)\n",
    "        clusters = kmeans.fit_predict(features_X)\n",
    "\n",
    "        # 保存\n",
    "        with open('../data/feature/cluster_features/' + featureName + '.pickle', mode='wb') as f:\n",
    "            pickle.dump(clusters, f)"
   ]
  },
  {
   "cell_type": "code",
   "execution_count": null,
   "metadata": {},
   "outputs": [],
   "source": []
  }
 ],
 "metadata": {
  "kernelspec": {
   "display_name": "Python 3",
   "language": "python",
   "name": "python3"
  },
  "language_info": {
   "codemirror_mode": {
    "name": "ipython",
    "version": 3
   },
   "file_extension": ".py",
   "mimetype": "text/x-python",
   "name": "python",
   "nbconvert_exporter": "python",
   "pygments_lexer": "ipython3",
   "version": "3.7.9"
  },
  "widgets": {
   "application/vnd.jupyter.widget-state+json": {
    "state": {},
    "version_major": 2,
    "version_minor": 0
   }
  }
 },
 "nbformat": 4,
 "nbformat_minor": 4
}
