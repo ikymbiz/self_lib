{
 "cells": [
  {
   "cell_type": "markdown",
   "metadata": {},
   "source": [
    "# Featuring"
   ]
  },
  {
   "cell_type": "code",
   "execution_count": 1,
   "metadata": {
    "execution": {
     "iopub.execute_input": "2021-02-12T10:54:01.414071Z",
     "iopub.status.busy": "2021-02-12T10:54:01.414071Z",
     "iopub.status.idle": "2021-02-12T10:54:01.419075Z",
     "shell.execute_reply": "2021-02-12T10:54:01.419075Z",
     "shell.execute_reply.started": "2021-02-12T10:54:01.414071Z"
    }
   },
   "outputs": [],
   "source": [
    "# warningの無視\n",
    "import warnings\n",
    "warnings.filterwarnings('ignore')"
   ]
  },
  {
   "cell_type": "code",
   "execution_count": 2,
   "metadata": {
    "execution": {
     "iopub.execute_input": "2021-02-12T10:54:01.420075Z",
     "iopub.status.busy": "2021-02-12T10:54:01.420075Z",
     "iopub.status.idle": "2021-02-12T10:54:01.525171Z",
     "shell.execute_reply": "2021-02-12T10:54:01.525171Z",
     "shell.execute_reply.started": "2021-02-12T10:54:01.420075Z"
    }
   },
   "outputs": [],
   "source": [
    "from matplotlib import rcParams\n",
    "rcParams['font.family'] = 'Yu Mincho'"
   ]
  },
  {
   "cell_type": "code",
   "execution_count": 3,
   "metadata": {
    "execution": {
     "iopub.execute_input": "2021-02-12T10:54:01.526172Z",
     "iopub.status.busy": "2021-02-12T10:54:01.526172Z",
     "iopub.status.idle": "2021-02-12T10:54:02.527366Z",
     "shell.execute_reply": "2021-02-12T10:54:02.527366Z",
     "shell.execute_reply.started": "2021-02-12T10:54:01.526172Z"
    }
   },
   "outputs": [],
   "source": [
    "# 標準ライブラリ\n",
    "import pickle\n",
    "import datetime\n",
    "from dateutil.relativedelta import relativedelta\n",
    "\n",
    "# basic\n",
    "import pandas as pd\n",
    "import numpy as np\n",
    "\n",
    "# visualize\n",
    "import matplotlib.pyplot as plt\n",
    "import seaborn as sns\n",
    "sns.set()\n",
    "\n",
    "# Preprocessing\n",
    "import category_encoders as ce\n",
    "from sklearn.model_selection import train_test_split\n",
    "from sklearn.preprocessing import StandardScaler\n",
    "from scipy import stats \n",
    "\n",
    "# User defined functions\n",
    "from self_lib import tips\n",
    "from self_lib import doggie_tail as d_\n",
    "\n",
    "# Jupyter上で図を表示するためのコマンド\n",
    "%matplotlib inline"
   ]
  },
  {
   "cell_type": "code",
   "execution_count": 4,
   "metadata": {
    "execution": {
     "iopub.execute_input": "2021-02-12T10:54:02.528365Z",
     "iopub.status.busy": "2021-02-12T10:54:02.528365Z",
     "iopub.status.idle": "2021-02-12T10:54:02.530369Z",
     "shell.execute_reply": "2021-02-12T10:54:02.530369Z",
     "shell.execute_reply.started": "2021-02-12T10:54:02.528365Z"
    }
   },
   "outputs": [],
   "source": [
    "# 表示列数を指定\n",
    "pd.set_option('display.max_columns', 100)\n",
    "pd.set_option('display.max_rows', 100)"
   ]
  },
  {
   "cell_type": "markdown",
   "metadata": {},
   "source": [
    "### version setting"
   ]
  },
  {
   "cell_type": "code",
   "execution_count": 5,
   "metadata": {
    "execution": {
     "iopub.execute_input": "2021-02-12T10:54:02.531369Z",
     "iopub.status.busy": "2021-02-12T10:54:02.531369Z",
     "iopub.status.idle": "2021-02-12T10:54:02.537374Z",
     "shell.execute_reply": "2021-02-12T10:54:02.537374Z",
     "shell.execute_reply.started": "2021-02-12T10:54:02.531369Z"
    }
   },
   "outputs": [],
   "source": [
    "mode=\"pre\"  #\"pre / test\"\n",
    "# mode=\"test\"  #\"pre / test\""
   ]
  },
  {
   "cell_type": "markdown",
   "metadata": {},
   "source": [
    " "
   ]
  },
  {
   "cell_type": "code",
   "execution_count": 6,
   "metadata": {
    "execution": {
     "iopub.execute_input": "2021-02-12T10:54:02.538375Z",
     "iopub.status.busy": "2021-02-12T10:54:02.538375Z",
     "iopub.status.idle": "2021-02-12T10:54:02.542379Z",
     "shell.execute_reply": "2021-02-12T10:54:02.542379Z",
     "shell.execute_reply.started": "2021-02-12T10:54:02.538375Z"
    }
   },
   "outputs": [],
   "source": [
    "if mode==\"pre\":\n",
    "    filepath=\"../data/feature/pre_\"\n",
    "elif mode==\"test\":\n",
    "    filepath=\"../data/feature/test_\"\n",
    "else:\n",
    "    print(\"miss spelling\")"
   ]
  },
  {
   "cell_type": "markdown",
   "metadata": {},
   "source": [
    "### Input"
   ]
  },
  {
   "cell_type": "code",
   "execution_count": 7,
   "metadata": {
    "execution": {
     "iopub.execute_input": "2021-02-12T10:54:02.543380Z",
     "iopub.status.busy": "2021-02-12T10:54:02.543380Z",
     "iopub.status.idle": "2021-02-12T10:54:02.548384Z",
     "shell.execute_reply": "2021-02-12T10:54:02.548384Z",
     "shell.execute_reply.started": "2021-02-12T10:54:02.543380Z"
    }
   },
   "outputs": [],
   "source": [
    "# data定義\n",
    "with open('../_regulation/data_def.pickle','rb') as f:\n",
    "    d_def = pickle.load(f)"
   ]
  },
  {
   "cell_type": "code",
   "execution_count": 8,
   "metadata": {
    "execution": {
     "iopub.execute_input": "2021-02-12T10:54:02.549386Z",
     "iopub.status.busy": "2021-02-12T10:54:02.549386Z",
     "iopub.status.idle": "2021-02-12T10:54:02.705527Z",
     "shell.execute_reply": "2021-02-12T10:54:02.705527Z",
     "shell.execute_reply.started": "2021-02-12T10:54:02.549386Z"
    }
   },
   "outputs": [],
   "source": [
    "# data読込み\n",
    "if mode==\"pre\":\n",
    "    # data\n",
    "    raw_data=pd.read_pickle(\"../data/pre/pre_data.pickle\")\n",
    "elif mode==\"test\":\n",
    "    # test_data\n",
    "    raw_data=pd.read_pickle(\"../data/pre/pre_test_data.pickle\")\n",
    "else:\n",
    "    print(\"miss spelling\")"
   ]
  },
  {
   "cell_type": "code",
   "execution_count": 9,
   "metadata": {
    "execution": {
     "iopub.execute_input": "2021-02-12T10:54:02.706527Z",
     "iopub.status.busy": "2021-02-12T10:54:02.706527Z",
     "iopub.status.idle": "2021-02-12T10:54:02.725546Z",
     "shell.execute_reply": "2021-02-12T10:54:02.725546Z",
     "shell.execute_reply.started": "2021-02-12T10:54:02.706527Z"
    }
   },
   "outputs": [],
   "source": [
    "data = raw_data.copy()"
   ]
  },
  {
   "cell_type": "code",
   "execution_count": 10,
   "metadata": {
    "execution": {
     "iopub.execute_input": "2021-02-12T10:54:02.726547Z",
     "iopub.status.busy": "2021-02-12T10:54:02.726547Z",
     "iopub.status.idle": "2021-02-12T10:54:02.730550Z",
     "shell.execute_reply": "2021-02-12T10:54:02.730550Z",
     "shell.execute_reply.started": "2021-02-12T10:54:02.726547Z"
    }
   },
   "outputs": [
    {
     "data": {
      "text/plain": [
       "(255477, 30)"
      ]
     },
     "execution_count": 10,
     "metadata": {},
     "output_type": "execute_result"
    }
   ],
   "source": [
    "data.shape"
   ]
  },
  {
   "cell_type": "markdown",
   "metadata": {},
   "source": [
    "　"
   ]
  },
  {
   "cell_type": "code",
   "execution_count": 11,
   "metadata": {
    "execution": {
     "iopub.execute_input": "2021-02-12T10:54:02.731551Z",
     "iopub.status.busy": "2021-02-12T10:54:02.731551Z",
     "iopub.status.idle": "2021-02-12T10:54:02.736555Z",
     "shell.execute_reply": "2021-02-12T10:54:02.736555Z",
     "shell.execute_reply.started": "2021-02-12T10:54:02.731551Z"
    }
   },
   "outputs": [
    {
     "data": {
      "text/plain": [
       "ID                                                               融資番号\n",
       "Borrower                                債務法人の名前（特定を避けるため関連のない文字列に変換済）\n",
       "City                                                     債務法人の所在地（都市）\n",
       "State                                                     債務法人の所在地（州）\n",
       "Zip                                                    債務法人の所在地（郵便番号）\n",
       "Bank                                      融資銀行名（特定を避けるため関連のない文字列に変換済）\n",
       "BankState                                                 融資銀行の所在地（州）\n",
       "SystemCode                                                産業分類システムコード\n",
       "ApprovalDate                                               支援機関による承認日\n",
       "ApprovalFY                                                支援機関による承認年度\n",
       "Term                                                          融資期間（月）\n",
       "Employees                                                  債務法人による雇用数\n",
       "ExistNew                                          1 = 既存の事業, 2 = 新規事業\n",
       "CreateJob                                                    創出された職種数\n",
       "RetainedJob                                               雇用が続いている職種数\n",
       "FranchiseCode        フランチャイズコード, (00000 or 00001) = フランチャイズ展開されていない事業\n",
       "UrbanRural                               1 = 都市部,2 = 地方都市,0 = どちらでもない\n",
       "RevLineCr                                   リボ与信枠の付与, Y = Yes, N = No\n",
       "LowLoan                                         低額融資, Y = Yes, N = No\n",
       "DisbursementDate                                                 支払い日\n",
       "DisbursementGross                                                 支払額\n",
       "BalanceGross                                                    未払い総額\n",
       "LoanStatus                                ローンの状態, 返済完了 = 0, 債務不履行 = 1\n",
       "LoanAmount                                          金融機関により承認されたローン総額\n",
       "GuaranteedLoan                                       第三者機関により承認された保証額\n",
       "dtype: object"
      ]
     },
     "execution_count": 11,
     "metadata": {},
     "output_type": "execute_result"
    }
   ],
   "source": [
    "# データ列の定義を表示する\n",
    "d_def"
   ]
  },
  {
   "cell_type": "code",
   "execution_count": 12,
   "metadata": {
    "execution": {
     "iopub.execute_input": "2021-02-12T10:54:02.737557Z",
     "iopub.status.busy": "2021-02-12T10:54:02.737557Z",
     "iopub.status.idle": "2021-02-12T10:54:02.742561Z",
     "shell.execute_reply": "2021-02-12T10:54:02.742561Z",
     "shell.execute_reply.started": "2021-02-12T10:54:02.737557Z"
    }
   },
   "outputs": [],
   "source": [
    "# d_.d(data)"
   ]
  },
  {
   "cell_type": "code",
   "execution_count": 13,
   "metadata": {
    "execution": {
     "iopub.execute_input": "2021-02-12T10:54:02.743563Z",
     "iopub.status.busy": "2021-02-12T10:54:02.743563Z",
     "iopub.status.idle": "2021-02-12T10:54:02.747566Z",
     "shell.execute_reply": "2021-02-12T10:54:02.747566Z",
     "shell.execute_reply.started": "2021-02-12T10:54:02.743563Z"
    }
   },
   "outputs": [],
   "source": [
    "# data.head()"
   ]
  },
  {
   "cell_type": "code",
   "execution_count": 14,
   "metadata": {
    "execution": {
     "iopub.execute_input": "2021-02-12T10:54:02.748567Z",
     "iopub.status.busy": "2021-02-12T10:54:02.748567Z",
     "iopub.status.idle": "2021-02-12T10:54:02.753572Z",
     "shell.execute_reply": "2021-02-12T10:54:02.753572Z",
     "shell.execute_reply.started": "2021-02-12T10:54:02.748567Z"
    }
   },
   "outputs": [],
   "source": [
    "# corr_data=data.corr()\n",
    "\n",
    "# f, ax = plt.subplots(figsize=(8, 8))\n",
    "# ax=sns.heatmap(corr_data,vmin=-1,vmax=1,cmap='coolwarm')"
   ]
  },
  {
   "cell_type": "markdown",
   "metadata": {},
   "source": [
    "　"
   ]
  },
  {
   "cell_type": "code",
   "execution_count": 15,
   "metadata": {
    "execution": {
     "iopub.execute_input": "2021-02-12T10:54:02.754572Z",
     "iopub.status.busy": "2021-02-12T10:54:02.754572Z",
     "iopub.status.idle": "2021-02-12T10:54:02.763580Z",
     "shell.execute_reply": "2021-02-12T10:54:02.763580Z",
     "shell.execute_reply.started": "2021-02-12T10:54:02.754572Z"
    }
   },
   "outputs": [],
   "source": [
    "# 目的変数yを取得する\n",
    "if mode=='pre':\n",
    "    data_y=data['LoanStatus']\n",
    "    data_y.to_pickle(filepath + 'feature_data_y.pickle')\n",
    "elif mode=='test':\n",
    "    pass"
   ]
  },
  {
   "cell_type": "code",
   "execution_count": 16,
   "metadata": {
    "execution": {
     "iopub.execute_input": "2021-02-12T10:54:02.764580Z",
     "iopub.status.busy": "2021-02-12T10:54:02.764580Z",
     "iopub.status.idle": "2021-02-12T10:54:02.766583Z",
     "shell.execute_reply": "2021-02-12T10:54:02.766583Z",
     "shell.execute_reply.started": "2021-02-12T10:54:02.764580Z"
    }
   },
   "outputs": [],
   "source": [
    "# data['LoanStatus'].value_counts()"
   ]
  },
  {
   "cell_type": "code",
   "execution_count": 17,
   "metadata": {
    "execution": {
     "iopub.execute_input": "2021-02-12T10:54:02.767584Z",
     "iopub.status.busy": "2021-02-12T10:54:02.767584Z",
     "iopub.status.idle": "2021-02-12T10:54:02.771587Z",
     "shell.execute_reply": "2021-02-12T10:54:02.771587Z",
     "shell.execute_reply.started": "2021-02-12T10:54:02.767584Z"
    }
   },
   "outputs": [],
   "source": [
    "# data['UrbanRural'].value_counts(dropna=False)"
   ]
  },
  {
   "cell_type": "code",
   "execution_count": 18,
   "metadata": {
    "execution": {
     "iopub.execute_input": "2021-02-12T10:54:02.772588Z",
     "iopub.status.busy": "2021-02-12T10:54:02.772588Z",
     "iopub.status.idle": "2021-02-12T10:54:02.776592Z",
     "shell.execute_reply": "2021-02-12T10:54:02.776592Z",
     "shell.execute_reply.started": "2021-02-12T10:54:02.772588Z"
    }
   },
   "outputs": [],
   "source": [
    "# data['RevLineCr'].value_counts(dropna=False)"
   ]
  },
  {
   "cell_type": "code",
   "execution_count": 19,
   "metadata": {
    "execution": {
     "iopub.execute_input": "2021-02-12T10:54:02.777592Z",
     "iopub.status.busy": "2021-02-12T10:54:02.776592Z",
     "iopub.status.idle": "2021-02-12T10:54:02.787602Z",
     "shell.execute_reply": "2021-02-12T10:54:02.787602Z",
     "shell.execute_reply.started": "2021-02-12T10:54:02.777592Z"
    }
   },
   "outputs": [],
   "source": [
    "# 実際の貸金総額\n",
    "data['ActualGross_log']=np.log(data['DisbursementGross']+data['BalanceGross'])\n",
    "data['ActualGross']=data['DisbursementGross']+data['BalanceGross']"
   ]
  },
  {
   "cell_type": "code",
   "execution_count": 20,
   "metadata": {
    "execution": {
     "iopub.execute_input": "2021-02-12T10:54:02.788602Z",
     "iopub.status.busy": "2021-02-12T10:54:02.788602Z",
     "iopub.status.idle": "2021-02-12T10:54:02.828639Z",
     "shell.execute_reply": "2021-02-12T10:54:02.828639Z",
     "shell.execute_reply.started": "2021-02-12T10:54:02.788602Z"
    }
   },
   "outputs": [],
   "source": [
    "# カウントが少ない値を欠損値に置換\n",
    "data['RevLineCr'][data['RevLineCr'].isna()]=np.NaN\n",
    "data['RevLineCr'][~data['RevLineCr'].isin(['Y','N'])]=np.NaN\n",
    "data['RevLineCr'][data['RevLineCr'].isin(['N'])]=0\n",
    "data['RevLineCr'][data['RevLineCr'].isin(['Y'])]=1\n",
    "# data['RevLineCr']=data['RevLineCr'].astype('int32')"
   ]
  },
  {
   "cell_type": "code",
   "execution_count": 21,
   "metadata": {
    "execution": {
     "iopub.execute_input": "2021-02-12T10:54:02.829641Z",
     "iopub.status.busy": "2021-02-12T10:54:02.829641Z",
     "iopub.status.idle": "2021-02-12T10:54:02.831641Z",
     "shell.execute_reply": "2021-02-12T10:54:02.831641Z",
     "shell.execute_reply.started": "2021-02-12T10:54:02.829641Z"
    }
   },
   "outputs": [],
   "source": [
    "# data['RevLineCr'].value_counts(dropna=False)"
   ]
  },
  {
   "cell_type": "code",
   "execution_count": 22,
   "metadata": {
    "execution": {
     "iopub.execute_input": "2021-02-12T10:54:02.834645Z",
     "iopub.status.busy": "2021-02-12T10:54:02.834645Z",
     "iopub.status.idle": "2021-02-12T10:54:02.853662Z",
     "shell.execute_reply": "2021-02-12T10:54:02.853662Z",
     "shell.execute_reply.started": "2021-02-12T10:54:02.834645Z"
    }
   },
   "outputs": [
    {
     "data": {
      "text/plain": [
       "N      221768\n",
       "Y       31989\n",
       "NaN       748\n",
       "0         435\n",
       "C         201\n",
       "S         172\n",
       "A         142\n",
       "R          22\n",
       "Name: LowLoan, dtype: int64"
      ]
     },
     "execution_count": 22,
     "metadata": {},
     "output_type": "execute_result"
    }
   ],
   "source": [
    "data['LowLoan'].value_counts(dropna=False)"
   ]
  },
  {
   "cell_type": "code",
   "execution_count": 23,
   "metadata": {
    "execution": {
     "iopub.execute_input": "2021-02-12T10:54:02.855664Z",
     "iopub.status.busy": "2021-02-12T10:54:02.854663Z",
     "iopub.status.idle": "2021-02-12T10:54:02.887693Z",
     "shell.execute_reply": "2021-02-12T10:54:02.887693Z",
     "shell.execute_reply.started": "2021-02-12T10:54:02.855664Z"
    }
   },
   "outputs": [],
   "source": [
    "# カウントが少ない値を欠損値に置換\n",
    "data['LowLoan'][data['LowLoan'].isna()]=np.NaN\n",
    "data['LowLoan'][~data['LowLoan'].isin(['N','Y'])]=np.NaN\n",
    "data['LowLoan'][data['LowLoan'].isin(['N'])]=0\n",
    "data['LowLoan'][data['LowLoan'].isin(['Y'])]=1\n",
    "# data['LowLoan']=data['LowLoan'].astype('int32')"
   ]
  },
  {
   "cell_type": "code",
   "execution_count": 24,
   "metadata": {
    "execution": {
     "iopub.execute_input": "2021-02-12T10:54:02.888694Z",
     "iopub.status.busy": "2021-02-12T10:54:02.888694Z",
     "iopub.status.idle": "2021-02-12T10:54:02.908712Z",
     "shell.execute_reply": "2021-02-12T10:54:02.908712Z",
     "shell.execute_reply.started": "2021-02-12T10:54:02.888694Z"
    }
   },
   "outputs": [
    {
     "data": {
      "text/plain": [
       "0.0    221768\n",
       "1.0     31989\n",
       "NaN      1720\n",
       "Name: LowLoan, dtype: int64"
      ]
     },
     "execution_count": 24,
     "metadata": {},
     "output_type": "execute_result"
    }
   ],
   "source": [
    "data['LowLoan'].value_counts(dropna=False)"
   ]
  },
  {
   "cell_type": "code",
   "execution_count": 25,
   "metadata": {
    "execution": {
     "iopub.execute_input": "2021-02-12T10:54:02.909713Z",
     "iopub.status.busy": "2021-02-12T10:54:02.909713Z",
     "iopub.status.idle": "2021-02-12T10:54:02.911715Z",
     "shell.execute_reply": "2021-02-12T10:54:02.911715Z",
     "shell.execute_reply.started": "2021-02-12T10:54:02.909713Z"
    }
   },
   "outputs": [],
   "source": [
    "# data['LowLoan'][data['LoanStatus']==1].value_counts(dropna=False)"
   ]
  },
  {
   "cell_type": "code",
   "execution_count": 26,
   "metadata": {
    "execution": {
     "iopub.execute_input": "2021-02-12T10:54:02.912715Z",
     "iopub.status.busy": "2021-02-12T10:54:02.912715Z",
     "iopub.status.idle": "2021-02-12T10:54:02.916718Z",
     "shell.execute_reply": "2021-02-12T10:54:02.916718Z",
     "shell.execute_reply.started": "2021-02-12T10:54:02.912715Z"
    }
   },
   "outputs": [],
   "source": [
    "# print(44640/221768)\n",
    "# print(3002/31989)\n",
    "# print(467/1720)\n",
    "# print((3002+467)/(31989+1720))"
   ]
  },
  {
   "cell_type": "code",
   "execution_count": 27,
   "metadata": {
    "execution": {
     "iopub.execute_input": "2021-02-12T10:54:02.917720Z",
     "iopub.status.busy": "2021-02-12T10:54:02.917720Z",
     "iopub.status.idle": "2021-02-12T10:54:02.921723Z",
     "shell.execute_reply": "2021-02-12T10:54:02.921723Z",
     "shell.execute_reply.started": "2021-02-12T10:54:02.917720Z"
    }
   },
   "outputs": [],
   "source": [
    "# data['FranchiseCode'].value_counts(dropna=False)"
   ]
  },
  {
   "cell_type": "code",
   "execution_count": 28,
   "metadata": {
    "execution": {
     "iopub.execute_input": "2021-02-12T10:54:02.922725Z",
     "iopub.status.busy": "2021-02-12T10:54:02.922725Z",
     "iopub.status.idle": "2021-02-12T10:54:03.166947Z",
     "shell.execute_reply": "2021-02-12T10:54:03.166947Z",
     "shell.execute_reply.started": "2021-02-12T10:54:02.922725Z"
    }
   },
   "outputs": [],
   "source": [
    "# フランチャイズコードを細分化\n",
    "# フランチャイズコードを５桁に補完する\n",
    "def addSys0(FranchiseCode):\n",
    "    if len(FranchiseCode)<=5:\n",
    "        cnt0=5-len(FranchiseCode)\n",
    "        return \"0\"*cnt0 + FranchiseCode\n",
    "    else:\n",
    "        pass\n",
    "data['FranchiseCode']=data['FranchiseCode'].astype(str)\n",
    "data['FranchiseCode']=data['FranchiseCode'].apply(lambda x : addSys0(x))"
   ]
  },
  {
   "cell_type": "code",
   "execution_count": 29,
   "metadata": {
    "execution": {
     "iopub.execute_input": "2021-02-12T10:54:03.167948Z",
     "iopub.status.busy": "2021-02-12T10:54:03.167948Z",
     "iopub.status.idle": "2021-02-12T10:54:03.634371Z",
     "shell.execute_reply": "2021-02-12T10:54:03.634371Z",
     "shell.execute_reply.started": "2021-02-12T10:54:03.167948Z"
    }
   },
   "outputs": [],
   "source": [
    "data['FranchiseCode_A']=data['FranchiseCode'].str[0]\n",
    "data['FranchiseCode_B']=data['FranchiseCode'].str[1]\n",
    "data['FranchiseCode_C']=data['FranchiseCode'].str[2]\n",
    "data['FranchiseCode_D']=data['FranchiseCode'].str[3]\n",
    "data['FranchiseCode_E']=data['FranchiseCode'].str[4]"
   ]
  },
  {
   "cell_type": "code",
   "execution_count": 30,
   "metadata": {
    "execution": {
     "iopub.execute_input": "2021-02-12T10:54:03.635372Z",
     "iopub.status.busy": "2021-02-12T10:54:03.635372Z",
     "iopub.status.idle": "2021-02-12T10:54:03.638375Z",
     "shell.execute_reply": "2021-02-12T10:54:03.638375Z",
     "shell.execute_reply.started": "2021-02-12T10:54:03.635372Z"
    }
   },
   "outputs": [],
   "source": [
    "# data['CreateJob'].value_counts(dropna=False)\n",
    "# data['CreateJob'].value_counts()"
   ]
  },
  {
   "cell_type": "code",
   "execution_count": 31,
   "metadata": {
    "execution": {
     "iopub.execute_input": "2021-02-12T10:54:03.639376Z",
     "iopub.status.busy": "2021-02-12T10:54:03.639376Z",
     "iopub.status.idle": "2021-02-12T10:54:03.648384Z",
     "shell.execute_reply": "2021-02-12T10:54:03.648384Z",
     "shell.execute_reply.started": "2021-02-12T10:54:03.639376Z"
    }
   },
   "outputs": [],
   "source": [
    "# CreateJobかどうかのカテゴリーに変換\n",
    "data['CreateJob_flg']=0\n",
    "data['CreateJob_flg'][data['CreateJob']>0]=1"
   ]
  },
  {
   "cell_type": "code",
   "execution_count": 32,
   "metadata": {
    "execution": {
     "iopub.execute_input": "2021-02-12T10:54:03.649385Z",
     "iopub.status.busy": "2021-02-12T10:54:03.649385Z",
     "iopub.status.idle": "2021-02-12T10:54:03.652388Z",
     "shell.execute_reply": "2021-02-12T10:54:03.652388Z",
     "shell.execute_reply.started": "2021-02-12T10:54:03.649385Z"
    }
   },
   "outputs": [],
   "source": [
    "# data['CreateJob'].value_counts()"
   ]
  },
  {
   "cell_type": "code",
   "execution_count": 33,
   "metadata": {
    "execution": {
     "iopub.execute_input": "2021-02-12T10:54:03.653388Z",
     "iopub.status.busy": "2021-02-12T10:54:03.653388Z",
     "iopub.status.idle": "2021-02-12T10:54:03.657392Z",
     "shell.execute_reply": "2021-02-12T10:54:03.657392Z",
     "shell.execute_reply.started": "2021-02-12T10:54:03.653388Z"
    }
   },
   "outputs": [],
   "source": [
    "# data['RetainedJob'].value_counts(dropna=False)"
   ]
  },
  {
   "cell_type": "code",
   "execution_count": 34,
   "metadata": {
    "execution": {
     "iopub.execute_input": "2021-02-12T10:54:03.658393Z",
     "iopub.status.busy": "2021-02-12T10:54:03.658393Z",
     "iopub.status.idle": "2021-02-12T10:54:03.667402Z",
     "shell.execute_reply": "2021-02-12T10:54:03.667402Z",
     "shell.execute_reply.started": "2021-02-12T10:54:03.658393Z"
    }
   },
   "outputs": [],
   "source": [
    "# RetainedJobかどうかのカテゴリーに変換\n",
    "data['RetainedJob_flg']=0\n",
    "data['RetainedJob_flg'][data['RetainedJob']>0]=1"
   ]
  },
  {
   "cell_type": "code",
   "execution_count": 35,
   "metadata": {
    "execution": {
     "iopub.execute_input": "2021-02-12T10:54:03.668403Z",
     "iopub.status.busy": "2021-02-12T10:54:03.668403Z",
     "iopub.status.idle": "2021-02-12T10:54:03.670404Z",
     "shell.execute_reply": "2021-02-12T10:54:03.670404Z",
     "shell.execute_reply.started": "2021-02-12T10:54:03.668403Z"
    }
   },
   "outputs": [],
   "source": [
    "# data['RetainedJob'].value_counts(dropna=False)"
   ]
  },
  {
   "cell_type": "code",
   "execution_count": 36,
   "metadata": {
    "execution": {
     "iopub.execute_input": "2021-02-12T10:54:03.671406Z",
     "iopub.status.busy": "2021-02-12T10:54:03.671406Z",
     "iopub.status.idle": "2021-02-12T10:54:03.706436Z",
     "shell.execute_reply": "2021-02-12T10:54:03.706436Z",
     "shell.execute_reply.started": "2021-02-12T10:54:03.671406Z"
    }
   },
   "outputs": [],
   "source": [
    "# data['ExistNew'].value_counts(dropna=False)"
   ]
  },
  {
   "cell_type": "code",
   "execution_count": 37,
   "metadata": {
    "execution": {
     "iopub.execute_input": "2021-02-12T10:54:03.707438Z",
     "iopub.status.busy": "2021-02-12T10:54:03.707438Z",
     "iopub.status.idle": "2021-02-12T10:54:04.090682Z",
     "shell.execute_reply": "2021-02-12T10:54:04.090682Z",
     "shell.execute_reply.started": "2021-02-12T10:54:03.707438Z"
    }
   },
   "outputs": [],
   "source": [
    "# ExistNewかどうかのカテゴリーに変換\n",
    "data['ExistNew'][data['ExistNew'].isna()]=0\n",
    "data['ExistNew']=data['ExistNew'].astype(int)"
   ]
  },
  {
   "cell_type": "code",
   "execution_count": 38,
   "metadata": {
    "execution": {
     "iopub.execute_input": "2021-02-12T10:54:04.091682Z",
     "iopub.status.busy": "2021-02-12T10:54:04.091682Z",
     "iopub.status.idle": "2021-02-12T10:54:04.096687Z",
     "shell.execute_reply": "2021-02-12T10:54:04.096687Z",
     "shell.execute_reply.started": "2021-02-12T10:54:04.091682Z"
    }
   },
   "outputs": [],
   "source": [
    "# data['ExistNew'].value_counts(dropna=False)"
   ]
  },
  {
   "cell_type": "code",
   "execution_count": 39,
   "metadata": {
    "execution": {
     "iopub.execute_input": "2021-02-12T10:54:04.097689Z",
     "iopub.status.busy": "2021-02-12T10:54:04.097689Z",
     "iopub.status.idle": "2021-02-12T10:54:04.105695Z",
     "shell.execute_reply": "2021-02-12T10:54:04.105695Z",
     "shell.execute_reply.started": "2021-02-12T10:54:04.097689Z"
    }
   },
   "outputs": [],
   "source": [
    "data['Crt-RetJob']=data['RetainedJob']-data['CreateJob']"
   ]
  },
  {
   "cell_type": "code",
   "execution_count": 40,
   "metadata": {
    "execution": {
     "iopub.execute_input": "2021-02-12T10:54:04.106696Z",
     "iopub.status.busy": "2021-02-12T10:54:04.106696Z",
     "iopub.status.idle": "2021-02-12T10:54:04.117706Z",
     "shell.execute_reply": "2021-02-12T10:54:04.117706Z",
     "shell.execute_reply.started": "2021-02-12T10:54:04.106696Z"
    }
   },
   "outputs": [],
   "source": [
    "data['Crt-RetJob_rate']=np.round(data['Crt-RetJob']/(data['CreateJob']+1),decimals=3)"
   ]
  },
  {
   "cell_type": "code",
   "execution_count": 41,
   "metadata": {
    "execution": {
     "iopub.execute_input": "2021-02-12T10:54:04.118707Z",
     "iopub.status.busy": "2021-02-12T10:54:04.118707Z",
     "iopub.status.idle": "2021-02-12T10:54:04.126714Z",
     "shell.execute_reply": "2021-02-12T10:54:04.126714Z",
     "shell.execute_reply.started": "2021-02-12T10:54:04.118707Z"
    }
   },
   "outputs": [],
   "source": [
    "data['CRrate_L']=data['Crt-RetJob_rate']*data['LoanAmount']\n",
    "data['CRrate_D']=data['Crt-RetJob_rate']*data['DisbursementGross']\n",
    "data['CRrate_B']=data['Crt-RetJob_rate']*data['BalanceGross']"
   ]
  },
  {
   "cell_type": "code",
   "execution_count": 42,
   "metadata": {
    "execution": {
     "iopub.execute_input": "2021-02-12T10:54:04.127715Z",
     "iopub.status.busy": "2021-02-12T10:54:04.127715Z",
     "iopub.status.idle": "2021-02-12T10:54:04.131719Z",
     "shell.execute_reply": "2021-02-12T10:54:04.131719Z",
     "shell.execute_reply.started": "2021-02-12T10:54:04.127715Z"
    }
   },
   "outputs": [],
   "source": [
    "data['CRrate_T']=data['Crt-RetJob_rate']*data['Term']"
   ]
  },
  {
   "cell_type": "code",
   "execution_count": 43,
   "metadata": {
    "execution": {
     "iopub.execute_input": "2021-02-12T10:54:04.132719Z",
     "iopub.status.busy": "2021-02-12T10:54:04.132719Z",
     "iopub.status.idle": "2021-02-12T10:54:04.191773Z",
     "shell.execute_reply": "2021-02-12T10:54:04.191773Z",
     "shell.execute_reply.started": "2021-02-12T10:54:04.132719Z"
    }
   },
   "outputs": [],
   "source": [
    "data['Crt_Emp']=np.round(np.sqrt(data['Employees']/(data['CreateJob']+1)),decimals=4)\n",
    "data['Ret_Emp']=np.round(np.sqrt(data['Employees']/(data['RetainedJob']+1)),4)\n",
    "data['Crt-Ret_Emp']=np.round(np.sqrt(data['Employees']*1000/(data['Crt-RetJob']+1000)),4)"
   ]
  },
  {
   "cell_type": "code",
   "execution_count": 44,
   "metadata": {
    "execution": {
     "iopub.execute_input": "2021-02-12T10:54:04.192774Z",
     "iopub.status.busy": "2021-02-12T10:54:04.192774Z",
     "iopub.status.idle": "2021-02-12T10:54:04.220800Z",
     "shell.execute_reply": "2021-02-12T10:54:04.220800Z",
     "shell.execute_reply.started": "2021-02-12T10:54:04.192774Z"
    }
   },
   "outputs": [],
   "source": [
    "data['L_Crt']=np.round(data['LoanAmount']/(data['CreateJob']+1),decimals=4)\n",
    "data['D_Crt']=np.round(data['DisbursementGross']/(data['CreateJob']+1),decimals=4)\n",
    "data['B_Crt']=np.round(data['BalanceGross']/(data['CreateJob']+1),decimals=4)"
   ]
  },
  {
   "cell_type": "code",
   "execution_count": 45,
   "metadata": {
    "execution": {
     "iopub.execute_input": "2021-02-12T10:54:04.221800Z",
     "iopub.status.busy": "2021-02-12T10:54:04.221800Z",
     "iopub.status.idle": "2021-02-12T10:54:04.249826Z",
     "shell.execute_reply": "2021-02-12T10:54:04.249826Z",
     "shell.execute_reply.started": "2021-02-12T10:54:04.221800Z"
    }
   },
   "outputs": [],
   "source": [
    "data['L_Ret']=np.round(data['LoanAmount']/(data['RetainedJob']+1),decimals=4)\n",
    "data['D_Ret']=np.round(data['DisbursementGross']/(data['RetainedJob']+1),decimals=4)\n",
    "data['B_Ret']=np.round(data['BalanceGross']/(data['RetainedJob']+1),decimals=4)"
   ]
  },
  {
   "cell_type": "code",
   "execution_count": 46,
   "metadata": {
    "execution": {
     "iopub.execute_input": "2021-02-12T10:54:04.250827Z",
     "iopub.status.busy": "2021-02-12T10:54:04.250827Z",
     "iopub.status.idle": "2021-02-12T10:54:04.312883Z",
     "shell.execute_reply": "2021-02-12T10:54:04.312883Z",
     "shell.execute_reply.started": "2021-02-12T10:54:04.250827Z"
    }
   },
   "outputs": [],
   "source": [
    "data['L_Emp']=np.round(np.log(data['LoanAmount']/(data['Employees']+1)),decimals=4)\n",
    "data['D_Emp']=np.round(np.log(data['DisbursementGross']/(data['Employees']+1)),decimals=4)\n",
    "data['B_Emp']=np.round(np.log(data['BalanceGross']/(data['Employees']+1)),decimals=4)"
   ]
  },
  {
   "cell_type": "code",
   "execution_count": 47,
   "metadata": {
    "execution": {
     "iopub.execute_input": "2021-02-12T10:54:04.313884Z",
     "iopub.status.busy": "2021-02-12T10:54:04.313884Z",
     "iopub.status.idle": "2021-02-12T10:54:04.353921Z",
     "shell.execute_reply": "2021-02-12T10:54:04.353921Z",
     "shell.execute_reply.started": "2021-02-12T10:54:04.313884Z"
    }
   },
   "outputs": [],
   "source": [
    "data['Crt_Term']=np.round((data['Term']+1)/(data['CreateJob']+1),decimals=4)\n",
    "data['Rer_Term']=np.round((data['Term']+1)/(data['RetainedJob']+1),decimals=4)\n",
    "data['Emp_Term']=np.round((data['Term']+1)/(data['Employees']+1),decimals=4)"
   ]
  },
  {
   "cell_type": "code",
   "execution_count": 48,
   "metadata": {
    "execution": {
     "iopub.execute_input": "2021-02-12T10:54:04.354922Z",
     "iopub.status.busy": "2021-02-12T10:54:04.354922Z",
     "iopub.status.idle": "2021-02-12T10:54:04.422983Z",
     "shell.execute_reply": "2021-02-12T10:54:04.422983Z",
     "shell.execute_reply.started": "2021-02-12T10:54:04.354922Z"
    }
   },
   "outputs": [],
   "source": [
    "data['L_Term_Crt']=np.round(np.log(data['LoanAmount']/(data['Term']+1)/(data['CreateJob']+1)),decimals=4)\n",
    "data['D_Term_Crt']=np.round(np.log(data['DisbursementGross']/(data['Term']+1)/(data['CreateJob']+1)),decimals=4)\n",
    "data['B_Term_Crt']=np.round(np.log(data['BalanceGross']/(data['Term']+1)/(data['CreateJob']+1)),decimals=4)"
   ]
  },
  {
   "cell_type": "code",
   "execution_count": 49,
   "metadata": {
    "execution": {
     "iopub.execute_input": "2021-02-12T10:54:04.423984Z",
     "iopub.status.busy": "2021-02-12T10:54:04.423984Z",
     "iopub.status.idle": "2021-02-12T10:54:04.491045Z",
     "shell.execute_reply": "2021-02-12T10:54:04.491045Z",
     "shell.execute_reply.started": "2021-02-12T10:54:04.423984Z"
    }
   },
   "outputs": [],
   "source": [
    "data['L_Term_Ret']=np.round(np.log(data['LoanAmount']/(data['Term']+1)/(data['RetainedJob']+1)),decimals=4)\n",
    "data['D_Term_Ret']=np.round(np.log(data['DisbursementGross']/(data['Term']+1)/(data['RetainedJob']+1)),decimals=4)\n",
    "data['B_Term_Ret']=np.round(np.log(data['BalanceGross']/(data['Term']+1)/(data['RetainedJob']+1)),decimals=4)"
   ]
  },
  {
   "cell_type": "code",
   "execution_count": 50,
   "metadata": {
    "execution": {
     "iopub.execute_input": "2021-02-12T10:54:04.492046Z",
     "iopub.status.busy": "2021-02-12T10:54:04.492046Z",
     "iopub.status.idle": "2021-02-12T10:54:04.559107Z",
     "shell.execute_reply": "2021-02-12T10:54:04.559107Z",
     "shell.execute_reply.started": "2021-02-12T10:54:04.492046Z"
    }
   },
   "outputs": [],
   "source": [
    "data['L_Term_Emp']=np.round(np.log(data['LoanAmount']/(data['Term']+1)/(data['Employees']+1)),decimals=4)\n",
    "data['D_Term_Emp']=np.round(np.log(data['DisbursementGross']/(data['Term']+1)/(data['Employees']+1)),decimals=4)\n",
    "data['B_Term_Emp']=np.round(np.log(data['BalanceGross']/(data['Term']+1)/(data['Employees']+1)),decimals=4)"
   ]
  },
  {
   "cell_type": "code",
   "execution_count": 51,
   "metadata": {
    "execution": {
     "iopub.execute_input": "2021-02-12T10:54:04.560108Z",
     "iopub.status.busy": "2021-02-12T10:54:04.560108Z",
     "iopub.status.idle": "2021-02-12T10:54:04.740272Z",
     "shell.execute_reply": "2021-02-12T10:54:04.740272Z",
     "shell.execute_reply.started": "2021-02-12T10:54:04.560108Z"
    }
   },
   "outputs": [
    {
     "data": {
      "image/png": "[encoded data removed]",
      "text/plain": [
       "<Figure size 1440x288 with 1 Axes>"
      ]
     },
     "metadata": {
      "needs_background": "light"
     },
     "output_type": "display_data"
    }
   ],
   "source": [
    "# Figureの初期化\n",
    "fig = plt.figure(figsize=(20, 4))\n",
    "\n",
    "ax1 = plt.subplot(121)   \n",
    "ax1.hist(data['Term'].loc[data['Term']<150],bins=20)\n",
    "plt.axvline(x=12, ymin=0, ymax=1,color=\"r\")\n",
    "plt.axvline(x=24, ymin=0, ymax=1,color=\"r\")\n",
    "plt.axvline(x=36, ymin=0, ymax=1,color=\"r\")\n",
    "plt.axvline(x=48, ymin=0, ymax=1,color=\"r\")\n",
    "plt.axvline(x=60, ymin=0, ymax=1,color=\"r\")\n",
    "plt.axvline(x=72, ymin=0, ymax=1,color=\"r\")\n",
    "plt.axvline(x=84, ymin=0, ymax=1,color=\"r\")\n",
    "\n",
    "# ax1 = plt.subplot(122)   \n",
    "# ax1.hist(data['Term'].loc[data['LoanStatus']==1].loc[data['Term']<150],bins=100,color='r')\n",
    "# plt.axvline(x=12, ymin=0, ymax=1,color=\"b\")\n",
    "# plt.axvline(x=24, ymin=0, ymax=1,color=\"b\")\n",
    "# plt.axvline(x=36, ymin=0, ymax=1,color=\"b\")\n",
    "# plt.axvline(x=48, ymin=0, ymax=1,color=\"b\")\n",
    "# plt.axvline(x=60, ymin=0, ymax=1,color=\"b\")\n",
    "# plt.axvline(x=72, ymin=0, ymax=1,color=\"b\")\n",
    "# plt.axvline(x=84, ymin=0, ymax=1,color=\"b\")\n",
    "\n",
    "ax1.set_xlabel('Term')\n",
    "ax1.set_ylabel('counts')\n",
    "\n",
    "# # 凡例の表示\n",
    "# plt.legend()\n",
    "\n",
    "# 表示\n",
    "plt.show()"
   ]
  },
  {
   "cell_type": "code",
   "execution_count": 52,
   "metadata": {
    "execution": {
     "iopub.execute_input": "2021-02-12T10:54:04.741273Z",
     "iopub.status.busy": "2021-02-12T10:54:04.741273Z",
     "iopub.status.idle": "2021-02-12T10:54:04.800327Z",
     "shell.execute_reply": "2021-02-12T10:54:04.800327Z",
     "shell.execute_reply.started": "2021-02-12T10:54:04.741273Z"
    }
   },
   "outputs": [],
   "source": [
    "data['Term_264']=data[\"Term\"]%264\n",
    "data['Term_252']=data[\"Term\"]%252\n",
    "data['Term_240']=data[\"Term\"]%240\n",
    "data['Term_228']=data[\"Term\"]%228\n",
    "data['Term_216']=data[\"Term\"]%216\n",
    "data['Term_204']=data[\"Term\"]%204\n",
    "data['Term_192']=data[\"Term\"]%192\n",
    "data['Term_180']=data[\"Term\"]%180\n",
    "data['Term_168']=data[\"Term\"]%168\n",
    "data['Term_156']=data[\"Term\"]%156\n",
    "data['Term_144']=data[\"Term\"]%144\n",
    "data['Term_132']=data[\"Term\"]%132\n",
    "data['Term_120']=data[\"Term\"]%120\n",
    "data['Term_84']=data[\"Term\"]%108\n",
    "data['Term_84']=data[\"Term\"]%96\n",
    "data['Term_84']=data[\"Term\"]%84\n",
    "data['Term_72']=data[\"Term\"]%72\n",
    "data['Term_60']=data[\"Term\"]%60\n",
    "data['Term_48']=data[\"Term\"]%48\n",
    "data['Term_36']=data[\"Term\"]%36\n",
    "data['Term_24']=data[\"Term\"]%24\n",
    "data['Term_12']=data[\"Term\"]%12\n",
    "data['Term_6']=data[\"Term\"]%6\n",
    "data['Term_3']=data[\"Term\"]%3\n",
    "data['Term_2']=data[\"Term\"]%2"
   ]
  },
  {
   "cell_type": "code",
   "execution_count": 53,
   "metadata": {
    "execution": {
     "iopub.execute_input": "2021-02-12T10:54:04.801327Z",
     "iopub.status.busy": "2021-02-12T10:54:04.801327Z",
     "iopub.status.idle": "2021-02-12T10:54:04.803330Z",
     "shell.execute_reply": "2021-02-12T10:54:04.803330Z",
     "shell.execute_reply.started": "2021-02-12T10:54:04.801327Z"
    }
   },
   "outputs": [],
   "source": [
    "# # Figureの初期化\n",
    "# fig = plt.figure(figsize=(16, 4))\n",
    "\n",
    "# ax1 = plt.subplot(111)   \n",
    "# # ax1.hist(data['ApprovalDate'][data['ApprovalDate']<\"2020-01-01\"][\"1988-01-01\"<data['ApprovalDate']],bins=100)\n",
    "# # ax1.hist(data['ApprovalDate'][data['ApprovalDate']<\"2020-01-01\"][\"1988-01-01\"<data['ApprovalDate']][data['LoanStatus']==1],bins=100)\n",
    "\n",
    "\n",
    "# ax2 = plt.subplot(111)   \n",
    "# # ax2.hist(data['DisbursementDate'][data['DisbursementDate']<\"2020-01-01\"][\"1988-01-01\"<data['DisbursementDate']],bins=100,alpha=0.5)\n",
    "# # ax2.hist(data['DisbursementDate'][data['DisbursementDate']<\"2020-01-01\"][\"1988-01-01\"<data['DisbursementDate']][data['LoanStatus']==1],bins=100,alpha=0.5)\n",
    "\n",
    "\n",
    "# ax1.set_xlabel('Term')\n",
    "# ax1.set_ylabel('counts')\n",
    "\n",
    "# # 凡例の表示\n",
    "# plt.legend([\"Approval\",\"Disbursment\"])\n",
    "\n",
    "# # 表示\n",
    "# plt.show()"
   ]
  },
  {
   "cell_type": "code",
   "execution_count": 54,
   "metadata": {
    "execution": {
     "iopub.execute_input": "2021-02-12T10:54:04.804330Z",
     "iopub.status.busy": "2021-02-12T10:54:04.804330Z",
     "iopub.status.idle": "2021-02-12T10:54:04.809335Z",
     "shell.execute_reply": "2021-02-12T10:54:04.809335Z",
     "shell.execute_reply.started": "2021-02-12T10:54:04.804330Z"
    }
   },
   "outputs": [],
   "source": [
    "# a_data=data.copy()"
   ]
  },
  {
   "cell_type": "code",
   "execution_count": 55,
   "metadata": {
    "execution": {
     "iopub.execute_input": "2021-02-12T10:54:04.810335Z",
     "iopub.status.busy": "2021-02-12T10:54:04.810335Z",
     "iopub.status.idle": "2021-02-12T10:54:11.394330Z",
     "shell.execute_reply": "2021-02-12T10:54:11.394330Z",
     "shell.execute_reply.started": "2021-02-12T10:54:04.810335Z"
    }
   },
   "outputs": [],
   "source": [
    "from dateutil.relativedelta import relativedelta\n",
    "\n",
    "# 貸金期日\n",
    "def addMonth(month):\n",
    "    return relativedelta(years=month//12,months=month%12)\n",
    "# a_data[['ApprovalDate','Approval_M']].apply(lambda x: x['ApprovalDate'] + relativedelta(month=+x['Approval_M']),axis=1)\n",
    "data['EndDate']=data[['ApprovalDate','Term']].apply(lambda x: x['ApprovalDate'] + addMonth(x['Term']),axis=1)"
   ]
  },
  {
   "cell_type": "code",
   "execution_count": 56,
   "metadata": {
    "execution": {
     "iopub.execute_input": "2021-02-12T10:54:11.395331Z",
     "iopub.status.busy": "2021-02-12T10:54:11.395331Z",
     "iopub.status.idle": "2021-02-12T10:54:11.675586Z",
     "shell.execute_reply": "2021-02-12T10:54:11.675586Z",
     "shell.execute_reply.started": "2021-02-12T10:54:11.395331Z"
    }
   },
   "outputs": [
    {
     "data": {
      "image/png": "[encoded data removed]",
      "text/plain": [
       "<Figure size 1152x288 with 1 Axes>"
      ]
     },
     "metadata": {
      "needs_background": "light"
     },
     "output_type": "display_data"
    }
   ],
   "source": [
    "# Figureの初期化\n",
    "fig = plt.figure(figsize=(16, 4))\n",
    "\n",
    "ax1 = plt.subplot(121)   \n",
    "ax1.hist(data['EndDate'].loc[data['EndDate'].dt.year<2040],bins=100)\n",
    "\n",
    "# ax2 = plt.subplot(122)   \n",
    "# ax2.hist(data['EndDate'].loc[data['LoanStatus']==1].loc[data['EndDate'].dt.year<2040],bins=100,color='r')\n",
    "\n",
    "ax1.set_xlabel('EndDate')\n",
    "ax1.set_ylabel('counts')\n",
    "\n",
    "# 表示\n",
    "plt.show()"
   ]
  },
  {
   "cell_type": "code",
   "execution_count": 57,
   "metadata": {
    "execution": {
     "iopub.execute_input": "2021-02-12T10:54:11.676577Z",
     "iopub.status.busy": "2021-02-12T10:54:11.676577Z",
     "iopub.status.idle": "2021-02-12T10:54:13.198961Z",
     "shell.execute_reply": "2021-02-12T10:54:13.198961Z",
     "shell.execute_reply.started": "2021-02-12T10:54:11.676577Z"
    }
   },
   "outputs": [],
   "source": [
    "data['ApprovalDate_str']=np.round(np.log(data['ApprovalDate'].astype(str).str.replace('-','').astype(int)),decimals=4)"
   ]
  },
  {
   "cell_type": "code",
   "execution_count": 58,
   "metadata": {
    "execution": {
     "iopub.execute_input": "2021-02-12T10:54:13.199962Z",
     "iopub.status.busy": "2021-02-12T10:54:13.199962Z",
     "iopub.status.idle": "2021-02-12T10:54:14.729353Z",
     "shell.execute_reply": "2021-02-12T10:54:14.729353Z",
     "shell.execute_reply.started": "2021-02-12T10:54:13.199962Z"
    }
   },
   "outputs": [],
   "source": [
    "data['DisbursementDate_str']=np.round(np.log(data['DisbursementDate'].astype(str).str.replace('-','').astype(int)),decimals=4)"
   ]
  },
  {
   "cell_type": "code",
   "execution_count": 59,
   "metadata": {
    "execution": {
     "iopub.execute_input": "2021-02-12T10:54:14.730353Z",
     "iopub.status.busy": "2021-02-12T10:54:14.730353Z",
     "iopub.status.idle": "2021-02-12T10:54:16.272758Z",
     "shell.execute_reply": "2021-02-12T10:54:16.272758Z",
     "shell.execute_reply.started": "2021-02-12T10:54:14.730353Z"
    }
   },
   "outputs": [],
   "source": [
    "data['EndDate_str']=np.round(np.log(data['EndDate'].astype(str).str.replace('-','').astype(int)),decimals=4)"
   ]
  },
  {
   "cell_type": "code",
   "execution_count": 60,
   "metadata": {
    "execution": {
     "iopub.execute_input": "2021-02-12T10:54:16.273760Z",
     "iopub.status.busy": "2021-02-12T10:54:16.273760Z",
     "iopub.status.idle": "2021-02-12T10:54:16.310795Z",
     "shell.execute_reply": "2021-02-12T10:54:16.310795Z",
     "shell.execute_reply.started": "2021-02-12T10:54:16.273760Z"
    }
   },
   "outputs": [],
   "source": [
    "data['EndDate_Y']=data['EndDate'].dt.year\n",
    "data['EndDate_M']=data['EndDate'].dt.month\n",
    "data['EndDate_D']=data['EndDate'].dt.day"
   ]
  },
  {
   "cell_type": "code",
   "execution_count": 61,
   "metadata": {
    "execution": {
     "iopub.execute_input": "2021-02-12T10:54:16.311795Z",
     "iopub.status.busy": "2021-02-12T10:54:16.311795Z",
     "iopub.status.idle": "2021-02-12T10:54:16.325808Z",
     "shell.execute_reply": "2021-02-12T10:54:16.325808Z",
     "shell.execute_reply.started": "2021-02-12T10:54:16.311795Z"
    }
   },
   "outputs": [],
   "source": [
    "data['Aprroval_weekday'] = data['ApprovalDate'].dt.dayofweek"
   ]
  },
  {
   "cell_type": "code",
   "execution_count": 62,
   "metadata": {
    "execution": {
     "iopub.execute_input": "2021-02-12T10:54:16.326808Z",
     "iopub.status.busy": "2021-02-12T10:54:16.326808Z",
     "iopub.status.idle": "2021-02-12T10:54:16.340821Z",
     "shell.execute_reply": "2021-02-12T10:54:16.340821Z",
     "shell.execute_reply.started": "2021-02-12T10:54:16.326808Z"
    }
   },
   "outputs": [],
   "source": [
    "data['Disbursement_weekday'] = data['DisbursementDate'].dt.dayofweek"
   ]
  },
  {
   "cell_type": "code",
   "execution_count": 63,
   "metadata": {
    "execution": {
     "iopub.execute_input": "2021-02-12T10:54:16.341822Z",
     "iopub.status.busy": "2021-02-12T10:54:16.341822Z",
     "iopub.status.idle": "2021-02-12T10:54:16.355835Z",
     "shell.execute_reply": "2021-02-12T10:54:16.355835Z",
     "shell.execute_reply.started": "2021-02-12T10:54:16.341822Z"
    }
   },
   "outputs": [],
   "source": [
    "data['EndDate_weekday'] = data['EndDate'].dt.dayofweek"
   ]
  },
  {
   "cell_type": "code",
   "execution_count": 64,
   "metadata": {
    "execution": {
     "iopub.execute_input": "2021-02-12T10:54:16.356836Z",
     "iopub.status.busy": "2021-02-12T10:54:16.356836Z",
     "iopub.status.idle": "2021-02-12T10:54:16.367846Z",
     "shell.execute_reply": "2021-02-12T10:54:16.367846Z",
     "shell.execute_reply.started": "2021-02-12T10:54:16.356836Z"
    }
   },
   "outputs": [],
   "source": [
    "# リーマンと被ってるか\n",
    "def IsYearLehmanSt(AppYear):\n",
    "    if 2002< AppYear <2009:\n",
    "        return 1\n",
    "    else:\n",
    "        return 0\n",
    "def IsYearLehmanEd(EndYear):\n",
    "    if 2002< EndYear <2018:\n",
    "        return 1\n",
    "    else:\n",
    "        return 0"
   ]
  },
  {
   "cell_type": "code",
   "execution_count": 65,
   "metadata": {
    "execution": {
     "iopub.execute_input": "2021-02-12T10:54:16.368848Z",
     "iopub.status.busy": "2021-02-12T10:54:16.368848Z",
     "iopub.status.idle": "2021-02-12T10:54:16.940366Z",
     "shell.execute_reply": "2021-02-12T10:54:16.940366Z",
     "shell.execute_reply.started": "2021-02-12T10:54:16.368848Z"
    }
   },
   "outputs": [],
   "source": [
    "data['LehmanApp_s']=data['Approval_Y'].apply(lambda x:IsYearLehmanSt(x))\n",
    "data['LehmanApp_e']=data['Approval_Y'].apply(lambda x:IsYearLehmanEd(x))\n",
    "data['LehmanDis_s']=data['DisbursementDate_Y'].apply(lambda x:IsYearLehmanSt(x))\n",
    "data['LehmanDis_e']=data['DisbursementDate_Y'].apply(lambda x:IsYearLehmanEd(x))\n",
    "data['LehmanEnd_s']=data['EndDate_Y'].apply(lambda x:IsYearLehmanSt(x))\n",
    "data['LehmanEnd_e']=data['EndDate_Y'].apply(lambda x:IsYearLehmanEd(x))"
   ]
  },
  {
   "cell_type": "code",
   "execution_count": 66,
   "metadata": {
    "execution": {
     "iopub.execute_input": "2021-02-12T10:54:16.941368Z",
     "iopub.status.busy": "2021-02-12T10:54:16.941368Z",
     "iopub.status.idle": "2021-02-12T10:54:16.944371Z",
     "shell.execute_reply": "2021-02-12T10:54:16.944371Z",
     "shell.execute_reply.started": "2021-02-12T10:54:16.941368Z"
    }
   },
   "outputs": [],
   "source": [
    "# 月末かどうか\n",
    "import calendar\n",
    "import datetime\n",
    "def IsMonthEnd(year,month,date):\n",
    "    d=datetime.date(year, month, calendar.monthrange(year, month)[1])\n",
    "    if d.day==date:\n",
    "        return 1\n",
    "    else:\n",
    "        return 0\n",
    "# IsMonthEnd(2021,3,1)"
   ]
  },
  {
   "cell_type": "code",
   "execution_count": 67,
   "metadata": {
    "execution": {
     "iopub.execute_input": "2021-02-12T10:54:16.950375Z",
     "iopub.status.busy": "2021-02-12T10:54:16.950375Z",
     "iopub.status.idle": "2021-02-12T10:54:16.954379Z",
     "shell.execute_reply": "2021-02-12T10:54:16.954379Z",
     "shell.execute_reply.started": "2021-02-12T10:54:16.950375Z"
    }
   },
   "outputs": [],
   "source": [
    "# 実質月末かどうか\n",
    "import calendar\n",
    "import datetime\n",
    "def IsMonthEndAc(year,month,date):\n",
    "    d=datetime.date(year, month, calendar.monthrange(year, month)[1])\n",
    "    if d.weekday()==5:\n",
    "        d=datetime.date(year, month, calendar.monthrange(year, month)[1]-1)\n",
    "    if d.weekday()==6:\n",
    "        d=datetime.date(year, month, calendar.monthrange(year, month)[1]-2)\n",
    "    if d.day==date:\n",
    "        return datetime.date(year, month, calendar.monthrange(year, month)[1]).day\n",
    "    else:\n",
    "        return date"
   ]
  },
  {
   "cell_type": "code",
   "execution_count": 68,
   "metadata": {
    "execution": {
     "iopub.execute_input": "2021-02-12T10:54:16.957382Z",
     "iopub.status.busy": "2021-02-12T10:54:16.957382Z",
     "iopub.status.idle": "2021-02-12T10:54:20.931995Z",
     "shell.execute_reply": "2021-02-12T10:54:20.931995Z",
     "shell.execute_reply.started": "2021-02-12T10:54:16.957382Z"
    }
   },
   "outputs": [],
   "source": [
    "data['Aprroval_MonthEnd']=data[['Approval_Y','Approval_M','Approval_D']].apply(lambda x: IsMonthEnd(x['Approval_Y'],x['Approval_M'],x['Approval_D']),axis=1)"
   ]
  },
  {
   "cell_type": "code",
   "execution_count": 69,
   "metadata": {
    "execution": {
     "iopub.execute_input": "2021-02-12T10:54:20.932995Z",
     "iopub.status.busy": "2021-02-12T10:54:20.932995Z",
     "iopub.status.idle": "2021-02-12T10:54:24.718261Z",
     "shell.execute_reply": "2021-02-12T10:54:24.718261Z",
     "shell.execute_reply.started": "2021-02-12T10:54:20.932995Z"
    }
   },
   "outputs": [],
   "source": [
    "data['Disbursement_MonthEnd']=data[['DisbursementDate_Y','DisbursementDate_M','DisbursementDate_D']].apply(lambda x: IsMonthEnd(x['DisbursementDate_Y'],x['DisbursementDate_M'],x['DisbursementDate_D']),axis=1)"
   ]
  },
  {
   "cell_type": "code",
   "execution_count": 70,
   "metadata": {
    "execution": {
     "iopub.execute_input": "2021-02-12T10:54:24.719262Z",
     "iopub.status.busy": "2021-02-12T10:54:24.719262Z",
     "iopub.status.idle": "2021-02-12T10:54:28.620808Z",
     "shell.execute_reply": "2021-02-12T10:54:28.620808Z",
     "shell.execute_reply.started": "2021-02-12T10:54:24.719262Z"
    }
   },
   "outputs": [],
   "source": [
    "data['EndDate_MonthEnd']=data[['EndDate_Y','EndDate_M','EndDate_D']].apply(lambda x: IsMonthEnd(x['EndDate_Y'],x['EndDate_M'],x['EndDate_D']),axis=1)"
   ]
  },
  {
   "cell_type": "code",
   "execution_count": 71,
   "metadata": {
    "execution": {
     "iopub.execute_input": "2021-02-12T10:54:28.621809Z",
     "iopub.status.busy": "2021-02-12T10:54:28.621809Z",
     "iopub.status.idle": "2021-02-12T10:54:32.828633Z",
     "shell.execute_reply": "2021-02-12T10:54:32.828633Z",
     "shell.execute_reply.started": "2021-02-12T10:54:28.621809Z"
    }
   },
   "outputs": [],
   "source": [
    "data['Aprroval_MonthEnd']=data[['Approval_Y','Approval_M','Approval_D']].apply(lambda x: IsMonthEndAc(x['Approval_Y'],x['Approval_M'],x['Approval_D']),axis=1)"
   ]
  },
  {
   "cell_type": "code",
   "execution_count": 72,
   "metadata": {
    "execution": {
     "iopub.execute_input": "2021-02-12T10:54:32.829634Z",
     "iopub.status.busy": "2021-02-12T10:54:32.829634Z",
     "iopub.status.idle": "2021-02-12T10:54:37.488870Z",
     "shell.execute_reply": "2021-02-12T10:54:37.488870Z",
     "shell.execute_reply.started": "2021-02-12T10:54:32.829634Z"
    }
   },
   "outputs": [],
   "source": [
    "data['Disbursement_MonthEnd']=data[['DisbursementDate_Y','DisbursementDate_M','DisbursementDate_D']].apply(lambda x: IsMonthEndAc(x['DisbursementDate_Y'],x['DisbursementDate_M'],x['DisbursementDate_D']),axis=1)"
   ]
  },
  {
   "cell_type": "code",
   "execution_count": 73,
   "metadata": {
    "execution": {
     "iopub.execute_input": "2021-02-12T10:54:37.489870Z",
     "iopub.status.busy": "2021-02-12T10:54:37.489870Z",
     "iopub.status.idle": "2021-02-12T10:54:41.778769Z",
     "shell.execute_reply": "2021-02-12T10:54:41.778769Z",
     "shell.execute_reply.started": "2021-02-12T10:54:37.489870Z"
    }
   },
   "outputs": [],
   "source": [
    "data['EndDate_MonthEnd']=data[['EndDate_Y','EndDate_M','EndDate_D']].apply(lambda x: IsMonthEndAc(x['EndDate_Y'],x['EndDate_M'],x['EndDate_D']),axis=1)"
   ]
  },
  {
   "cell_type": "code",
   "execution_count": 74,
   "metadata": {
    "execution": {
     "iopub.execute_input": "2021-02-12T10:54:41.779770Z",
     "iopub.status.busy": "2021-02-12T10:54:41.779770Z",
     "iopub.status.idle": "2021-02-12T10:54:41.784774Z",
     "shell.execute_reply": "2021-02-12T10:54:41.784774Z",
     "shell.execute_reply.started": "2021-02-12T10:54:41.779770Z"
    }
   },
   "outputs": [],
   "source": [
    "data['LoanAmount_log']=np.log(data['LoanAmount'])"
   ]
  },
  {
   "cell_type": "code",
   "execution_count": 75,
   "metadata": {
    "execution": {
     "iopub.execute_input": "2021-02-12T10:54:41.785775Z",
     "iopub.status.busy": "2021-02-12T10:54:41.785775Z",
     "iopub.status.idle": "2021-02-12T10:54:41.805794Z",
     "shell.execute_reply": "2021-02-12T10:54:41.805794Z",
     "shell.execute_reply.started": "2021-02-12T10:54:41.785775Z"
    }
   },
   "outputs": [],
   "source": [
    "data['Term_LoanAmount_log']=np.round(data['Term']/data['LoanAmount_log'],decimals=3)"
   ]
  },
  {
   "cell_type": "code",
   "execution_count": 76,
   "metadata": {
    "execution": {
     "iopub.execute_input": "2021-02-12T10:54:41.806795Z",
     "iopub.status.busy": "2021-02-12T10:54:41.806795Z",
     "iopub.status.idle": "2021-02-12T10:54:41.813801Z",
     "shell.execute_reply": "2021-02-12T10:54:41.813801Z",
     "shell.execute_reply.started": "2021-02-12T10:54:41.806795Z"
    }
   },
   "outputs": [],
   "source": [
    "data['Term_LoanAmount_log_sqrt']=np.sqrt(data['Term']/np.log(data['LoanAmount_log']))"
   ]
  },
  {
   "cell_type": "code",
   "execution_count": 77,
   "metadata": {
    "execution": {
     "iopub.execute_input": "2021-02-12T10:54:41.814801Z",
     "iopub.status.busy": "2021-02-12T10:54:41.814801Z",
     "iopub.status.idle": "2021-02-12T10:54:42.010982Z",
     "shell.execute_reply": "2021-02-12T10:54:42.010982Z",
     "shell.execute_reply.started": "2021-02-12T10:54:41.814801Z"
    }
   },
   "outputs": [
    {
     "data": {
      "image/png": "[encoded data removed]",
      "text/plain": [
       "<Figure size 1152x288 with 1 Axes>"
      ]
     },
     "metadata": {
      "needs_background": "light"
     },
     "output_type": "display_data"
    }
   ],
   "source": [
    "# Figureの初期化\n",
    "fig = plt.figure(figsize=(16, 4))\n",
    "\n",
    "ax1 = plt.subplot(121)   \n",
    "ax1.hist(data['Term_LoanAmount_log_sqrt'],bins=100)\n",
    "\n",
    "# ax2 = plt.subplot(122)   \n",
    "# ax2.hist(data['Term_LoanAmount_log_sqrt'].loc[data['LoanStatus']==1],bins=100,color='r')\n",
    "\n",
    "ax1.set_xlabel('Term_LoanAmount_log_sqrt')\n",
    "ax1.set_ylabel('counts')\n",
    "\n",
    "# 表示\n",
    "plt.show()"
   ]
  },
  {
   "cell_type": "markdown",
   "metadata": {},
   "source": [
    "#### 産業分類コード\n",
    "http://naics-scian.inegi.org.mx/naics_scian/default_i.aspx"
   ]
  },
  {
   "cell_type": "code",
   "execution_count": 78,
   "metadata": {
    "execution": {
     "iopub.execute_input": "2021-02-12T10:54:42.011981Z",
     "iopub.status.busy": "2021-02-12T10:54:42.011981Z",
     "iopub.status.idle": "2021-02-12T10:54:42.014984Z",
     "shell.execute_reply": "2021-02-12T10:54:42.014984Z",
     "shell.execute_reply.started": "2021-02-12T10:54:42.011981Z"
    }
   },
   "outputs": [],
   "source": [
    "# data['SystemCode'].value_counts()"
   ]
  },
  {
   "cell_type": "code",
   "execution_count": 79,
   "metadata": {
    "execution": {
     "iopub.execute_input": "2021-02-12T10:54:42.015984Z",
     "iopub.status.busy": "2021-02-12T10:54:42.015984Z",
     "iopub.status.idle": "2021-02-12T10:54:42.112072Z",
     "shell.execute_reply": "2021-02-12T10:54:42.112072Z",
     "shell.execute_reply.started": "2021-02-12T10:54:42.015984Z"
    }
   },
   "outputs": [],
   "source": [
    "# 産業分類コードを細分化\n",
    "# 6桁に補完する\n",
    "def addSys0(SystemCode):\n",
    "    if len(SystemCode)<=6:\n",
    "        cnt0=6-len(SystemCode)\n",
    "        return \"0\"*cnt0 + SystemCode\n",
    "    else:\n",
    "        pass\n",
    "\n",
    "data['SystemCode']=data['SystemCode'].astype(str)\n",
    "data['SystemCode']=data['SystemCode'].apply(lambda x : addSys0(x))"
   ]
  },
  {
   "cell_type": "code",
   "execution_count": 80,
   "metadata": {
    "execution": {
     "iopub.execute_input": "2021-02-12T10:54:42.113074Z",
     "iopub.status.busy": "2021-02-12T10:54:42.113074Z",
     "iopub.status.idle": "2021-02-12T10:54:42.116076Z",
     "shell.execute_reply": "2021-02-12T10:54:42.116076Z",
     "shell.execute_reply.started": "2021-02-12T10:54:42.113074Z"
    }
   },
   "outputs": [],
   "source": [
    "# data['SystemCode'].head(1)"
   ]
  },
  {
   "cell_type": "code",
   "execution_count": 81,
   "metadata": {
    "execution": {
     "iopub.execute_input": "2021-02-12T10:54:42.117077Z",
     "iopub.status.busy": "2021-02-12T10:54:42.117077Z",
     "iopub.status.idle": "2021-02-12T10:54:42.640552Z",
     "shell.execute_reply": "2021-02-12T10:54:42.640552Z",
     "shell.execute_reply.started": "2021-02-12T10:54:42.117077Z"
    }
   },
   "outputs": [],
   "source": [
    "#\n",
    "data['NICS_Sector']=data['SystemCode'].str[0:2]\n",
    "data['NICS_Subsector']=data['SystemCode'].str[2]\n",
    "data['NICS_Subsectors']=data['SystemCode'].str[0:3]\n",
    "data['NICS_IndustryGroup']=data['SystemCode'].str[3]\n",
    "data['NICS_IndustryGroups']=data['SystemCode'].str[0:4]\n",
    "data['NICS_Industory']=data['SystemCode'].str[4]\n",
    "data['NICS_NationIndustry']=data['SystemCode'].str[5]"
   ]
  },
  {
   "cell_type": "code",
   "execution_count": 82,
   "metadata": {
    "execution": {
     "iopub.execute_input": "2021-02-12T10:54:42.641554Z",
     "iopub.status.busy": "2021-02-12T10:54:42.641554Z",
     "iopub.status.idle": "2021-02-12T10:54:42.659569Z",
     "shell.execute_reply": "2021-02-12T10:54:42.659569Z",
     "shell.execute_reply.started": "2021-02-12T10:54:42.641554Z"
    }
   },
   "outputs": [],
   "source": [
    "data['NICS_44_10']=0\n",
    "data['NICS_44_10'].loc[(data['NICS_Sector']=='44') & (data['Term']<10)]=1"
   ]
  },
  {
   "cell_type": "code",
   "execution_count": null,
   "metadata": {},
   "outputs": [],
   "source": []
  },
  {
   "cell_type": "code",
   "execution_count": 83,
   "metadata": {
    "execution": {
     "iopub.execute_input": "2021-02-12T10:54:42.660571Z",
     "iopub.status.busy": "2021-02-12T10:54:42.660571Z",
     "iopub.status.idle": "2021-02-12T10:54:42.664574Z",
     "shell.execute_reply": "2021-02-12T10:54:42.664574Z",
     "shell.execute_reply.started": "2021-02-12T10:54:42.660571Z"
    }
   },
   "outputs": [],
   "source": [
    "# data['NICS_Sector'].head(1)"
   ]
  },
  {
   "cell_type": "code",
   "execution_count": 84,
   "metadata": {
    "execution": {
     "iopub.execute_input": "2021-02-12T10:54:42.665575Z",
     "iopub.status.busy": "2021-02-12T10:54:42.665575Z",
     "iopub.status.idle": "2021-02-12T10:54:42.668578Z",
     "shell.execute_reply": "2021-02-12T10:54:42.668578Z",
     "shell.execute_reply.started": "2021-02-12T10:54:42.665575Z"
    }
   },
   "outputs": [],
   "source": [
    "# data['NICS_Subsector'].head(1)"
   ]
  },
  {
   "cell_type": "code",
   "execution_count": 85,
   "metadata": {
    "execution": {
     "iopub.execute_input": "2021-02-12T10:54:42.669579Z",
     "iopub.status.busy": "2021-02-12T10:54:42.669579Z",
     "iopub.status.idle": "2021-02-12T10:54:42.673582Z",
     "shell.execute_reply": "2021-02-12T10:54:42.673582Z",
     "shell.execute_reply.started": "2021-02-12T10:54:42.669579Z"
    }
   },
   "outputs": [],
   "source": [
    "# data['NICS_IndustryGroup'].head(1)"
   ]
  },
  {
   "cell_type": "code",
   "execution_count": 86,
   "metadata": {
    "execution": {
     "iopub.execute_input": "2021-02-12T10:54:42.674584Z",
     "iopub.status.busy": "2021-02-12T10:54:42.674584Z",
     "iopub.status.idle": "2021-02-12T10:54:42.678587Z",
     "shell.execute_reply": "2021-02-12T10:54:42.678587Z",
     "shell.execute_reply.started": "2021-02-12T10:54:42.674584Z"
    }
   },
   "outputs": [],
   "source": [
    "# data['NICS_Industory'].head(1)"
   ]
  },
  {
   "cell_type": "code",
   "execution_count": 87,
   "metadata": {
    "execution": {
     "iopub.execute_input": "2021-02-12T10:54:42.679588Z",
     "iopub.status.busy": "2021-02-12T10:54:42.679588Z",
     "iopub.status.idle": "2021-02-12T10:54:42.683591Z",
     "shell.execute_reply": "2021-02-12T10:54:42.683591Z",
     "shell.execute_reply.started": "2021-02-12T10:54:42.679588Z"
    }
   },
   "outputs": [],
   "source": [
    "# data['NICS_NationIndustry'].head(1)"
   ]
  },
  {
   "cell_type": "code",
   "execution_count": 88,
   "metadata": {
    "execution": {
     "iopub.execute_input": "2021-02-12T10:54:42.684593Z",
     "iopub.status.busy": "2021-02-12T10:54:42.684593Z",
     "iopub.status.idle": "2021-02-12T10:54:42.731635Z",
     "shell.execute_reply": "2021-02-12T10:54:42.731635Z",
     "shell.execute_reply.started": "2021-02-12T10:54:42.684593Z"
    }
   },
   "outputs": [],
   "source": [
    "# 産業分類コードがあるかないかのフラグ\n",
    "data['SystemCode_flg']=0\n",
    "data['SystemCode']=data['SystemCode'].astype(int)\n",
    "\n",
    "data['SystemCode_flg'].loc[data['SystemCode']>0]=1\n",
    "data['SystemCode_flg'].loc[data['SystemCode']==0]=0"
   ]
  },
  {
   "cell_type": "markdown",
   "metadata": {},
   "source": [
    "https://ja.wikipedia.org/wiki/ZIP%E3%82%B3%E3%83%BC%E3%83%89"
   ]
  },
  {
   "cell_type": "code",
   "execution_count": 89,
   "metadata": {
    "execution": {
     "iopub.execute_input": "2021-02-12T10:54:42.732637Z",
     "iopub.status.busy": "2021-02-12T10:54:42.732637Z",
     "iopub.status.idle": "2021-02-12T10:54:43.016895Z",
     "shell.execute_reply": "2021-02-12T10:54:43.016895Z",
     "shell.execute_reply.started": "2021-02-12T10:54:42.732637Z"
    }
   },
   "outputs": [],
   "source": [
    "# 住所コードを５桁に補完する\n",
    "def addZip0(Zip):\n",
    "    if len(Zip)<=5:\n",
    "        cnt0=5-len(Zip)\n",
    "        return \"0\"*cnt0 + Zip\n",
    "    else:\n",
    "        pass\n",
    "\n",
    "data['Zip']=data['Zip'].apply(lambda x : addZip0(x)).astype(str)\n",
    "data['zip_A']=data['Zip'].str[0]\n",
    "data['zip_B']=data['Zip'].str[1:3]\n",
    "data['zip_C']=data['Zip'].str[3:]"
   ]
  },
  {
   "cell_type": "code",
   "execution_count": 90,
   "metadata": {
    "execution": {
     "iopub.execute_input": "2021-02-12T10:54:43.017896Z",
     "iopub.status.busy": "2021-02-12T10:54:43.017896Z",
     "iopub.status.idle": "2021-02-12T10:54:43.214074Z",
     "shell.execute_reply": "2021-02-12T10:54:43.214074Z",
     "shell.execute_reply.started": "2021-02-12T10:54:43.017896Z"
    }
   },
   "outputs": [
    {
     "data": {
      "image/png": "[encoded data removed]",
      "text/plain": [
       "<Figure size 1152x288 with 1 Axes>"
      ]
     },
     "metadata": {
      "needs_background": "light"
     },
     "output_type": "display_data"
    }
   ],
   "source": [
    "# Figureの初期化\n",
    "fig = plt.figure(figsize=(16, 4))\n",
    "\n",
    "ax1 = plt.subplot(121)   \n",
    "ax1.hist((data['ActualGross']),bins=100)\n",
    "\n",
    "# ax2 = plt.subplot(122)   \n",
    "# ax2.hist(data['ActualGross'].loc[data['LoanStatus']==1],bins=100,color='r')\n",
    "\n",
    "ax1.set_xlabel('ActualGross')\n",
    "ax1.set_ylabel('counts')\n",
    "\n",
    "# 表示\n",
    "plt.show()"
   ]
  },
  {
   "cell_type": "code",
   "execution_count": 91,
   "metadata": {
    "execution": {
     "iopub.execute_input": "2021-02-12T10:54:43.215074Z",
     "iopub.status.busy": "2021-02-12T10:54:43.215074Z",
     "iopub.status.idle": "2021-02-12T10:54:43.217078Z",
     "shell.execute_reply": "2021-02-12T10:54:43.217078Z",
     "shell.execute_reply.started": "2021-02-12T10:54:43.215074Z"
    }
   },
   "outputs": [],
   "source": [
    "# data['boxcox_ActualGross']=stats.boxcox(data['ActualGross'],lmbda=0,alpha=0)"
   ]
  },
  {
   "cell_type": "code",
   "execution_count": 92,
   "metadata": {
    "execution": {
     "iopub.execute_input": "2021-02-12T10:54:43.218078Z",
     "iopub.status.busy": "2021-02-12T10:54:43.218078Z",
     "iopub.status.idle": "2021-02-12T10:54:43.223082Z",
     "shell.execute_reply": "2021-02-12T10:54:43.223082Z",
     "shell.execute_reply.started": "2021-02-12T10:54:43.218078Z"
    }
   },
   "outputs": [],
   "source": [
    "# # Figureの初期化\n",
    "# fig = plt.figure(figsize=(16, 4))\n",
    "\n",
    "# ax1 = plt.subplot(121)   \n",
    "# ax1.hist(data['boxcox_ActualGross'],bins=100)\n",
    "\n",
    "# ax2 = plt.subplot(122)   \n",
    "# ax2.hist(data['boxcox_ActualGross'].loc[data['LoanStatus']==1],bins=100,color='r')\n",
    "\n",
    "# ax1.set_xlabel('boxcox_ActualGross')\n",
    "# ax1.set_ylabel('counts')\n",
    "\n",
    "# # 表示\n",
    "# plt.show()"
   ]
  },
  {
   "cell_type": "code",
   "execution_count": 93,
   "metadata": {
    "execution": {
     "iopub.execute_input": "2021-02-12T10:54:43.224083Z",
     "iopub.status.busy": "2021-02-12T10:54:43.224083Z",
     "iopub.status.idle": "2021-02-12T10:54:43.236094Z",
     "shell.execute_reply": "2021-02-12T10:54:43.236094Z",
     "shell.execute_reply.started": "2021-02-12T10:54:43.224083Z"
    }
   },
   "outputs": [
    {
     "data": {
      "text/plain": [
       "ID\n",
       "9568103009     99\n",
       "7208134000     36\n",
       "8283143001    101\n",
       "7653414010     33\n",
       "9066434010     97\n",
       "             ... \n",
       "3045015002     19\n",
       "4358364001     98\n",
       "8787214009     17\n",
       "7602753000     39\n",
       "4561515000     31\n",
       "Name: Dis_App, Length: 255477, dtype: int32"
      ]
     },
     "execution_count": 93,
     "metadata": {},
     "output_type": "execute_result"
    }
   ],
   "source": [
    "data['Dis_App']=(data['DisbursementDate']-data['ApprovalDate']).dt.days.astype('int32')\n",
    "data['Dis_App']"
   ]
  },
  {
   "cell_type": "code",
   "execution_count": 94,
   "metadata": {
    "execution": {
     "iopub.execute_input": "2021-02-12T10:54:43.237095Z",
     "iopub.status.busy": "2021-02-12T10:54:43.237095Z",
     "iopub.status.idle": "2021-02-12T10:54:43.263119Z",
     "shell.execute_reply": "2021-02-12T10:54:43.263119Z",
     "shell.execute_reply.started": "2021-02-12T10:54:43.237095Z"
    }
   },
   "outputs": [],
   "source": [
    "# 返済間隔\n",
    "data['Dis_App_Month']=data['DisbursementDate'].dt.month-data['ApprovalDate'].dt.month\n",
    "# data['Dis_App_Month'][data['Dis_App_Month']<1]=1"
   ]
  },
  {
   "cell_type": "code",
   "execution_count": 95,
   "metadata": {
    "execution": {
     "iopub.execute_input": "2021-02-12T10:54:43.264119Z",
     "iopub.status.busy": "2021-02-12T10:54:43.264119Z",
     "iopub.status.idle": "2021-02-12T10:54:43.372217Z",
     "shell.execute_reply": "2021-02-12T10:54:43.372217Z",
     "shell.execute_reply.started": "2021-02-12T10:54:43.264119Z"
    }
   },
   "outputs": [],
   "source": [
    "data['ActualTerm']=data['Term']-data['Dis_App_Month'].apply(lambda x: x if x<0 else 0)\n",
    "##\n",
    "data['ActualTerm_144']=data[\"ActualTerm\"]%144\n",
    "data['ActualTerm_132']=data[\"ActualTerm\"]%132\n",
    "data['ActualTerm_120']=data[\"ActualTerm\"]%120\n",
    "data['ActualTerm_108']=data[\"ActualTerm\"]%108\n",
    "data['ActualTerm_96']=data[\"ActualTerm\"]%96\n",
    "data['ActualTerm_84']=data[\"ActualTerm\"]%84\n",
    "data['ActualTerm_72']=data[\"ActualTerm\"]%72\n",
    "data['ActualTerm_60']=data[\"ActualTerm\"]%60\n",
    "data['ActualTerm_48']=data[\"ActualTerm\"]%48\n",
    "data['ActualTerm_36']=data[\"ActualTerm\"]%36\n",
    "data['ActualTerm_24']=data[\"ActualTerm\"]%24\n",
    "#\n",
    "data['ActualTerm_12']=data[\"ActualTerm\"]%12\n",
    "data['ActualTerm_6']=data[\"ActualTerm\"]%6\n",
    "data['ActualTerm_3']=data[\"ActualTerm\"]%3\n",
    "data['ActualTerm_2']=data[\"ActualTerm\"]%2"
   ]
  },
  {
   "cell_type": "code",
   "execution_count": 96,
   "metadata": {
    "execution": {
     "iopub.execute_input": "2021-02-12T10:54:43.373218Z",
     "iopub.status.busy": "2021-02-12T10:54:43.373218Z",
     "iopub.status.idle": "2021-02-12T10:54:43.448287Z",
     "shell.execute_reply": "2021-02-12T10:54:43.448287Z",
     "shell.execute_reply.started": "2021-02-12T10:54:43.373218Z"
    }
   },
   "outputs": [],
   "source": [
    "data['End_App_mean']=(data['EndDate'].dt.year-data['ApprovalDate'].dt.year)/2+data['ApprovalDate'].dt.year\n",
    "data['Dis_App_mean']=(data['EndDate'].dt.year-data['DisbursementDate'].dt.year)/2+data['DisbursementDate'].dt.year"
   ]
  },
  {
   "cell_type": "code",
   "execution_count": 97,
   "metadata": {
    "execution": {
     "iopub.execute_input": "2021-02-12T10:54:43.449288Z",
     "iopub.status.busy": "2021-02-12T10:54:43.449288Z",
     "iopub.status.idle": "2021-02-12T10:54:43.455293Z",
     "shell.execute_reply": "2021-02-12T10:54:43.455293Z",
     "shell.execute_reply.started": "2021-02-12T10:54:43.449288Z"
    }
   },
   "outputs": [],
   "source": [
    "data['End_App_mean-2002']=data['End_App_mean']-2002\n",
    "data['Dis_App_mean-2002']=data['Dis_App_mean']-2002"
   ]
  },
  {
   "cell_type": "code",
   "execution_count": 98,
   "metadata": {
    "execution": {
     "iopub.execute_input": "2021-02-12T10:54:43.456293Z",
     "iopub.status.busy": "2021-02-12T10:54:43.456293Z",
     "iopub.status.idle": "2021-02-12T10:54:43.462300Z",
     "shell.execute_reply": "2021-02-12T10:54:43.462300Z",
     "shell.execute_reply.started": "2021-02-12T10:54:43.456293Z"
    }
   },
   "outputs": [],
   "source": [
    "data['End_App_mean-2003']=data['End_App_mean']-2003\n",
    "data['Dis_App_mean-2003']=data['Dis_App_mean']-2003"
   ]
  },
  {
   "cell_type": "code",
   "execution_count": 99,
   "metadata": {
    "execution": {
     "iopub.execute_input": "2021-02-12T10:54:43.463300Z",
     "iopub.status.busy": "2021-02-12T10:54:43.463300Z",
     "iopub.status.idle": "2021-02-12T10:54:43.469306Z",
     "shell.execute_reply": "2021-02-12T10:54:43.469306Z",
     "shell.execute_reply.started": "2021-02-12T10:54:43.463300Z"
    }
   },
   "outputs": [],
   "source": [
    "data['End_App_mean-2004']=data['End_App_mean']-2004\n",
    "data['Dis_App_mean-2004']=data['Dis_App_mean']-2004"
   ]
  },
  {
   "cell_type": "code",
   "execution_count": 100,
   "metadata": {
    "execution": {
     "iopub.execute_input": "2021-02-12T10:54:43.470307Z",
     "iopub.status.busy": "2021-02-12T10:54:43.470307Z",
     "iopub.status.idle": "2021-02-12T10:54:43.476312Z",
     "shell.execute_reply": "2021-02-12T10:54:43.476312Z",
     "shell.execute_reply.started": "2021-02-12T10:54:43.470307Z"
    }
   },
   "outputs": [],
   "source": [
    "data['End_App_mean-2005']=data['End_App_mean']-2005\n",
    "data['Dis_App_mean-2005']=data['Dis_App_mean']-2005"
   ]
  },
  {
   "cell_type": "code",
   "execution_count": 101,
   "metadata": {
    "execution": {
     "iopub.execute_input": "2021-02-12T10:54:43.477314Z",
     "iopub.status.busy": "2021-02-12T10:54:43.477314Z",
     "iopub.status.idle": "2021-02-12T10:54:43.482318Z",
     "shell.execute_reply": "2021-02-12T10:54:43.482318Z",
     "shell.execute_reply.started": "2021-02-12T10:54:43.477314Z"
    }
   },
   "outputs": [],
   "source": [
    "data['End_App_mean-2006']=data['End_App_mean']-2006\n",
    "data['Dis_App_mean-2006']=data['Dis_App_mean']-2006"
   ]
  },
  {
   "cell_type": "code",
   "execution_count": 102,
   "metadata": {
    "execution": {
     "iopub.execute_input": "2021-02-12T10:54:43.483318Z",
     "iopub.status.busy": "2021-02-12T10:54:43.483318Z",
     "iopub.status.idle": "2021-02-12T10:54:43.489324Z",
     "shell.execute_reply": "2021-02-12T10:54:43.489324Z",
     "shell.execute_reply.started": "2021-02-12T10:54:43.483318Z"
    }
   },
   "outputs": [],
   "source": [
    "data['End_App_mean-2007']=data['End_App_mean']-2007\n",
    "data['Dis_App_mean-2007']=data['Dis_App_mean']-2007"
   ]
  },
  {
   "cell_type": "code",
   "execution_count": 103,
   "metadata": {
    "execution": {
     "iopub.execute_input": "2021-02-12T10:54:43.490324Z",
     "iopub.status.busy": "2021-02-12T10:54:43.490324Z",
     "iopub.status.idle": "2021-02-12T10:54:43.496330Z",
     "shell.execute_reply": "2021-02-12T10:54:43.496330Z",
     "shell.execute_reply.started": "2021-02-12T10:54:43.490324Z"
    }
   },
   "outputs": [],
   "source": [
    "data['End_App_mean-2008']=data['End_App_mean']-2008\n",
    "data['Dis_App_mean-2008']=data['Dis_App_mean']-2008"
   ]
  },
  {
   "cell_type": "code",
   "execution_count": 104,
   "metadata": {
    "execution": {
     "iopub.execute_input": "2021-02-12T10:54:43.497331Z",
     "iopub.status.busy": "2021-02-12T10:54:43.497331Z",
     "iopub.status.idle": "2021-02-12T10:54:43.503336Z",
     "shell.execute_reply": "2021-02-12T10:54:43.503336Z",
     "shell.execute_reply.started": "2021-02-12T10:54:43.497331Z"
    }
   },
   "outputs": [],
   "source": [
    "data['End_App_mean-2009']=data['End_App_mean']-2009\n",
    "data['Dis_App_mean-2009']=data['Dis_App_mean']-2009"
   ]
  },
  {
   "cell_type": "code",
   "execution_count": 105,
   "metadata": {
    "execution": {
     "iopub.execute_input": "2021-02-12T10:54:43.504337Z",
     "iopub.status.busy": "2021-02-12T10:54:43.504337Z",
     "iopub.status.idle": "2021-02-12T10:54:43.510343Z",
     "shell.execute_reply": "2021-02-12T10:54:43.510343Z",
     "shell.execute_reply.started": "2021-02-12T10:54:43.504337Z"
    }
   },
   "outputs": [],
   "source": [
    "data['End_App_mean-2010']=data['End_App_mean']-2010\n",
    "data['Dis_App_mean-2010']=data['Dis_App_mean']-2010"
   ]
  },
  {
   "cell_type": "code",
   "execution_count": 106,
   "metadata": {
    "execution": {
     "iopub.execute_input": "2021-02-12T10:54:43.511344Z",
     "iopub.status.busy": "2021-02-12T10:54:43.511344Z",
     "iopub.status.idle": "2021-02-12T10:54:43.517350Z",
     "shell.execute_reply": "2021-02-12T10:54:43.517350Z",
     "shell.execute_reply.started": "2021-02-12T10:54:43.511344Z"
    }
   },
   "outputs": [],
   "source": [
    "data['End_App_mean-2011']=data['End_App_mean']-2011\n",
    "data['Dis_App_mean-2011']=data['Dis_App_mean']-2011"
   ]
  },
  {
   "cell_type": "code",
   "execution_count": 107,
   "metadata": {
    "execution": {
     "iopub.execute_input": "2021-02-12T10:54:43.518351Z",
     "iopub.status.busy": "2021-02-12T10:54:43.518351Z",
     "iopub.status.idle": "2021-02-12T10:54:43.524356Z",
     "shell.execute_reply": "2021-02-12T10:54:43.524356Z",
     "shell.execute_reply.started": "2021-02-12T10:54:43.518351Z"
    }
   },
   "outputs": [],
   "source": [
    "data['End_App_mean-2012']=data['End_App_mean']-2012\n",
    "data['Dis_App_mean-2012']=data['Dis_App_mean']-2012"
   ]
  },
  {
   "cell_type": "code",
   "execution_count": 108,
   "metadata": {
    "execution": {
     "iopub.execute_input": "2021-02-12T10:54:43.525356Z",
     "iopub.status.busy": "2021-02-12T10:54:43.525356Z",
     "iopub.status.idle": "2021-02-12T10:54:43.531362Z",
     "shell.execute_reply": "2021-02-12T10:54:43.531362Z",
     "shell.execute_reply.started": "2021-02-12T10:54:43.525356Z"
    }
   },
   "outputs": [],
   "source": [
    "data['End_App_mean-2013']=data['End_App_mean']-2013\n",
    "data['Dis_App_mean-2013']=data['Dis_App_mean']-2013"
   ]
  },
  {
   "cell_type": "code",
   "execution_count": 109,
   "metadata": {
    "execution": {
     "iopub.execute_input": "2021-02-12T10:54:43.532363Z",
     "iopub.status.busy": "2021-02-12T10:54:43.532363Z",
     "iopub.status.idle": "2021-02-12T10:54:43.537367Z",
     "shell.execute_reply": "2021-02-12T10:54:43.537367Z",
     "shell.execute_reply.started": "2021-02-12T10:54:43.532363Z"
    }
   },
   "outputs": [],
   "source": [
    "data['End_App_mean-2014']=data['End_App_mean']-2014\n",
    "data['Dis_App_mean-2014']=data['Dis_App_mean']-2014"
   ]
  },
  {
   "cell_type": "code",
   "execution_count": 110,
   "metadata": {
    "execution": {
     "iopub.execute_input": "2021-02-12T10:54:43.538369Z",
     "iopub.status.busy": "2021-02-12T10:54:43.538369Z",
     "iopub.status.idle": "2021-02-12T10:54:43.544374Z",
     "shell.execute_reply": "2021-02-12T10:54:43.544374Z",
     "shell.execute_reply.started": "2021-02-12T10:54:43.538369Z"
    }
   },
   "outputs": [],
   "source": [
    "data['End_App_mean-2015']=data['End_App_mean']-2015\n",
    "data['Dis_App_mean-2015']=data['Dis_App_mean']-2015"
   ]
  },
  {
   "cell_type": "code",
   "execution_count": 111,
   "metadata": {
    "execution": {
     "iopub.execute_input": "2021-02-12T10:54:43.545375Z",
     "iopub.status.busy": "2021-02-12T10:54:43.545375Z",
     "iopub.status.idle": "2021-02-12T10:54:43.550379Z",
     "shell.execute_reply": "2021-02-12T10:54:43.550379Z",
     "shell.execute_reply.started": "2021-02-12T10:54:43.545375Z"
    }
   },
   "outputs": [],
   "source": [
    "data['End_App_mean-2016']=data['End_App_mean']-2016\n",
    "data['Dis_App_mean-2016']=data['Dis_App_mean']-2016"
   ]
  },
  {
   "cell_type": "code",
   "execution_count": 112,
   "metadata": {
    "execution": {
     "iopub.execute_input": "2021-02-12T10:54:43.551380Z",
     "iopub.status.busy": "2021-02-12T10:54:43.551380Z",
     "iopub.status.idle": "2021-02-12T10:54:43.556385Z",
     "shell.execute_reply": "2021-02-12T10:54:43.556385Z",
     "shell.execute_reply.started": "2021-02-12T10:54:43.551380Z"
    }
   },
   "outputs": [],
   "source": [
    "data['End_App_mean-2017']=data['End_App_mean']-2017\n",
    "data['Dis_App_mean-2017']=data['Dis_App_mean']-2017"
   ]
  },
  {
   "cell_type": "code",
   "execution_count": 113,
   "metadata": {
    "execution": {
     "iopub.execute_input": "2021-02-12T10:54:43.557386Z",
     "iopub.status.busy": "2021-02-12T10:54:43.557386Z",
     "iopub.status.idle": "2021-02-12T10:54:43.563391Z",
     "shell.execute_reply": "2021-02-12T10:54:43.563391Z",
     "shell.execute_reply.started": "2021-02-12T10:54:43.557386Z"
    }
   },
   "outputs": [],
   "source": [
    "data['End_App_mean-2018']=data['End_App_mean']-2018\n",
    "data['Dis_App_mean-2018']=data['Dis_App_mean']-2018"
   ]
  },
  {
   "cell_type": "code",
   "execution_count": 114,
   "metadata": {
    "execution": {
     "iopub.execute_input": "2021-02-12T10:54:43.564392Z",
     "iopub.status.busy": "2021-02-12T10:54:43.564392Z",
     "iopub.status.idle": "2021-02-12T10:54:43.581408Z",
     "shell.execute_reply": "2021-02-12T10:54:43.581408Z",
     "shell.execute_reply.started": "2021-02-12T10:54:43.564392Z"
    }
   },
   "outputs": [],
   "source": [
    "# 返済間隔\n",
    "data['Dis_App_Day']=data['DisbursementDate']-data['ApprovalDate']\n",
    "data['Dis_App_Day']=data['Dis_App_Day'].dt.days.astype('int32')\n",
    "data['Dis_App_Day'][data['Dis_App_Day']<0]=0\n",
    "data['Dis_App_Day']=np.sqrt(data['Dis_App_Day'])"
   ]
  },
  {
   "cell_type": "code",
   "execution_count": 115,
   "metadata": {
    "execution": {
     "iopub.execute_input": "2021-02-12T10:54:43.582409Z",
     "iopub.status.busy": "2021-02-12T10:54:43.582409Z",
     "iopub.status.idle": "2021-02-12T10:54:43.763573Z",
     "shell.execute_reply": "2021-02-12T10:54:43.763573Z",
     "shell.execute_reply.started": "2021-02-12T10:54:43.582409Z"
    }
   },
   "outputs": [
    {
     "data": {
      "image/png": "[encoded data removed]",
      "text/plain": [
       "<Figure size 1152x288 with 1 Axes>"
      ]
     },
     "metadata": {
      "needs_background": "light"
     },
     "output_type": "display_data"
    }
   ],
   "source": [
    "# Figureの初期化\n",
    "fig = plt.figure(figsize=(16, 4))\n",
    "\n",
    "ax1 = plt.subplot(121)   \n",
    "ax1.hist(data['Dis_App_Day'],bins=100)\n",
    "\n",
    "# ax2 = plt.subplot(122)   \n",
    "# ax2.hist(data['Dis_App_Month'].loc[data['LoanStatus']==1],bins=100,color='r')\n",
    "\n",
    "ax1.set_xlabel('Dis_App_Month')\n",
    "ax1.set_ylabel('counts')\n",
    "\n",
    "# 表示\n",
    "plt.show()"
   ]
  },
  {
   "cell_type": "code",
   "execution_count": 116,
   "metadata": {
    "execution": {
     "iopub.execute_input": "2021-02-12T10:54:43.764575Z",
     "iopub.status.busy": "2021-02-12T10:54:43.764575Z",
     "iopub.status.idle": "2021-02-12T10:54:43.773582Z",
     "shell.execute_reply": "2021-02-12T10:54:43.773582Z",
     "shell.execute_reply.started": "2021-02-12T10:54:43.764575Z"
    }
   },
   "outputs": [],
   "source": [
    "# 返済回数\n",
    "data['ReturnCnt']=1\n",
    "data['ReturnCnt']=data['Term']/data['Dis_App_Month']\n",
    "data['ReturnCnt'][data['Dis_App_Month']==0]=1"
   ]
  },
  {
   "cell_type": "code",
   "execution_count": 117,
   "metadata": {
    "execution": {
     "iopub.execute_input": "2021-02-12T10:54:43.774583Z",
     "iopub.status.busy": "2021-02-12T10:54:43.774583Z",
     "iopub.status.idle": "2021-02-12T10:54:43.957750Z",
     "shell.execute_reply": "2021-02-12T10:54:43.957750Z",
     "shell.execute_reply.started": "2021-02-12T10:54:43.774583Z"
    }
   },
   "outputs": [
    {
     "data": {
      "image/png": "[encoded data removed]",
      "text/plain": [
       "<Figure size 1152x288 with 1 Axes>"
      ]
     },
     "metadata": {
      "needs_background": "light"
     },
     "output_type": "display_data"
    }
   ],
   "source": [
    "# Figureの初期化\n",
    "fig = plt.figure(figsize=(16, 4))\n",
    "\n",
    "ax1 = plt.subplot(121)   \n",
    "ax1.hist(data['ReturnCnt'],bins=100)\n",
    "\n",
    "# ax2 = plt.subplot(122)   \n",
    "# ax2.hist(data['ReturnCnt'].loc[data['LoanStatus']==1],bins=100,color='r')\n",
    "\n",
    "ax1.set_xlabel('ReturnCnt')\n",
    "ax1.set_ylabel('counts')\n",
    "\n",
    "# 表示\n",
    "plt.show()"
   ]
  },
  {
   "cell_type": "code",
   "execution_count": 118,
   "metadata": {
    "execution": {
     "iopub.execute_input": "2021-02-12T10:54:43.958751Z",
     "iopub.status.busy": "2021-02-12T10:54:43.958751Z",
     "iopub.status.idle": "2021-02-12T10:54:43.968760Z",
     "shell.execute_reply": "2021-02-12T10:54:43.968760Z",
     "shell.execute_reply.started": "2021-02-12T10:54:43.958751Z"
    }
   },
   "outputs": [],
   "source": [
    "data['a-l_lRate']=np.round(((data['ActualGross']-data['LoanAmount'])/data['LoanAmount'])*100,decimals=4)"
   ]
  },
  {
   "cell_type": "code",
   "execution_count": null,
   "metadata": {},
   "outputs": [],
   "source": []
  },
  {
   "cell_type": "code",
   "execution_count": 119,
   "metadata": {
    "execution": {
     "iopub.execute_input": "2021-02-12T10:54:43.969761Z",
     "iopub.status.busy": "2021-02-12T10:54:43.969761Z",
     "iopub.status.idle": "2021-02-12T10:54:43.972763Z",
     "shell.execute_reply": "2021-02-12T10:54:43.972763Z",
     "shell.execute_reply.started": "2021-02-12T10:54:43.969761Z"
    }
   },
   "outputs": [],
   "source": [
    "data['dif_L-D']=data['LoanAmount']-data['DisbursementGross']"
   ]
  },
  {
   "cell_type": "code",
   "execution_count": 120,
   "metadata": {
    "execution": {
     "iopub.execute_input": "2021-02-12T10:54:43.973765Z",
     "iopub.status.busy": "2021-02-12T10:54:43.973765Z",
     "iopub.status.idle": "2021-02-12T10:54:43.981771Z",
     "shell.execute_reply": "2021-02-12T10:54:43.981771Z",
     "shell.execute_reply.started": "2021-02-12T10:54:43.973765Z"
    }
   },
   "outputs": [],
   "source": [
    "data['dif_L-D_L']=np.sqrt(1-(data['dif_L-D']/data['LoanAmount']))"
   ]
  },
  {
   "cell_type": "code",
   "execution_count": 121,
   "metadata": {
    "execution": {
     "iopub.execute_input": "2021-02-12T10:54:43.982773Z",
     "iopub.status.busy": "2021-02-12T10:54:43.982773Z",
     "iopub.status.idle": "2021-02-12T10:54:43.992782Z",
     "shell.execute_reply": "2021-02-12T10:54:43.992782Z",
     "shell.execute_reply.started": "2021-02-12T10:54:43.982773Z"
    }
   },
   "outputs": [],
   "source": [
    "data['dif_L-D_T']=np.round((data['dif_L-D']/data['Term']),decimals=4)"
   ]
  },
  {
   "cell_type": "code",
   "execution_count": 122,
   "metadata": {
    "execution": {
     "iopub.execute_input": "2021-02-12T10:54:43.993783Z",
     "iopub.status.busy": "2021-02-12T10:54:43.993783Z",
     "iopub.status.idle": "2021-02-12T10:54:44.010798Z",
     "shell.execute_reply": "2021-02-12T10:54:44.010798Z",
     "shell.execute_reply.started": "2021-02-12T10:54:43.993783Z"
    }
   },
   "outputs": [],
   "source": [
    "data['Dis_App_Month_Term']=np.round((-data['Dis_App_Month']/data['Term']),decimals=4)"
   ]
  },
  {
   "cell_type": "code",
   "execution_count": 123,
   "metadata": {
    "execution": {
     "iopub.execute_input": "2021-02-12T10:54:44.011798Z",
     "iopub.status.busy": "2021-02-12T10:54:44.011798Z",
     "iopub.status.idle": "2021-02-12T10:54:44.033819Z",
     "shell.execute_reply": "2021-02-12T10:54:44.033819Z",
     "shell.execute_reply.started": "2021-02-12T10:54:44.011798Z"
    }
   },
   "outputs": [],
   "source": [
    "data['L^T_D']=np.round((data['LoanAmount']*data['Term']-data['LoanAmount']*data['Term']/-data['Dis_App_Month'])/(data['LoanAmount'])/data['Dis_App_Month_Term'],decimals=4)"
   ]
  },
  {
   "cell_type": "code",
   "execution_count": 124,
   "metadata": {
    "execution": {
     "iopub.execute_input": "2021-02-12T10:54:44.034820Z",
     "iopub.status.busy": "2021-02-12T10:54:44.034820Z",
     "iopub.status.idle": "2021-02-12T10:54:44.053837Z",
     "shell.execute_reply": "2021-02-12T10:54:44.053837Z",
     "shell.execute_reply.started": "2021-02-12T10:54:44.034820Z"
    }
   },
   "outputs": [],
   "source": [
    "data['Rev_T']=0\n",
    "data['Rev_T'].loc[(data['RevLineCr']==1) & (data[\"Term\"]%2!=0)]=1"
   ]
  },
  {
   "cell_type": "code",
   "execution_count": 125,
   "metadata": {
    "execution": {
     "iopub.execute_input": "2021-02-12T10:54:44.054837Z",
     "iopub.status.busy": "2021-02-12T10:54:44.054837Z",
     "iopub.status.idle": "2021-02-12T10:54:44.063846Z",
     "shell.execute_reply": "2021-02-12T10:54:44.063846Z",
     "shell.execute_reply.started": "2021-02-12T10:54:44.054837Z"
    }
   },
   "outputs": [],
   "source": [
    "#\n",
    "data['ret_L-D_T']=0\n",
    "data['ret_L-D_T'].loc[(data['Dis_App_Month']<0) & (data['dif_L-D']==0) & (data[\"Term\"]<84) & (data[\"Term\"]%2!=0)]=1"
   ]
  },
  {
   "cell_type": "code",
   "execution_count": 126,
   "metadata": {
    "execution": {
     "iopub.execute_input": "2021-02-12T10:54:44.064848Z",
     "iopub.status.busy": "2021-02-12T10:54:44.064848Z",
     "iopub.status.idle": "2021-02-12T10:54:44.099879Z",
     "shell.execute_reply": "2021-02-12T10:54:44.099879Z",
     "shell.execute_reply.started": "2021-02-12T10:54:44.064848Z"
    }
   },
   "outputs": [],
   "source": [
    "data['L_Dis_App']=np.round(data['LoanAmount']/data['Dis_App'],decimals=4)\n",
    "data['D_Dis_App']=np.round(data['DisbursementGross']/data['Dis_App'],decimals=4)"
   ]
  },
  {
   "cell_type": "code",
   "execution_count": 127,
   "metadata": {
    "execution": {
     "iopub.execute_input": "2021-02-12T10:54:44.100880Z",
     "iopub.status.busy": "2021-02-12T10:54:44.100880Z",
     "iopub.status.idle": "2021-02-12T10:54:44.102882Z",
     "shell.execute_reply": "2021-02-12T10:54:44.102882Z",
     "shell.execute_reply.started": "2021-02-12T10:54:44.100880Z"
    }
   },
   "outputs": [],
   "source": [
    "# 1月当たりの返済金額"
   ]
  },
  {
   "cell_type": "code",
   "execution_count": 128,
   "metadata": {
    "execution": {
     "iopub.execute_input": "2021-02-12T10:54:44.103883Z",
     "iopub.status.busy": "2021-02-12T10:54:44.103883Z",
     "iopub.status.idle": "2021-02-12T10:54:44.132909Z",
     "shell.execute_reply": "2021-02-12T10:54:44.132909Z",
     "shell.execute_reply.started": "2021-02-12T10:54:44.103883Z"
    }
   },
   "outputs": [],
   "source": [
    "data['ReturnAmountPerMonth_A']=0\n",
    "data['ReturnAmountPerMonth_A']=np.round(data['ActualGross']/data['Term'],decimals=4)\n",
    "data['ReturnAmountPerMonth_A'][data['Term']==0]=data['ActualGross']\n",
    "data['ReturnAmountPerMonth_A']=np.log(data['ReturnAmountPerMonth_A'])"
   ]
  },
  {
   "cell_type": "code",
   "execution_count": 129,
   "metadata": {
    "execution": {
     "iopub.execute_input": "2021-02-12T10:54:44.133910Z",
     "iopub.status.busy": "2021-02-12T10:54:44.133910Z",
     "iopub.status.idle": "2021-02-12T10:54:44.160934Z",
     "shell.execute_reply": "2021-02-12T10:54:44.160934Z",
     "shell.execute_reply.started": "2021-02-12T10:54:44.133910Z"
    }
   },
   "outputs": [],
   "source": [
    "data['ReturnAmountPerMonth_B']=0\n",
    "data['ReturnAmountPerMonth_B']=np.round(data['BalanceGross']/data['Term'],decimals=4)\n",
    "data['ReturnAmountPerMonth_B'][data['Term']==0]=data['BalanceGross']\n",
    "data['ReturnAmountPerMonth_B']=np.log(data['ReturnAmountPerMonth_B'])"
   ]
  },
  {
   "cell_type": "code",
   "execution_count": 130,
   "metadata": {
    "execution": {
     "iopub.execute_input": "2021-02-12T10:54:44.161936Z",
     "iopub.status.busy": "2021-02-12T10:54:44.161936Z",
     "iopub.status.idle": "2021-02-12T10:54:44.189960Z",
     "shell.execute_reply": "2021-02-12T10:54:44.189960Z",
     "shell.execute_reply.started": "2021-02-12T10:54:44.161936Z"
    }
   },
   "outputs": [],
   "source": [
    "data['ReturnAmountPerMonth_D']=0\n",
    "data['ReturnAmountPerMonth_D']=np.round(data['DisbursementGross']/data['Term'],decimals=4)\n",
    "data['ReturnAmountPerMonth_D'][data['Term']==0]=data['DisbursementGross']\n",
    "data['ReturnAmountPerMonth_D']=np.log(data['ReturnAmountPerMonth_D'])"
   ]
  },
  {
   "cell_type": "code",
   "execution_count": 131,
   "metadata": {
    "execution": {
     "iopub.execute_input": "2021-02-12T10:54:44.190962Z",
     "iopub.status.busy": "2021-02-12T10:54:44.190962Z",
     "iopub.status.idle": "2021-02-12T10:54:44.217986Z",
     "shell.execute_reply": "2021-02-12T10:54:44.217986Z",
     "shell.execute_reply.started": "2021-02-12T10:54:44.190962Z"
    }
   },
   "outputs": [],
   "source": [
    "data['ReturnAmountPerMonth_L']=0\n",
    "data['ReturnAmountPerMonth_L']=np.round(data['LoanAmount']/data['Term'],decimals=4)\n",
    "data['ReturnAmountPerMonth_L'][data['Term']==0]=data['LoanAmount']\n",
    "data['ReturnAmountPerMonth_L']=np.log(data['ReturnAmountPerMonth_L'])"
   ]
  },
  {
   "cell_type": "code",
   "execution_count": 132,
   "metadata": {
    "execution": {
     "iopub.execute_input": "2021-02-12T10:54:44.218988Z",
     "iopub.status.busy": "2021-02-12T10:54:44.218988Z",
     "iopub.status.idle": "2021-02-12T10:54:44.221990Z",
     "shell.execute_reply": "2021-02-12T10:54:44.221990Z",
     "shell.execute_reply.started": "2021-02-12T10:54:44.218988Z"
    }
   },
   "outputs": [],
   "source": [
    "# # Figureの初期化\n",
    "# fig = plt.figure(figsize=(16, 4))\n",
    "\n",
    "# ax1 = plt.subplot(121)   \n",
    "# ax1.hist(data['ReturnAmountPerMonth'].loc[data['ReturnAmountPerMonth']<40000],bins=100)\n",
    "\n",
    "# # ax2 = plt.subplot(122)   \n",
    "# # ax2.hist(data['ReturnAmountPerMonth'].loc[data['LoanStatus']==1].loc[data['ReturnAmountPerMonth']<40000],bins=100,color='r')\n",
    "\n",
    "# ax1.set_xlabel('ReturnAmountPerMonth')\n",
    "# ax1.set_ylabel('counts')\n",
    "\n",
    "# # 表示\n",
    "# plt.show()"
   ]
  },
  {
   "cell_type": "code",
   "execution_count": 133,
   "metadata": {
    "execution": {
     "iopub.execute_input": "2021-02-12T10:54:44.222991Z",
     "iopub.status.busy": "2021-02-12T10:54:44.222991Z",
     "iopub.status.idle": "2021-02-12T10:54:44.226994Z",
     "shell.execute_reply": "2021-02-12T10:54:44.226994Z",
     "shell.execute_reply.started": "2021-02-12T10:54:44.222991Z"
    }
   },
   "outputs": [],
   "source": [
    "# 1回あたりの返済金額"
   ]
  },
  {
   "cell_type": "code",
   "execution_count": 134,
   "metadata": {
    "execution": {
     "iopub.execute_input": "2021-02-12T10:54:44.227995Z",
     "iopub.status.busy": "2021-02-12T10:54:44.227995Z",
     "iopub.status.idle": "2021-02-12T10:54:44.252017Z",
     "shell.execute_reply": "2021-02-12T10:54:44.252017Z",
     "shell.execute_reply.started": "2021-02-12T10:54:44.227995Z"
    }
   },
   "outputs": [],
   "source": [
    "data['ReturnAmountPerCnt_A']=0\n",
    "data['ReturnAmountPerCnt_A']=data['ActualGross']/data['ReturnCnt']\n",
    "data['ReturnAmountPerCnt_A'][data['ReturnCnt']==0]=data['LoanAmount']\n",
    "data['ReturnAmountPerCnt_A']=np.round(data['ReturnAmountPerCnt_A'],decimals=4)"
   ]
  },
  {
   "cell_type": "code",
   "execution_count": 135,
   "metadata": {
    "execution": {
     "iopub.execute_input": "2021-02-12T10:54:44.253019Z",
     "iopub.status.busy": "2021-02-12T10:54:44.253019Z",
     "iopub.status.idle": "2021-02-12T10:54:44.265029Z",
     "shell.execute_reply": "2021-02-12T10:54:44.265029Z",
     "shell.execute_reply.started": "2021-02-12T10:54:44.253019Z"
    }
   },
   "outputs": [],
   "source": [
    "data['ReturnAmountPerCnt_B']=0\n",
    "data['ReturnAmountPerCnt_B']=data['BalanceGross']/data['ReturnCnt']\n",
    "data['ReturnAmountPerCnt_B'][data['ReturnCnt']==0]=data['BalanceGross']\n",
    "data['ReturnAmountPerCnt_B']=np.round(data['ReturnAmountPerCnt_B'],decimals=4)"
   ]
  },
  {
   "cell_type": "code",
   "execution_count": 136,
   "metadata": {
    "execution": {
     "iopub.execute_input": "2021-02-12T10:54:44.266029Z",
     "iopub.status.busy": "2021-02-12T10:54:44.266029Z",
     "iopub.status.idle": "2021-02-12T10:54:44.289051Z",
     "shell.execute_reply": "2021-02-12T10:54:44.289051Z",
     "shell.execute_reply.started": "2021-02-12T10:54:44.266029Z"
    }
   },
   "outputs": [],
   "source": [
    "data['ReturnAmountPerCnt_D']=0\n",
    "data['ReturnAmountPerCnt_D']=data['DisbursementGross']/data['ReturnCnt']\n",
    "data['ReturnAmountPerCnt_D'][data['ReturnCnt']==0]=data['DisbursementGross']\n",
    "data['ReturnAmountPerCnt_D']=np.round(data['ReturnAmountPerCnt_D'],decimals=4)"
   ]
  },
  {
   "cell_type": "code",
   "execution_count": 137,
   "metadata": {
    "execution": {
     "iopub.execute_input": "2021-02-12T10:54:44.290052Z",
     "iopub.status.busy": "2021-02-12T10:54:44.290052Z",
     "iopub.status.idle": "2021-02-12T10:54:44.315074Z",
     "shell.execute_reply": "2021-02-12T10:54:44.315074Z",
     "shell.execute_reply.started": "2021-02-12T10:54:44.290052Z"
    }
   },
   "outputs": [],
   "source": [
    "data['ReturnAmountPerCnt_L']=0\n",
    "data['ReturnAmountPerCnt_L']=data['LoanAmount']/data['ReturnCnt']\n",
    "data['ReturnAmountPerCnt_L'][data['ReturnCnt']==0]=data['LoanAmount']\n",
    "data['ReturnAmountPerCnt_L']=np.round(data['ReturnAmountPerCnt_L'],decimals=4)"
   ]
  },
  {
   "cell_type": "code",
   "execution_count": 138,
   "metadata": {
    "execution": {
     "iopub.execute_input": "2021-02-12T10:54:44.316075Z",
     "iopub.status.busy": "2021-02-12T10:54:44.316075Z",
     "iopub.status.idle": "2021-02-12T10:54:44.318077Z",
     "shell.execute_reply": "2021-02-12T10:54:44.318077Z",
     "shell.execute_reply.started": "2021-02-12T10:54:44.316075Z"
    }
   },
   "outputs": [],
   "source": [
    "# data['ReturnAmountPerCnt_log']=np.log(np.sqrt(np.log(data['ReturnAmountPerCnt'])))"
   ]
  },
  {
   "cell_type": "code",
   "execution_count": 139,
   "metadata": {
    "execution": {
     "iopub.execute_input": "2021-02-12T10:54:44.319078Z",
     "iopub.status.busy": "2021-02-12T10:54:44.319078Z",
     "iopub.status.idle": "2021-02-12T10:54:44.324082Z",
     "shell.execute_reply": "2021-02-12T10:54:44.324082Z",
     "shell.execute_reply.started": "2021-02-12T10:54:44.319078Z"
    }
   },
   "outputs": [],
   "source": [
    "# # Figureの初期化\n",
    "# fig = plt.figure(figsize=(16, 4))\n",
    "\n",
    "# ax1 = plt.subplot(121)   \n",
    "# ax1.hist(data['ReturnAmountPerCnt_log'],bins=100)\n",
    "\n",
    "# # ax2 = plt.subplot(122)   \n",
    "# # ax2.hist(data['ReturnAmountPerCnt'].loc[data['LoanStatus']==1].loc[data['ReturnAmountPerCnt']<40000],bins=100,color='r')\n",
    "\n",
    "# ax1.set_xlabel('ReturnAmountPerCnt')\n",
    "# ax1.set_ylabel('counts')\n",
    "\n",
    "# # 表示\n",
    "# plt.show()"
   ]
  },
  {
   "cell_type": "code",
   "execution_count": 140,
   "metadata": {
    "execution": {
     "iopub.execute_input": "2021-02-12T10:54:44.325084Z",
     "iopub.status.busy": "2021-02-12T10:54:44.325084Z",
     "iopub.status.idle": "2021-02-12T10:54:44.360115Z",
     "shell.execute_reply": "2021-02-12T10:54:44.360115Z",
     "shell.execute_reply.started": "2021-02-12T10:54:44.325084Z"
    }
   },
   "outputs": [],
   "source": [
    "# 実際の貸金金額と第三者保証の比率\n",
    "data['GuaranteedAmountRatio_A']=np.round(data['GuaranteedLoan']/data['ActualGross'],decimals=4)\n",
    "data['GuaranteedAmountRatio_B']=np.round(data['GuaranteedLoan']/data['BalanceGross'],decimals=4)\n",
    "data['GuaranteedAmountRatio_D']=np.round(data['GuaranteedLoan']/data['DisbursementGross'],decimals=4)\n",
    "data['GuaranteedAmountRatio_L']=np.round(data['GuaranteedLoan']/data['LoanAmount'],decimals=4)"
   ]
  },
  {
   "cell_type": "code",
   "execution_count": 141,
   "metadata": {
    "execution": {
     "iopub.execute_input": "2021-02-12T10:54:44.361117Z",
     "iopub.status.busy": "2021-02-12T10:54:44.361117Z",
     "iopub.status.idle": "2021-02-12T10:54:44.695420Z",
     "shell.execute_reply": "2021-02-12T10:54:44.695420Z",
     "shell.execute_reply.started": "2021-02-12T10:54:44.361117Z"
    }
   },
   "outputs": [],
   "source": [
    "# 実際の貸金金額と金融機関承認額の比率\n",
    "data['ProperAmountRatio_A']=np.log(np.sqrt(data['LoanAmount']/data['ActualGross']))\n",
    "data['ProperAmountRatio_B']=np.log(np.sqrt(data['LoanAmount']/data['BalanceGross']))\n",
    "data['ProperAmountRatio_D']=np.log(np.sqrt(data['LoanAmount']/data['DisbursementGross']))\n",
    "data['ProperAmountRatio_G']=np.log(np.sqrt(data['LoanAmount']/data['GuaranteedLoan']))"
   ]
  },
  {
   "cell_type": "code",
   "execution_count": null,
   "metadata": {},
   "outputs": [],
   "source": []
  },
  {
   "cell_type": "code",
   "execution_count": 142,
   "metadata": {
    "execution": {
     "iopub.execute_input": "2021-02-12T10:54:44.696421Z",
     "iopub.status.busy": "2021-02-12T10:54:44.696421Z",
     "iopub.status.idle": "2021-02-12T10:54:44.700425Z",
     "shell.execute_reply": "2021-02-12T10:54:44.700425Z",
     "shell.execute_reply.started": "2021-02-12T10:54:44.696421Z"
    }
   },
   "outputs": [],
   "source": [
    "# 金融機関承認額と第三者保証の差額\n",
    "data['dif_Bank-Grt']=data['LoanAmount']-data['GuaranteedLoan']"
   ]
  },
  {
   "cell_type": "code",
   "execution_count": 143,
   "metadata": {
    "execution": {
     "iopub.execute_input": "2021-02-12T10:54:44.701426Z",
     "iopub.status.busy": "2021-02-12T10:54:44.701426Z",
     "iopub.status.idle": "2021-02-12T10:54:44.716439Z",
     "shell.execute_reply": "2021-02-12T10:54:44.716439Z",
     "shell.execute_reply.started": "2021-02-12T10:54:44.701426Z"
    }
   },
   "outputs": [],
   "source": [
    "data['dif_Bank-Grt_sqrt']=np.round(data['dif_Bank-Grt']/data['GuaranteedLoan'],decimals=4)"
   ]
  },
  {
   "cell_type": "code",
   "execution_count": 144,
   "metadata": {
    "execution": {
     "iopub.execute_input": "2021-02-12T10:54:44.717441Z",
     "iopub.status.busy": "2021-02-12T10:54:44.717441Z",
     "iopub.status.idle": "2021-02-12T10:54:44.725448Z",
     "shell.execute_reply": "2021-02-12T10:54:44.725448Z",
     "shell.execute_reply.started": "2021-02-12T10:54:44.717441Z"
    }
   },
   "outputs": [],
   "source": [
    "data['dif_Bank-Grt_A']=np.round(data['dif_Bank-Grt']*data['ActualGross'],decimals=4)\n",
    "data['dif_Bank-Grt_B']=np.round(data['dif_Bank-Grt']*data['BalanceGross'],decimals=4)\n",
    "data['dif_Bank-Grt_D']=np.round(data['dif_Bank-Grt']*data['DisbursementGross'],decimals=4)\n",
    "data['dif_Bank-Grt_G']=np.round(data['dif_Bank-Grt']*data['GuaranteedLoan'],decimals=4)\n",
    "data['dif_Bank-Grt_L']=np.round(data['dif_Bank-Grt']*data['LoanAmount'],decimals=4)"
   ]
  },
  {
   "cell_type": "code",
   "execution_count": 145,
   "metadata": {
    "execution": {
     "iopub.execute_input": "2021-02-12T10:54:44.726448Z",
     "iopub.status.busy": "2021-02-12T10:54:44.726448Z",
     "iopub.status.idle": "2021-02-12T10:54:44.781499Z",
     "shell.execute_reply": "2021-02-12T10:54:44.781499Z",
     "shell.execute_reply.started": "2021-02-12T10:54:44.726448Z"
    }
   },
   "outputs": [],
   "source": [
    "data['dif_Bank-Grt^A']=np.sqrt(np.log(data['dif_Bank-Grt']*data['ActualGross']))\n",
    "data['dif_Bank-Grt^B']=np.sqrt(np.log(data['dif_Bank-Grt']*data['BalanceGross']))\n",
    "data['dif_Bank-Grt^D']=np.sqrt(np.log(data['dif_Bank-Grt']*data['DisbursementGross']))\n",
    "data['dif_Bank-Grt^G']=np.sqrt(np.log(data['dif_Bank-Grt']*data['GuaranteedLoan']))\n",
    "data['dif_Bank-Grt^L']=np.sqrt(np.log(data['dif_Bank-Grt']*data['LoanAmount']))"
   ]
  },
  {
   "cell_type": "code",
   "execution_count": 146,
   "metadata": {
    "execution": {
     "iopub.execute_input": "2021-02-12T10:54:44.782500Z",
     "iopub.status.busy": "2021-02-12T10:54:44.782500Z",
     "iopub.status.idle": "2021-02-12T10:54:44.955657Z",
     "shell.execute_reply": "2021-02-12T10:54:44.955657Z",
     "shell.execute_reply.started": "2021-02-12T10:54:44.782500Z"
    }
   },
   "outputs": [],
   "source": [
    "data['a_amount_AA']=np.round(data['ActualGross']-data['ReturnAmountPerMonth_A'],decimals=4)\n",
    "data['a_amount_BA']=np.round(data['ActualGross']-data['ReturnAmountPerMonth_B'],decimals=4)\n",
    "data['a_amount_DA']=np.round(data['ActualGross']-data['ReturnAmountPerMonth_D'],decimals=4)\n",
    "data['a_amount_LA']=np.round(data['ActualGross']-data['ReturnAmountPerMonth_L'],decimals=4)\n",
    "\n",
    "data['a_amount_AB']=np.round(data['BalanceGross']-data['ReturnAmountPerMonth_A'],decimals=4)\n",
    "data['a_amount_BB']=np.round(data['BalanceGross']-data['ReturnAmountPerMonth_B'],decimals=4)\n",
    "data['a_amount_DB']=np.round(data['BalanceGross']-data['ReturnAmountPerMonth_D'],decimals=4)\n",
    "data['a_amount_LB']=np.round(data['BalanceGross']-data['ReturnAmountPerMonth_L'],decimals=4)\n",
    "\n",
    "data['a_amount_AD']=np.round(data['DisbursementGross']-data['ReturnAmountPerMonth_A'],decimals=4)\n",
    "data['a_amount_BD']=np.round(data['DisbursementGross']-data['ReturnAmountPerMonth_B'],decimals=4)\n",
    "data['a_amount_DD']=np.round(data['DisbursementGross']-data['ReturnAmountPerMonth_D'],decimals=4)\n",
    "data['a_amount_LD']=np.round(data['DisbursementGross']-data['ReturnAmountPerMonth_L'],decimals=4)"
   ]
  },
  {
   "cell_type": "code",
   "execution_count": 147,
   "metadata": {
    "execution": {
     "iopub.execute_input": "2021-02-12T10:54:44.956658Z",
     "iopub.status.busy": "2021-02-12T10:54:44.956658Z",
     "iopub.status.idle": "2021-02-12T10:54:45.086776Z",
     "shell.execute_reply": "2021-02-12T10:54:45.086776Z",
     "shell.execute_reply.started": "2021-02-12T10:54:44.956658Z"
    }
   },
   "outputs": [],
   "source": [
    "data['a_amount__AA']=np.round(data['ActualGross']/data['ReturnAmountPerMonth_A'],decimals=4)\n",
    "data['a_amount__BA']=np.round(data['ActualGross']/data['ReturnAmountPerMonth_B'],decimals=4)\n",
    "data['a_amount__DA']=np.round(data['ActualGross']/data['ReturnAmountPerMonth_D'],decimals=4)\n",
    "data['a_amount__LA']=np.round(data['ActualGross']/data['ReturnAmountPerMonth_L'],decimals=4)\n",
    "\n",
    "data['a_amount__AB']=np.round(data['BalanceGross']/data['ReturnAmountPerMonth_A'],decimals=4)\n",
    "data['a_amount__BB']=np.round(data['BalanceGross']/data['ReturnAmountPerMonth_B'],decimals=4)\n",
    "data['a_amount__DB']=np.round(data['BalanceGross']/data['ReturnAmountPerMonth_D'],decimals=4)\n",
    "data['a_amount__LB']=np.round(data['BalanceGross']/data['ReturnAmountPerMonth_L'],decimals=4)\n",
    "\n",
    "data['a_amount__AD']=np.round(data['DisbursementGross']/data['ReturnAmountPerMonth_A'],decimals=4)\n",
    "data['a_amount__BD']=np.round(data['DisbursementGross']/data['ReturnAmountPerMonth_B'],decimals=4)\n",
    "data['a_amount__DD']=np.round(data['DisbursementGross']/data['ReturnAmountPerMonth_D'],decimals=4)\n",
    "data['a_amount__LD']=np.round(data['DisbursementGross']/data['ReturnAmountPerMonth_L'],decimals=4)"
   ]
  },
  {
   "cell_type": "code",
   "execution_count": 148,
   "metadata": {
    "execution": {
     "iopub.execute_input": "2021-02-12T10:54:45.087776Z",
     "iopub.status.busy": "2021-02-12T10:54:45.087776Z",
     "iopub.status.idle": "2021-02-12T10:54:45.180862Z",
     "shell.execute_reply": "2021-02-12T10:54:45.180862Z",
     "shell.execute_reply.started": "2021-02-12T10:54:45.087776Z"
    }
   },
   "outputs": [],
   "source": [
    "data['a_rate_AA']=np.round(data['a_amount_AA']*data['Dis_App_Month'],decimals=4)\n",
    "data['a_rate_BA']=np.round(data['a_amount_BA']*data['Dis_App_Month'],decimals=4)\n",
    "data['a_rate_DA']=np.round(data['a_amount_DA']*data['Dis_App_Month'],decimals=4)\n",
    "data['a_rate_LA']=np.round(data['a_amount_LA']*data['Dis_App_Month'],decimals=4)\n",
    "\n",
    "data['a_rate_AB']=np.round(data['a_amount_AB']*data['Dis_App_Month'],decimals=4)\n",
    "data['a_rate_BB']=np.round(data['a_amount_BB']*data['Dis_App_Month'],decimals=4)\n",
    "data['a_rate_DB']=np.round(data['a_amount_DB']*data['Dis_App_Month'],decimals=4)\n",
    "data['a_rate_LB']=np.round(data['a_amount_LB']*data['Dis_App_Month'],decimals=4)\n",
    "\n",
    "data['a_rate_AD']=np.round(data['a_amount_AD']*data['Dis_App_Month'],decimals=4)\n",
    "data['a_rate_BD']=np.round(data['a_amount_BD']*data['Dis_App_Month'],decimals=4)\n",
    "data['a_rate_DD']=np.round(data['a_amount_DD']*data['Dis_App_Month'],decimals=4)\n",
    "data['a_rate_LD']=np.round(data['a_amount_LD']*data['Dis_App_Month'],decimals=4)"
   ]
  },
  {
   "cell_type": "code",
   "execution_count": 149,
   "metadata": {
    "execution": {
     "iopub.execute_input": "2021-02-12T10:54:45.181862Z",
     "iopub.status.busy": "2021-02-12T10:54:45.181862Z",
     "iopub.status.idle": "2021-02-12T10:54:45.211890Z",
     "shell.execute_reply": "2021-02-12T10:54:45.211890Z",
     "shell.execute_reply.started": "2021-02-12T10:54:45.181862Z"
    }
   },
   "outputs": [],
   "source": [
    "data['b_rate_A']=np.round(data['ActualGross']*10000/data['LoanAmount'],decimals=4)\n",
    "data['b_rate_B']=np.round(data['BalanceGross']*10000/data['LoanAmount'],decimals=4)\n",
    "data['b_rate_D']=np.round(data['DisbursementGross']*10000/data['LoanAmount'],decimals=4)"
   ]
  },
  {
   "cell_type": "code",
   "execution_count": 150,
   "metadata": {
    "execution": {
     "iopub.execute_input": "2021-02-12T10:54:45.212890Z",
     "iopub.status.busy": "2021-02-12T10:54:45.212890Z",
     "iopub.status.idle": "2021-02-12T10:54:45.236913Z",
     "shell.execute_reply": "2021-02-12T10:54:45.236913Z",
     "shell.execute_reply.started": "2021-02-12T10:54:45.212890Z"
    }
   },
   "outputs": [],
   "source": [
    "data['dif_Bank-Grt^L^a_rate_AA']=data['dif_Bank-Grt^L']*data['a_rate_AA']\n",
    "data['dif_Bank-Grt^L^a_rate_BA']=data['dif_Bank-Grt^L']*data['a_rate_BA']\n",
    "data['dif_Bank-Grt^L^a_rate_DA']=data['dif_Bank-Grt^L']*data['a_rate_DA']\n",
    "data['dif_Bank-Grt^L^a_rate_LA']=data['dif_Bank-Grt^L']*data['a_rate_LA']\n",
    "\n",
    "data['dif_Bank-Grt^L^a_rate_AB']=data['dif_Bank-Grt^L']*data['a_rate_AB']\n",
    "data['dif_Bank-Grt^L^a_rate_BB']=data['dif_Bank-Grt^L']*data['a_rate_BB']\n",
    "data['dif_Bank-Grt^L^a_rate_DB']=data['dif_Bank-Grt^L']*data['a_rate_DB']\n",
    "data['dif_Bank-Grt^L^a_rate_LB']=data['dif_Bank-Grt^L']*data['a_rate_LB']\n",
    "\n",
    "data['dif_Bank-Grt^L^a_rate_AD']=data['dif_Bank-Grt^L']*data['a_rate_AD']\n",
    "data['dif_Bank-Grt^L^a_rate_BD']=data['dif_Bank-Grt^L']*data['a_rate_BD']\n",
    "data['dif_Bank-Grt^L^a_rate_DD']=data['dif_Bank-Grt^L']*data['a_rate_DD']\n",
    "data['dif_Bank-Grt^L^a_rate_LD']=data['dif_Bank-Grt^L']*data['a_rate_LD']"
   ]
  },
  {
   "cell_type": "code",
   "execution_count": 151,
   "metadata": {
    "execution": {
     "iopub.execute_input": "2021-02-12T10:54:45.237914Z",
     "iopub.status.busy": "2021-02-12T10:54:45.237914Z",
     "iopub.status.idle": "2021-02-12T10:54:45.246921Z",
     "shell.execute_reply": "2021-02-12T10:54:45.246921Z",
     "shell.execute_reply.started": "2021-02-12T10:54:45.237914Z"
    }
   },
   "outputs": [],
   "source": [
    "data['dif_Bank-Grt^G^b_rate_A']=data['dif_Bank-Grt^G']*data['b_rate_A']\n",
    "data['dif_Bank-Grt^G^b_rate_B']=data['dif_Bank-Grt^G']*data['b_rate_B']\n",
    "data['dif_Bank-Grt^G^b_rate_D']=data['dif_Bank-Grt^G']*data['b_rate_D']"
   ]
  },
  {
   "cell_type": "code",
   "execution_count": 152,
   "metadata": {
    "execution": {
     "iopub.execute_input": "2021-02-12T10:54:45.247922Z",
     "iopub.status.busy": "2021-02-12T10:54:45.247922Z",
     "iopub.status.idle": "2021-02-12T10:54:45.271945Z",
     "shell.execute_reply": "2021-02-12T10:54:45.271945Z",
     "shell.execute_reply.started": "2021-02-12T10:54:45.247922Z"
    }
   },
   "outputs": [],
   "source": [
    "data['dif_Bank-Grt^A^a_rate_AA']=data['dif_Bank-Grt^A']*data['a_rate_AA']\n",
    "data['dif_Bank-Grt^A^a_rate_BA']=data['dif_Bank-Grt^A']*data['a_rate_BA']\n",
    "data['dif_Bank-Grt^A^a_rate_DA']=data['dif_Bank-Grt^A']*data['a_rate_DA']\n",
    "data['dif_Bank-Grt^A^a_rate_LA']=data['dif_Bank-Grt^A']*data['a_rate_LA']\n",
    "\n",
    "data['dif_Bank-Grt^A^a_rate_AB']=data['dif_Bank-Grt^A']*data['a_rate_AB']\n",
    "data['dif_Bank-Grt^A^a_rate_BB']=data['dif_Bank-Grt^A']*data['a_rate_BB']\n",
    "data['dif_Bank-Grt^A^a_rate_DB']=data['dif_Bank-Grt^A']*data['a_rate_DB']\n",
    "data['dif_Bank-Grt^A^a_rate_LB']=data['dif_Bank-Grt^A']*data['a_rate_LB']\n",
    "\n",
    "data['dif_Bank-Grt^A^a_rate_AD']=data['dif_Bank-Grt^A']*data['a_rate_AD']\n",
    "data['dif_Bank-Grt^A^a_rate_BD']=data['dif_Bank-Grt^A']*data['a_rate_BD']\n",
    "data['dif_Bank-Grt^A^a_rate_DD']=data['dif_Bank-Grt^A']*data['a_rate_DD']\n",
    "data['dif_Bank-Grt^A^a_rate_LD']=data['dif_Bank-Grt^A']*data['a_rate_LD']"
   ]
  },
  {
   "cell_type": "code",
   "execution_count": 153,
   "metadata": {
    "execution": {
     "iopub.execute_input": "2021-02-12T10:54:45.272945Z",
     "iopub.status.busy": "2021-02-12T10:54:45.272945Z",
     "iopub.status.idle": "2021-02-12T10:54:45.280952Z",
     "shell.execute_reply": "2021-02-12T10:54:45.280952Z",
     "shell.execute_reply.started": "2021-02-12T10:54:45.272945Z"
    }
   },
   "outputs": [],
   "source": [
    "data['dif_Bank-Grt^A^b_rate_A']=data['dif_Bank-Grt^A']*data['b_rate_A']\n",
    "data['dif_Bank-Grt^A^b_rate_B']=data['dif_Bank-Grt^A']*data['b_rate_B']\n",
    "data['dif_Bank-Grt^A^b_rate_D']=data['dif_Bank-Grt^A']*data['b_rate_D']"
   ]
  },
  {
   "cell_type": "code",
   "execution_count": 154,
   "metadata": {
    "execution": {
     "iopub.execute_input": "2021-02-12T10:54:45.281953Z",
     "iopub.status.busy": "2021-02-12T10:54:45.281953Z",
     "iopub.status.idle": "2021-02-12T10:54:45.305975Z",
     "shell.execute_reply": "2021-02-12T10:54:45.305975Z",
     "shell.execute_reply.started": "2021-02-12T10:54:45.281953Z"
    }
   },
   "outputs": [],
   "source": [
    "data['dif_Bank-Grt^D^a_rate_AA']=data['dif_Bank-Grt^D']*data['a_rate_AA']\n",
    "data['dif_Bank-Grt^D^a_rate_BA']=data['dif_Bank-Grt^D']*data['a_rate_BA']\n",
    "data['dif_Bank-Grt^D^a_rate_DA']=data['dif_Bank-Grt^D']*data['a_rate_DA']\n",
    "data['dif_Bank-Grt^D^a_rate_LA']=data['dif_Bank-Grt^D']*data['a_rate_LA']\n",
    "\n",
    "data['dif_Bank-Grt^D^a_rate_AB']=data['dif_Bank-Grt^D']*data['a_rate_AB']\n",
    "data['dif_Bank-Grt^D^a_rate_BB']=data['dif_Bank-Grt^D']*data['a_rate_BB']\n",
    "data['dif_Bank-Grt^D^a_rate_DB']=data['dif_Bank-Grt^D']*data['a_rate_DB']\n",
    "data['dif_Bank-Grt^D^a_rate_LB']=data['dif_Bank-Grt^D']*data['a_rate_LB']\n",
    "\n",
    "data['dif_Bank-Grt^D^a_rate_AD']=data['dif_Bank-Grt^D']*data['a_rate_AD']\n",
    "data['dif_Bank-Grt^D^a_rate_BD']=data['dif_Bank-Grt^D']*data['a_rate_BD']\n",
    "data['dif_Bank-Grt^D^a_rate_DD']=data['dif_Bank-Grt^D']*data['a_rate_DD']\n",
    "data['dif_Bank-Grt^D^a_rate_LD']=data['dif_Bank-Grt^D']*data['a_rate_LD']"
   ]
  },
  {
   "cell_type": "code",
   "execution_count": 155,
   "metadata": {
    "execution": {
     "iopub.execute_input": "2021-02-12T10:54:45.306975Z",
     "iopub.status.busy": "2021-02-12T10:54:45.306975Z",
     "iopub.status.idle": "2021-02-12T10:54:45.544192Z",
     "shell.execute_reply": "2021-02-12T10:54:45.544192Z",
     "shell.execute_reply.started": "2021-02-12T10:54:45.306975Z"
    }
   },
   "outputs": [],
   "source": [
    "data['dif_Bank-Grt^D^b_rate_A']=data['dif_Bank-Grt^D']*data['b_rate_A']\n",
    "data['dif_Bank-Grt^D^b_rate_B']=data['dif_Bank-Grt^D']*data['b_rate_B']\n",
    "data['dif_Bank-Grt^D^b_rate_D']=data['dif_Bank-Grt^D']*data['b_rate_D']"
   ]
  },
  {
   "cell_type": "code",
   "execution_count": 156,
   "metadata": {
    "execution": {
     "iopub.execute_input": "2021-02-12T10:54:45.545193Z",
     "iopub.status.busy": "2021-02-12T10:54:45.545193Z",
     "iopub.status.idle": "2021-02-12T10:54:45.572217Z",
     "shell.execute_reply": "2021-02-12T10:54:45.572217Z",
     "shell.execute_reply.started": "2021-02-12T10:54:45.545193Z"
    }
   },
   "outputs": [],
   "source": [
    "data['dif_Bank-Grt^B^a_rate_AA']=data['dif_Bank-Grt^B']*data['a_rate_AA']\n",
    "data['dif_Bank-Grt^B^a_rate_BA']=data['dif_Bank-Grt^B']*data['a_rate_BA']\n",
    "data['dif_Bank-Grt^B^a_rate_DA']=data['dif_Bank-Grt^B']*data['a_rate_DA']\n",
    "data['dif_Bank-Grt^B^a_rate_LA']=data['dif_Bank-Grt^B']*data['a_rate_LA']\n",
    "\n",
    "data['dif_Bank-Grt^B^a_rate_AB']=data['dif_Bank-Grt^B']*data['a_rate_AB']\n",
    "data['dif_Bank-Grt^B^a_rate_BB']=data['dif_Bank-Grt^B']*data['a_rate_BB']\n",
    "data['dif_Bank-Grt^B^a_rate_DB']=data['dif_Bank-Grt^B']*data['a_rate_DB']\n",
    "data['dif_Bank-Grt^B^a_rate_LB']=data['dif_Bank-Grt^B']*data['a_rate_LB']\n",
    "\n",
    "data['dif_Bank-Grt^B^a_rate_AD']=data['dif_Bank-Grt^B']*data['a_rate_AD']\n",
    "data['dif_Bank-Grt^B^a_rate_BD']=data['dif_Bank-Grt^B']*data['a_rate_BD']\n",
    "data['dif_Bank-Grt^B^a_rate_DD']=data['dif_Bank-Grt^B']*data['a_rate_DD']\n",
    "data['dif_Bank-Grt^B^a_rate_LD']=data['dif_Bank-Grt^B']*data['a_rate_LD']"
   ]
  },
  {
   "cell_type": "code",
   "execution_count": 157,
   "metadata": {
    "execution": {
     "iopub.execute_input": "2021-02-12T10:54:45.573218Z",
     "iopub.status.busy": "2021-02-12T10:54:45.573218Z",
     "iopub.status.idle": "2021-02-12T10:54:45.581225Z",
     "shell.execute_reply": "2021-02-12T10:54:45.581225Z",
     "shell.execute_reply.started": "2021-02-12T10:54:45.573218Z"
    }
   },
   "outputs": [],
   "source": [
    "data['dif_Bank-Grt^B^b_rate_A']=data['dif_Bank-Grt^B']*data['b_rate_A']\n",
    "data['dif_Bank-Grt^B^b_rate_B']=data['dif_Bank-Grt^B']*data['b_rate_B']\n",
    "data['dif_Bank-Grt^B^b_rate_D']=data['dif_Bank-Grt^B']*data['b_rate_D']"
   ]
  },
  {
   "cell_type": "code",
   "execution_count": 158,
   "metadata": {
    "execution": {
     "iopub.execute_input": "2021-02-12T10:54:45.582226Z",
     "iopub.status.busy": "2021-02-12T10:54:45.582226Z",
     "iopub.status.idle": "2021-02-12T10:54:45.585229Z",
     "shell.execute_reply": "2021-02-12T10:54:45.585229Z",
     "shell.execute_reply.started": "2021-02-12T10:54:45.582226Z"
    }
   },
   "outputs": [],
   "source": [
    "data['c_amount']=data['LoanAmount']-data['ActualGross']"
   ]
  },
  {
   "cell_type": "code",
   "execution_count": 159,
   "metadata": {
    "execution": {
     "iopub.execute_input": "2021-02-12T10:54:45.586230Z",
     "iopub.status.busy": "2021-02-12T10:54:45.586230Z",
     "iopub.status.idle": "2021-02-12T10:54:45.617258Z",
     "shell.execute_reply": "2021-02-12T10:54:45.617258Z",
     "shell.execute_reply.started": "2021-02-12T10:54:45.586230Z"
    }
   },
   "outputs": [],
   "source": [
    "data['d_rate']=(np.round(data['c_amount']*100/data['LoanAmount'],decimals=4))\n",
    "data['d_rate_A']=(np.round(data['c_amount']*100/data['ActualGross'],decimals=4))\n",
    "data['d_rate_B']=(np.round(data['c_amount']*100/data['BalanceGross'],decimals=4))\n",
    "data['d_rate_D']=(np.round(data['c_amount']*100/data['DisbursementGross'],decimals=4))"
   ]
  },
  {
   "cell_type": "code",
   "execution_count": 160,
   "metadata": {
    "execution": {
     "iopub.execute_input": "2021-02-12T10:54:45.618259Z",
     "iopub.status.busy": "2021-02-12T10:54:45.618259Z",
     "iopub.status.idle": "2021-02-12T10:54:45.649287Z",
     "shell.execute_reply": "2021-02-12T10:54:45.649287Z",
     "shell.execute_reply.started": "2021-02-12T10:54:45.618259Z"
    }
   },
   "outputs": [],
   "source": [
    "data['Ap-Dis']=(data['DisbursementDate']-data['ApprovalDate']).dt.days\n",
    "data['Ap-Dis']=data['Ap-Dis'].astype(int)"
   ]
  },
  {
   "cell_type": "code",
   "execution_count": 161,
   "metadata": {
    "execution": {
     "iopub.execute_input": "2021-02-12T10:54:45.650288Z",
     "iopub.status.busy": "2021-02-12T10:54:45.650288Z",
     "iopub.status.idle": "2021-02-12T10:54:45.661298Z",
     "shell.execute_reply": "2021-02-12T10:54:45.661298Z",
     "shell.execute_reply.started": "2021-02-12T10:54:45.650288Z"
    }
   },
   "outputs": [],
   "source": [
    "data['Ap-End']=(data['EndDate']-data['ApprovalDate']).dt.days\n",
    "data['Ap-End']=data['Ap-End'].astype(int)"
   ]
  },
  {
   "cell_type": "code",
   "execution_count": 162,
   "metadata": {
    "execution": {
     "iopub.execute_input": "2021-02-12T10:54:45.662300Z",
     "iopub.status.busy": "2021-02-12T10:54:45.662300Z",
     "iopub.status.idle": "2021-02-12T10:54:45.675311Z",
     "shell.execute_reply": "2021-02-12T10:54:45.675311Z",
     "shell.execute_reply.started": "2021-02-12T10:54:45.662300Z"
    }
   },
   "outputs": [],
   "source": [
    "data['End-Dis']=(data['EndDate']-data['DisbursementDate']).dt.days\n",
    "data['End-Dis']=data['End-Dis'].astype(int)"
   ]
  },
  {
   "cell_type": "code",
   "execution_count": 163,
   "metadata": {
    "execution": {
     "iopub.execute_input": "2021-02-12T10:54:45.676312Z",
     "iopub.status.busy": "2021-02-12T10:54:45.676312Z",
     "iopub.status.idle": "2021-02-12T10:54:45.732363Z",
     "shell.execute_reply": "2021-02-12T10:54:45.732363Z",
     "shell.execute_reply.started": "2021-02-12T10:54:45.676312Z"
    }
   },
   "outputs": [],
   "source": [
    "data['LA_Ap-Dis']=np.round(data['LoanAmount']/(data['Ap-Dis']-1),decimals=4)\n",
    "data['LA_Ap-End']=np.round(data['LoanAmount']/(data['Ap-End']-1),decimals=4)\n",
    "data['LA_End-Dis']=np.round(data['LoanAmount']/(data['End-Dis']-1),decimals=4)"
   ]
  },
  {
   "cell_type": "code",
   "execution_count": 164,
   "metadata": {
    "execution": {
     "iopub.execute_input": "2021-02-12T10:54:45.733364Z",
     "iopub.status.busy": "2021-02-12T10:54:45.733364Z",
     "iopub.status.idle": "2021-02-12T10:54:45.788414Z",
     "shell.execute_reply": "2021-02-12T10:54:45.788414Z",
     "shell.execute_reply.started": "2021-02-12T10:54:45.733364Z"
    }
   },
   "outputs": [],
   "source": [
    "data['D_Ap-Dis']=np.round(data['DisbursementGross']/(data['Ap-Dis']-1),decimals=4)\n",
    "data['D_Ap-End']=np.round(data['DisbursementGross']/(data['Ap-End']-1),decimals=4)\n",
    "data['D_End-Dis']=np.round(data['DisbursementGross']/(data['End-Dis']-1),decimals=4)"
   ]
  },
  {
   "cell_type": "code",
   "execution_count": 165,
   "metadata": {
    "execution": {
     "iopub.execute_input": "2021-02-12T10:54:45.789414Z",
     "iopub.status.busy": "2021-02-12T10:54:45.789414Z",
     "iopub.status.idle": "2021-02-12T10:54:45.805429Z",
     "shell.execute_reply": "2021-02-12T10:54:45.805429Z",
     "shell.execute_reply.started": "2021-02-12T10:54:45.789414Z"
    }
   },
   "outputs": [],
   "source": [
    "data['B_Ap-Dis']=np.round(data['BalanceGross']/(data['Ap-Dis']-1),decimals=4)\n",
    "data['B_Ap-End']=np.round(data['BalanceGross']/(data['Ap-End']-1),decimals=4)\n",
    "data['B_End-Dis']=np.round(data['BalanceGross']/(data['End-Dis']-1),decimals=4)"
   ]
  },
  {
   "cell_type": "code",
   "execution_count": 166,
   "metadata": {
    "execution": {
     "iopub.execute_input": "2021-02-12T10:54:45.806430Z",
     "iopub.status.busy": "2021-02-12T10:54:45.806430Z",
     "iopub.status.idle": "2021-02-12T10:54:45.873492Z",
     "shell.execute_reply": "2021-02-12T10:54:45.873492Z",
     "shell.execute_reply.started": "2021-02-12T10:54:45.806430Z"
    }
   },
   "outputs": [],
   "source": [
    "data['g_amount^aAA']=np.round(np.sqrt(data['c_amount']*data['a_rate_AA']),decimals=4)\n",
    "data['g_amount^aBA']=np.round(np.sqrt(data['c_amount']*data['a_rate_BA']),decimals=4)\n",
    "data['g_amount^aDA']=np.round(np.sqrt(data['c_amount']*data['a_rate_DA']),decimals=4)\n",
    "data['g_amount^aLA']=np.round(np.sqrt(data['c_amount']*data['a_rate_LA']),decimals=4)\n",
    "\n",
    "data['g_amount^aAB']=np.round(np.sqrt(data['c_amount']*data['a_rate_AB']),decimals=4)\n",
    "data['g_amount^aBB']=np.round(np.sqrt(data['c_amount']*data['a_rate_BB']),decimals=4)\n",
    "data['g_amount^aDB']=np.round(np.sqrt(data['c_amount']*data['a_rate_DB']),decimals=4)\n",
    "data['g_amount^aLB']=np.round(np.sqrt(data['c_amount']*data['a_rate_LB']),decimals=4)\n",
    "\n",
    "data['g_amount^aAD']=np.round(np.sqrt(data['c_amount']*data['a_rate_AD']),decimals=4)\n",
    "data['g_amount^aBD']=np.round(np.sqrt(data['c_amount']*data['a_rate_BD']),decimals=4)\n",
    "data['g_amount^aDD']=np.round(np.sqrt(data['c_amount']*data['a_rate_DD']),decimals=4)\n",
    "data['g_amount^aLD']=np.round(np.sqrt(data['c_amount']*data['a_rate_LD']),decimals=4)"
   ]
  },
  {
   "cell_type": "code",
   "execution_count": 167,
   "metadata": {
    "execution": {
     "iopub.execute_input": "2021-02-12T10:54:45.874492Z",
     "iopub.status.busy": "2021-02-12T10:54:45.874492Z",
     "iopub.status.idle": "2021-02-12T10:54:45.892508Z",
     "shell.execute_reply": "2021-02-12T10:54:45.892508Z",
     "shell.execute_reply.started": "2021-02-12T10:54:45.874492Z"
    }
   },
   "outputs": [],
   "source": [
    "data['g_amount^bA']=np.round(np.sqrt(data['c_amount']*data['b_rate_A']),decimals=4)\n",
    "data['g_amount^bB']=np.round(np.sqrt(data['c_amount']*data['b_rate_B']),decimals=4)\n",
    "data['g_amount^bD']=np.round(np.sqrt(data['c_amount']*data['b_rate_D']),decimals=4)"
   ]
  },
  {
   "cell_type": "code",
   "execution_count": 168,
   "metadata": {
    "execution": {
     "iopub.execute_input": "2021-02-12T10:54:45.893509Z",
     "iopub.status.busy": "2021-02-12T10:54:45.893509Z",
     "iopub.status.idle": "2021-02-12T10:54:45.915529Z",
     "shell.execute_reply": "2021-02-12T10:54:45.915529Z",
     "shell.execute_reply.started": "2021-02-12T10:54:45.893509Z"
    }
   },
   "outputs": [],
   "source": [
    "data['f_amount']=np.round(np.log(data['c_amount']*data['d_rate']),decimals=4)"
   ]
  },
  {
   "cell_type": "code",
   "execution_count": 169,
   "metadata": {
    "execution": {
     "iopub.execute_input": "2021-02-12T10:54:45.916531Z",
     "iopub.status.busy": "2021-02-12T10:54:45.916531Z",
     "iopub.status.idle": "2021-02-12T10:54:45.938551Z",
     "shell.execute_reply": "2021-02-12T10:54:45.938551Z",
     "shell.execute_reply.started": "2021-02-12T10:54:45.916531Z"
    }
   },
   "outputs": [],
   "source": [
    "data['f_amount_A']=np.round(np.log(data['c_amount']*data['d_rate_A']),decimals=4)"
   ]
  },
  {
   "cell_type": "code",
   "execution_count": 170,
   "metadata": {
    "execution": {
     "iopub.execute_input": "2021-02-12T10:54:45.939551Z",
     "iopub.status.busy": "2021-02-12T10:54:45.939551Z",
     "iopub.status.idle": "2021-02-12T10:54:45.961571Z",
     "shell.execute_reply": "2021-02-12T10:54:45.961571Z",
     "shell.execute_reply.started": "2021-02-12T10:54:45.939551Z"
    }
   },
   "outputs": [],
   "source": [
    "data['f_amount_A^a_rate_AA']=data['f_amount_A']*data['a_rate_AA']\n",
    "data['f_amount_A^a_rate_BA']=data['f_amount_A']*data['a_rate_BA']\n",
    "data['f_amount_A^a_rate_DA']=data['f_amount_A']*data['a_rate_DA']\n",
    "data['f_amount_A^a_rate_LA']=data['f_amount_A']*data['a_rate_LA']\n",
    "\n",
    "data['f_amount_A^a_rate_AB']=data['f_amount_A']*data['a_rate_AB']\n",
    "data['f_amount_A^a_rate_BB']=data['f_amount_A']*data['a_rate_BB']\n",
    "data['f_amount_A^a_rate_DB']=data['f_amount_A']*data['a_rate_DB']\n",
    "data['f_amount_A^a_rate_LB']=data['f_amount_A']*data['a_rate_LB']\n",
    "\n",
    "data['f_amount_A^a_rate_AD']=data['f_amount_A']*data['a_rate_AD']\n",
    "data['f_amount_A^a_rate_BD']=data['f_amount_A']*data['a_rate_BD']\n",
    "data['f_amount_A^a_rate_DD']=data['f_amount_A']*data['a_rate_DD']\n",
    "data['f_amount_A^a_rate_LD']=data['f_amount_A']*data['a_rate_LD']"
   ]
  },
  {
   "cell_type": "code",
   "execution_count": 171,
   "metadata": {
    "execution": {
     "iopub.execute_input": "2021-02-12T10:54:45.962572Z",
     "iopub.status.busy": "2021-02-12T10:54:45.962572Z",
     "iopub.status.idle": "2021-02-12T10:54:45.969578Z",
     "shell.execute_reply": "2021-02-12T10:54:45.969578Z",
     "shell.execute_reply.started": "2021-02-12T10:54:45.962572Z"
    }
   },
   "outputs": [],
   "source": [
    "data['f_amount_A^b_rate_A']=data['f_amount_A']*data['b_rate_A']\n",
    "data['f_amount_A^b_rate_B']=data['f_amount_A']*data['b_rate_B']\n",
    "data['f_amount_A^b_rate_D']=data['f_amount_A']*data['b_rate_D']"
   ]
  },
  {
   "cell_type": "code",
   "execution_count": 172,
   "metadata": {
    "execution": {
     "iopub.execute_input": "2021-02-12T10:54:45.970579Z",
     "iopub.status.busy": "2021-02-12T10:54:45.970579Z",
     "iopub.status.idle": "2021-02-12T10:54:45.978587Z",
     "shell.execute_reply": "2021-02-12T10:54:45.978587Z",
     "shell.execute_reply.started": "2021-02-12T10:54:45.970579Z"
    }
   },
   "outputs": [],
   "source": [
    "data['f_amount_B']=np.round(np.log(data['c_amount']*data['d_rate_B']),decimals=4)"
   ]
  },
  {
   "cell_type": "code",
   "execution_count": 173,
   "metadata": {
    "execution": {
     "iopub.execute_input": "2021-02-12T10:54:45.979587Z",
     "iopub.status.busy": "2021-02-12T10:54:45.979587Z",
     "iopub.status.idle": "2021-02-12T10:54:46.002609Z",
     "shell.execute_reply": "2021-02-12T10:54:46.002609Z",
     "shell.execute_reply.started": "2021-02-12T10:54:45.979587Z"
    }
   },
   "outputs": [],
   "source": [
    "data['f_amount_B^a_rate_AA']=data['f_amount_B']*data['a_rate_AA']\n",
    "data['f_amount_B^a_rate_BA']=data['f_amount_B']*data['a_rate_BA']\n",
    "data['f_amount_B^a_rate_DA']=data['f_amount_B']*data['a_rate_DA']\n",
    "data['f_amount_B^a_rate_LA']=data['f_amount_B']*data['a_rate_LA']\n",
    "\n",
    "data['f_amount_B^a_rate_AB']=data['f_amount_B']*data['a_rate_AB']\n",
    "data['f_amount_B^a_rate_BB']=data['f_amount_B']*data['a_rate_BB']\n",
    "data['f_amount_B^a_rate_DB']=data['f_amount_B']*data['a_rate_DB']\n",
    "data['f_amount_B^a_rate_LB']=data['f_amount_B']*data['a_rate_LB']\n",
    "\n",
    "data['f_amount_B^a_rate_AD']=data['f_amount_B']*data['a_rate_AD']\n",
    "data['f_amount_B^a_rate_BD']=data['f_amount_B']*data['a_rate_BD']\n",
    "data['f_amount_B^a_rate_DD']=data['f_amount_B']*data['a_rate_DD']\n",
    "data['f_amount_B^a_rate_LD']=data['f_amount_B']*data['a_rate_LD']"
   ]
  },
  {
   "cell_type": "code",
   "execution_count": 174,
   "metadata": {
    "execution": {
     "iopub.execute_input": "2021-02-12T10:54:46.003609Z",
     "iopub.status.busy": "2021-02-12T10:54:46.003609Z",
     "iopub.status.idle": "2021-02-12T10:54:46.010616Z",
     "shell.execute_reply": "2021-02-12T10:54:46.010616Z",
     "shell.execute_reply.started": "2021-02-12T10:54:46.003609Z"
    }
   },
   "outputs": [],
   "source": [
    "data['f_amount_B^b_rate_A']=data['f_amount_B']*data['b_rate_A']\n",
    "data['f_amount_B^b_rate_B']=data['f_amount_B']*data['b_rate_B']\n",
    "data['f_amount_B^b_rate_D']=data['f_amount_B']*data['b_rate_D']"
   ]
  },
  {
   "cell_type": "code",
   "execution_count": 175,
   "metadata": {
    "execution": {
     "iopub.execute_input": "2021-02-12T10:54:46.011616Z",
     "iopub.status.busy": "2021-02-12T10:54:46.011616Z",
     "iopub.status.idle": "2021-02-12T10:54:46.033636Z",
     "shell.execute_reply": "2021-02-12T10:54:46.033636Z",
     "shell.execute_reply.started": "2021-02-12T10:54:46.011616Z"
    }
   },
   "outputs": [],
   "source": [
    "data['f_amount_D']=np.round(np.log(data['c_amount']*data['d_rate_D']),decimals=4)"
   ]
  },
  {
   "cell_type": "code",
   "execution_count": 176,
   "metadata": {
    "execution": {
     "iopub.execute_input": "2021-02-12T10:54:46.034637Z",
     "iopub.status.busy": "2021-02-12T10:54:46.034637Z",
     "iopub.status.idle": "2021-02-12T10:54:46.057659Z",
     "shell.execute_reply": "2021-02-12T10:54:46.057659Z",
     "shell.execute_reply.started": "2021-02-12T10:54:46.034637Z"
    }
   },
   "outputs": [],
   "source": [
    "data['f_amount_D^a_rate_AA']=data['f_amount_D']*data['a_rate_AA']\n",
    "data['f_amount_D^a_rate_BA']=data['f_amount_D']*data['a_rate_BA']\n",
    "data['f_amount_D^a_rate_DA']=data['f_amount_D']*data['a_rate_DA']\n",
    "data['f_amount_D^a_rate_LA']=data['f_amount_D']*data['a_rate_LA']\n",
    "\n",
    "data['f_amount_D^a_rate_AB']=data['f_amount_D']*data['a_rate_AB']\n",
    "data['f_amount_D^a_rate_BB']=data['f_amount_D']*data['a_rate_BB']\n",
    "data['f_amount_D^a_rate_DB']=data['f_amount_D']*data['a_rate_DB']\n",
    "data['f_amount_D^a_rate_LB']=data['f_amount_D']*data['a_rate_LB']\n",
    "\n",
    "data['f_amount_D^a_rate_AD']=data['f_amount_D']*data['a_rate_AD']\n",
    "data['f_amount_D^a_rate_BD']=data['f_amount_D']*data['a_rate_BD']\n",
    "data['f_amount_D^a_rate_DD']=data['f_amount_D']*data['a_rate_DD']\n",
    "data['f_amount_D^a_rate_LD']=data['f_amount_D']*data['a_rate_LD']"
   ]
  },
  {
   "cell_type": "code",
   "execution_count": 177,
   "metadata": {
    "execution": {
     "iopub.execute_input": "2021-02-12T10:54:46.058660Z",
     "iopub.status.busy": "2021-02-12T10:54:46.058660Z",
     "iopub.status.idle": "2021-02-12T10:54:46.391962Z",
     "shell.execute_reply": "2021-02-12T10:54:46.391962Z",
     "shell.execute_reply.started": "2021-02-12T10:54:46.058660Z"
    }
   },
   "outputs": [],
   "source": [
    "data['f_amount_D^b_rate_A']=data['f_amount_D']*data['b_rate_A']\n",
    "data['f_amount_D^b_rate_B']=data['f_amount_D']*data['b_rate_B']\n",
    "data['f_amount_D^b_rate_D']=data['f_amount_D']*data['b_rate_D']"
   ]
  },
  {
   "cell_type": "code",
   "execution_count": 178,
   "metadata": {
    "execution": {
     "iopub.execute_input": "2021-02-12T10:54:46.392963Z",
     "iopub.status.busy": "2021-02-12T10:54:46.392963Z",
     "iopub.status.idle": "2021-02-12T10:54:46.448013Z",
     "shell.execute_reply": "2021-02-12T10:54:46.448013Z",
     "shell.execute_reply.started": "2021-02-12T10:54:46.392963Z"
    }
   },
   "outputs": [],
   "source": [
    "data['Term_AP-Dis']=np.round(data['Term']/(data['Ap-Dis']+1),decimals=4)\n",
    "data['Term_Ap-End']=np.round(data['Term']/(data['Ap-End']+1),decimals=4)\n",
    "data['Term_End-Dis']=np.round(data['Term']/(data['End-Dis']+1),decimals=4)"
   ]
  },
  {
   "cell_type": "code",
   "execution_count": 179,
   "metadata": {
    "execution": {
     "iopub.execute_input": "2021-02-12T10:54:46.449014Z",
     "iopub.status.busy": "2021-02-12T10:54:46.449014Z",
     "iopub.status.idle": "2021-02-12T10:54:46.464028Z",
     "shell.execute_reply": "2021-02-12T10:54:46.464028Z",
     "shell.execute_reply.started": "2021-02-12T10:54:46.449014Z"
    }
   },
   "outputs": [],
   "source": [
    "data['h_rate_AD']=(data['Dis_App_Month']+1)*100/(data['Ap-Dis']+1)\n",
    "data['h_rate_AE']=(data['Dis_App_Month']+1)*100/(data['Ap-End']+1)\n",
    "data['h_rate_ED']=(data['Dis_App_Month']+1)*100/(data['End-Dis']+1)"
   ]
  },
  {
   "cell_type": "code",
   "execution_count": 180,
   "metadata": {
    "execution": {
     "iopub.execute_input": "2021-02-12T10:54:46.465029Z",
     "iopub.status.busy": "2021-02-12T10:54:46.465029Z",
     "iopub.status.idle": "2021-02-12T10:54:46.475038Z",
     "shell.execute_reply": "2021-02-12T10:54:46.475038Z",
     "shell.execute_reply.started": "2021-02-12T10:54:46.465029Z"
    }
   },
   "outputs": [],
   "source": [
    "data['h_rate_AD_A']=data['h_rate_AD']*data['ActualGross']\n",
    "data['h_rate_AD_B']=data['h_rate_AD']*data['BalanceGross']\n",
    "data['h_rate_AD_D']=data['h_rate_AD']*data['DisbursementGross']\n",
    "data['h_rate_AD_L']=data['h_rate_AD']*data['LoanAmount']"
   ]
  },
  {
   "cell_type": "code",
   "execution_count": 181,
   "metadata": {
    "execution": {
     "iopub.execute_input": "2021-02-12T10:54:46.476039Z",
     "iopub.status.busy": "2021-02-12T10:54:46.476039Z",
     "iopub.status.idle": "2021-02-12T10:54:46.485047Z",
     "shell.execute_reply": "2021-02-12T10:54:46.485047Z",
     "shell.execute_reply.started": "2021-02-12T10:54:46.476039Z"
    }
   },
   "outputs": [],
   "source": [
    "data['h_rate_AE_A']=data['h_rate_AE']*data['ActualGross']\n",
    "data['h_rate_AE_B']=data['h_rate_AE']*data['BalanceGross']\n",
    "data['h_rate_AE_D']=data['h_rate_AE']*data['DisbursementGross']\n",
    "data['h_rate_AE_L']=data['h_rate_AE']*data['LoanAmount']"
   ]
  },
  {
   "cell_type": "code",
   "execution_count": 182,
   "metadata": {
    "execution": {
     "iopub.execute_input": "2021-02-12T10:54:46.486048Z",
     "iopub.status.busy": "2021-02-12T10:54:46.486048Z",
     "iopub.status.idle": "2021-02-12T10:54:46.529087Z",
     "shell.execute_reply": "2021-02-12T10:54:46.529087Z",
     "shell.execute_reply.started": "2021-02-12T10:54:46.486048Z"
    }
   },
   "outputs": [],
   "source": [
    "data['h_rate_ED_A']=data['h_rate_ED']*data['ActualGross']\n",
    "data['h_rate_ED_A']=data['h_rate_ED']*data['BalanceGross']\n",
    "data['h_rate_ED_A']=data['h_rate_ED']*data['DisbursementGross']\n",
    "data['h_rate_ED_A']=data['h_rate_ED']*data['LoanAmount']"
   ]
  },
  {
   "cell_type": "code",
   "execution_count": 183,
   "metadata": {
    "execution": {
     "iopub.execute_input": "2021-02-12T10:54:46.530088Z",
     "iopub.status.busy": "2021-02-12T10:54:46.530088Z",
     "iopub.status.idle": "2021-02-12T10:54:46.585138Z",
     "shell.execute_reply": "2021-02-12T10:54:46.585138Z",
     "shell.execute_reply.started": "2021-02-12T10:54:46.530088Z"
    }
   },
   "outputs": [],
   "source": [
    "data['DG_Ap-Dis']=np.round(data['DisbursementGross']/(data['Ap-Dis']+1),decimals=4)\n",
    "data['DG_Ap-End']=np.round(data['DisbursementGross']/(data['Ap-End']+1),decimals=4)\n",
    "data['DG_End-Dis']=np.round(data['DisbursementGross']/(data['End-Dis']+1),decimals=4)"
   ]
  },
  {
   "cell_type": "code",
   "execution_count": 184,
   "metadata": {
    "execution": {
     "iopub.execute_input": "2021-02-12T10:54:46.586139Z",
     "iopub.status.busy": "2021-02-12T10:54:46.586139Z",
     "iopub.status.idle": "2021-02-12T10:54:46.600152Z",
     "shell.execute_reply": "2021-02-12T10:54:46.600152Z",
     "shell.execute_reply.started": "2021-02-12T10:54:46.586139Z"
    }
   },
   "outputs": [],
   "source": [
    "data['BG_Ap-Dis']=np.round(data['BalanceGross']/(data['Ap-Dis']+1),decimals=4)\n",
    "data['BG_Ap-End']=np.round(data['BalanceGross']/(data['Ap-End']+1),decimals=4)\n",
    "data['BG_End-Dis']=np.round(data['BalanceGross']/(data['End-Dis']+1),decimals=4)"
   ]
  },
  {
   "cell_type": "code",
   "execution_count": 185,
   "metadata": {
    "execution": {
     "iopub.execute_input": "2021-02-12T10:54:46.601152Z",
     "iopub.status.busy": "2021-02-12T10:54:46.601152Z",
     "iopub.status.idle": "2021-02-12T10:54:46.634182Z",
     "shell.execute_reply": "2021-02-12T10:54:46.634182Z",
     "shell.execute_reply.started": "2021-02-12T10:54:46.601152Z"
    }
   },
   "outputs": [],
   "source": [
    "data['i_rate']=np.round(data['ReturnAmountPerCnt_A']*100/data['c_amount'],4)\n",
    "data['i_rate']=np.round(data['ReturnAmountPerCnt_B']*100/data['c_amount'],4)\n",
    "data['i_rate']=np.round(data['ReturnAmountPerCnt_D']*100/data['c_amount'],4)\n",
    "data['i_rate']=np.round(data['ReturnAmountPerCnt_L']*100/data['c_amount'],4)"
   ]
  },
  {
   "cell_type": "code",
   "execution_count": 186,
   "metadata": {
    "execution": {
     "iopub.execute_input": "2021-02-12T10:54:46.635183Z",
     "iopub.status.busy": "2021-02-12T10:54:46.635183Z",
     "iopub.status.idle": "2021-02-12T10:54:46.660206Z",
     "shell.execute_reply": "2021-02-12T10:54:46.660206Z",
     "shell.execute_reply.started": "2021-02-12T10:54:46.635183Z"
    }
   },
   "outputs": [],
   "source": [
    "data['i_rate_A']=np.round(data['ReturnAmountPerCnt_A']*100/data['c_amount'],4)\n",
    "data['i_rate_B']=np.round(data['ReturnAmountPerCnt_B']*100/data['c_amount'],4)\n",
    "data['i_rate_D']=np.round(data['ReturnAmountPerCnt_D']*100/data['c_amount'],4)"
   ]
  },
  {
   "cell_type": "code",
   "execution_count": 187,
   "metadata": {
    "execution": {
     "iopub.execute_input": "2021-02-12T10:54:46.661207Z",
     "iopub.status.busy": "2021-02-12T10:54:46.661207Z",
     "iopub.status.idle": "2021-02-12T10:54:46.692235Z",
     "shell.execute_reply": "2021-02-12T10:54:46.692235Z",
     "shell.execute_reply.started": "2021-02-12T10:54:46.661207Z"
    }
   },
   "outputs": [],
   "source": [
    "l_Bank=pd.read_pickle(\"../data/pre/Bank_data.pickle\")\n",
    "data['Bank_flg']=np.NaN\n",
    "data['Bank_flg']=data['Bank'][data['Bank'].isin(l_Bank)]"
   ]
  },
  {
   "cell_type": "code",
   "execution_count": 188,
   "metadata": {
    "execution": {
     "iopub.execute_input": "2021-02-12T10:54:46.693236Z",
     "iopub.status.busy": "2021-02-12T10:54:46.693236Z",
     "iopub.status.idle": "2021-02-12T10:54:46.716257Z",
     "shell.execute_reply": "2021-02-12T10:54:46.716257Z",
     "shell.execute_reply.started": "2021-02-12T10:54:46.693236Z"
    }
   },
   "outputs": [],
   "source": [
    "l_City=pd.read_pickle(\"../data/pre/City_data.pickle\")\n",
    "data['City_flg']=np.NaN\n",
    "data['City_flg']=data['City'][data['City'].isin(l_City)]"
   ]
  },
  {
   "cell_type": "markdown",
   "metadata": {},
   "source": [
    "  "
   ]
  },
  {
   "cell_type": "code",
   "execution_count": 189,
   "metadata": {
    "execution": {
     "iopub.execute_input": "2021-02-12T10:54:46.717258Z",
     "iopub.status.busy": "2021-02-12T10:54:46.717258Z",
     "iopub.status.idle": "2021-02-12T10:54:46.719260Z",
     "shell.execute_reply": "2021-02-12T10:54:46.719260Z",
     "shell.execute_reply.started": "2021-02-12T10:54:46.717258Z"
    }
   },
   "outputs": [
    {
     "data": {
      "text/plain": [
       "(255477, 427)"
      ]
     },
     "execution_count": 189,
     "metadata": {},
     "output_type": "execute_result"
    }
   ],
   "source": [
    "data.shape"
   ]
  },
  {
   "cell_type": "code",
   "execution_count": 190,
   "metadata": {
    "execution": {
     "iopub.execute_input": "2021-02-12T10:54:46.720261Z",
     "iopub.status.busy": "2021-02-12T10:54:46.720261Z",
     "iopub.status.idle": "2021-02-12T10:54:46.724264Z",
     "shell.execute_reply": "2021-02-12T10:54:46.724264Z",
     "shell.execute_reply.started": "2021-02-12T10:54:46.720261Z"
    }
   },
   "outputs": [],
   "source": [
    "# corr_data=data.corr()\n",
    "\n",
    "# f, ax = plt.subplots(figsize=(15, 15))\n",
    "# ax=sns.heatmap(corr_data,vmin=-1,vmax=1,cmap='coolwarm')"
   ]
  },
  {
   "cell_type": "code",
   "execution_count": 191,
   "metadata": {
    "execution": {
     "iopub.execute_input": "2021-02-12T10:54:46.725265Z",
     "iopub.status.busy": "2021-02-12T10:54:46.725265Z",
     "iopub.status.idle": "2021-02-12T10:54:48.221626Z",
     "shell.execute_reply": "2021-02-12T10:54:48.221626Z",
     "shell.execute_reply.started": "2021-02-12T10:54:46.725265Z"
    }
   },
   "outputs": [],
   "source": [
    "# 不要な行を削除\n",
    "data=data.drop(['ApprovalDate','DisbursementDate','ApprovalFY'],axis=1)\n",
    "data=data.drop('EndDate',axis=1)\n",
    "\n",
    "# Borrower/Bankは削除する\n",
    "data=data.drop(['Borrower','Bank'],axis=1)"
   ]
  },
  {
   "cell_type": "code",
   "execution_count": 192,
   "metadata": {
    "execution": {
     "iopub.execute_input": "2021-02-12T10:54:48.222626Z",
     "iopub.status.busy": "2021-02-12T10:54:48.222626Z",
     "iopub.status.idle": "2021-02-12T10:54:48.224629Z",
     "shell.execute_reply": "2021-02-12T10:54:48.224629Z",
     "shell.execute_reply.started": "2021-02-12T10:54:48.222626Z"
    }
   },
   "outputs": [
    {
     "data": {
      "text/plain": [
       "(255477, 421)"
      ]
     },
     "execution_count": 192,
     "metadata": {},
     "output_type": "execute_result"
    }
   ],
   "source": [
    "data.shape"
   ]
  },
  {
   "cell_type": "code",
   "execution_count": 193,
   "metadata": {
    "execution": {
     "iopub.execute_input": "2021-02-12T10:54:48.225629Z",
     "iopub.status.busy": "2021-02-12T10:54:48.225629Z",
     "iopub.status.idle": "2021-02-12T10:54:48.229633Z",
     "shell.execute_reply": "2021-02-12T10:54:48.229633Z",
     "shell.execute_reply.started": "2021-02-12T10:54:48.225629Z"
    }
   },
   "outputs": [],
   "source": [
    "# カテゴリ変数リスト\n",
    "l_cat=['State','BankState','zip_A','zip_B','zip_C','Bank_flg','City_flg',\n",
    "       'RevLineCr','LowLoan','ExistNew','CreateJob_flg','RetainedJob_flg',\n",
    "       'FranchiseCode_A','FranchiseCode_B','FranchiseCode_C','FranchiseCode_D','FranchiseCode_E',\n",
    "       'UrbanRural','SystemCode_flg',\n",
    "      'NICS_Sector','NICS_Subsector','NICS_IndustryGroup','NICS_Industory','NICS_NationIndustry','NICS_Subsectors','NICS_IndustryGroups'\n",
    "]\n",
    "#         \n",
    "#        'Bank_CA','Bank_VA','Bank_NC','Bank_IL','Bank_RI',\n",
    "#    \n",
    "##"
   ]
  },
  {
   "cell_type": "code",
   "execution_count": 194,
   "metadata": {
    "execution": {
     "iopub.execute_input": "2021-02-12T10:54:48.230634Z",
     "iopub.status.busy": "2021-02-12T10:54:48.230634Z",
     "iopub.status.idle": "2021-02-12T10:54:49.527813Z",
     "shell.execute_reply": "2021-02-12T10:54:49.527813Z",
     "shell.execute_reply.started": "2021-02-12T10:54:48.230634Z"
    }
   },
   "outputs": [],
   "source": [
    "# 不要な列を削除\n",
    "# data=data.drop(['State','Zip','BankState'],axis=1)\n",
    "data=data.drop(['Zip'],axis=1)\n",
    "data=data.drop(['City'],axis=1)\n",
    "data=data.drop(['FranchiseCode'],axis=1)\n",
    "data=data.drop(['SystemCode'],axis=1)"
   ]
  },
  {
   "cell_type": "code",
   "execution_count": 195,
   "metadata": {
    "execution": {
     "iopub.execute_input": "2021-02-12T10:54:49.528814Z",
     "iopub.status.busy": "2021-02-12T10:54:49.528814Z",
     "iopub.status.idle": "2021-02-12T10:54:49.531817Z",
     "shell.execute_reply": "2021-02-12T10:54:49.531817Z",
     "shell.execute_reply.started": "2021-02-12T10:54:49.528814Z"
    }
   },
   "outputs": [
    {
     "data": {
      "text/plain": [
       "(255477, 417)"
      ]
     },
     "execution_count": 195,
     "metadata": {},
     "output_type": "execute_result"
    }
   ],
   "source": [
    "data.shape"
   ]
  },
  {
   "cell_type": "code",
   "execution_count": 196,
   "metadata": {
    "execution": {
     "iopub.execute_input": "2021-02-12T10:54:49.532817Z",
     "iopub.status.busy": "2021-02-12T10:54:49.532817Z",
     "iopub.status.idle": "2021-02-12T10:54:50.463664Z",
     "shell.execute_reply": "2021-02-12T10:54:50.463664Z",
     "shell.execute_reply.started": "2021-02-12T10:54:49.532817Z"
    }
   },
   "outputs": [],
   "source": [
    "# カテゴリー変数化\n",
    "data[l_cat]=data[l_cat].astype('category')"
   ]
  },
  {
   "cell_type": "code",
   "execution_count": 197,
   "metadata": {
    "execution": {
     "iopub.execute_input": "2021-02-12T10:54:50.464665Z",
     "iopub.status.busy": "2021-02-12T10:54:50.464665Z",
     "iopub.status.idle": "2021-02-12T10:54:50.467667Z",
     "shell.execute_reply": "2021-02-12T10:54:50.467667Z",
     "shell.execute_reply.started": "2021-02-12T10:54:50.464665Z"
    }
   },
   "outputs": [],
   "source": [
    "# data.columns.values"
   ]
  },
  {
   "cell_type": "code",
   "execution_count": 198,
   "metadata": {
    "execution": {
     "iopub.execute_input": "2021-02-12T10:54:50.468668Z",
     "iopub.status.busy": "2021-02-12T10:54:50.468668Z",
     "iopub.status.idle": "2021-02-12T10:54:54.743555Z",
     "shell.execute_reply": "2021-02-12T10:54:54.743555Z",
     "shell.execute_reply.started": "2021-02-12T10:54:50.468668Z"
    }
   },
   "outputs": [
    {
     "data": {
      "text/html": [
       "<div>\n",
       "<style scoped>\n",
       "    .dataframe tbody tr th:only-of-type {\n",
       "        vertical-align: middle;\n",
       "    }\n",
       "\n",
       "    .dataframe tbody tr th {\n",
       "        vertical-align: top;\n",
       "    }\n",
       "\n",
       "    .dataframe thead th {\n",
       "        text-align: right;\n",
       "    }\n",
       "</style>\n",
       "<table border=\"1\" class=\"dataframe\">\n",
       "  <thead>\n",
       "    <tr style=\"text-align: right;\">\n",
       "      <th></th>\n",
       "      <th>Term</th>\n",
       "      <th>Employees</th>\n",
       "      <th>ExistNew</th>\n",
       "      <th>CreateJob</th>\n",
       "      <th>RetainedJob</th>\n",
       "      <th>UrbanRural</th>\n",
       "      <th>RevLineCr</th>\n",
       "      <th>LowLoan</th>\n",
       "      <th>DisbursementGross</th>\n",
       "      <th>BalanceGross</th>\n",
       "      <th>LoanAmount</th>\n",
       "      <th>GuaranteedLoan</th>\n",
       "      <th>LoanStatus</th>\n",
       "      <th>Approval_Y</th>\n",
       "      <th>Approval_M</th>\n",
       "      <th>Approval_D</th>\n",
       "      <th>DisbursementDate_Y</th>\n",
       "      <th>DisbursementDate_M</th>\n",
       "      <th>DisbursementDate_D</th>\n",
       "      <th>State</th>\n",
       "      <th>BankState</th>\n",
       "      <th>ActualGross_log</th>\n",
       "      <th>ActualGross</th>\n",
       "      <th>FranchiseCode_A</th>\n",
       "      <th>FranchiseCode_B</th>\n",
       "      <th>FranchiseCode_C</th>\n",
       "      <th>FranchiseCode_D</th>\n",
       "      <th>FranchiseCode_E</th>\n",
       "      <th>CreateJob_flg</th>\n",
       "      <th>RetainedJob_flg</th>\n",
       "      <th>Crt-RetJob</th>\n",
       "      <th>Crt-RetJob_rate</th>\n",
       "      <th>CRrate_L</th>\n",
       "      <th>CRrate_D</th>\n",
       "      <th>CRrate_B</th>\n",
       "      <th>CRrate_T</th>\n",
       "      <th>Crt_Emp</th>\n",
       "      <th>Ret_Emp</th>\n",
       "      <th>Crt-Ret_Emp</th>\n",
       "      <th>L_Crt</th>\n",
       "      <th>D_Crt</th>\n",
       "      <th>B_Crt</th>\n",
       "      <th>L_Ret</th>\n",
       "      <th>D_Ret</th>\n",
       "      <th>B_Ret</th>\n",
       "      <th>L_Emp</th>\n",
       "      <th>D_Emp</th>\n",
       "      <th>B_Emp</th>\n",
       "      <th>Crt_Term</th>\n",
       "      <th>Rer_Term</th>\n",
       "      <th>...</th>\n",
       "      <th>f_amount_B^a_rate_AD</th>\n",
       "      <th>f_amount_B^a_rate_BD</th>\n",
       "      <th>f_amount_B^a_rate_DD</th>\n",
       "      <th>f_amount_B^a_rate_LD</th>\n",
       "      <th>f_amount_B^b_rate_A</th>\n",
       "      <th>f_amount_B^b_rate_B</th>\n",
       "      <th>f_amount_B^b_rate_D</th>\n",
       "      <th>f_amount_D</th>\n",
       "      <th>f_amount_D^a_rate_AA</th>\n",
       "      <th>f_amount_D^a_rate_BA</th>\n",
       "      <th>f_amount_D^a_rate_DA</th>\n",
       "      <th>f_amount_D^a_rate_LA</th>\n",
       "      <th>f_amount_D^a_rate_AB</th>\n",
       "      <th>f_amount_D^a_rate_BB</th>\n",
       "      <th>f_amount_D^a_rate_DB</th>\n",
       "      <th>f_amount_D^a_rate_LB</th>\n",
       "      <th>f_amount_D^a_rate_AD</th>\n",
       "      <th>f_amount_D^a_rate_BD</th>\n",
       "      <th>f_amount_D^a_rate_DD</th>\n",
       "      <th>f_amount_D^a_rate_LD</th>\n",
       "      <th>f_amount_D^b_rate_A</th>\n",
       "      <th>f_amount_D^b_rate_B</th>\n",
       "      <th>f_amount_D^b_rate_D</th>\n",
       "      <th>Term_AP-Dis</th>\n",
       "      <th>Term_Ap-End</th>\n",
       "      <th>Term_End-Dis</th>\n",
       "      <th>h_rate_AD</th>\n",
       "      <th>h_rate_AE</th>\n",
       "      <th>h_rate_ED</th>\n",
       "      <th>h_rate_AD_A</th>\n",
       "      <th>h_rate_AD_B</th>\n",
       "      <th>h_rate_AD_D</th>\n",
       "      <th>h_rate_AD_L</th>\n",
       "      <th>h_rate_AE_A</th>\n",
       "      <th>h_rate_AE_B</th>\n",
       "      <th>h_rate_AE_D</th>\n",
       "      <th>h_rate_AE_L</th>\n",
       "      <th>h_rate_ED_A</th>\n",
       "      <th>DG_Ap-Dis</th>\n",
       "      <th>DG_Ap-End</th>\n",
       "      <th>DG_End-Dis</th>\n",
       "      <th>BG_Ap-Dis</th>\n",
       "      <th>BG_Ap-End</th>\n",
       "      <th>BG_End-Dis</th>\n",
       "      <th>i_rate</th>\n",
       "      <th>i_rate_A</th>\n",
       "      <th>i_rate_B</th>\n",
       "      <th>i_rate_D</th>\n",
       "      <th>Bank_flg</th>\n",
       "      <th>City_flg</th>\n",
       "    </tr>\n",
       "  </thead>\n",
       "  <tbody>\n",
       "    <tr>\n",
       "      <th>count</th>\n",
       "      <td>255477.00</td>\n",
       "      <td>255477.00</td>\n",
       "      <td>255477.0</td>\n",
       "      <td>255477.00</td>\n",
       "      <td>255477.00</td>\n",
       "      <td>255477.0</td>\n",
       "      <td>179337.0</td>\n",
       "      <td>253757.00</td>\n",
       "      <td>255477.00</td>\n",
       "      <td>255477.00</td>\n",
       "      <td>255477.00</td>\n",
       "      <td>255477.00</td>\n",
       "      <td>255477.00</td>\n",
       "      <td>255477.00</td>\n",
       "      <td>255477.00</td>\n",
       "      <td>255477.00</td>\n",
       "      <td>255477.00</td>\n",
       "      <td>255477.00</td>\n",
       "      <td>255477.00</td>\n",
       "      <td>255477</td>\n",
       "      <td>255477</td>\n",
       "      <td>255477.00</td>\n",
       "      <td>255477.00</td>\n",
       "      <td>255477</td>\n",
       "      <td>255477</td>\n",
       "      <td>255477</td>\n",
       "      <td>255477</td>\n",
       "      <td>255477</td>\n",
       "      <td>255477.0</td>\n",
       "      <td>255477.0</td>\n",
       "      <td>255477.00</td>\n",
       "      <td>255477.00</td>\n",
       "      <td>255477.00</td>\n",
       "      <td>255477.00</td>\n",
       "      <td>255477.00</td>\n",
       "      <td>255477.00</td>\n",
       "      <td>255477.00</td>\n",
       "      <td>255477.00</td>\n",
       "      <td>255472.00</td>\n",
       "      <td>255477.00</td>\n",
       "      <td>255477.00</td>\n",
       "      <td>255477.00</td>\n",
       "      <td>255477.00</td>\n",
       "      <td>255477.00</td>\n",
       "      <td>255477.00</td>\n",
       "      <td>255477.00</td>\n",
       "      <td>255477.00</td>\n",
       "      <td>255477.00</td>\n",
       "      <td>255477.00</td>\n",
       "      <td>255477.00</td>\n",
       "      <td>...</td>\n",
       "      <td>41985.00</td>\n",
       "      <td>41985.00</td>\n",
       "      <td>41985.00</td>\n",
       "      <td>41985.00</td>\n",
       "      <td>61425.00</td>\n",
       "      <td>4.00</td>\n",
       "      <td>61425.00</td>\n",
       "      <td>255477.00</td>\n",
       "      <td>212000.00</td>\n",
       "      <td>192559.00</td>\n",
       "      <td>212000.00</td>\n",
       "      <td>212000.00</td>\n",
       "      <td>212000.00</td>\n",
       "      <td>192559.00</td>\n",
       "      <td>212000.00</td>\n",
       "      <td>212000.00</td>\n",
       "      <td>212000.00</td>\n",
       "      <td>192559.00</td>\n",
       "      <td>212000.00</td>\n",
       "      <td>212000.00</td>\n",
       "      <td>255477.00</td>\n",
       "      <td>61425.00</td>\n",
       "      <td>255477.00</td>\n",
       "      <td>255477.00</td>\n",
       "      <td>255477.00</td>\n",
       "      <td>255477.00</td>\n",
       "      <td>255464.00</td>\n",
       "      <td>255477.00</td>\n",
       "      <td>255477.00</td>\n",
       "      <td>255464.00</td>\n",
       "      <td>255420.00</td>\n",
       "      <td>255464.00</td>\n",
       "      <td>255464.00</td>\n",
       "      <td>255477.00</td>\n",
       "      <td>255477.00</td>\n",
       "      <td>255477.00</td>\n",
       "      <td>255477.00</td>\n",
       "      <td>255477.00</td>\n",
       "      <td>255477.00</td>\n",
       "      <td>255477.00</td>\n",
       "      <td>255477.00</td>\n",
       "      <td>255420.00</td>\n",
       "      <td>255477.00</td>\n",
       "      <td>255461.00</td>\n",
       "      <td>255477.00</td>\n",
       "      <td>255477.0</td>\n",
       "      <td>61425.00</td>\n",
       "      <td>255477.00</td>\n",
       "      <td>215970</td>\n",
       "      <td>77064</td>\n",
       "    </tr>\n",
       "    <tr>\n",
       "      <th>missing</th>\n",
       "      <td>0.00</td>\n",
       "      <td>0.00</td>\n",
       "      <td>0.0</td>\n",
       "      <td>0.00</td>\n",
       "      <td>0.00</td>\n",
       "      <td>0.0</td>\n",
       "      <td>76140.0</td>\n",
       "      <td>1720.00</td>\n",
       "      <td>0.00</td>\n",
       "      <td>0.00</td>\n",
       "      <td>0.00</td>\n",
       "      <td>0.00</td>\n",
       "      <td>0.00</td>\n",
       "      <td>0.00</td>\n",
       "      <td>0.00</td>\n",
       "      <td>0.00</td>\n",
       "      <td>0.00</td>\n",
       "      <td>0.00</td>\n",
       "      <td>0.00</td>\n",
       "      <td>0</td>\n",
       "      <td>0</td>\n",
       "      <td>0.00</td>\n",
       "      <td>0.00</td>\n",
       "      <td>0</td>\n",
       "      <td>0</td>\n",
       "      <td>0</td>\n",
       "      <td>0</td>\n",
       "      <td>0</td>\n",
       "      <td>0.0</td>\n",
       "      <td>0.0</td>\n",
       "      <td>0.00</td>\n",
       "      <td>0.00</td>\n",
       "      <td>0.00</td>\n",
       "      <td>0.00</td>\n",
       "      <td>0.00</td>\n",
       "      <td>0.00</td>\n",
       "      <td>0.00</td>\n",
       "      <td>0.00</td>\n",
       "      <td>5.00</td>\n",
       "      <td>0.00</td>\n",
       "      <td>0.00</td>\n",
       "      <td>0.00</td>\n",
       "      <td>0.00</td>\n",
       "      <td>0.00</td>\n",
       "      <td>0.00</td>\n",
       "      <td>0.00</td>\n",
       "      <td>0.00</td>\n",
       "      <td>0.00</td>\n",
       "      <td>0.00</td>\n",
       "      <td>0.00</td>\n",
       "      <td>...</td>\n",
       "      <td>213492.00</td>\n",
       "      <td>213492.00</td>\n",
       "      <td>213492.00</td>\n",
       "      <td>213492.00</td>\n",
       "      <td>194052.00</td>\n",
       "      <td>255473.00</td>\n",
       "      <td>194052.00</td>\n",
       "      <td>0.00</td>\n",
       "      <td>43477.00</td>\n",
       "      <td>62918.00</td>\n",
       "      <td>43477.00</td>\n",
       "      <td>43477.00</td>\n",
       "      <td>43477.00</td>\n",
       "      <td>62918.00</td>\n",
       "      <td>43477.00</td>\n",
       "      <td>43477.00</td>\n",
       "      <td>43477.00</td>\n",
       "      <td>62918.00</td>\n",
       "      <td>43477.00</td>\n",
       "      <td>43477.00</td>\n",
       "      <td>0.00</td>\n",
       "      <td>194052.00</td>\n",
       "      <td>0.00</td>\n",
       "      <td>0.00</td>\n",
       "      <td>0.00</td>\n",
       "      <td>0.00</td>\n",
       "      <td>13.00</td>\n",
       "      <td>0.00</td>\n",
       "      <td>0.00</td>\n",
       "      <td>13.00</td>\n",
       "      <td>57.00</td>\n",
       "      <td>13.00</td>\n",
       "      <td>13.00</td>\n",
       "      <td>0.00</td>\n",
       "      <td>0.00</td>\n",
       "      <td>0.00</td>\n",
       "      <td>0.00</td>\n",
       "      <td>0.00</td>\n",
       "      <td>0.00</td>\n",
       "      <td>0.00</td>\n",
       "      <td>0.00</td>\n",
       "      <td>57.00</td>\n",
       "      <td>0.00</td>\n",
       "      <td>16.00</td>\n",
       "      <td>0.00</td>\n",
       "      <td>0.0</td>\n",
       "      <td>194052.00</td>\n",
       "      <td>0.00</td>\n",
       "      <td>39507</td>\n",
       "      <td>178413</td>\n",
       "    </tr>\n",
       "    <tr>\n",
       "      <th>missing_per</th>\n",
       "      <td>0.00</td>\n",
       "      <td>0.00</td>\n",
       "      <td>0.0</td>\n",
       "      <td>0.00</td>\n",
       "      <td>0.00</td>\n",
       "      <td>0.0</td>\n",
       "      <td>0.3</td>\n",
       "      <td>0.01</td>\n",
       "      <td>0.00</td>\n",
       "      <td>0.00</td>\n",
       "      <td>0.00</td>\n",
       "      <td>0.00</td>\n",
       "      <td>0.00</td>\n",
       "      <td>0.00</td>\n",
       "      <td>0.00</td>\n",
       "      <td>0.00</td>\n",
       "      <td>0.00</td>\n",
       "      <td>0.00</td>\n",
       "      <td>0.00</td>\n",
       "      <td>0.0</td>\n",
       "      <td>0.0</td>\n",
       "      <td>0.00</td>\n",
       "      <td>0.00</td>\n",
       "      <td>0.0</td>\n",
       "      <td>0.0</td>\n",
       "      <td>0.0</td>\n",
       "      <td>0.0</td>\n",
       "      <td>0.0</td>\n",
       "      <td>0.0</td>\n",
       "      <td>0.0</td>\n",
       "      <td>0.00</td>\n",
       "      <td>0.00</td>\n",
       "      <td>0.00</td>\n",
       "      <td>0.00</td>\n",
       "      <td>0.00</td>\n",
       "      <td>0.00</td>\n",
       "      <td>0.00</td>\n",
       "      <td>0.00</td>\n",
       "      <td>0.00</td>\n",
       "      <td>0.00</td>\n",
       "      <td>0.00</td>\n",
       "      <td>0.00</td>\n",
       "      <td>0.00</td>\n",
       "      <td>0.00</td>\n",
       "      <td>0.00</td>\n",
       "      <td>0.00</td>\n",
       "      <td>0.00</td>\n",
       "      <td>0.00</td>\n",
       "      <td>0.00</td>\n",
       "      <td>0.00</td>\n",
       "      <td>...</td>\n",
       "      <td>0.84</td>\n",
       "      <td>0.84</td>\n",
       "      <td>0.84</td>\n",
       "      <td>0.84</td>\n",
       "      <td>0.76</td>\n",
       "      <td>1.00</td>\n",
       "      <td>0.76</td>\n",
       "      <td>0.00</td>\n",
       "      <td>0.17</td>\n",
       "      <td>0.25</td>\n",
       "      <td>0.17</td>\n",
       "      <td>0.17</td>\n",
       "      <td>0.17</td>\n",
       "      <td>0.25</td>\n",
       "      <td>0.17</td>\n",
       "      <td>0.17</td>\n",
       "      <td>0.17</td>\n",
       "      <td>0.25</td>\n",
       "      <td>0.17</td>\n",
       "      <td>0.17</td>\n",
       "      <td>0.00</td>\n",
       "      <td>0.76</td>\n",
       "      <td>0.00</td>\n",
       "      <td>0.00</td>\n",
       "      <td>0.00</td>\n",
       "      <td>0.00</td>\n",
       "      <td>0.00</td>\n",
       "      <td>0.00</td>\n",
       "      <td>0.00</td>\n",
       "      <td>0.00</td>\n",
       "      <td>0.00</td>\n",
       "      <td>0.00</td>\n",
       "      <td>0.00</td>\n",
       "      <td>0.00</td>\n",
       "      <td>0.00</td>\n",
       "      <td>0.00</td>\n",
       "      <td>0.00</td>\n",
       "      <td>0.00</td>\n",
       "      <td>0.00</td>\n",
       "      <td>0.00</td>\n",
       "      <td>0.00</td>\n",
       "      <td>0.00</td>\n",
       "      <td>0.00</td>\n",
       "      <td>0.00</td>\n",
       "      <td>0.00</td>\n",
       "      <td>0.0</td>\n",
       "      <td>0.76</td>\n",
       "      <td>0.00</td>\n",
       "      <td>0.15</td>\n",
       "      <td>0.7</td>\n",
       "    </tr>\n",
       "    <tr>\n",
       "      <th>unique</th>\n",
       "      <td>NaN</td>\n",
       "      <td>NaN</td>\n",
       "      <td>3.0</td>\n",
       "      <td>NaN</td>\n",
       "      <td>NaN</td>\n",
       "      <td>3.0</td>\n",
       "      <td>2.0</td>\n",
       "      <td>2.00</td>\n",
       "      <td>NaN</td>\n",
       "      <td>NaN</td>\n",
       "      <td>NaN</td>\n",
       "      <td>NaN</td>\n",
       "      <td>NaN</td>\n",
       "      <td>NaN</td>\n",
       "      <td>NaN</td>\n",
       "      <td>NaN</td>\n",
       "      <td>NaN</td>\n",
       "      <td>NaN</td>\n",
       "      <td>NaN</td>\n",
       "      <td>51</td>\n",
       "      <td>54</td>\n",
       "      <td>NaN</td>\n",
       "      <td>NaN</td>\n",
       "      <td>10</td>\n",
       "      <td>10</td>\n",
       "      <td>10</td>\n",
       "      <td>10</td>\n",
       "      <td>10</td>\n",
       "      <td>2.0</td>\n",
       "      <td>2.0</td>\n",
       "      <td>NaN</td>\n",
       "      <td>NaN</td>\n",
       "      <td>NaN</td>\n",
       "      <td>NaN</td>\n",
       "      <td>NaN</td>\n",
       "      <td>NaN</td>\n",
       "      <td>NaN</td>\n",
       "      <td>NaN</td>\n",
       "      <td>NaN</td>\n",
       "      <td>NaN</td>\n",
       "      <td>NaN</td>\n",
       "      <td>NaN</td>\n",
       "      <td>NaN</td>\n",
       "      <td>NaN</td>\n",
       "      <td>NaN</td>\n",
       "      <td>NaN</td>\n",
       "      <td>NaN</td>\n",
       "      <td>NaN</td>\n",
       "      <td>NaN</td>\n",
       "      <td>NaN</td>\n",
       "      <td>...</td>\n",
       "      <td>NaN</td>\n",
       "      <td>NaN</td>\n",
       "      <td>NaN</td>\n",
       "      <td>NaN</td>\n",
       "      <td>NaN</td>\n",
       "      <td>NaN</td>\n",
       "      <td>NaN</td>\n",
       "      <td>NaN</td>\n",
       "      <td>NaN</td>\n",
       "      <td>NaN</td>\n",
       "      <td>NaN</td>\n",
       "      <td>NaN</td>\n",
       "      <td>NaN</td>\n",
       "      <td>NaN</td>\n",
       "      <td>NaN</td>\n",
       "      <td>NaN</td>\n",
       "      <td>NaN</td>\n",
       "      <td>NaN</td>\n",
       "      <td>NaN</td>\n",
       "      <td>NaN</td>\n",
       "      <td>NaN</td>\n",
       "      <td>NaN</td>\n",
       "      <td>NaN</td>\n",
       "      <td>NaN</td>\n",
       "      <td>NaN</td>\n",
       "      <td>NaN</td>\n",
       "      <td>NaN</td>\n",
       "      <td>NaN</td>\n",
       "      <td>NaN</td>\n",
       "      <td>NaN</td>\n",
       "      <td>NaN</td>\n",
       "      <td>NaN</td>\n",
       "      <td>NaN</td>\n",
       "      <td>NaN</td>\n",
       "      <td>NaN</td>\n",
       "      <td>NaN</td>\n",
       "      <td>NaN</td>\n",
       "      <td>NaN</td>\n",
       "      <td>NaN</td>\n",
       "      <td>NaN</td>\n",
       "      <td>NaN</td>\n",
       "      <td>NaN</td>\n",
       "      <td>NaN</td>\n",
       "      <td>NaN</td>\n",
       "      <td>NaN</td>\n",
       "      <td>NaN</td>\n",
       "      <td>NaN</td>\n",
       "      <td>NaN</td>\n",
       "      <td>911</td>\n",
       "      <td>130</td>\n",
       "    </tr>\n",
       "    <tr>\n",
       "      <th>top</th>\n",
       "      <td>NaN</td>\n",
       "      <td>NaN</td>\n",
       "      <td>1.0</td>\n",
       "      <td>NaN</td>\n",
       "      <td>NaN</td>\n",
       "      <td>1.0</td>\n",
       "      <td>0.0</td>\n",
       "      <td>0.00</td>\n",
       "      <td>NaN</td>\n",
       "      <td>NaN</td>\n",
       "      <td>NaN</td>\n",
       "      <td>NaN</td>\n",
       "      <td>NaN</td>\n",
       "      <td>NaN</td>\n",
       "      <td>NaN</td>\n",
       "      <td>NaN</td>\n",
       "      <td>NaN</td>\n",
       "      <td>NaN</td>\n",
       "      <td>NaN</td>\n",
       "      <td>CA</td>\n",
       "      <td>CA</td>\n",
       "      <td>NaN</td>\n",
       "      <td>NaN</td>\n",
       "      <td>0</td>\n",
       "      <td>0</td>\n",
       "      <td>0</td>\n",
       "      <td>0</td>\n",
       "      <td>1</td>\n",
       "      <td>0.0</td>\n",
       "      <td>1.0</td>\n",
       "      <td>NaN</td>\n",
       "      <td>NaN</td>\n",
       "      <td>NaN</td>\n",
       "      <td>NaN</td>\n",
       "      <td>NaN</td>\n",
       "      <td>NaN</td>\n",
       "      <td>NaN</td>\n",
       "      <td>NaN</td>\n",
       "      <td>NaN</td>\n",
       "      <td>NaN</td>\n",
       "      <td>NaN</td>\n",
       "      <td>NaN</td>\n",
       "      <td>NaN</td>\n",
       "      <td>NaN</td>\n",
       "      <td>NaN</td>\n",
       "      <td>NaN</td>\n",
       "      <td>NaN</td>\n",
       "      <td>NaN</td>\n",
       "      <td>NaN</td>\n",
       "      <td>NaN</td>\n",
       "      <td>...</td>\n",
       "      <td>NaN</td>\n",
       "      <td>NaN</td>\n",
       "      <td>NaN</td>\n",
       "      <td>NaN</td>\n",
       "      <td>NaN</td>\n",
       "      <td>NaN</td>\n",
       "      <td>NaN</td>\n",
       "      <td>NaN</td>\n",
       "      <td>NaN</td>\n",
       "      <td>NaN</td>\n",
       "      <td>NaN</td>\n",
       "      <td>NaN</td>\n",
       "      <td>NaN</td>\n",
       "      <td>NaN</td>\n",
       "      <td>NaN</td>\n",
       "      <td>NaN</td>\n",
       "      <td>NaN</td>\n",
       "      <td>NaN</td>\n",
       "      <td>NaN</td>\n",
       "      <td>NaN</td>\n",
       "      <td>NaN</td>\n",
       "      <td>NaN</td>\n",
       "      <td>NaN</td>\n",
       "      <td>NaN</td>\n",
       "      <td>NaN</td>\n",
       "      <td>NaN</td>\n",
       "      <td>NaN</td>\n",
       "      <td>NaN</td>\n",
       "      <td>NaN</td>\n",
       "      <td>NaN</td>\n",
       "      <td>NaN</td>\n",
       "      <td>NaN</td>\n",
       "      <td>NaN</td>\n",
       "      <td>NaN</td>\n",
       "      <td>NaN</td>\n",
       "      <td>NaN</td>\n",
       "      <td>NaN</td>\n",
       "      <td>NaN</td>\n",
       "      <td>NaN</td>\n",
       "      <td>NaN</td>\n",
       "      <td>NaN</td>\n",
       "      <td>NaN</td>\n",
       "      <td>NaN</td>\n",
       "      <td>NaN</td>\n",
       "      <td>NaN</td>\n",
       "      <td>NaN</td>\n",
       "      <td>NaN</td>\n",
       "      <td>NaN</td>\n",
       "      <td>kcjyktbecc</td>\n",
       "      <td>LOS ANGELES</td>\n",
       "    </tr>\n",
       "    <tr>\n",
       "      <th>freq</th>\n",
       "      <td>NaN</td>\n",
       "      <td>NaN</td>\n",
       "      <td>184289.0</td>\n",
       "      <td>NaN</td>\n",
       "      <td>NaN</td>\n",
       "      <td>134448.0</td>\n",
       "      <td>120274.0</td>\n",
       "      <td>221768.00</td>\n",
       "      <td>NaN</td>\n",
       "      <td>NaN</td>\n",
       "      <td>NaN</td>\n",
       "      <td>NaN</td>\n",
       "      <td>NaN</td>\n",
       "      <td>NaN</td>\n",
       "      <td>NaN</td>\n",
       "      <td>NaN</td>\n",
       "      <td>NaN</td>\n",
       "      <td>NaN</td>\n",
       "      <td>NaN</td>\n",
       "      <td>37904</td>\n",
       "      <td>33722</td>\n",
       "      <td>NaN</td>\n",
       "      <td>NaN</td>\n",
       "      <td>247075</td>\n",
       "      <td>247610</td>\n",
       "      <td>247253</td>\n",
       "      <td>247682</td>\n",
       "      <td>183896</td>\n",
       "      <td>178554.0</td>\n",
       "      <td>131604.0</td>\n",
       "      <td>NaN</td>\n",
       "      <td>NaN</td>\n",
       "      <td>NaN</td>\n",
       "      <td>NaN</td>\n",
       "      <td>NaN</td>\n",
       "      <td>NaN</td>\n",
       "      <td>NaN</td>\n",
       "      <td>NaN</td>\n",
       "      <td>NaN</td>\n",
       "      <td>NaN</td>\n",
       "      <td>NaN</td>\n",
       "      <td>NaN</td>\n",
       "      <td>NaN</td>\n",
       "      <td>NaN</td>\n",
       "      <td>NaN</td>\n",
       "      <td>NaN</td>\n",
       "      <td>NaN</td>\n",
       "      <td>NaN</td>\n",
       "      <td>NaN</td>\n",
       "      <td>NaN</td>\n",
       "      <td>...</td>\n",
       "      <td>NaN</td>\n",
       "      <td>NaN</td>\n",
       "      <td>NaN</td>\n",
       "      <td>NaN</td>\n",
       "      <td>NaN</td>\n",
       "      <td>NaN</td>\n",
       "      <td>NaN</td>\n",
       "      <td>NaN</td>\n",
       "      <td>NaN</td>\n",
       "      <td>NaN</td>\n",
       "      <td>NaN</td>\n",
       "      <td>NaN</td>\n",
       "      <td>NaN</td>\n",
       "      <td>NaN</td>\n",
       "      <td>NaN</td>\n",
       "      <td>NaN</td>\n",
       "      <td>NaN</td>\n",
       "      <td>NaN</td>\n",
       "      <td>NaN</td>\n",
       "      <td>NaN</td>\n",
       "      <td>NaN</td>\n",
       "      <td>NaN</td>\n",
       "      <td>NaN</td>\n",
       "      <td>NaN</td>\n",
       "      <td>NaN</td>\n",
       "      <td>NaN</td>\n",
       "      <td>NaN</td>\n",
       "      <td>NaN</td>\n",
       "      <td>NaN</td>\n",
       "      <td>NaN</td>\n",
       "      <td>NaN</td>\n",
       "      <td>NaN</td>\n",
       "      <td>NaN</td>\n",
       "      <td>NaN</td>\n",
       "      <td>NaN</td>\n",
       "      <td>NaN</td>\n",
       "      <td>NaN</td>\n",
       "      <td>NaN</td>\n",
       "      <td>NaN</td>\n",
       "      <td>NaN</td>\n",
       "      <td>NaN</td>\n",
       "      <td>NaN</td>\n",
       "      <td>NaN</td>\n",
       "      <td>NaN</td>\n",
       "      <td>NaN</td>\n",
       "      <td>NaN</td>\n",
       "      <td>NaN</td>\n",
       "      <td>NaN</td>\n",
       "      <td>26362</td>\n",
       "      <td>3489</td>\n",
       "    </tr>\n",
       "    <tr>\n",
       "      <th>mean</th>\n",
       "      <td>111.43</td>\n",
       "      <td>11.17</td>\n",
       "      <td>NaN</td>\n",
       "      <td>8.56</td>\n",
       "      <td>10.85</td>\n",
       "      <td>NaN</td>\n",
       "      <td>NaN</td>\n",
       "      <td>NaN</td>\n",
       "      <td>197988.37</td>\n",
       "      <td>0.71</td>\n",
       "      <td>189347.82</td>\n",
       "      <td>146924.24</td>\n",
       "      <td>0.19</td>\n",
       "      <td>2000.97</td>\n",
       "      <td>6.48</td>\n",
       "      <td>16.15</td>\n",
       "      <td>2001.26</td>\n",
       "      <td>6.35</td>\n",
       "      <td>27.59</td>\n",
       "      <td>NaN</td>\n",
       "      <td>NaN</td>\n",
       "      <td>11.46</td>\n",
       "      <td>197989.08</td>\n",
       "      <td>NaN</td>\n",
       "      <td>NaN</td>\n",
       "      <td>NaN</td>\n",
       "      <td>NaN</td>\n",
       "      <td>NaN</td>\n",
       "      <td>NaN</td>\n",
       "      <td>NaN</td>\n",
       "      <td>2.29</td>\n",
       "      <td>2.18</td>\n",
       "      <td>676781.16</td>\n",
       "      <td>726627.52</td>\n",
       "      <td>1.14</td>\n",
       "      <td>224.05</td>\n",
       "      <td>2.14</td>\n",
       "      <td>1.82</td>\n",
       "      <td>2.59</td>\n",
       "      <td>136163.83</td>\n",
       "      <td>142230.87</td>\n",
       "      <td>0.34</td>\n",
       "      <td>121820.16</td>\n",
       "      <td>123406.00</td>\n",
       "      <td>0.45</td>\n",
       "      <td>9.54</td>\n",
       "      <td>9.64</td>\n",
       "      <td>-inf</td>\n",
       "      <td>84.40</td>\n",
       "      <td>73.85</td>\n",
       "      <td>...</td>\n",
       "      <td>NaN</td>\n",
       "      <td>NaN</td>\n",
       "      <td>NaN</td>\n",
       "      <td>NaN</td>\n",
       "      <td>NaN</td>\n",
       "      <td>121588.34</td>\n",
       "      <td>NaN</td>\n",
       "      <td>-inf</td>\n",
       "      <td>NaN</td>\n",
       "      <td>NaN</td>\n",
       "      <td>NaN</td>\n",
       "      <td>NaN</td>\n",
       "      <td>NaN</td>\n",
       "      <td>NaN</td>\n",
       "      <td>NaN</td>\n",
       "      <td>NaN</td>\n",
       "      <td>NaN</td>\n",
       "      <td>NaN</td>\n",
       "      <td>NaN</td>\n",
       "      <td>NaN</td>\n",
       "      <td>NaN</td>\n",
       "      <td>7.68</td>\n",
       "      <td>NaN</td>\n",
       "      <td>inf</td>\n",
       "      <td>0.03</td>\n",
       "      <td>inf</td>\n",
       "      <td>inf</td>\n",
       "      <td>0.15</td>\n",
       "      <td>NaN</td>\n",
       "      <td>inf</td>\n",
       "      <td>-6.78</td>\n",
       "      <td>inf</td>\n",
       "      <td>inf</td>\n",
       "      <td>17891.50</td>\n",
       "      <td>-0.36</td>\n",
       "      <td>17891.87</td>\n",
       "      <td>13729.67</td>\n",
       "      <td>NaN</td>\n",
       "      <td>inf</td>\n",
       "      <td>206.73</td>\n",
       "      <td>inf</td>\n",
       "      <td>0.02</td>\n",
       "      <td>0.00</td>\n",
       "      <td>0.00</td>\n",
       "      <td>NaN</td>\n",
       "      <td>NaN</td>\n",
       "      <td>-0.00</td>\n",
       "      <td>NaN</td>\n",
       "      <td>NaN</td>\n",
       "      <td>NaN</td>\n",
       "    </tr>\n",
       "    <tr>\n",
       "      <th>std</th>\n",
       "      <td>79.48</td>\n",
       "      <td>75.02</td>\n",
       "      <td>NaN</td>\n",
       "      <td>239.67</td>\n",
       "      <td>239.85</td>\n",
       "      <td>NaN</td>\n",
       "      <td>NaN</td>\n",
       "      <td>NaN</td>\n",
       "      <td>285129.76</td>\n",
       "      <td>206.61</td>\n",
       "      <td>282409.05</td>\n",
       "      <td>227516.87</td>\n",
       "      <td>0.39</td>\n",
       "      <td>5.98</td>\n",
       "      <td>3.37</td>\n",
       "      <td>8.76</td>\n",
       "      <td>5.90</td>\n",
       "      <td>3.43</td>\n",
       "      <td>7.44</td>\n",
       "      <td>NaN</td>\n",
       "      <td>NaN</td>\n",
       "      <td>1.25</td>\n",
       "      <td>285129.52</td>\n",
       "      <td>NaN</td>\n",
       "      <td>NaN</td>\n",
       "      <td>NaN</td>\n",
       "      <td>NaN</td>\n",
       "      <td>NaN</td>\n",
       "      <td>NaN</td>\n",
       "      <td>NaN</td>\n",
       "      <td>18.40</td>\n",
       "      <td>9.18</td>\n",
       "      <td>7997333.45</td>\n",
       "      <td>8384693.79</td>\n",
       "      <td>699.84</td>\n",
       "      <td>1487.68</td>\n",
       "      <td>1.91</td>\n",
       "      <td>1.93</td>\n",
       "      <td>2.09</td>\n",
       "      <td>232914.01</td>\n",
       "      <td>235485.62</td>\n",
       "      <td>99.74</td>\n",
       "      <td>220525.77</td>\n",
       "      <td>219720.71</td>\n",
       "      <td>171.76</td>\n",
       "      <td>1.20</td>\n",
       "      <td>1.18</td>\n",
       "      <td>NaN</td>\n",
       "      <td>75.46</td>\n",
       "      <td>80.95</td>\n",
       "      <td>...</td>\n",
       "      <td>NaN</td>\n",
       "      <td>NaN</td>\n",
       "      <td>NaN</td>\n",
       "      <td>NaN</td>\n",
       "      <td>NaN</td>\n",
       "      <td>31448.75</td>\n",
       "      <td>NaN</td>\n",
       "      <td>NaN</td>\n",
       "      <td>NaN</td>\n",
       "      <td>NaN</td>\n",
       "      <td>NaN</td>\n",
       "      <td>NaN</td>\n",
       "      <td>NaN</td>\n",
       "      <td>NaN</td>\n",
       "      <td>NaN</td>\n",
       "      <td>NaN</td>\n",
       "      <td>NaN</td>\n",
       "      <td>NaN</td>\n",
       "      <td>NaN</td>\n",
       "      <td>NaN</td>\n",
       "      <td>NaN</td>\n",
       "      <td>971.74</td>\n",
       "      <td>NaN</td>\n",
       "      <td>NaN</td>\n",
       "      <td>0.00</td>\n",
       "      <td>NaN</td>\n",
       "      <td>NaN</td>\n",
       "      <td>10.76</td>\n",
       "      <td>NaN</td>\n",
       "      <td>NaN</td>\n",
       "      <td>3311.69</td>\n",
       "      <td>NaN</td>\n",
       "      <td>NaN</td>\n",
       "      <td>2104596.48</td>\n",
       "      <td>124.91</td>\n",
       "      <td>2104596.46</td>\n",
       "      <td>1787060.09</td>\n",
       "      <td>NaN</td>\n",
       "      <td>NaN</td>\n",
       "      <td>6379.45</td>\n",
       "      <td>NaN</td>\n",
       "      <td>6.57</td>\n",
       "      <td>0.25</td>\n",
       "      <td>0.54</td>\n",
       "      <td>NaN</td>\n",
       "      <td>NaN</td>\n",
       "      <td>0.51</td>\n",
       "      <td>NaN</td>\n",
       "      <td>NaN</td>\n",
       "      <td>NaN</td>\n",
       "    </tr>\n",
       "    <tr>\n",
       "      <th>min</th>\n",
       "      <td>0.00</td>\n",
       "      <td>0.00</td>\n",
       "      <td>NaN</td>\n",
       "      <td>0.00</td>\n",
       "      <td>0.00</td>\n",
       "      <td>NaN</td>\n",
       "      <td>NaN</td>\n",
       "      <td>NaN</td>\n",
       "      <td>4000.00</td>\n",
       "      <td>0.00</td>\n",
       "      <td>1000.00</td>\n",
       "      <td>500.00</td>\n",
       "      <td>0.00</td>\n",
       "      <td>1971.00</td>\n",
       "      <td>1.00</td>\n",
       "      <td>1.00</td>\n",
       "      <td>1971.00</td>\n",
       "      <td>1.00</td>\n",
       "      <td>1.00</td>\n",
       "      <td>NaN</td>\n",
       "      <td>NaN</td>\n",
       "      <td>8.29</td>\n",
       "      <td>4000.00</td>\n",
       "      <td>NaN</td>\n",
       "      <td>NaN</td>\n",
       "      <td>NaN</td>\n",
       "      <td>NaN</td>\n",
       "      <td>NaN</td>\n",
       "      <td>NaN</td>\n",
       "      <td>NaN</td>\n",
       "      <td>-3069.00</td>\n",
       "      <td>-1.00</td>\n",
       "      <td>-4760000.00</td>\n",
       "      <td>-4760000.00</td>\n",
       "      <td>-75224.51</td>\n",
       "      <td>-326.06</td>\n",
       "      <td>0.00</td>\n",
       "      <td>0.00</td>\n",
       "      <td>0.00</td>\n",
       "      <td>2.05</td>\n",
       "      <td>2.05</td>\n",
       "      <td>0.00</td>\n",
       "      <td>2.05</td>\n",
       "      <td>2.05</td>\n",
       "      <td>0.00</td>\n",
       "      <td>0.54</td>\n",
       "      <td>0.54</td>\n",
       "      <td>-inf</td>\n",
       "      <td>0.00</td>\n",
       "      <td>0.00</td>\n",
       "      <td>...</td>\n",
       "      <td>-inf</td>\n",
       "      <td>-inf</td>\n",
       "      <td>-inf</td>\n",
       "      <td>-inf</td>\n",
       "      <td>-inf</td>\n",
       "      <td>87847.40</td>\n",
       "      <td>-inf</td>\n",
       "      <td>-inf</td>\n",
       "      <td>-inf</td>\n",
       "      <td>-inf</td>\n",
       "      <td>-inf</td>\n",
       "      <td>-inf</td>\n",
       "      <td>-inf</td>\n",
       "      <td>-inf</td>\n",
       "      <td>-inf</td>\n",
       "      <td>-inf</td>\n",
       "      <td>-inf</td>\n",
       "      <td>-inf</td>\n",
       "      <td>-inf</td>\n",
       "      <td>-inf</td>\n",
       "      <td>-inf</td>\n",
       "      <td>0.00</td>\n",
       "      <td>-inf</td>\n",
       "      <td>-300.00</td>\n",
       "      <td>0.00</td>\n",
       "      <td>-18.00</td>\n",
       "      <td>-500.00</td>\n",
       "      <td>-1000.00</td>\n",
       "      <td>-inf</td>\n",
       "      <td>-1125000000.00</td>\n",
       "      <td>-1620325.53</td>\n",
       "      <td>-1125000000.00</td>\n",
       "      <td>-1125000000.00</td>\n",
       "      <td>-400569000.00</td>\n",
       "      <td>-47133.33</td>\n",
       "      <td>-400569000.00</td>\n",
       "      <td>-360000000.00</td>\n",
       "      <td>-inf</td>\n",
       "      <td>-1967200.00</td>\n",
       "      <td>0.54</td>\n",
       "      <td>-935000.00</td>\n",
       "      <td>0.00</td>\n",
       "      <td>0.00</td>\n",
       "      <td>0.00</td>\n",
       "      <td>-inf</td>\n",
       "      <td>-inf</td>\n",
       "      <td>-115.25</td>\n",
       "      <td>-inf</td>\n",
       "      <td>NaN</td>\n",
       "      <td>NaN</td>\n",
       "    </tr>\n",
       "    <tr>\n",
       "      <th>25%</th>\n",
       "      <td>60.00</td>\n",
       "      <td>2.00</td>\n",
       "      <td>NaN</td>\n",
       "      <td>0.00</td>\n",
       "      <td>0.00</td>\n",
       "      <td>NaN</td>\n",
       "      <td>NaN</td>\n",
       "      <td>NaN</td>\n",
       "      <td>40000.00</td>\n",
       "      <td>0.00</td>\n",
       "      <td>35000.00</td>\n",
       "      <td>20000.00</td>\n",
       "      <td>0.00</td>\n",
       "      <td>1996.00</td>\n",
       "      <td>4.00</td>\n",
       "      <td>9.00</td>\n",
       "      <td>1997.00</td>\n",
       "      <td>4.00</td>\n",
       "      <td>30.00</td>\n",
       "      <td>NaN</td>\n",
       "      <td>NaN</td>\n",
       "      <td>10.60</td>\n",
       "      <td>40000.00</td>\n",
       "      <td>NaN</td>\n",
       "      <td>NaN</td>\n",
       "      <td>NaN</td>\n",
       "      <td>NaN</td>\n",
       "      <td>NaN</td>\n",
       "      <td>NaN</td>\n",
       "      <td>NaN</td>\n",
       "      <td>0.00</td>\n",
       "      <td>0.00</td>\n",
       "      <td>0.00</td>\n",
       "      <td>0.00</td>\n",
       "      <td>0.00</td>\n",
       "      <td>0.00</td>\n",
       "      <td>1.00</td>\n",
       "      <td>0.87</td>\n",
       "      <td>1.41</td>\n",
       "      <td>20500.00</td>\n",
       "      <td>25000.00</td>\n",
       "      <td>0.00</td>\n",
       "      <td>9625.00</td>\n",
       "      <td>11871.25</td>\n",
       "      <td>0.00</td>\n",
       "      <td>8.74</td>\n",
       "      <td>8.87</td>\n",
       "      <td>NaN</td>\n",
       "      <td>29.50</td>\n",
       "      <td>14.17</td>\n",
       "      <td>...</td>\n",
       "      <td>NaN</td>\n",
       "      <td>NaN</td>\n",
       "      <td>NaN</td>\n",
       "      <td>NaN</td>\n",
       "      <td>NaN</td>\n",
       "      <td>101689.57</td>\n",
       "      <td>NaN</td>\n",
       "      <td>NaN</td>\n",
       "      <td>-inf</td>\n",
       "      <td>-inf</td>\n",
       "      <td>-inf</td>\n",
       "      <td>-inf</td>\n",
       "      <td>-159.78</td>\n",
       "      <td>-inf</td>\n",
       "      <td>-159.78</td>\n",
       "      <td>-150.56</td>\n",
       "      <td>-inf</td>\n",
       "      <td>-inf</td>\n",
       "      <td>-inf</td>\n",
       "      <td>-inf</td>\n",
       "      <td>NaN</td>\n",
       "      <td>0.00</td>\n",
       "      <td>NaN</td>\n",
       "      <td>0.70</td>\n",
       "      <td>0.03</td>\n",
       "      <td>0.03</td>\n",
       "      <td>3.28</td>\n",
       "      <td>0.03</td>\n",
       "      <td>0.03</td>\n",
       "      <td>52631.58</td>\n",
       "      <td>0.00</td>\n",
       "      <td>52631.58</td>\n",
       "      <td>45454.55</td>\n",
       "      <td>938.09</td>\n",
       "      <td>0.00</td>\n",
       "      <td>938.09</td>\n",
       "      <td>781.86</td>\n",
       "      <td>791.45</td>\n",
       "      <td>625.00</td>\n",
       "      <td>17.79</td>\n",
       "      <td>18.03</td>\n",
       "      <td>0.00</td>\n",
       "      <td>0.00</td>\n",
       "      <td>0.00</td>\n",
       "      <td>-23.68</td>\n",
       "      <td>-30.9</td>\n",
       "      <td>-0.00</td>\n",
       "      <td>-30.92</td>\n",
       "      <td>NaN</td>\n",
       "      <td>NaN</td>\n",
       "    </tr>\n",
       "    <tr>\n",
       "      <th>50%</th>\n",
       "      <td>84.00</td>\n",
       "      <td>4.00</td>\n",
       "      <td>NaN</td>\n",
       "      <td>0.00</td>\n",
       "      <td>1.00</td>\n",
       "      <td>NaN</td>\n",
       "      <td>NaN</td>\n",
       "      <td>NaN</td>\n",
       "      <td>99000.00</td>\n",
       "      <td>0.00</td>\n",
       "      <td>85000.00</td>\n",
       "      <td>56250.00</td>\n",
       "      <td>0.00</td>\n",
       "      <td>2002.00</td>\n",
       "      <td>6.00</td>\n",
       "      <td>16.00</td>\n",
       "      <td>2003.00</td>\n",
       "      <td>6.00</td>\n",
       "      <td>31.00</td>\n",
       "      <td>NaN</td>\n",
       "      <td>NaN</td>\n",
       "      <td>11.50</td>\n",
       "      <td>99000.00</td>\n",
       "      <td>NaN</td>\n",
       "      <td>NaN</td>\n",
       "      <td>NaN</td>\n",
       "      <td>NaN</td>\n",
       "      <td>NaN</td>\n",
       "      <td>NaN</td>\n",
       "      <td>NaN</td>\n",
       "      <td>0.00</td>\n",
       "      <td>0.00</td>\n",
       "      <td>0.00</td>\n",
       "      <td>0.00</td>\n",
       "      <td>0.00</td>\n",
       "      <td>0.00</td>\n",
       "      <td>1.73</td>\n",
       "      <td>1.00</td>\n",
       "      <td>2.00</td>\n",
       "      <td>50000.00</td>\n",
       "      <td>57999.50</td>\n",
       "      <td>0.00</td>\n",
       "      <td>36220.00</td>\n",
       "      <td>40000.00</td>\n",
       "      <td>0.00</td>\n",
       "      <td>9.48</td>\n",
       "      <td>9.62</td>\n",
       "      <td>NaN</td>\n",
       "      <td>64.00</td>\n",
       "      <td>42.50</td>\n",
       "      <td>...</td>\n",
       "      <td>NaN</td>\n",
       "      <td>NaN</td>\n",
       "      <td>NaN</td>\n",
       "      <td>NaN</td>\n",
       "      <td>NaN</td>\n",
       "      <td>119191.31</td>\n",
       "      <td>NaN</td>\n",
       "      <td>NaN</td>\n",
       "      <td>-inf</td>\n",
       "      <td>NaN</td>\n",
       "      <td>-inf</td>\n",
       "      <td>-inf</td>\n",
       "      <td>inf</td>\n",
       "      <td>NaN</td>\n",
       "      <td>inf</td>\n",
       "      <td>inf</td>\n",
       "      <td>-inf</td>\n",
       "      <td>NaN</td>\n",
       "      <td>-inf</td>\n",
       "      <td>-inf</td>\n",
       "      <td>NaN</td>\n",
       "      <td>0.00</td>\n",
       "      <td>NaN</td>\n",
       "      <td>1.48</td>\n",
       "      <td>0.03</td>\n",
       "      <td>0.03</td>\n",
       "      <td>3.92</td>\n",
       "      <td>0.06</td>\n",
       "      <td>0.06</td>\n",
       "      <td>258620.69</td>\n",
       "      <td>0.00</td>\n",
       "      <td>258620.69</td>\n",
       "      <td>217391.30</td>\n",
       "      <td>5131.71</td>\n",
       "      <td>0.00</td>\n",
       "      <td>5131.71</td>\n",
       "      <td>4378.76</td>\n",
       "      <td>4443.21</td>\n",
       "      <td>1527.16</td>\n",
       "      <td>35.64</td>\n",
       "      <td>36.57</td>\n",
       "      <td>0.00</td>\n",
       "      <td>0.00</td>\n",
       "      <td>0.00</td>\n",
       "      <td>NaN</td>\n",
       "      <td>NaN</td>\n",
       "      <td>0.00</td>\n",
       "      <td>NaN</td>\n",
       "      <td>NaN</td>\n",
       "      <td>NaN</td>\n",
       "    </tr>\n",
       "    <tr>\n",
       "      <th>75%</th>\n",
       "      <td>120.00</td>\n",
       "      <td>10.00</td>\n",
       "      <td>NaN</td>\n",
       "      <td>1.00</td>\n",
       "      <td>4.00</td>\n",
       "      <td>NaN</td>\n",
       "      <td>NaN</td>\n",
       "      <td>NaN</td>\n",
       "      <td>233132.00</td>\n",
       "      <td>0.00</td>\n",
       "      <td>223000.00</td>\n",
       "      <td>172350.00</td>\n",
       "      <td>0.00</td>\n",
       "      <td>2006.00</td>\n",
       "      <td>9.00</td>\n",
       "      <td>24.00</td>\n",
       "      <td>2006.00</td>\n",
       "      <td>9.00</td>\n",
       "      <td>31.00</td>\n",
       "      <td>NaN</td>\n",
       "      <td>NaN</td>\n",
       "      <td>12.36</td>\n",
       "      <td>233132.00</td>\n",
       "      <td>NaN</td>\n",
       "      <td>NaN</td>\n",
       "      <td>NaN</td>\n",
       "      <td>NaN</td>\n",
       "      <td>NaN</td>\n",
       "      <td>NaN</td>\n",
       "      <td>NaN</td>\n",
       "      <td>3.00</td>\n",
       "      <td>2.00</td>\n",
       "      <td>70000.00</td>\n",
       "      <td>94178.00</td>\n",
       "      <td>0.00</td>\n",
       "      <td>111.97</td>\n",
       "      <td>2.65</td>\n",
       "      <td>2.24</td>\n",
       "      <td>3.16</td>\n",
       "      <td>145000.00</td>\n",
       "      <td>150000.00</td>\n",
       "      <td>0.00</td>\n",
       "      <td>128000.00</td>\n",
       "      <td>130000.00</td>\n",
       "      <td>0.00</td>\n",
       "      <td>10.31</td>\n",
       "      <td>10.40</td>\n",
       "      <td>NaN</td>\n",
       "      <td>91.00</td>\n",
       "      <td>89.00</td>\n",
       "      <td>...</td>\n",
       "      <td>NaN</td>\n",
       "      <td>NaN</td>\n",
       "      <td>NaN</td>\n",
       "      <td>NaN</td>\n",
       "      <td>NaN</td>\n",
       "      <td>139090.07</td>\n",
       "      <td>NaN</td>\n",
       "      <td>NaN</td>\n",
       "      <td>2234864.11</td>\n",
       "      <td>inf</td>\n",
       "      <td>2234864.11</td>\n",
       "      <td>2234876.32</td>\n",
       "      <td>inf</td>\n",
       "      <td>inf</td>\n",
       "      <td>inf</td>\n",
       "      <td>inf</td>\n",
       "      <td>2234864.11</td>\n",
       "      <td>inf</td>\n",
       "      <td>2234864.11</td>\n",
       "      <td>2234876.32</td>\n",
       "      <td>218295.12</td>\n",
       "      <td>0.00</td>\n",
       "      <td>218244.25</td>\n",
       "      <td>2.96</td>\n",
       "      <td>0.03</td>\n",
       "      <td>0.03</td>\n",
       "      <td>5.00</td>\n",
       "      <td>0.12</td>\n",
       "      <td>0.12</td>\n",
       "      <td>756870.92</td>\n",
       "      <td>0.00</td>\n",
       "      <td>756870.92</td>\n",
       "      <td>681818.18</td>\n",
       "      <td>14659.89</td>\n",
       "      <td>0.00</td>\n",
       "      <td>14659.89</td>\n",
       "      <td>13558.25</td>\n",
       "      <td>13819.79</td>\n",
       "      <td>4016.06</td>\n",
       "      <td>74.00</td>\n",
       "      <td>75.96</td>\n",
       "      <td>0.00</td>\n",
       "      <td>0.00</td>\n",
       "      <td>0.00</td>\n",
       "      <td>NaN</td>\n",
       "      <td>NaN</td>\n",
       "      <td>0.00</td>\n",
       "      <td>NaN</td>\n",
       "      <td>NaN</td>\n",
       "      <td>NaN</td>\n",
       "    </tr>\n",
       "    <tr>\n",
       "      <th>max</th>\n",
       "      <td>527.00</td>\n",
       "      <td>9999.00</td>\n",
       "      <td>NaN</td>\n",
       "      <td>8800.00</td>\n",
       "      <td>8800.00</td>\n",
       "      <td>NaN</td>\n",
       "      <td>NaN</td>\n",
       "      <td>NaN</td>\n",
       "      <td>9284449.00</td>\n",
       "      <td>84617.00</td>\n",
       "      <td>5000000.00</td>\n",
       "      <td>5000000.00</td>\n",
       "      <td>1.00</td>\n",
       "      <td>2070.00</td>\n",
       "      <td>12.00</td>\n",
       "      <td>31.00</td>\n",
       "      <td>2070.00</td>\n",
       "      <td>12.00</td>\n",
       "      <td>31.00</td>\n",
       "      <td>NaN</td>\n",
       "      <td>NaN</td>\n",
       "      <td>16.04</td>\n",
       "      <td>9284449.00</td>\n",
       "      <td>NaN</td>\n",
       "      <td>NaN</td>\n",
       "      <td>NaN</td>\n",
       "      <td>NaN</td>\n",
       "      <td>NaN</td>\n",
       "      <td>NaN</td>\n",
       "      <td>NaN</td>\n",
       "      <td>3221.00</td>\n",
       "      <td>1600.00</td>\n",
       "      <td>992250000.00</td>\n",
       "      <td>1764045310.00</td>\n",
       "      <td>345016.00</td>\n",
       "      <td>384000.00</td>\n",
       "      <td>100.00</td>\n",
       "      <td>100.00</td>\n",
       "      <td>100.00</td>\n",
       "      <td>5000000.00</td>\n",
       "      <td>9284449.00</td>\n",
       "      <td>43127.00</td>\n",
       "      <td>5000000.00</td>\n",
       "      <td>5576439.00</td>\n",
       "      <td>84617.00</td>\n",
       "      <td>15.42</td>\n",
       "      <td>15.42</td>\n",
       "      <td>9.94</td>\n",
       "      <td>528.00</td>\n",
       "      <td>528.00</td>\n",
       "      <td>...</td>\n",
       "      <td>inf</td>\n",
       "      <td>inf</td>\n",
       "      <td>inf</td>\n",
       "      <td>inf</td>\n",
       "      <td>inf</td>\n",
       "      <td>160123.33</td>\n",
       "      <td>inf</td>\n",
       "      <td>22.21</td>\n",
       "      <td>inf</td>\n",
       "      <td>inf</td>\n",
       "      <td>inf</td>\n",
       "      <td>inf</td>\n",
       "      <td>inf</td>\n",
       "      <td>inf</td>\n",
       "      <td>inf</td>\n",
       "      <td>inf</td>\n",
       "      <td>inf</td>\n",
       "      <td>inf</td>\n",
       "      <td>inf</td>\n",
       "      <td>inf</td>\n",
       "      <td>inf</td>\n",
       "      <td>148940.60</td>\n",
       "      <td>inf</td>\n",
       "      <td>inf</td>\n",
       "      <td>0.03</td>\n",
       "      <td>inf</td>\n",
       "      <td>inf</td>\n",
       "      <td>800.00</td>\n",
       "      <td>inf</td>\n",
       "      <td>inf</td>\n",
       "      <td>276726.67</td>\n",
       "      <td>inf</td>\n",
       "      <td>inf</td>\n",
       "      <td>344781600.00</td>\n",
       "      <td>1136.30</td>\n",
       "      <td>344781600.00</td>\n",
       "      <td>339000000.00</td>\n",
       "      <td>inf</td>\n",
       "      <td>inf</td>\n",
       "      <td>1500000.00</td>\n",
       "      <td>inf</td>\n",
       "      <td>2767.27</td>\n",
       "      <td>117.83</td>\n",
       "      <td>266.22</td>\n",
       "      <td>inf</td>\n",
       "      <td>inf</td>\n",
       "      <td>41.67</td>\n",
       "      <td>inf</td>\n",
       "      <td>NaN</td>\n",
       "      <td>NaN</td>\n",
       "    </tr>\n",
       "    <tr>\n",
       "      <th>d_type</th>\n",
       "      <td>int64</td>\n",
       "      <td>int64</td>\n",
       "      <td>category</td>\n",
       "      <td>int64</td>\n",
       "      <td>int64</td>\n",
       "      <td>category</td>\n",
       "      <td>category</td>\n",
       "      <td>category</td>\n",
       "      <td>int32</td>\n",
       "      <td>int32</td>\n",
       "      <td>int32</td>\n",
       "      <td>int32</td>\n",
       "      <td>int64</td>\n",
       "      <td>int32</td>\n",
       "      <td>int32</td>\n",
       "      <td>int32</td>\n",
       "      <td>int32</td>\n",
       "      <td>int32</td>\n",
       "      <td>int32</td>\n",
       "      <td>category</td>\n",
       "      <td>category</td>\n",
       "      <td>float64</td>\n",
       "      <td>int32</td>\n",
       "      <td>category</td>\n",
       "      <td>category</td>\n",
       "      <td>category</td>\n",
       "      <td>category</td>\n",
       "      <td>category</td>\n",
       "      <td>category</td>\n",
       "      <td>category</td>\n",
       "      <td>int64</td>\n",
       "      <td>float64</td>\n",
       "      <td>float64</td>\n",
       "      <td>float64</td>\n",
       "      <td>float64</td>\n",
       "      <td>float64</td>\n",
       "      <td>float64</td>\n",
       "      <td>float64</td>\n",
       "      <td>float64</td>\n",
       "      <td>float64</td>\n",
       "      <td>float64</td>\n",
       "      <td>float64</td>\n",
       "      <td>float64</td>\n",
       "      <td>float64</td>\n",
       "      <td>float64</td>\n",
       "      <td>float64</td>\n",
       "      <td>float64</td>\n",
       "      <td>float64</td>\n",
       "      <td>float64</td>\n",
       "      <td>float64</td>\n",
       "      <td>...</td>\n",
       "      <td>float64</td>\n",
       "      <td>float64</td>\n",
       "      <td>float64</td>\n",
       "      <td>float64</td>\n",
       "      <td>float64</td>\n",
       "      <td>float64</td>\n",
       "      <td>float64</td>\n",
       "      <td>float64</td>\n",
       "      <td>float64</td>\n",
       "      <td>float64</td>\n",
       "      <td>float64</td>\n",
       "      <td>float64</td>\n",
       "      <td>float64</td>\n",
       "      <td>float64</td>\n",
       "      <td>float64</td>\n",
       "      <td>float64</td>\n",
       "      <td>float64</td>\n",
       "      <td>float64</td>\n",
       "      <td>float64</td>\n",
       "      <td>float64</td>\n",
       "      <td>float64</td>\n",
       "      <td>float64</td>\n",
       "      <td>float64</td>\n",
       "      <td>float64</td>\n",
       "      <td>float64</td>\n",
       "      <td>float64</td>\n",
       "      <td>float64</td>\n",
       "      <td>float64</td>\n",
       "      <td>float64</td>\n",
       "      <td>float64</td>\n",
       "      <td>float64</td>\n",
       "      <td>float64</td>\n",
       "      <td>float64</td>\n",
       "      <td>float64</td>\n",
       "      <td>float64</td>\n",
       "      <td>float64</td>\n",
       "      <td>float64</td>\n",
       "      <td>float64</td>\n",
       "      <td>float64</td>\n",
       "      <td>float64</td>\n",
       "      <td>float64</td>\n",
       "      <td>float64</td>\n",
       "      <td>float64</td>\n",
       "      <td>float64</td>\n",
       "      <td>float64</td>\n",
       "      <td>float64</td>\n",
       "      <td>float64</td>\n",
       "      <td>float64</td>\n",
       "      <td>category</td>\n",
       "      <td>category</td>\n",
       "    </tr>\n",
       "  </tbody>\n",
       "</table>\n",
       "<p>14 rows × 417 columns</p>\n",
       "</div>"
      ],
      "text/plain": [
       "                 Term Employees  ExistNew CreateJob RetainedJob UrbanRural  \\\n",
       "count       255477.00 255477.00  255477.0 255477.00   255477.00   255477.0   \n",
       "missing          0.00      0.00       0.0      0.00        0.00        0.0   \n",
       "missing_per      0.00      0.00       0.0      0.00        0.00        0.0   \n",
       "unique            NaN       NaN       3.0       NaN         NaN        3.0   \n",
       "top               NaN       NaN       1.0       NaN         NaN        1.0   \n",
       "freq              NaN       NaN  184289.0       NaN         NaN   134448.0   \n",
       "mean           111.43     11.17       NaN      8.56       10.85        NaN   \n",
       "std             79.48     75.02       NaN    239.67      239.85        NaN   \n",
       "min              0.00      0.00       NaN      0.00        0.00        NaN   \n",
       "25%             60.00      2.00       NaN      0.00        0.00        NaN   \n",
       "50%             84.00      4.00       NaN      0.00        1.00        NaN   \n",
       "75%            120.00     10.00       NaN      1.00        4.00        NaN   \n",
       "max            527.00   9999.00       NaN   8800.00     8800.00        NaN   \n",
       "d_type          int64     int64  category     int64       int64   category   \n",
       "\n",
       "            RevLineCr   LowLoan DisbursementGross BalanceGross LoanAmount  \\\n",
       "count        179337.0 253757.00         255477.00    255477.00  255477.00   \n",
       "missing       76140.0   1720.00              0.00         0.00       0.00   \n",
       "missing_per       0.3      0.01              0.00         0.00       0.00   \n",
       "unique            2.0      2.00               NaN          NaN        NaN   \n",
       "top               0.0      0.00               NaN          NaN        NaN   \n",
       "freq         120274.0 221768.00               NaN          NaN        NaN   \n",
       "mean              NaN       NaN         197988.37         0.71  189347.82   \n",
       "std               NaN       NaN         285129.76       206.61  282409.05   \n",
       "min               NaN       NaN           4000.00         0.00    1000.00   \n",
       "25%               NaN       NaN          40000.00         0.00   35000.00   \n",
       "50%               NaN       NaN          99000.00         0.00   85000.00   \n",
       "75%               NaN       NaN         233132.00         0.00  223000.00   \n",
       "max               NaN       NaN        9284449.00     84617.00 5000000.00   \n",
       "d_type       category  category             int32        int32      int32   \n",
       "\n",
       "            GuaranteedLoan LoanStatus Approval_Y Approval_M Approval_D  \\\n",
       "count            255477.00  255477.00  255477.00  255477.00  255477.00   \n",
       "missing               0.00       0.00       0.00       0.00       0.00   \n",
       "missing_per           0.00       0.00       0.00       0.00       0.00   \n",
       "unique                 NaN        NaN        NaN        NaN        NaN   \n",
       "top                    NaN        NaN        NaN        NaN        NaN   \n",
       "freq                   NaN        NaN        NaN        NaN        NaN   \n",
       "mean             146924.24       0.19    2000.97       6.48      16.15   \n",
       "std              227516.87       0.39       5.98       3.37       8.76   \n",
       "min                 500.00       0.00    1971.00       1.00       1.00   \n",
       "25%               20000.00       0.00    1996.00       4.00       9.00   \n",
       "50%               56250.00       0.00    2002.00       6.00      16.00   \n",
       "75%              172350.00       0.00    2006.00       9.00      24.00   \n",
       "max             5000000.00       1.00    2070.00      12.00      31.00   \n",
       "d_type               int32      int64      int32      int32      int32   \n",
       "\n",
       "            DisbursementDate_Y DisbursementDate_M DisbursementDate_D  \\\n",
       "count                255477.00          255477.00          255477.00   \n",
       "missing                   0.00               0.00               0.00   \n",
       "missing_per               0.00               0.00               0.00   \n",
       "unique                     NaN                NaN                NaN   \n",
       "top                        NaN                NaN                NaN   \n",
       "freq                       NaN                NaN                NaN   \n",
       "mean                   2001.26               6.35              27.59   \n",
       "std                       5.90               3.43               7.44   \n",
       "min                    1971.00               1.00               1.00   \n",
       "25%                    1997.00               4.00              30.00   \n",
       "50%                    2003.00               6.00              31.00   \n",
       "75%                    2006.00               9.00              31.00   \n",
       "max                    2070.00              12.00              31.00   \n",
       "d_type                   int32              int32              int32   \n",
       "\n",
       "                State BankState ActualGross_log ActualGross FranchiseCode_A  \\\n",
       "count          255477    255477       255477.00   255477.00          255477   \n",
       "missing             0         0            0.00        0.00               0   \n",
       "missing_per       0.0       0.0            0.00        0.00             0.0   \n",
       "unique             51        54             NaN         NaN              10   \n",
       "top                CA        CA             NaN         NaN               0   \n",
       "freq            37904     33722             NaN         NaN          247075   \n",
       "mean              NaN       NaN           11.46   197989.08             NaN   \n",
       "std               NaN       NaN            1.25   285129.52             NaN   \n",
       "min               NaN       NaN            8.29     4000.00             NaN   \n",
       "25%               NaN       NaN           10.60    40000.00             NaN   \n",
       "50%               NaN       NaN           11.50    99000.00             NaN   \n",
       "75%               NaN       NaN           12.36   233132.00             NaN   \n",
       "max               NaN       NaN           16.04  9284449.00             NaN   \n",
       "d_type       category  category         float64       int32        category   \n",
       "\n",
       "            FranchiseCode_B FranchiseCode_C FranchiseCode_D FranchiseCode_E  \\\n",
       "count                255477          255477          255477          255477   \n",
       "missing                   0               0               0               0   \n",
       "missing_per             0.0             0.0             0.0             0.0   \n",
       "unique                   10              10              10              10   \n",
       "top                       0               0               0               1   \n",
       "freq                 247610          247253          247682          183896   \n",
       "mean                    NaN             NaN             NaN             NaN   \n",
       "std                     NaN             NaN             NaN             NaN   \n",
       "min                     NaN             NaN             NaN             NaN   \n",
       "25%                     NaN             NaN             NaN             NaN   \n",
       "50%                     NaN             NaN             NaN             NaN   \n",
       "75%                     NaN             NaN             NaN             NaN   \n",
       "max                     NaN             NaN             NaN             NaN   \n",
       "d_type             category        category        category        category   \n",
       "\n",
       "            CreateJob_flg RetainedJob_flg Crt-RetJob Crt-RetJob_rate  \\\n",
       "count            255477.0        255477.0  255477.00       255477.00   \n",
       "missing               0.0             0.0       0.00            0.00   \n",
       "missing_per           0.0             0.0       0.00            0.00   \n",
       "unique                2.0             2.0        NaN             NaN   \n",
       "top                   0.0             1.0        NaN             NaN   \n",
       "freq             178554.0        131604.0        NaN             NaN   \n",
       "mean                  NaN             NaN       2.29            2.18   \n",
       "std                   NaN             NaN      18.40            9.18   \n",
       "min                   NaN             NaN   -3069.00           -1.00   \n",
       "25%                   NaN             NaN       0.00            0.00   \n",
       "50%                   NaN             NaN       0.00            0.00   \n",
       "75%                   NaN             NaN       3.00            2.00   \n",
       "max                   NaN             NaN    3221.00         1600.00   \n",
       "d_type           category        category      int64         float64   \n",
       "\n",
       "                CRrate_L      CRrate_D  CRrate_B  CRrate_T   Crt_Emp  \\\n",
       "count          255477.00     255477.00 255477.00 255477.00 255477.00   \n",
       "missing             0.00          0.00      0.00      0.00      0.00   \n",
       "missing_per         0.00          0.00      0.00      0.00      0.00   \n",
       "unique               NaN           NaN       NaN       NaN       NaN   \n",
       "top                  NaN           NaN       NaN       NaN       NaN   \n",
       "freq                 NaN           NaN       NaN       NaN       NaN   \n",
       "mean           676781.16     726627.52      1.14    224.05      2.14   \n",
       "std           7997333.45    8384693.79    699.84   1487.68      1.91   \n",
       "min          -4760000.00   -4760000.00 -75224.51   -326.06      0.00   \n",
       "25%                 0.00          0.00      0.00      0.00      1.00   \n",
       "50%                 0.00          0.00      0.00      0.00      1.73   \n",
       "75%             70000.00      94178.00      0.00    111.97      2.65   \n",
       "max         992250000.00 1764045310.00 345016.00 384000.00    100.00   \n",
       "d_type           float64       float64   float64   float64   float64   \n",
       "\n",
       "              Ret_Emp Crt-Ret_Emp      L_Crt      D_Crt     B_Crt      L_Ret  \\\n",
       "count       255477.00   255472.00  255477.00  255477.00 255477.00  255477.00   \n",
       "missing          0.00        5.00       0.00       0.00      0.00       0.00   \n",
       "missing_per      0.00        0.00       0.00       0.00      0.00       0.00   \n",
       "unique            NaN         NaN        NaN        NaN       NaN        NaN   \n",
       "top               NaN         NaN        NaN        NaN       NaN        NaN   \n",
       "freq              NaN         NaN        NaN        NaN       NaN        NaN   \n",
       "mean             1.82        2.59  136163.83  142230.87      0.34  121820.16   \n",
       "std              1.93        2.09  232914.01  235485.62     99.74  220525.77   \n",
       "min              0.00        0.00       2.05       2.05      0.00       2.05   \n",
       "25%              0.87        1.41   20500.00   25000.00      0.00    9625.00   \n",
       "50%              1.00        2.00   50000.00   57999.50      0.00   36220.00   \n",
       "75%              2.24        3.16  145000.00  150000.00      0.00  128000.00   \n",
       "max            100.00      100.00 5000000.00 9284449.00  43127.00 5000000.00   \n",
       "d_type        float64     float64    float64    float64   float64    float64   \n",
       "\n",
       "                 D_Ret     B_Ret     L_Emp     D_Emp     B_Emp  Crt_Term  \\\n",
       "count        255477.00 255477.00 255477.00 255477.00 255477.00 255477.00   \n",
       "missing           0.00      0.00      0.00      0.00      0.00      0.00   \n",
       "missing_per       0.00      0.00      0.00      0.00      0.00      0.00   \n",
       "unique             NaN       NaN       NaN       NaN       NaN       NaN   \n",
       "top                NaN       NaN       NaN       NaN       NaN       NaN   \n",
       "freq               NaN       NaN       NaN       NaN       NaN       NaN   \n",
       "mean         123406.00      0.45      9.54      9.64      -inf     84.40   \n",
       "std          219720.71    171.76      1.20      1.18       NaN     75.46   \n",
       "min               2.05      0.00      0.54      0.54      -inf      0.00   \n",
       "25%           11871.25      0.00      8.74      8.87       NaN     29.50   \n",
       "50%           40000.00      0.00      9.48      9.62       NaN     64.00   \n",
       "75%          130000.00      0.00     10.31     10.40       NaN     91.00   \n",
       "max         5576439.00  84617.00     15.42     15.42      9.94    528.00   \n",
       "d_type         float64   float64   float64   float64   float64   float64   \n",
       "\n",
       "             Rer_Term  ... f_amount_B^a_rate_AD f_amount_B^a_rate_BD  \\\n",
       "count       255477.00  ...             41985.00             41985.00   \n",
       "missing          0.00  ...            213492.00            213492.00   \n",
       "missing_per      0.00  ...                 0.84                 0.84   \n",
       "unique            NaN  ...                  NaN                  NaN   \n",
       "top               NaN  ...                  NaN                  NaN   \n",
       "freq              NaN  ...                  NaN                  NaN   \n",
       "mean            73.85  ...                  NaN                  NaN   \n",
       "std             80.95  ...                  NaN                  NaN   \n",
       "min              0.00  ...                 -inf                 -inf   \n",
       "25%             14.17  ...                  NaN                  NaN   \n",
       "50%             42.50  ...                  NaN                  NaN   \n",
       "75%             89.00  ...                  NaN                  NaN   \n",
       "max            528.00  ...                  inf                  inf   \n",
       "d_type        float64  ...              float64              float64   \n",
       "\n",
       "            f_amount_B^a_rate_DD f_amount_B^a_rate_LD f_amount_B^b_rate_A  \\\n",
       "count                   41985.00             41985.00            61425.00   \n",
       "missing                213492.00            213492.00           194052.00   \n",
       "missing_per                 0.84                 0.84                0.76   \n",
       "unique                       NaN                  NaN                 NaN   \n",
       "top                          NaN                  NaN                 NaN   \n",
       "freq                         NaN                  NaN                 NaN   \n",
       "mean                         NaN                  NaN                 NaN   \n",
       "std                          NaN                  NaN                 NaN   \n",
       "min                         -inf                 -inf                -inf   \n",
       "25%                          NaN                  NaN                 NaN   \n",
       "50%                          NaN                  NaN                 NaN   \n",
       "75%                          NaN                  NaN                 NaN   \n",
       "max                          inf                  inf                 inf   \n",
       "d_type                   float64              float64             float64   \n",
       "\n",
       "            f_amount_B^b_rate_B f_amount_B^b_rate_D f_amount_D  \\\n",
       "count                      4.00            61425.00  255477.00   \n",
       "missing               255473.00           194052.00       0.00   \n",
       "missing_per                1.00                0.76       0.00   \n",
       "unique                      NaN                 NaN        NaN   \n",
       "top                         NaN                 NaN        NaN   \n",
       "freq                        NaN                 NaN        NaN   \n",
       "mean                  121588.34                 NaN       -inf   \n",
       "std                    31448.75                 NaN        NaN   \n",
       "min                    87847.40                -inf       -inf   \n",
       "25%                   101689.57                 NaN        NaN   \n",
       "50%                   119191.31                 NaN        NaN   \n",
       "75%                   139090.07                 NaN        NaN   \n",
       "max                   160123.33                 inf      22.21   \n",
       "d_type                  float64             float64    float64   \n",
       "\n",
       "            f_amount_D^a_rate_AA f_amount_D^a_rate_BA f_amount_D^a_rate_DA  \\\n",
       "count                  212000.00            192559.00            212000.00   \n",
       "missing                 43477.00             62918.00             43477.00   \n",
       "missing_per                 0.17                 0.25                 0.17   \n",
       "unique                       NaN                  NaN                  NaN   \n",
       "top                          NaN                  NaN                  NaN   \n",
       "freq                         NaN                  NaN                  NaN   \n",
       "mean                         NaN                  NaN                  NaN   \n",
       "std                          NaN                  NaN                  NaN   \n",
       "min                         -inf                 -inf                 -inf   \n",
       "25%                         -inf                 -inf                 -inf   \n",
       "50%                         -inf                  NaN                 -inf   \n",
       "75%                   2234864.11                  inf           2234864.11   \n",
       "max                          inf                  inf                  inf   \n",
       "d_type                   float64              float64              float64   \n",
       "\n",
       "            f_amount_D^a_rate_LA f_amount_D^a_rate_AB f_amount_D^a_rate_BB  \\\n",
       "count                  212000.00            212000.00            192559.00   \n",
       "missing                 43477.00             43477.00             62918.00   \n",
       "missing_per                 0.17                 0.17                 0.25   \n",
       "unique                       NaN                  NaN                  NaN   \n",
       "top                          NaN                  NaN                  NaN   \n",
       "freq                         NaN                  NaN                  NaN   \n",
       "mean                         NaN                  NaN                  NaN   \n",
       "std                          NaN                  NaN                  NaN   \n",
       "min                         -inf                 -inf                 -inf   \n",
       "25%                         -inf              -159.78                 -inf   \n",
       "50%                         -inf                  inf                  NaN   \n",
       "75%                   2234876.32                  inf                  inf   \n",
       "max                          inf                  inf                  inf   \n",
       "d_type                   float64              float64              float64   \n",
       "\n",
       "            f_amount_D^a_rate_DB f_amount_D^a_rate_LB f_amount_D^a_rate_AD  \\\n",
       "count                  212000.00            212000.00            212000.00   \n",
       "missing                 43477.00             43477.00             43477.00   \n",
       "missing_per                 0.17                 0.17                 0.17   \n",
       "unique                       NaN                  NaN                  NaN   \n",
       "top                          NaN                  NaN                  NaN   \n",
       "freq                         NaN                  NaN                  NaN   \n",
       "mean                         NaN                  NaN                  NaN   \n",
       "std                          NaN                  NaN                  NaN   \n",
       "min                         -inf                 -inf                 -inf   \n",
       "25%                      -159.78              -150.56                 -inf   \n",
       "50%                          inf                  inf                 -inf   \n",
       "75%                          inf                  inf           2234864.11   \n",
       "max                          inf                  inf                  inf   \n",
       "d_type                   float64              float64              float64   \n",
       "\n",
       "            f_amount_D^a_rate_BD f_amount_D^a_rate_DD f_amount_D^a_rate_LD  \\\n",
       "count                  192559.00            212000.00            212000.00   \n",
       "missing                 62918.00             43477.00             43477.00   \n",
       "missing_per                 0.25                 0.17                 0.17   \n",
       "unique                       NaN                  NaN                  NaN   \n",
       "top                          NaN                  NaN                  NaN   \n",
       "freq                         NaN                  NaN                  NaN   \n",
       "mean                         NaN                  NaN                  NaN   \n",
       "std                          NaN                  NaN                  NaN   \n",
       "min                         -inf                 -inf                 -inf   \n",
       "25%                         -inf                 -inf                 -inf   \n",
       "50%                          NaN                 -inf                 -inf   \n",
       "75%                          inf           2234864.11           2234876.32   \n",
       "max                          inf                  inf                  inf   \n",
       "d_type                   float64              float64              float64   \n",
       "\n",
       "            f_amount_D^b_rate_A f_amount_D^b_rate_B f_amount_D^b_rate_D  \\\n",
       "count                 255477.00            61425.00           255477.00   \n",
       "missing                    0.00           194052.00                0.00   \n",
       "missing_per                0.00                0.76                0.00   \n",
       "unique                      NaN                 NaN                 NaN   \n",
       "top                         NaN                 NaN                 NaN   \n",
       "freq                        NaN                 NaN                 NaN   \n",
       "mean                        NaN                7.68                 NaN   \n",
       "std                         NaN              971.74                 NaN   \n",
       "min                        -inf                0.00                -inf   \n",
       "25%                         NaN                0.00                 NaN   \n",
       "50%                         NaN                0.00                 NaN   \n",
       "75%                   218295.12                0.00           218244.25   \n",
       "max                         inf           148940.60                 inf   \n",
       "d_type                  float64             float64             float64   \n",
       "\n",
       "            Term_AP-Dis Term_Ap-End Term_End-Dis h_rate_AD h_rate_AE  \\\n",
       "count         255477.00   255477.00    255477.00 255464.00 255477.00   \n",
       "missing            0.00        0.00         0.00     13.00      0.00   \n",
       "missing_per        0.00        0.00         0.00      0.00      0.00   \n",
       "unique              NaN         NaN          NaN       NaN       NaN   \n",
       "top                 NaN         NaN          NaN       NaN       NaN   \n",
       "freq                NaN         NaN          NaN       NaN       NaN   \n",
       "mean                inf        0.03          inf       inf      0.15   \n",
       "std                 NaN        0.00          NaN       NaN     10.76   \n",
       "min             -300.00        0.00       -18.00   -500.00  -1000.00   \n",
       "25%                0.70        0.03         0.03      3.28      0.03   \n",
       "50%                1.48        0.03         0.03      3.92      0.06   \n",
       "75%                2.96        0.03         0.03      5.00      0.12   \n",
       "max                 inf        0.03          inf       inf    800.00   \n",
       "d_type          float64     float64      float64   float64   float64   \n",
       "\n",
       "            h_rate_ED    h_rate_AD_A h_rate_AD_B    h_rate_AD_D  \\\n",
       "count       255477.00      255464.00   255420.00      255464.00   \n",
       "missing          0.00          13.00       57.00          13.00   \n",
       "missing_per      0.00           0.00        0.00           0.00   \n",
       "unique            NaN            NaN         NaN            NaN   \n",
       "top               NaN            NaN         NaN            NaN   \n",
       "freq              NaN            NaN         NaN            NaN   \n",
       "mean              NaN            inf       -6.78            inf   \n",
       "std               NaN            NaN     3311.69            NaN   \n",
       "min              -inf -1125000000.00 -1620325.53 -1125000000.00   \n",
       "25%              0.03       52631.58        0.00       52631.58   \n",
       "50%              0.06      258620.69        0.00      258620.69   \n",
       "75%              0.12      756870.92        0.00      756870.92   \n",
       "max               inf            inf   276726.67            inf   \n",
       "d_type        float64        float64     float64        float64   \n",
       "\n",
       "               h_rate_AD_L   h_rate_AE_A h_rate_AE_B   h_rate_AE_D  \\\n",
       "count            255464.00     255477.00   255477.00     255477.00   \n",
       "missing              13.00          0.00        0.00          0.00   \n",
       "missing_per           0.00          0.00        0.00          0.00   \n",
       "unique                 NaN           NaN         NaN           NaN   \n",
       "top                    NaN           NaN         NaN           NaN   \n",
       "freq                   NaN           NaN         NaN           NaN   \n",
       "mean                   inf      17891.50       -0.36      17891.87   \n",
       "std                    NaN    2104596.48      124.91    2104596.46   \n",
       "min         -1125000000.00 -400569000.00   -47133.33 -400569000.00   \n",
       "25%               45454.55        938.09        0.00        938.09   \n",
       "50%              217391.30       5131.71        0.00       5131.71   \n",
       "75%              681818.18      14659.89        0.00      14659.89   \n",
       "max                    inf  344781600.00     1136.30  344781600.00   \n",
       "d_type             float64       float64     float64       float64   \n",
       "\n",
       "              h_rate_AE_L h_rate_ED_A   DG_Ap-Dis  DG_Ap-End DG_End-Dis  \\\n",
       "count           255477.00   255477.00   255477.00  255477.00  255477.00   \n",
       "missing              0.00        0.00        0.00       0.00       0.00   \n",
       "missing_per          0.00        0.00        0.00       0.00       0.00   \n",
       "unique                NaN         NaN         NaN        NaN        NaN   \n",
       "top                   NaN         NaN         NaN        NaN        NaN   \n",
       "freq                  NaN         NaN         NaN        NaN        NaN   \n",
       "mean             13729.67         NaN         inf     206.73        inf   \n",
       "std            1787060.09         NaN         NaN    6379.45        NaN   \n",
       "min         -360000000.00        -inf -1967200.00       0.54 -935000.00   \n",
       "25%                781.86      791.45      625.00      17.79      18.03   \n",
       "50%               4378.76     4443.21     1527.16      35.64      36.57   \n",
       "75%              13558.25    13819.79     4016.06      74.00      75.96   \n",
       "max          339000000.00         inf         inf 1500000.00        inf   \n",
       "d_type            float64     float64     float64    float64    float64   \n",
       "\n",
       "            BG_Ap-Dis BG_Ap-End BG_End-Dis    i_rate i_rate_A  i_rate_B  \\\n",
       "count       255420.00 255477.00  255461.00 255477.00 255477.0  61425.00   \n",
       "missing         57.00      0.00      16.00      0.00      0.0 194052.00   \n",
       "missing_per      0.00      0.00       0.00      0.00      0.0      0.76   \n",
       "unique            NaN       NaN        NaN       NaN      NaN       NaN   \n",
       "top               NaN       NaN        NaN       NaN      NaN       NaN   \n",
       "freq              NaN       NaN        NaN       NaN      NaN       NaN   \n",
       "mean             0.02      0.00       0.00       NaN      NaN     -0.00   \n",
       "std              6.57      0.25       0.54       NaN      NaN      0.51   \n",
       "min              0.00      0.00       0.00      -inf     -inf   -115.25   \n",
       "25%              0.00      0.00       0.00    -23.68    -30.9     -0.00   \n",
       "50%              0.00      0.00       0.00       NaN      NaN      0.00   \n",
       "75%              0.00      0.00       0.00       NaN      NaN      0.00   \n",
       "max           2767.27    117.83     266.22       inf      inf     41.67   \n",
       "d_type        float64   float64    float64   float64  float64   float64   \n",
       "\n",
       "             i_rate_D    Bank_flg     City_flg  \n",
       "count       255477.00      215970        77064  \n",
       "missing          0.00       39507       178413  \n",
       "missing_per      0.00        0.15          0.7  \n",
       "unique            NaN         911          130  \n",
       "top               NaN  kcjyktbecc  LOS ANGELES  \n",
       "freq              NaN       26362         3489  \n",
       "mean              NaN         NaN          NaN  \n",
       "std               NaN         NaN          NaN  \n",
       "min              -inf         NaN          NaN  \n",
       "25%            -30.92         NaN          NaN  \n",
       "50%               NaN         NaN          NaN  \n",
       "75%               NaN         NaN          NaN  \n",
       "max               inf         NaN          NaN  \n",
       "d_type        float64    category     category  \n",
       "\n",
       "[14 rows x 417 columns]"
      ]
     },
     "execution_count": 198,
     "metadata": {},
     "output_type": "execute_result"
    }
   ],
   "source": [
    "d_.d(data)"
   ]
  },
  {
   "cell_type": "code",
   "execution_count": 199,
   "metadata": {
    "execution": {
     "iopub.execute_input": "2021-02-12T10:54:54.744555Z",
     "iopub.status.busy": "2021-02-12T10:54:54.744555Z",
     "iopub.status.idle": "2021-02-12T10:54:54.747558Z",
     "shell.execute_reply": "2021-02-12T10:54:54.747558Z",
     "shell.execute_reply.started": "2021-02-12T10:54:54.744555Z"
    }
   },
   "outputs": [
    {
     "data": {
      "text/plain": [
       "(255477, 417)"
      ]
     },
     "execution_count": 199,
     "metadata": {},
     "output_type": "execute_result"
    }
   ],
   "source": [
    "data.shape"
   ]
  },
  {
   "cell_type": "code",
   "execution_count": 200,
   "metadata": {
    "execution": {
     "iopub.execute_input": "2021-02-12T10:54:54.748559Z",
     "iopub.status.busy": "2021-02-12T10:54:54.747558Z",
     "iopub.status.idle": "2021-02-12T10:54:56.682316Z",
     "shell.execute_reply": "2021-02-12T10:54:56.682316Z",
     "shell.execute_reply.started": "2021-02-12T10:54:54.748559Z"
    }
   },
   "outputs": [],
   "source": [
    "# ダミー変数化\n",
    "df_dummy=pd.get_dummies(data[l_cat], dummy_na=True,prefix=l_cat,prefix_sep='_',drop_first=True)"
   ]
  },
  {
   "cell_type": "code",
   "execution_count": 201,
   "metadata": {
    "execution": {
     "iopub.execute_input": "2021-02-12T10:54:56.683317Z",
     "iopub.status.busy": "2021-02-12T10:54:56.683317Z",
     "iopub.status.idle": "2021-02-12T10:54:56.686320Z",
     "shell.execute_reply": "2021-02-12T10:54:56.686320Z",
     "shell.execute_reply.started": "2021-02-12T10:54:56.683317Z"
    }
   },
   "outputs": [
    {
     "data": {
      "text/plain": [
       "array(['State_AL', 'State_AR', 'State_AZ', ...,\n",
       "       'NICS_IndustryGroups_9261', 'NICS_IndustryGroups_9281',\n",
       "       'NICS_IndustryGroups_nan'], dtype=object)"
      ]
     },
     "execution_count": 201,
     "metadata": {},
     "output_type": "execute_result"
    }
   ],
   "source": [
    "df_dummy.columns.values"
   ]
  },
  {
   "cell_type": "code",
   "execution_count": 202,
   "metadata": {
    "execution": {
     "iopub.execute_input": "2021-02-12T10:54:56.694327Z",
     "iopub.status.busy": "2021-02-12T10:54:56.693327Z",
     "iopub.status.idle": "2021-02-12T10:54:56.952562Z",
     "shell.execute_reply": "2021-02-12T10:54:56.952562Z",
     "shell.execute_reply.started": "2021-02-12T10:54:56.694327Z"
    }
   },
   "outputs": [],
   "source": [
    "# ダミー化済列削除\n",
    "data=data.drop(l_cat,axis=1)"
   ]
  },
  {
   "cell_type": "code",
   "execution_count": 203,
   "metadata": {
    "execution": {
     "iopub.execute_input": "2021-02-12T10:54:56.953563Z",
     "iopub.status.busy": "2021-02-12T10:54:56.953563Z",
     "iopub.status.idle": "2021-02-12T10:54:57.325901Z",
     "shell.execute_reply": "2021-02-12T10:54:57.325901Z",
     "shell.execute_reply.started": "2021-02-12T10:54:56.953563Z"
    }
   },
   "outputs": [
    {
     "data": {
      "text/html": [
       "<div>\n",
       "<style scoped>\n",
       "    .dataframe tbody tr th:only-of-type {\n",
       "        vertical-align: middle;\n",
       "    }\n",
       "\n",
       "    .dataframe tbody tr th {\n",
       "        vertical-align: top;\n",
       "    }\n",
       "\n",
       "    .dataframe thead th {\n",
       "        text-align: right;\n",
       "    }\n",
       "</style>\n",
       "<table border=\"1\" class=\"dataframe\">\n",
       "  <thead>\n",
       "    <tr style=\"text-align: right;\">\n",
       "      <th></th>\n",
       "      <th>Term</th>\n",
       "      <th>Employees</th>\n",
       "      <th>CreateJob</th>\n",
       "      <th>RetainedJob</th>\n",
       "      <th>DisbursementGross</th>\n",
       "      <th>BalanceGross</th>\n",
       "      <th>LoanAmount</th>\n",
       "      <th>GuaranteedLoan</th>\n",
       "      <th>LoanStatus</th>\n",
       "      <th>Approval_Y</th>\n",
       "      <th>Approval_M</th>\n",
       "      <th>Approval_D</th>\n",
       "      <th>DisbursementDate_Y</th>\n",
       "      <th>DisbursementDate_M</th>\n",
       "      <th>DisbursementDate_D</th>\n",
       "      <th>ActualGross_log</th>\n",
       "      <th>ActualGross</th>\n",
       "      <th>Crt-RetJob</th>\n",
       "      <th>Crt-RetJob_rate</th>\n",
       "      <th>CRrate_L</th>\n",
       "      <th>CRrate_D</th>\n",
       "      <th>CRrate_B</th>\n",
       "      <th>CRrate_T</th>\n",
       "      <th>Crt_Emp</th>\n",
       "      <th>Ret_Emp</th>\n",
       "      <th>Crt-Ret_Emp</th>\n",
       "      <th>L_Crt</th>\n",
       "      <th>D_Crt</th>\n",
       "      <th>B_Crt</th>\n",
       "      <th>L_Ret</th>\n",
       "      <th>D_Ret</th>\n",
       "      <th>B_Ret</th>\n",
       "      <th>L_Emp</th>\n",
       "      <th>D_Emp</th>\n",
       "      <th>B_Emp</th>\n",
       "      <th>Crt_Term</th>\n",
       "      <th>Rer_Term</th>\n",
       "      <th>Emp_Term</th>\n",
       "      <th>L_Term_Crt</th>\n",
       "      <th>D_Term_Crt</th>\n",
       "      <th>B_Term_Crt</th>\n",
       "      <th>L_Term_Ret</th>\n",
       "      <th>D_Term_Ret</th>\n",
       "      <th>B_Term_Ret</th>\n",
       "      <th>L_Term_Emp</th>\n",
       "      <th>D_Term_Emp</th>\n",
       "      <th>B_Term_Emp</th>\n",
       "      <th>Term_264</th>\n",
       "      <th>Term_252</th>\n",
       "      <th>Term_240</th>\n",
       "      <th>...</th>\n",
       "      <th>f_amount_B^a_rate_DB</th>\n",
       "      <th>f_amount_B^a_rate_LB</th>\n",
       "      <th>f_amount_B^a_rate_AD</th>\n",
       "      <th>f_amount_B^a_rate_BD</th>\n",
       "      <th>f_amount_B^a_rate_DD</th>\n",
       "      <th>f_amount_B^a_rate_LD</th>\n",
       "      <th>f_amount_B^b_rate_A</th>\n",
       "      <th>f_amount_B^b_rate_B</th>\n",
       "      <th>f_amount_B^b_rate_D</th>\n",
       "      <th>f_amount_D</th>\n",
       "      <th>f_amount_D^a_rate_AA</th>\n",
       "      <th>f_amount_D^a_rate_BA</th>\n",
       "      <th>f_amount_D^a_rate_DA</th>\n",
       "      <th>f_amount_D^a_rate_LA</th>\n",
       "      <th>f_amount_D^a_rate_AB</th>\n",
       "      <th>f_amount_D^a_rate_BB</th>\n",
       "      <th>f_amount_D^a_rate_DB</th>\n",
       "      <th>f_amount_D^a_rate_LB</th>\n",
       "      <th>f_amount_D^a_rate_AD</th>\n",
       "      <th>f_amount_D^a_rate_BD</th>\n",
       "      <th>f_amount_D^a_rate_DD</th>\n",
       "      <th>f_amount_D^a_rate_LD</th>\n",
       "      <th>f_amount_D^b_rate_A</th>\n",
       "      <th>f_amount_D^b_rate_B</th>\n",
       "      <th>f_amount_D^b_rate_D</th>\n",
       "      <th>Term_AP-Dis</th>\n",
       "      <th>Term_Ap-End</th>\n",
       "      <th>Term_End-Dis</th>\n",
       "      <th>h_rate_AD</th>\n",
       "      <th>h_rate_AE</th>\n",
       "      <th>h_rate_ED</th>\n",
       "      <th>h_rate_AD_A</th>\n",
       "      <th>h_rate_AD_B</th>\n",
       "      <th>h_rate_AD_D</th>\n",
       "      <th>h_rate_AD_L</th>\n",
       "      <th>h_rate_AE_A</th>\n",
       "      <th>h_rate_AE_B</th>\n",
       "      <th>h_rate_AE_D</th>\n",
       "      <th>h_rate_AE_L</th>\n",
       "      <th>h_rate_ED_A</th>\n",
       "      <th>DG_Ap-Dis</th>\n",
       "      <th>DG_Ap-End</th>\n",
       "      <th>DG_End-Dis</th>\n",
       "      <th>BG_Ap-Dis</th>\n",
       "      <th>BG_Ap-End</th>\n",
       "      <th>BG_End-Dis</th>\n",
       "      <th>i_rate</th>\n",
       "      <th>i_rate_A</th>\n",
       "      <th>i_rate_B</th>\n",
       "      <th>i_rate_D</th>\n",
       "    </tr>\n",
       "    <tr>\n",
       "      <th>ID</th>\n",
       "      <th></th>\n",
       "      <th></th>\n",
       "      <th></th>\n",
       "      <th></th>\n",
       "      <th></th>\n",
       "      <th></th>\n",
       "      <th></th>\n",
       "      <th></th>\n",
       "      <th></th>\n",
       "      <th></th>\n",
       "      <th></th>\n",
       "      <th></th>\n",
       "      <th></th>\n",
       "      <th></th>\n",
       "      <th></th>\n",
       "      <th></th>\n",
       "      <th></th>\n",
       "      <th></th>\n",
       "      <th></th>\n",
       "      <th></th>\n",
       "      <th></th>\n",
       "      <th></th>\n",
       "      <th></th>\n",
       "      <th></th>\n",
       "      <th></th>\n",
       "      <th></th>\n",
       "      <th></th>\n",
       "      <th></th>\n",
       "      <th></th>\n",
       "      <th></th>\n",
       "      <th></th>\n",
       "      <th></th>\n",
       "      <th></th>\n",
       "      <th></th>\n",
       "      <th></th>\n",
       "      <th></th>\n",
       "      <th></th>\n",
       "      <th></th>\n",
       "      <th></th>\n",
       "      <th></th>\n",
       "      <th></th>\n",
       "      <th></th>\n",
       "      <th></th>\n",
       "      <th></th>\n",
       "      <th></th>\n",
       "      <th></th>\n",
       "      <th></th>\n",
       "      <th></th>\n",
       "      <th></th>\n",
       "      <th></th>\n",
       "      <th></th>\n",
       "      <th></th>\n",
       "      <th></th>\n",
       "      <th></th>\n",
       "      <th></th>\n",
       "      <th></th>\n",
       "      <th></th>\n",
       "      <th></th>\n",
       "      <th></th>\n",
       "      <th></th>\n",
       "      <th></th>\n",
       "      <th></th>\n",
       "      <th></th>\n",
       "      <th></th>\n",
       "      <th></th>\n",
       "      <th></th>\n",
       "      <th></th>\n",
       "      <th></th>\n",
       "      <th></th>\n",
       "      <th></th>\n",
       "      <th></th>\n",
       "      <th></th>\n",
       "      <th></th>\n",
       "      <th></th>\n",
       "      <th></th>\n",
       "      <th></th>\n",
       "      <th></th>\n",
       "      <th></th>\n",
       "      <th></th>\n",
       "      <th></th>\n",
       "      <th></th>\n",
       "      <th></th>\n",
       "      <th></th>\n",
       "      <th></th>\n",
       "      <th></th>\n",
       "      <th></th>\n",
       "      <th></th>\n",
       "      <th></th>\n",
       "      <th></th>\n",
       "      <th></th>\n",
       "      <th></th>\n",
       "      <th></th>\n",
       "      <th></th>\n",
       "      <th></th>\n",
       "      <th></th>\n",
       "      <th></th>\n",
       "      <th></th>\n",
       "      <th></th>\n",
       "      <th></th>\n",
       "      <th></th>\n",
       "      <th></th>\n",
       "    </tr>\n",
       "  </thead>\n",
       "  <tbody>\n",
       "    <tr>\n",
       "      <th>9568103009</th>\n",
       "      <td>84</td>\n",
       "      <td>6</td>\n",
       "      <td>0</td>\n",
       "      <td>0</td>\n",
       "      <td>100000</td>\n",
       "      <td>0</td>\n",
       "      <td>100000</td>\n",
       "      <td>50000</td>\n",
       "      <td>0</td>\n",
       "      <td>1996</td>\n",
       "      <td>9</td>\n",
       "      <td>23</td>\n",
       "      <td>1996</td>\n",
       "      <td>12</td>\n",
       "      <td>31</td>\n",
       "      <td>11.51</td>\n",
       "      <td>100000</td>\n",
       "      <td>0</td>\n",
       "      <td>0.00</td>\n",
       "      <td>0.00</td>\n",
       "      <td>0.00</td>\n",
       "      <td>0.00</td>\n",
       "      <td>0.00</td>\n",
       "      <td>2.45</td>\n",
       "      <td>2.45</td>\n",
       "      <td>2.45</td>\n",
       "      <td>100000.00</td>\n",
       "      <td>100000.00</td>\n",
       "      <td>0.00</td>\n",
       "      <td>100000.00</td>\n",
       "      <td>100000.00</td>\n",
       "      <td>0.00</td>\n",
       "      <td>9.57</td>\n",
       "      <td>9.57</td>\n",
       "      <td>-inf</td>\n",
       "      <td>85.00</td>\n",
       "      <td>85.00</td>\n",
       "      <td>12.14</td>\n",
       "      <td>7.07</td>\n",
       "      <td>7.07</td>\n",
       "      <td>-inf</td>\n",
       "      <td>7.07</td>\n",
       "      <td>7.07</td>\n",
       "      <td>-inf</td>\n",
       "      <td>5.12</td>\n",
       "      <td>5.12</td>\n",
       "      <td>-inf</td>\n",
       "      <td>84</td>\n",
       "      <td>84</td>\n",
       "      <td>84</td>\n",
       "      <td>...</td>\n",
       "      <td>NaN</td>\n",
       "      <td>NaN</td>\n",
       "      <td>NaN</td>\n",
       "      <td>NaN</td>\n",
       "      <td>NaN</td>\n",
       "      <td>NaN</td>\n",
       "      <td>NaN</td>\n",
       "      <td>NaN</td>\n",
       "      <td>NaN</td>\n",
       "      <td>-inf</td>\n",
       "      <td>-inf</td>\n",
       "      <td>-inf</td>\n",
       "      <td>-inf</td>\n",
       "      <td>-inf</td>\n",
       "      <td>inf</td>\n",
       "      <td>-inf</td>\n",
       "      <td>inf</td>\n",
       "      <td>inf</td>\n",
       "      <td>-inf</td>\n",
       "      <td>-inf</td>\n",
       "      <td>-inf</td>\n",
       "      <td>-inf</td>\n",
       "      <td>-inf</td>\n",
       "      <td>NaN</td>\n",
       "      <td>-inf</td>\n",
       "      <td>0.84</td>\n",
       "      <td>0.03</td>\n",
       "      <td>0.03</td>\n",
       "      <td>4.00</td>\n",
       "      <td>0.16</td>\n",
       "      <td>0.16</td>\n",
       "      <td>400000.00</td>\n",
       "      <td>0.00</td>\n",
       "      <td>400000.00</td>\n",
       "      <td>400000.00</td>\n",
       "      <td>15643.33</td>\n",
       "      <td>0.00</td>\n",
       "      <td>15643.33</td>\n",
       "      <td>15643.33</td>\n",
       "      <td>16273.39</td>\n",
       "      <td>1000.00</td>\n",
       "      <td>39.11</td>\n",
       "      <td>40.68</td>\n",
       "      <td>0.00</td>\n",
       "      <td>0.00</td>\n",
       "      <td>0.00</td>\n",
       "      <td>inf</td>\n",
       "      <td>inf</td>\n",
       "      <td>NaN</td>\n",
       "      <td>inf</td>\n",
       "    </tr>\n",
       "    <tr>\n",
       "      <th>7208134000</th>\n",
       "      <td>26</td>\n",
       "      <td>1</td>\n",
       "      <td>0</td>\n",
       "      <td>1</td>\n",
       "      <td>47719</td>\n",
       "      <td>0</td>\n",
       "      <td>35000</td>\n",
       "      <td>17500</td>\n",
       "      <td>0</td>\n",
       "      <td>2004</td>\n",
       "      <td>2</td>\n",
       "      <td>24</td>\n",
       "      <td>2004</td>\n",
       "      <td>3</td>\n",
       "      <td>31</td>\n",
       "      <td>10.77</td>\n",
       "      <td>47719</td>\n",
       "      <td>1</td>\n",
       "      <td>1.00</td>\n",
       "      <td>35000.00</td>\n",
       "      <td>47719.00</td>\n",
       "      <td>0.00</td>\n",
       "      <td>26.00</td>\n",
       "      <td>1.00</td>\n",
       "      <td>0.71</td>\n",
       "      <td>1.00</td>\n",
       "      <td>35000.00</td>\n",
       "      <td>47719.00</td>\n",
       "      <td>0.00</td>\n",
       "      <td>17500.00</td>\n",
       "      <td>23859.50</td>\n",
       "      <td>0.00</td>\n",
       "      <td>9.77</td>\n",
       "      <td>10.08</td>\n",
       "      <td>-inf</td>\n",
       "      <td>27.00</td>\n",
       "      <td>13.50</td>\n",
       "      <td>13.50</td>\n",
       "      <td>7.17</td>\n",
       "      <td>7.48</td>\n",
       "      <td>-inf</td>\n",
       "      <td>6.47</td>\n",
       "      <td>6.78</td>\n",
       "      <td>-inf</td>\n",
       "      <td>6.47</td>\n",
       "      <td>6.78</td>\n",
       "      <td>-inf</td>\n",
       "      <td>26</td>\n",
       "      <td>26</td>\n",
       "      <td>26</td>\n",
       "      <td>...</td>\n",
       "      <td>-inf</td>\n",
       "      <td>-inf</td>\n",
       "      <td>inf</td>\n",
       "      <td>inf</td>\n",
       "      <td>inf</td>\n",
       "      <td>inf</td>\n",
       "      <td>inf</td>\n",
       "      <td>NaN</td>\n",
       "      <td>inf</td>\n",
       "      <td>12.73</td>\n",
       "      <td>607548.51</td>\n",
       "      <td>inf</td>\n",
       "      <td>607548.51</td>\n",
       "      <td>607552.46</td>\n",
       "      <td>-95.69</td>\n",
       "      <td>inf</td>\n",
       "      <td>-95.69</td>\n",
       "      <td>-91.75</td>\n",
       "      <td>607548.51</td>\n",
       "      <td>inf</td>\n",
       "      <td>607548.51</td>\n",
       "      <td>607552.46</td>\n",
       "      <td>173612.63</td>\n",
       "      <td>0.00</td>\n",
       "      <td>173612.63</td>\n",
       "      <td>0.70</td>\n",
       "      <td>0.03</td>\n",
       "      <td>0.03</td>\n",
       "      <td>5.41</td>\n",
       "      <td>0.25</td>\n",
       "      <td>0.26</td>\n",
       "      <td>257940.54</td>\n",
       "      <td>0.00</td>\n",
       "      <td>257940.54</td>\n",
       "      <td>189189.19</td>\n",
       "      <td>12065.49</td>\n",
       "      <td>0.00</td>\n",
       "      <td>12065.49</td>\n",
       "      <td>8849.56</td>\n",
       "      <td>9271.52</td>\n",
       "      <td>1289.70</td>\n",
       "      <td>60.33</td>\n",
       "      <td>63.20</td>\n",
       "      <td>0.00</td>\n",
       "      <td>0.00</td>\n",
       "      <td>0.00</td>\n",
       "      <td>-10.58</td>\n",
       "      <td>-14.43</td>\n",
       "      <td>-0.00</td>\n",
       "      <td>-14.43</td>\n",
       "    </tr>\n",
       "    <tr>\n",
       "      <th>8283143001</th>\n",
       "      <td>180</td>\n",
       "      <td>2</td>\n",
       "      <td>0</td>\n",
       "      <td>0</td>\n",
       "      <td>110000</td>\n",
       "      <td>0</td>\n",
       "      <td>110000</td>\n",
       "      <td>82500</td>\n",
       "      <td>0</td>\n",
       "      <td>1995</td>\n",
       "      <td>4</td>\n",
       "      <td>21</td>\n",
       "      <td>1995</td>\n",
       "      <td>7</td>\n",
       "      <td>31</td>\n",
       "      <td>11.61</td>\n",
       "      <td>110000</td>\n",
       "      <td>0</td>\n",
       "      <td>0.00</td>\n",
       "      <td>0.00</td>\n",
       "      <td>0.00</td>\n",
       "      <td>0.00</td>\n",
       "      <td>0.00</td>\n",
       "      <td>1.41</td>\n",
       "      <td>1.41</td>\n",
       "      <td>1.41</td>\n",
       "      <td>110000.00</td>\n",
       "      <td>110000.00</td>\n",
       "      <td>0.00</td>\n",
       "      <td>110000.00</td>\n",
       "      <td>110000.00</td>\n",
       "      <td>0.00</td>\n",
       "      <td>10.51</td>\n",
       "      <td>10.51</td>\n",
       "      <td>-inf</td>\n",
       "      <td>181.00</td>\n",
       "      <td>181.00</td>\n",
       "      <td>60.33</td>\n",
       "      <td>6.41</td>\n",
       "      <td>6.41</td>\n",
       "      <td>-inf</td>\n",
       "      <td>6.41</td>\n",
       "      <td>6.41</td>\n",
       "      <td>-inf</td>\n",
       "      <td>5.31</td>\n",
       "      <td>5.31</td>\n",
       "      <td>-inf</td>\n",
       "      <td>180</td>\n",
       "      <td>180</td>\n",
       "      <td>180</td>\n",
       "      <td>...</td>\n",
       "      <td>NaN</td>\n",
       "      <td>NaN</td>\n",
       "      <td>NaN</td>\n",
       "      <td>NaN</td>\n",
       "      <td>NaN</td>\n",
       "      <td>NaN</td>\n",
       "      <td>NaN</td>\n",
       "      <td>NaN</td>\n",
       "      <td>NaN</td>\n",
       "      <td>-inf</td>\n",
       "      <td>-inf</td>\n",
       "      <td>-inf</td>\n",
       "      <td>-inf</td>\n",
       "      <td>-inf</td>\n",
       "      <td>inf</td>\n",
       "      <td>-inf</td>\n",
       "      <td>inf</td>\n",
       "      <td>inf</td>\n",
       "      <td>-inf</td>\n",
       "      <td>-inf</td>\n",
       "      <td>-inf</td>\n",
       "      <td>-inf</td>\n",
       "      <td>-inf</td>\n",
       "      <td>NaN</td>\n",
       "      <td>-inf</td>\n",
       "      <td>1.76</td>\n",
       "      <td>0.03</td>\n",
       "      <td>0.03</td>\n",
       "      <td>3.92</td>\n",
       "      <td>0.07</td>\n",
       "      <td>0.07</td>\n",
       "      <td>431372.55</td>\n",
       "      <td>0.00</td>\n",
       "      <td>431372.55</td>\n",
       "      <td>431372.55</td>\n",
       "      <td>8029.20</td>\n",
       "      <td>0.00</td>\n",
       "      <td>8029.20</td>\n",
       "      <td>8029.20</td>\n",
       "      <td>8179.96</td>\n",
       "      <td>1078.43</td>\n",
       "      <td>20.07</td>\n",
       "      <td>20.45</td>\n",
       "      <td>0.00</td>\n",
       "      <td>0.00</td>\n",
       "      <td>0.00</td>\n",
       "      <td>inf</td>\n",
       "      <td>inf</td>\n",
       "      <td>NaN</td>\n",
       "      <td>inf</td>\n",
       "    </tr>\n",
       "    <tr>\n",
       "      <th>7653414010</th>\n",
       "      <td>84</td>\n",
       "      <td>6</td>\n",
       "      <td>1</td>\n",
       "      <td>7</td>\n",
       "      <td>55000</td>\n",
       "      <td>0</td>\n",
       "      <td>100000</td>\n",
       "      <td>50000</td>\n",
       "      <td>0</td>\n",
       "      <td>2004</td>\n",
       "      <td>7</td>\n",
       "      <td>29</td>\n",
       "      <td>2004</td>\n",
       "      <td>8</td>\n",
       "      <td>31</td>\n",
       "      <td>10.92</td>\n",
       "      <td>55000</td>\n",
       "      <td>6</td>\n",
       "      <td>3.00</td>\n",
       "      <td>300000.00</td>\n",
       "      <td>165000.00</td>\n",
       "      <td>0.00</td>\n",
       "      <td>252.00</td>\n",
       "      <td>1.73</td>\n",
       "      <td>0.87</td>\n",
       "      <td>2.44</td>\n",
       "      <td>50000.00</td>\n",
       "      <td>27500.00</td>\n",
       "      <td>0.00</td>\n",
       "      <td>12500.00</td>\n",
       "      <td>6875.00</td>\n",
       "      <td>0.00</td>\n",
       "      <td>9.57</td>\n",
       "      <td>8.97</td>\n",
       "      <td>-inf</td>\n",
       "      <td>42.50</td>\n",
       "      <td>10.62</td>\n",
       "      <td>12.14</td>\n",
       "      <td>6.38</td>\n",
       "      <td>5.78</td>\n",
       "      <td>-inf</td>\n",
       "      <td>4.99</td>\n",
       "      <td>4.39</td>\n",
       "      <td>-inf</td>\n",
       "      <td>5.12</td>\n",
       "      <td>4.53</td>\n",
       "      <td>-inf</td>\n",
       "      <td>84</td>\n",
       "      <td>84</td>\n",
       "      <td>84</td>\n",
       "      <td>...</td>\n",
       "      <td>-inf</td>\n",
       "      <td>-inf</td>\n",
       "      <td>inf</td>\n",
       "      <td>inf</td>\n",
       "      <td>inf</td>\n",
       "      <td>inf</td>\n",
       "      <td>inf</td>\n",
       "      <td>NaN</td>\n",
       "      <td>inf</td>\n",
       "      <td>15.12</td>\n",
       "      <td>831441.46</td>\n",
       "      <td>inf</td>\n",
       "      <td>831441.46</td>\n",
       "      <td>831432.43</td>\n",
       "      <td>-98.04</td>\n",
       "      <td>inf</td>\n",
       "      <td>-98.04</td>\n",
       "      <td>-107.07</td>\n",
       "      <td>831441.46</td>\n",
       "      <td>inf</td>\n",
       "      <td>831441.46</td>\n",
       "      <td>831432.43</td>\n",
       "      <td>83153.95</td>\n",
       "      <td>0.00</td>\n",
       "      <td>83153.95</td>\n",
       "      <td>2.47</td>\n",
       "      <td>0.03</td>\n",
       "      <td>0.03</td>\n",
       "      <td>5.88</td>\n",
       "      <td>0.08</td>\n",
       "      <td>0.08</td>\n",
       "      <td>323529.41</td>\n",
       "      <td>0.00</td>\n",
       "      <td>323529.41</td>\n",
       "      <td>588235.29</td>\n",
       "      <td>4301.92</td>\n",
       "      <td>0.00</td>\n",
       "      <td>4301.92</td>\n",
       "      <td>7821.67</td>\n",
       "      <td>7923.93</td>\n",
       "      <td>1617.65</td>\n",
       "      <td>21.51</td>\n",
       "      <td>21.79</td>\n",
       "      <td>0.00</td>\n",
       "      <td>0.00</td>\n",
       "      <td>0.00</td>\n",
       "      <td>2.65</td>\n",
       "      <td>1.46</td>\n",
       "      <td>0.00</td>\n",
       "      <td>1.46</td>\n",
       "    </tr>\n",
       "    <tr>\n",
       "      <th>9066434010</th>\n",
       "      <td>60</td>\n",
       "      <td>1</td>\n",
       "      <td>1</td>\n",
       "      <td>0</td>\n",
       "      <td>50000</td>\n",
       "      <td>0</td>\n",
       "      <td>50000</td>\n",
       "      <td>25000</td>\n",
       "      <td>0</td>\n",
       "      <td>2005</td>\n",
       "      <td>8</td>\n",
       "      <td>25</td>\n",
       "      <td>2005</td>\n",
       "      <td>11</td>\n",
       "      <td>30</td>\n",
       "      <td>10.82</td>\n",
       "      <td>50000</td>\n",
       "      <td>-1</td>\n",
       "      <td>-0.50</td>\n",
       "      <td>-25000.00</td>\n",
       "      <td>-25000.00</td>\n",
       "      <td>-0.00</td>\n",
       "      <td>-30.00</td>\n",
       "      <td>0.71</td>\n",
       "      <td>1.00</td>\n",
       "      <td>1.00</td>\n",
       "      <td>25000.00</td>\n",
       "      <td>25000.00</td>\n",
       "      <td>0.00</td>\n",
       "      <td>50000.00</td>\n",
       "      <td>50000.00</td>\n",
       "      <td>0.00</td>\n",
       "      <td>10.13</td>\n",
       "      <td>10.13</td>\n",
       "      <td>-inf</td>\n",
       "      <td>30.50</td>\n",
       "      <td>61.00</td>\n",
       "      <td>30.50</td>\n",
       "      <td>6.02</td>\n",
       "      <td>6.02</td>\n",
       "      <td>-inf</td>\n",
       "      <td>6.71</td>\n",
       "      <td>6.71</td>\n",
       "      <td>-inf</td>\n",
       "      <td>6.02</td>\n",
       "      <td>6.02</td>\n",
       "      <td>-inf</td>\n",
       "      <td>60</td>\n",
       "      <td>60</td>\n",
       "      <td>60</td>\n",
       "      <td>...</td>\n",
       "      <td>NaN</td>\n",
       "      <td>NaN</td>\n",
       "      <td>NaN</td>\n",
       "      <td>NaN</td>\n",
       "      <td>NaN</td>\n",
       "      <td>NaN</td>\n",
       "      <td>NaN</td>\n",
       "      <td>NaN</td>\n",
       "      <td>NaN</td>\n",
       "      <td>-inf</td>\n",
       "      <td>-inf</td>\n",
       "      <td>-inf</td>\n",
       "      <td>-inf</td>\n",
       "      <td>-inf</td>\n",
       "      <td>inf</td>\n",
       "      <td>-inf</td>\n",
       "      <td>inf</td>\n",
       "      <td>inf</td>\n",
       "      <td>-inf</td>\n",
       "      <td>-inf</td>\n",
       "      <td>-inf</td>\n",
       "      <td>-inf</td>\n",
       "      <td>-inf</td>\n",
       "      <td>NaN</td>\n",
       "      <td>-inf</td>\n",
       "      <td>0.61</td>\n",
       "      <td>0.03</td>\n",
       "      <td>0.03</td>\n",
       "      <td>4.08</td>\n",
       "      <td>0.22</td>\n",
       "      <td>0.23</td>\n",
       "      <td>204081.63</td>\n",
       "      <td>0.00</td>\n",
       "      <td>204081.63</td>\n",
       "      <td>204081.63</td>\n",
       "      <td>10946.91</td>\n",
       "      <td>0.00</td>\n",
       "      <td>10946.91</td>\n",
       "      <td>10946.91</td>\n",
       "      <td>11560.69</td>\n",
       "      <td>510.20</td>\n",
       "      <td>27.37</td>\n",
       "      <td>28.90</td>\n",
       "      <td>0.00</td>\n",
       "      <td>0.00</td>\n",
       "      <td>0.00</td>\n",
       "      <td>inf</td>\n",
       "      <td>inf</td>\n",
       "      <td>NaN</td>\n",
       "      <td>inf</td>\n",
       "    </tr>\n",
       "    <tr>\n",
       "      <th>...</th>\n",
       "      <td>...</td>\n",
       "      <td>...</td>\n",
       "      <td>...</td>\n",
       "      <td>...</td>\n",
       "      <td>...</td>\n",
       "      <td>...</td>\n",
       "      <td>...</td>\n",
       "      <td>...</td>\n",
       "      <td>...</td>\n",
       "      <td>...</td>\n",
       "      <td>...</td>\n",
       "      <td>...</td>\n",
       "      <td>...</td>\n",
       "      <td>...</td>\n",
       "      <td>...</td>\n",
       "      <td>...</td>\n",
       "      <td>...</td>\n",
       "      <td>...</td>\n",
       "      <td>...</td>\n",
       "      <td>...</td>\n",
       "      <td>...</td>\n",
       "      <td>...</td>\n",
       "      <td>...</td>\n",
       "      <td>...</td>\n",
       "      <td>...</td>\n",
       "      <td>...</td>\n",
       "      <td>...</td>\n",
       "      <td>...</td>\n",
       "      <td>...</td>\n",
       "      <td>...</td>\n",
       "      <td>...</td>\n",
       "      <td>...</td>\n",
       "      <td>...</td>\n",
       "      <td>...</td>\n",
       "      <td>...</td>\n",
       "      <td>...</td>\n",
       "      <td>...</td>\n",
       "      <td>...</td>\n",
       "      <td>...</td>\n",
       "      <td>...</td>\n",
       "      <td>...</td>\n",
       "      <td>...</td>\n",
       "      <td>...</td>\n",
       "      <td>...</td>\n",
       "      <td>...</td>\n",
       "      <td>...</td>\n",
       "      <td>...</td>\n",
       "      <td>...</td>\n",
       "      <td>...</td>\n",
       "      <td>...</td>\n",
       "      <td>...</td>\n",
       "      <td>...</td>\n",
       "      <td>...</td>\n",
       "      <td>...</td>\n",
       "      <td>...</td>\n",
       "      <td>...</td>\n",
       "      <td>...</td>\n",
       "      <td>...</td>\n",
       "      <td>...</td>\n",
       "      <td>...</td>\n",
       "      <td>...</td>\n",
       "      <td>...</td>\n",
       "      <td>...</td>\n",
       "      <td>...</td>\n",
       "      <td>...</td>\n",
       "      <td>...</td>\n",
       "      <td>...</td>\n",
       "      <td>...</td>\n",
       "      <td>...</td>\n",
       "      <td>...</td>\n",
       "      <td>...</td>\n",
       "      <td>...</td>\n",
       "      <td>...</td>\n",
       "      <td>...</td>\n",
       "      <td>...</td>\n",
       "      <td>...</td>\n",
       "      <td>...</td>\n",
       "      <td>...</td>\n",
       "      <td>...</td>\n",
       "      <td>...</td>\n",
       "      <td>...</td>\n",
       "      <td>...</td>\n",
       "      <td>...</td>\n",
       "      <td>...</td>\n",
       "      <td>...</td>\n",
       "      <td>...</td>\n",
       "      <td>...</td>\n",
       "      <td>...</td>\n",
       "      <td>...</td>\n",
       "      <td>...</td>\n",
       "      <td>...</td>\n",
       "      <td>...</td>\n",
       "      <td>...</td>\n",
       "      <td>...</td>\n",
       "      <td>...</td>\n",
       "      <td>...</td>\n",
       "      <td>...</td>\n",
       "      <td>...</td>\n",
       "      <td>...</td>\n",
       "      <td>...</td>\n",
       "      <td>...</td>\n",
       "    </tr>\n",
       "    <tr>\n",
       "      <th>3045015002</th>\n",
       "      <td>49</td>\n",
       "      <td>2</td>\n",
       "      <td>0</td>\n",
       "      <td>2</td>\n",
       "      <td>22500</td>\n",
       "      <td>0</td>\n",
       "      <td>15000</td>\n",
       "      <td>7500</td>\n",
       "      <td>1</td>\n",
       "      <td>2008</td>\n",
       "      <td>4</td>\n",
       "      <td>11</td>\n",
       "      <td>2008</td>\n",
       "      <td>4</td>\n",
       "      <td>30</td>\n",
       "      <td>10.02</td>\n",
       "      <td>22500</td>\n",
       "      <td>2</td>\n",
       "      <td>2.00</td>\n",
       "      <td>30000.00</td>\n",
       "      <td>45000.00</td>\n",
       "      <td>0.00</td>\n",
       "      <td>98.00</td>\n",
       "      <td>1.41</td>\n",
       "      <td>0.82</td>\n",
       "      <td>1.41</td>\n",
       "      <td>15000.00</td>\n",
       "      <td>22500.00</td>\n",
       "      <td>0.00</td>\n",
       "      <td>5000.00</td>\n",
       "      <td>7500.00</td>\n",
       "      <td>0.00</td>\n",
       "      <td>8.52</td>\n",
       "      <td>8.92</td>\n",
       "      <td>-inf</td>\n",
       "      <td>50.00</td>\n",
       "      <td>16.67</td>\n",
       "      <td>16.67</td>\n",
       "      <td>5.70</td>\n",
       "      <td>6.11</td>\n",
       "      <td>-inf</td>\n",
       "      <td>4.61</td>\n",
       "      <td>5.01</td>\n",
       "      <td>-inf</td>\n",
       "      <td>4.61</td>\n",
       "      <td>5.01</td>\n",
       "      <td>-inf</td>\n",
       "      <td>49</td>\n",
       "      <td>49</td>\n",
       "      <td>49</td>\n",
       "      <td>...</td>\n",
       "      <td>NaN</td>\n",
       "      <td>NaN</td>\n",
       "      <td>NaN</td>\n",
       "      <td>NaN</td>\n",
       "      <td>NaN</td>\n",
       "      <td>NaN</td>\n",
       "      <td>inf</td>\n",
       "      <td>NaN</td>\n",
       "      <td>inf</td>\n",
       "      <td>12.43</td>\n",
       "      <td>0.00</td>\n",
       "      <td>NaN</td>\n",
       "      <td>0.00</td>\n",
       "      <td>0.00</td>\n",
       "      <td>-0.00</td>\n",
       "      <td>NaN</td>\n",
       "      <td>-0.00</td>\n",
       "      <td>-0.00</td>\n",
       "      <td>0.00</td>\n",
       "      <td>NaN</td>\n",
       "      <td>0.00</td>\n",
       "      <td>0.00</td>\n",
       "      <td>186438.00</td>\n",
       "      <td>0.00</td>\n",
       "      <td>186438.00</td>\n",
       "      <td>2.45</td>\n",
       "      <td>0.03</td>\n",
       "      <td>0.03</td>\n",
       "      <td>5.00</td>\n",
       "      <td>0.07</td>\n",
       "      <td>0.07</td>\n",
       "      <td>112500.00</td>\n",
       "      <td>0.00</td>\n",
       "      <td>112500.00</td>\n",
       "      <td>75000.00</td>\n",
       "      <td>1508.04</td>\n",
       "      <td>0.00</td>\n",
       "      <td>1508.04</td>\n",
       "      <td>1005.36</td>\n",
       "      <td>1018.33</td>\n",
       "      <td>1125.00</td>\n",
       "      <td>15.08</td>\n",
       "      <td>15.27</td>\n",
       "      <td>0.00</td>\n",
       "      <td>0.00</td>\n",
       "      <td>0.00</td>\n",
       "      <td>-200.00</td>\n",
       "      <td>-300.00</td>\n",
       "      <td>-0.00</td>\n",
       "      <td>-300.00</td>\n",
       "    </tr>\n",
       "    <tr>\n",
       "      <th>4358364001</th>\n",
       "      <td>240</td>\n",
       "      <td>2</td>\n",
       "      <td>3</td>\n",
       "      <td>0</td>\n",
       "      <td>181000</td>\n",
       "      <td>0</td>\n",
       "      <td>181000</td>\n",
       "      <td>181000</td>\n",
       "      <td>0</td>\n",
       "      <td>2001</td>\n",
       "      <td>3</td>\n",
       "      <td>7</td>\n",
       "      <td>2001</td>\n",
       "      <td>6</td>\n",
       "      <td>13</td>\n",
       "      <td>12.11</td>\n",
       "      <td>181000</td>\n",
       "      <td>-3</td>\n",
       "      <td>-0.75</td>\n",
       "      <td>-135750.00</td>\n",
       "      <td>-135750.00</td>\n",
       "      <td>-0.00</td>\n",
       "      <td>-180.00</td>\n",
       "      <td>0.71</td>\n",
       "      <td>1.41</td>\n",
       "      <td>1.42</td>\n",
       "      <td>45250.00</td>\n",
       "      <td>45250.00</td>\n",
       "      <td>0.00</td>\n",
       "      <td>181000.00</td>\n",
       "      <td>181000.00</td>\n",
       "      <td>0.00</td>\n",
       "      <td>11.01</td>\n",
       "      <td>11.01</td>\n",
       "      <td>-inf</td>\n",
       "      <td>60.25</td>\n",
       "      <td>241.00</td>\n",
       "      <td>80.33</td>\n",
       "      <td>5.24</td>\n",
       "      <td>5.24</td>\n",
       "      <td>-inf</td>\n",
       "      <td>6.62</td>\n",
       "      <td>6.62</td>\n",
       "      <td>-inf</td>\n",
       "      <td>5.52</td>\n",
       "      <td>5.52</td>\n",
       "      <td>-inf</td>\n",
       "      <td>240</td>\n",
       "      <td>240</td>\n",
       "      <td>0</td>\n",
       "      <td>...</td>\n",
       "      <td>NaN</td>\n",
       "      <td>NaN</td>\n",
       "      <td>NaN</td>\n",
       "      <td>NaN</td>\n",
       "      <td>NaN</td>\n",
       "      <td>NaN</td>\n",
       "      <td>NaN</td>\n",
       "      <td>NaN</td>\n",
       "      <td>NaN</td>\n",
       "      <td>-inf</td>\n",
       "      <td>-inf</td>\n",
       "      <td>-inf</td>\n",
       "      <td>-inf</td>\n",
       "      <td>-inf</td>\n",
       "      <td>inf</td>\n",
       "      <td>-inf</td>\n",
       "      <td>inf</td>\n",
       "      <td>inf</td>\n",
       "      <td>-inf</td>\n",
       "      <td>-inf</td>\n",
       "      <td>-inf</td>\n",
       "      <td>-inf</td>\n",
       "      <td>-inf</td>\n",
       "      <td>NaN</td>\n",
       "      <td>-inf</td>\n",
       "      <td>2.42</td>\n",
       "      <td>0.03</td>\n",
       "      <td>0.03</td>\n",
       "      <td>4.04</td>\n",
       "      <td>0.05</td>\n",
       "      <td>0.06</td>\n",
       "      <td>731313.13</td>\n",
       "      <td>0.00</td>\n",
       "      <td>731313.13</td>\n",
       "      <td>731313.13</td>\n",
       "      <td>9909.66</td>\n",
       "      <td>0.00</td>\n",
       "      <td>9909.66</td>\n",
       "      <td>9909.66</td>\n",
       "      <td>10044.40</td>\n",
       "      <td>1828.28</td>\n",
       "      <td>24.77</td>\n",
       "      <td>25.11</td>\n",
       "      <td>0.00</td>\n",
       "      <td>0.00</td>\n",
       "      <td>0.00</td>\n",
       "      <td>inf</td>\n",
       "      <td>inf</td>\n",
       "      <td>NaN</td>\n",
       "      <td>inf</td>\n",
       "    </tr>\n",
       "    <tr>\n",
       "      <th>8787214009</th>\n",
       "      <td>84</td>\n",
       "      <td>3</td>\n",
       "      <td>1</td>\n",
       "      <td>3</td>\n",
       "      <td>5000</td>\n",
       "      <td>0</td>\n",
       "      <td>5000</td>\n",
       "      <td>4250</td>\n",
       "      <td>0</td>\n",
       "      <td>2005</td>\n",
       "      <td>4</td>\n",
       "      <td>13</td>\n",
       "      <td>2005</td>\n",
       "      <td>4</td>\n",
       "      <td>30</td>\n",
       "      <td>8.52</td>\n",
       "      <td>5000</td>\n",
       "      <td>2</td>\n",
       "      <td>1.00</td>\n",
       "      <td>5000.00</td>\n",
       "      <td>5000.00</td>\n",
       "      <td>0.00</td>\n",
       "      <td>84.00</td>\n",
       "      <td>1.22</td>\n",
       "      <td>0.87</td>\n",
       "      <td>1.73</td>\n",
       "      <td>2500.00</td>\n",
       "      <td>2500.00</td>\n",
       "      <td>0.00</td>\n",
       "      <td>1250.00</td>\n",
       "      <td>1250.00</td>\n",
       "      <td>0.00</td>\n",
       "      <td>7.13</td>\n",
       "      <td>7.13</td>\n",
       "      <td>-inf</td>\n",
       "      <td>42.50</td>\n",
       "      <td>21.25</td>\n",
       "      <td>21.25</td>\n",
       "      <td>3.38</td>\n",
       "      <td>3.38</td>\n",
       "      <td>-inf</td>\n",
       "      <td>2.69</td>\n",
       "      <td>2.69</td>\n",
       "      <td>-inf</td>\n",
       "      <td>2.69</td>\n",
       "      <td>2.69</td>\n",
       "      <td>-inf</td>\n",
       "      <td>84</td>\n",
       "      <td>84</td>\n",
       "      <td>84</td>\n",
       "      <td>...</td>\n",
       "      <td>NaN</td>\n",
       "      <td>NaN</td>\n",
       "      <td>NaN</td>\n",
       "      <td>NaN</td>\n",
       "      <td>NaN</td>\n",
       "      <td>NaN</td>\n",
       "      <td>NaN</td>\n",
       "      <td>NaN</td>\n",
       "      <td>NaN</td>\n",
       "      <td>-inf</td>\n",
       "      <td>NaN</td>\n",
       "      <td>NaN</td>\n",
       "      <td>NaN</td>\n",
       "      <td>NaN</td>\n",
       "      <td>NaN</td>\n",
       "      <td>NaN</td>\n",
       "      <td>NaN</td>\n",
       "      <td>NaN</td>\n",
       "      <td>NaN</td>\n",
       "      <td>NaN</td>\n",
       "      <td>NaN</td>\n",
       "      <td>NaN</td>\n",
       "      <td>-inf</td>\n",
       "      <td>NaN</td>\n",
       "      <td>-inf</td>\n",
       "      <td>4.67</td>\n",
       "      <td>0.03</td>\n",
       "      <td>0.03</td>\n",
       "      <td>5.56</td>\n",
       "      <td>0.04</td>\n",
       "      <td>0.04</td>\n",
       "      <td>27777.78</td>\n",
       "      <td>0.00</td>\n",
       "      <td>27777.78</td>\n",
       "      <td>27777.78</td>\n",
       "      <td>195.47</td>\n",
       "      <td>0.00</td>\n",
       "      <td>195.47</td>\n",
       "      <td>195.47</td>\n",
       "      <td>196.77</td>\n",
       "      <td>277.78</td>\n",
       "      <td>1.95</td>\n",
       "      <td>1.97</td>\n",
       "      <td>0.00</td>\n",
       "      <td>0.00</td>\n",
       "      <td>0.00</td>\n",
       "      <td>inf</td>\n",
       "      <td>inf</td>\n",
       "      <td>NaN</td>\n",
       "      <td>inf</td>\n",
       "    </tr>\n",
       "    <tr>\n",
       "      <th>7602753000</th>\n",
       "      <td>180</td>\n",
       "      <td>4</td>\n",
       "      <td>0</td>\n",
       "      <td>0</td>\n",
       "      <td>146000</td>\n",
       "      <td>0</td>\n",
       "      <td>146000</td>\n",
       "      <td>131400</td>\n",
       "      <td>0</td>\n",
       "      <td>1994</td>\n",
       "      <td>9</td>\n",
       "      <td>22</td>\n",
       "      <td>1994</td>\n",
       "      <td>10</td>\n",
       "      <td>31</td>\n",
       "      <td>11.89</td>\n",
       "      <td>146000</td>\n",
       "      <td>0</td>\n",
       "      <td>0.00</td>\n",
       "      <td>0.00</td>\n",
       "      <td>0.00</td>\n",
       "      <td>0.00</td>\n",
       "      <td>0.00</td>\n",
       "      <td>2.00</td>\n",
       "      <td>2.00</td>\n",
       "      <td>2.00</td>\n",
       "      <td>146000.00</td>\n",
       "      <td>146000.00</td>\n",
       "      <td>0.00</td>\n",
       "      <td>146000.00</td>\n",
       "      <td>146000.00</td>\n",
       "      <td>0.00</td>\n",
       "      <td>10.28</td>\n",
       "      <td>10.28</td>\n",
       "      <td>-inf</td>\n",
       "      <td>181.00</td>\n",
       "      <td>181.00</td>\n",
       "      <td>36.20</td>\n",
       "      <td>6.69</td>\n",
       "      <td>6.69</td>\n",
       "      <td>-inf</td>\n",
       "      <td>6.69</td>\n",
       "      <td>6.69</td>\n",
       "      <td>-inf</td>\n",
       "      <td>5.08</td>\n",
       "      <td>5.08</td>\n",
       "      <td>-inf</td>\n",
       "      <td>180</td>\n",
       "      <td>180</td>\n",
       "      <td>180</td>\n",
       "      <td>...</td>\n",
       "      <td>NaN</td>\n",
       "      <td>NaN</td>\n",
       "      <td>NaN</td>\n",
       "      <td>NaN</td>\n",
       "      <td>NaN</td>\n",
       "      <td>NaN</td>\n",
       "      <td>NaN</td>\n",
       "      <td>NaN</td>\n",
       "      <td>NaN</td>\n",
       "      <td>-inf</td>\n",
       "      <td>-inf</td>\n",
       "      <td>-inf</td>\n",
       "      <td>-inf</td>\n",
       "      <td>-inf</td>\n",
       "      <td>inf</td>\n",
       "      <td>-inf</td>\n",
       "      <td>inf</td>\n",
       "      <td>inf</td>\n",
       "      <td>-inf</td>\n",
       "      <td>-inf</td>\n",
       "      <td>-inf</td>\n",
       "      <td>-inf</td>\n",
       "      <td>-inf</td>\n",
       "      <td>NaN</td>\n",
       "      <td>-inf</td>\n",
       "      <td>4.50</td>\n",
       "      <td>0.03</td>\n",
       "      <td>0.03</td>\n",
       "      <td>5.00</td>\n",
       "      <td>0.04</td>\n",
       "      <td>0.04</td>\n",
       "      <td>730000.00</td>\n",
       "      <td>0.00</td>\n",
       "      <td>730000.00</td>\n",
       "      <td>730000.00</td>\n",
       "      <td>5328.47</td>\n",
       "      <td>0.00</td>\n",
       "      <td>5328.47</td>\n",
       "      <td>5328.47</td>\n",
       "      <td>5366.66</td>\n",
       "      <td>3650.00</td>\n",
       "      <td>26.64</td>\n",
       "      <td>26.83</td>\n",
       "      <td>0.00</td>\n",
       "      <td>0.00</td>\n",
       "      <td>0.00</td>\n",
       "      <td>inf</td>\n",
       "      <td>inf</td>\n",
       "      <td>NaN</td>\n",
       "      <td>inf</td>\n",
       "    </tr>\n",
       "    <tr>\n",
       "      <th>4561515000</th>\n",
       "      <td>60</td>\n",
       "      <td>2</td>\n",
       "      <td>2</td>\n",
       "      <td>0</td>\n",
       "      <td>67500</td>\n",
       "      <td>0</td>\n",
       "      <td>67500</td>\n",
       "      <td>33750</td>\n",
       "      <td>0</td>\n",
       "      <td>2011</td>\n",
       "      <td>3</td>\n",
       "      <td>1</td>\n",
       "      <td>2011</td>\n",
       "      <td>4</td>\n",
       "      <td>1</td>\n",
       "      <td>11.12</td>\n",
       "      <td>67500</td>\n",
       "      <td>-2</td>\n",
       "      <td>-0.67</td>\n",
       "      <td>-45022.50</td>\n",
       "      <td>-45022.50</td>\n",
       "      <td>-0.00</td>\n",
       "      <td>-40.02</td>\n",
       "      <td>0.82</td>\n",
       "      <td>1.41</td>\n",
       "      <td>1.42</td>\n",
       "      <td>22500.00</td>\n",
       "      <td>22500.00</td>\n",
       "      <td>0.00</td>\n",
       "      <td>67500.00</td>\n",
       "      <td>67500.00</td>\n",
       "      <td>0.00</td>\n",
       "      <td>10.02</td>\n",
       "      <td>10.02</td>\n",
       "      <td>-inf</td>\n",
       "      <td>20.33</td>\n",
       "      <td>61.00</td>\n",
       "      <td>20.33</td>\n",
       "      <td>5.91</td>\n",
       "      <td>5.91</td>\n",
       "      <td>-inf</td>\n",
       "      <td>7.01</td>\n",
       "      <td>7.01</td>\n",
       "      <td>-inf</td>\n",
       "      <td>5.91</td>\n",
       "      <td>5.91</td>\n",
       "      <td>-inf</td>\n",
       "      <td>60</td>\n",
       "      <td>60</td>\n",
       "      <td>60</td>\n",
       "      <td>...</td>\n",
       "      <td>NaN</td>\n",
       "      <td>NaN</td>\n",
       "      <td>NaN</td>\n",
       "      <td>NaN</td>\n",
       "      <td>NaN</td>\n",
       "      <td>NaN</td>\n",
       "      <td>NaN</td>\n",
       "      <td>NaN</td>\n",
       "      <td>NaN</td>\n",
       "      <td>-inf</td>\n",
       "      <td>-inf</td>\n",
       "      <td>-inf</td>\n",
       "      <td>-inf</td>\n",
       "      <td>-inf</td>\n",
       "      <td>inf</td>\n",
       "      <td>-inf</td>\n",
       "      <td>inf</td>\n",
       "      <td>inf</td>\n",
       "      <td>-inf</td>\n",
       "      <td>-inf</td>\n",
       "      <td>-inf</td>\n",
       "      <td>-inf</td>\n",
       "      <td>-inf</td>\n",
       "      <td>NaN</td>\n",
       "      <td>-inf</td>\n",
       "      <td>1.88</td>\n",
       "      <td>0.03</td>\n",
       "      <td>0.03</td>\n",
       "      <td>6.25</td>\n",
       "      <td>0.11</td>\n",
       "      <td>0.11</td>\n",
       "      <td>421875.00</td>\n",
       "      <td>0.00</td>\n",
       "      <td>421875.00</td>\n",
       "      <td>421875.00</td>\n",
       "      <td>7385.12</td>\n",
       "      <td>0.00</td>\n",
       "      <td>7385.12</td>\n",
       "      <td>7385.12</td>\n",
       "      <td>7512.52</td>\n",
       "      <td>2109.38</td>\n",
       "      <td>36.93</td>\n",
       "      <td>37.56</td>\n",
       "      <td>0.00</td>\n",
       "      <td>0.00</td>\n",
       "      <td>0.00</td>\n",
       "      <td>inf</td>\n",
       "      <td>inf</td>\n",
       "      <td>NaN</td>\n",
       "      <td>inf</td>\n",
       "    </tr>\n",
       "  </tbody>\n",
       "</table>\n",
       "<p>255477 rows × 391 columns</p>\n",
       "</div>"
      ],
      "text/plain": [
       "            Term  Employees  CreateJob  RetainedJob  DisbursementGross  \\\n",
       "ID                                                                       \n",
       "9568103009    84          6          0            0             100000   \n",
       "7208134000    26          1          0            1              47719   \n",
       "8283143001   180          2          0            0             110000   \n",
       "7653414010    84          6          1            7              55000   \n",
       "9066434010    60          1          1            0              50000   \n",
       "...          ...        ...        ...          ...                ...   \n",
       "3045015002    49          2          0            2              22500   \n",
       "4358364001   240          2          3            0             181000   \n",
       "8787214009    84          3          1            3               5000   \n",
       "7602753000   180          4          0            0             146000   \n",
       "4561515000    60          2          2            0              67500   \n",
       "\n",
       "            BalanceGross  LoanAmount  GuaranteedLoan  LoanStatus  Approval_Y  \\\n",
       "ID                                                                             \n",
       "9568103009             0      100000           50000           0        1996   \n",
       "7208134000             0       35000           17500           0        2004   \n",
       "8283143001             0      110000           82500           0        1995   \n",
       "7653414010             0      100000           50000           0        2004   \n",
       "9066434010             0       50000           25000           0        2005   \n",
       "...                  ...         ...             ...         ...         ...   \n",
       "3045015002             0       15000            7500           1        2008   \n",
       "4358364001             0      181000          181000           0        2001   \n",
       "8787214009             0        5000            4250           0        2005   \n",
       "7602753000             0      146000          131400           0        1994   \n",
       "4561515000             0       67500           33750           0        2011   \n",
       "\n",
       "            Approval_M  Approval_D  DisbursementDate_Y  DisbursementDate_M  \\\n",
       "ID                                                                           \n",
       "9568103009           9          23                1996                  12   \n",
       "7208134000           2          24                2004                   3   \n",
       "8283143001           4          21                1995                   7   \n",
       "7653414010           7          29                2004                   8   \n",
       "9066434010           8          25                2005                  11   \n",
       "...                ...         ...                 ...                 ...   \n",
       "3045015002           4          11                2008                   4   \n",
       "4358364001           3           7                2001                   6   \n",
       "8787214009           4          13                2005                   4   \n",
       "7602753000           9          22                1994                  10   \n",
       "4561515000           3           1                2011                   4   \n",
       "\n",
       "            DisbursementDate_D  ActualGross_log  ActualGross  Crt-RetJob  \\\n",
       "ID                                                                         \n",
       "9568103009                  31            11.51       100000           0   \n",
       "7208134000                  31            10.77        47719           1   \n",
       "8283143001                  31            11.61       110000           0   \n",
       "7653414010                  31            10.92        55000           6   \n",
       "9066434010                  30            10.82        50000          -1   \n",
       "...                        ...              ...          ...         ...   \n",
       "3045015002                  30            10.02        22500           2   \n",
       "4358364001                  13            12.11       181000          -3   \n",
       "8787214009                  30             8.52         5000           2   \n",
       "7602753000                  31            11.89       146000           0   \n",
       "4561515000                   1            11.12        67500          -2   \n",
       "\n",
       "            Crt-RetJob_rate   CRrate_L   CRrate_D  CRrate_B  CRrate_T  \\\n",
       "ID                                                                      \n",
       "9568103009             0.00       0.00       0.00      0.00      0.00   \n",
       "7208134000             1.00   35000.00   47719.00      0.00     26.00   \n",
       "8283143001             0.00       0.00       0.00      0.00      0.00   \n",
       "7653414010             3.00  300000.00  165000.00      0.00    252.00   \n",
       "9066434010            -0.50  -25000.00  -25000.00     -0.00    -30.00   \n",
       "...                     ...        ...        ...       ...       ...   \n",
       "3045015002             2.00   30000.00   45000.00      0.00     98.00   \n",
       "4358364001            -0.75 -135750.00 -135750.00     -0.00   -180.00   \n",
       "8787214009             1.00    5000.00    5000.00      0.00     84.00   \n",
       "7602753000             0.00       0.00       0.00      0.00      0.00   \n",
       "4561515000            -0.67  -45022.50  -45022.50     -0.00    -40.02   \n",
       "\n",
       "            Crt_Emp  Ret_Emp  Crt-Ret_Emp     L_Crt     D_Crt  B_Crt  \\\n",
       "ID                                                                     \n",
       "9568103009     2.45     2.45         2.45 100000.00 100000.00   0.00   \n",
       "7208134000     1.00     0.71         1.00  35000.00  47719.00   0.00   \n",
       "8283143001     1.41     1.41         1.41 110000.00 110000.00   0.00   \n",
       "7653414010     1.73     0.87         2.44  50000.00  27500.00   0.00   \n",
       "9066434010     0.71     1.00         1.00  25000.00  25000.00   0.00   \n",
       "...             ...      ...          ...       ...       ...    ...   \n",
       "3045015002     1.41     0.82         1.41  15000.00  22500.00   0.00   \n",
       "4358364001     0.71     1.41         1.42  45250.00  45250.00   0.00   \n",
       "8787214009     1.22     0.87         1.73   2500.00   2500.00   0.00   \n",
       "7602753000     2.00     2.00         2.00 146000.00 146000.00   0.00   \n",
       "4561515000     0.82     1.41         1.42  22500.00  22500.00   0.00   \n",
       "\n",
       "               L_Ret     D_Ret  B_Ret  L_Emp  D_Emp  B_Emp  Crt_Term  \\\n",
       "ID                                                                     \n",
       "9568103009 100000.00 100000.00   0.00   9.57   9.57   -inf     85.00   \n",
       "7208134000  17500.00  23859.50   0.00   9.77  10.08   -inf     27.00   \n",
       "8283143001 110000.00 110000.00   0.00  10.51  10.51   -inf    181.00   \n",
       "7653414010  12500.00   6875.00   0.00   9.57   8.97   -inf     42.50   \n",
       "9066434010  50000.00  50000.00   0.00  10.13  10.13   -inf     30.50   \n",
       "...              ...       ...    ...    ...    ...    ...       ...   \n",
       "3045015002   5000.00   7500.00   0.00   8.52   8.92   -inf     50.00   \n",
       "4358364001 181000.00 181000.00   0.00  11.01  11.01   -inf     60.25   \n",
       "8787214009   1250.00   1250.00   0.00   7.13   7.13   -inf     42.50   \n",
       "7602753000 146000.00 146000.00   0.00  10.28  10.28   -inf    181.00   \n",
       "4561515000  67500.00  67500.00   0.00  10.02  10.02   -inf     20.33   \n",
       "\n",
       "            Rer_Term  Emp_Term  L_Term_Crt  D_Term_Crt  B_Term_Crt  \\\n",
       "ID                                                                   \n",
       "9568103009     85.00     12.14        7.07        7.07        -inf   \n",
       "7208134000     13.50     13.50        7.17        7.48        -inf   \n",
       "8283143001    181.00     60.33        6.41        6.41        -inf   \n",
       "7653414010     10.62     12.14        6.38        5.78        -inf   \n",
       "9066434010     61.00     30.50        6.02        6.02        -inf   \n",
       "...              ...       ...         ...         ...         ...   \n",
       "3045015002     16.67     16.67        5.70        6.11        -inf   \n",
       "4358364001    241.00     80.33        5.24        5.24        -inf   \n",
       "8787214009     21.25     21.25        3.38        3.38        -inf   \n",
       "7602753000    181.00     36.20        6.69        6.69        -inf   \n",
       "4561515000     61.00     20.33        5.91        5.91        -inf   \n",
       "\n",
       "            L_Term_Ret  D_Term_Ret  B_Term_Ret  L_Term_Emp  D_Term_Emp  \\\n",
       "ID                                                                       \n",
       "9568103009        7.07        7.07        -inf        5.12        5.12   \n",
       "7208134000        6.47        6.78        -inf        6.47        6.78   \n",
       "8283143001        6.41        6.41        -inf        5.31        5.31   \n",
       "7653414010        4.99        4.39        -inf        5.12        4.53   \n",
       "9066434010        6.71        6.71        -inf        6.02        6.02   \n",
       "...                ...         ...         ...         ...         ...   \n",
       "3045015002        4.61        5.01        -inf        4.61        5.01   \n",
       "4358364001        6.62        6.62        -inf        5.52        5.52   \n",
       "8787214009        2.69        2.69        -inf        2.69        2.69   \n",
       "7602753000        6.69        6.69        -inf        5.08        5.08   \n",
       "4561515000        7.01        7.01        -inf        5.91        5.91   \n",
       "\n",
       "            B_Term_Emp  Term_264  Term_252  Term_240  ...  \\\n",
       "ID                                                    ...   \n",
       "9568103009        -inf        84        84        84  ...   \n",
       "7208134000        -inf        26        26        26  ...   \n",
       "8283143001        -inf       180       180       180  ...   \n",
       "7653414010        -inf        84        84        84  ...   \n",
       "9066434010        -inf        60        60        60  ...   \n",
       "...                ...       ...       ...       ...  ...   \n",
       "3045015002        -inf        49        49        49  ...   \n",
       "4358364001        -inf       240       240         0  ...   \n",
       "8787214009        -inf        84        84        84  ...   \n",
       "7602753000        -inf       180       180       180  ...   \n",
       "4561515000        -inf        60        60        60  ...   \n",
       "\n",
       "            f_amount_B^a_rate_DB  f_amount_B^a_rate_LB  f_amount_B^a_rate_AD  \\\n",
       "ID                                                                             \n",
       "9568103009                   NaN                   NaN                   NaN   \n",
       "7208134000                  -inf                  -inf                   inf   \n",
       "8283143001                   NaN                   NaN                   NaN   \n",
       "7653414010                  -inf                  -inf                   inf   \n",
       "9066434010                   NaN                   NaN                   NaN   \n",
       "...                          ...                   ...                   ...   \n",
       "3045015002                   NaN                   NaN                   NaN   \n",
       "4358364001                   NaN                   NaN                   NaN   \n",
       "8787214009                   NaN                   NaN                   NaN   \n",
       "7602753000                   NaN                   NaN                   NaN   \n",
       "4561515000                   NaN                   NaN                   NaN   \n",
       "\n",
       "            f_amount_B^a_rate_BD  f_amount_B^a_rate_DD  f_amount_B^a_rate_LD  \\\n",
       "ID                                                                             \n",
       "9568103009                   NaN                   NaN                   NaN   \n",
       "7208134000                   inf                   inf                   inf   \n",
       "8283143001                   NaN                   NaN                   NaN   \n",
       "7653414010                   inf                   inf                   inf   \n",
       "9066434010                   NaN                   NaN                   NaN   \n",
       "...                          ...                   ...                   ...   \n",
       "3045015002                   NaN                   NaN                   NaN   \n",
       "4358364001                   NaN                   NaN                   NaN   \n",
       "8787214009                   NaN                   NaN                   NaN   \n",
       "7602753000                   NaN                   NaN                   NaN   \n",
       "4561515000                   NaN                   NaN                   NaN   \n",
       "\n",
       "            f_amount_B^b_rate_A  f_amount_B^b_rate_B  f_amount_B^b_rate_D  \\\n",
       "ID                                                                          \n",
       "9568103009                  NaN                  NaN                  NaN   \n",
       "7208134000                  inf                  NaN                  inf   \n",
       "8283143001                  NaN                  NaN                  NaN   \n",
       "7653414010                  inf                  NaN                  inf   \n",
       "9066434010                  NaN                  NaN                  NaN   \n",
       "...                         ...                  ...                  ...   \n",
       "3045015002                  inf                  NaN                  inf   \n",
       "4358364001                  NaN                  NaN                  NaN   \n",
       "8787214009                  NaN                  NaN                  NaN   \n",
       "7602753000                  NaN                  NaN                  NaN   \n",
       "4561515000                  NaN                  NaN                  NaN   \n",
       "\n",
       "            f_amount_D  f_amount_D^a_rate_AA  f_amount_D^a_rate_BA  \\\n",
       "ID                                                                   \n",
       "9568103009        -inf                  -inf                  -inf   \n",
       "7208134000       12.73             607548.51                   inf   \n",
       "8283143001        -inf                  -inf                  -inf   \n",
       "7653414010       15.12             831441.46                   inf   \n",
       "9066434010        -inf                  -inf                  -inf   \n",
       "...                ...                   ...                   ...   \n",
       "3045015002       12.43                  0.00                   NaN   \n",
       "4358364001        -inf                  -inf                  -inf   \n",
       "8787214009        -inf                   NaN                   NaN   \n",
       "7602753000        -inf                  -inf                  -inf   \n",
       "4561515000        -inf                  -inf                  -inf   \n",
       "\n",
       "            f_amount_D^a_rate_DA  f_amount_D^a_rate_LA  f_amount_D^a_rate_AB  \\\n",
       "ID                                                                             \n",
       "9568103009                  -inf                  -inf                   inf   \n",
       "7208134000             607548.51             607552.46                -95.69   \n",
       "8283143001                  -inf                  -inf                   inf   \n",
       "7653414010             831441.46             831432.43                -98.04   \n",
       "9066434010                  -inf                  -inf                   inf   \n",
       "...                          ...                   ...                   ...   \n",
       "3045015002                  0.00                  0.00                 -0.00   \n",
       "4358364001                  -inf                  -inf                   inf   \n",
       "8787214009                   NaN                   NaN                   NaN   \n",
       "7602753000                  -inf                  -inf                   inf   \n",
       "4561515000                  -inf                  -inf                   inf   \n",
       "\n",
       "            f_amount_D^a_rate_BB  f_amount_D^a_rate_DB  f_amount_D^a_rate_LB  \\\n",
       "ID                                                                             \n",
       "9568103009                  -inf                   inf                   inf   \n",
       "7208134000                   inf                -95.69                -91.75   \n",
       "8283143001                  -inf                   inf                   inf   \n",
       "7653414010                   inf                -98.04               -107.07   \n",
       "9066434010                  -inf                   inf                   inf   \n",
       "...                          ...                   ...                   ...   \n",
       "3045015002                   NaN                 -0.00                 -0.00   \n",
       "4358364001                  -inf                   inf                   inf   \n",
       "8787214009                   NaN                   NaN                   NaN   \n",
       "7602753000                  -inf                   inf                   inf   \n",
       "4561515000                  -inf                   inf                   inf   \n",
       "\n",
       "            f_amount_D^a_rate_AD  f_amount_D^a_rate_BD  f_amount_D^a_rate_DD  \\\n",
       "ID                                                                             \n",
       "9568103009                  -inf                  -inf                  -inf   \n",
       "7208134000             607548.51                   inf             607548.51   \n",
       "8283143001                  -inf                  -inf                  -inf   \n",
       "7653414010             831441.46                   inf             831441.46   \n",
       "9066434010                  -inf                  -inf                  -inf   \n",
       "...                          ...                   ...                   ...   \n",
       "3045015002                  0.00                   NaN                  0.00   \n",
       "4358364001                  -inf                  -inf                  -inf   \n",
       "8787214009                   NaN                   NaN                   NaN   \n",
       "7602753000                  -inf                  -inf                  -inf   \n",
       "4561515000                  -inf                  -inf                  -inf   \n",
       "\n",
       "            f_amount_D^a_rate_LD  f_amount_D^b_rate_A  f_amount_D^b_rate_B  \\\n",
       "ID                                                                           \n",
       "9568103009                  -inf                 -inf                  NaN   \n",
       "7208134000             607552.46            173612.63                 0.00   \n",
       "8283143001                  -inf                 -inf                  NaN   \n",
       "7653414010             831432.43             83153.95                 0.00   \n",
       "9066434010                  -inf                 -inf                  NaN   \n",
       "...                          ...                  ...                  ...   \n",
       "3045015002                  0.00            186438.00                 0.00   \n",
       "4358364001                  -inf                 -inf                  NaN   \n",
       "8787214009                   NaN                 -inf                  NaN   \n",
       "7602753000                  -inf                 -inf                  NaN   \n",
       "4561515000                  -inf                 -inf                  NaN   \n",
       "\n",
       "            f_amount_D^b_rate_D  Term_AP-Dis  Term_Ap-End  Term_End-Dis  \\\n",
       "ID                                                                        \n",
       "9568103009                 -inf         0.84         0.03          0.03   \n",
       "7208134000            173612.63         0.70         0.03          0.03   \n",
       "8283143001                 -inf         1.76         0.03          0.03   \n",
       "7653414010             83153.95         2.47         0.03          0.03   \n",
       "9066434010                 -inf         0.61         0.03          0.03   \n",
       "...                         ...          ...          ...           ...   \n",
       "3045015002            186438.00         2.45         0.03          0.03   \n",
       "4358364001                 -inf         2.42         0.03          0.03   \n",
       "8787214009                 -inf         4.67         0.03          0.03   \n",
       "7602753000                 -inf         4.50         0.03          0.03   \n",
       "4561515000                 -inf         1.88         0.03          0.03   \n",
       "\n",
       "            h_rate_AD  h_rate_AE  h_rate_ED  h_rate_AD_A  h_rate_AD_B  \\\n",
       "ID                                                                      \n",
       "9568103009       4.00       0.16       0.16    400000.00         0.00   \n",
       "7208134000       5.41       0.25       0.26    257940.54         0.00   \n",
       "8283143001       3.92       0.07       0.07    431372.55         0.00   \n",
       "7653414010       5.88       0.08       0.08    323529.41         0.00   \n",
       "9066434010       4.08       0.22       0.23    204081.63         0.00   \n",
       "...               ...        ...        ...          ...          ...   \n",
       "3045015002       5.00       0.07       0.07    112500.00         0.00   \n",
       "4358364001       4.04       0.05       0.06    731313.13         0.00   \n",
       "8787214009       5.56       0.04       0.04     27777.78         0.00   \n",
       "7602753000       5.00       0.04       0.04    730000.00         0.00   \n",
       "4561515000       6.25       0.11       0.11    421875.00         0.00   \n",
       "\n",
       "            h_rate_AD_D  h_rate_AD_L  h_rate_AE_A  h_rate_AE_B  h_rate_AE_D  \\\n",
       "ID                                                                            \n",
       "9568103009    400000.00    400000.00     15643.33         0.00     15643.33   \n",
       "7208134000    257940.54    189189.19     12065.49         0.00     12065.49   \n",
       "8283143001    431372.55    431372.55      8029.20         0.00      8029.20   \n",
       "7653414010    323529.41    588235.29      4301.92         0.00      4301.92   \n",
       "9066434010    204081.63    204081.63     10946.91         0.00     10946.91   \n",
       "...                 ...          ...          ...          ...          ...   \n",
       "3045015002    112500.00     75000.00      1508.04         0.00      1508.04   \n",
       "4358364001    731313.13    731313.13      9909.66         0.00      9909.66   \n",
       "8787214009     27777.78     27777.78       195.47         0.00       195.47   \n",
       "7602753000    730000.00    730000.00      5328.47         0.00      5328.47   \n",
       "4561515000    421875.00    421875.00      7385.12         0.00      7385.12   \n",
       "\n",
       "            h_rate_AE_L  h_rate_ED_A  DG_Ap-Dis  DG_Ap-End  DG_End-Dis  \\\n",
       "ID                                                                       \n",
       "9568103009     15643.33     16273.39    1000.00      39.11       40.68   \n",
       "7208134000      8849.56      9271.52    1289.70      60.33       63.20   \n",
       "8283143001      8029.20      8179.96    1078.43      20.07       20.45   \n",
       "7653414010      7821.67      7923.93    1617.65      21.51       21.79   \n",
       "9066434010     10946.91     11560.69     510.20      27.37       28.90   \n",
       "...                 ...          ...        ...        ...         ...   \n",
       "3045015002      1005.36      1018.33    1125.00      15.08       15.27   \n",
       "4358364001      9909.66     10044.40    1828.28      24.77       25.11   \n",
       "8787214009       195.47       196.77     277.78       1.95        1.97   \n",
       "7602753000      5328.47      5366.66    3650.00      26.64       26.83   \n",
       "4561515000      7385.12      7512.52    2109.38      36.93       37.56   \n",
       "\n",
       "            BG_Ap-Dis  BG_Ap-End  BG_End-Dis  i_rate  i_rate_A  i_rate_B  \\\n",
       "ID                                                                         \n",
       "9568103009       0.00       0.00        0.00     inf       inf       NaN   \n",
       "7208134000       0.00       0.00        0.00  -10.58    -14.43     -0.00   \n",
       "8283143001       0.00       0.00        0.00     inf       inf       NaN   \n",
       "7653414010       0.00       0.00        0.00    2.65      1.46      0.00   \n",
       "9066434010       0.00       0.00        0.00     inf       inf       NaN   \n",
       "...               ...        ...         ...     ...       ...       ...   \n",
       "3045015002       0.00       0.00        0.00 -200.00   -300.00     -0.00   \n",
       "4358364001       0.00       0.00        0.00     inf       inf       NaN   \n",
       "8787214009       0.00       0.00        0.00     inf       inf       NaN   \n",
       "7602753000       0.00       0.00        0.00     inf       inf       NaN   \n",
       "4561515000       0.00       0.00        0.00     inf       inf       NaN   \n",
       "\n",
       "            i_rate_D  \n",
       "ID                    \n",
       "9568103009       inf  \n",
       "7208134000    -14.43  \n",
       "8283143001       inf  \n",
       "7653414010      1.46  \n",
       "9066434010       inf  \n",
       "...              ...  \n",
       "3045015002   -300.00  \n",
       "4358364001       inf  \n",
       "8787214009       inf  \n",
       "7602753000       inf  \n",
       "4561515000       inf  \n",
       "\n",
       "[255477 rows x 391 columns]"
      ]
     },
     "execution_count": 203,
     "metadata": {},
     "output_type": "execute_result"
    }
   ],
   "source": [
    "data"
   ]
  },
  {
   "cell_type": "code",
   "execution_count": 204,
   "metadata": {
    "execution": {
     "iopub.execute_input": "2021-02-12T10:54:57.326902Z",
     "iopub.status.busy": "2021-02-12T10:54:57.326902Z",
     "iopub.status.idle": "2021-02-12T10:54:57.328904Z",
     "shell.execute_reply": "2021-02-12T10:54:57.328904Z",
     "shell.execute_reply.started": "2021-02-12T10:54:57.326902Z"
    }
   },
   "outputs": [],
   "source": [
    "# pre_stacking_X=pd.read_pickle(\"../data/feature/Stacking_feature_X.pickle\")\n",
    "# pre_stacking_X=pd.DataFrame(pre_stacking_X[:,1])"
   ]
  },
  {
   "cell_type": "code",
   "execution_count": 205,
   "metadata": {
    "execution": {
     "iopub.execute_input": "2021-02-12T10:54:57.329905Z",
     "iopub.status.busy": "2021-02-12T10:54:57.329905Z",
     "iopub.status.idle": "2021-02-12T10:54:57.334910Z",
     "shell.execute_reply": "2021-02-12T10:54:57.334910Z",
     "shell.execute_reply.started": "2021-02-12T10:54:57.329905Z"
    }
   },
   "outputs": [],
   "source": [
    "# pre_stacking_X"
   ]
  },
  {
   "cell_type": "code",
   "execution_count": 206,
   "metadata": {
    "execution": {
     "iopub.execute_input": "2021-02-12T10:54:57.335911Z",
     "iopub.status.busy": "2021-02-12T10:54:57.335911Z",
     "iopub.status.idle": "2021-02-12T10:54:57.338913Z",
     "shell.execute_reply": "2021-02-12T10:54:57.338913Z",
     "shell.execute_reply.started": "2021-02-12T10:54:57.335911Z"
    }
   },
   "outputs": [],
   "source": [
    "# test_stacking_X=pd.read_pickle('../data/feature/Stacking_test_X.pickle')\n",
    "# test_stacking_X=pd.DataFrame(test_stacking_X[:,1])"
   ]
  },
  {
   "cell_type": "code",
   "execution_count": 207,
   "metadata": {
    "execution": {
     "iopub.execute_input": "2021-02-12T10:54:57.339914Z",
     "iopub.status.busy": "2021-02-12T10:54:57.339914Z",
     "iopub.status.idle": "2021-02-12T10:54:57.344919Z",
     "shell.execute_reply": "2021-02-12T10:54:57.344919Z",
     "shell.execute_reply.started": "2021-02-12T10:54:57.339914Z"
    }
   },
   "outputs": [],
   "source": [
    "# if mode=='pre':\n",
    "#     data['add_f']=pre_stacking_X\n",
    "# elif mode=='test':\n",
    "#     data['add_f']=test_stacking_X"
   ]
  },
  {
   "cell_type": "code",
   "execution_count": 208,
   "metadata": {
    "execution": {
     "iopub.execute_input": "2021-02-12T10:54:57.345920Z",
     "iopub.status.busy": "2021-02-12T10:54:57.344919Z",
     "iopub.status.idle": "2021-02-12T10:54:57.350925Z",
     "shell.execute_reply": "2021-02-12T10:54:57.350925Z",
     "shell.execute_reply.started": "2021-02-12T10:54:57.345920Z"
    }
   },
   "outputs": [
    {
     "data": {
      "text/plain": [
       "(255477, 391)"
      ]
     },
     "execution_count": 208,
     "metadata": {},
     "output_type": "execute_result"
    }
   ],
   "source": [
    "data.shape"
   ]
  },
  {
   "cell_type": "code",
   "execution_count": 209,
   "metadata": {
    "execution": {
     "iopub.execute_input": "2021-02-12T10:54:57.351925Z",
     "iopub.status.busy": "2021-02-12T10:54:57.351925Z",
     "iopub.status.idle": "2021-02-12T10:54:59.403790Z",
     "shell.execute_reply": "2021-02-12T10:54:59.403790Z",
     "shell.execute_reply.started": "2021-02-12T10:54:57.351925Z"
    }
   },
   "outputs": [],
   "source": [
    "# データの連結\n",
    "data=pd.merge(data, df_dummy, right_index=True, left_index=True)"
   ]
  },
  {
   "cell_type": "code",
   "execution_count": 210,
   "metadata": {
    "execution": {
     "iopub.execute_input": "2021-02-12T10:54:59.404791Z",
     "iopub.status.busy": "2021-02-12T10:54:59.404791Z",
     "iopub.status.idle": "2021-02-12T10:54:59.407794Z",
     "shell.execute_reply": "2021-02-12T10:54:59.407794Z",
     "shell.execute_reply.started": "2021-02-12T10:54:59.404791Z"
    }
   },
   "outputs": [
    {
     "data": {
      "text/plain": [
       "(255477, 2335)"
      ]
     },
     "execution_count": 210,
     "metadata": {},
     "output_type": "execute_result"
    }
   ],
   "source": [
    "data.shape"
   ]
  },
  {
   "cell_type": "code",
   "execution_count": 211,
   "metadata": {
    "execution": {
     "iopub.execute_input": "2021-02-12T10:54:59.408795Z",
     "iopub.status.busy": "2021-02-12T10:54:59.408795Z",
     "iopub.status.idle": "2021-02-12T10:54:59.413800Z",
     "shell.execute_reply": "2021-02-12T10:54:59.413800Z",
     "shell.execute_reply.started": "2021-02-12T10:54:59.408795Z"
    }
   },
   "outputs": [],
   "source": [
    "if mode=='pre':\n",
    "    with open(\"../data/feature/col_data.pickle\", \"wb\") as f:\n",
    "        l_data=data.columns.values\n",
    "        l_data=np.delete(l_data,np.where(l_data=='LoanStatus'))\n",
    "        pickle.dump(l_data, f) #保存"
   ]
  },
  {
   "cell_type": "code",
   "execution_count": 212,
   "metadata": {
    "execution": {
     "iopub.execute_input": "2021-02-12T10:54:59.414800Z",
     "iopub.status.busy": "2021-02-12T10:54:59.414800Z",
     "iopub.status.idle": "2021-02-12T10:54:59.418804Z",
     "shell.execute_reply": "2021-02-12T10:54:59.418804Z",
     "shell.execute_reply.started": "2021-02-12T10:54:59.414800Z"
    }
   },
   "outputs": [],
   "source": [
    "if mode=='test':\n",
    "    data['BankState_VI']=0\n",
    "    data['Bank_flg_dulcysedcr']=0\n",
    "    data['Bank_flg_xcckuhgpon']=0\n",
    "    data['Bank_flg_rvwcwiertf']=0\n",
    "    data['Bank_flg_kealvgfvjq']=0\n",
    "    data['Bank_flg_qppcrohjcv']=0\n",
    "    data['Bank_flg_wnadhlresh']=0\n",
    "    data['Bank_flg_mldvexdgrq']=0\n",
    "    data['Bank_flg_mrnztcrfrk']=0\n",
    "    data['NICS_IndustryGroups_8131']=0\n",
    "    \n",
    "    \n",
    "    l_data=pd.read_pickle(\"../data/feature/col_data.pickle\")\n",
    "    data= data[l_data]"
   ]
  },
  {
   "cell_type": "code",
   "execution_count": 213,
   "metadata": {
    "execution": {
     "iopub.execute_input": "2021-02-12T10:54:59.419805Z",
     "iopub.status.busy": "2021-02-12T10:54:59.419805Z",
     "iopub.status.idle": "2021-02-12T10:54:59.424809Z",
     "shell.execute_reply": "2021-02-12T10:54:59.424809Z",
     "shell.execute_reply.started": "2021-02-12T10:54:59.419805Z"
    }
   },
   "outputs": [
    {
     "data": {
      "text/plain": [
       "(255477, 2335)"
      ]
     },
     "execution_count": 213,
     "metadata": {},
     "output_type": "execute_result"
    }
   ],
   "source": [
    "data.shape"
   ]
  },
  {
   "cell_type": "code",
   "execution_count": 214,
   "metadata": {
    "execution": {
     "iopub.execute_input": "2021-02-12T10:54:59.425811Z",
     "iopub.status.busy": "2021-02-12T10:54:59.425811Z",
     "iopub.status.idle": "2021-02-12T10:55:16.589581Z",
     "shell.execute_reply": "2021-02-12T10:55:16.589581Z",
     "shell.execute_reply.started": "2021-02-12T10:54:59.425811Z"
    }
   },
   "outputs": [],
   "source": [
    "data.to_pickle(filepath+\"feature_data.pickle\")\n",
    "if mode=='pre':\n",
    "    data=data.drop(['LoanStatus'],axis=1)\n",
    "data.to_pickle(filepath+\"feature_data_X.pickle\")"
   ]
  },
  {
   "cell_type": "code",
   "execution_count": null,
   "metadata": {},
   "outputs": [],
   "source": []
  },
  {
   "cell_type": "code",
   "execution_count": null,
   "metadata": {},
   "outputs": [],
   "source": []
  },
  {
   "cell_type": "code",
   "execution_count": null,
   "metadata": {},
   "outputs": [],
   "source": []
  },
  {
   "cell_type": "code",
   "execution_count": null,
   "metadata": {},
   "outputs": [],
   "source": []
  },
  {
   "cell_type": "code",
   "execution_count": null,
   "metadata": {},
   "outputs": [],
   "source": []
  },
  {
   "cell_type": "code",
   "execution_count": null,
   "metadata": {},
   "outputs": [],
   "source": []
  },
  {
   "cell_type": "code",
   "execution_count": null,
   "metadata": {},
   "outputs": [],
   "source": []
  },
  {
   "cell_type": "code",
   "execution_count": null,
   "metadata": {},
   "outputs": [],
   "source": []
  },
  {
   "cell_type": "code",
   "execution_count": null,
   "metadata": {},
   "outputs": [],
   "source": []
  },
  {
   "cell_type": "code",
   "execution_count": null,
   "metadata": {},
   "outputs": [],
   "source": []
  },
  {
   "cell_type": "code",
   "execution_count": null,
   "metadata": {},
   "outputs": [],
   "source": []
  },
  {
   "cell_type": "code",
   "execution_count": null,
   "metadata": {},
   "outputs": [],
   "source": []
  },
  {
   "cell_type": "code",
   "execution_count": null,
   "metadata": {},
   "outputs": [],
   "source": []
  },
  {
   "cell_type": "code",
   "execution_count": null,
   "metadata": {},
   "outputs": [],
   "source": []
  },
  {
   "cell_type": "code",
   "execution_count": null,
   "metadata": {},
   "outputs": [],
   "source": []
  },
  {
   "cell_type": "code",
   "execution_count": null,
   "metadata": {},
   "outputs": [],
   "source": []
  },
  {
   "cell_type": "code",
   "execution_count": null,
   "metadata": {},
   "outputs": [],
   "source": []
  },
  {
   "cell_type": "code",
   "execution_count": null,
   "metadata": {},
   "outputs": [],
   "source": []
  }
 ],
 "metadata": {
  "kernelspec": {
   "display_name": "Python 3",
   "language": "python",
   "name": "python3"
  },
  "language_info": {
   "codemirror_mode": {
    "name": "ipython",
    "version": 3
   },
   "file_extension": ".py",
   "mimetype": "text/x-python",
   "name": "python",
   "nbconvert_exporter": "python",
   "pygments_lexer": "ipython3",
   "version": "3.7.9"
  },
  "widgets": {
   "application/vnd.jupyter.widget-state+json": {
    "state": {},
    "version_major": 2,
    "version_minor": 0
   }
  }
 },
 "nbformat": 4,
 "nbformat_minor": 4
}
