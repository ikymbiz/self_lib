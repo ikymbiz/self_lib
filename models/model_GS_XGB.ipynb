{
 "cells": [
  {
   "cell_type": "markdown",
   "metadata": {
    "execution": {
     "iopub.execute_input": "2021-01-17T06:24:00.638325Z",
     "iopub.status.busy": "2021-01-17T06:24:00.638325Z",
     "iopub.status.idle": "2021-01-17T06:24:00.640327Z",
     "shell.execute_reply": "2021-01-17T06:24:00.640327Z",
     "shell.execute_reply.started": "2021-01-17T06:24:00.638325Z"
    }
   },
   "source": [
    "# model_GS_XGB"
   ]
  },
  {
   "cell_type": "markdown",
   "metadata": {
    "execution": {
     "iopub.execute_input": "2021-01-14T16:07:35.403347Z",
     "iopub.status.busy": "2021-01-14T16:07:35.403347Z",
     "iopub.status.idle": "2021-01-14T16:07:43.720902Z",
     "shell.execute_reply": "2021-01-14T16:07:43.718902Z",
     "shell.execute_reply.started": "2021-01-14T16:07:35.403347Z"
    }
   },
   "source": [
    "#### Grid_Search\n",
    "https://scikit-learn.org/stable/modules/model_evaluation.html#scoring-parameter  \n",
    "https://www.codexa.net/hyperparameter-tuning-python/"
   ]
  },
  {
   "cell_type": "code",
   "execution_count": 1,
   "metadata": {
    "execution": {
     "iopub.execute_input": "2021-01-26T21:36:24.144450Z",
     "iopub.status.busy": "2021-01-26T21:36:24.144450Z",
     "iopub.status.idle": "2021-01-26T21:36:25.717881Z",
     "shell.execute_reply": "2021-01-26T21:36:25.717881Z",
     "shell.execute_reply.started": "2021-01-26T21:36:24.144450Z"
    }
   },
   "outputs": [
    {
     "name": "stderr",
     "output_type": "stream",
     "text": [
      "[NbConvertApp] Converting notebook model_GS_XGB.ipynb to python\n",
      "[NbConvertApp] Writing 2642 bytes to model_GS_XGB.py\n"
     ]
    }
   ],
   "source": [
    "# !jupyter nbconvert --to python model_GS_XGB.ipynb"
   ]
  },
  {
   "cell_type": "code",
   "execution_count": 1,
   "metadata": {
    "execution": {
     "iopub.execute_input": "2021-01-24T21:48:45.649546Z",
     "iopub.status.busy": "2021-01-24T21:48:45.649546Z",
     "iopub.status.idle": "2021-01-24T21:48:45.654549Z",
     "shell.execute_reply": "2021-01-24T21:48:45.654549Z",
     "shell.execute_reply.started": "2021-01-24T21:48:45.649546Z"
    }
   },
   "outputs": [],
   "source": [
    "# warningの無視\n",
    "import warnings\n",
    "warnings.filterwarnings('ignore')"
   ]
  },
  {
   "cell_type": "code",
   "execution_count": 2,
   "metadata": {
    "execution": {
     "iopub.execute_input": "2021-01-24T21:48:45.872386Z",
     "iopub.status.busy": "2021-01-24T21:48:45.871384Z",
     "iopub.status.idle": "2021-01-24T21:48:46.870426Z",
     "shell.execute_reply": "2021-01-24T21:48:46.870426Z",
     "shell.execute_reply.started": "2021-01-24T21:48:45.872386Z"
    }
   },
   "outputs": [],
   "source": [
    "import pickle\n",
    "\n",
    "import pandas as pd\n",
    "import numpy as np\n",
    "import matplotlib.pyplot as plt\n",
    "\n",
    "from sklearn.model_selection import train_test_split\n",
    "\n",
    "import xgboost as xgb\n",
    "\n",
    "from sklearn.model_selection import GridSearchCV\n",
    "from sklearn.model_selection import KFold\n",
    "\n",
    "from sklearn.metrics import f1_score\n",
    "\n",
    "%matplotlib inline"
   ]
  },
  {
   "cell_type": "markdown",
   "metadata": {},
   "source": [
    "#### =========要変更==========="
   ]
  },
  {
   "cell_type": "code",
   "execution_count": 3,
   "metadata": {
    "execution": {
     "iopub.execute_input": "2021-01-24T21:48:46.871427Z",
     "iopub.status.busy": "2021-01-24T21:48:46.871427Z",
     "iopub.status.idle": "2021-01-24T21:48:46.873429Z",
     "shell.execute_reply": "2021-01-24T21:48:46.873429Z",
     "shell.execute_reply.started": "2021-01-24T21:48:46.871427Z"
    }
   },
   "outputs": [],
   "source": [
    "path = \"../data/models/\"\n",
    "modelName= \"model_GS_XGB\""
   ]
  },
  {
   "cell_type": "markdown",
   "metadata": {},
   "source": [
    "#### ========================"
   ]
  },
  {
   "cell_type": "code",
   "execution_count": 4,
   "metadata": {
    "execution": {
     "iopub.execute_input": "2021-01-24T21:48:46.874429Z",
     "iopub.status.busy": "2021-01-24T21:48:46.874429Z",
     "iopub.status.idle": "2021-01-24T21:48:47.294812Z",
     "shell.execute_reply": "2021-01-24T21:48:47.294812Z",
     "shell.execute_reply.started": "2021-01-24T21:48:46.874429Z"
    }
   },
   "outputs": [],
   "source": [
    "train_X=pd.read_pickle('../data/feature/train_X.pickle')\n",
    "valid_X=pd.read_pickle('../data/feature/valid_X.pickle')\n",
    "test_X=pd.read_pickle('../data/feature/test_X.pickle')\n",
    "\n",
    "train_y=pd.read_pickle('../data/feature/train_y.pickle')\n",
    "valid_y=pd.read_pickle('../data/feature/valid_y.pickle')\n",
    "test_y=pd.read_pickle('../data/feature/test_y.pickle')"
   ]
  },
  {
   "cell_type": "code",
   "execution_count": 5,
   "metadata": {
    "execution": {
     "iopub.execute_input": "2021-01-24T21:48:47.295813Z",
     "iopub.status.busy": "2021-01-24T21:48:47.295813Z",
     "iopub.status.idle": "2021-01-24T21:48:47.936395Z",
     "shell.execute_reply": "2021-01-24T21:48:47.936395Z",
     "shell.execute_reply.started": "2021-01-24T21:48:47.295813Z"
    }
   },
   "outputs": [],
   "source": [
    "# xgboost用の型に変換\n",
    "# https://xgboost.readthedocs.io/en/latest/python/python_intro.html#data-interface\n",
    "# DataFrame.dtypes for data must be int, float, bool or categorical.\n",
    "# When categorical type is supplied, DMatrix parameter `enable_categorical` must be set to `True`.\n",
    "train_data = xgb.DMatrix(train_X, label=train_y,enable_categorical=True)\n",
    "test_data = xgb.DMatrix(test_X, label=test_y,enable_categorical=True)\n",
    "valid_data = xgb.DMatrix(valid_X, label=valid_y,enable_categorical=True)"
   ]
  },
  {
   "cell_type": "code",
   "execution_count": 6,
   "metadata": {
    "execution": {
     "iopub.execute_input": "2021-01-24T21:48:47.937396Z",
     "iopub.status.busy": "2021-01-24T21:48:47.937396Z",
     "iopub.status.idle": "2021-01-24T21:48:47.940399Z",
     "shell.execute_reply": "2021-01-24T21:48:47.940399Z",
     "shell.execute_reply.started": "2021-01-24T21:48:47.937396Z"
    }
   },
   "outputs": [],
   "source": [
    "\"\"\"ハイパーパラメータの max_depth(木の深さ), \n",
    "# n_estimators(決定木の数)に関してグリッドサーチを行う\n",
    "# グリッドサーチに使用するパラメータの値を用意\n",
    "\"\"\"\n",
    "seed=1\n",
    "params = {\n",
    "    'max_depth': [10, 20, 30, 50],\n",
    "    'n_estimators': [10, 100, 1000]}"
   ]
  },
  {
   "cell_type": "markdown",
   "metadata": {},
   "source": [
    "#### =========要変更==========="
   ]
  },
  {
   "cell_type": "code",
   "execution_count": 7,
   "metadata": {
    "execution": {
     "iopub.execute_input": "2021-01-24T21:48:47.941399Z",
     "iopub.status.busy": "2021-01-24T21:48:47.941399Z",
     "iopub.status.idle": "2021-01-24T21:48:47.947405Z",
     "shell.execute_reply": "2021-01-24T21:48:47.947405Z",
     "shell.execute_reply.started": "2021-01-24T21:48:47.941399Z"
    }
   },
   "outputs": [],
   "source": [
    "model=xgb.XGBClassifier(random_state=seed)"
   ]
  },
  {
   "cell_type": "markdown",
   "metadata": {},
   "source": [
    "#### ========================"
   ]
  },
  {
   "cell_type": "code",
   "execution_count": 8,
   "metadata": {
    "execution": {
     "iopub.execute_input": "2021-01-24T21:48:48.192370Z",
     "iopub.status.busy": "2021-01-24T21:48:48.191369Z",
     "iopub.status.idle": "2021-01-24T21:48:48.194371Z",
     "shell.execute_reply": "2021-01-24T21:48:48.194371Z",
     "shell.execute_reply.started": "2021-01-24T21:48:48.192370Z"
    }
   },
   "outputs": [],
   "source": [
    "grid = GridSearchCV(estimator=model,\n",
    "    param_grid=params,\n",
    "    n_jobs=1,\n",
    "    cv=KFold(5,shuffle=True, random_state=seed),\n",
    "    scoring='f1',\n",
    "    verbose=3,\n",
    "    return_train_score=True)"
   ]
  },
  {
   "cell_type": "code",
   "execution_count": 10,
   "metadata": {
    "execution": {
     "iopub.execute_input": "2021-01-24T21:55:12.875109Z",
     "iopub.status.busy": "2021-01-24T21:55:12.874107Z",
     "iopub.status.idle": "2021-01-24T22:40:54.207901Z",
     "shell.execute_reply": "2021-01-24T22:40:54.207901Z",
     "shell.execute_reply.started": "2021-01-24T21:55:12.874107Z"
    }
   },
   "outputs": [
    {
     "name": "stdout",
     "output_type": "stream",
     "text": [
      "Fitting 5 folds for each of 12 candidates, totalling 60 fits\n",
      "[06:55:13] WARNING: C:/Users/Administrator/workspace/xgboost-win64_release_1.3.0/src/learner.cc:1061: Starting in XGBoost 1.3.0, the default evaluation metric used with the objective 'binary:logistic' was changed from 'error' to 'logloss'. Explicitly set eval_metric if you'd like to restore the old behavior.\n",
      "[CV 1/5] END ..................max_depth=10, n_estimators=10; total time=   1.2s\n",
      "[06:55:14] WARNING: C:/Users/Administrator/workspace/xgboost-win64_release_1.3.0/src/learner.cc:1061: Starting in XGBoost 1.3.0, the default evaluation metric used with the objective 'binary:logistic' was changed from 'error' to 'logloss'. Explicitly set eval_metric if you'd like to restore the old behavior.\n",
      "[CV 2/5] END ..................max_depth=10, n_estimators=10; total time=   1.2s\n",
      "[06:55:16] WARNING: C:/Users/Administrator/workspace/xgboost-win64_release_1.3.0/src/learner.cc:1061: Starting in XGBoost 1.3.0, the default evaluation metric used with the objective 'binary:logistic' was changed from 'error' to 'logloss'. Explicitly set eval_metric if you'd like to restore the old behavior.\n",
      "[CV 3/5] END ..................max_depth=10, n_estimators=10; total time=   1.1s\n",
      "[06:55:17] WARNING: C:/Users/Administrator/workspace/xgboost-win64_release_1.3.0/src/learner.cc:1061: Starting in XGBoost 1.3.0, the default evaluation metric used with the objective 'binary:logistic' was changed from 'error' to 'logloss'. Explicitly set eval_metric if you'd like to restore the old behavior.\n",
      "[CV 4/5] END ..................max_depth=10, n_estimators=10; total time=   1.1s\n",
      "[06:55:19] WARNING: C:/Users/Administrator/workspace/xgboost-win64_release_1.3.0/src/learner.cc:1061: Starting in XGBoost 1.3.0, the default evaluation metric used with the objective 'binary:logistic' was changed from 'error' to 'logloss'. Explicitly set eval_metric if you'd like to restore the old behavior.\n",
      "[CV 5/5] END ..................max_depth=10, n_estimators=10; total time=   1.1s\n",
      "[06:55:20] WARNING: C:/Users/Administrator/workspace/xgboost-win64_release_1.3.0/src/learner.cc:1061: Starting in XGBoost 1.3.0, the default evaluation metric used with the objective 'binary:logistic' was changed from 'error' to 'logloss'. Explicitly set eval_metric if you'd like to restore the old behavior.\n",
      "[CV 1/5] END .................max_depth=10, n_estimators=100; total time=   7.6s\n",
      "[06:55:28] WARNING: C:/Users/Administrator/workspace/xgboost-win64_release_1.3.0/src/learner.cc:1061: Starting in XGBoost 1.3.0, the default evaluation metric used with the objective 'binary:logistic' was changed from 'error' to 'logloss'. Explicitly set eval_metric if you'd like to restore the old behavior.\n",
      "[CV 2/5] END .................max_depth=10, n_estimators=100; total time=   7.5s\n",
      "[06:55:36] WARNING: C:/Users/Administrator/workspace/xgboost-win64_release_1.3.0/src/learner.cc:1061: Starting in XGBoost 1.3.0, the default evaluation metric used with the objective 'binary:logistic' was changed from 'error' to 'logloss'. Explicitly set eval_metric if you'd like to restore the old behavior.\n",
      "[CV 3/5] END .................max_depth=10, n_estimators=100; total time=   7.6s\n",
      "[06:55:44] WARNING: C:/Users/Administrator/workspace/xgboost-win64_release_1.3.0/src/learner.cc:1061: Starting in XGBoost 1.3.0, the default evaluation metric used with the objective 'binary:logistic' was changed from 'error' to 'logloss'. Explicitly set eval_metric if you'd like to restore the old behavior.\n",
      "[CV 4/5] END .................max_depth=10, n_estimators=100; total time=   7.7s\n",
      "[06:55:52] WARNING: C:/Users/Administrator/workspace/xgboost-win64_release_1.3.0/src/learner.cc:1061: Starting in XGBoost 1.3.0, the default evaluation metric used with the objective 'binary:logistic' was changed from 'error' to 'logloss'. Explicitly set eval_metric if you'd like to restore the old behavior.\n",
      "[CV 5/5] END .................max_depth=10, n_estimators=100; total time=   7.6s\n",
      "[06:56:00] WARNING: C:/Users/Administrator/workspace/xgboost-win64_release_1.3.0/src/learner.cc:1061: Starting in XGBoost 1.3.0, the default evaluation metric used with the objective 'binary:logistic' was changed from 'error' to 'logloss'. Explicitly set eval_metric if you'd like to restore the old behavior.\n",
      "[CV 1/5] END ................max_depth=10, n_estimators=1000; total time= 1.1min\n",
      "[06:57:10] WARNING: C:/Users/Administrator/workspace/xgboost-win64_release_1.3.0/src/learner.cc:1061: Starting in XGBoost 1.3.0, the default evaluation metric used with the objective 'binary:logistic' was changed from 'error' to 'logloss'. Explicitly set eval_metric if you'd like to restore the old behavior.\n",
      "[CV 2/5] END ................max_depth=10, n_estimators=1000; total time= 1.1min\n",
      "[06:58:18] WARNING: C:/Users/Administrator/workspace/xgboost-win64_release_1.3.0/src/learner.cc:1061: Starting in XGBoost 1.3.0, the default evaluation metric used with the objective 'binary:logistic' was changed from 'error' to 'logloss'. Explicitly set eval_metric if you'd like to restore the old behavior.\n",
      "[CV 3/5] END ................max_depth=10, n_estimators=1000; total time= 1.2min\n",
      "[06:59:29] WARNING: C:/Users/Administrator/workspace/xgboost-win64_release_1.3.0/src/learner.cc:1061: Starting in XGBoost 1.3.0, the default evaluation metric used with the objective 'binary:logistic' was changed from 'error' to 'logloss'. Explicitly set eval_metric if you'd like to restore the old behavior.\n",
      "[CV 4/5] END ................max_depth=10, n_estimators=1000; total time= 1.2min\n",
      "[07:00:39] WARNING: C:/Users/Administrator/workspace/xgboost-win64_release_1.3.0/src/learner.cc:1061: Starting in XGBoost 1.3.0, the default evaluation metric used with the objective 'binary:logistic' was changed from 'error' to 'logloss'. Explicitly set eval_metric if you'd like to restore the old behavior.\n",
      "[CV 5/5] END ................max_depth=10, n_estimators=1000; total time= 1.2min\n",
      "[07:01:53] WARNING: C:/Users/Administrator/workspace/xgboost-win64_release_1.3.0/src/learner.cc:1061: Starting in XGBoost 1.3.0, the default evaluation metric used with the objective 'binary:logistic' was changed from 'error' to 'logloss'. Explicitly set eval_metric if you'd like to restore the old behavior.\n",
      "[CV 1/5] END ..................max_depth=20, n_estimators=10; total time=   2.2s\n",
      "[07:01:56] WARNING: C:/Users/Administrator/workspace/xgboost-win64_release_1.3.0/src/learner.cc:1061: Starting in XGBoost 1.3.0, the default evaluation metric used with the objective 'binary:logistic' was changed from 'error' to 'logloss'. Explicitly set eval_metric if you'd like to restore the old behavior.\n",
      "[CV 2/5] END ..................max_depth=20, n_estimators=10; total time=   2.1s\n",
      "[07:01:58] WARNING: C:/Users/Administrator/workspace/xgboost-win64_release_1.3.0/src/learner.cc:1061: Starting in XGBoost 1.3.0, the default evaluation metric used with the objective 'binary:logistic' was changed from 'error' to 'logloss'. Explicitly set eval_metric if you'd like to restore the old behavior.\n",
      "[CV 3/5] END ..................max_depth=20, n_estimators=10; total time=   2.1s\n",
      "[07:02:01] WARNING: C:/Users/Administrator/workspace/xgboost-win64_release_1.3.0/src/learner.cc:1061: Starting in XGBoost 1.3.0, the default evaluation metric used with the objective 'binary:logistic' was changed from 'error' to 'logloss'. Explicitly set eval_metric if you'd like to restore the old behavior.\n",
      "[CV 4/5] END ..................max_depth=20, n_estimators=10; total time=   2.1s\n",
      "[07:02:03] WARNING: C:/Users/Administrator/workspace/xgboost-win64_release_1.3.0/src/learner.cc:1061: Starting in XGBoost 1.3.0, the default evaluation metric used with the objective 'binary:logistic' was changed from 'error' to 'logloss'. Explicitly set eval_metric if you'd like to restore the old behavior.\n",
      "[CV 5/5] END ..................max_depth=20, n_estimators=10; total time=   2.1s\n",
      "[07:02:06] WARNING: C:/Users/Administrator/workspace/xgboost-win64_release_1.3.0/src/learner.cc:1061: Starting in XGBoost 1.3.0, the default evaluation metric used with the objective 'binary:logistic' was changed from 'error' to 'logloss'. Explicitly set eval_metric if you'd like to restore the old behavior.\n",
      "[CV 1/5] END .................max_depth=20, n_estimators=100; total time=  15.6s\n",
      "[07:02:22] WARNING: C:/Users/Administrator/workspace/xgboost-win64_release_1.3.0/src/learner.cc:1061: Starting in XGBoost 1.3.0, the default evaluation metric used with the objective 'binary:logistic' was changed from 'error' to 'logloss'. Explicitly set eval_metric if you'd like to restore the old behavior.\n",
      "[CV 2/5] END .................max_depth=20, n_estimators=100; total time=  15.6s\n",
      "[07:02:38] WARNING: C:/Users/Administrator/workspace/xgboost-win64_release_1.3.0/src/learner.cc:1061: Starting in XGBoost 1.3.0, the default evaluation metric used with the objective 'binary:logistic' was changed from 'error' to 'logloss'. Explicitly set eval_metric if you'd like to restore the old behavior.\n",
      "[CV 3/5] END .................max_depth=20, n_estimators=100; total time=  15.7s\n",
      "[07:02:54] WARNING: C:/Users/Administrator/workspace/xgboost-win64_release_1.3.0/src/learner.cc:1061: Starting in XGBoost 1.3.0, the default evaluation metric used with the objective 'binary:logistic' was changed from 'error' to 'logloss'. Explicitly set eval_metric if you'd like to restore the old behavior.\n",
      "[CV 4/5] END .................max_depth=20, n_estimators=100; total time=  15.4s\n",
      "[07:03:10] WARNING: C:/Users/Administrator/workspace/xgboost-win64_release_1.3.0/src/learner.cc:1061: Starting in XGBoost 1.3.0, the default evaluation metric used with the objective 'binary:logistic' was changed from 'error' to 'logloss'. Explicitly set eval_metric if you'd like to restore the old behavior.\n",
      "[CV 5/5] END .................max_depth=20, n_estimators=100; total time=  15.4s\n",
      "[07:03:26] WARNING: C:/Users/Administrator/workspace/xgboost-win64_release_1.3.0/src/learner.cc:1061: Starting in XGBoost 1.3.0, the default evaluation metric used with the objective 'binary:logistic' was changed from 'error' to 'logloss'. Explicitly set eval_metric if you'd like to restore the old behavior.\n",
      "[CV 1/5] END ................max_depth=20, n_estimators=1000; total time= 1.9min\n",
      "[07:05:21] WARNING: C:/Users/Administrator/workspace/xgboost-win64_release_1.3.0/src/learner.cc:1061: Starting in XGBoost 1.3.0, the default evaluation metric used with the objective 'binary:logistic' was changed from 'error' to 'logloss'. Explicitly set eval_metric if you'd like to restore the old behavior.\n",
      "[CV 2/5] END ................max_depth=20, n_estimators=1000; total time= 2.1min\n",
      "[07:07:26] WARNING: C:/Users/Administrator/workspace/xgboost-win64_release_1.3.0/src/learner.cc:1061: Starting in XGBoost 1.3.0, the default evaluation metric used with the objective 'binary:logistic' was changed from 'error' to 'logloss'. Explicitly set eval_metric if you'd like to restore the old behavior.\n",
      "[CV 3/5] END ................max_depth=20, n_estimators=1000; total time= 1.9min\n",
      "[07:09:22] WARNING: C:/Users/Administrator/workspace/xgboost-win64_release_1.3.0/src/learner.cc:1061: Starting in XGBoost 1.3.0, the default evaluation metric used with the objective 'binary:logistic' was changed from 'error' to 'logloss'. Explicitly set eval_metric if you'd like to restore the old behavior.\n",
      "[CV 4/5] END ................max_depth=20, n_estimators=1000; total time= 1.9min\n",
      "[07:11:18] WARNING: C:/Users/Administrator/workspace/xgboost-win64_release_1.3.0/src/learner.cc:1061: Starting in XGBoost 1.3.0, the default evaluation metric used with the objective 'binary:logistic' was changed from 'error' to 'logloss'. Explicitly set eval_metric if you'd like to restore the old behavior.\n",
      "[CV 5/5] END ................max_depth=20, n_estimators=1000; total time= 1.9min\n",
      "[07:13:13] WARNING: C:/Users/Administrator/workspace/xgboost-win64_release_1.3.0/src/learner.cc:1061: Starting in XGBoost 1.3.0, the default evaluation metric used with the objective 'binary:logistic' was changed from 'error' to 'logloss'. Explicitly set eval_metric if you'd like to restore the old behavior.\n",
      "[CV 1/5] END ..................max_depth=30, n_estimators=10; total time=   2.5s\n",
      "[07:13:16] WARNING: C:/Users/Administrator/workspace/xgboost-win64_release_1.3.0/src/learner.cc:1061: Starting in XGBoost 1.3.0, the default evaluation metric used with the objective 'binary:logistic' was changed from 'error' to 'logloss'. Explicitly set eval_metric if you'd like to restore the old behavior.\n",
      "[CV 2/5] END ..................max_depth=30, n_estimators=10; total time=   2.5s\n",
      "[07:13:19] WARNING: C:/Users/Administrator/workspace/xgboost-win64_release_1.3.0/src/learner.cc:1061: Starting in XGBoost 1.3.0, the default evaluation metric used with the objective 'binary:logistic' was changed from 'error' to 'logloss'. Explicitly set eval_metric if you'd like to restore the old behavior.\n",
      "[CV 3/5] END ..................max_depth=30, n_estimators=10; total time=   2.5s\n",
      "[07:13:22] WARNING: C:/Users/Administrator/workspace/xgboost-win64_release_1.3.0/src/learner.cc:1061: Starting in XGBoost 1.3.0, the default evaluation metric used with the objective 'binary:logistic' was changed from 'error' to 'logloss'. Explicitly set eval_metric if you'd like to restore the old behavior.\n",
      "[CV 4/5] END ..................max_depth=30, n_estimators=10; total time=   2.5s\n",
      "[07:13:25] WARNING: C:/Users/Administrator/workspace/xgboost-win64_release_1.3.0/src/learner.cc:1061: Starting in XGBoost 1.3.0, the default evaluation metric used with the objective 'binary:logistic' was changed from 'error' to 'logloss'. Explicitly set eval_metric if you'd like to restore the old behavior.\n",
      "[CV 5/5] END ..................max_depth=30, n_estimators=10; total time=   2.5s\n",
      "[07:13:28] WARNING: C:/Users/Administrator/workspace/xgboost-win64_release_1.3.0/src/learner.cc:1061: Starting in XGBoost 1.3.0, the default evaluation metric used with the objective 'binary:logistic' was changed from 'error' to 'logloss'. Explicitly set eval_metric if you'd like to restore the old behavior.\n",
      "[CV 1/5] END .................max_depth=30, n_estimators=100; total time=  19.0s\n",
      "[07:13:47] WARNING: C:/Users/Administrator/workspace/xgboost-win64_release_1.3.0/src/learner.cc:1061: Starting in XGBoost 1.3.0, the default evaluation metric used with the objective 'binary:logistic' was changed from 'error' to 'logloss'. Explicitly set eval_metric if you'd like to restore the old behavior.\n",
      "[CV 2/5] END .................max_depth=30, n_estimators=100; total time=  19.1s\n",
      "[07:14:07] WARNING: C:/Users/Administrator/workspace/xgboost-win64_release_1.3.0/src/learner.cc:1061: Starting in XGBoost 1.3.0, the default evaluation metric used with the objective 'binary:logistic' was changed from 'error' to 'logloss'. Explicitly set eval_metric if you'd like to restore the old behavior.\n",
      "[CV 3/5] END .................max_depth=30, n_estimators=100; total time=  18.8s\n",
      "[07:14:26] WARNING: C:/Users/Administrator/workspace/xgboost-win64_release_1.3.0/src/learner.cc:1061: Starting in XGBoost 1.3.0, the default evaluation metric used with the objective 'binary:logistic' was changed from 'error' to 'logloss'. Explicitly set eval_metric if you'd like to restore the old behavior.\n",
      "[CV 4/5] END .................max_depth=30, n_estimators=100; total time=  18.8s\n",
      "[07:14:45] WARNING: C:/Users/Administrator/workspace/xgboost-win64_release_1.3.0/src/learner.cc:1061: Starting in XGBoost 1.3.0, the default evaluation metric used with the objective 'binary:logistic' was changed from 'error' to 'logloss'. Explicitly set eval_metric if you'd like to restore the old behavior.\n",
      "[CV 5/5] END .................max_depth=30, n_estimators=100; total time=  18.7s\n",
      "[07:15:04] WARNING: C:/Users/Administrator/workspace/xgboost-win64_release_1.3.0/src/learner.cc:1061: Starting in XGBoost 1.3.0, the default evaluation metric used with the objective 'binary:logistic' was changed from 'error' to 'logloss'. Explicitly set eval_metric if you'd like to restore the old behavior.\n",
      "[CV 1/5] END ................max_depth=30, n_estimators=1000; total time= 2.1min\n",
      "[07:17:11] WARNING: C:/Users/Administrator/workspace/xgboost-win64_release_1.3.0/src/learner.cc:1061: Starting in XGBoost 1.3.0, the default evaluation metric used with the objective 'binary:logistic' was changed from 'error' to 'logloss'. Explicitly set eval_metric if you'd like to restore the old behavior.\n",
      "[CV 2/5] END ................max_depth=30, n_estimators=1000; total time= 2.1min\n",
      "[07:19:18] WARNING: C:/Users/Administrator/workspace/xgboost-win64_release_1.3.0/src/learner.cc:1061: Starting in XGBoost 1.3.0, the default evaluation metric used with the objective 'binary:logistic' was changed from 'error' to 'logloss'. Explicitly set eval_metric if you'd like to restore the old behavior.\n",
      "[CV 3/5] END ................max_depth=30, n_estimators=1000; total time= 2.1min\n",
      "[07:21:24] WARNING: C:/Users/Administrator/workspace/xgboost-win64_release_1.3.0/src/learner.cc:1061: Starting in XGBoost 1.3.0, the default evaluation metric used with the objective 'binary:logistic' was changed from 'error' to 'logloss'. Explicitly set eval_metric if you'd like to restore the old behavior.\n",
      "[CV 4/5] END ................max_depth=30, n_estimators=1000; total time= 2.1min\n",
      "[07:23:28] WARNING: C:/Users/Administrator/workspace/xgboost-win64_release_1.3.0/src/learner.cc:1061: Starting in XGBoost 1.3.0, the default evaluation metric used with the objective 'binary:logistic' was changed from 'error' to 'logloss'. Explicitly set eval_metric if you'd like to restore the old behavior.\n",
      "[CV 5/5] END ................max_depth=30, n_estimators=1000; total time= 2.1min\n",
      "[07:25:33] WARNING: C:/Users/Administrator/workspace/xgboost-win64_release_1.3.0/src/learner.cc:1061: Starting in XGBoost 1.3.0, the default evaluation metric used with the objective 'binary:logistic' was changed from 'error' to 'logloss'. Explicitly set eval_metric if you'd like to restore the old behavior.\n",
      "[CV 1/5] END ..................max_depth=50, n_estimators=10; total time=   2.6s\n",
      "[07:25:36] WARNING: C:/Users/Administrator/workspace/xgboost-win64_release_1.3.0/src/learner.cc:1061: Starting in XGBoost 1.3.0, the default evaluation metric used with the objective 'binary:logistic' was changed from 'error' to 'logloss'. Explicitly set eval_metric if you'd like to restore the old behavior.\n",
      "[CV 2/5] END ..................max_depth=50, n_estimators=10; total time=   2.5s\n",
      "[07:25:39] WARNING: C:/Users/Administrator/workspace/xgboost-win64_release_1.3.0/src/learner.cc:1061: Starting in XGBoost 1.3.0, the default evaluation metric used with the objective 'binary:logistic' was changed from 'error' to 'logloss'. Explicitly set eval_metric if you'd like to restore the old behavior.\n",
      "[CV 3/5] END ..................max_depth=50, n_estimators=10; total time=   2.6s\n",
      "[07:25:42] WARNING: C:/Users/Administrator/workspace/xgboost-win64_release_1.3.0/src/learner.cc:1061: Starting in XGBoost 1.3.0, the default evaluation metric used with the objective 'binary:logistic' was changed from 'error' to 'logloss'. Explicitly set eval_metric if you'd like to restore the old behavior.\n",
      "[CV 4/5] END ..................max_depth=50, n_estimators=10; total time=   2.5s\n",
      "[07:25:45] WARNING: C:/Users/Administrator/workspace/xgboost-win64_release_1.3.0/src/learner.cc:1061: Starting in XGBoost 1.3.0, the default evaluation metric used with the objective 'binary:logistic' was changed from 'error' to 'logloss'. Explicitly set eval_metric if you'd like to restore the old behavior.\n",
      "[CV 5/5] END ..................max_depth=50, n_estimators=10; total time=   2.6s\n",
      "[07:25:48] WARNING: C:/Users/Administrator/workspace/xgboost-win64_release_1.3.0/src/learner.cc:1061: Starting in XGBoost 1.3.0, the default evaluation metric used with the objective 'binary:logistic' was changed from 'error' to 'logloss'. Explicitly set eval_metric if you'd like to restore the old behavior.\n",
      "[CV 1/5] END .................max_depth=50, n_estimators=100; total time=  19.8s\n",
      "[07:26:08] WARNING: C:/Users/Administrator/workspace/xgboost-win64_release_1.3.0/src/learner.cc:1061: Starting in XGBoost 1.3.0, the default evaluation metric used with the objective 'binary:logistic' was changed from 'error' to 'logloss'. Explicitly set eval_metric if you'd like to restore the old behavior.\n",
      "[CV 2/5] END .................max_depth=50, n_estimators=100; total time=  20.0s\n",
      "[07:26:29] WARNING: C:/Users/Administrator/workspace/xgboost-win64_release_1.3.0/src/learner.cc:1061: Starting in XGBoost 1.3.0, the default evaluation metric used with the objective 'binary:logistic' was changed from 'error' to 'logloss'. Explicitly set eval_metric if you'd like to restore the old behavior.\n",
      "[CV 3/5] END .................max_depth=50, n_estimators=100; total time=  20.0s\n",
      "[07:26:49] WARNING: C:/Users/Administrator/workspace/xgboost-win64_release_1.3.0/src/learner.cc:1061: Starting in XGBoost 1.3.0, the default evaluation metric used with the objective 'binary:logistic' was changed from 'error' to 'logloss'. Explicitly set eval_metric if you'd like to restore the old behavior.\n",
      "[CV 4/5] END .................max_depth=50, n_estimators=100; total time=  19.6s\n",
      "[07:27:09] WARNING: C:/Users/Administrator/workspace/xgboost-win64_release_1.3.0/src/learner.cc:1061: Starting in XGBoost 1.3.0, the default evaluation metric used with the objective 'binary:logistic' was changed from 'error' to 'logloss'. Explicitly set eval_metric if you'd like to restore the old behavior.\n",
      "[CV 5/5] END .................max_depth=50, n_estimators=100; total time=  19.4s\n",
      "[07:27:29] WARNING: C:/Users/Administrator/workspace/xgboost-win64_release_1.3.0/src/learner.cc:1061: Starting in XGBoost 1.3.0, the default evaluation metric used with the objective 'binary:logistic' was changed from 'error' to 'logloss'. Explicitly set eval_metric if you'd like to restore the old behavior.\n",
      "[CV 1/5] END ................max_depth=50, n_estimators=1000; total time= 2.1min\n",
      "[07:29:36] WARNING: C:/Users/Administrator/workspace/xgboost-win64_release_1.3.0/src/learner.cc:1061: Starting in XGBoost 1.3.0, the default evaluation metric used with the objective 'binary:logistic' was changed from 'error' to 'logloss'. Explicitly set eval_metric if you'd like to restore the old behavior.\n",
      "[CV 2/5] END ................max_depth=50, n_estimators=1000; total time= 2.1min\n",
      "[07:31:45] WARNING: C:/Users/Administrator/workspace/xgboost-win64_release_1.3.0/src/learner.cc:1061: Starting in XGBoost 1.3.0, the default evaluation metric used with the objective 'binary:logistic' was changed from 'error' to 'logloss'. Explicitly set eval_metric if you'd like to restore the old behavior.\n",
      "[CV 3/5] END ................max_depth=50, n_estimators=1000; total time= 2.1min\n",
      "[07:33:53] WARNING: C:/Users/Administrator/workspace/xgboost-win64_release_1.3.0/src/learner.cc:1061: Starting in XGBoost 1.3.0, the default evaluation metric used with the objective 'binary:logistic' was changed from 'error' to 'logloss'. Explicitly set eval_metric if you'd like to restore the old behavior.\n",
      "[CV 4/5] END ................max_depth=50, n_estimators=1000; total time= 2.1min\n",
      "[07:36:00] WARNING: C:/Users/Administrator/workspace/xgboost-win64_release_1.3.0/src/learner.cc:1061: Starting in XGBoost 1.3.0, the default evaluation metric used with the objective 'binary:logistic' was changed from 'error' to 'logloss'. Explicitly set eval_metric if you'd like to restore the old behavior.\n",
      "[CV 5/5] END ................max_depth=50, n_estimators=1000; total time= 2.1min\n",
      "[07:38:08] WARNING: C:/Users/Administrator/workspace/xgboost-win64_release_1.3.0/src/learner.cc:1061: Starting in XGBoost 1.3.0, the default evaluation metric used with the objective 'binary:logistic' was changed from 'error' to 'logloss'. Explicitly set eval_metric if you'd like to restore the old behavior.\n"
     ]
    },
    {
     "data": {
      "text/plain": [
       "GridSearchCV(cv=KFold(n_splits=5, random_state=1, shuffle=True),\n",
       "             estimator=XGBClassifier(base_score=None, booster=None,\n",
       "                                     colsample_bylevel=None,\n",
       "                                     colsample_bynode=None,\n",
       "                                     colsample_bytree=None, gamma=None,\n",
       "                                     gpu_id=None, importance_type='gain',\n",
       "                                     interaction_constraints=None,\n",
       "                                     learning_rate=None, max_delta_step=None,\n",
       "                                     max_depth=None, min_child_weight=None,\n",
       "                                     missing=nan, monotone_constraints=None,\n",
       "                                     n_estimators=100, n_jobs=None,\n",
       "                                     num_parallel_tree=None, random_state=1,\n",
       "                                     reg_alpha=None, reg_lambda=None,\n",
       "                                     scale_pos_weight=None, subsample=None,\n",
       "                                     tree_method=None, validate_parameters=None,\n",
       "                                     verbosity=None),\n",
       "             n_jobs=1,\n",
       "             param_grid={'max_depth': [10, 20, 30, 50],\n",
       "                         'n_estimators': [10, 100, 1000]},\n",
       "             return_train_score=True, scoring='f1', verbose=3)"
      ]
     },
     "execution_count": 10,
     "metadata": {},
     "output_type": "execute_result"
    }
   ],
   "source": [
    "grid.fit(train_X,  train_y)"
   ]
  },
  {
   "cell_type": "code",
   "execution_count": 11,
   "metadata": {
    "execution": {
     "iopub.execute_input": "2021-01-25T10:24:09.500942Z",
     "iopub.status.busy": "2021-01-25T10:24:09.500942Z",
     "iopub.status.idle": "2021-01-25T10:24:09.503945Z",
     "shell.execute_reply": "2021-01-25T10:24:09.503945Z",
     "shell.execute_reply.started": "2021-01-25T10:24:09.500942Z"
    }
   },
   "outputs": [],
   "source": [
    "# 最適解でモデルを作成\n",
    "model = grid.best_estimator_"
   ]
  },
  {
   "cell_type": "code",
   "execution_count": 12,
   "metadata": {
    "execution": {
     "iopub.execute_input": "2021-01-25T10:24:09.990693Z",
     "iopub.status.busy": "2021-01-25T10:24:09.990693Z",
     "iopub.status.idle": "2021-01-25T10:24:10.910557Z",
     "shell.execute_reply": "2021-01-25T10:24:10.910557Z",
     "shell.execute_reply.started": "2021-01-25T10:24:09.990693Z"
    }
   },
   "outputs": [],
   "source": [
    "# モデルの保存\n",
    "with open(path + modelName + '.pickle', mode='wb') as f:\n",
    "    pickle.dump(model, f)"
   ]
  },
  {
   "cell_type": "markdown",
   "metadata": {},
   "source": [
    "#### ========================"
   ]
  },
  {
   "cell_type": "code",
   "execution_count": 13,
   "metadata": {
    "execution": {
     "iopub.execute_input": "2021-01-25T10:24:10.911558Z",
     "iopub.status.busy": "2021-01-25T10:24:10.911558Z",
     "iopub.status.idle": "2021-01-25T10:24:11.313923Z",
     "shell.execute_reply": "2021-01-25T10:24:11.313923Z",
     "shell.execute_reply.started": "2021-01-25T10:24:10.911558Z"
    }
   },
   "outputs": [],
   "source": [
    "pred=model.predict(test_X)"
   ]
  },
  {
   "cell_type": "code",
   "execution_count": 14,
   "metadata": {
    "execution": {
     "iopub.execute_input": "2021-01-25T10:24:11.314924Z",
     "iopub.status.busy": "2021-01-25T10:24:11.314924Z",
     "iopub.status.idle": "2021-01-25T10:24:11.331940Z",
     "shell.execute_reply": "2021-01-25T10:24:11.331940Z",
     "shell.execute_reply.started": "2021-01-25T10:24:11.314924Z"
    }
   },
   "outputs": [
    {
     "name": "stdout",
     "output_type": "stream",
     "text": [
      "0.9502808841287342\n"
     ]
    }
   ],
   "source": [
    "print(f1_score(test_y, pred))"
   ]
  },
  {
   "cell_type": "markdown",
   "metadata": {},
   "source": [
    "#### ========================"
   ]
  },
  {
   "cell_type": "code",
   "execution_count": 18,
   "metadata": {
    "execution": {
     "iopub.execute_input": "2021-01-25T11:57:40.513645Z",
     "iopub.status.busy": "2021-01-25T11:57:40.513645Z",
     "iopub.status.idle": "2021-01-25T11:57:42.326197Z",
     "shell.execute_reply": "2021-01-25T11:57:42.326197Z",
     "shell.execute_reply.started": "2021-01-25T11:57:40.513645Z"
    }
   },
   "outputs": [
    {
     "data": {
      "text/plain": [
       "<AxesSubplot:title={'center':'Feature importance'}, xlabel='F score', ylabel='Features'>"
      ]
     },
     "execution_count": 18,
     "metadata": {},
     "output_type": "execute_result"
    },
    {
     "data": {
      "image/png": "[encoded data removed]",
      "text/plain": [
       "<Figure size 432x288 with 1 Axes>"
      ]
     },
     "metadata": {
      "needs_background": "light"
     },
     "output_type": "display_data"
    }
   ],
   "source": [
    "xgb.plot_importance(model,max_num_features=20)"
   ]
  },
  {
   "cell_type": "code",
   "execution_count": null,
   "metadata": {},
   "outputs": [],
   "source": []
  }
 ],
 "metadata": {
  "kernelspec": {
   "display_name": "Python 3",
   "language": "python",
   "name": "python3"
  },
  "language_info": {
   "codemirror_mode": {
    "name": "ipython",
    "version": 3
   },
   "file_extension": ".py",
   "mimetype": "text/x-python",
   "name": "python",
   "nbconvert_exporter": "python",
   "pygments_lexer": "ipython3",
   "version": "3.7.9"
  },
  "widgets": {
   "application/vnd.jupyter.widget-state+json": {
    "state": {},
    "version_major": 2,
    "version_minor": 0
   }
  }
 },
 "nbformat": 4,
 "nbformat_minor": 4
}
