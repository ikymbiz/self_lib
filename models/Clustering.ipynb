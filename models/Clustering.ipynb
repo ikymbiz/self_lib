{
 "cells": [
  {
   "cell_type": "markdown",
   "metadata": {},
   "source": [
    "# Clustering"
   ]
  },
  {
   "cell_type": "code",
   "execution_count": 75,
   "metadata": {
    "execution": {
     "iopub.execute_input": "2021-01-25T15:31:55.126112Z",
     "iopub.status.busy": "2021-01-25T15:31:55.125112Z",
     "iopub.status.idle": "2021-01-25T15:31:55.129115Z",
     "shell.execute_reply": "2021-01-25T15:31:55.129115Z",
     "shell.execute_reply.started": "2021-01-25T15:31:55.126112Z"
    }
   },
   "outputs": [],
   "source": [
    "# warningの無視\n",
    "import warnings\n",
    "warnings.filterwarnings('ignore')"
   ]
  },
  {
   "cell_type": "code",
   "execution_count": 55,
   "metadata": {
    "execution": {
     "iopub.execute_input": "2021-01-26T15:45:02.679072Z",
     "iopub.status.busy": "2021-01-26T15:45:02.678072Z",
     "iopub.status.idle": "2021-01-26T15:45:02.688072Z",
     "shell.execute_reply": "2021-01-26T15:45:02.688072Z",
     "shell.execute_reply.started": "2021-01-26T15:45:02.679072Z"
    }
   },
   "outputs": [],
   "source": [
    "import pickle\n",
    "import datetime\n",
    "\n",
    "import pandas as pd\n",
    "import numpy as np\n",
    "import matplotlib.pyplot as plt\n",
    "import seaborn as sns\n",
    "sns.set()\n",
    "\n",
    "from sklearn.cluster import KMeans\n",
    "from sklearn.preprocessing import StandardScaler\n",
    "from sklearn.manifold import TSNE\n",
    "\n",
    "\n",
    "# User defined functions\n",
    "from self_lib import tips\n",
    "from self_lib import doggie_tail as d_\n",
    "\n",
    "%matplotlib inline"
   ]
  },
  {
   "cell_type": "code",
   "execution_count": 56,
   "metadata": {
    "execution": {
     "iopub.execute_input": "2021-01-26T15:45:03.028054Z",
     "iopub.status.busy": "2021-01-26T15:45:03.028054Z",
     "iopub.status.idle": "2021-01-26T15:45:03.030055Z",
     "shell.execute_reply": "2021-01-26T15:45:03.030055Z",
     "shell.execute_reply.started": "2021-01-26T15:45:03.028054Z"
    }
   },
   "outputs": [],
   "source": [
    "# 表示列数を指定\n",
    "pd.set_option('display.max_columns', 100)\n",
    "pd.set_option('display.max_rows', 100)"
   ]
  },
  {
   "cell_type": "code",
   "execution_count": 57,
   "metadata": {
    "execution": {
     "iopub.execute_input": "2021-01-26T15:45:03.428004Z",
     "iopub.status.busy": "2021-01-26T15:45:03.428004Z",
     "iopub.status.idle": "2021-01-26T15:45:03.432006Z",
     "shell.execute_reply": "2021-01-26T15:45:03.432006Z",
     "shell.execute_reply.started": "2021-01-26T15:45:03.428004Z"
    }
   },
   "outputs": [],
   "source": [
    "# 特徴量の生成\n",
    "def get_train_features(data,dic_features,filepath):\n",
    "    \"\"\"get_features(data,dic_features)\n",
    "        \n",
    "    dic_features={\n",
    "      \"key\":[\"feature1\",\"feature2\",n_clusters],\n",
    "      \"\":[\"\",\"\",3],\n",
    "      \"\":[\"\",\"\",3],\n",
    "      \"\":[\"\",\"\",10],\n",
    "      \"\":[\"\",\"\",100],\n",
    "      \"\":[\"\",\"\",100]}\n",
    "    \"\"\"\n",
    "    seed=1\n",
    "    for key in dic_features:\n",
    "        l=dic_features.get(key)\n",
    "        *l_features,cnt=l\n",
    "\n",
    "        print(datetime.datetime.now().strftime(\"%Y-%m-%d %H:%M:%S\"))\n",
    "        print(\"  > \" + key)\n",
    "        \n",
    "        # ファイル名\n",
    "        featureName=key\n",
    "        \n",
    "        # クラスターの数\n",
    "        n_clusters=cnt\n",
    "\n",
    "        # データ取得\n",
    "        print(\"  >> \" + str(l_features) + \" clustering to \" + str(cnt))\n",
    "        features_X = data[l_features]\n",
    "\n",
    "        # クラスター\n",
    "        kmeans = KMeans(n_clusters=n_clusters, random_state=seed)\n",
    "        kmeans.fit(features_X)\n",
    "        clusters = kmeans.fit_predict(features_X)\n",
    "\n",
    "        # モデルを保存\n",
    "        with open(filepath + \"/kmeans/kmeans_\" + featureName + '.pickle', mode='wb') as f:\n",
    "            pickle.dump(kmeans, f)\n",
    "            \n",
    "        # 結果を保存\n",
    "        with open(filepath + 'train_features.pickle', mode='wb') as f:\n",
    "            pickle.dump(clusters, f)\n",
    "\n",
    "    print(\"--- END ---\")"
   ]
  },
  {
   "cell_type": "code",
   "execution_count": 58,
   "metadata": {
    "execution": {
     "iopub.execute_input": "2021-01-26T15:45:06.083965Z",
     "iopub.status.busy": "2021-01-26T15:45:06.083965Z",
     "iopub.status.idle": "2021-01-26T15:45:06.086968Z",
     "shell.execute_reply": "2021-01-26T15:45:06.086968Z",
     "shell.execute_reply.started": "2021-01-26T15:45:06.083965Z"
    }
   },
   "outputs": [],
   "source": [
    "# 作成済みモデルで特徴量の生成\n",
    "def get_valid_features(data,dic_features,filepath):\n",
    "    seed=1\n",
    "    for key in dic_features:\n",
    "        l=dic_features.get(key)\n",
    "        *l_features,cnt=l\n",
    "\n",
    "       # ファイル名\n",
    "        featureName=key\n",
    "        \n",
    "        kmeans =pd.read_pickle(filepath + \"/kmeans/kmeans_\" +  featureName + \".pickle\")\n",
    "\n",
    "        features_X=data[l_features]\n",
    "        clusters = kmeans.fit_predict(features_X)\n",
    "\n",
    "        # 結果を保存\n",
    "        with open(filepath + 'valid_features.pickle', mode='wb') as f:\n",
    "            pickle.dump(clusters, f)"
   ]
  },
  {
   "cell_type": "code",
   "execution_count": 42,
   "metadata": {
    "execution": {
     "iopub.execute_input": "2021-01-26T15:26:27.860819Z",
     "iopub.status.busy": "2021-01-26T15:26:27.860819Z",
     "iopub.status.idle": "2021-01-26T15:26:27.864822Z",
     "shell.execute_reply": "2021-01-26T15:26:27.864822Z",
     "shell.execute_reply.started": "2021-01-26T15:26:27.860819Z"
    }
   },
   "outputs": [],
   "source": [
    "# 作成済みモデルで特徴量の生成\n",
    "def get_test_features(data,dic_features,filepath):\n",
    "    seed=1\n",
    "    for key in dic_features:\n",
    "        l=dic_features.get(key)\n",
    "        *l_features,cnt=l\n",
    "\n",
    "       # ファイル名\n",
    "        featureName=key\n",
    "        \n",
    "        kmeans =pd.read_pickle(filepath + \"/kmeans/kmeans_\" +  featureName + \".pickle\")\n",
    "\n",
    "        features_X=data[l_features]\n",
    "        clusters = kmeans.fit_predict(features_X)\n",
    "\n",
    "        # 結果を保存\n",
    "        with open(filepath + 'test_features.pickle', mode='wb') as f:\n",
    "            pickle.dump(clusters, f)"
   ]
  },
  {
   "cell_type": "code",
   "execution_count": 59,
   "metadata": {
    "execution": {
     "iopub.execute_input": "2021-01-26T15:45:08.573366Z",
     "iopub.status.busy": "2021-01-26T15:45:08.572365Z",
     "iopub.status.idle": "2021-01-26T15:45:08.576369Z",
     "shell.execute_reply": "2021-01-26T15:45:08.576369Z",
     "shell.execute_reply.started": "2021-01-26T15:45:08.573366Z"
    }
   },
   "outputs": [],
   "source": [
    "# 作成済みモデルで特徴量の生成\n",
    "def get_submit_features(data,dic_features,filepath):\n",
    "    seed=1\n",
    "    for key in dic_features:\n",
    "        l=dic_features.get(key)\n",
    "        *l_features,cnt=l\n",
    "\n",
    "       # ファイル名\n",
    "        featureName=key\n",
    "        \n",
    "        kmeans =pd.read_pickle(filepath + \"/kmeans/kmeans_\" +  featureName + \".pickle\")\n",
    "\n",
    "        features_X=data[l_features]\n",
    "        clusters = kmeans.fit_predict(features_X)\n",
    "\n",
    "        # 結果を保存\n",
    "        with open(filepath + 'submit_features.pickle', mode='wb') as f:\n",
    "            pickle.dump(clusters, f)"
   ]
  },
  {
   "cell_type": "markdown",
   "metadata": {},
   "source": [
    " "
   ]
  },
  {
   "cell_type": "markdown",
   "metadata": {},
   "source": [
    " "
   ]
  },
  {
   "cell_type": "code",
   "execution_count": 44,
   "metadata": {
    "execution": {
     "iopub.execute_input": "2021-01-26T15:26:29.731899Z",
     "iopub.status.busy": "2021-01-26T15:26:29.730897Z",
     "iopub.status.idle": "2021-01-26T15:26:29.733901Z",
     "shell.execute_reply": "2021-01-26T15:26:29.733901Z",
     "shell.execute_reply.started": "2021-01-26T15:26:29.731899Z"
    }
   },
   "outputs": [],
   "source": [
    "# # 特徴量を作りたい組み合わせ\n",
    "# dic_features={\n",
    "#     \"Zip50\":[\"Zip\",50],\n",
    "#     \"Employees3\":[\"Employees\",3],\n",
    "#     \"FranchiseCode20\":[\"FranchiseCode\",20],\n",
    "#     \"LoanAmount_GuaranteedLoan3\":[\"LoanAmount\",\"GuaranteedLoan\",10],\n",
    "#     \"SystemCode50\":[\"SystemCode\",50],\n",
    "#     \"Term_Approval_Y50\":[\"Term\",\"Approval_Y\",50],\n",
    "#     \"Term_LoanAmount50\":[\"Term\",\"LoanAmount\",50],\n",
    "#     \"Term100\":[\"Term\",100],\n",
    "#     \"Zip_UrbanRural10\":[\"Zip\",\"UrbanRural\",10],\n",
    "#     \"Term_SystemCode\":[\"SystemCode\",\"Term\",50],\n",
    "#     \"SystemCode_Emp_ExN_CrJ_ReJ\":[\"Employees\",\"ExistNew\",\"CreateJob\",\"RetainedJob\",50],\n",
    "#     \"SystemCode_FranchiseCode\":[\"SystemCode\",\"FranchiseCode\",50]\n",
    "# }"
   ]
  },
  {
   "cell_type": "code",
   "execution_count": 60,
   "metadata": {
    "execution": {
     "iopub.execute_input": "2021-01-26T15:45:10.421698Z",
     "iopub.status.busy": "2021-01-26T15:45:10.420697Z",
     "iopub.status.idle": "2021-01-26T15:45:10.425702Z",
     "shell.execute_reply": "2021-01-26T15:45:10.425702Z",
     "shell.execute_reply.started": "2021-01-26T15:45:10.421698Z"
    }
   },
   "outputs": [],
   "source": [
    "# 特徴量を作りたい組み合わせ\n",
    "dic_features={\n",
    "    \"main_feature\":['Term', 'Employees', 'DisbursementGross', 'LoanAmount',\n",
    "       'GuaranteedLoan', 'Approval_Y', 'Approval_M', 'Approval_D',\n",
    "       'DisbursementDate_Y', 'DisbursementDate_M', 'DisbursementDate_D',\n",
    "       'Term_12', 'Term_6', 'Term_3', 'Dis_App_Month', 'ReturnCnt',\n",
    "       'ReturnAmountPerMonth', 'ReturnAmountPerCnt',\n",
    "       'GuaranteedAmountRatio', 'ProperAmountRatio', 'dif_Bank-Grt', 'a_rate',\n",
    "       'zip_A_1', 'zip_A_2', 'zip_A_3', 'zip_A_4', 'zip_A_5', 'zip_A_6',\n",
    "       'zip_A_7', 'zip_A_8', 'zip_A_9', 'zip_A_nan', 'zip_B_1', 'zip_B_2',\n",
    "       'zip_B_3', 'zip_B_4', 'zip_B_5', 'zip_B_6', 'zip_B_7', 'zip_B_8',\n",
    "       'zip_B_9', 'zip_B_nan', 'zip_C_1', 'zip_C_2', 'zip_C_3', 'zip_C_4',\n",
    "       'zip_C_5', 'zip_C_6', 'zip_C_7', 'zip_C_8', 'zip_C_9', 'zip_C_nan',\n",
    "       'zip_D_1', 'zip_D_2', 'zip_D_3', 'zip_D_4', 'zip_D_5', 'zip_D_6',\n",
    "       'zip_D_7', 'zip_D_8', 'zip_D_9', 'zip_D_nan', 'zip_E_1', 'zip_E_2',\n",
    "       'zip_E_3', 'zip_E_4', 'zip_E_5', 'zip_E_6', 'zip_E_7', 'zip_E_8',\n",
    "       'zip_E_9', 'zip_E_nan',50]\n",
    "}"
   ]
  },
  {
   "cell_type": "markdown",
   "metadata": {},
   "source": [
    " "
   ]
  },
  {
   "cell_type": "code",
   "execution_count": null,
   "metadata": {},
   "outputs": [],
   "source": []
  },
  {
   "cell_type": "code",
   "execution_count": 61,
   "metadata": {
    "execution": {
     "iopub.execute_input": "2021-01-26T15:45:12.294009Z",
     "iopub.status.busy": "2021-01-26T15:45:12.294009Z",
     "iopub.status.idle": "2021-01-26T15:46:06.909673Z",
     "shell.execute_reply": "2021-01-26T15:46:06.909673Z",
     "shell.execute_reply.started": "2021-01-26T15:45:12.294009Z"
    }
   },
   "outputs": [
    {
     "name": "stdout",
     "output_type": "stream",
     "text": [
      "2021-01-27 00:45:12\n",
      "  > main_feature\n",
      "  >> ['Term', 'Employees', 'DisbursementGross', 'LoanAmount', 'GuaranteedLoan', 'Approval_Y', 'Approval_M', 'Approval_D', 'DisbursementDate_Y', 'DisbursementDate_M', 'DisbursementDate_D', 'Term_12', 'Term_6', 'Term_3', 'Dis_App_Month', 'ReturnCnt', 'ReturnAmountPerMonth', 'ReturnAmountPerCnt', 'GuaranteedAmountRatio', 'ProperAmountRatio', 'dif_Bank-Grt', 'a_rate', 'zip_A_1', 'zip_A_2', 'zip_A_3', 'zip_A_4', 'zip_A_5', 'zip_A_6', 'zip_A_7', 'zip_A_8', 'zip_A_9', 'zip_A_nan', 'zip_B_1', 'zip_B_2', 'zip_B_3', 'zip_B_4', 'zip_B_5', 'zip_B_6', 'zip_B_7', 'zip_B_8', 'zip_B_9', 'zip_B_nan', 'zip_C_1', 'zip_C_2', 'zip_C_3', 'zip_C_4', 'zip_C_5', 'zip_C_6', 'zip_C_7', 'zip_C_8', 'zip_C_9', 'zip_C_nan', 'zip_D_1', 'zip_D_2', 'zip_D_3', 'zip_D_4', 'zip_D_5', 'zip_D_6', 'zip_D_7', 'zip_D_8', 'zip_D_9', 'zip_D_nan', 'zip_E_1', 'zip_E_2', 'zip_E_3', 'zip_E_4', 'zip_E_5', 'zip_E_6', 'zip_E_7', 'zip_E_8', 'zip_E_9', 'zip_E_nan'] clustering to 50\n",
      "--- END ---\n"
     ]
    }
   ],
   "source": [
    "#### train 特徴量の生成\n",
    "# 対象データを設定\n",
    "data =pd.read_pickle(\"../data/feature/train_X.pickle\")\n",
    "\n",
    "# 保存場所を設定\n",
    "filepath='../data/feature/cluster_features/'\n",
    "featureName=\"train_feature\"\n",
    "\n",
    "get_train_features(data,dic_features,filepath)"
   ]
  },
  {
   "cell_type": "code",
   "execution_count": 62,
   "metadata": {
    "execution": {
     "iopub.execute_input": "2021-01-26T15:46:06.910673Z",
     "iopub.status.busy": "2021-01-26T15:46:06.910673Z",
     "iopub.status.idle": "2021-01-26T15:46:06.936697Z",
     "shell.execute_reply": "2021-01-26T15:46:06.936697Z",
     "shell.execute_reply.started": "2021-01-26T15:46:06.910673Z"
    }
   },
   "outputs": [],
   "source": [
    "# 生成データ読み取り\n",
    "feature_path =\"../data/feature/cluster_features/\"\n",
    "feature_data=pd.Series(pd.read_pickle(feature_path + \"train_features.pickle\"),name=\"main_features\")\n",
    "\n",
    "# カテゴリー変数化\n",
    "feature_data=feature_data.astype('category')\n",
    "\n",
    "# ダミー変数化\n",
    "feature_data=pd.get_dummies(feature_data, dummy_na=True,prefix=\"main_feature\",prefix_sep='_',drop_first=False)\n",
    "feature_data.to_pickle(feature_path + \"train_features.pickle\")"
   ]
  },
  {
   "cell_type": "code",
   "execution_count": 63,
   "metadata": {
    "execution": {
     "iopub.execute_input": "2021-01-26T15:46:06.938699Z",
     "iopub.status.busy": "2021-01-26T15:46:06.937698Z",
     "iopub.status.idle": "2021-01-26T15:46:13.972094Z",
     "shell.execute_reply": "2021-01-26T15:46:13.972094Z",
     "shell.execute_reply.started": "2021-01-26T15:46:06.938699Z"
    }
   },
   "outputs": [],
   "source": [
    "# valid\n",
    "data=pd.read_pickle(\"../data/feature/valid_X.pickle\")\n",
    "get_valid_features(data,dic_features,filepath)"
   ]
  },
  {
   "cell_type": "code",
   "execution_count": 64,
   "metadata": {
    "execution": {
     "iopub.execute_input": "2021-01-26T15:46:13.973095Z",
     "iopub.status.busy": "2021-01-26T15:46:13.973095Z",
     "iopub.status.idle": "2021-01-26T15:46:13.984106Z",
     "shell.execute_reply": "2021-01-26T15:46:13.984106Z",
     "shell.execute_reply.started": "2021-01-26T15:46:13.973095Z"
    }
   },
   "outputs": [],
   "source": [
    "# 生成データ読み取り\n",
    "feature_path =\"../data/feature/cluster_features/\"\n",
    "feature_data=pd.Series(pd.read_pickle(feature_path + \"valid_features.pickle\"),name=\"main_features\")\n",
    "\n",
    "# カテゴリー変数化\n",
    "feature_data=feature_data.astype('category')\n",
    "\n",
    "# ダミー変数化\n",
    "feature_data=pd.get_dummies(feature_data, dummy_na=True,prefix=\"main_feature\",prefix_sep='_',drop_first=False)\n",
    "feature_data.to_pickle(feature_path + \"valid_features.pickle\")"
   ]
  },
  {
   "cell_type": "code",
   "execution_count": 65,
   "metadata": {
    "execution": {
     "iopub.execute_input": "2021-01-26T15:46:13.985106Z",
     "iopub.status.busy": "2021-01-26T15:46:13.985106Z",
     "iopub.status.idle": "2021-01-26T15:46:13.987108Z",
     "shell.execute_reply": "2021-01-26T15:46:13.987108Z",
     "shell.execute_reply.started": "2021-01-26T15:46:13.985106Z"
    }
   },
   "outputs": [],
   "source": [
    "# # test\n",
    "# data=pd.read_pickle(\"../data/feature/test_X.pickle\")\n",
    "# get_test_features(data,dic_features,filepath)"
   ]
  },
  {
   "cell_type": "code",
   "execution_count": 66,
   "metadata": {
    "execution": {
     "iopub.execute_input": "2021-01-26T15:46:13.988109Z",
     "iopub.status.busy": "2021-01-26T15:46:13.988109Z",
     "iopub.status.idle": "2021-01-26T15:46:13.992113Z",
     "shell.execute_reply": "2021-01-26T15:46:13.992113Z",
     "shell.execute_reply.started": "2021-01-26T15:46:13.988109Z"
    }
   },
   "outputs": [],
   "source": [
    "# # 生成データ読み取り\n",
    "# feature_path =\"../data/feature/cluster_features/\"\n",
    "# feature_data=pd.Series(pd.read_pickle(feature_path + \"test_features.pickle\"),name=\"main_features\")\n",
    "\n",
    "# # カテゴリー変数化\n",
    "# feature_data=feature_data.astype('category')\n",
    "\n",
    "# # ダミー変数化\n",
    "# feature_data=pd.get_dummies(feature_data, dummy_na=True,prefix=\"main_feature\",prefix_sep='_',drop_first=False)\n",
    "# feature_data.to_pickle(feature_path + \"test_features.pickle\")"
   ]
  },
  {
   "cell_type": "code",
   "execution_count": 67,
   "metadata": {
    "execution": {
     "iopub.execute_input": "2021-01-26T15:46:13.993114Z",
     "iopub.status.busy": "2021-01-26T15:46:13.993114Z",
     "iopub.status.idle": "2021-01-26T15:46:37.681654Z",
     "shell.execute_reply": "2021-01-26T15:46:37.681654Z",
     "shell.execute_reply.started": "2021-01-26T15:46:13.993114Z"
    }
   },
   "outputs": [],
   "source": [
    "# submit\n",
    "data=pd.read_pickle('../data/feature/test_feature_data_X.pickle')\n",
    "get_submit_features(data,dic_features,filepath)"
   ]
  },
  {
   "cell_type": "code",
   "execution_count": 68,
   "metadata": {
    "execution": {
     "iopub.execute_input": "2021-01-26T15:46:37.682655Z",
     "iopub.status.busy": "2021-01-26T15:46:37.682655Z",
     "iopub.status.idle": "2021-01-26T15:46:37.705676Z",
     "shell.execute_reply": "2021-01-26T15:46:37.705676Z",
     "shell.execute_reply.started": "2021-01-26T15:46:37.682655Z"
    }
   },
   "outputs": [],
   "source": [
    "# 生成データ読み取り\n",
    "feature_path =\"../data/feature/cluster_features/\"\n",
    "feature_data=pd.Series(pd.read_pickle(feature_path + \"submit_features.pickle\"),name=\"main_features\")\n",
    "\n",
    "# カテゴリー変数化\n",
    "feature_data=feature_data.astype('category')\n",
    "\n",
    "# ダミー変数化\n",
    "feature_data=pd.get_dummies(feature_data, dummy_na=True,prefix=\"main_feature\",prefix_sep='_',drop_first=False)\n",
    "feature_data.to_pickle(feature_path + \"submit_features.pickle\")"
   ]
  },
  {
   "cell_type": "markdown",
   "metadata": {},
   "source": [
    " "
   ]
  },
  {
   "cell_type": "code",
   "execution_count": null,
   "metadata": {},
   "outputs": [],
   "source": []
  },
  {
   "cell_type": "code",
   "execution_count": null,
   "metadata": {},
   "outputs": [],
   "source": []
  },
  {
   "cell_type": "code",
   "execution_count": null,
   "metadata": {},
   "outputs": [],
   "source": []
  },
  {
   "cell_type": "code",
   "execution_count": null,
   "metadata": {},
   "outputs": [],
   "source": []
  },
  {
   "cell_type": "code",
   "execution_count": null,
   "metadata": {},
   "outputs": [],
   "source": []
  },
  {
   "cell_type": "code",
   "execution_count": 96,
   "metadata": {
    "execution": {
     "iopub.execute_input": "2021-01-25T16:05:46.013999Z",
     "iopub.status.busy": "2021-01-25T16:05:46.012998Z",
     "iopub.status.idle": "2021-01-25T16:05:46.016000Z",
     "shell.execute_reply": "2021-01-25T16:05:46.016000Z",
     "shell.execute_reply.started": "2021-01-25T16:05:46.013999Z"
    }
   },
   "outputs": [],
   "source": [
    "# # 生成データ読み取り\n",
    "# Employees3 =pd.Series(pd.read_pickle(filepath + \"Employees3.pickle\"),name=\"Employees3\")\n",
    "# FranchiseCode10 =pd.Series(pd.read_pickle(filepath + \"FranchiseCode10.pickle\"),name=\"FranchiseCode10\" )\n",
    "# # LoanAmount_GuaranteedLoan3 =pd.Series(pd.read_pickle(filepath + \"LoanAmount_GuaranteedLoan3.pickle\"),name=\"LoanAmount_GuaranteedLoan3\" )\n",
    "# SystemCode10 =pd.Series(pd.read_pickle(filepath + \"SystemCode10.pickle\"),name=\"SystemCode10\")\n",
    "# # Term_Approval_Y20 =pd.Series(pd.read_pickle(filepath + \"Term_Approval_Y20.pickle\"),name=\"Term_Approval_Y20\")\n",
    "# Term_LoanAmount20 =pd.Series(pd.read_pickle(filepath + \"Term_LoanAmount20.pickle\"),name=\"Term_LoanAmount20\")\n",
    "# Term10 = pd.Series(pd.read_pickle(filepath + \"Term10.pickle\"),name=\"Term10\")\n",
    "# Zip_UrbanRural10 = pd.Series(pd.read_pickle(filepath + \"Zip_UrbanRural10.pickle\"),name=\"Zip_UrbanRural10\")\n",
    "# Zip50 =pd.Series(pd.read_pickle(filepath + \"Zip50.pickle\"),name=\"Zip50\")\n",
    "# SystemCode_Emp_ExN_CrJ_ReJ =pd.Series(pd.read_pickle(filepath + \"SystemCode_Emp_ExN_CrJ_ReJ.pickle\"),name=\"SystemCode_Emp_ExN_CrJ_ReJ\")\n",
    "# SystemCode_FranchiseCode =pd.Series(pd.read_pickle(filepath + \"SystemCode_FranchiseCode.pickle\"),name=\"SystemCode_FranchiseCode\")\n",
    "\n",
    "# # データ統合\n",
    "# feature_list=[Employees3, FranchiseCode10,SystemCode10,Term_LoanAmount20,Zip_UrbanRural10,Zip50,SystemCode_Emp_ExN_CrJ_ReJ]\n",
    "# feature_data=pd.concat(feature_list, axis=1)\n",
    "\n",
    "# # ダミー変数化\n",
    "# lName=[\"Emp3\", \"Fra10\",\"Sys10\",\"T_LAm20\",\"Z_UbRr10\",\"Zip50\",\"SEECR\"]\n",
    "# # カテゴリー変数化\n",
    "# feature_data=feature_data.astype('category')\n",
    "# feature_data=pd.get_dummies(feature_data, dummy_na=True,prefix=lName,prefix_sep='_',drop_first=False)\n",
    "\n",
    "# feature_data.to_pickle(feature_path + \"test_feature_data.pickle\")"
   ]
  },
  {
   "cell_type": "code",
   "execution_count": null,
   "metadata": {},
   "outputs": [],
   "source": []
  },
  {
   "cell_type": "code",
   "execution_count": 20,
   "metadata": {
    "execution": {
     "iopub.execute_input": "2021-01-24T21:54:21.182215Z",
     "iopub.status.busy": "2021-01-24T21:54:21.182215Z",
     "iopub.status.idle": "2021-01-24T21:54:21.187219Z",
     "shell.execute_reply": "2021-01-24T21:54:21.187219Z",
     "shell.execute_reply.started": "2021-01-24T21:54:21.182215Z"
    }
   },
   "outputs": [],
   "source": [
    "# clusters.plot.scatter(x='Zip', y='LoanStatus',c='Clusters',cmap=\"rainbow\")"
   ]
  },
  {
   "cell_type": "code",
   "execution_count": 21,
   "metadata": {
    "execution": {
     "iopub.execute_input": "2021-01-24T21:54:21.188220Z",
     "iopub.status.busy": "2021-01-24T21:54:21.188220Z",
     "iopub.status.idle": "2021-01-24T21:54:21.191222Z",
     "shell.execute_reply": "2021-01-24T21:54:21.191222Z",
     "shell.execute_reply.started": "2021-01-24T21:54:21.188220Z"
    }
   },
   "outputs": [],
   "source": [
    "# # WCSSの決定状況を確認する\n",
    "# wcss=[]\n",
    "# number_clusters = range(1,n_clusters)\n",
    "# for i in number_clusters:\n",
    "#     print(i*100)\n",
    "#     kmeans=KMeans(i*100)\n",
    "#     kmeans.fit(features_X)\n",
    "#     wcss_iter = kmeans.inertia_\n",
    "#     wcss.append(wcss_iter)\n",
    "\n",
    "# plt.plot(number_clusters,wcss)\n",
    "# plt.title('The Elbow Method')\n",
    "# plt.xlabel('number of clusters')\n",
    "# plt.ylabel('Within_cluster sum of squares')\n",
    "# plt.show()"
   ]
  },
  {
   "cell_type": "code",
   "execution_count": 22,
   "metadata": {
    "execution": {
     "iopub.execute_input": "2021-01-24T21:54:21.192224Z",
     "iopub.status.busy": "2021-01-24T21:54:21.192224Z",
     "iopub.status.idle": "2021-01-24T21:54:21.196226Z",
     "shell.execute_reply": "2021-01-24T21:54:21.196226Z",
     "shell.execute_reply.started": "2021-01-24T21:54:21.192224Z"
    }
   },
   "outputs": [],
   "source": [
    "# # 次元削減\n",
    "# tsne = TSNE(n_components=2,random_state=0)\n",
    "# x =tsne.fit_transform(data)\n",
    "# tsne_df = pd.DataFrame(x)\n",
    "# tsne_df['cluster'] =data_clustering['cluster']\n",
    "# tsne_df.columns = ['axis_0','axis_1','cluster']\n",
    "\n",
    "# tsne_graph = sns.scatterplot(x='axis_0',y='axis_1',hue='cluster',data=tsne_df)"
   ]
  },
  {
   "cell_type": "code",
   "execution_count": 23,
   "metadata": {
    "execution": {
     "iopub.execute_input": "2021-01-24T21:54:21.197228Z",
     "iopub.status.busy": "2021-01-24T21:54:21.197228Z",
     "iopub.status.idle": "2021-01-24T21:54:21.201232Z",
     "shell.execute_reply": "2021-01-24T21:54:21.201232Z",
     "shell.execute_reply.started": "2021-01-24T21:54:21.197228Z"
    }
   },
   "outputs": [],
   "source": [
    "# sns.clustermap(features_X,figsize=(5,5),cmap=\"coolwarm\")"
   ]
  },
  {
   "cell_type": "code",
   "execution_count": null,
   "metadata": {},
   "outputs": [],
   "source": []
  },
  {
   "cell_type": "code",
   "execution_count": null,
   "metadata": {},
   "outputs": [],
   "source": []
  },
  {
   "cell_type": "code",
   "execution_count": null,
   "metadata": {},
   "outputs": [],
   "source": []
  },
  {
   "cell_type": "code",
   "execution_count": null,
   "metadata": {},
   "outputs": [],
   "source": []
  },
  {
   "cell_type": "code",
   "execution_count": null,
   "metadata": {},
   "outputs": [],
   "source": []
  },
  {
   "cell_type": "code",
   "execution_count": null,
   "metadata": {},
   "outputs": [],
   "source": []
  }
 ],
 "metadata": {
  "kernelspec": {
   "display_name": "Python 3",
   "language": "python",
   "name": "python3"
  },
  "language_info": {
   "codemirror_mode": {
    "name": "ipython",
    "version": 3
   },
   "file_extension": ".py",
   "mimetype": "text/x-python",
   "name": "python",
   "nbconvert_exporter": "python",
   "pygments_lexer": "ipython3",
   "version": "3.7.9"
  },
  "widgets": {
   "application/vnd.jupyter.widget-state+json": {
    "state": {},
    "version_major": 2,
    "version_minor": 0
   }
  }
 },
 "nbformat": 4,
 "nbformat_minor": 4
}
