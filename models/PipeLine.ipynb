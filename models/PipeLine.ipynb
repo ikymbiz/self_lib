{
 "cells": [
  {
   "cell_type": "markdown",
   "metadata": {},
   "source": [
    "# PipeLine"
   ]
  },
  {
   "cell_type": "code",
   "execution_count": 1,
   "metadata": {
    "execution": {
     "iopub.execute_input": "2021-01-26T21:37:55.032708Z",
     "iopub.status.busy": "2021-01-26T21:37:55.032708Z",
     "iopub.status.idle": "2021-01-26T21:37:55.037712Z",
     "shell.execute_reply": "2021-01-26T21:37:55.037712Z",
     "shell.execute_reply.started": "2021-01-26T21:37:55.032708Z"
    }
   },
   "outputs": [],
   "source": [
    "import datetime\n",
    "def now(model):\n",
    "    print(\"=================================\")\n",
    "    print(datetime.datetime.now())\n",
    "    print(\"> \" + model)"
   ]
  },
  {
   "cell_type": "code",
   "execution_count": null,
   "metadata": {
    "execution": {
     "iopub.execute_input": "2021-01-26T21:37:55.431465Z",
     "iopub.status.busy": "2021-01-26T21:37:55.431465Z"
    }
   },
   "outputs": [
    {
     "name": "stdout",
     "output_type": "stream",
     "text": [
      "=================================\n",
      "2021-01-27 06:37:55.434467\n",
      "> model_GS_RFM\n",
      "Fitting 5 folds for each of 9 candidates, totalling 45 fits\n",
      "[CV 1/5] END ..................max_depth=10, n_estimators=10; total time=   1.8s\n",
      "[CV 2/5] END ..................max_depth=10, n_estimators=10; total time=   1.8s\n",
      "[CV 3/5] END ..................max_depth=10, n_estimators=10; total time=   1.8s\n",
      "[CV 4/5] END ..................max_depth=10, n_estimators=10; total time=   1.8s\n",
      "[CV 5/5] END ..................max_depth=10, n_estimators=10; total time=   1.8s\n",
      "[CV 1/5] END .................max_depth=10, n_estimators=100; total time=  16.7s\n",
      "[CV 2/5] END .................max_depth=10, n_estimators=100; total time=  16.5s\n",
      "[CV 3/5] END .................max_depth=10, n_estimators=100; total time=  17.1s\n",
      "[CV 4/5] END .................max_depth=10, n_estimators=100; total time=  16.7s\n",
      "[CV 5/5] END .................max_depth=10, n_estimators=100; total time=  16.7s\n"
     ]
    }
   ],
   "source": [
    "now(\"model_GS_RFM\")\n",
    "%run model_GS_RFM.py\n",
    "now(\"model_GS_XGB\")\n",
    "%run model_GS_XGB.py\n",
    "now(\"model_GS_sciNN\")\n",
    "%run model_GS_sciNN.py\n",
    "now(\"model_GS_LGBM\")\n",
    "%run model_GS_LGBM.py"
   ]
  },
  {
   "cell_type": "code",
   "execution_count": 2,
   "metadata": {
    "execution": {
     "iopub.execute_input": "2021-01-23T00:12:32.282827Z",
     "iopub.status.busy": "2021-01-23T00:12:32.282827Z",
     "iopub.status.idle": "2021-01-23T00:13:09.329403Z",
     "shell.execute_reply": "2021-01-23T00:13:09.329403Z",
     "shell.execute_reply.started": "2021-01-23T00:12:32.282827Z"
    }
   },
   "outputs": [],
   "source": [
    "# now(\"model_GS_XGB\")\n",
    "# %run model_GS_XGB.py"
   ]
  },
  {
   "cell_type": "code",
   "execution_count": 4,
   "metadata": {
    "execution": {
     "iopub.execute_input": "2021-01-23T00:13:09.492552Z",
     "iopub.status.busy": "2021-01-23T00:13:09.491551Z",
     "iopub.status.idle": "2021-01-23T00:13:09.502561Z",
     "shell.execute_reply": "2021-01-23T00:13:09.502561Z",
     "shell.execute_reply.started": "2021-01-23T00:13:09.492552Z"
    }
   },
   "outputs": [],
   "source": [
    "# now(\"model_GS_Ridge\")\n",
    "# %run model_GS_Ridge.py"
   ]
  },
  {
   "cell_type": "code",
   "execution_count": 1,
   "metadata": {
    "execution": {
     "iopub.execute_input": "2021-01-24T15:49:04.221992Z",
     "iopub.status.busy": "2021-01-24T15:49:04.221992Z",
     "iopub.status.idle": "2021-01-24T15:49:04.224994Z",
     "shell.execute_reply": "2021-01-24T15:49:04.224994Z",
     "shell.execute_reply.started": "2021-01-24T15:49:04.221992Z"
    }
   },
   "outputs": [],
   "source": [
    "# now(\"model_GS_ExTrees\")\n",
    "# %run model_GS_ExTrees.py"
   ]
  },
  {
   "cell_type": "code",
   "execution_count": 2,
   "metadata": {
    "execution": {
     "iopub.execute_input": "2021-01-24T15:49:08.766581Z",
     "iopub.status.busy": "2021-01-24T15:49:08.765581Z",
     "iopub.status.idle": "2021-01-24T15:49:08.768575Z",
     "shell.execute_reply": "2021-01-24T15:49:08.768575Z",
     "shell.execute_reply.started": "2021-01-24T15:49:08.766581Z"
    }
   },
   "outputs": [],
   "source": [
    "# now(\"model_GS_GB\")\n",
    "# %run model_GS_GB.py"
   ]
  },
  {
   "cell_type": "code",
   "execution_count": 3,
   "metadata": {
    "execution": {
     "iopub.execute_input": "2021-01-24T15:49:12.206362Z",
     "iopub.status.busy": "2021-01-24T15:49:12.206362Z",
     "iopub.status.idle": "2021-01-24T15:49:12.208363Z",
     "shell.execute_reply": "2021-01-24T15:49:12.208363Z",
     "shell.execute_reply.started": "2021-01-24T15:49:12.206362Z"
    }
   },
   "outputs": [],
   "source": [
    "# now(\"model_GS_KN\")\n",
    "# %run model_GS_KN.py"
   ]
  },
  {
   "cell_type": "code",
   "execution_count": 4,
   "metadata": {
    "execution": {
     "iopub.execute_input": "2021-01-24T15:49:15.510390Z",
     "iopub.status.busy": "2021-01-24T15:49:15.510390Z",
     "iopub.status.idle": "2021-01-24T15:49:15.512392Z",
     "shell.execute_reply": "2021-01-24T15:49:15.512392Z",
     "shell.execute_reply.started": "2021-01-24T15:49:15.510390Z"
    }
   },
   "outputs": [],
   "source": [
    "# now(\"model_GS_TSNE\")\n",
    "# %run model_GS_TSNE.py"
   ]
  },
  {
   "cell_type": "code",
   "execution_count": 5,
   "metadata": {
    "execution": {
     "iopub.execute_input": "2021-01-24T15:49:18.214317Z",
     "iopub.status.busy": "2021-01-24T15:49:18.213316Z",
     "iopub.status.idle": "2021-01-24T15:49:18.216318Z",
     "shell.execute_reply": "2021-01-24T15:49:18.216318Z",
     "shell.execute_reply.started": "2021-01-24T15:49:18.214317Z"
    }
   },
   "outputs": [],
   "source": [
    "# now(\"model_GS_Stacking\")\n",
    "# %run Stacking.py"
   ]
  },
  {
   "cell_type": "code",
   "execution_count": null,
   "metadata": {},
   "outputs": [],
   "source": []
  }
 ],
 "metadata": {
  "kernelspec": {
   "display_name": "Python 3",
   "language": "python",
   "name": "python3"
  },
  "language_info": {
   "codemirror_mode": {
    "name": "ipython",
    "version": 3
   },
   "file_extension": ".py",
   "mimetype": "text/x-python",
   "name": "python",
   "nbconvert_exporter": "python",
   "pygments_lexer": "ipython3",
   "version": "3.7.9"
  },
  "widgets": {
   "application/vnd.jupyter.widget-state+json": {
    "state": {},
    "version_major": 2,
    "version_minor": 0
   }
  }
 },
 "nbformat": 4,
 "nbformat_minor": 4
}
