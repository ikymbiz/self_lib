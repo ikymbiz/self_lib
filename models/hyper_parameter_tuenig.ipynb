{
 "cells": [
  {
   "cell_type": "markdown",
   "metadata": {},
   "source": [
    "hyper parameter tuenig"
   ]
  },
  {
   "cell_type": "markdown",
   "metadata": {},
   "source": [
    "https://www.codexa.net/hyperparameter-tuning-python/"
   ]
  },
  {
   "cell_type": "code",
   "execution_count": 1,
   "metadata": {
    "execution": {
     "iopub.execute_input": "2021-01-19T15:24:19.993791Z",
     "iopub.status.busy": "2021-01-19T15:24:19.993791Z",
     "iopub.status.idle": "2021-01-19T15:24:21.010105Z",
     "shell.execute_reply": "2021-01-19T15:24:21.010105Z",
     "shell.execute_reply.started": "2021-01-19T15:24:19.993791Z"
    }
   },
   "outputs": [],
   "source": [
    "# 基本ライブラリ\n",
    "import pandas as pd\n",
    " \n",
    "# Scikit-learn\n",
    "from sklearn.model_selection import train_test_split\n",
    "from sklearn.metrics import accuracy_score, confusion_matrix\n",
    "from sklearn.model_selection import GridSearchCV, RandomizedSearchCV, KFold\n",
    " \n",
    "# XGBoost\n",
    "import xgboost as xgb\n",
    " \n",
    "# Matplotlibのインライン表示\n",
    "%matplotlib inline"
   ]
  },
  {
   "cell_type": "code",
   "execution_count": 6,
   "metadata": {
    "execution": {
     "iopub.execute_input": "2021-01-19T15:27:12.098335Z",
     "iopub.status.busy": "2021-01-19T15:27:12.098335Z",
     "iopub.status.idle": "2021-01-19T15:27:12.286507Z",
     "shell.execute_reply": "2021-01-19T15:27:12.286507Z",
     "shell.execute_reply.started": "2021-01-19T15:27:12.098335Z"
    }
   },
   "outputs": [],
   "source": [
    "# pickleで読込む\n",
    "import pickle\n",
    "\n",
    "# 前処理済みデータ取得\n",
    "with open('data/dataset/pre/pre_data.pickle','rb') as f:\n",
    "    pre_data = pickle.load(f)\n",
    "\n",
    "# 欠損値処理\n",
    "pre_data=pre_data.fillna(pre_data.mean())\n",
    "\n",
    "# 目的変数と説明変数の取得\n",
    "y=pre_data['LoanStatus']\n",
    "X=pre_data.drop(columns='LoanStatus')\n",
    "\n",
    "# 訓練データとテストデータの分割\n",
    "from sklearn.model_selection import train_test_split\n",
    "train_X, test_X, train_y, test_y = train_test_split(X, y, test_size=0.2, shuffle=True)\n",
    "train_X, valid_X, train_y, valid_y = train_test_split(train_X, train_y, test_size=0.2, shuffle=True)"
   ]
  },
  {
   "cell_type": "code",
   "execution_count": 21,
   "metadata": {
    "execution": {
     "iopub.execute_input": "2021-01-19T15:33:59.647089Z",
     "iopub.status.busy": "2021-01-19T15:33:59.646088Z",
     "iopub.status.idle": "2021-01-19T15:33:59.649091Z",
     "shell.execute_reply": "2021-01-19T15:33:59.649091Z",
     "shell.execute_reply.started": "2021-01-19T15:33:59.647089Z"
    }
   },
   "outputs": [],
   "source": [
    "\n",
    "params = {'metric':'error',\n",
    "          'objective':'binary:logistic',\n",
    "          'n_estimators':50000,\n",
    "          'booster': 'gbtree',\n",
    "          'learning_rate':0.01,\n",
    "          'min_child_weight':1,\n",
    "          'max_depth':5,\n",
    "          'random_state':seed,\n",
    "          'colsample_bytree':1,\n",
    "          'subsample':1,\n",
    "         }"
   ]
  },
  {
   "cell_type": "markdown",
   "metadata": {},
   "source": [
    "ベースラインのモデル訓練"
   ]
  },
  {
   "cell_type": "code",
   "execution_count": 44,
   "metadata": {
    "execution": {
     "iopub.execute_input": "2021-01-19T15:47:41.497019Z",
     "iopub.status.busy": "2021-01-19T15:47:41.497019Z",
     "iopub.status.idle": "2021-01-19T15:47:41.499020Z",
     "shell.execute_reply": "2021-01-19T15:47:41.499020Z",
     "shell.execute_reply.started": "2021-01-19T15:47:41.497019Z"
    }
   },
   "outputs": [],
   "source": [
    "cls = xgb.XGBClassifier()\n",
    "cls.set_params(**params)\n",
    "cls.fit(train_X,\n",
    "        train_y,\n",
    "        early_stopping_rounds=50,\n",
    "        eval_set=[(test_X, test_y)],\n",
    "        eval_metric='error',\n",
    "        verbose=1)"
   ]
  },
  {
   "cell_type": "markdown",
   "metadata": {},
   "source": [
    "### GridSearch"
   ]
  },
  {
   "cell_type": "code",
   "execution_count": 69,
   "metadata": {
    "execution": {
     "iopub.execute_input": "2021-01-19T15:55:34.753711Z",
     "iopub.status.busy": "2021-01-19T15:55:34.752710Z",
     "iopub.status.idle": "2021-01-19T15:55:34.755713Z",
     "shell.execute_reply": "2021-01-19T15:55:34.755713Z",
     "shell.execute_reply.started": "2021-01-19T15:55:34.753711Z"
    }
   },
   "outputs": [],
   "source": [
    "cv_params = {'metric':['error'],\n",
    "             'objective':['binary:logistic'],\n",
    "             'n_estimators':[5],\n",
    "#              'random_state':[seed],\n",
    "             'booster': ['gbtree'],\n",
    "             'learning_rate':[0.01],\n",
    "             'min_child_weight':[1,5],\n",
    "             'max_depth':[1,3],\n",
    "             'colsample_bytree':[0.5,1.0],\n",
    "             'subsample':[0.5,1.0]\n",
    "            }\n",
    " \n",
    "cls = xgb.XGBClassifier()\n",
    "cls_grid = GridSearchCV(cls, cv_params,cv=KFold(2), scoring='accuracy')\n",
    "cls_grid.fit(train_X,\n",
    "             train_y,\n",
    "             early_stopping_rounds=50,\n",
    "             eval_set=[(test_X, test_y)],\n",
    "             eval_metric='error',\n",
    "             verbose=0)"
   ]
  },
  {
   "cell_type": "code",
   "execution_count": 49,
   "metadata": {
    "execution": {
     "iopub.execute_input": "2021-01-19T15:50:17.501184Z",
     "iopub.status.busy": "2021-01-19T15:50:17.501184Z",
     "iopub.status.idle": "2021-01-19T15:50:17.504178Z",
     "shell.execute_reply": "2021-01-19T15:50:17.504178Z",
     "shell.execute_reply.started": "2021-01-19T15:50:17.501184Z"
    }
   },
   "outputs": [
    {
     "name": "stdout",
     "output_type": "stream",
     "text": [
      "{'booster': 'gbtree', 'colsample_bytree': 1.0, 'learning_rate': 0.01, 'max_depth': 3, 'metric': 'error', 'min_child_weight': 1, 'n_estimators': 5, 'objective': 'binary:logistic', 'subsample': 0.5}\n",
      "0.9177818279675115\n"
     ]
    }
   ],
   "source": [
    "print(cls_grid.best_params_)\n",
    "print(cls_grid.best_score_)"
   ]
  },
  {
   "cell_type": "code",
   "execution_count": 52,
   "metadata": {
    "execution": {
     "iopub.execute_input": "2021-01-19T15:50:41.541242Z",
     "iopub.status.busy": "2021-01-19T15:50:41.541242Z",
     "iopub.status.idle": "2021-01-19T15:50:41.566255Z",
     "shell.execute_reply": "2021-01-19T15:50:41.566255Z",
     "shell.execute_reply.started": "2021-01-19T15:50:41.541242Z"
    }
   },
   "outputs": [
    {
     "data": {
      "text/plain": [
       "0.9175473618287145"
      ]
     },
     "execution_count": 52,
     "metadata": {},
     "output_type": "execute_result"
    }
   ],
   "source": [
    "pred = cls_grid.best_estimator_.predict(test_X)\n",
    "grid_score = accuracy_score(test_y, pred)\n",
    "grid_score"
   ]
  },
  {
   "cell_type": "code",
   "execution_count": 54,
   "metadata": {
    "execution": {
     "iopub.execute_input": "2021-01-19T15:50:52.219588Z",
     "iopub.status.busy": "2021-01-19T15:50:52.219588Z",
     "iopub.status.idle": "2021-01-19T15:50:52.251617Z",
     "shell.execute_reply": "2021-01-19T15:50:52.251617Z",
     "shell.execute_reply.started": "2021-01-19T15:50:52.219588Z"
    }
   },
   "outputs": [
    {
     "data": {
      "text/plain": [
       "array([[39464,  1933],\n",
       "       [ 2280,  7419]], dtype=int64)"
      ]
     },
     "execution_count": 54,
     "metadata": {},
     "output_type": "execute_result"
    }
   ],
   "source": [
    "confusion_matrix(test_y, pred)"
   ]
  },
  {
   "cell_type": "markdown",
   "metadata": {
    "execution": {
     "iopub.execute_input": "2021-01-19T15:35:00.741779Z",
     "iopub.status.busy": "2021-01-19T15:35:00.741779Z",
     "iopub.status.idle": "2021-01-19T15:35:00.743781Z",
     "shell.execute_reply": "2021-01-19T15:35:00.743781Z",
     "shell.execute_reply.started": "2021-01-19T15:35:00.741779Z"
    }
   },
   "source": [
    "### ランダムサーチ（RandomizedSearchCV）\n"
   ]
  },
  {
   "cell_type": "code",
   "execution_count": 45,
   "metadata": {
    "execution": {
     "iopub.execute_input": "2021-01-19T15:47:50.978119Z",
     "iopub.status.busy": "2021-01-19T15:47:50.978119Z",
     "iopub.status.idle": "2021-01-19T15:47:50.980121Z",
     "shell.execute_reply": "2021-01-19T15:47:50.980121Z",
     "shell.execute_reply.started": "2021-01-19T15:47:50.978119Z"
    }
   },
   "outputs": [],
   "source": [
    "cv_params = {'metric':['error'],\n",
    "             'objective':['binary:logistic'],\n",
    "             'n_estimators':[50000],\n",
    "             'random_state':[seed],\n",
    "             'boosting_type': ['gbdt'],\n",
    "             'learning_rate':[0.01],\n",
    "             'min_child_weight':[1,2,3,4,5,6,7,8,9,10],\n",
    "             'max_depth':[1,2,3,4,5,6,7,8,9,10],\n",
    "             'colsample_bytree':[0.1,0.2,0.3,0.4,0.5,0.6,0.7,0.8,0.9,1.0],\n",
    "             'subsample':[0.1,0.2,0.3,0.4,0.5,0.6,0.7,0.8,0.9,1.0],\n",
    "            }\n",
    " \n",
    "cls = xgb.XGBClassifier()\n",
    "cls_rdn = RandomizedSearchCV(cls,\n",
    "                             cv_params,\n",
    "                             cv=KFold(2),\n",
    "                             random_state=seed,\n",
    "                             n_iter=30,\n",
    "                             scoring='accuracy')\n",
    "cls_rdn.fit(train_X,\n",
    "            train_y,\n",
    "            early_stopping_rounds=50,\n",
    "            eval_set=[(test_X, test_y)],\n",
    "            eval_metric='error',\n",
    "            verbose=0)"
   ]
  },
  {
   "cell_type": "code",
   "execution_count": null,
   "metadata": {},
   "outputs": [],
   "source": [
    "pred_3 = cls_rdn.best_estimator_.predict(X_test)\n",
    "rdn_score = accuracy_score(y_test, pred_3)\n",
    "rdn_score"
   ]
  },
  {
   "cell_type": "markdown",
   "metadata": {},
   "source": [
    "### ベイズ最適化（BayesianOptimization）"
   ]
  },
  {
   "cell_type": "code",
   "execution_count": 39,
   "metadata": {
    "execution": {
     "iopub.execute_input": "2021-01-19T15:42:55.340955Z",
     "iopub.status.busy": "2021-01-19T15:42:55.340955Z",
     "iopub.status.idle": "2021-01-19T15:42:55.361974Z",
     "shell.execute_reply": "2021-01-19T15:42:55.361974Z",
     "shell.execute_reply.started": "2021-01-19T15:42:55.340955Z"
    }
   },
   "outputs": [],
   "source": [
    "from bayes_opt import BayesianOptimization"
   ]
  },
  {
   "cell_type": "code",
   "execution_count": 43,
   "metadata": {
    "execution": {
     "iopub.execute_input": "2021-01-19T15:44:02.042490Z",
     "iopub.status.busy": "2021-01-19T15:44:02.042490Z",
     "iopub.status.idle": "2021-01-19T15:44:02.046502Z",
     "shell.execute_reply": "2021-01-19T15:44:02.046502Z",
     "shell.execute_reply.started": "2021-01-19T15:44:02.042490Z"
    }
   },
   "outputs": [],
   "source": [
    "def xgb_evaluate(min_child_weight, subsample, colsample_bytree, max_depth):\n",
    "    params = {'metric': 'error',\n",
    "              'objective':'binary:logistic',\n",
    "              'n_estimators':50000,\n",
    "              'random_state':42,\n",
    "              'boosting_type':'gbdt',\n",
    "              'learning_rate':0.01,              \n",
    "              'min_child_weight': int(min_child_weight),\n",
    "              'max_depth': int(max_depth),\n",
    "              'colsample_bytree': colsample_bytree,\n",
    "              'subsample': subsample,\n",
    "             }\n",
    "    \n",
    "    cls = xgb.XGBClassifier()\n",
    "    cls.set_params(**params)\n",
    "    cls.fit(train_X,\n",
    "            train_y,\n",
    "            early_stopping_rounds=50,\n",
    "            eval_set=[(test_X, test_y)],\n",
    "            eval_metric='error',\n",
    "            verbose=0)\n",
    "    \n",
    "    pred = cls.predict(X_test)\n",
    "    score = accuracy_score(y_test, pred)\n",
    "    return score"
   ]
  },
  {
   "cell_type": "markdown",
   "metadata": {},
   "source": [
    "ベイズ最適化ではxgb_evaluate関数が戻すscore（正解率の値）の最大化を目的としてハイパーパラメータの値を探索"
   ]
  },
  {
   "cell_type": "code",
   "execution_count": 41,
   "metadata": {
    "execution": {
     "iopub.execute_input": "2021-01-19T15:43:17.132813Z",
     "iopub.status.busy": "2021-01-19T15:43:17.132813Z",
     "iopub.status.idle": "2021-01-19T15:43:17.135816Z",
     "shell.execute_reply": "2021-01-19T15:43:17.135816Z",
     "shell.execute_reply.started": "2021-01-19T15:43:17.132813Z"
    }
   },
   "outputs": [],
   "source": [
    "xgb_bo = BayesianOptimization(xgb_evaluate, \n",
    "                              {'min_child_weight': (1,20),\n",
    "                               'subsample': (.1,1),\n",
    "                               'colsample_bytree': (.1,1),\n",
    "                               'max_depth': (1,50)},\n",
    "                              random_state=10)"
   ]
  },
  {
   "cell_type": "markdown",
   "metadata": {},
   "source": [
    "maximizeメソッドを実行してベイズ最適化によるハイパーパラメータの検証を行う。  \n",
    "ベイズ最適化も繰り返しの処理による最適化の手法。  \n",
    "繰り返し回数はn_iter引数で指定することが可能。  \n",
    "50回の繰り返し処理で実行する。  \n",
    "init_points引数はランダムな探索を何回行うのかを指定する引数"
   ]
  },
  {
   "cell_type": "code",
   "execution_count": 46,
   "metadata": {
    "execution": {
     "iopub.execute_input": "2021-01-19T15:47:58.869770Z",
     "iopub.status.busy": "2021-01-19T15:47:58.868769Z",
     "iopub.status.idle": "2021-01-19T15:47:58.870772Z",
     "shell.execute_reply": "2021-01-19T15:47:58.870772Z",
     "shell.execute_reply.started": "2021-01-19T15:47:58.869770Z"
    }
   },
   "outputs": [],
   "source": [
    "xgb_bo.maximize(init_points=15, n_iter=50, acq='ei')"
   ]
  },
  {
   "cell_type": "markdown",
   "metadata": {},
   "source": [
    "max属性は最も評価スコアが高かった結果を取得することが可能  \n",
    "ベイズ最適化により得られた最もスコアの良かったハイパーパラメータの値を変数optimized_paramsへ格納"
   ]
  },
  {
   "cell_type": "code",
   "execution_count": null,
   "metadata": {},
   "outputs": [],
   "source": [
    "optimized_params = xgb_bo.max['params']\n",
    "optimized_params['max_depth'] = int(optimized_params['max_depth'])\n",
    "optimized_params"
   ]
  },
  {
   "cell_type": "markdown",
   "metadata": {},
   "source": [
    "metricやobjectiveは固定されたハイパーパラメータですので、変数fixed_paramsへ格納"
   ]
  },
  {
   "cell_type": "code",
   "execution_count": null,
   "metadata": {},
   "outputs": [],
   "source": [
    "fixed_params = {'metric':'error',\n",
    "                'objective':'binary:logistic',\n",
    "                'n_estimators':50000,\n",
    "                'random_state':seed,\n",
    "                'booster': 'gbtree',\n",
    "                'learning_rate':0.01}"
   ]
  },
  {
   "cell_type": "markdown",
   "metadata": {},
   "source": [
    "新たにXGBClassifierのインスタンスを生成して、ベイズ最適化で得られたハイパーパラメータの値を使いモデル訓練"
   ]
  },
  {
   "cell_type": "code",
   "execution_count": null,
   "metadata": {},
   "outputs": [],
   "source": [
    "cls = xgb.XGBClassifier()\n",
    "cls.set_params(**fixed_params, **optimized_params)\n",
    "cls.fit(X_train,\n",
    "        y_train,\n",
    "        early_stopping_rounds=50,\n",
    "        eval_set=[(X_test, y_test)],\n",
    "        eval_metric='error',\n",
    "        verbose=0)"
   ]
  },
  {
   "cell_type": "markdown",
   "metadata": {},
   "source": [
    "テストデータの特徴量から推測結果を算出して、正解率と混同行列を出力"
   ]
  },
  {
   "cell_type": "code",
   "execution_count": null,
   "metadata": {},
   "outputs": [],
   "source": [
    "pred_4 = cls.predict(X_test)\n",
    "baseline = accuracy_score(y_test, pred_4)\n",
    "baseline"
   ]
  },
  {
   "cell_type": "code",
   "execution_count": null,
   "metadata": {},
   "outputs": [],
   "source": [
    "confusion_matrix(y_test, pred_4)"
   ]
  }
 ],
 "metadata": {
  "kernelspec": {
   "display_name": "Python 3",
   "language": "python",
   "name": "python3"
  },
  "language_info": {
   "codemirror_mode": {
    "name": "ipython",
    "version": 3
   },
   "file_extension": ".py",
   "mimetype": "text/x-python",
   "name": "python",
   "nbconvert_exporter": "python",
   "pygments_lexer": "ipython3",
   "version": "3.7.9"
  },
  "widgets": {
   "application/vnd.jupyter.widget-state+json": {
    "state": {},
    "version_major": 2,
    "version_minor": 0
   }
  }
 },
 "nbformat": 4,
 "nbformat_minor": 4
}
