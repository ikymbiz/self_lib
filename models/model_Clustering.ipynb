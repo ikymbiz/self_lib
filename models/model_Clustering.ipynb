{
 "cells": [
  {
   "cell_type": "markdown",
   "metadata": {},
   "source": [
    "# Clustering"
   ]
  },
  {
   "cell_type": "markdown",
   "metadata": {},
   "source": [
    "### Import"
   ]
  },
  {
   "cell_type": "code",
   "execution_count": 7,
   "metadata": {
    "execution": {
     "iopub.execute_input": "2021-01-17T08:07:08.380457Z",
     "iopub.status.busy": "2021-01-17T08:07:08.379456Z",
     "iopub.status.idle": "2021-01-17T08:07:08.384461Z",
     "shell.execute_reply": "2021-01-17T08:07:08.384461Z",
     "shell.execute_reply.started": "2021-01-17T08:07:08.380457Z"
    }
   },
   "outputs": [],
   "source": [
    "import pandas as pd\n",
    "import numpy as np\n",
    "import matplotlib.pyplot as plt\n",
    "import seaborn as sns\n",
    "\n",
    "from sklearn.model_selection import train_test_split\n",
    "\n",
    "from sklearn.cluster import KMeans\n",
    "\n",
    "sns.set()\n",
    "%matplotlib inline"
   ]
  },
  {
   "cell_type": "code",
   "execution_count": 3,
   "metadata": {
    "execution": {
     "iopub.execute_input": "2021-01-17T08:06:38.147965Z",
     "iopub.status.busy": "2021-01-17T08:06:38.147965Z",
     "iopub.status.idle": "2021-01-17T08:06:38.174990Z",
     "shell.execute_reply": "2021-01-17T08:06:38.174990Z",
     "shell.execute_reply.started": "2021-01-17T08:06:38.147965Z"
    }
   },
   "outputs": [],
   "source": [
    "# pickleで読込む\n",
    "import pickle\n",
    "\n",
    "# 前処理済みデータ取得\n",
    "with open(\".../data/dataset/pre_data.pickle\",'rb') as f:\n",
    "    pre_data = pickle.load(f)"
   ]
  },
  {
   "cell_type": "code",
   "execution_count": 4,
   "metadata": {
    "execution": {
     "iopub.execute_input": "2021-01-17T08:06:38.964708Z",
     "iopub.status.busy": "2021-01-17T08:06:38.963707Z",
     "iopub.status.idle": "2021-01-17T08:06:39.014753Z",
     "shell.execute_reply": "2021-01-17T08:06:39.014753Z",
     "shell.execute_reply.started": "2021-01-17T08:06:38.964708Z"
    }
   },
   "outputs": [],
   "source": [
    "pre_data=pre_data.fillna(pre_data.mean())"
   ]
  },
  {
   "cell_type": "markdown",
   "metadata": {},
   "source": [
    "#### 分割"
   ]
  },
  {
   "cell_type": "code",
   "execution_count": 5,
   "metadata": {
    "execution": {
     "iopub.execute_input": "2021-01-17T08:06:40.396009Z",
     "iopub.status.busy": "2021-01-17T08:06:40.396009Z",
     "iopub.status.idle": "2021-01-17T08:06:40.414026Z",
     "shell.execute_reply": "2021-01-17T08:06:40.414026Z",
     "shell.execute_reply.started": "2021-01-17T08:06:40.396009Z"
    }
   },
   "outputs": [],
   "source": [
    "# 目的変数と説明変数の取得\n",
    "y=pre_data['LoanStatus']\n",
    "X=pre_data.drop(columns='LoanStatus')"
   ]
  },
  {
   "cell_type": "code",
   "execution_count": 8,
   "metadata": {
    "execution": {
     "iopub.execute_input": "2021-01-17T08:07:11.953707Z",
     "iopub.status.busy": "2021-01-17T08:07:11.953707Z",
     "iopub.status.idle": "2021-01-17T08:07:12.054799Z",
     "shell.execute_reply": "2021-01-17T08:07:12.054799Z",
     "shell.execute_reply.started": "2021-01-17T08:07:11.953707Z"
    }
   },
   "outputs": [],
   "source": [
    "# 訓練データとテストデータの分割\n",
    "train_X, test_X, train_y, test_y = train_test_split(X, y, test_size=0.2, shuffle=True)\n",
    "\n",
    "# 訓練データと検証データの分割\n",
    "train_X, valid_X, train_y, valid_y = train_test_split(train_X, train_y, test_size=0.2, shuffle=True)"
   ]
  },
  {
   "cell_type": "markdown",
   "metadata": {},
   "source": [
    "### Clustering"
   ]
  },
  {
   "cell_type": "code",
   "execution_count": 9,
   "metadata": {
    "execution": {
     "iopub.execute_input": "2021-01-17T08:07:14.333871Z",
     "iopub.status.busy": "2021-01-17T08:07:14.333871Z",
     "iopub.status.idle": "2021-01-17T08:07:14.335873Z",
     "shell.execute_reply": "2021-01-17T08:07:14.335873Z",
     "shell.execute_reply.started": "2021-01-17T08:07:14.333871Z"
    }
   },
   "outputs": [],
   "source": [
    "# クラスター数の設定\n",
    "kmeans = KMeans(2)"
   ]
  },
  {
   "cell_type": "code",
   "execution_count": 25,
   "metadata": {
    "execution": {
     "iopub.execute_input": "2021-01-17T08:15:26.197321Z",
     "iopub.status.busy": "2021-01-17T08:15:26.197321Z",
     "iopub.status.idle": "2021-01-17T08:15:26.965018Z",
     "shell.execute_reply": "2021-01-17T08:15:26.965018Z",
     "shell.execute_reply.started": "2021-01-17T08:15:26.197321Z"
    }
   },
   "outputs": [
    {
     "data": {
      "text/plain": [
       "KMeans(n_clusters=2)"
      ]
     },
     "execution_count": 25,
     "metadata": {},
     "output_type": "execute_result"
    }
   ],
   "source": [
    "kmeans.fit(train_X)"
   ]
  },
  {
   "cell_type": "markdown",
   "metadata": {},
   "source": [
    "### Clustering results"
   ]
  },
  {
   "cell_type": "markdown",
   "metadata": {},
   "source": [
    "予測したクラスターを返す<br>\n",
    "sklearn.cluster.KMeans.fit_predict(x)"
   ]
  },
  {
   "cell_type": "code",
   "execution_count": 12,
   "metadata": {
    "execution": {
     "iopub.execute_input": "2021-01-17T08:07:28.872091Z",
     "iopub.status.busy": "2021-01-17T08:07:28.871090Z",
     "iopub.status.idle": "2021-01-17T08:07:30.201298Z",
     "shell.execute_reply": "2021-01-17T08:07:30.201298Z",
     "shell.execute_reply.started": "2021-01-17T08:07:28.872091Z"
    }
   },
   "outputs": [],
   "source": [
    "identified_clusters = kmeans.fit_predict(X)"
   ]
  },
  {
   "cell_type": "code",
   "execution_count": 13,
   "metadata": {
    "execution": {
     "iopub.execute_input": "2021-01-17T08:07:33.140972Z",
     "iopub.status.busy": "2021-01-17T08:07:33.140972Z",
     "iopub.status.idle": "2021-01-17T08:07:33.178006Z",
     "shell.execute_reply": "2021-01-17T08:07:33.178006Z",
     "shell.execute_reply.started": "2021-01-17T08:07:33.140972Z"
    }
   },
   "outputs": [
    {
     "data": {
      "text/plain": [
       "array([0, 0, 1, ..., 0, 0, 0])"
      ]
     },
     "execution_count": 13,
     "metadata": {},
     "output_type": "execute_result"
    }
   ],
   "source": [
    "identified_clusters"
   ]
  },
  {
   "cell_type": "code",
   "execution_count": 15,
   "metadata": {
    "execution": {
     "iopub.execute_input": "2021-01-17T08:08:05.381290Z",
     "iopub.status.busy": "2021-01-17T08:08:05.381290Z",
     "iopub.status.idle": "2021-01-17T08:08:05.412318Z",
     "shell.execute_reply": "2021-01-17T08:08:05.412318Z",
     "shell.execute_reply.started": "2021-01-17T08:08:05.381290Z"
    }
   },
   "outputs": [
    {
     "data": {
      "text/html": [
       "<div>\n",
       "<style scoped>\n",
       "    .dataframe tbody tr th:only-of-type {\n",
       "        vertical-align: middle;\n",
       "    }\n",
       "\n",
       "    .dataframe tbody tr th {\n",
       "        vertical-align: top;\n",
       "    }\n",
       "\n",
       "    .dataframe thead th {\n",
       "        text-align: right;\n",
       "    }\n",
       "</style>\n",
       "<table border=\"1\" class=\"dataframe\">\n",
       "  <thead>\n",
       "    <tr style=\"text-align: right;\">\n",
       "      <th></th>\n",
       "      <th>LoanStatus</th>\n",
       "      <th>Term</th>\n",
       "      <th>Approval_Y</th>\n",
       "      <th>Approval_M</th>\n",
       "      <th>Disbursement_Y</th>\n",
       "      <th>Disbursement_M</th>\n",
       "      <th>TermFlg</th>\n",
       "      <th>RevLineCr</th>\n",
       "      <th>LowLoan</th>\n",
       "      <th>LoanAmount</th>\n",
       "      <th>BalanceGross</th>\n",
       "      <th>SystemCode</th>\n",
       "      <th>Employees</th>\n",
       "      <th>ExistNew</th>\n",
       "      <th>CreateJob</th>\n",
       "      <th>FranchiseCode</th>\n",
       "      <th>Zip</th>\n",
       "      <th>BankState</th>\n",
       "      <th>UrbanRural</th>\n",
       "      <th>Cluster</th>\n",
       "    </tr>\n",
       "  </thead>\n",
       "  <tbody>\n",
       "    <tr>\n",
       "      <th>0</th>\n",
       "      <td>0</td>\n",
       "      <td>84</td>\n",
       "      <td>1996</td>\n",
       "      <td>9</td>\n",
       "      <td>1996.0</td>\n",
       "      <td>12.0</td>\n",
       "      <td>0</td>\n",
       "      <td>0</td>\n",
       "      <td>1</td>\n",
       "      <td>100000.0</td>\n",
       "      <td>0.0</td>\n",
       "      <td>621320</td>\n",
       "      <td>6</td>\n",
       "      <td>0.0</td>\n",
       "      <td>0</td>\n",
       "      <td>0</td>\n",
       "      <td>75601</td>\n",
       "      <td>0</td>\n",
       "      <td>0</td>\n",
       "      <td>0</td>\n",
       "    </tr>\n",
       "    <tr>\n",
       "      <th>1</th>\n",
       "      <td>0</td>\n",
       "      <td>26</td>\n",
       "      <td>2004</td>\n",
       "      <td>2</td>\n",
       "      <td>2004.0</td>\n",
       "      <td>3.0</td>\n",
       "      <td>1</td>\n",
       "      <td>2</td>\n",
       "      <td>1</td>\n",
       "      <td>35000.0</td>\n",
       "      <td>0.0</td>\n",
       "      <td>541511</td>\n",
       "      <td>1</td>\n",
       "      <td>0.0</td>\n",
       "      <td>0</td>\n",
       "      <td>0</td>\n",
       "      <td>83814</td>\n",
       "      <td>0</td>\n",
       "      <td>1</td>\n",
       "      <td>0</td>\n",
       "    </tr>\n",
       "    <tr>\n",
       "      <th>2</th>\n",
       "      <td>0</td>\n",
       "      <td>180</td>\n",
       "      <td>1995</td>\n",
       "      <td>4</td>\n",
       "      <td>1995.0</td>\n",
       "      <td>7.0</td>\n",
       "      <td>0</td>\n",
       "      <td>1</td>\n",
       "      <td>1</td>\n",
       "      <td>110000.0</td>\n",
       "      <td>0.0</td>\n",
       "      <td>0</td>\n",
       "      <td>2</td>\n",
       "      <td>0.0</td>\n",
       "      <td>0</td>\n",
       "      <td>0</td>\n",
       "      <td>59868</td>\n",
       "      <td>0</td>\n",
       "      <td>0</td>\n",
       "      <td>1</td>\n",
       "    </tr>\n",
       "    <tr>\n",
       "      <th>3</th>\n",
       "      <td>0</td>\n",
       "      <td>84</td>\n",
       "      <td>2004</td>\n",
       "      <td>7</td>\n",
       "      <td>2004.0</td>\n",
       "      <td>8.0</td>\n",
       "      <td>0</td>\n",
       "      <td>0</td>\n",
       "      <td>1</td>\n",
       "      <td>100000.0</td>\n",
       "      <td>0.0</td>\n",
       "      <td>561622</td>\n",
       "      <td>6</td>\n",
       "      <td>0.0</td>\n",
       "      <td>0</td>\n",
       "      <td>0</td>\n",
       "      <td>3055</td>\n",
       "      <td>0</td>\n",
       "      <td>1</td>\n",
       "      <td>0</td>\n",
       "    </tr>\n",
       "    <tr>\n",
       "      <th>4</th>\n",
       "      <td>0</td>\n",
       "      <td>60</td>\n",
       "      <td>2005</td>\n",
       "      <td>8</td>\n",
       "      <td>2005.0</td>\n",
       "      <td>11.0</td>\n",
       "      <td>0</td>\n",
       "      <td>0</td>\n",
       "      <td>1</td>\n",
       "      <td>50000.0</td>\n",
       "      <td>0.0</td>\n",
       "      <td>484110</td>\n",
       "      <td>1</td>\n",
       "      <td>0.0</td>\n",
       "      <td>0</td>\n",
       "      <td>0</td>\n",
       "      <td>39429</td>\n",
       "      <td>0</td>\n",
       "      <td>2</td>\n",
       "      <td>0</td>\n",
       "    </tr>\n",
       "    <tr>\n",
       "      <th>...</th>\n",
       "      <td>...</td>\n",
       "      <td>...</td>\n",
       "      <td>...</td>\n",
       "      <td>...</td>\n",
       "      <td>...</td>\n",
       "      <td>...</td>\n",
       "      <td>...</td>\n",
       "      <td>...</td>\n",
       "      <td>...</td>\n",
       "      <td>...</td>\n",
       "      <td>...</td>\n",
       "      <td>...</td>\n",
       "      <td>...</td>\n",
       "      <td>...</td>\n",
       "      <td>...</td>\n",
       "      <td>...</td>\n",
       "      <td>...</td>\n",
       "      <td>...</td>\n",
       "      <td>...</td>\n",
       "      <td>...</td>\n",
       "    </tr>\n",
       "    <tr>\n",
       "      <th>255472</th>\n",
       "      <td>1</td>\n",
       "      <td>49</td>\n",
       "      <td>2008</td>\n",
       "      <td>4</td>\n",
       "      <td>2008.0</td>\n",
       "      <td>4.0</td>\n",
       "      <td>1</td>\n",
       "      <td>2</td>\n",
       "      <td>1</td>\n",
       "      <td>15000.0</td>\n",
       "      <td>0.0</td>\n",
       "      <td>452990</td>\n",
       "      <td>2</td>\n",
       "      <td>0.0</td>\n",
       "      <td>0</td>\n",
       "      <td>0</td>\n",
       "      <td>98501</td>\n",
       "      <td>0</td>\n",
       "      <td>1</td>\n",
       "      <td>0</td>\n",
       "    </tr>\n",
       "    <tr>\n",
       "      <th>255473</th>\n",
       "      <td>0</td>\n",
       "      <td>240</td>\n",
       "      <td>2001</td>\n",
       "      <td>3</td>\n",
       "      <td>2001.0</td>\n",
       "      <td>6.0</td>\n",
       "      <td>0</td>\n",
       "      <td>0</td>\n",
       "      <td>1</td>\n",
       "      <td>181000.0</td>\n",
       "      <td>0.0</td>\n",
       "      <td>531210</td>\n",
       "      <td>2</td>\n",
       "      <td>0.0</td>\n",
       "      <td>1</td>\n",
       "      <td>0</td>\n",
       "      <td>91006</td>\n",
       "      <td>0</td>\n",
       "      <td>1</td>\n",
       "      <td>0</td>\n",
       "    </tr>\n",
       "    <tr>\n",
       "      <th>255474</th>\n",
       "      <td>0</td>\n",
       "      <td>84</td>\n",
       "      <td>2005</td>\n",
       "      <td>4</td>\n",
       "      <td>2005.0</td>\n",
       "      <td>4.0</td>\n",
       "      <td>0</td>\n",
       "      <td>0</td>\n",
       "      <td>1</td>\n",
       "      <td>5000.0</td>\n",
       "      <td>0.0</td>\n",
       "      <td>421450</td>\n",
       "      <td>3</td>\n",
       "      <td>1.0</td>\n",
       "      <td>0</td>\n",
       "      <td>0</td>\n",
       "      <td>77061</td>\n",
       "      <td>0</td>\n",
       "      <td>1</td>\n",
       "      <td>0</td>\n",
       "    </tr>\n",
       "    <tr>\n",
       "      <th>255475</th>\n",
       "      <td>0</td>\n",
       "      <td>180</td>\n",
       "      <td>1994</td>\n",
       "      <td>9</td>\n",
       "      <td>1994.0</td>\n",
       "      <td>10.0</td>\n",
       "      <td>0</td>\n",
       "      <td>1</td>\n",
       "      <td>1</td>\n",
       "      <td>146000.0</td>\n",
       "      <td>0.0</td>\n",
       "      <td>621320</td>\n",
       "      <td>4</td>\n",
       "      <td>0.0</td>\n",
       "      <td>0</td>\n",
       "      <td>0</td>\n",
       "      <td>92703</td>\n",
       "      <td>0</td>\n",
       "      <td>0</td>\n",
       "      <td>0</td>\n",
       "    </tr>\n",
       "    <tr>\n",
       "      <th>255476</th>\n",
       "      <td>0</td>\n",
       "      <td>60</td>\n",
       "      <td>2011</td>\n",
       "      <td>3</td>\n",
       "      <td>2011.0</td>\n",
       "      <td>4.0</td>\n",
       "      <td>0</td>\n",
       "      <td>1</td>\n",
       "      <td>1</td>\n",
       "      <td>67500.0</td>\n",
       "      <td>0.0</td>\n",
       "      <td>812990</td>\n",
       "      <td>2</td>\n",
       "      <td>1.0</td>\n",
       "      <td>1</td>\n",
       "      <td>0</td>\n",
       "      <td>45233</td>\n",
       "      <td>0</td>\n",
       "      <td>1</td>\n",
       "      <td>0</td>\n",
       "    </tr>\n",
       "  </tbody>\n",
       "</table>\n",
       "<p>255477 rows × 20 columns</p>\n",
       "</div>"
      ],
      "text/plain": [
       "        LoanStatus  Term  Approval_Y  Approval_M  Disbursement_Y  \\\n",
       "0                0    84        1996           9          1996.0   \n",
       "1                0    26        2004           2          2004.0   \n",
       "2                0   180        1995           4          1995.0   \n",
       "3                0    84        2004           7          2004.0   \n",
       "4                0    60        2005           8          2005.0   \n",
       "...            ...   ...         ...         ...             ...   \n",
       "255472           1    49        2008           4          2008.0   \n",
       "255473           0   240        2001           3          2001.0   \n",
       "255474           0    84        2005           4          2005.0   \n",
       "255475           0   180        1994           9          1994.0   \n",
       "255476           0    60        2011           3          2011.0   \n",
       "\n",
       "        Disbursement_M  TermFlg  RevLineCr  LowLoan  LoanAmount  BalanceGross  \\\n",
       "0                 12.0        0          0        1    100000.0           0.0   \n",
       "1                  3.0        1          2        1     35000.0           0.0   \n",
       "2                  7.0        0          1        1    110000.0           0.0   \n",
       "3                  8.0        0          0        1    100000.0           0.0   \n",
       "4                 11.0        0          0        1     50000.0           0.0   \n",
       "...                ...      ...        ...      ...         ...           ...   \n",
       "255472             4.0        1          2        1     15000.0           0.0   \n",
       "255473             6.0        0          0        1    181000.0           0.0   \n",
       "255474             4.0        0          0        1      5000.0           0.0   \n",
       "255475            10.0        0          1        1    146000.0           0.0   \n",
       "255476             4.0        0          1        1     67500.0           0.0   \n",
       "\n",
       "        SystemCode  Employees  ExistNew  CreateJob  FranchiseCode    Zip  \\\n",
       "0           621320          6       0.0          0              0  75601   \n",
       "1           541511          1       0.0          0              0  83814   \n",
       "2                0          2       0.0          0              0  59868   \n",
       "3           561622          6       0.0          0              0   3055   \n",
       "4           484110          1       0.0          0              0  39429   \n",
       "...            ...        ...       ...        ...            ...    ...   \n",
       "255472      452990          2       0.0          0              0  98501   \n",
       "255473      531210          2       0.0          1              0  91006   \n",
       "255474      421450          3       1.0          0              0  77061   \n",
       "255475      621320          4       0.0          0              0  92703   \n",
       "255476      812990          2       1.0          1              0  45233   \n",
       "\n",
       "        BankState  UrbanRural  Cluster  \n",
       "0               0           0        0  \n",
       "1               0           1        0  \n",
       "2               0           0        1  \n",
       "3               0           1        0  \n",
       "4               0           2        0  \n",
       "...           ...         ...      ...  \n",
       "255472          0           1        0  \n",
       "255473          0           1        0  \n",
       "255474          0           1        0  \n",
       "255475          0           0        0  \n",
       "255476          0           1        0  \n",
       "\n",
       "[255477 rows x 20 columns]"
      ]
     },
     "execution_count": 15,
     "metadata": {},
     "output_type": "execute_result"
    }
   ],
   "source": [
    "data_with_cluster = pre_data.copy()\n",
    "data_with_cluster['Cluster'] =identified_clusters\n",
    "data_with_cluster"
   ]
  },
  {
   "cell_type": "code",
   "execution_count": 23,
   "metadata": {
    "collapsed": true,
    "execution": {
     "iopub.execute_input": "2021-01-17T08:12:10.374069Z",
     "iopub.status.busy": "2021-01-17T08:12:10.374069Z",
     "iopub.status.idle": "2021-01-17T08:12:12.818291Z",
     "shell.execute_reply": "2021-01-17T08:12:12.818291Z",
     "shell.execute_reply.started": "2021-01-17T08:12:10.374069Z"
    },
    "jupyter": {
     "outputs_hidden": true,
     "source_hidden": true
    }
   },
   "outputs": [
    {
     "data": {
      "text/plain": [
       "<AxesSubplot:xlabel='Approval_Y', ylabel='TermFlg'>"
      ]
     },
     "execution_count": 23,
     "metadata": {},
     "output_type": "execute_result"
    },
    {
     "data": {
      "image/png": "[encoded data removed]",
      "text/plain": [
       "<Figure size 432x288 with 2 Axes>"
      ]
     },
     "metadata": {
      "needs_background": "light"
     },
     "output_type": "display_data"
    }
   ],
   "source": [
    "data_with_cluster.plot.scatter(x='Approval_Y', y='TermFlg',c='LoanStatus',cmap=\"Paired\")"
   ]
  },
  {
   "cell_type": "markdown",
   "metadata": {},
   "source": [
    "### Clustering results"
   ]
  },
  {
   "cell_type": "markdown",
   "metadata": {},
   "source": [
    "予測したクラスターを返す<br>\n",
    "sklearn.cluster.KMeans.fit_predict(x)"
   ]
  },
  {
   "cell_type": "code",
   "execution_count": 199,
   "metadata": {
    "execution": {
     "iopub.execute_input": "2020-12-30T15:07:14.061222Z",
     "iopub.status.busy": "2020-12-30T15:07:14.061222Z",
     "iopub.status.idle": "2020-12-30T15:07:14.071232Z",
     "shell.execute_reply": "2020-12-30T15:07:14.071232Z",
     "shell.execute_reply.started": "2020-12-30T15:07:14.061222Z"
    }
   },
   "outputs": [],
   "source": [
    "identified_clusters = kmeans.fit_predict(x)"
   ]
  },
  {
   "cell_type": "code",
   "execution_count": 200,
   "metadata": {
    "execution": {
     "iopub.execute_input": "2020-12-30T15:07:14.266409Z",
     "iopub.status.busy": "2020-12-30T15:07:14.266409Z",
     "iopub.status.idle": "2020-12-30T15:07:14.269411Z",
     "shell.execute_reply": "2020-12-30T15:07:14.269411Z",
     "shell.execute_reply.started": "2020-12-30T15:07:14.266409Z"
    }
   },
   "outputs": [
    {
     "data": {
      "text/plain": [
       "array([1, 1, 0, 1, 0, 1])"
      ]
     },
     "execution_count": 200,
     "metadata": {},
     "output_type": "execute_result"
    }
   ],
   "source": [
    "identified_clusters"
   ]
  },
  {
   "cell_type": "code",
   "execution_count": 201,
   "metadata": {
    "execution": {
     "iopub.execute_input": "2020-12-30T15:07:14.508629Z",
     "iopub.status.busy": "2020-12-30T15:07:14.507629Z",
     "iopub.status.idle": "2020-12-30T15:07:14.515635Z",
     "shell.execute_reply": "2020-12-30T15:07:14.515635Z",
     "shell.execute_reply.started": "2020-12-30T15:07:14.508629Z"
    }
   },
   "outputs": [
    {
     "data": {
      "text/html": [
       "<div>\n",
       "<style scoped>\n",
       "    .dataframe tbody tr th:only-of-type {\n",
       "        vertical-align: middle;\n",
       "    }\n",
       "\n",
       "    .dataframe tbody tr th {\n",
       "        vertical-align: top;\n",
       "    }\n",
       "\n",
       "    .dataframe thead th {\n",
       "        text-align: right;\n",
       "    }\n",
       "</style>\n",
       "<table border=\"1\" class=\"dataframe\">\n",
       "  <thead>\n",
       "    <tr style=\"text-align: right;\">\n",
       "      <th></th>\n",
       "      <th>Country</th>\n",
       "      <th>Latitude</th>\n",
       "      <th>Longitude</th>\n",
       "      <th>Language</th>\n",
       "      <th>Cluster</th>\n",
       "    </tr>\n",
       "  </thead>\n",
       "  <tbody>\n",
       "    <tr>\n",
       "      <th>0</th>\n",
       "      <td>USA</td>\n",
       "      <td>44.97</td>\n",
       "      <td>-103.77</td>\n",
       "      <td>0</td>\n",
       "      <td>1</td>\n",
       "    </tr>\n",
       "    <tr>\n",
       "      <th>1</th>\n",
       "      <td>Canada</td>\n",
       "      <td>62.40</td>\n",
       "      <td>-96.80</td>\n",
       "      <td>0</td>\n",
       "      <td>1</td>\n",
       "    </tr>\n",
       "    <tr>\n",
       "      <th>2</th>\n",
       "      <td>France</td>\n",
       "      <td>46.75</td>\n",
       "      <td>2.40</td>\n",
       "      <td>1</td>\n",
       "      <td>0</td>\n",
       "    </tr>\n",
       "    <tr>\n",
       "      <th>3</th>\n",
       "      <td>UK</td>\n",
       "      <td>54.01</td>\n",
       "      <td>-2.53</td>\n",
       "      <td>0</td>\n",
       "      <td>1</td>\n",
       "    </tr>\n",
       "    <tr>\n",
       "      <th>4</th>\n",
       "      <td>Germany</td>\n",
       "      <td>51.15</td>\n",
       "      <td>10.40</td>\n",
       "      <td>2</td>\n",
       "      <td>0</td>\n",
       "    </tr>\n",
       "    <tr>\n",
       "      <th>5</th>\n",
       "      <td>Australia</td>\n",
       "      <td>-25.45</td>\n",
       "      <td>133.11</td>\n",
       "      <td>0</td>\n",
       "      <td>1</td>\n",
       "    </tr>\n",
       "  </tbody>\n",
       "</table>\n",
       "</div>"
      ],
      "text/plain": [
       "     Country  Latitude  Longitude  Language  Cluster\n",
       "0        USA     44.97    -103.77         0        1\n",
       "1     Canada     62.40     -96.80         0        1\n",
       "2     France     46.75       2.40         1        0\n",
       "3         UK     54.01      -2.53         0        1\n",
       "4    Germany     51.15      10.40         2        0\n",
       "5  Australia    -25.45     133.11         0        1"
      ]
     },
     "execution_count": 201,
     "metadata": {},
     "output_type": "execute_result"
    }
   ],
   "source": [
    "data_with_cluster =data_mapped.copy()\n",
    "data_with_cluster['Cluster'] =identified_clusters\n",
    "data_with_cluster"
   ]
  },
  {
   "cell_type": "code",
   "execution_count": 202,
   "metadata": {
    "execution": {
     "iopub.execute_input": "2020-12-30T15:07:15.621694Z",
     "iopub.status.busy": "2020-12-30T15:07:15.621694Z",
     "iopub.status.idle": "2020-12-30T15:07:15.728792Z",
     "shell.execute_reply": "2020-12-30T15:07:15.728792Z",
     "shell.execute_reply.started": "2020-12-30T15:07:15.621694Z"
    }
   },
   "outputs": [
    {
     "name": "stderr",
     "output_type": "stream",
     "text": [
      "c:\\users\\sirec\\anaconda3\\envs\\datascience\\lib\\site-packages\\pandas\\plotting\\_tools.py:307: MatplotlibDeprecationWarning: \n",
      "The rowNum attribute was deprecated in Matplotlib 3.2 and will be removed two minor releases later. Use ax.get_subplotspec().rowspan.start instead.\n",
      "  layout[ax.rowNum, ax.colNum] = ax.get_visible()\n",
      "c:\\users\\sirec\\anaconda3\\envs\\datascience\\lib\\site-packages\\pandas\\plotting\\_tools.py:307: MatplotlibDeprecationWarning: \n",
      "The colNum attribute was deprecated in Matplotlib 3.2 and will be removed two minor releases later. Use ax.get_subplotspec().colspan.start instead.\n",
      "  layout[ax.rowNum, ax.colNum] = ax.get_visible()\n",
      "c:\\users\\sirec\\anaconda3\\envs\\datascience\\lib\\site-packages\\pandas\\plotting\\_tools.py:313: MatplotlibDeprecationWarning: \n",
      "The rowNum attribute was deprecated in Matplotlib 3.2 and will be removed two minor releases later. Use ax.get_subplotspec().rowspan.start instead.\n",
      "  if not layout[ax.rowNum + 1, ax.colNum]:\n",
      "c:\\users\\sirec\\anaconda3\\envs\\datascience\\lib\\site-packages\\pandas\\plotting\\_tools.py:313: MatplotlibDeprecationWarning: \n",
      "The colNum attribute was deprecated in Matplotlib 3.2 and will be removed two minor releases later. Use ax.get_subplotspec().colspan.start instead.\n",
      "  if not layout[ax.rowNum + 1, ax.colNum]:\n"
     ]
    },
    {
     "data": {
      "text/plain": [
       "<AxesSubplot:xlabel='Longitude', ylabel='Latitude'>"
      ]
     },
     "execution_count": 202,
     "metadata": {},
     "output_type": "execute_result"
    },
    {
     "data": {
      "image/png": "[encoded data removed]",
      "text/plain": [
       "<Figure size 432x288 with 2 Axes>"
      ]
     },
     "metadata": {
      "needs_background": "light"
     },
     "output_type": "display_data"
    }
   ],
   "source": [
    "data_with_cluster.plot.scatter(x='Longitude', y='Latitude',c='Cluster',cmap=\"rainbow\")"
   ]
  },
  {
   "cell_type": "code",
   "execution_count": 229,
   "metadata": {
    "execution": {
     "iopub.execute_input": "2020-12-30T16:36:41.525413Z",
     "iopub.status.busy": "2020-12-30T16:36:41.525413Z",
     "iopub.status.idle": "2020-12-30T16:36:41.723593Z",
     "shell.execute_reply": "2020-12-30T16:36:41.723593Z",
     "shell.execute_reply.started": "2020-12-30T16:36:41.525413Z"
    }
   },
   "outputs": [
    {
     "data": {
      "text/plain": [
       "<seaborn.matrix.ClusterGrid at 0x16a5ae979c8>"
      ]
     },
     "execution_count": 229,
     "metadata": {},
     "output_type": "execute_result"
    },
    {
     "data": {
      "image/png": "[encoded data removed]",
      "text/plain": [
       "<Figure size 360x360 with 4 Axes>"
      ]
     },
     "metadata": {
      "needs_background": "light"
     },
     "output_type": "display_data"
    }
   ],
   "source": [
    "sns.clustermap(x,figsize=(5,5),cmap=\"coolwarm\")"
   ]
  },
  {
   "cell_type": "markdown",
   "metadata": {},
   "source": []
  },
  {
   "cell_type": "markdown",
   "metadata": {},
   "source": [
    "## ElbowMethod"
   ]
  },
  {
   "cell_type": "code",
   "execution_count": 212,
   "metadata": {
    "execution": {
     "iopub.execute_input": "2020-12-30T15:13:34.372689Z",
     "iopub.status.busy": "2020-12-30T15:13:34.372689Z",
     "iopub.status.idle": "2020-12-30T15:13:34.376693Z",
     "shell.execute_reply": "2020-12-30T15:13:34.376693Z",
     "shell.execute_reply.started": "2020-12-30T15:13:34.372689Z"
    }
   },
   "outputs": [],
   "source": [
    "import pandas as pd\n",
    "import numpy as np\n",
    "import matplotlib.pyplot as plt\n",
    "import seaborn as sns\n",
    "\n",
    "from sklearn.cluster import KMeans\n",
    "\n",
    "sns.set()\n",
    "%matplotlib inline"
   ]
  },
  {
   "cell_type": "markdown",
   "metadata": {},
   "source": [
    "### Load the data"
   ]
  },
  {
   "cell_type": "code",
   "execution_count": 213,
   "metadata": {
    "execution": {
     "iopub.execute_input": "2020-12-30T15:13:35.653962Z",
     "iopub.status.busy": "2020-12-30T15:13:35.653962Z",
     "iopub.status.idle": "2020-12-30T15:13:35.659968Z",
     "shell.execute_reply": "2020-12-30T15:13:35.659968Z",
     "shell.execute_reply.started": "2020-12-30T15:13:35.653962Z"
    }
   },
   "outputs": [],
   "source": [
    "data = pd.read_csv(\"./data/Country clusters.csv\")"
   ]
  },
  {
   "cell_type": "markdown",
   "metadata": {},
   "source": [
    "### Select the features"
   ]
  },
  {
   "cell_type": "code",
   "execution_count": 214,
   "metadata": {
    "execution": {
     "iopub.execute_input": "2020-12-30T15:13:35.981262Z",
     "iopub.status.busy": "2020-12-30T15:13:35.981262Z",
     "iopub.status.idle": "2020-12-30T15:13:35.984265Z",
     "shell.execute_reply": "2020-12-30T15:13:35.984265Z",
     "shell.execute_reply.started": "2020-12-30T15:13:35.981262Z"
    }
   },
   "outputs": [],
   "source": [
    "x = data[['Latitude','Longitude']]"
   ]
  },
  {
   "cell_type": "code",
   "execution_count": 215,
   "metadata": {
    "execution": {
     "iopub.execute_input": "2020-12-30T15:13:36.766205Z",
     "iopub.status.busy": "2020-12-30T15:13:36.766205Z",
     "iopub.status.idle": "2020-12-30T15:13:36.771210Z",
     "shell.execute_reply": "2020-12-30T15:13:36.771210Z",
     "shell.execute_reply.started": "2020-12-30T15:13:36.766205Z"
    }
   },
   "outputs": [
    {
     "data": {
      "text/html": [
       "<div>\n",
       "<style scoped>\n",
       "    .dataframe tbody tr th:only-of-type {\n",
       "        vertical-align: middle;\n",
       "    }\n",
       "\n",
       "    .dataframe tbody tr th {\n",
       "        vertical-align: top;\n",
       "    }\n",
       "\n",
       "    .dataframe thead th {\n",
       "        text-align: right;\n",
       "    }\n",
       "</style>\n",
       "<table border=\"1\" class=\"dataframe\">\n",
       "  <thead>\n",
       "    <tr style=\"text-align: right;\">\n",
       "      <th></th>\n",
       "      <th>Latitude</th>\n",
       "      <th>Longitude</th>\n",
       "    </tr>\n",
       "  </thead>\n",
       "  <tbody>\n",
       "    <tr>\n",
       "      <th>0</th>\n",
       "      <td>44.97</td>\n",
       "      <td>-103.77</td>\n",
       "    </tr>\n",
       "    <tr>\n",
       "      <th>1</th>\n",
       "      <td>62.40</td>\n",
       "      <td>-96.80</td>\n",
       "    </tr>\n",
       "    <tr>\n",
       "      <th>2</th>\n",
       "      <td>46.75</td>\n",
       "      <td>2.40</td>\n",
       "    </tr>\n",
       "    <tr>\n",
       "      <th>3</th>\n",
       "      <td>54.01</td>\n",
       "      <td>-2.53</td>\n",
       "    </tr>\n",
       "    <tr>\n",
       "      <th>4</th>\n",
       "      <td>51.15</td>\n",
       "      <td>10.40</td>\n",
       "    </tr>\n",
       "    <tr>\n",
       "      <th>5</th>\n",
       "      <td>-25.45</td>\n",
       "      <td>133.11</td>\n",
       "    </tr>\n",
       "  </tbody>\n",
       "</table>\n",
       "</div>"
      ],
      "text/plain": [
       "   Latitude  Longitude\n",
       "0     44.97    -103.77\n",
       "1     62.40     -96.80\n",
       "2     46.75       2.40\n",
       "3     54.01      -2.53\n",
       "4     51.15      10.40\n",
       "5    -25.45     133.11"
      ]
     },
     "execution_count": 215,
     "metadata": {},
     "output_type": "execute_result"
    }
   ],
   "source": [
    "x"
   ]
  },
  {
   "cell_type": "markdown",
   "metadata": {},
   "source": [
    "#### WCSS  \n",
    "クラスタの二乗和内  \n",
    "クラスタの結合を測定"
   ]
  },
  {
   "cell_type": "code",
   "execution_count": 216,
   "metadata": {
    "execution": {
     "iopub.execute_input": "2020-12-30T15:13:39.750437Z",
     "iopub.status.busy": "2020-12-30T15:13:39.750437Z",
     "iopub.status.idle": "2020-12-30T15:13:39.753442Z",
     "shell.execute_reply": "2020-12-30T15:13:39.753442Z",
     "shell.execute_reply.started": "2020-12-30T15:13:39.750437Z"
    }
   },
   "outputs": [
    {
     "data": {
      "text/plain": [
       "0.0"
      ]
     },
     "execution_count": 216,
     "metadata": {},
     "output_type": "execute_result"
    }
   ],
   "source": [
    "kmeans.inertia_"
   ]
  },
  {
   "cell_type": "code",
   "execution_count": 217,
   "metadata": {
    "execution": {
     "iopub.execute_input": "2020-12-30T15:13:41.191459Z",
     "iopub.status.busy": "2020-12-30T15:13:41.191459Z",
     "iopub.status.idle": "2020-12-30T15:13:41.450694Z",
     "shell.execute_reply": "2020-12-30T15:13:41.450694Z",
     "shell.execute_reply.started": "2020-12-30T15:13:41.191459Z"
    }
   },
   "outputs": [
    {
     "data": {
      "text/plain": [
       "[42601.91356666667,\n",
       " 13205.758119999999,\n",
       " 288.10523333333333,\n",
       " 111.91233333333332,\n",
       " 38.50624999999998,\n",
       " 0.0]"
      ]
     },
     "execution_count": 217,
     "metadata": {},
     "output_type": "execute_result"
    }
   ],
   "source": [
    "# WCSSの決定状況を確認する\n",
    "wcss=[]\n",
    "\n",
    "for i in range(1,7):\n",
    "    kmeans=KMeans(i)\n",
    "    kmeans.fit(x)\n",
    "    wcss_iter = kmeans.inertia_\n",
    "    wcss.append(wcss_iter)\n",
    "\n",
    "wcss"
   ]
  },
  {
   "cell_type": "markdown",
   "metadata": {},
   "source": [
    "### The Elbow Method"
   ]
  },
  {
   "cell_type": "code",
   "execution_count": 218,
   "metadata": {
    "execution": {
     "iopub.execute_input": "2020-12-30T15:15:53.482698Z",
     "iopub.status.busy": "2020-12-30T15:15:53.482698Z",
     "iopub.status.idle": "2020-12-30T15:15:53.576784Z",
     "shell.execute_reply": "2020-12-30T15:15:53.576784Z",
     "shell.execute_reply.started": "2020-12-30T15:15:53.482698Z"
    }
   },
   "outputs": [
    {
     "data": {
      "text/plain": [
       "Text(0, 0.5, 'Within_cluster sum of squares')"
      ]
     },
     "execution_count": 218,
     "metadata": {},
     "output_type": "execute_result"
    },
    {
     "data": {
      "image/png": "[encoded data removed]",
      "text/plain": [
       "<Figure size 432x288 with 1 Axes>"
      ]
     },
     "metadata": {
      "needs_background": "light"
     },
     "output_type": "display_data"
    }
   ],
   "source": [
    "number_clusters = range(1,7)\n",
    "plt.plot(number_clusters,wcss)\n",
    "plt.title('The Elbow Method')\n",
    "plt.xlabel('number of clusters')\n",
    "plt.ylabel('Within_cluster sum of squares')"
   ]
  },
  {
   "cell_type": "markdown",
   "metadata": {},
   "source": []
  },
  {
   "cell_type": "markdown",
   "metadata": {},
   "source": [
    "## 標準化"
   ]
  },
  {
   "cell_type": "markdown",
   "metadata": {},
   "source": [
    "特徴量として残しておきたい場合は標準化しないこともある。<br>\n",
    "クラスタリングするにあたり、x軸・y軸が同等の価値があるのであれば標準化すべき。"
   ]
  },
  {
   "cell_type": "markdown",
   "metadata": {},
   "source": [
    "平均０、分散１のスケールに変換\n",
    "> sklearn.preprocessing.scale(x)"
   ]
  },
  {
   "cell_type": "code",
   "execution_count": 220,
   "metadata": {
    "execution": {
     "iopub.execute_input": "2020-12-30T16:04:08.778941Z",
     "iopub.status.busy": "2020-12-30T16:04:08.777940Z",
     "iopub.status.idle": "2020-12-30T16:04:08.782945Z",
     "shell.execute_reply": "2020-12-30T16:04:08.782945Z",
     "shell.execute_reply.started": "2020-12-30T16:04:08.778941Z"
    }
   },
   "outputs": [
    {
     "data": {
      "text/plain": [
       "array([[ 0.20434388, -1.19311447],\n",
       "       [ 0.79812779, -1.10487004],\n",
       "       [ 0.26498274,  0.15106214],\n",
       "       [ 0.51230754,  0.08864535],\n",
       "       [ 0.41487656,  0.25234699],\n",
       "       [-2.19463851,  1.80593003]])"
      ]
     },
     "execution_count": 220,
     "metadata": {},
     "output_type": "execute_result"
    }
   ],
   "source": [
    "from sklearn import preprocessing\n",
    "x_scaled = preprocessing.scale(x)\n",
    "x_scaled"
   ]
  },
  {
   "cell_type": "markdown",
   "metadata": {},
   "source": []
  },
  {
   "cell_type": "markdown",
   "metadata": {},
   "source": [
    "kを求める"
   ]
  },
  {
   "cell_type": "code",
   "execution_count": 221,
   "metadata": {
    "execution": {
     "iopub.execute_input": "2020-12-30T16:04:59.372702Z",
     "iopub.status.busy": "2020-12-30T16:04:59.372702Z",
     "iopub.status.idle": "2020-12-30T16:04:59.546861Z",
     "shell.execute_reply": "2020-12-30T16:04:59.546861Z",
     "shell.execute_reply.started": "2020-12-30T16:04:59.372702Z"
    }
   },
   "outputs": [
    {
     "data": {
      "text/plain": [
       "[42601.91356666667,\n",
       " 13205.758119999999,\n",
       " 288.10523333333333,\n",
       " 111.91233333333332,\n",
       " 38.50624999999998,\n",
       " 0.0]"
      ]
     },
     "execution_count": 221,
     "metadata": {},
     "output_type": "execute_result"
    }
   ],
   "source": [
    "# WCSSの決定状況を確認する\n",
    "wcss=[]\n",
    "\n",
    "for i in range(1,7):\n",
    "    kmeans=KMeans(i)\n",
    "    kmeans.fit(x)\n",
    "    wcss_iter = kmeans.inertia_\n",
    "    wcss.append(wcss_iter)\n",
    "\n",
    "wcss"
   ]
  },
  {
   "cell_type": "markdown",
   "metadata": {},
   "source": []
  },
  {
   "cell_type": "markdown",
   "metadata": {},
   "source": [
    "#### 次元削減"
   ]
  },
  {
   "cell_type": "code",
   "execution_count": null,
   "metadata": {},
   "outputs": [],
   "source": [
    "# 次元削減\n",
    "from sklearn.manifold import TSNE\n",
    "tsne = TSNE(n_components=2,random_state=0)\n",
    "x =tsne.fit_transform(store_clustering_sc)\n",
    "tsne_df = pd.DataFrame(x)\n",
    "tsne_df['cluster'] =store_clustering['cluster']\n",
    "tsne_df.columns = ['axis_0','axis_1','cluster']\n",
    "\n",
    "tsne_graph = sns.scatterplot(x='axis_0',y='axis_1',hue='cluster',data=tsne_df)"
   ]
  },
  {
   "cell_type": "code",
   "execution_count": null,
   "metadata": {},
   "outputs": [],
   "source": []
  },
  {
   "cell_type": "code",
   "execution_count": null,
   "metadata": {},
   "outputs": [],
   "source": [
    "# クラスタリング\n",
    "from sklearn.cluster import KMeans\n",
    "from sklearn.preprocessing import StandardScaler\n",
    "from sklearn.manifold import TSNE\n",
    "\n",
    "data_clustering = analize_order_data.groupby('data_id').agg(['size','mean','median','max','min'])['total_amount']\n",
    "data_clustering.reset_index(inplace = True,drop=True)\n",
    "\n",
    "# features\n",
    "features_x = data_clustering[['size','mean','median','max','min']]\n",
    "\n",
    "# 標準化\n",
    "sc = StandardScaler()\n",
    "store_clustering_sc = sc.fit_transform(store_clustering)\n",
    "\n",
    "# クラスターの数を決定\n",
    "n_clusters =4\n",
    "\n",
    "# WCSSの決定状況を確認する\n",
    "wcss=[]\n",
    "number_clusters = range(1,n_clusters)\n",
    "for i in number_clusters:\n",
    "    kmeans=KMeans(i)\n",
    "    kmeans.fit(features_x)\n",
    "    wcss_iter = kmeans.inertia_\n",
    "    wcss.append(wcss_iter)\n",
    "\n",
    "plt.plot(number_clusters,wcss)\n",
    "plt.title('The Elbow Method')\n",
    "plt.xlabel('number of clusters')\n",
    "plt.ylabel('Within_cluster sum of squares')\n",
    "plt.show()\n",
    "\n",
    "# KMeans\n",
    "kmeans = KMeans(n_clusters=n_clusters ,random_state=0)\n",
    "clusters = kmeans.fit(data_clustering_sc)\n",
    "data_clustering['cluster']=clusters.labels_\n",
    "\n",
    "print(data_clustering['cluster'].unique())\n",
    "print(f'wcss : {wcss}')\n",
    "\n",
    "data_clustering.head()\n",
    "\n",
    "# 次元削減\n",
    "tsne = TSNE(n_components=2,random_state=0)\n",
    "x =tsne.fit_transform(data_clustering_sc)\n",
    "tsne_df = pd.DataFrame(x)\n",
    "tsne_df['cluster'] =data_clustering['cluster']\n",
    "tsne_df.columns = ['axis_0','axis_1','cluster']\n",
    "\n",
    "tsne_graph = sns.scatterplot(x='axis_0',y='axis_1',hue='cluster',data=tsne_df)"
   ]
  },
  {
   "cell_type": "code",
   "execution_count": null,
   "metadata": {
    "execution": {
     "iopub.status.busy": "2021-01-17T08:17:44.987544Z",
     "iopub.status.idle": "2021-01-17T08:17:44.987544Z",
     "shell.execute_reply": "2021-01-17T08:17:44.987544Z"
    }
   },
   "outputs": [],
   "source": [
    "# dump pre_data\n",
    "filepath=\"../data/dataset/\"\n",
    "filename=\"pre_data.pickle\"\n",
    "dump_data=pre_data\n",
    "\n",
    "with open(filepath + filename,'wb') as f:\n",
    "    pickle.dump(dump_data,f)"
   ]
  }
 ],
 "metadata": {
  "kernelspec": {
   "display_name": "Python 3",
   "language": "python",
   "name": "python3"
  },
  "language_info": {
   "codemirror_mode": {
    "name": "ipython",
    "version": 3
   },
   "file_extension": ".py",
   "mimetype": "text/x-python",
   "name": "python",
   "nbconvert_exporter": "python",
   "pygments_lexer": "ipython3",
   "version": "3.7.9"
  },
  "widgets": {
   "application/vnd.jupyter.widget-state+json": {
    "state": {},
    "version_major": 2,
    "version_minor": 0
   }
  }
 },
 "nbformat": 4,
 "nbformat_minor": 4
}
