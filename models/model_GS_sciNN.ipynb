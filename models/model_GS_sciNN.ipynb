{
 "cells": [
  {
   "cell_type": "markdown",
   "metadata": {
    "execution": {
     "iopub.execute_input": "2021-01-17T06:24:00.638325Z",
     "iopub.status.busy": "2021-01-17T06:24:00.638325Z",
     "iopub.status.idle": "2021-01-17T06:24:00.640327Z",
     "shell.execute_reply": "2021-01-17T06:24:00.640327Z",
     "shell.execute_reply.started": "2021-01-17T06:24:00.638325Z"
    }
   },
   "source": [
    "# model_GS_sciNN"
   ]
  },
  {
   "cell_type": "markdown",
   "metadata": {
    "execution": {
     "iopub.execute_input": "2021-01-14T16:07:35.403347Z",
     "iopub.status.busy": "2021-01-14T16:07:35.403347Z",
     "iopub.status.idle": "2021-01-14T16:07:43.720902Z",
     "shell.execute_reply": "2021-01-14T16:07:43.718902Z",
     "shell.execute_reply.started": "2021-01-14T16:07:35.403347Z"
    }
   },
   "source": [
    "#### Grid_Search\n",
    "https://scikit-learn.org/stable/modules/model_evaluation.html#scoring-parameter  \n",
    "https://www.codexa.net/hyperparameter-tuning-python/"
   ]
  },
  {
   "cell_type": "code",
   "execution_count": 1,
   "metadata": {
    "execution": {
     "iopub.execute_input": "2021-01-23T00:29:15.614568Z",
     "iopub.status.busy": "2021-01-23T00:29:15.613565Z",
     "iopub.status.idle": "2021-01-23T00:29:17.138768Z",
     "shell.execute_reply": "2021-01-23T00:29:17.138768Z",
     "shell.execute_reply.started": "2021-01-23T00:29:15.613565Z"
    }
   },
   "outputs": [
    {
     "name": "stderr",
     "output_type": "stream",
     "text": [
      "[NbConvertApp] Converting notebook model_GS_RFM.ipynb to python\n",
      "[NbConvertApp] Writing 2452 bytes to model_GS_RFM.py\n"
     ]
    }
   ],
   "source": [
    "# !jupyter nbconvert --to python model_GS_RFM.ipynb"
   ]
  },
  {
   "cell_type": "code",
   "execution_count": 4,
   "metadata": {
    "execution": {
     "iopub.execute_input": "2021-01-24T06:30:55.645033Z",
     "iopub.status.busy": "2021-01-24T06:30:55.644032Z",
     "iopub.status.idle": "2021-01-24T06:30:55.649037Z",
     "shell.execute_reply": "2021-01-24T06:30:55.649037Z",
     "shell.execute_reply.started": "2021-01-24T06:30:55.645033Z"
    }
   },
   "outputs": [],
   "source": [
    "# warningの無視\n",
    "import warnings\n",
    "warnings.filterwarnings('ignore')"
   ]
  },
  {
   "cell_type": "code",
   "execution_count": 5,
   "metadata": {
    "execution": {
     "iopub.execute_input": "2021-01-24T06:30:55.824120Z",
     "iopub.status.busy": "2021-01-24T06:30:55.823119Z",
     "iopub.status.idle": "2021-01-24T06:30:56.790520Z",
     "shell.execute_reply": "2021-01-24T06:30:56.790520Z",
     "shell.execute_reply.started": "2021-01-24T06:30:55.824120Z"
    }
   },
   "outputs": [],
   "source": [
    "import pickle\n",
    "\n",
    "import pandas as pd\n",
    "import numpy as np\n",
    "import matplotlib.pyplot as plt\n",
    "\n",
    "from sklearn.model_selection import train_test_split\n",
    "\n",
    "from sklearn.neural_network import MLPClassifier\n",
    "\n",
    "from sklearn.model_selection import GridSearchCV\n",
    "from sklearn.model_selection import KFold\n",
    "\n",
    "from sklearn.metrics import f1_score\n",
    "\n",
    "%matplotlib inline"
   ]
  },
  {
   "cell_type": "code",
   "execution_count": 6,
   "metadata": {
    "execution": {
     "iopub.execute_input": "2021-01-24T06:30:56.791521Z",
     "iopub.status.busy": "2021-01-24T06:30:56.791521Z",
     "iopub.status.idle": "2021-01-24T06:30:56.795525Z",
     "shell.execute_reply": "2021-01-24T06:30:56.795525Z",
     "shell.execute_reply.started": "2021-01-24T06:30:56.791521Z"
    }
   },
   "outputs": [],
   "source": [
    "def importances(model):\n",
    "    \"\"\" 変数重要度\n",
    "    \"\"\"\n",
    "    importances = model.feature_importances_\n",
    "    indices = np.argsort(importances)\n",
    "\n",
    "    plt.barh(range(len(indices[-20:])), importances[indices[-20:]] , align='center')\n",
    "    plt.yticks(range(len(indices[-20:])), feature_X[indices[-20:]])\n",
    "    plt.title('decision tree feature importance')\n",
    "    plt.xlabel('feature importance')\n",
    "    plt.ylabel('variable')\n",
    "    plt.show()"
   ]
  },
  {
   "cell_type": "markdown",
   "metadata": {},
   "source": [
    "#### =========要変更==========="
   ]
  },
  {
   "cell_type": "code",
   "execution_count": 7,
   "metadata": {
    "execution": {
     "iopub.execute_input": "2021-01-24T06:30:56.903625Z",
     "iopub.status.busy": "2021-01-24T06:30:56.903625Z",
     "iopub.status.idle": "2021-01-24T06:30:56.905627Z",
     "shell.execute_reply": "2021-01-24T06:30:56.905627Z",
     "shell.execute_reply.started": "2021-01-24T06:30:56.903625Z"
    }
   },
   "outputs": [],
   "source": [
    "path = \"../data/models/\"\n",
    "modelName= \"model_GS_sciNN\""
   ]
  },
  {
   "cell_type": "markdown",
   "metadata": {},
   "source": [
    "#### ========================"
   ]
  },
  {
   "cell_type": "code",
   "execution_count": 8,
   "metadata": {
    "execution": {
     "iopub.execute_input": "2021-01-24T06:30:57.575648Z",
     "iopub.status.busy": "2021-01-24T06:30:57.575648Z",
     "iopub.status.idle": "2021-01-24T06:30:57.715775Z",
     "shell.execute_reply": "2021-01-24T06:30:57.715775Z",
     "shell.execute_reply.started": "2021-01-24T06:30:57.575648Z"
    }
   },
   "outputs": [],
   "source": [
    "train_X=pd.read_pickle('../data/feature/train_X.pickle')\n",
    "valid_X=pd.read_pickle('../data/feature/valid_X.pickle')\n",
    "test_X=pd.read_pickle('../data/feature/test_X.pickle')\n",
    "\n",
    "train_y=pd.read_pickle('../data/feature/train_y.pickle')\n",
    "valid_y=pd.read_pickle('../data/feature/valid_y.pickle')\n",
    "test_y=pd.read_pickle('../data/feature/test_y.pickle')"
   ]
  },
  {
   "cell_type": "code",
   "execution_count": 9,
   "metadata": {
    "execution": {
     "iopub.execute_input": "2021-01-24T06:30:57.999292Z",
     "iopub.status.busy": "2021-01-24T06:30:57.999292Z",
     "iopub.status.idle": "2021-01-24T06:30:58.002294Z",
     "shell.execute_reply": "2021-01-24T06:30:58.002294Z",
     "shell.execute_reply.started": "2021-01-24T06:30:57.999292Z"
    }
   },
   "outputs": [],
   "source": [
    "\"\"\"ハイパーパラメータの max_depth(木の深さ), \n",
    "# n_estimators(決定木の数)に関してグリッドサーチを行う\n",
    "# グリッドサーチに使用するパラメータの値を用意\n",
    "\"\"\"\n",
    "seed=1\n",
    "# params = {\n",
    "#     'max_depth': [10, 20, 30],\n",
    "#     'n_estimators': [10, 100, 500]}"
   ]
  },
  {
   "cell_type": "code",
   "execution_count": 10,
   "metadata": {
    "execution": {
     "iopub.execute_input": "2021-01-24T06:30:58.550002Z",
     "iopub.status.busy": "2021-01-24T06:30:58.550002Z",
     "iopub.status.idle": "2021-01-24T06:30:58.554005Z",
     "shell.execute_reply": "2021-01-24T06:30:58.554005Z",
     "shell.execute_reply.started": "2021-01-24T06:30:58.550002Z"
    }
   },
   "outputs": [],
   "source": [
    "# default\n",
    "hidden_layer_sizes=(100, )#隠れ層のノード数(多層にもできる)\n",
    "activation='relu'#活性化関数(identify, logistic, tanh, relu)\n",
    "solver='adam'#最適化手法(lbfgs(準ニュートン法), sgd, adam)\n",
    "alpha=0.0001\n",
    "batch_size='auto'#バッチサイズ(sgd, adamで適用)\n",
    "learning_rate='constant'\n",
    "learning_rate_init=0.001\n",
    "power_t=0.5\n",
    "max_iter=200#最大エポック数\n",
    "shuffle=True#iterationの度にサンプルをシャッフル\n",
    "random_state=None\n",
    "tol=0.0001\n",
    "verbose=False\n",
    "warm_start=False\n",
    "momentum=0.9\n",
    "nesterovs_momentum=True\n",
    "early_stopping=False\n",
    "validation_fraction=0.1\n",
    "beta_1=0.9\n",
    "beta_2=0.999\n",
    "epsilon=1e-08"
   ]
  },
  {
   "cell_type": "markdown",
   "metadata": {},
   "source": [
    "#### =========要変更==========="
   ]
  },
  {
   "cell_type": "code",
   "execution_count": 11,
   "metadata": {
    "execution": {
     "iopub.execute_input": "2021-01-24T06:31:00.095468Z",
     "iopub.status.busy": "2021-01-24T06:31:00.095468Z",
     "iopub.status.idle": "2021-01-24T06:31:00.098471Z",
     "shell.execute_reply": "2021-01-24T06:31:00.098471Z",
     "shell.execute_reply.started": "2021-01-24T06:31:00.095468Z"
    }
   },
   "outputs": [],
   "source": [
    "model=MLPClassifier(solver=\"adam\",random_state=seed,max_iter=20000)"
   ]
  },
  {
   "cell_type": "code",
   "execution_count": 12,
   "metadata": {
    "execution": {
     "iopub.execute_input": "2021-01-24T06:31:02.694378Z",
     "iopub.status.busy": "2021-01-24T06:31:02.694378Z",
     "iopub.status.idle": "2021-01-24T06:35:19.826366Z",
     "shell.execute_reply": "2021-01-24T06:35:19.826366Z",
     "shell.execute_reply.started": "2021-01-24T06:31:02.694378Z"
    }
   },
   "outputs": [
    {
     "data": {
      "text/plain": [
       "MLPClassifier(max_iter=10000, random_state=1)"
      ]
     },
     "execution_count": 12,
     "metadata": {},
     "output_type": "execute_result"
    }
   ],
   "source": [
    "model.fit(train_X,train_y)"
   ]
  },
  {
   "cell_type": "markdown",
   "metadata": {},
   "source": [
    "#### ========================"
   ]
  },
  {
   "cell_type": "code",
   "execution_count": 13,
   "metadata": {
    "execution": {
     "iopub.execute_input": "2021-01-24T06:35:19.827366Z",
     "iopub.status.busy": "2021-01-24T06:35:19.827366Z",
     "iopub.status.idle": "2021-01-24T06:35:19.829368Z",
     "shell.execute_reply": "2021-01-24T06:35:19.829368Z",
     "shell.execute_reply.started": "2021-01-24T06:35:19.827366Z"
    }
   },
   "outputs": [],
   "source": [
    "# grid = GridSearchCV(estimator=model,\n",
    "#     param_grid=params,\n",
    "#     n_jobs=1,\n",
    "#     cv=KFold(5,shuffle=True, random_state=seed),\n",
    "#     scoring='f1',\n",
    "#     verbose=3,\n",
    "#     return_train_score=True)"
   ]
  },
  {
   "cell_type": "code",
   "execution_count": 14,
   "metadata": {
    "execution": {
     "iopub.execute_input": "2021-01-24T06:35:19.830369Z",
     "iopub.status.busy": "2021-01-24T06:35:19.830369Z",
     "iopub.status.idle": "2021-01-24T06:35:19.835374Z",
     "shell.execute_reply": "2021-01-24T06:35:19.835374Z",
     "shell.execute_reply.started": "2021-01-24T06:35:19.830369Z"
    }
   },
   "outputs": [],
   "source": [
    "# grid.fit(train_X,  train_y)"
   ]
  },
  {
   "cell_type": "code",
   "execution_count": 15,
   "metadata": {
    "execution": {
     "iopub.execute_input": "2021-01-24T06:35:19.836375Z",
     "iopub.status.busy": "2021-01-24T06:35:19.836375Z",
     "iopub.status.idle": "2021-01-24T06:35:19.842381Z",
     "shell.execute_reply": "2021-01-24T06:35:19.841379Z",
     "shell.execute_reply.started": "2021-01-24T06:35:19.836375Z"
    }
   },
   "outputs": [],
   "source": [
    "# print(grid.best_estimator_)"
   ]
  },
  {
   "cell_type": "code",
   "execution_count": 16,
   "metadata": {
    "execution": {
     "iopub.execute_input": "2021-01-24T06:35:19.843382Z",
     "iopub.status.busy": "2021-01-24T06:35:19.842381Z",
     "iopub.status.idle": "2021-01-24T06:35:19.851389Z",
     "shell.execute_reply": "2021-01-24T06:35:19.850388Z",
     "shell.execute_reply.started": "2021-01-24T06:35:19.843382Z"
    }
   },
   "outputs": [],
   "source": [
    "# # 最適解でモデルを作成\n",
    "# model = grid.best_estimator_"
   ]
  },
  {
   "cell_type": "code",
   "execution_count": 17,
   "metadata": {
    "execution": {
     "iopub.execute_input": "2021-01-24T06:35:19.852390Z",
     "iopub.status.busy": "2021-01-24T06:35:19.852390Z",
     "iopub.status.idle": "2021-01-24T06:35:19.918593Z",
     "shell.execute_reply": "2021-01-24T06:35:19.918593Z",
     "shell.execute_reply.started": "2021-01-24T06:35:19.852390Z"
    }
   },
   "outputs": [],
   "source": [
    "# モデルの保存\n",
    "with open(path + modelName + '.pickle', mode='wb') as f:\n",
    "    pickle.dump(model, f)"
   ]
  },
  {
   "cell_type": "markdown",
   "metadata": {},
   "source": [
    "#### ========================"
   ]
  },
  {
   "cell_type": "code",
   "execution_count": 18,
   "metadata": {
    "execution": {
     "iopub.execute_input": "2021-01-24T06:35:19.919595Z",
     "iopub.status.busy": "2021-01-24T06:35:19.919595Z",
     "iopub.status.idle": "2021-01-24T06:35:20.014680Z",
     "shell.execute_reply": "2021-01-24T06:35:20.014680Z",
     "shell.execute_reply.started": "2021-01-24T06:35:19.919595Z"
    }
   },
   "outputs": [],
   "source": [
    "pred=model.predict(test_X)"
   ]
  },
  {
   "cell_type": "code",
   "execution_count": 19,
   "metadata": {
    "execution": {
     "iopub.execute_input": "2021-01-24T06:35:20.015682Z",
     "iopub.status.busy": "2021-01-24T06:35:20.015682Z",
     "iopub.status.idle": "2021-01-24T06:35:20.031696Z",
     "shell.execute_reply": "2021-01-24T06:35:20.031696Z",
     "shell.execute_reply.started": "2021-01-24T06:35:20.015682Z"
    }
   },
   "outputs": [
    {
     "name": "stdout",
     "output_type": "stream",
     "text": [
      "0.8096217755974047\n"
     ]
    }
   ],
   "source": [
    "print(f1_score(test_y, pred))"
   ]
  },
  {
   "cell_type": "markdown",
   "metadata": {},
   "source": [
    "#### ========================"
   ]
  },
  {
   "cell_type": "code",
   "execution_count": null,
   "metadata": {},
   "outputs": [],
   "source": []
  }
 ],
 "metadata": {
  "kernelspec": {
   "display_name": "Python 3",
   "language": "python",
   "name": "python3"
  },
  "language_info": {
   "codemirror_mode": {
    "name": "ipython",
    "version": 3
   },
   "file_extension": ".py",
   "mimetype": "text/x-python",
   "name": "python",
   "nbconvert_exporter": "python",
   "pygments_lexer": "ipython3",
   "version": "3.7.9"
  },
  "widgets": {
   "application/vnd.jupyter.widget-state+json": {
    "state": {},
    "version_major": 2,
    "version_minor": 0
   }
  }
 },
 "nbformat": 4,
 "nbformat_minor": 4
}
