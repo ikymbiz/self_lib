{
 "cells": [
  {
   "cell_type": "markdown",
   "metadata": {},
   "source": [
    "# 特徴量選択\n",
    "Wrapper_Sequence Forward Generation"
   ]
  },
  {
   "cell_type": "code",
   "execution_count": 70,
   "metadata": {
    "execution": {
     "iopub.execute_input": "2021-01-16T16:21:08.941147Z",
     "iopub.status.busy": "2021-01-16T16:21:08.941147Z",
     "iopub.status.idle": "2021-01-16T16:21:08.948144Z",
     "shell.execute_reply": "2021-01-16T16:21:08.948144Z",
     "shell.execute_reply.started": "2021-01-16T16:21:08.941147Z"
    }
   },
   "outputs": [],
   "source": [
    "# 必要なライブラリを読み込む\n",
    "import datetime\n",
    "from dateutil.relativedelta import relativedelta\n",
    "import pickle\n",
    "\n",
    "import pandas as pd\n",
    "import numpy as np\n",
    "import xgboost as xgb\n",
    "# https://qiita.com/FJyusk56/items/0649f4362587261bd57a\n",
    "\n",
    "import category_encoders as ce\n",
    "\n",
    "import matplotlib.pyplot as plt\n",
    "import seaborn as sns\n",
    "sns.set()\n",
    "\n",
    "# 必要な関数を読み込む\n",
    "from sklearn.model_selection import train_test_split\n",
    "from sklearn.metrics import accuracy_score # 精度の確認 / 正解率\n",
    "from sklearn.metrics import f1_score       # f1\n",
    "\n",
    "# 次元削減\n",
    "from sklearn.linear_model import LogisticRegression\n",
    "from sklearn.preprocessing import StandardScaler\n",
    "from sklearn.model_selection import train_test_split\n",
    "from sklearn.metrics import accuracy_score\n",
    "\n",
    "# User defined functions\n",
    "from self_lib import tips\n",
    "from self_lib import doggie_tail as d_\n",
    "from self_lib import giraffe as graph\n",
    "from self_lib import timer as t\n",
    "\n",
    "# Jupyter上で図を表示するためのコマンド\n",
    "%matplotlib inline"
   ]
  },
  {
   "cell_type": "code",
   "execution_count": 71,
   "metadata": {
    "execution": {
     "iopub.execute_input": "2021-01-16T16:21:09.494319Z",
     "iopub.status.busy": "2021-01-16T16:21:09.494319Z",
     "iopub.status.idle": "2021-01-16T16:21:09.497322Z",
     "shell.execute_reply": "2021-01-16T16:21:09.497322Z",
     "shell.execute_reply.started": "2021-01-16T16:21:09.494319Z"
    }
   },
   "outputs": [],
   "source": [
    "from mlxtend.feature_selection import SequentialFeatureSelector as SFS\n",
    "from mlxtend.plotting import plot_sequential_feature_selection as plot_sfs"
   ]
  },
  {
   "cell_type": "code",
   "execution_count": 72,
   "metadata": {
    "execution": {
     "iopub.execute_input": "2021-01-16T16:21:09.925359Z",
     "iopub.status.busy": "2021-01-16T16:21:09.925359Z",
     "iopub.status.idle": "2021-01-16T16:21:10.019435Z",
     "shell.execute_reply": "2021-01-16T16:21:10.019435Z",
     "shell.execute_reply.started": "2021-01-16T16:21:09.925359Z"
    }
   },
   "outputs": [],
   "source": [
    "with open('cleaned_data.pickle','rb') as f:\n",
    "    data = pickle.load(f)"
   ]
  },
  {
   "cell_type": "code",
   "execution_count": 73,
   "metadata": {
    "execution": {
     "iopub.execute_input": "2021-01-16T16:21:10.738201Z",
     "iopub.status.busy": "2021-01-16T16:21:10.738201Z",
     "iopub.status.idle": "2021-01-16T16:21:10.753215Z",
     "shell.execute_reply": "2021-01-16T16:21:10.753215Z",
     "shell.execute_reply.started": "2021-01-16T16:21:10.738201Z"
    }
   },
   "outputs": [
    {
     "data": {
      "text/html": [
       "<div>\n",
       "<style scoped>\n",
       "    .dataframe tbody tr th:only-of-type {\n",
       "        vertical-align: middle;\n",
       "    }\n",
       "\n",
       "    .dataframe tbody tr th {\n",
       "        vertical-align: top;\n",
       "    }\n",
       "\n",
       "    .dataframe thead th {\n",
       "        text-align: right;\n",
       "    }\n",
       "</style>\n",
       "<table border=\"1\" class=\"dataframe\">\n",
       "  <thead>\n",
       "    <tr style=\"text-align: right;\">\n",
       "      <th></th>\n",
       "      <th>LoanStatus</th>\n",
       "      <th>Term</th>\n",
       "      <th>Approval_YM</th>\n",
       "      <th>Disbursement_YM</th>\n",
       "      <th>TermFlg</th>\n",
       "      <th>LoanEnd</th>\n",
       "      <th>ApprovalDate</th>\n",
       "      <th>ApprovalFY</th>\n",
       "      <th>DisbursementDate</th>\n",
       "      <th>RevLineCr</th>\n",
       "      <th>...</th>\n",
       "      <th>Employees</th>\n",
       "      <th>ExistNew</th>\n",
       "      <th>CreateJob</th>\n",
       "      <th>FranchiseCode</th>\n",
       "      <th>RetainedJob</th>\n",
       "      <th>Zip</th>\n",
       "      <th>BankState</th>\n",
       "      <th>UrbanRural</th>\n",
       "      <th>City</th>\n",
       "      <th>State</th>\n",
       "    </tr>\n",
       "  </thead>\n",
       "  <tbody>\n",
       "    <tr>\n",
       "      <th>0</th>\n",
       "      <td>0</td>\n",
       "      <td>84</td>\n",
       "      <td>1996.09</td>\n",
       "      <td>1996.12</td>\n",
       "      <td>0</td>\n",
       "      <td>2003.09</td>\n",
       "      <td>23-Sep-96</td>\n",
       "      <td>1996</td>\n",
       "      <td>31-Dec-96</td>\n",
       "      <td>0</td>\n",
       "      <td>...</td>\n",
       "      <td>6</td>\n",
       "      <td>0.00</td>\n",
       "      <td>0</td>\n",
       "      <td>0</td>\n",
       "      <td>0</td>\n",
       "      <td>75601</td>\n",
       "      <td>0</td>\n",
       "      <td>0</td>\n",
       "      <td>LONGVIEW</td>\n",
       "      <td>TX</td>\n",
       "    </tr>\n",
       "    <tr>\n",
       "      <th>1</th>\n",
       "      <td>0</td>\n",
       "      <td>26</td>\n",
       "      <td>2004.02</td>\n",
       "      <td>2004.03</td>\n",
       "      <td>1</td>\n",
       "      <td>2006.04</td>\n",
       "      <td>24-Feb-04</td>\n",
       "      <td>2004</td>\n",
       "      <td>31-Mar-04</td>\n",
       "      <td>2</td>\n",
       "      <td>...</td>\n",
       "      <td>1</td>\n",
       "      <td>0.00</td>\n",
       "      <td>0</td>\n",
       "      <td>0</td>\n",
       "      <td>1</td>\n",
       "      <td>83814</td>\n",
       "      <td>0</td>\n",
       "      <td>1</td>\n",
       "      <td>COEUR D'ALENE</td>\n",
       "      <td>ID</td>\n",
       "    </tr>\n",
       "    <tr>\n",
       "      <th>2</th>\n",
       "      <td>0</td>\n",
       "      <td>180</td>\n",
       "      <td>1995.04</td>\n",
       "      <td>1995.07</td>\n",
       "      <td>0</td>\n",
       "      <td>2010.04</td>\n",
       "      <td>21-Apr-95</td>\n",
       "      <td>1995</td>\n",
       "      <td>31-Jul-95</td>\n",
       "      <td>1</td>\n",
       "      <td>...</td>\n",
       "      <td>2</td>\n",
       "      <td>0.00</td>\n",
       "      <td>0</td>\n",
       "      <td>0</td>\n",
       "      <td>0</td>\n",
       "      <td>59868</td>\n",
       "      <td>0</td>\n",
       "      <td>0</td>\n",
       "      <td>SEELEY LAKE</td>\n",
       "      <td>MT</td>\n",
       "    </tr>\n",
       "    <tr>\n",
       "      <th>3</th>\n",
       "      <td>0</td>\n",
       "      <td>84</td>\n",
       "      <td>2004.07</td>\n",
       "      <td>2004.08</td>\n",
       "      <td>0</td>\n",
       "      <td>2011.07</td>\n",
       "      <td>29-Jul-04</td>\n",
       "      <td>2004</td>\n",
       "      <td>31-Aug-04</td>\n",
       "      <td>0</td>\n",
       "      <td>...</td>\n",
       "      <td>6</td>\n",
       "      <td>0.00</td>\n",
       "      <td>0</td>\n",
       "      <td>0</td>\n",
       "      <td>7</td>\n",
       "      <td>3055</td>\n",
       "      <td>0</td>\n",
       "      <td>1</td>\n",
       "      <td>MILFORD (CENSUS NAME FOR MILFO</td>\n",
       "      <td>NH</td>\n",
       "    </tr>\n",
       "    <tr>\n",
       "      <th>4</th>\n",
       "      <td>0</td>\n",
       "      <td>60</td>\n",
       "      <td>2005.08</td>\n",
       "      <td>2005.11</td>\n",
       "      <td>0</td>\n",
       "      <td>2010.08</td>\n",
       "      <td>25-Aug-05</td>\n",
       "      <td>2005</td>\n",
       "      <td>30-Nov-05</td>\n",
       "      <td>0</td>\n",
       "      <td>...</td>\n",
       "      <td>1</td>\n",
       "      <td>0.00</td>\n",
       "      <td>0</td>\n",
       "      <td>0</td>\n",
       "      <td>0</td>\n",
       "      <td>39429</td>\n",
       "      <td>0</td>\n",
       "      <td>2</td>\n",
       "      <td>COLUMBIA</td>\n",
       "      <td>MS</td>\n",
       "    </tr>\n",
       "  </tbody>\n",
       "</table>\n",
       "<p>5 rows × 26 columns</p>\n",
       "</div>"
      ],
      "text/plain": [
       "   LoanStatus  Term  Approval_YM  Disbursement_YM  TermFlg  LoanEnd  \\\n",
       "0           0    84      1996.09          1996.12        0  2003.09   \n",
       "1           0    26      2004.02          2004.03        1  2006.04   \n",
       "2           0   180      1995.04          1995.07        0  2010.04   \n",
       "3           0    84      2004.07          2004.08        0  2011.07   \n",
       "4           0    60      2005.08          2005.11        0  2010.08   \n",
       "\n",
       "  ApprovalDate ApprovalFY DisbursementDate  RevLineCr  ...  Employees  \\\n",
       "0    23-Sep-96       1996        31-Dec-96          0  ...          6   \n",
       "1    24-Feb-04       2004        31-Mar-04          2  ...          1   \n",
       "2    21-Apr-95       1995        31-Jul-95          1  ...          2   \n",
       "3    29-Jul-04       2004        31-Aug-04          0  ...          6   \n",
       "4    25-Aug-05       2005        30-Nov-05          0  ...          1   \n",
       "\n",
       "   ExistNew  CreateJob  FranchiseCode  RetainedJob    Zip  BankState  \\\n",
       "0      0.00          0              0            0  75601          0   \n",
       "1      0.00          0              0            1  83814          0   \n",
       "2      0.00          0              0            0  59868          0   \n",
       "3      0.00          0              0            7   3055          0   \n",
       "4      0.00          0              0            0  39429          0   \n",
       "\n",
       "   UrbanRural                            City  State  \n",
       "0           0                        LONGVIEW     TX  \n",
       "1           1                   COEUR D'ALENE     ID  \n",
       "2           0                     SEELEY LAKE     MT  \n",
       "3           1  MILFORD (CENSUS NAME FOR MILFO     NH  \n",
       "4           2                        COLUMBIA     MS  \n",
       "\n",
       "[5 rows x 26 columns]"
      ]
     },
     "execution_count": 73,
     "metadata": {},
     "output_type": "execute_result"
    }
   ],
   "source": [
    "data.head()"
   ]
  },
  {
   "cell_type": "code",
   "execution_count": 74,
   "metadata": {
    "execution": {
     "iopub.execute_input": "2021-01-16T16:21:13.334355Z",
     "iopub.status.busy": "2021-01-16T16:21:13.333354Z",
     "iopub.status.idle": "2021-01-16T16:21:13.481478Z",
     "shell.execute_reply": "2021-01-16T16:21:13.481478Z",
     "shell.execute_reply.started": "2021-01-16T16:21:13.334355Z"
    }
   },
   "outputs": [],
   "source": [
    "# 学習データとテストデータの設定・分割\n",
    "y=data['LoanStatus']\n",
    "\n",
    "X=data.drop('LoanStatus',axis=1)\n",
    "feature_cnt=len(X.columns) #特徴量の数\n",
    "X_train,X_test,y_train,y_test=train_test_split(X,y,test_size=0.2,random_state=1)"
   ]
  },
  {
   "cell_type": "code",
   "execution_count": 89,
   "metadata": {
    "execution": {
     "iopub.execute_input": "2021-01-16T16:37:20.447107Z",
     "iopub.status.busy": "2021-01-16T16:37:20.447107Z",
     "iopub.status.idle": "2021-01-16T16:37:20.450117Z",
     "shell.execute_reply": "2021-01-16T16:37:20.450117Z",
     "shell.execute_reply.started": "2021-01-16T16:37:20.447107Z"
    }
   },
   "outputs": [
    {
     "data": {
      "text/plain": [
       "Index(['Term', 'Approval_YM', 'Disbursement_YM', 'TermFlg', 'LoanEnd',\n",
       "       'ApprovalDate', 'ApprovalFY', 'DisbursementDate', 'RevLineCr',\n",
       "       'LowLoan', 'LoanAmount', 'BalanceGross', 'DisbursementGross',\n",
       "       'GuaranteedLoan', 'SystemCode', 'Employees', 'ExistNew', 'CreateJob',\n",
       "       'FranchiseCode', 'RetainedJob', 'Zip', 'BankState', 'UrbanRural',\n",
       "       'City', 'State'],\n",
       "      dtype='object')"
      ]
     },
     "execution_count": 89,
     "metadata": {},
     "output_type": "execute_result"
    }
   ],
   "source": [
    "X_train.columns"
   ]
  },
  {
   "cell_type": "code",
   "execution_count": 87,
   "metadata": {
    "execution": {
     "iopub.execute_input": "2021-01-16T16:37:07.823020Z",
     "iopub.status.busy": "2021-01-16T16:37:07.823020Z",
     "iopub.status.idle": "2021-01-16T16:37:07.826023Z",
     "shell.execute_reply": "2021-01-16T16:37:07.826023Z",
     "shell.execute_reply.started": "2021-01-16T16:37:07.823020Z"
    }
   },
   "outputs": [
    {
     "data": {
      "text/plain": [
       "'LoanStatus'"
      ]
     },
     "execution_count": 87,
     "metadata": {},
     "output_type": "execute_result"
    }
   ],
   "source": [
    "y_train.name"
   ]
  },
  {
   "cell_type": "code",
   "execution_count": 81,
   "metadata": {
    "execution": {
     "iopub.execute_input": "2021-01-16T16:24:57.063456Z",
     "iopub.status.busy": "2021-01-16T16:24:57.062455Z",
     "iopub.status.idle": "2021-01-16T16:24:57.065459Z",
     "shell.execute_reply": "2021-01-16T16:24:57.065459Z",
     "shell.execute_reply.started": "2021-01-16T16:24:57.063456Z"
    }
   },
   "outputs": [
    {
     "data": {
      "text/plain": [
       "25"
      ]
     },
     "execution_count": 81,
     "metadata": {},
     "output_type": "execute_result"
    }
   ],
   "source": [
    "feature_cnt"
   ]
  },
  {
   "cell_type": "code",
   "execution_count": 92,
   "metadata": {
    "execution": {
     "iopub.execute_input": "2021-01-16T16:45:06.642420Z",
     "iopub.status.busy": "2021-01-16T16:45:06.642420Z",
     "iopub.status.idle": "2021-01-16T16:46:19.818127Z",
     "shell.execute_reply": "2021-01-16T16:46:19.818127Z",
     "shell.execute_reply.started": "2021-01-16T16:45:06.642420Z"
    }
   },
   "outputs": [
    {
     "name": "stderr",
     "output_type": "stream",
     "text": [
      "[Parallel(n_jobs=-1)]: Using backend LokyBackend with 16 concurrent workers.\n",
      "[Parallel(n_jobs=-1)]: Done   7 out of  25 | elapsed:    1.6s remaining:    4.2s\n",
      "[Parallel(n_jobs=-1)]: Done  20 out of  25 | elapsed:    2.9s remaining:    0.6s\n",
      "[Parallel(n_jobs=-1)]: Done  25 out of  25 | elapsed:    3.5s finished\n",
      "\n",
      "[2021-01-17 01:45:10] Features: 1/25 -- score: nan[Parallel(n_jobs=-1)]: Using backend LokyBackend with 16 concurrent workers.\n",
      "[Parallel(n_jobs=-1)]: Done   6 out of  24 | elapsed:    0.4s remaining:    1.3s\n",
      "[Parallel(n_jobs=-1)]: Done  19 out of  24 | elapsed:    1.0s remaining:    0.2s\n",
      "[Parallel(n_jobs=-1)]: Done  24 out of  24 | elapsed:    1.3s finished\n",
      "\n",
      "[2021-01-17 01:45:11] Features: 2/25 -- score: nan[Parallel(n_jobs=-1)]: Using backend LokyBackend with 16 concurrent workers.\n",
      "[Parallel(n_jobs=-1)]: Done   4 out of  23 | elapsed:    0.3s remaining:    2.0s\n",
      "[Parallel(n_jobs=-1)]: Done  16 out of  23 | elapsed:    1.1s remaining:    0.4s\n",
      "[Parallel(n_jobs=-1)]: Done  23 out of  23 | elapsed:    1.5s finished\n",
      "\n",
      "[2021-01-17 01:45:13] Features: 3/25 -- score: nan[Parallel(n_jobs=-1)]: Using backend LokyBackend with 16 concurrent workers.\n",
      "[Parallel(n_jobs=-1)]: Done   3 out of  22 | elapsed:    0.4s remaining:    3.2s\n",
      "[Parallel(n_jobs=-1)]: Done  15 out of  22 | elapsed:    1.4s remaining:    0.6s\n",
      "[Parallel(n_jobs=-1)]: Done  22 out of  22 | elapsed:    2.0s finished\n",
      "\n",
      "[2021-01-17 01:45:15] Features: 4/25 -- score: nan[Parallel(n_jobs=-1)]: Using backend LokyBackend with 16 concurrent workers.\n",
      "[Parallel(n_jobs=-1)]: Done  12 out of  21 | elapsed:    1.5s remaining:    1.1s\n",
      "[Parallel(n_jobs=-1)]: Done  21 out of  21 | elapsed:    2.3s finished\n",
      "\n",
      "[2021-01-17 01:45:18] Features: 5/25 -- score: nan[Parallel(n_jobs=-1)]: Using backend LokyBackend with 16 concurrent workers.\n",
      "[Parallel(n_jobs=-1)]: Done  11 out of  20 | elapsed:    1.4s remaining:    1.1s\n",
      "[Parallel(n_jobs=-1)]: Done  20 out of  20 | elapsed:    2.3s finished\n",
      "\n",
      "[2021-01-17 01:45:20] Features: 6/25 -- score: nan[Parallel(n_jobs=-1)]: Using backend LokyBackend with 16 concurrent workers.\n",
      "[Parallel(n_jobs=-1)]: Done   8 out of  19 | elapsed:    1.4s remaining:    2.0s\n",
      "[Parallel(n_jobs=-1)]: Done  19 out of  19 | elapsed:    2.7s finished\n",
      "\n",
      "[2021-01-17 01:45:23] Features: 7/25 -- score: nan[Parallel(n_jobs=-1)]: Using backend LokyBackend with 16 concurrent workers.\n",
      "[Parallel(n_jobs=-1)]: Done   7 out of  18 | elapsed:    1.5s remaining:    2.4s\n",
      "[Parallel(n_jobs=-1)]: Done  18 out of  18 | elapsed:    3.0s finished\n",
      "\n",
      "[2021-01-17 01:45:27] Features: 8/25 -- score: nan[Parallel(n_jobs=-1)]: Using backend LokyBackend with 16 concurrent workers.\n",
      "[Parallel(n_jobs=-1)]: Done   4 out of  17 | elapsed:    1.2s remaining:    4.0s\n",
      "[Parallel(n_jobs=-1)]: Done  13 out of  17 | elapsed:    2.9s remaining:    0.8s\n",
      "[Parallel(n_jobs=-1)]: Done  17 out of  17 | elapsed:    3.5s finished\n",
      "\n",
      "[2021-01-17 01:45:30] Features: 9/25 -- score: nan[Parallel(n_jobs=-1)]: Using backend LokyBackend with 16 concurrent workers.\n",
      "[Parallel(n_jobs=-1)]: Done   3 out of  16 | elapsed:    0.9s remaining:    4.4s\n",
      "[Parallel(n_jobs=-1)]: Done  12 out of  16 | elapsed:    2.9s remaining:    0.9s\n",
      "[Parallel(n_jobs=-1)]: Done  16 out of  16 | elapsed:    3.5s finished\n",
      "\n",
      "[2021-01-17 01:45:34] Features: 10/25 -- score: nan[Parallel(n_jobs=-1)]: Using backend LokyBackend with 16 concurrent workers.\n",
      "[Parallel(n_jobs=-1)]: Done   8 out of  15 | elapsed:    2.0s remaining:    1.7s\n",
      "[Parallel(n_jobs=-1)]: Done  15 out of  15 | elapsed:    3.3s finished\n",
      "\n",
      "[2021-01-17 01:45:37] Features: 11/25 -- score: nan[Parallel(n_jobs=-1)]: Using backend LokyBackend with 16 concurrent workers.\n",
      "[Parallel(n_jobs=-1)]: Done   7 out of  14 | elapsed:    2.2s remaining:    2.2s\n",
      "[Parallel(n_jobs=-1)]: Done  14 out of  14 | elapsed:    3.5s finished\n",
      "\n",
      "[2021-01-17 01:45:41] Features: 12/25 -- score: nan[Parallel(n_jobs=-1)]: Using backend LokyBackend with 16 concurrent workers.\n",
      "[Parallel(n_jobs=-1)]: Done   3 out of  13 | elapsed:    1.2s remaining:    4.1s\n",
      "[Parallel(n_jobs=-1)]: Done  10 out of  13 | elapsed:    2.9s remaining:    0.8s\n",
      "[Parallel(n_jobs=-1)]: Done  13 out of  13 | elapsed:    3.6s finished\n",
      "\n",
      "[2021-01-17 01:45:45] Features: 13/25 -- score: nan[Parallel(n_jobs=-1)]: Using backend LokyBackend with 16 concurrent workers.\n",
      "[Parallel(n_jobs=-1)]: Done   2 out of  12 | elapsed:    1.0s remaining:    5.4s\n",
      "[Parallel(n_jobs=-1)]: Done   9 out of  12 | elapsed:    2.9s remaining:    0.9s\n",
      "[Parallel(n_jobs=-1)]: Done  12 out of  12 | elapsed:    3.6s finished\n",
      "\n",
      "[2021-01-17 01:45:49] Features: 14/25 -- score: nan[Parallel(n_jobs=-1)]: Using backend LokyBackend with 16 concurrent workers.\n",
      "[Parallel(n_jobs=-1)]: Done   4 out of  11 | elapsed:    1.6s remaining:    3.0s\n",
      "[Parallel(n_jobs=-1)]: Done  11 out of  11 | elapsed:    3.7s finished\n",
      "\n",
      "[2021-01-17 01:45:53] Features: 15/25 -- score: nan[Parallel(n_jobs=-1)]: Using backend LokyBackend with 16 concurrent workers.\n",
      "[Parallel(n_jobs=-1)]: Done   3 out of  10 | elapsed:    1.4s remaining:    3.5s\n",
      "[Parallel(n_jobs=-1)]: Done  10 out of  10 | elapsed:    3.6s finished\n",
      "\n",
      "[2021-01-17 01:45:56] Features: 16/25 -- score: nan[Parallel(n_jobs=-1)]: Using backend LokyBackend with 16 concurrent workers.\n",
      "[Parallel(n_jobs=-1)]: Done   3 out of   9 | elapsed:    1.5s remaining:    3.0s\n",
      "[Parallel(n_jobs=-1)]: Done   9 out of   9 | elapsed:    3.4s finished\n",
      "\n",
      "[2021-01-17 01:46:00] Features: 17/25 -- score: nan[Parallel(n_jobs=-1)]: Using backend LokyBackend with 16 concurrent workers.\n",
      "[Parallel(n_jobs=-1)]: Done   2 out of   8 | elapsed:    1.2s remaining:    3.9s\n",
      "[Parallel(n_jobs=-1)]: Done   8 out of   8 | elapsed:    3.2s finished\n",
      "\n",
      "[2021-01-17 01:46:03] Features: 18/25 -- score: nan[Parallel(n_jobs=-1)]: Using backend LokyBackend with 16 concurrent workers.\n",
      "[Parallel(n_jobs=-1)]: Done   4 out of   7 | elapsed:    2.0s remaining:    1.5s\n",
      "[Parallel(n_jobs=-1)]: Done   7 out of   7 | elapsed:    3.0s finished\n",
      "\n",
      "[2021-01-17 01:46:07] Features: 19/25 -- score: nan[Parallel(n_jobs=-1)]: Using backend LokyBackend with 16 concurrent workers.\n",
      "[Parallel(n_jobs=-1)]: Done   3 out of   6 | elapsed:    1.7s remaining:    1.7s\n",
      "[Parallel(n_jobs=-1)]: Done   6 out of   6 | elapsed:    2.7s finished\n",
      "\n",
      "[2021-01-17 01:46:09] Features: 20/25 -- score: nan[Parallel(n_jobs=-1)]: Using backend LokyBackend with 16 concurrent workers.\n",
      "[Parallel(n_jobs=-1)]: Done   5 out of   5 | elapsed:    2.4s finished\n",
      "\n",
      "[2021-01-17 01:46:12] Features: 21/25 -- score: nan[Parallel(n_jobs=-1)]: Using backend LokyBackend with 16 concurrent workers.\n",
      "[Parallel(n_jobs=-1)]: Done   4 out of   4 | elapsed:    2.1s finished\n",
      "\n",
      "[2021-01-17 01:46:14] Features: 22/25 -- score: nan[Parallel(n_jobs=-1)]: Using backend LokyBackend with 16 concurrent workers.\n",
      "[Parallel(n_jobs=-1)]: Done   3 out of   3 | elapsed:    1.8s finished\n",
      "\n",
      "[2021-01-17 01:46:16] Features: 23/25 -- score: nan[Parallel(n_jobs=-1)]: Using backend LokyBackend with 16 concurrent workers.\n",
      "[Parallel(n_jobs=-1)]: Done   2 out of   2 | elapsed:    1.5s finished\n",
      "\n",
      "[2021-01-17 01:46:18] Features: 24/25 -- score: nan[Parallel(n_jobs=-1)]: Using backend LokyBackend with 16 concurrent workers.\n",
      "[Parallel(n_jobs=-1)]: Done   1 out of   1 | elapsed:    1.0s finished\n",
      "\n",
      "[2021-01-17 01:46:19] Features: 25/25 -- score: nan"
     ]
    },
    {
     "ename": "KeyError",
     "evalue": "None",
     "output_type": "error",
     "traceback": [
      "\u001b[1;31m---------------------------------------------------------------------------\u001b[0m",
      "\u001b[1;31mKeyError\u001b[0m                                  Traceback (most recent call last)",
      "\u001b[1;32m<ipython-input-92-c393b6532792>\u001b[0m in \u001b[0;36m<module>\u001b[1;34m\u001b[0m\n\u001b[0;32m     10\u001b[0m         n_jobs=-1)\n\u001b[0;32m     11\u001b[0m \u001b[1;33m\u001b[0m\u001b[0m\n\u001b[1;32m---> 12\u001b[1;33m \u001b[0msfs\u001b[0m\u001b[1;33m=\u001b[0m\u001b[0msfs\u001b[0m\u001b[1;33m.\u001b[0m\u001b[0mfit\u001b[0m\u001b[1;33m(\u001b[0m\u001b[0mX_train\u001b[0m\u001b[1;33m,\u001b[0m\u001b[0my_train\u001b[0m\u001b[1;33m,\u001b[0m\u001b[0mcustom_feature_names\u001b[0m\u001b[1;33m=\u001b[0m\u001b[0mX_train\u001b[0m\u001b[1;33m.\u001b[0m\u001b[0mcolumns\u001b[0m\u001b[1;33m)\u001b[0m\u001b[1;33m\u001b[0m\u001b[1;33m\u001b[0m\u001b[0m\n\u001b[0m",
      "\u001b[1;32mc:\\users\\sirec\\anaconda3\\envs\\datascience\\lib\\site-packages\\mlxtend\\feature_selection\\sequential_feature_selector.py\u001b[0m in \u001b[0;36mfit\u001b[1;34m(self, X, y, custom_feature_names, groups, **fit_params)\u001b[0m\n\u001b[0;32m    566\u001b[0m                     \u001b[0mbest_subset\u001b[0m \u001b[1;33m=\u001b[0m \u001b[0mk\u001b[0m\u001b[1;33m\u001b[0m\u001b[1;33m\u001b[0m\u001b[0m\n\u001b[0;32m    567\u001b[0m             \u001b[0mk_score\u001b[0m \u001b[1;33m=\u001b[0m \u001b[0mmax_score\u001b[0m\u001b[1;33m\u001b[0m\u001b[1;33m\u001b[0m\u001b[0m\n\u001b[1;32m--> 568\u001b[1;33m             \u001b[0mk_idx\u001b[0m \u001b[1;33m=\u001b[0m \u001b[0mself\u001b[0m\u001b[1;33m.\u001b[0m\u001b[0msubsets_\u001b[0m\u001b[1;33m[\u001b[0m\u001b[0mbest_subset\u001b[0m\u001b[1;33m]\u001b[0m\u001b[1;33m[\u001b[0m\u001b[1;34m'feature_idx'\u001b[0m\u001b[1;33m]\u001b[0m\u001b[1;33m\u001b[0m\u001b[1;33m\u001b[0m\u001b[0m\n\u001b[0m\u001b[0;32m    569\u001b[0m \u001b[1;33m\u001b[0m\u001b[0m\n\u001b[0;32m    570\u001b[0m             \u001b[1;32mif\u001b[0m \u001b[0mself\u001b[0m\u001b[1;33m.\u001b[0m\u001b[0mk_features\u001b[0m \u001b[1;33m==\u001b[0m \u001b[1;34m'parsimonious'\u001b[0m\u001b[1;33m:\u001b[0m\u001b[1;33m\u001b[0m\u001b[1;33m\u001b[0m\u001b[0m\n",
      "\u001b[1;31mKeyError\u001b[0m: None"
     ]
    }
   ],
   "source": [
    "# SFSインスタンス化\n",
    "# feature_cnt=33  \n",
    "sfs=SFS(LogisticRegression(),\n",
    "       k_features=(1,feature_cnt),\n",
    "       forward=True,\n",
    "       floating=False,\n",
    "       verbose=2,\n",
    "       scoring='f1',\n",
    "        cv=5,\n",
    "        n_jobs=-1)\n",
    "\n",
    "sfs=sfs.fit(X_train,y_train,custom_feature_names=X_train.columns)"
   ]
  },
  {
   "cell_type": "code",
   "execution_count": 84,
   "metadata": {
    "execution": {
     "iopub.execute_input": "2021-01-16T16:27:26.256443Z",
     "iopub.status.busy": "2021-01-16T16:27:26.256443Z",
     "iopub.status.idle": "2021-01-16T16:27:26.267444Z",
     "shell.execute_reply": "2021-01-16T16:27:26.266452Z",
     "shell.execute_reply.started": "2021-01-16T16:27:26.256443Z"
    }
   },
   "outputs": [
    {
     "ename": "AttributeError",
     "evalue": "SequentialFeatureSelector has not been fitted, yet.",
     "output_type": "error",
     "traceback": [
      "\u001b[1;31m---------------------------------------------------------------------------\u001b[0m",
      "\u001b[1;31mAttributeError\u001b[0m                            Traceback (most recent call last)",
      "\u001b[1;32m<ipython-input-84-4ec4d3f73549>\u001b[0m in \u001b[0;36m<module>\u001b[1;34m\u001b[0m\n\u001b[0;32m      1\u001b[0m \u001b[1;31m# 視覚化\u001b[0m\u001b[1;33m\u001b[0m\u001b[1;33m\u001b[0m\u001b[1;33m\u001b[0m\u001b[0m\n\u001b[1;32m----> 2\u001b[1;33m \u001b[0mfig\u001b[0m\u001b[1;33m=\u001b[0m\u001b[0mplot_sfs\u001b[0m\u001b[1;33m(\u001b[0m\u001b[0msbs\u001b[0m\u001b[1;33m.\u001b[0m\u001b[0mget_metric_dict\u001b[0m\u001b[1;33m(\u001b[0m\u001b[1;33m)\u001b[0m\u001b[1;33m,\u001b[0m\u001b[0mkind\u001b[0m\u001b[1;33m=\u001b[0m\u001b[1;34m\"std_dev\"\u001b[0m\u001b[1;33m,\u001b[0m\u001b[0mfigsize\u001b[0m\u001b[1;33m=\u001b[0m\u001b[1;33m(\u001b[0m\u001b[1;36m14\u001b[0m\u001b[1;33m,\u001b[0m\u001b[1;36m10\u001b[0m\u001b[1;33m)\u001b[0m\u001b[1;33m)\u001b[0m\u001b[1;33m\u001b[0m\u001b[1;33m\u001b[0m\u001b[0m\n\u001b[0m\u001b[0;32m      3\u001b[0m \u001b[0mplt\u001b[0m\u001b[1;33m.\u001b[0m\u001b[0mtitle\u001b[0m\u001b[1;33m(\u001b[0m\u001b[1;34m'Sequence Forward Generation (w. StdDev)'\u001b[0m\u001b[1;33m)\u001b[0m\u001b[1;33m\u001b[0m\u001b[1;33m\u001b[0m\u001b[0m\n\u001b[0;32m      4\u001b[0m \u001b[0mplt\u001b[0m\u001b[1;33m.\u001b[0m\u001b[0mgrid\u001b[0m\u001b[1;33m(\u001b[0m\u001b[1;33m)\u001b[0m\u001b[1;33m\u001b[0m\u001b[1;33m\u001b[0m\u001b[0m\n",
      "\u001b[1;32mc:\\users\\sirec\\anaconda3\\envs\\datascience\\lib\\site-packages\\mlxtend\\feature_selection\\sequential_feature_selector.py\u001b[0m in \u001b[0;36mget_metric_dict\u001b[1;34m(self, confidence_interval)\u001b[0m\n\u001b[0;32m    725\u001b[0m \u001b[1;33m\u001b[0m\u001b[0m\n\u001b[0;32m    726\u001b[0m         \"\"\"\n\u001b[1;32m--> 727\u001b[1;33m         \u001b[0mself\u001b[0m\u001b[1;33m.\u001b[0m\u001b[0m_check_fitted\u001b[0m\u001b[1;33m(\u001b[0m\u001b[1;33m)\u001b[0m\u001b[1;33m\u001b[0m\u001b[1;33m\u001b[0m\u001b[0m\n\u001b[0m\u001b[0;32m    728\u001b[0m         \u001b[0mfdict\u001b[0m \u001b[1;33m=\u001b[0m \u001b[0mdeepcopy\u001b[0m\u001b[1;33m(\u001b[0m\u001b[0mself\u001b[0m\u001b[1;33m.\u001b[0m\u001b[0msubsets_\u001b[0m\u001b[1;33m)\u001b[0m\u001b[1;33m\u001b[0m\u001b[1;33m\u001b[0m\u001b[0m\n\u001b[0;32m    729\u001b[0m         \u001b[1;32mfor\u001b[0m \u001b[0mk\u001b[0m \u001b[1;32min\u001b[0m \u001b[0mfdict\u001b[0m\u001b[1;33m:\u001b[0m\u001b[1;33m\u001b[0m\u001b[1;33m\u001b[0m\u001b[0m\n",
      "\u001b[1;32mc:\\users\\sirec\\anaconda3\\envs\\datascience\\lib\\site-packages\\mlxtend\\feature_selection\\sequential_feature_selector.py\u001b[0m in \u001b[0;36m_check_fitted\u001b[1;34m(self)\u001b[0m\n\u001b[0;32m    744\u001b[0m     \u001b[1;32mdef\u001b[0m \u001b[0m_check_fitted\u001b[0m\u001b[1;33m(\u001b[0m\u001b[0mself\u001b[0m\u001b[1;33m)\u001b[0m\u001b[1;33m:\u001b[0m\u001b[1;33m\u001b[0m\u001b[1;33m\u001b[0m\u001b[0m\n\u001b[0;32m    745\u001b[0m         \u001b[1;32mif\u001b[0m \u001b[1;32mnot\u001b[0m \u001b[0mself\u001b[0m\u001b[1;33m.\u001b[0m\u001b[0mfitted\u001b[0m\u001b[1;33m:\u001b[0m\u001b[1;33m\u001b[0m\u001b[1;33m\u001b[0m\u001b[0m\n\u001b[1;32m--> 746\u001b[1;33m             raise AttributeError('SequentialFeatureSelector has not been'\n\u001b[0m\u001b[0;32m    747\u001b[0m                                  ' fitted, yet.')\n",
      "\u001b[1;31mAttributeError\u001b[0m: SequentialFeatureSelector has not been fitted, yet."
     ]
    }
   ],
   "source": [
    "# 視覚化\n",
    "fig=plot_sfs(sfs.get_metric_dict(),kind=\"std_dev\",figsize=(14,10))\n",
    "plt.title('Sequence Forward Generation (w. StdDev)')\n",
    "plt.grid()"
   ]
  },
  {
   "cell_type": "code",
   "execution_count": null,
   "metadata": {},
   "outputs": [],
   "source": [
    "features_sel_wrapper_sfg=list(sfs.k_features_names_)\n",
    "ref=LogisticRegression().fit(X_train[features_sel_wrapper_sfg],y_train)\n",
    "valid_result=f1_score(y_test,\n",
    "                      reg.predict(X_train[features_sel_wrapper_sfg]))\n",
    "score_sel_wrapper_sfg=f1_score(y_test,reg.predict(X_test[features_sel_wrapper_sfg]))\n",
    "print(f'特徴量:{features_sel_wrapper_sfg}')\n",
    "print(f'訓練:{train_result}')\n",
    "print(score_sel_wrapper_sfg)"
   ]
  },
  {
   "cell_type": "code",
   "execution_count": null,
   "metadata": {},
   "outputs": [],
   "source": []
  }
 ],
 "metadata": {
  "kernelspec": {
   "display_name": "Python 3",
   "language": "python",
   "name": "python3"
  },
  "language_info": {
   "codemirror_mode": {
    "name": "ipython",
    "version": 3
   },
   "file_extension": ".py",
   "mimetype": "text/x-python",
   "name": "python",
   "nbconvert_exporter": "python",
   "pygments_lexer": "ipython3",
   "version": "3.7.9"
  },
  "widgets": {
   "application/vnd.jupyter.widget-state+json": {
    "state": {},
    "version_major": 2,
    "version_minor": 0
   }
  }
 },
 "nbformat": 4,
 "nbformat_minor": 4
}
