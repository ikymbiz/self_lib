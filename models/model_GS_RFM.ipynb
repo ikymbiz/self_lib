{
 "cells": [
  {
   "cell_type": "markdown",
   "metadata": {
    "execution": {
     "iopub.execute_input": "2021-01-17T06:24:00.638325Z",
     "iopub.status.busy": "2021-01-17T06:24:00.638325Z",
     "iopub.status.idle": "2021-01-17T06:24:00.640327Z",
     "shell.execute_reply": "2021-01-17T06:24:00.640327Z",
     "shell.execute_reply.started": "2021-01-17T06:24:00.638325Z"
    }
   },
   "source": [
    "# model_GS_RFM"
   ]
  },
  {
   "cell_type": "markdown",
   "metadata": {
    "execution": {
     "iopub.execute_input": "2021-01-14T16:07:35.403347Z",
     "iopub.status.busy": "2021-01-14T16:07:35.403347Z",
     "iopub.status.idle": "2021-01-14T16:07:43.720902Z",
     "shell.execute_reply": "2021-01-14T16:07:43.718902Z",
     "shell.execute_reply.started": "2021-01-14T16:07:35.403347Z"
    }
   },
   "source": [
    "#### Grid_Search\n",
    "https://scikit-learn.org/stable/modules/model_evaluation.html#scoring-parameter  \n",
    "https://www.codexa.net/hyperparameter-tuning-python/"
   ]
  },
  {
   "cell_type": "code",
   "execution_count": 1,
   "metadata": {
    "execution": {
     "iopub.execute_input": "2021-01-21T15:28:42.431506Z",
     "iopub.status.busy": "2021-01-21T15:28:42.430505Z",
     "iopub.status.idle": "2021-01-21T15:28:44.014945Z",
     "shell.execute_reply": "2021-01-21T15:28:44.014945Z",
     "shell.execute_reply.started": "2021-01-21T15:28:42.431506Z"
    }
   },
   "outputs": [
    {
     "name": "stderr",
     "output_type": "stream",
     "text": [
      "[NbConvertApp] Converting notebook model_GS_RFM.ipynb to python\n",
      "[NbConvertApp] Writing 2610 bytes to model_GS_RFM.py\n"
     ]
    }
   ],
   "source": [
    "# !jupyter nbconvert --to python model_GS_RFM.ipynb"
   ]
  },
  {
   "cell_type": "code",
   "execution_count": 3,
   "metadata": {
    "execution": {
     "iopub.execute_input": "2021-01-21T12:43:03.480231Z",
     "iopub.status.busy": "2021-01-21T12:43:03.480231Z",
     "iopub.status.idle": "2021-01-21T12:43:03.483233Z",
     "shell.execute_reply": "2021-01-21T12:43:03.483233Z",
     "shell.execute_reply.started": "2021-01-21T12:43:03.480231Z"
    }
   },
   "outputs": [],
   "source": [
    "# warningの無視\n",
    "import warnings\n",
    "warnings.filterwarnings('ignore')"
   ]
  },
  {
   "cell_type": "code",
   "execution_count": 25,
   "metadata": {
    "execution": {
     "iopub.execute_input": "2021-01-21T12:48:26.624056Z",
     "iopub.status.busy": "2021-01-21T12:48:26.624056Z",
     "iopub.status.idle": "2021-01-21T12:48:26.629061Z",
     "shell.execute_reply": "2021-01-21T12:48:26.629061Z",
     "shell.execute_reply.started": "2021-01-21T12:48:26.624056Z"
    }
   },
   "outputs": [],
   "source": [
    "import pickle\n",
    "\n",
    "import pandas as pd\n",
    "import numpy as np\n",
    "import matplotlib.pyplot as plt\n",
    "\n",
    "from sklearn.model_selection import train_test_split\n",
    "\n",
    "from sklearn.ensemble import RandomForestClassifier\n",
    "\n",
    "from sklearn.model_selection import GridSearchCV\n",
    "from sklearn.model_selection import KFold\n",
    "\n",
    "from sklearn.metrics import f1_score\n",
    "\n",
    "%matplotlib inline"
   ]
  },
  {
   "cell_type": "code",
   "execution_count": 8,
   "metadata": {
    "execution": {
     "iopub.execute_input": "2021-01-21T12:43:52.976453Z",
     "iopub.status.busy": "2021-01-21T12:43:52.976453Z",
     "iopub.status.idle": "2021-01-21T12:43:52.980456Z",
     "shell.execute_reply": "2021-01-21T12:43:52.980456Z",
     "shell.execute_reply.started": "2021-01-21T12:43:52.976453Z"
    }
   },
   "outputs": [],
   "source": [
    "def importances(model):\n",
    "    \"\"\" 変数重要度\n",
    "    \"\"\"\n",
    "    importances = model.feature_importances_\n",
    "    indices = np.argsort(importances)\n",
    "\n",
    "    plt.barh(range(len(indices)), importances[indices] , align='center')\n",
    "    plt.yticks(range(len(indices)), feature_X[indices])\n",
    "    plt.title('decision tree feature importance')\n",
    "    plt.xlabel('feature importance')\n",
    "    plt.ylabel('variable')\n",
    "    plt.show()"
   ]
  },
  {
   "cell_type": "markdown",
   "metadata": {},
   "source": [
    "#### =========要変更==========="
   ]
  },
  {
   "cell_type": "code",
   "execution_count": null,
   "metadata": {},
   "outputs": [],
   "source": [
    "path = \"../data/models/\"\n",
    "modelName= \"model_GS_RFM\""
   ]
  },
  {
   "cell_type": "markdown",
   "metadata": {},
   "source": [
    "#### ========================"
   ]
  },
  {
   "cell_type": "code",
   "execution_count": 15,
   "metadata": {
    "execution": {
     "iopub.execute_input": "2021-01-21T12:44:27.666422Z",
     "iopub.status.busy": "2021-01-21T12:44:27.666422Z",
     "iopub.status.idle": "2021-01-21T12:44:27.669415Z",
     "shell.execute_reply": "2021-01-21T12:44:27.669415Z",
     "shell.execute_reply.started": "2021-01-21T12:44:27.666422Z"
    }
   },
   "outputs": [],
   "source": [
    "y_Name='LoanStatus'"
   ]
  },
  {
   "cell_type": "code",
   "execution_count": 16,
   "metadata": {
    "execution": {
     "iopub.execute_input": "2021-01-21T12:44:28.809013Z",
     "iopub.status.busy": "2021-01-21T12:44:28.809013Z",
     "iopub.status.idle": "2021-01-21T12:44:28.873072Z",
     "shell.execute_reply": "2021-01-21T12:44:28.873072Z",
     "shell.execute_reply.started": "2021-01-21T12:44:28.809013Z"
    }
   },
   "outputs": [],
   "source": [
    "# pickleで読込む\n",
    "import pickle\n",
    "\n",
    "# 前処理済みデータ取得\n",
    "with open('../data/feature/feature_data.pickle','rb') as f:\n",
    "    pre_data = pickle.load(f)"
   ]
  },
  {
   "cell_type": "markdown",
   "metadata": {},
   "source": [
    "#### =========要変更==========="
   ]
  },
  {
   "cell_type": "code",
   "execution_count": 69,
   "metadata": {
    "execution": {
     "iopub.execute_input": "2021-01-21T13:04:28.178916Z",
     "iopub.status.busy": "2021-01-21T13:04:28.178916Z",
     "iopub.status.idle": "2021-01-21T13:04:28.209945Z",
     "shell.execute_reply": "2021-01-21T13:04:28.209945Z",
     "shell.execute_reply.started": "2021-01-21T13:04:28.178916Z"
    }
   },
   "outputs": [],
   "source": [
    "pre_data=pre_data.fillna(pre_data.mean())"
   ]
  },
  {
   "cell_type": "markdown",
   "metadata": {},
   "source": [
    "#### ========================"
   ]
  },
  {
   "cell_type": "code",
   "execution_count": 70,
   "metadata": {
    "execution": {
     "iopub.execute_input": "2021-01-21T13:04:28.529535Z",
     "iopub.status.busy": "2021-01-21T13:04:28.529535Z",
     "iopub.status.idle": "2021-01-21T13:04:28.549553Z",
     "shell.execute_reply": "2021-01-21T13:04:28.549553Z",
     "shell.execute_reply.started": "2021-01-21T13:04:28.529535Z"
    }
   },
   "outputs": [],
   "source": [
    "# 目的変数と説明変数の取得\n",
    "y=pre_data[y_Name]\n",
    "X=pre_data.drop(columns=y_Name)"
   ]
  },
  {
   "cell_type": "markdown",
   "metadata": {},
   "source": [
    "#### 分割"
   ]
  },
  {
   "cell_type": "code",
   "execution_count": 71,
   "metadata": {
    "execution": {
     "iopub.execute_input": "2021-01-21T13:04:29.073946Z",
     "iopub.status.busy": "2021-01-21T13:04:29.073946Z",
     "iopub.status.idle": "2021-01-21T13:04:29.171035Z",
     "shell.execute_reply": "2021-01-21T13:04:29.171035Z",
     "shell.execute_reply.started": "2021-01-21T13:04:29.073946Z"
    }
   },
   "outputs": [],
   "source": [
    "# 訓練データとテストデータの分割\n",
    "train_valid_X, test_X, train_valid_y, test_y = train_test_split(X, y, test_size=0.2, shuffle=True)\n",
    "\n",
    "# 訓練データと検証データの分割\n",
    "train_X, valid_X, train_y, valid_y = train_test_split(train_valid_X, train_valid_y, test_size=0.2, shuffle=True)"
   ]
  },
  {
   "cell_type": "code",
   "execution_count": 76,
   "metadata": {
    "execution": {
     "iopub.execute_input": "2021-01-21T13:09:37.768406Z",
     "iopub.status.busy": "2021-01-21T13:09:37.768406Z",
     "iopub.status.idle": "2021-01-21T13:09:37.771400Z",
     "shell.execute_reply": "2021-01-21T13:09:37.771400Z",
     "shell.execute_reply.started": "2021-01-21T13:09:37.768406Z"
    }
   },
   "outputs": [],
   "source": [
    "\"\"\"ハイパーパラメータの max_depth(木の深さ), \n",
    "# n_estimators(決定木の数)に関してグリッドサーチを行う\n",
    "# グリッドサーチに使用するパラメータの値を用意\n",
    "\"\"\"\n",
    "seed=1\n",
    "params = {\n",
    "    'max_depth': [10, 20, 30, 50],\n",
    "    'n_estimators': [10, 100, 1000]}"
   ]
  },
  {
   "cell_type": "markdown",
   "metadata": {},
   "source": [
    "#### =========要変更==========="
   ]
  },
  {
   "cell_type": "code",
   "execution_count": 77,
   "metadata": {
    "execution": {
     "iopub.execute_input": "2021-01-21T13:09:38.066093Z",
     "iopub.status.busy": "2021-01-21T13:09:38.066093Z",
     "iopub.status.idle": "2021-01-21T13:09:38.069086Z",
     "shell.execute_reply": "2021-01-21T13:09:38.069086Z",
     "shell.execute_reply.started": "2021-01-21T13:09:38.066093Z"
    }
   },
   "outputs": [],
   "source": [
    "model=RandomForestClassifier(random_state=seed)"
   ]
  },
  {
   "cell_type": "markdown",
   "metadata": {},
   "source": [
    "#### ========================"
   ]
  },
  {
   "cell_type": "code",
   "execution_count": 78,
   "metadata": {
    "execution": {
     "iopub.execute_input": "2021-01-21T13:09:38.313835Z",
     "iopub.status.busy": "2021-01-21T13:09:38.313835Z",
     "iopub.status.idle": "2021-01-21T13:09:38.316839Z",
     "shell.execute_reply": "2021-01-21T13:09:38.316839Z",
     "shell.execute_reply.started": "2021-01-21T13:09:38.313835Z"
    }
   },
   "outputs": [],
   "source": [
    "grid = GridSearchCV(estimator=model,\n",
    "    param_grid=params,\n",
    "    n_jobs=1,\n",
    "    cv=KFold(5,shuffle=True, random_state=seed),\n",
    "    scoring='f1',\n",
    "    verbose=3,\n",
    "    return_train_score=True)"
   ]
  },
  {
   "cell_type": "code",
   "execution_count": 79,
   "metadata": {
    "execution": {
     "iopub.execute_input": "2021-01-21T13:09:38.901340Z",
     "iopub.status.busy": "2021-01-21T13:09:38.901340Z",
     "iopub.status.idle": "2021-01-21T13:10:04.474594Z",
     "shell.execute_reply": "2021-01-21T13:10:04.474594Z",
     "shell.execute_reply.started": "2021-01-21T13:09:38.901340Z"
    }
   },
   "outputs": [
    {
     "name": "stdout",
     "output_type": "stream",
     "text": [
      "Fitting 5 folds for each of 3 candidates, totalling 15 fits\n",
      "[CV 1/5] END ..................max_depth=10, n_estimators=10; total time=   0.9s\n",
      "[CV 2/5] END ..................max_depth=10, n_estimators=10; total time=   0.9s\n",
      "[CV 3/5] END ..................max_depth=10, n_estimators=10; total time=   0.9s\n",
      "[CV 4/5] END ..................max_depth=10, n_estimators=10; total time=   0.9s\n",
      "[CV 5/5] END ..................max_depth=10, n_estimators=10; total time=   0.9s\n",
      "[CV 1/5] END ..................max_depth=20, n_estimators=10; total time=   1.4s\n",
      "[CV 2/5] END ..................max_depth=20, n_estimators=10; total time=   1.4s\n",
      "[CV 3/5] END ..................max_depth=20, n_estimators=10; total time=   1.5s\n",
      "[CV 4/5] END ..................max_depth=20, n_estimators=10; total time=   1.4s\n",
      "[CV 5/5] END ..................max_depth=20, n_estimators=10; total time=   1.4s\n",
      "[CV 1/5] END ..................max_depth=30, n_estimators=10; total time=   1.5s\n",
      "[CV 2/5] END ..................max_depth=30, n_estimators=10; total time=   1.5s\n",
      "[CV 3/5] END ..................max_depth=30, n_estimators=10; total time=   1.5s\n",
      "[CV 4/5] END ..................max_depth=30, n_estimators=10; total time=   1.4s\n",
      "[CV 5/5] END ..................max_depth=30, n_estimators=10; total time=   1.4s\n"
     ]
    },
    {
     "data": {
      "text/plain": [
       "GridSearchCV(cv=KFold(n_splits=5, random_state=1, shuffle=True),\n",
       "             estimator=RandomForestClassifier(random_state=1), n_jobs=1,\n",
       "             param_grid={'max_depth': [10, 20, 30], 'n_estimators': [10]},\n",
       "             return_train_score=True, scoring='f1', verbose=3)"
      ]
     },
     "execution_count": 79,
     "metadata": {},
     "output_type": "execute_result"
    }
   ],
   "source": [
    "grid.fit(train_X,  train_y)"
   ]
  },
  {
   "cell_type": "code",
   "execution_count": 83,
   "metadata": {
    "execution": {
     "iopub.execute_input": "2021-01-21T13:11:03.377346Z",
     "iopub.status.busy": "2021-01-21T13:11:03.377346Z",
     "iopub.status.idle": "2021-01-21T13:11:03.379348Z",
     "shell.execute_reply": "2021-01-21T13:11:03.379348Z",
     "shell.execute_reply.started": "2021-01-21T13:11:03.377346Z"
    }
   },
   "outputs": [],
   "source": [
    "# 最適解でモデルを作成\n",
    "model = grid.best_estimator_"
   ]
  },
  {
   "cell_type": "code",
   "execution_count": 27,
   "metadata": {
    "execution": {
     "iopub.execute_input": "2021-01-17T15:24:47.568286Z",
     "iopub.status.busy": "2021-01-17T15:24:47.568286Z",
     "iopub.status.idle": "2021-01-17T15:24:47.665373Z",
     "shell.execute_reply": "2021-01-17T15:24:47.665373Z",
     "shell.execute_reply.started": "2021-01-17T15:24:47.568286Z"
    }
   },
   "outputs": [
    {
     "ename": "NameError",
     "evalue": "name 'model' is not defined",
     "output_type": "error",
     "traceback": [
      "\u001b[1;31m---------------------------------------------------------------------------\u001b[0m",
      "\u001b[1;31mNameError\u001b[0m                                 Traceback (most recent call last)",
      "\u001b[1;32m<ipython-input-27-5b5bd589fd42>\u001b[0m in \u001b[0;36m<module>\u001b[1;34m\u001b[0m\n\u001b[0;32m      1\u001b[0m \u001b[1;31m# モデルの保存\u001b[0m\u001b[1;33m\u001b[0m\u001b[1;33m\u001b[0m\u001b[1;33m\u001b[0m\u001b[0m\n\u001b[0;32m      2\u001b[0m \u001b[1;32mwith\u001b[0m \u001b[0mopen\u001b[0m\u001b[1;33m(\u001b[0m\u001b[1;34m\"stack/\"\u001b[0m \u001b[1;33m+\u001b[0m \u001b[0mfeatureName\u001b[0m \u001b[1;33m+\u001b[0m \u001b[1;34m\"_\"\u001b[0m \u001b[1;33m+\u001b[0m \u001b[0mmodelName\u001b[0m \u001b[1;33m+\u001b[0m \u001b[1;34m'_model.pickle'\u001b[0m\u001b[1;33m,\u001b[0m \u001b[0mmode\u001b[0m\u001b[1;33m=\u001b[0m\u001b[1;34m'wb'\u001b[0m\u001b[1;33m)\u001b[0m \u001b[1;32mas\u001b[0m \u001b[0mf\u001b[0m\u001b[1;33m:\u001b[0m\u001b[1;33m\u001b[0m\u001b[1;33m\u001b[0m\u001b[0m\n\u001b[1;32m----> 3\u001b[1;33m     \u001b[0mpickle\u001b[0m\u001b[1;33m.\u001b[0m\u001b[0mdump\u001b[0m\u001b[1;33m(\u001b[0m\u001b[0mmodel\u001b[0m\u001b[1;33m,\u001b[0m \u001b[0mf\u001b[0m\u001b[1;33m)\u001b[0m\u001b[1;33m\u001b[0m\u001b[1;33m\u001b[0m\u001b[0m\n\u001b[0m",
      "\u001b[1;31mNameError\u001b[0m: name 'model' is not defined"
     ]
    }
   ],
   "source": [
    "# モデルの保存\n",
    "with open(path + modelName + '.pickle', mode='wb') as f:\n",
    "    pickle.dump(model, f)"
   ]
  },
  {
   "cell_type": "code",
   "execution_count": null,
   "metadata": {},
   "outputs": [],
   "source": []
  }
 ],
 "metadata": {
  "kernelspec": {
   "display_name": "Python 3",
   "language": "python",
   "name": "python3"
  },
  "language_info": {
   "codemirror_mode": {
    "name": "ipython",
    "version": 3
   },
   "file_extension": ".py",
   "mimetype": "text/x-python",
   "name": "python",
   "nbconvert_exporter": "python",
   "pygments_lexer": "ipython3",
   "version": "3.7.9"
  },
  "widgets": {
   "application/vnd.jupyter.widget-state+json": {
    "state": {},
    "version_major": 2,
    "version_minor": 0
   }
  }
 },
 "nbformat": 4,
 "nbformat_minor": 4
}
