{
 "cells": [
  {
   "cell_type": "markdown",
   "metadata": {},
   "source": [
    "# XGBoost"
   ]
  },
  {
   "cell_type": "code",
   "execution_count": 1,
   "metadata": {
    "execution": {
     "iopub.execute_input": "2021-01-17T14:45:54.158782Z",
     "iopub.status.busy": "2021-01-17T14:45:54.157781Z",
     "iopub.status.idle": "2021-01-17T14:45:54.162786Z",
     "shell.execute_reply": "2021-01-17T14:45:54.162786Z",
     "shell.execute_reply.started": "2021-01-17T14:45:54.158782Z"
    }
   },
   "outputs": [],
   "source": [
    "# warningの無視\n",
    "import warnings\n",
    "warnings.filterwarnings('ignore')"
   ]
  },
  {
   "cell_type": "code",
   "execution_count": 4,
   "metadata": {
    "execution": {
     "iopub.execute_input": "2021-01-19T14:58:19.443188Z",
     "iopub.status.busy": "2021-01-19T14:58:19.442188Z",
     "iopub.status.idle": "2021-01-19T14:58:19.447192Z",
     "shell.execute_reply": "2021-01-19T14:58:19.447192Z",
     "shell.execute_reply.started": "2021-01-19T14:58:19.443188Z"
    }
   },
   "outputs": [],
   "source": [
    "# \n",
    "import os\n",
    "import datetime\n",
    "import pickle\n",
    "\n",
    "# base\n",
    "import pandas as pd\n",
    "import numpy as np\n",
    "from dateutil.relativedelta import relativedelta\n",
    "\n",
    "# visualize\n",
    "import matplotlib.pyplot as plt\n",
    "import seaborn as sns\n",
    "sns.set()\n",
    "\n",
    "# model\n",
    "import xgboost as xgb\n",
    "# https://qiita.com/FJyusk56/items/0649f4362587261bd57a\n",
    "\n",
    "from sklearn.model_selection import train_test_split\n",
    "\n",
    "# 評価指標\n",
    "from sklearn.metrics import log_loss\n",
    "from sklearn.metrics import accuracy_score # 精度の確認 / 正解率\n",
    "from sklearn.metrics import f1_score       #f1\n",
    "\n",
    "# from hyperopt import fmin\n",
    "# from hyperopt import tpe\n",
    "# from hyperopt import hp\n",
    "# from hyperopt import STATUS_OK\n",
    "# from hyperopt import Trials"
   ]
  },
  {
   "cell_type": "code",
   "execution_count": 1,
   "metadata": {
    "execution": {
     "iopub.execute_input": "2021-01-19T14:58:08.704482Z",
     "iopub.status.busy": "2021-01-19T14:58:08.703480Z",
     "iopub.status.idle": "2021-01-19T14:58:09.951825Z",
     "shell.execute_reply": "2021-01-19T14:58:09.951825Z",
     "shell.execute_reply.started": "2021-01-19T14:58:08.704482Z"
    }
   },
   "outputs": [
    {
     "ename": "ModuleNotFoundError",
     "evalue": "No module named 'self_lib'",
     "output_type": "error",
     "traceback": [
      "\u001b[1;31m---------------------------------------------------------------------------\u001b[0m",
      "\u001b[1;31mModuleNotFoundError\u001b[0m                       Traceback (most recent call last)",
      "\u001b[1;32m<ipython-input-1-171da1b4e9ea>\u001b[0m in \u001b[0;36m<module>\u001b[1;34m\u001b[0m\n\u001b[0;32m     32\u001b[0m \u001b[1;33m\u001b[0m\u001b[0m\n\u001b[0;32m     33\u001b[0m \u001b[1;31m# User defined functions\u001b[0m\u001b[1;33m\u001b[0m\u001b[1;33m\u001b[0m\u001b[1;33m\u001b[0m\u001b[0m\n\u001b[1;32m---> 34\u001b[1;33m \u001b[1;32mfrom\u001b[0m \u001b[0mself_lib\u001b[0m \u001b[1;32mimport\u001b[0m \u001b[0mtips\u001b[0m\u001b[1;33m\u001b[0m\u001b[1;33m\u001b[0m\u001b[0m\n\u001b[0m\u001b[0;32m     35\u001b[0m \u001b[1;32mfrom\u001b[0m \u001b[0mself_lib\u001b[0m \u001b[1;32mimport\u001b[0m \u001b[0mdoggie_tail\u001b[0m \u001b[1;32mas\u001b[0m \u001b[0md_\u001b[0m\u001b[1;33m\u001b[0m\u001b[1;33m\u001b[0m\u001b[0m\n\u001b[0;32m     36\u001b[0m \u001b[1;32mfrom\u001b[0m \u001b[0mself_lib\u001b[0m \u001b[1;32mimport\u001b[0m \u001b[0mtimer\u001b[0m \u001b[1;32mas\u001b[0m \u001b[0mt\u001b[0m\u001b[1;33m\u001b[0m\u001b[1;33m\u001b[0m\u001b[0m\n",
      "\u001b[1;31mModuleNotFoundError\u001b[0m: No module named 'self_lib'"
     ]
    }
   ],
   "source": [
    "# User defined functions\n",
    "from self_lib import tips\n",
    "from self_lib import doggie_tail as d_\n",
    "from self_lib import timer as t\n",
    "\n",
    "# Jupyter上で図を表示するためのコマンド\n",
    "%matplotlib inline"
   ]
  },
  {
   "cell_type": "code",
   "execution_count": null,
   "metadata": {
    "execution": {
     "iopub.status.busy": "2021-01-19T14:58:09.952827Z",
     "iopub.status.idle": "2021-01-19T14:58:09.952827Z",
     "shell.execute_reply": "2021-01-19T14:58:09.952827Z"
    }
   },
   "outputs": [],
   "source": [
    "# 表示列数を指定\n",
    "pd.set_option('display.max_columns',100)\n",
    "pd.set_option('display.max_rows', 100)"
   ]
  },
  {
   "cell_type": "markdown",
   "metadata": {},
   "source": [
    "### version setting"
   ]
  },
  {
   "cell_type": "code",
   "execution_count": null,
   "metadata": {
    "execution": {
     "iopub.status.busy": "2021-01-19T14:58:09.953827Z",
     "iopub.status.idle": "2021-01-19T14:58:09.953827Z",
     "shell.execute_reply": "2021-01-19T14:58:09.953827Z"
    }
   },
   "outputs": [],
   "source": [
    "submitVer=\"_v05\"\n",
    "modelName=\"XGBoost\""
   ]
  },
  {
   "cell_type": "code",
   "execution_count": null,
   "metadata": {
    "execution": {
     "iopub.status.busy": "2021-01-19T14:58:09.954829Z",
     "iopub.status.idle": "2021-01-19T14:58:09.954829Z",
     "shell.execute_reply": "2021-01-19T14:58:09.954829Z"
    }
   },
   "outputs": [],
   "source": [
    "featureName=\"All\""
   ]
  },
  {
   "cell_type": "code",
   "execution_count": 2,
   "metadata": {
    "execution": {
     "iopub.execute_input": "2021-01-19T14:58:10.064518Z",
     "iopub.status.busy": "2021-01-19T14:58:10.064518Z",
     "iopub.status.idle": "2021-01-19T14:58:10.067520Z",
     "shell.execute_reply": "2021-01-19T14:58:10.067520Z",
     "shell.execute_reply.started": "2021-01-19T14:58:10.064518Z"
    }
   },
   "outputs": [],
   "source": [
    "yName='LoanStatus'"
   ]
  },
  {
   "cell_type": "code",
   "execution_count": 3,
   "metadata": {
    "execution": {
     "iopub.execute_input": "2021-01-19T14:58:10.273497Z",
     "iopub.status.busy": "2021-01-19T14:58:10.272497Z",
     "iopub.status.idle": "2021-01-19T14:58:10.279503Z",
     "shell.execute_reply": "2021-01-19T14:58:10.279503Z",
     "shell.execute_reply.started": "2021-01-19T14:58:10.273497Z"
    }
   },
   "outputs": [
    {
     "ename": "NameError",
     "evalue": "name 'submitVer' is not defined",
     "output_type": "error",
     "traceback": [
      "\u001b[1;31m---------------------------------------------------------------------------\u001b[0m",
      "\u001b[1;31mNameError\u001b[0m                                 Traceback (most recent call last)",
      "\u001b[1;32m<ipython-input-3-e03bf3487af5>\u001b[0m in \u001b[0;36m<module>\u001b[1;34m\u001b[0m\n\u001b[0;32m      1\u001b[0m \u001b[1;31m# y\u001b[0m\u001b[1;33m\u001b[0m\u001b[1;33m\u001b[0m\u001b[1;33m\u001b[0m\u001b[0m\n\u001b[0;32m      2\u001b[0m \u001b[0mfileName\u001b[0m\u001b[1;33m=\u001b[0m\u001b[1;34m\"data.pickle\"\u001b[0m\u001b[1;33m\u001b[0m\u001b[1;33m\u001b[0m\u001b[0m\n\u001b[1;32m----> 3\u001b[1;33m \u001b[1;32mwith\u001b[0m \u001b[0mopen\u001b[0m\u001b[1;33m(\u001b[0m\u001b[1;34m\"data/dataset/pre/\"\u001b[0m \u001b[1;33m+\u001b[0m \u001b[1;34m\"pre_y_data\"\u001b[0m \u001b[1;33m+\u001b[0m \u001b[0msubmitVer\u001b[0m \u001b[1;33m+\u001b[0m \u001b[1;34m\".pickle\"\u001b[0m\u001b[1;33m,\u001b[0m\u001b[1;34m'rb'\u001b[0m\u001b[1;33m)\u001b[0m \u001b[1;32mas\u001b[0m \u001b[0mf\u001b[0m\u001b[1;33m:\u001b[0m\u001b[1;33m\u001b[0m\u001b[1;33m\u001b[0m\u001b[0m\n\u001b[0m\u001b[0;32m      4\u001b[0m     \u001b[0my\u001b[0m \u001b[1;33m=\u001b[0m \u001b[0mpickle\u001b[0m\u001b[1;33m.\u001b[0m\u001b[0mload\u001b[0m\u001b[1;33m(\u001b[0m\u001b[0mf\u001b[0m\u001b[1;33m)\u001b[0m\u001b[1;33m\u001b[0m\u001b[1;33m\u001b[0m\u001b[0m\n",
      "\u001b[1;31mNameError\u001b[0m: name 'submitVer' is not defined"
     ]
    }
   ],
   "source": [
    "# y\n",
    "fileName=\"data.pickle\"\n",
    "with open(\"data/dataset/pre/\" + \"pre_y_data\" + submitVer + \".pickle\",'rb') as f:\n",
    "    y = pickle.load(f)"
   ]
  },
  {
   "cell_type": "code",
   "execution_count": 5,
   "metadata": {
    "execution": {
     "iopub.execute_input": "2021-01-19T14:58:31.352478Z",
     "iopub.status.busy": "2021-01-19T14:58:31.352478Z",
     "iopub.status.idle": "2021-01-19T14:58:31.358484Z",
     "shell.execute_reply": "2021-01-19T14:58:31.358484Z",
     "shell.execute_reply.started": "2021-01-19T14:58:31.352478Z"
    }
   },
   "outputs": [
    {
     "ename": "FileNotFoundError",
     "evalue": "[Errno 2] No such file or directory: 'data/dataset/pre/pre_data.pickle'",
     "output_type": "error",
     "traceback": [
      "\u001b[1;31m---------------------------------------------------------------------------\u001b[0m",
      "\u001b[1;31mFileNotFoundError\u001b[0m                         Traceback (most recent call last)",
      "\u001b[1;32m<ipython-input-5-3151c1141960>\u001b[0m in \u001b[0;36m<module>\u001b[1;34m\u001b[0m\n\u001b[0;32m      1\u001b[0m \u001b[1;31m#X\u001b[0m\u001b[1;33m\u001b[0m\u001b[1;33m\u001b[0m\u001b[1;33m\u001b[0m\u001b[0m\n\u001b[1;32m----> 2\u001b[1;33m \u001b[1;32mwith\u001b[0m \u001b[0mopen\u001b[0m\u001b[1;33m(\u001b[0m\u001b[1;34m\"data/dataset/pre/\"\u001b[0m \u001b[1;33m+\u001b[0m \u001b[1;34m\"pre_data.pickle\"\u001b[0m\u001b[1;33m,\u001b[0m\u001b[1;34m'rb'\u001b[0m\u001b[1;33m)\u001b[0m \u001b[1;32mas\u001b[0m \u001b[0mf\u001b[0m\u001b[1;33m:\u001b[0m\u001b[1;33m\u001b[0m\u001b[1;33m\u001b[0m\u001b[0m\n\u001b[0m\u001b[0;32m      3\u001b[0m     \u001b[0mpre_data\u001b[0m \u001b[1;33m=\u001b[0m \u001b[0mpickle\u001b[0m\u001b[1;33m.\u001b[0m\u001b[0mload\u001b[0m\u001b[1;33m(\u001b[0m\u001b[0mf\u001b[0m\u001b[1;33m)\u001b[0m\u001b[1;33m\u001b[0m\u001b[1;33m\u001b[0m\u001b[0m\n",
      "\u001b[1;31mFileNotFoundError\u001b[0m: [Errno 2] No such file or directory: 'data/dataset/pre/pre_data.pickle'"
     ]
    }
   ],
   "source": [
    "#X\n",
    "with open(\"data/dataset/pre/\" + \"pre_data.pickle\",'rb') as f:\n",
    "    pre_data = pickle.load(f)"
   ]
  },
  {
   "cell_type": "code",
   "execution_count": 9,
   "metadata": {
    "execution": {
     "iopub.execute_input": "2021-01-17T14:45:55.282804Z",
     "iopub.status.busy": "2021-01-17T14:45:55.282804Z",
     "iopub.status.idle": "2021-01-17T14:45:55.284805Z",
     "shell.execute_reply": "2021-01-17T14:45:55.284805Z",
     "shell.execute_reply.started": "2021-01-17T14:45:55.282804Z"
    }
   },
   "outputs": [],
   "source": [
    "# y=y.fillna(y.mean())\n",
    "# pre_data=pre_data.fillna(pre_data.mean())"
   ]
  },
  {
   "cell_type": "markdown",
   "metadata": {},
   "source": [
    "#### 分割"
   ]
  },
  {
   "cell_type": "code",
   "execution_count": 10,
   "metadata": {
    "execution": {
     "iopub.execute_input": "2021-01-17T14:45:55.285807Z",
     "iopub.status.busy": "2021-01-17T14:45:55.285807Z",
     "iopub.status.idle": "2021-01-17T14:45:55.408919Z",
     "shell.execute_reply": "2021-01-17T14:45:55.408919Z",
     "shell.execute_reply.started": "2021-01-17T14:45:55.285807Z"
    }
   },
   "outputs": [],
   "source": [
    "# 訓練データとテストデータの分割\n",
    "train_valid_X, test_X, train_valid_y, test_y = train_test_split(pre_data, y, test_size=0.2, shuffle=True)\n",
    "\n",
    "# 訓練データと検証データの分割\n",
    "train_X, valid_X, train_y, valid_y = train_test_split(train_valid_X, train_valid_y, test_size=0.2, shuffle=True)"
   ]
  },
  {
   "cell_type": "code",
   "execution_count": 11,
   "metadata": {
    "execution": {
     "iopub.execute_input": "2021-01-17T14:45:55.409919Z",
     "iopub.status.busy": "2021-01-17T14:45:55.409919Z",
     "iopub.status.idle": "2021-01-17T14:45:55.494996Z",
     "shell.execute_reply": "2021-01-17T14:45:55.494996Z",
     "shell.execute_reply.started": "2021-01-17T14:45:55.409919Z"
    }
   },
   "outputs": [],
   "source": [
    "# xgboost用の型に変換\n",
    "# https://xgboost.readthedocs.io/en/latest/python/python_intro.html#data-interface\n",
    "# DataFrame.dtypes for data must be int, float, bool or categorical.\n",
    "# When categorical type is supplied, DMatrix parameter `enable_categorical` must be set to `True`.\n",
    "train_data = xgb.DMatrix(train_X, label=train_y,enable_categorical=True)\n",
    "test_data = xgb.DMatrix(test_X, label=test_y,enable_categorical=True)\n",
    "valid_data = xgb.DMatrix(valid_X, label=valid_y,enable_categorical=True)"
   ]
  },
  {
   "cell_type": "markdown",
   "metadata": {},
   "source": [
    "XGboost  \n",
    "https://xgboost.readthedocs.io/en/latest/parameter.html"
   ]
  },
  {
   "cell_type": "markdown",
   "metadata": {},
   "source": [
    "#### パラメータの設定\n",
    "- objective / 学習目的  \n",
    "- num_class / クラス数  \n",
    "- eval_metrics / 評価指標  \n",
    "- eta / 学習率　(0.1 / パラメータ探索では固定)  \n",
    "- num_round / 学習回数　(- / 十分大きくしてアーリーストッピングで最適な決定木の本数を設定)  \n",
    "- max_depth / 木の最大深度 (5 / 3~9で一様分布に従う、1刻み)  \n",
    "- min_child_weight / 葉を分岐するために最低限必要となる葉を構成するデータ数  \n",
    "                   (1.0 / 0.1 ~ 10.0で対数が一様分布に従う)  \n",
    "- gamma / 決定木を分岐させるために最低限へ荒らさなくてはいけない目的関数の値  \n",
    "                   (0.0 / 1e-8 ~ 1.0で対数が一様分布に従う)  \n",
    "- colsample_bytree / 決定木ごとに特徴量の列をサンプリングする割合  \n",
    "                   (0.8 / 0.6 ~ 0.95で一様分布に従う.0.05刻み)  \n",
    "- subsample / 決定木ごとに学習データの行をサンプリングする割合  \n",
    "                   (0.8 / 0.6 ~ 0.95で一様分布に従う.0.05刻み)  \n",
    "- alpha / 決定木の葉のウェイトに対するL1正則化の強さ（ウェイトの大きさに比例して罰則が与えられる）  \n",
    "                   (0.0 / デフォルト値としておき、余裕があれば調整する)  \n",
    "- lambda / 決定木の葉のウェイトに対するL2正則化の強さ（ウェイトの二乗に比例して罰則が与えられる）  \n",
    "                   (1.0 / デフォルト値としておき、余裕があれば調整する)"
   ]
  },
  {
   "cell_type": "code",
   "execution_count": 12,
   "metadata": {
    "execution": {
     "iopub.execute_input": "2021-01-17T14:45:55.495997Z",
     "iopub.status.busy": "2021-01-17T14:45:55.495997Z",
     "iopub.status.idle": "2021-01-17T14:45:55.499000Z",
     "shell.execute_reply": "2021-01-17T14:45:55.499000Z",
     "shell.execute_reply.started": "2021-01-17T14:45:55.495997Z"
    },
    "jupyter": {
     "source_hidden": true
    }
   },
   "outputs": [],
   "source": [
    "# def score(paramas):\n",
    "#     # パラメータを与えたときに最小化する評価指標を指定する\n",
    "#     # 具体的には、モデルにパラメータを指定して学習・予測させた場合のスコアを返すようにする\n",
    "    \n",
    "#     # max_depth の型を整数型に修正する\n",
    "#     params['max_depth'] = int(params['max_depth'] )  \n",
    "#     # Modelクラスは fit で学習し、predictで予測値の確立を出力する \n",
    "# #     model =Model(params)\n",
    "# #     model.fit(train_X,train_y,valid_X,valid_y)\n",
    "\n",
    "#     bst = xgb.train(params, train_data)\n",
    "#     valid_predict=models.predict(valid_X)\n",
    "#     score=log_loss(valid_y,valid_predict)\n",
    "#     print(f'params:{params},logloss:{score:.4f}')\n",
    "    \n",
    "#     # 情報を記録する\n",
    "#     history.append((params,score))\n",
    "#     return {'loss':score,'status':STATUS_OK}\n",
    "    \n",
    "# # パラメータの探索範囲\n",
    "# param_space = {\n",
    "#     'booster':'gbtree',\n",
    "#     'objective': 'multi:softmax',\n",
    "#     'eta': 0.1,\n",
    "#     'min_child_weight':hp.loguniform('min_child_weight',np.log(0.1),np.log(10)),\n",
    "#     'max_depth':hp.quniform('max_depth',3,9,1),\n",
    "#     'subsample':hp.quniform('subsample',0.6,0.95,0.05),\n",
    "#     'colsample_bytree':hp.quniform('subsample',0.6,0.95,0.05),\n",
    "#     'gamma':hp.loguniform('alpha',np.log(1e-8),np.log(1.0)),\n",
    "#     'num_class': hp.quniform('nim_class',3,5,1),\n",
    "#     'eval_metric': 'mlogloss',\n",
    "#     #'alpha':hp.loguniform('alpha',np.log(1e-8),np.log(1.0)),\n",
    "#     #'lambda':hp.loguniform('lambda',np.log(1e-6),np.log(10.0)),\n",
    "# }\n",
    "\n",
    "# max_evals = 10\n",
    "# # trial =Trials()\n",
    "# history=[]\n",
    "# fmin(score,param_space,algo=tpe.suggest,max_evals=max_evals)\n",
    "\n",
    "# # 記録した情報からパラメータとスコアを出力する\n",
    "# history= sorted(history, key=lambda tpl:tpl[1])\n",
    "# best = history[0]\n",
    "# print(f'best params:{best[0]},score:{best[1]:.4f}')\n",
    "\n",
    "# # #評価の出力\n",
    "# # evallist = [(valid_data, 'eval'), (train_data, 'train')]\n",
    "\n",
    "# # # early_stopping_rounds / 連続して評価指標が改善しなかったら学習を中断する回数\n",
    "# # early_stopping_rounds=int(10 / param['eta'])"
   ]
  },
  {
   "cell_type": "code",
   "execution_count": 13,
   "metadata": {
    "execution": {
     "iopub.execute_input": "2021-01-17T14:45:55.500001Z",
     "iopub.status.busy": "2021-01-17T14:45:55.500001Z",
     "iopub.status.idle": "2021-01-17T14:45:55.504004Z",
     "shell.execute_reply": "2021-01-17T14:45:55.504004Z",
     "shell.execute_reply.started": "2021-01-17T14:45:55.500001Z"
    }
   },
   "outputs": [],
   "source": [
    "# ベースのパラメータ\n",
    "param = {\n",
    "    'booster':'gbtree',\n",
    "    'objective': 'multi:softmax',\n",
    "    'eta': 0.5,\n",
    "    'gamma': 0.0,\n",
    "    #'alph': 0.0,\n",
    "#     'lambda': 1.0,\n",
    "#     'min_child_weight': 1,\n",
    "    'max_depth': 2,\n",
    "#     'subsample': 0.8,\n",
    "#     'colsample_bytree': 0.8,\n",
    "#     'random_state': 1,\n",
    "    'num_class': 5,\n",
    "    'eval_metric': 'mlogloss'\n",
    "}\n",
    "\n",
    "num_round = 100\n",
    "\n",
    "#評価の出力\n",
    "evallist = [(valid_data, 'eval'), (train_data, 'train')]\n",
    "\n",
    "# early_stopping_rounds / \n",
    "# 連続して評価指標が改善しなかったら学習を中断する回数\n",
    "early_stopping_rounds=int(10 / param['eta'])"
   ]
  },
  {
   "cell_type": "code",
   "execution_count": 1,
   "metadata": {
    "execution": {
     "iopub.execute_input": "2021-01-19T13:27:27.926395Z",
     "iopub.status.busy": "2021-01-19T13:27:27.926395Z",
     "iopub.status.idle": "2021-01-19T13:27:27.929389Z",
     "shell.execute_reply": "2021-01-19T13:27:27.929389Z",
     "shell.execute_reply.started": "2021-01-19T13:27:27.926395Z"
    }
   },
   "outputs": [],
   "source": [
    "# 学習\n",
    "model = xgb.train(param, train_data, num_round, evallist, early_stopping_rounds=early_stopping_rounds)"
   ]
  },
  {
   "cell_type": "code",
   "execution_count": 15,
   "metadata": {
    "execution": {
     "iopub.execute_input": "2021-01-17T14:45:58.216471Z",
     "iopub.status.busy": "2021-01-17T14:45:58.216471Z",
     "iopub.status.idle": "2021-01-17T14:45:58.219474Z",
     "shell.execute_reply": "2021-01-17T14:45:58.219474Z",
     "shell.execute_reply.started": "2021-01-17T14:45:58.216471Z"
    }
   },
   "outputs": [
    {
     "name": "stdout",
     "output_type": "stream",
     "text": [
      "Best Score:0.0000, Iteratin:46, Ntree_Limit:47\n"
     ]
    }
   ],
   "source": [
    "# 検証結果の確認\n",
    "print('Best Score:{0:.4f}, Iteratin:{1:d}, Ntree_Limit:{2:d}'.format(\n",
    "     model.best_score, model.best_iteration, model.best_ntree_limit))"
   ]
  },
  {
   "cell_type": "code",
   "execution_count": 16,
   "metadata": {
    "execution": {
     "iopub.execute_input": "2021-01-17T14:45:58.220475Z",
     "iopub.status.busy": "2021-01-17T14:45:58.220475Z",
     "iopub.status.idle": "2021-01-17T14:45:58.237490Z",
     "shell.execute_reply": "2021-01-17T14:45:58.237490Z",
     "shell.execute_reply.started": "2021-01-17T14:45:58.220475Z"
    }
   },
   "outputs": [],
   "source": [
    "# 予測\n",
    "pred = model.predict(test_data, ntree_limit=model.best_ntree_limit)"
   ]
  },
  {
   "cell_type": "code",
   "execution_count": 17,
   "metadata": {
    "execution": {
     "iopub.execute_input": "2021-01-17T14:45:58.238491Z",
     "iopub.status.busy": "2021-01-17T14:45:58.238491Z",
     "iopub.status.idle": "2021-01-17T14:45:58.265516Z",
     "shell.execute_reply": "2021-01-17T14:45:58.265516Z",
     "shell.execute_reply.started": "2021-01-17T14:45:58.238491Z"
    }
   },
   "outputs": [
    {
     "name": "stdout",
     "output_type": "stream",
     "text": [
      "accuracy_score:1.0000\n",
      "f1_score:1.0000\n"
     ]
    }
   ],
   "source": [
    "# 精度の確認\n",
    "accuracyScore = accuracy_score(test_y, pred)\n",
    "f1Score=f1_score(test_y,pred)\n",
    "print('accuracy_score:{0:.4f}'.format(accuracyScore))\n",
    "print('f1_score:{0:.4f}'.format(f1Score))"
   ]
  },
  {
   "cell_type": "code",
   "execution_count": 18,
   "metadata": {
    "execution": {
     "iopub.execute_input": "2021-01-17T14:45:58.266517Z",
     "iopub.status.busy": "2021-01-17T14:45:58.266517Z",
     "iopub.status.idle": "2021-01-17T14:45:58.384625Z",
     "shell.execute_reply": "2021-01-17T14:45:58.384625Z",
     "shell.execute_reply.started": "2021-01-17T14:45:58.266517Z"
    }
   },
   "outputs": [
    {
     "data": {
      "text/plain": [
       "<AxesSubplot:title={'center':'Feature importance'}, xlabel='F score', ylabel='Features'>"
      ]
     },
     "execution_count": 18,
     "metadata": {},
     "output_type": "execute_result"
    },
    {
     "data": {
      "image/png": "[encoded data removed]",
      "text/plain": [
       "<Figure size 432x288 with 1 Axes>"
      ]
     },
     "metadata": {
      "needs_background": "light"
     },
     "output_type": "display_data"
    }
   ],
   "source": [
    "# 重要度の可視化\n",
    "xgb.plot_importance(model,max_num_features=20)"
   ]
  },
  {
   "cell_type": "code",
   "execution_count": 19,
   "metadata": {
    "execution": {
     "iopub.execute_input": "2021-01-17T14:45:58.385626Z",
     "iopub.status.busy": "2021-01-17T14:45:58.385626Z",
     "iopub.status.idle": "2021-01-17T14:45:58.395635Z",
     "shell.execute_reply": "2021-01-17T14:45:58.395635Z",
     "shell.execute_reply.started": "2021-01-17T14:45:58.385626Z"
    }
   },
   "outputs": [],
   "source": [
    "# モデルの保存\n",
    "with open(\"stack/\" + featureName + \"_\" + modelName + '_model.pickle', mode='wb') as f:\n",
    "    pickle.dump(model, f)"
   ]
  },
  {
   "cell_type": "markdown",
   "metadata": {},
   "source": [
    "### 提出用データの予測/作成"
   ]
  },
  {
   "cell_type": "code",
   "execution_count": 20,
   "metadata": {
    "execution": {
     "iopub.execute_input": "2021-01-17T14:45:58.396636Z",
     "iopub.status.busy": "2021-01-17T14:45:58.396636Z",
     "iopub.status.idle": "2021-01-17T14:45:58.618837Z",
     "shell.execute_reply": "2021-01-17T14:45:58.618837Z",
     "shell.execute_reply.started": "2021-01-17T14:45:58.396636Z"
    }
   },
   "outputs": [],
   "source": [
    "# 予測データの取得\n",
    "with open('data/dataset/raw/test_data.pickle','rb') as f:\n",
    "    test_data = pickle.load(f)"
   ]
  },
  {
   "cell_type": "code",
   "execution_count": 21,
   "metadata": {
    "execution": {
     "iopub.execute_input": "2021-01-17T14:45:58.619839Z",
     "iopub.status.busy": "2021-01-17T14:45:58.619839Z",
     "iopub.status.idle": "2021-01-17T14:45:58.716926Z",
     "shell.execute_reply": "2021-01-17T14:45:58.716926Z",
     "shell.execute_reply.started": "2021-01-17T14:45:58.619839Z"
    }
   },
   "outputs": [
    {
     "ename": "ValueError",
     "evalue": "DataFrame.dtypes for data must be int, float, bool or categorical.  When\n                categorical type is supplied, DMatrix parameter\n                `enable_categorical` must be set to `True`.Borrower, City, State, Bank, BankState, ApprovalDate, ApprovalFY, RevLineCr, LowLoan, DisbursementDate, DisbursementGross, BalanceGross, LoanAmount, GuaranteedLoan",
     "output_type": "error",
     "traceback": [
      "\u001b[1;31m---------------------------------------------------------------------------\u001b[0m",
      "\u001b[1;31mValueError\u001b[0m                                Traceback (most recent call last)",
      "\u001b[1;32m<ipython-input-21-a2af0677ac3a>\u001b[0m in \u001b[0;36m<module>\u001b[1;34m\u001b[0m\n\u001b[0;32m      1\u001b[0m \u001b[1;31m# データ形式変換\u001b[0m\u001b[1;33m\u001b[0m\u001b[1;33m\u001b[0m\u001b[1;33m\u001b[0m\u001b[0m\n\u001b[0;32m      2\u001b[0m \u001b[1;31m# pred_data=pred_data.fillna(pred_data.mean())\u001b[0m\u001b[1;33m\u001b[0m\u001b[1;33m\u001b[0m\u001b[1;33m\u001b[0m\u001b[0m\n\u001b[1;32m----> 3\u001b[1;33m \u001b[0mtest_data\u001b[0m \u001b[1;33m=\u001b[0m \u001b[0mxgb\u001b[0m\u001b[1;33m.\u001b[0m\u001b[0mDMatrix\u001b[0m\u001b[1;33m(\u001b[0m\u001b[0mtest_data\u001b[0m\u001b[1;33m)\u001b[0m\u001b[1;33m\u001b[0m\u001b[1;33m\u001b[0m\u001b[0m\n\u001b[0m",
      "\u001b[1;32mc:\\users\\sirec\\anaconda3\\envs\\datascience\\lib\\site-packages\\xgboost\\core.py\u001b[0m in \u001b[0;36m__init__\u001b[1;34m(self, data, label, weight, base_margin, missing, silent, feature_names, feature_types, nthread, enable_categorical)\u001b[0m\n\u001b[0;32m    503\u001b[0m             \u001b[0mfeature_names\u001b[0m\u001b[1;33m=\u001b[0m\u001b[0mfeature_names\u001b[0m\u001b[1;33m,\u001b[0m\u001b[1;33m\u001b[0m\u001b[1;33m\u001b[0m\u001b[0m\n\u001b[0;32m    504\u001b[0m             \u001b[0mfeature_types\u001b[0m\u001b[1;33m=\u001b[0m\u001b[0mfeature_types\u001b[0m\u001b[1;33m,\u001b[0m\u001b[1;33m\u001b[0m\u001b[1;33m\u001b[0m\u001b[0m\n\u001b[1;32m--> 505\u001b[1;33m             enable_categorical=enable_categorical)\n\u001b[0m\u001b[0;32m    506\u001b[0m         \u001b[1;32massert\u001b[0m \u001b[0mhandle\u001b[0m \u001b[1;32mis\u001b[0m \u001b[1;32mnot\u001b[0m \u001b[1;32mNone\u001b[0m\u001b[1;33m\u001b[0m\u001b[1;33m\u001b[0m\u001b[0m\n\u001b[0;32m    507\u001b[0m         \u001b[0mself\u001b[0m\u001b[1;33m.\u001b[0m\u001b[0mhandle\u001b[0m \u001b[1;33m=\u001b[0m \u001b[0mhandle\u001b[0m\u001b[1;33m\u001b[0m\u001b[1;33m\u001b[0m\u001b[0m\n",
      "\u001b[1;32mc:\\users\\sirec\\anaconda3\\envs\\datascience\\lib\\site-packages\\xgboost\\data.py\u001b[0m in \u001b[0;36mdispatch_data_backend\u001b[1;34m(data, missing, threads, feature_names, feature_types, enable_categorical)\u001b[0m\n\u001b[0;32m    538\u001b[0m     \u001b[1;32mif\u001b[0m \u001b[0m_is_pandas_df\u001b[0m\u001b[1;33m(\u001b[0m\u001b[0mdata\u001b[0m\u001b[1;33m)\u001b[0m\u001b[1;33m:\u001b[0m\u001b[1;33m\u001b[0m\u001b[1;33m\u001b[0m\u001b[0m\n\u001b[0;32m    539\u001b[0m         return _from_pandas_df(data, enable_categorical, missing, threads,\n\u001b[1;32m--> 540\u001b[1;33m                                feature_names, feature_types)\n\u001b[0m\u001b[0;32m    541\u001b[0m     \u001b[1;32mif\u001b[0m \u001b[0m_is_pandas_series\u001b[0m\u001b[1;33m(\u001b[0m\u001b[0mdata\u001b[0m\u001b[1;33m)\u001b[0m\u001b[1;33m:\u001b[0m\u001b[1;33m\u001b[0m\u001b[1;33m\u001b[0m\u001b[0m\n\u001b[0;32m    542\u001b[0m         return _from_pandas_series(data, missing, threads, feature_names,\n",
      "\u001b[1;32mc:\\users\\sirec\\anaconda3\\envs\\datascience\\lib\\site-packages\\xgboost\\data.py\u001b[0m in \u001b[0;36m_from_pandas_df\u001b[1;34m(data, enable_categorical, missing, nthread, feature_names, feature_types)\u001b[0m\n\u001b[0;32m    241\u001b[0m                     feature_names, feature_types):\n\u001b[0;32m    242\u001b[0m     data, feature_names, feature_types = _transform_pandas_df(\n\u001b[1;32m--> 243\u001b[1;33m         data, enable_categorical, feature_names, feature_types)\n\u001b[0m\u001b[0;32m    244\u001b[0m     return _from_numpy_array(data, missing, nthread, feature_names,\n\u001b[0;32m    245\u001b[0m                              feature_types)\n",
      "\u001b[1;32mc:\\users\\sirec\\anaconda3\\envs\\datascience\\lib\\site-packages\\xgboost\\data.py\u001b[0m in \u001b[0;36m_transform_pandas_df\u001b[1;34m(data, enable_categorical, feature_names, feature_types, meta, meta_type)\u001b[0m\n\u001b[0;32m    205\u001b[0m                 \u001b[0mcategorical\u001b[0m \u001b[0mtype\u001b[0m \u001b[1;32mis\u001b[0m \u001b[0msupplied\u001b[0m\u001b[1;33m,\u001b[0m \u001b[0mDMatrix\u001b[0m \u001b[0mparameter\u001b[0m\u001b[1;33m\u001b[0m\u001b[1;33m\u001b[0m\u001b[0m\n\u001b[0;32m    206\u001b[0m                 `enable_categorical` must be set to `True`.\"\"\"\n\u001b[1;32m--> 207\u001b[1;33m         \u001b[1;32mraise\u001b[0m \u001b[0mValueError\u001b[0m\u001b[1;33m(\u001b[0m\u001b[0mmsg\u001b[0m \u001b[1;33m+\u001b[0m \u001b[1;34m', '\u001b[0m\u001b[1;33m.\u001b[0m\u001b[0mjoin\u001b[0m\u001b[1;33m(\u001b[0m\u001b[0mbad_fields\u001b[0m\u001b[1;33m)\u001b[0m\u001b[1;33m)\u001b[0m\u001b[1;33m\u001b[0m\u001b[1;33m\u001b[0m\u001b[0m\n\u001b[0m\u001b[0;32m    208\u001b[0m \u001b[1;33m\u001b[0m\u001b[0m\n\u001b[0;32m    209\u001b[0m     \u001b[1;32mif\u001b[0m \u001b[0mfeature_names\u001b[0m \u001b[1;32mis\u001b[0m \u001b[1;32mNone\u001b[0m \u001b[1;32mand\u001b[0m \u001b[0mmeta\u001b[0m \u001b[1;32mis\u001b[0m \u001b[1;32mNone\u001b[0m\u001b[1;33m:\u001b[0m\u001b[1;33m\u001b[0m\u001b[1;33m\u001b[0m\u001b[0m\n",
      "\u001b[1;31mValueError\u001b[0m: DataFrame.dtypes for data must be int, float, bool or categorical.  When\n                categorical type is supplied, DMatrix parameter\n                `enable_categorical` must be set to `True`.Borrower, City, State, Bank, BankState, ApprovalDate, ApprovalFY, RevLineCr, LowLoan, DisbursementDate, DisbursementGross, BalanceGross, LoanAmount, GuaranteedLoan"
     ]
    }
   ],
   "source": [
    "# データ形式変換\n",
    "# pred_data=pred_data.fillna(pred_data.mean())\n",
    "test_data = xgb.DMatrix(test_data)"
   ]
  },
  {
   "cell_type": "code",
   "execution_count": null,
   "metadata": {
    "execution": {
     "iopub.status.busy": "2021-01-17T14:45:58.717927Z",
     "iopub.status.idle": "2021-01-17T14:45:58.717927Z",
     "shell.execute_reply": "2021-01-17T14:45:58.717927Z"
    }
   },
   "outputs": [],
   "source": [
    "# モデルの保存\n",
    "with open(\"data/dataset/test/\" + featureName + \"_\" + modelName + '_model.pickle', mode='wb') as f:\n",
    "    pickle.dump(model, f)"
   ]
  }
 ],
 "metadata": {
  "kernelspec": {
   "display_name": "Python 3",
   "language": "python",
   "name": "python3"
  },
  "language_info": {
   "codemirror_mode": {
    "name": "ipython",
    "version": 3
   },
   "file_extension": ".py",
   "mimetype": "text/x-python",
   "name": "python",
   "nbconvert_exporter": "python",
   "pygments_lexer": "ipython3",
   "version": "3.7.9"
  },
  "widgets": {
   "application/vnd.jupyter.widget-state+json": {
    "state": {},
    "version_major": 2,
    "version_minor": 0
   }
  }
 },
 "nbformat": 4,
 "nbformat_minor": 4
}
