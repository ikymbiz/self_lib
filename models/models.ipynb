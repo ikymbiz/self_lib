{
 "cells": [
  {
   "cell_type": "markdown",
   "metadata": {},
   "source": [
    "# models"
   ]
  },
  {
   "cell_type": "code",
   "execution_count": 4,
   "metadata": {
    "execution": {
     "iopub.execute_input": "2021-01-19T12:18:23.908004Z",
     "iopub.status.busy": "2021-01-19T12:18:23.908004Z",
     "iopub.status.idle": "2021-01-19T12:18:23.911019Z",
     "shell.execute_reply": "2021-01-19T12:18:23.911019Z",
     "shell.execute_reply.started": "2021-01-19T12:18:23.908004Z"
    }
   },
   "outputs": [],
   "source": [
    "# warningの無視\n",
    "import warnings\n",
    "warnings.filterwarnings('ignore')"
   ]
  },
  {
   "cell_type": "code",
   "execution_count": 50,
   "metadata": {
    "execution": {
     "iopub.execute_input": "2021-01-18T15:20:00.915312Z",
     "iopub.status.busy": "2021-01-18T15:20:00.914311Z",
     "iopub.status.idle": "2021-01-18T15:20:00.918314Z",
     "shell.execute_reply": "2021-01-18T15:20:00.918314Z",
     "shell.execute_reply.started": "2021-01-18T15:20:00.915312Z"
    }
   },
   "outputs": [],
   "source": [
    "# ---------------------------------\n",
    "# データ等の準備\n",
    "# ----------------------------------\n",
    "import numpy as np\n",
    "import pandas as pd"
   ]
  },
  {
   "cell_type": "code",
   "execution_count": 51,
   "metadata": {
    "execution": {
     "iopub.execute_input": "2021-01-19T14:28:46.583040Z",
     "iopub.status.busy": "2021-01-19T14:28:46.583040Z",
     "iopub.status.idle": "2021-01-19T14:28:46.610065Z",
     "shell.execute_reply": "2021-01-19T14:28:46.610065Z",
     "shell.execute_reply.started": "2021-01-19T14:28:46.583040Z"
    }
   },
   "outputs": [],
   "source": [
    "# pickleで読込む\n",
    "import pickle\n",
    "\n",
    "# 前処理済みデータ取得\n",
    "with open('../data/dataset/pre/pre_data.pickle','rb') as f:\n",
    "    pre_data = pickle.load(f)"
   ]
  },
  {
   "cell_type": "code",
   "execution_count": 52,
   "metadata": {
    "execution": {
     "iopub.execute_input": "2021-01-19T14:28:47.214150Z",
     "iopub.status.busy": "2021-01-19T14:28:47.214150Z",
     "iopub.status.idle": "2021-01-19T14:28:47.265195Z",
     "shell.execute_reply": "2021-01-19T14:28:47.265195Z",
     "shell.execute_reply.started": "2021-01-19T14:28:47.214150Z"
    }
   },
   "outputs": [],
   "source": [
    "# 欠損値処理\n",
    "pre_data=pre_data.fillna(pre_data.mean())"
   ]
  },
  {
   "cell_type": "code",
   "execution_count": 53,
   "metadata": {
    "execution": {
     "iopub.execute_input": "2021-01-19T14:28:47.746207Z",
     "iopub.status.busy": "2021-01-19T14:28:47.746207Z",
     "iopub.status.idle": "2021-01-19T14:28:47.767225Z",
     "shell.execute_reply": "2021-01-19T14:28:47.767225Z",
     "shell.execute_reply.started": "2021-01-19T14:28:47.746207Z"
    }
   },
   "outputs": [],
   "source": [
    "# 目的変数と説明変数の取得\n",
    "y=pre_data['LoanStatus']\n",
    "X=pre_data.drop(columns='LoanStatus')"
   ]
  },
  {
   "cell_type": "code",
   "execution_count": 1,
   "metadata": {
    "execution": {
     "iopub.execute_input": "2021-01-18T13:03:18.940421Z",
     "iopub.status.busy": "2021-01-18T13:03:18.940421Z",
     "iopub.status.idle": "2021-01-18T13:03:18.942423Z",
     "shell.execute_reply": "2021-01-18T13:03:18.942423Z",
     "shell.execute_reply.started": "2021-01-18T13:03:18.940421Z"
    }
   },
   "outputs": [],
   "source": [
    "# 学習データの標準化\n",
    "scaler =StandardScaler()\n",
    "tr_X=scaler.fit_transform(tr_X)\n",
    "va_X=scaler.transform(va_X)\n",
    "test_X=scaler.transform(test_X)"
   ]
  },
  {
   "cell_type": "markdown",
   "metadata": {},
   "source": []
  },
  {
   "cell_type": "markdown",
   "metadata": {},
   "source": []
  },
  {
   "cell_type": "code",
   "execution_count": 26,
   "metadata": {
    "execution": {
     "iopub.execute_input": "2021-01-18T14:56:56.088844Z",
     "iopub.status.busy": "2021-01-18T14:56:56.088844Z",
     "iopub.status.idle": "2021-01-18T14:56:56.229971Z",
     "shell.execute_reply": "2021-01-18T14:56:56.229971Z",
     "shell.execute_reply.started": "2021-01-18T14:56:56.088844Z"
    }
   },
   "outputs": [],
   "source": [
    "# 訓練データとテストデータの分割\n",
    "from sklearn.model_selection import train_test_split\n",
    "train_X, test_X, train_y, test_y = train_test_split(X, y, test_size=0.2, shuffle=True)\n",
    "train_X, valid_X, train_y, valid_y = train_test_split(train_X, train_y, test_size=0.2, shuffle=True)"
   ]
  },
  {
   "cell_type": "markdown",
   "metadata": {},
   "source": []
  },
  {
   "cell_type": "code",
   "execution_count": null,
   "metadata": {
    "execution": {
     "iopub.execute_input": "2021-01-18T15:22:23.293245Z",
     "iopub.status.busy": "2021-01-18T15:22:23.293245Z",
     "iopub.status.idle": "2021-01-18T15:22:23.302253Z",
     "shell.execute_reply": "2021-01-18T15:22:23.302253Z",
     "shell.execute_reply.started": "2021-01-18T15:22:23.293245Z"
    }
   },
   "outputs": [],
   "source": [
    "# cross validation\n",
    "# KFold\n",
    "from sklearn.model_selection import KFold\n",
    "def predict_cv(model, train_x, train_y, test_x):\n",
    "    preds = []\n",
    "    preds_test = []\n",
    "    va_idxes = []\n",
    "\n",
    "    kf = KFold(n_splits=4, shuffle=True, random_state=71)\n",
    "\n",
    "    # クロスバリデーションで学習・予測を行い、予測値とインデックスを保存する\n",
    "    for i, (tr_idx, va_idx) in enumerate(kf.split(train_x)):\n",
    "        tr_x, va_x = train_x.iloc[tr_idx], train_x.iloc[va_idx]\n",
    "        tr_y, va_y = train_y.iloc[tr_idx], train_y.iloc[va_idx]\n",
    "        model.fit(tr_x, tr_y, va_x, va_y)\n",
    "        pred = model.predict(va_x)\n",
    "        preds.append(pred)\n",
    "        pred_test = model.predict(test_x)\n",
    "        preds_test.append(pred_test)\n",
    "        va_idxes.append(va_idx)\n",
    "\n",
    "    # バリデーションデータに対する予測値を連結し、その後元の順序に並べ直す\n",
    "    va_idxes = np.concatenate(va_idxes)\n",
    "    preds = np.concatenate(preds, axis=0)\n",
    "    order = np.argsort(va_idxes)\n",
    "    pred_train = preds[order]\n",
    "\n",
    "    # テストデータに対する予測値の平均をとる\n",
    "    preds_test = np.mean(preds_test, axis=0)\n",
    "\n",
    "    return pred_train, preds_test"
   ]
  },
  {
   "cell_type": "markdown",
   "metadata": {},
   "source": []
  },
  {
   "cell_type": "code",
   "execution_count": null,
   "metadata": {},
   "outputs": [],
   "source": [
    "# グリッドサーチ\n",
    "from sklearn.model_selection import GridSearchCV\n",
    "\n",
    "params = {\n",
    "    'max_depth': [10, 20, 30],\n",
    "    'n_estimators': [10, 100, 1000]}\n",
    "\n",
    "grid = GridSearchCV(\n",
    "    estimator=RandomForestClassifier(random_state=0), # 識別器\n",
    "    param_grid=params, #　最適化したいパラメータセット\n",
    "    n_jobs=1,\n",
    "    cv=5,#　5分割交差検証\n",
    "    scoring='f1',\n",
    "    verbose=2)\n",
    "grid.fit(train_X,  train_y) "
   ]
  },
  {
   "cell_type": "code",
   "execution_count": null,
   "metadata": {},
   "outputs": [],
   "source": [
    "# 最適解でモデルを作成\n",
    "max_depth=grid.best_params_.get('max_depth')\n",
    "n_estimators=grid.best_params_.get('n_estimators')\n",
    "model = RandomForestClassifier(random_state=0, max_depth=max_depth, n_estimators=n_estimators)"
   ]
  },
  {
   "cell_type": "markdown",
   "metadata": {},
   "source": []
  },
  {
   "cell_type": "code",
   "execution_count": 11,
   "metadata": {
    "execution": {
     "iopub.execute_input": "2021-01-19T12:24:55.598472Z",
     "iopub.status.busy": "2021-01-19T12:24:55.597471Z",
     "iopub.status.idle": "2021-01-19T12:24:55.601475Z",
     "shell.execute_reply": "2021-01-19T12:24:55.601475Z",
     "shell.execute_reply.started": "2021-01-19T12:24:55.597471Z"
    }
   },
   "outputs": [],
   "source": [
    "def importances(model):\n",
    "    \"\"\" 変数重要度\n",
    "    \"\"\"\n",
    "    importances = model.feature_importances_\n",
    "    indices = np.argsort(importances)\n",
    "\n",
    "    plt.barh(range(len(indices)), importances[indices] , align='center')\n",
    "    plt.yticks(range(len(indices)), feature_X[indices])\n",
    "    plt.title('decision tree feature importance')\n",
    "    plt.xlabel('feature importance')\n",
    "    plt.ylabel('variable')\n",
    "    plt.show()"
   ]
  },
  {
   "cell_type": "markdown",
   "metadata": {},
   "source": []
  },
  {
   "cell_type": "code",
   "execution_count": 37,
   "metadata": {
    "execution": {
     "iopub.execute_input": "2021-01-19T13:48:25.608926Z",
     "iopub.status.busy": "2021-01-19T13:48:25.608926Z",
     "iopub.status.idle": "2021-01-19T13:48:25.628937Z",
     "shell.execute_reply": "2021-01-19T13:48:25.628937Z",
     "shell.execute_reply.started": "2021-01-19T13:48:25.608926Z"
    }
   },
   "outputs": [
    {
     "name": "stdout",
     "output_type": "stream",
     "text": [
      "prediction score: 0.9385964912280702\n"
     ]
    }
   ],
   "source": [
    "#Linear SVC\n",
    "from sklearn.svm import LinearSVC\n",
    "\n",
    "clf = LinearSVC(random_state=0)\n",
    "clf.fit(X_train, y_train)\n",
    "\n",
    "print(\"prediction score:\", clf.score(X_test, y_test))"
   ]
  },
  {
   "cell_type": "code",
   "execution_count": 35,
   "metadata": {
    "execution": {
     "iopub.execute_input": "2021-01-19T13:48:12.908841Z",
     "iopub.status.busy": "2021-01-19T13:48:12.908841Z",
     "iopub.status.idle": "2021-01-19T13:48:12.931862Z",
     "shell.execute_reply": "2021-01-19T13:48:12.931862Z",
     "shell.execute_reply.started": "2021-01-19T13:48:12.908841Z"
    }
   },
   "outputs": [
    {
     "name": "stdout",
     "output_type": "stream",
     "text": [
      "prediction score: 0.9298245614035088\n"
     ]
    }
   ],
   "source": [
    "# SVC\n",
    "from sklearn.svm import SVC\n",
    "\n",
    "clf = SVC(random_state=0, probability=True)\n",
    "clf.fit(X_train, y_train)\n",
    "\n",
    "print(\"prediction score:\", clf.score(X_test, y_test))"
   ]
  },
  {
   "cell_type": "markdown",
   "metadata": {},
   "source": []
  },
  {
   "cell_type": "code",
   "execution_count": 43,
   "metadata": {
    "execution": {
     "iopub.execute_input": "2021-01-19T14:03:21.135884Z",
     "iopub.status.busy": "2021-01-19T14:03:21.135884Z",
     "iopub.status.idle": "2021-01-19T14:03:21.147894Z",
     "shell.execute_reply": "2021-01-19T14:03:21.147894Z",
     "shell.execute_reply.started": "2021-01-19T14:03:21.135884Z"
    }
   },
   "outputs": [
    {
     "name": "stdout",
     "output_type": "stream",
     "text": [
      "prediction score: 0.7770403608610561\n",
      "prediction score: 0.7333104208963648\n"
     ]
    }
   ],
   "source": [
    "# 線形回帰\n",
    "from sklearn.linear_model import LinearRegression\n",
    "\n",
    "clf = LinearRegression()\n",
    "\n",
    "clf.fit(X_train, y_train)\n",
    "print(\"prediction score:\", clf.score(X_train,y_train))\n",
    "\n",
    "clf.predict(X_test)\n",
    "print(\"prediction score:\", clf.score(X_test, y_test))"
   ]
  },
  {
   "cell_type": "code",
   "execution_count": null,
   "metadata": {},
   "outputs": [],
   "source": []
  },
  {
   "cell_type": "code",
   "execution_count": 44,
   "metadata": {
    "execution": {
     "iopub.execute_input": "2021-01-19T14:03:41.648330Z",
     "iopub.status.busy": "2021-01-19T14:03:41.648330Z",
     "iopub.status.idle": "2021-01-19T14:03:41.688367Z",
     "shell.execute_reply": "2021-01-19T14:03:41.688367Z",
     "shell.execute_reply.started": "2021-01-19T14:03:41.648330Z"
    }
   },
   "outputs": [
    {
     "name": "stdout",
     "output_type": "stream",
     "text": [
      "prediction score: 0.9516483516483516\n",
      "prediction score: 0.9473684210526315\n"
     ]
    }
   ],
   "source": [
    "# ロジスティック回帰\n",
    "from sklearn.linear_model import LogisticRegression\n",
    "\n",
    "clf = LogisticRegression(random_state=0)\n",
    "\n",
    "clf.fit(X_train, y_train)\n",
    "print(\"prediction score:\", clf.score(X_train,y_train))\n",
    "\n",
    "clf.predict(X_test)\n",
    "print(\"prediction score:\", clf.score(X_test, y_test))"
   ]
  },
  {
   "cell_type": "markdown",
   "metadata": {},
   "source": []
  },
  {
   "cell_type": "code",
   "execution_count": 45,
   "metadata": {
    "execution": {
     "iopub.execute_input": "2021-01-19T14:03:45.367895Z",
     "iopub.status.busy": "2021-01-19T14:03:45.367895Z",
     "iopub.status.idle": "2021-01-19T14:03:45.383910Z",
     "shell.execute_reply": "2021-01-19T14:03:45.383910Z",
     "shell.execute_reply.started": "2021-01-19T14:03:45.367895Z"
    }
   },
   "outputs": [
    {
     "name": "stdout",
     "output_type": "stream",
     "text": [
      "prediction score: 1.0\n",
      "prediction score: 0.9122807017543859\n"
     ]
    }
   ],
   "source": [
    "# 決定木\n",
    "from sklearn.tree import DecisionTreeClassifier\n",
    "\n",
    "clf = DecisionTreeClassifier(random_state=0)\n",
    "\n",
    "clf.fit(X_train, y_train)\n",
    "print(\"prediction score:\", clf.score(X_train,y_train))\n",
    "\n",
    "clf.predict(X_test)\n",
    "print(\"prediction score:\", clf.score(X_test, y_test))"
   ]
  },
  {
   "cell_type": "markdown",
   "metadata": {},
   "source": []
  },
  {
   "cell_type": "code",
   "execution_count": 46,
   "metadata": {
    "execution": {
     "iopub.execute_input": "2021-01-19T14:03:50.840953Z",
     "iopub.status.busy": "2021-01-19T14:03:50.840953Z",
     "iopub.status.idle": "2021-01-19T14:03:51.003099Z",
     "shell.execute_reply": "2021-01-19T14:03:51.003099Z",
     "shell.execute_reply.started": "2021-01-19T14:03:50.840953Z"
    }
   },
   "outputs": [
    {
     "name": "stdout",
     "output_type": "stream",
     "text": [
      "prediction score: 1.0\n",
      "prediction score: 0.9649122807017544\n"
     ]
    }
   ],
   "source": [
    "# ランダムフォレスト\n",
    "from sklearn.ensemble import RandomForestClassifier\n",
    "\n",
    "clf = RandomForestClassifier(random_state=0)\n",
    "\n",
    "clf.fit(X_train, y_train)\n",
    "print(\"prediction score:\", clf.score(X_train,y_train))\n",
    "\n",
    "clf.predict(X_test)\n",
    "print(\"prediction score:\", clf.score(X_test, y_test))"
   ]
  },
  {
   "cell_type": "code",
   "execution_count": 47,
   "metadata": {
    "execution": {
     "iopub.execute_input": "2021-01-19T14:03:55.273894Z",
     "iopub.status.busy": "2021-01-19T14:03:55.273894Z",
     "iopub.status.idle": "2021-01-19T14:03:55.545141Z",
     "shell.execute_reply": "2021-01-19T14:03:55.545141Z",
     "shell.execute_reply.started": "2021-01-19T14:03:55.273894Z"
    }
   },
   "outputs": [
    {
     "name": "stdout",
     "output_type": "stream",
     "text": [
      "prediction score: 1.0\n",
      "prediction score: 0.9649122807017544\n"
     ]
    }
   ],
   "source": [
    "# 勾配ブースティング木\n",
    "from sklearn.ensemble import GradientBoostingClassifier\n",
    "\n",
    "clf = GradientBoostingClassifier(random_state=0)\n",
    "\n",
    "clf.fit(X_train, y_train)\n",
    "print(\"prediction score:\", clf.score(X_train,y_train))\n",
    "\n",
    "clf.predict(X_test)\n",
    "print(\"prediction score:\", clf.score(X_test, y_test))"
   ]
  },
  {
   "cell_type": "code",
   "execution_count": null,
   "metadata": {},
   "outputs": [],
   "source": [
    "\n"
   ]
  },
  {
   "cell_type": "code",
   "execution_count": null,
   "metadata": {},
   "outputs": [],
   "source": [
    "# k-NN\n",
    "from sklearn.neighbors import  KNeighborsClassifier\n",
    "\n",
    "def kNN(k,data):\n",
    "    #全サンプルと観測データ間のユークリッド距離を計算する．\n",
    "    #その際，距離を計算したサンプルのラベルも記憶しておく\n",
    "    dist_list = []\n",
    "    label_list = []\n",
    "    for i,j in enumerate(dataset):\n",
    "        dist_list.append([np.sqrt((float(j[0])-u[0])**2+(float(j[1])-u[1])**2),j[2]])\n",
    "        #print(dist_list[i])\n",
    "\n",
    "    #距離が小さい順に並べ替える\n",
    "    dist_list.sort()\n",
    "    #最近傍サンプルk個でクラス判別のための多数決を行う\n",
    "    class_label = [0,0,0]\n",
    "    for i in range(k):\n",
    "        if dist_list[i][1] == '1': class_label[0] += 1\n",
    "        elif dist_list[i][1] == '2': class_label[1] += 1\n",
    "        elif dist_list[i][1] == '3': class_label[2] += 1\n",
    "\n",
    "    print(\"最近傍サンプル\",k,\"個の内訳 : [赤(1),青(2),緑(3)] =\",class_label)\n",
    "    print()\n",
    "    print(\"kNNによる判別の結果，観測データのクラスラベルは\", class_label.index(max(class_label))+1, \"です．\")\n",
    "\n",
    "    if class_label.index(max(class_label))+1 == 1: color = 'red'\n",
    "    elif class_label.index(max(class_label))+1 == 2: color = 'blue'\n",
    "    elif class_label.index(max(class_label))+1 == 3: color = 'green'\n",
    "\n",
    "    fig = plt.figure(figsize=(12, 8))\n",
    "    plt.scatter(C1x,C1y,color='red',s=10)\n",
    "    plt.scatter(C2x,C2y,color='blue',s=10)\n",
    "    plt.scatter(C3x,C3y,color='green',s=10)\n",
    "    plt.scatter(unknown_data[0],unknown_data[1],color=color,s=100)\n",
    "    plt.show()"
   ]
  },
  {
   "cell_type": "code",
   "execution_count": null,
   "metadata": {},
   "outputs": [],
   "source": []
  },
  {
   "cell_type": "code",
   "execution_count": 49,
   "metadata": {
    "execution": {
     "iopub.execute_input": "2021-01-19T14:08:55.220007Z",
     "iopub.status.busy": "2021-01-19T14:08:55.220007Z",
     "iopub.status.idle": "2021-01-19T14:08:55.237022Z",
     "shell.execute_reply": "2021-01-19T14:08:55.237022Z",
     "shell.execute_reply.started": "2021-01-19T14:08:55.220007Z"
    }
   },
   "outputs": [],
   "source": [
    "# xgboostによるモデル\n",
    "import xgboost as xgb\n",
    "class model_Xgb:\n",
    "\n",
    "    def __init__(self):\n",
    "        self.model = None\n",
    "\n",
    "    def fit(self, tr_X, tr_y, va_x, va_y):\n",
    "        params = {\n",
    "            'booster':'gbtree',\n",
    "            'objective': 'multi:softmax',\n",
    "            'eta': 0.5,\n",
    "            'gamma': 0.0,\n",
    "            #'alph': 0.0,\n",
    "            #     'lambda': 1.0,\n",
    "            #     'min_child_weight': 1,\n",
    "            'max_depth': 2,\n",
    "            #     'subsample': 0.8,\n",
    "            #     'colsample_bytree': 0.8,\n",
    "            #     'random_state': 1,\n",
    "            'num_class': 5,\n",
    "            'eval_metric': 'mlogloss'\n",
    "                }\n",
    "        num_round = 10\n",
    "        \n",
    "        dtrain = xgb.DMatrix(tr_X, label=tr_y)\n",
    "        dvalid = xgb.DMatrix(va_x, label=va_y)\n",
    "        \n",
    "        watchlist = [(dtrain, 'train'), (dvalid, 'eval')]\n",
    "        \n",
    "        # early_stopping_rounds / \n",
    "        # 連続して評価指標が改善しなかったら学習を中断する回数\n",
    "        rounds=int(10 / params['eta'])\n",
    "        \n",
    "        self.model = xgb.train(params,\n",
    "                               dtrain,\n",
    "                               num_round,\n",
    "                               evals=watchlist,\n",
    "                               early_stopping_rounds=rounds)\n",
    "#         # 検証結果の確認\n",
    "#         print('Best Score:{0:.4f}, Iteratin:{1:d}, Ntree_Limit:{2:d}'.format(\n",
    "#              self.model.best_score, model.best_iteration, model.best_ntree_limit))\n",
    "    \n",
    "    def predict(self, x):\n",
    "        data = xgb.DMatrix(x)\n",
    "        pred = self.model.predict(data)\n",
    "        \n",
    "        # 精度の確認\n",
    "        accuracyScore = accuracy_score(test_y, pred)\n",
    "        f1Score=f1_score(test_y,pred)\n",
    "        print('accuracy_score:{0:.4f}'.format(accuracyScore))\n",
    "        print('f1_score:{0:.4f}'.format(f1Score))\n",
    "        return pred\n",
    "    \n",
    "    def plot_importance(self):\n",
    "        return xgb.plot_importance(self,model,max_num_features=20)"
   ]
  },
  {
   "cell_type": "code",
   "execution_count": 50,
   "metadata": {
    "execution": {
     "iopub.execute_input": "2021-01-19T14:08:55.554832Z",
     "iopub.status.busy": "2021-01-19T14:08:55.554832Z",
     "iopub.status.idle": "2021-01-19T14:08:55.561839Z",
     "shell.execute_reply": "2021-01-19T14:08:55.561839Z",
     "shell.execute_reply.started": "2021-01-19T14:08:55.554832Z"
    }
   },
   "outputs": [
    {
     "ename": "NameError",
     "evalue": "name 'train_X' is not defined",
     "output_type": "error",
     "traceback": [
      "\u001b[1;31m---------------------------------------------------------------------------\u001b[0m",
      "\u001b[1;31mNameError\u001b[0m                                 Traceback (most recent call last)",
      "\u001b[1;32m<ipython-input-50-f4eacea6712f>\u001b[0m in \u001b[0;36m<module>\u001b[1;34m\u001b[0m\n\u001b[0;32m      1\u001b[0m \u001b[0mclf\u001b[0m\u001b[1;33m=\u001b[0m\u001b[0mmodel_Xgb\u001b[0m\u001b[1;33m(\u001b[0m\u001b[1;33m)\u001b[0m\u001b[1;33m\u001b[0m\u001b[1;33m\u001b[0m\u001b[0m\n\u001b[1;32m----> 2\u001b[1;33m \u001b[0mclf\u001b[0m\u001b[1;33m(\u001b[0m\u001b[0mtrain_X\u001b[0m\u001b[1;33m,\u001b[0m\u001b[0mtrain_y\u001b[0m\u001b[1;33m,\u001b[0m\u001b[0mtest_X\u001b[0m\u001b[1;33m)\u001b[0m\u001b[1;33m\u001b[0m\u001b[1;33m\u001b[0m\u001b[0m\n\u001b[0m",
      "\u001b[1;31mNameError\u001b[0m: name 'train_X' is not defined"
     ]
    }
   ],
   "source": [
    "clf=model_Xgb()\n",
    "clf(train_X,train_y,test_X)"
   ]
  },
  {
   "cell_type": "code",
   "execution_count": 11,
   "metadata": {
    "execution": {
     "iopub.execute_input": "2021-01-19T11:55:32.178072Z",
     "iopub.status.busy": "2021-01-19T11:55:32.178072Z",
     "iopub.status.idle": "2021-01-19T11:55:32.182077Z",
     "shell.execute_reply": "2021-01-19T11:55:32.182077Z",
     "shell.execute_reply.started": "2021-01-19T11:55:32.178072Z"
    }
   },
   "outputs": [],
   "source": [
    "# lightgbmによるモデル\n",
    "import lightgbm as lgb\n",
    "class model_lightgbm:\n",
    "\n",
    "    def __init__(self):\n",
    "        self.model = None\n",
    "\n",
    "    def fit(self, tr_X, tr_y, va_X, va_y):\n",
    "        params ={'objective':'binary',\n",
    "                 'seed':71,\n",
    "                 'verbose':0,\n",
    "                 'metrics':'binary_logloss'}\n",
    "        num_round = 10\n",
    "        \n",
    "        lgb_train=lgb.Dataset(tr_X,tr_y)\n",
    "        lgb_eval=lgb.Dataset(va_X,va_y)\n",
    "        \n",
    "        self.model = lgb.train(params,\n",
    "                               lgb_train,\n",
    "                               num_boost_round=num_round,\n",
    "                               #categorical_feature=categorical_featutres,\n",
    "                               valid_names=['train','valid'],\n",
    "                               valid_sets=[lgb_train,lgb_eval])\n",
    "\n",
    "    def predict(self, X):\n",
    "#         data = lgb.Dataset(X)\n",
    "#         pred = self.model.predict(data)\n",
    "        pred = self.model.predict(X)\n",
    "        logloss=log_loss(pred,X,eps=1e-7)\n",
    "        accuracy_score=accuracy_score(pred, X)\n",
    "        f1_score=f1_score(train_y, pred_train_1a)\n",
    "        print(f'logloss_score:{logloss}')\n",
    "        print(f'accuracy_score:{accuracy}')\n",
    "        print(f'f1_score:{f1_score}')        \n",
    "        return pred"
   ]
  },
  {
   "cell_type": "code",
   "execution_count": 37,
   "metadata": {
    "execution": {
     "iopub.execute_input": "2021-01-19T12:08:13.866167Z",
     "iopub.status.busy": "2021-01-19T12:08:13.865167Z",
     "iopub.status.idle": "2021-01-19T12:08:13.870163Z",
     "shell.execute_reply": "2021-01-19T12:08:13.870163Z",
     "shell.execute_reply.started": "2021-01-19T12:08:13.866167Z"
    }
   },
   "outputs": [],
   "source": [
    "# tensorflowの警告抑制\n",
    "os.environ['TF_CPP_MIN_LOG_LEVEL'] = '1'\n",
    "import tensorflow as tf\n",
    "tf.compat.v1.logging.set_verbosity(tf.compat.v1.logging.ERROR)"
   ]
  },
  {
   "cell_type": "code",
   "execution_count": null,
   "metadata": {},
   "outputs": [],
   "source": [
    "# ニューラルネットによるモデル\n",
    "from keras.models import Sequential\n",
    "from keras.layers import Dense, Dropout\n",
    "class model_NN:\n",
    "\n",
    "    def __init__(self):\n",
    "        self.model = None\n",
    "        self.scaler = None\n",
    "\n",
    "    def fit(self, tr_X, tr_y, va_x, va_y):\n",
    "        self.scaler = StandardScaler()\n",
    "        self.scaler.fit(tr_X)\n",
    "\n",
    "        batch_size = 128\n",
    "        epochs = 10\n",
    "\n",
    "        tr_X = self.scaler.transform(tr_X)\n",
    "        va_x = self.scaler.transform(va_x)\n",
    "        model = Sequential()\n",
    "        model.add(Dense(256, activation='relu', input_shape=(tr_X.shape[1],)))\n",
    "        model.add(Dropout(0.2))\n",
    "        model.add(Dense(256, activation='relu'))\n",
    "        model.add(Dropout(0.2))\n",
    "        model.add(Dense(1, activation='sigmoid'))\n",
    "\n",
    "        model.compile(loss='binary_crossentropy', optimizer='adam')\n",
    "\n",
    "        history = model.fit(tr_X, tr_y,\n",
    "                            batch_size=batch_size, epochs=epochs,\n",
    "                            verbose=1, validation_data=(va_x, va_y))\n",
    "        self.model = model\n",
    "\n",
    "    def predict(self, x):\n",
    "        x = self.scaler.transform(x)\n",
    "        pred = self.model.predict_proba(x).reshape(-1)\n",
    "        return pred"
   ]
  },
  {
   "cell_type": "code",
   "execution_count": null,
   "metadata": {},
   "outputs": [],
   "source": []
  },
  {
   "cell_type": "markdown",
   "metadata": {},
   "source": [
    "#### stacking"
   ]
  },
  {
   "cell_type": "code",
   "execution_count": 56,
   "metadata": {
    "execution": {
     "iopub.execute_input": "2021-01-19T14:30:10.908525Z",
     "iopub.status.busy": "2021-01-19T14:30:10.908525Z",
     "iopub.status.idle": "2021-01-19T14:30:11.187778Z",
     "shell.execute_reply": "2021-01-19T14:30:11.187778Z",
     "shell.execute_reply.started": "2021-01-19T14:30:10.908525Z"
    }
   },
   "outputs": [
    {
     "name": "stdout",
     "output_type": "stream",
     "text": [
      "prediction score: 0.9472527472527472\n",
      "prediction score: 0.9649122807017544\n"
     ]
    }
   ],
   "source": [
    "# stacking\n",
    "from sklearn.ensemble import StackingClassifier\n",
    "\n",
    "estimators = [('logreg', LogisticRegression(random_state=0)),\n",
    "                ('lsvc', LinearSVC(random_state=0))]\n",
    "\n",
    "stacking_clf = StackingClassifier(estimators=estimators,\n",
    "                                  final_estimator=DecisionTreeClassifier(random_state=0))\n",
    "\n",
    "stacking_clf.fit(X_train, y_train)\n",
    "print(\"prediction score:\", stacking_clf.score(X_train,y_train))\n",
    "\n",
    "stacking_clf.predict(X_test)\n",
    "print(\"prediction score:\", stacking_clf.score(X_test, y_test))"
   ]
  },
  {
   "cell_type": "code",
   "execution_count": null,
   "metadata": {},
   "outputs": [],
   "source": [
    "y_pred="
   ]
  },
  {
   "cell_type": "code",
   "execution_count": null,
   "metadata": {},
   "outputs": [],
   "source": []
  },
  {
   "cell_type": "code",
   "execution_count": null,
   "metadata": {},
   "outputs": [],
   "source": [
    "# pipe_line\n",
    "\"\"\"一連の処理ステップをEstimatorとしてまとめることができる。\n",
    "① 標準化 → ② 次元削減 → ③ ランダムフォレストで学習\n",
    "の流れを、グリッドサーチ＋CVで検証する場合の例を記載。\n",
    "\"\"\"\n",
    "from sklearn.pipeline import Pipeline\n",
    "from sklearn.preprocessing import StandardScaler\n",
    "from sklearn.decomposition import PCA\n",
    "\n",
    "# パイプライン生成\n",
    "pipe = Pipeline([('scaler', StandardScaler()),\n",
    "                 ('pca', PCA()),\n",
    "                 ('rf', RandomForestClassifier(random_state=0))])\n",
    "\n",
    "# グリッドサーチ用の探索ハイパーパラメータ設定\n",
    "param_grid = {\n",
    "    'pca__n_components': [2, 3, 4],\n",
    "    'rf__n_estimators' : [2, 10, 100],\n",
    "    'rf__max_depth' : [10, 100, 1000]\n",
    "}\n",
    "\n",
    "grid_search = GridSearchCV(pipe, param_grid , cv=5)\n",
    "grid_search.fit(X_train, y_train)\n",
    "\n",
    "print('test_score : {}'.format(grid_search.score(X_test, y_test)))\n",
    "print('best_params : {}'.format(grid_search.best_params_))"
   ]
  },
  {
   "cell_type": "code",
   "execution_count": null,
   "metadata": {},
   "outputs": [],
   "source": [
    "# make_pipeline\n",
    "\n",
    "from sklearn.pipeline import make_pipeline\n",
    "\n",
    "pipe = make_pipeline(StandardScaler(), PCA(), RandomForestClassifier(random_state=0))\n",
    "\n",
    "param_grid = {\n",
    "    'pca__n_components': [2, 3, 4],\n",
    "    'randomforestclassifier__n_estimators' : [2, 10, 100],\n",
    "    'randomforestclassifier__max_depth' : [10, 100, 1000]\n",
    "}"
   ]
  },
  {
   "cell_type": "code",
   "execution_count": null,
   "metadata": {},
   "outputs": [],
   "source": []
  },
  {
   "cell_type": "markdown",
   "metadata": {},
   "source": [
    "### 評価指標"
   ]
  },
  {
   "cell_type": "markdown",
   "metadata": {},
   "source": [
    "https://scikit-learn.org/stable/modules/model_evaluation.html#scoring-parameter"
   ]
  },
  {
   "cell_type": "markdown",
   "metadata": {},
   "source": [
    "分類"
   ]
  },
  {
   "cell_type": "code",
   "execution_count": 39,
   "metadata": {
    "execution": {
     "iopub.execute_input": "2021-01-19T13:53:42.021830Z",
     "iopub.status.busy": "2021-01-19T13:53:42.021830Z",
     "iopub.status.idle": "2021-01-19T13:53:42.027828Z",
     "shell.execute_reply": "2021-01-19T13:53:42.027828Z",
     "shell.execute_reply.started": "2021-01-19T13:53:42.021830Z"
    }
   },
   "outputs": [
    {
     "ename": "NameError",
     "evalue": "name 'y_true' is not defined",
     "output_type": "error",
     "traceback": [
      "\u001b[1;31m---------------------------------------------------------------------------\u001b[0m",
      "\u001b[1;31mNameError\u001b[0m                                 Traceback (most recent call last)",
      "\u001b[1;32m<ipython-input-39-0fdfb77fbe8c>\u001b[0m in \u001b[0;36m<module>\u001b[1;34m\u001b[0m\n\u001b[0;32m      1\u001b[0m \u001b[1;31m# classification_report\u001b[0m\u001b[1;33m\u001b[0m\u001b[1;33m\u001b[0m\u001b[1;33m\u001b[0m\u001b[0m\n\u001b[0;32m      2\u001b[0m \u001b[1;32mfrom\u001b[0m \u001b[0msklearn\u001b[0m\u001b[1;33m.\u001b[0m\u001b[0mmetrics\u001b[0m \u001b[1;32mimport\u001b[0m \u001b[0mclassification_report\u001b[0m\u001b[1;33m\u001b[0m\u001b[1;33m\u001b[0m\u001b[0m\n\u001b[1;32m----> 3\u001b[1;33m \u001b[0mclassification_report\u001b[0m\u001b[1;33m(\u001b[0m\u001b[0my_true\u001b[0m\u001b[1;33m,\u001b[0m \u001b[0my_pred\u001b[0m\u001b[1;33m)\u001b[0m\u001b[1;33m\u001b[0m\u001b[1;33m\u001b[0m\u001b[0m\n\u001b[0m",
      "\u001b[1;31mNameError\u001b[0m: name 'y_true' is not defined"
     ]
    }
   ],
   "source": [
    "# classification_report\n",
    "from sklearn.metrics import classification_report\n",
    "classification_report(y_true, y_pred)"
   ]
  },
  {
   "cell_type": "code",
   "execution_count": null,
   "metadata": {},
   "outputs": [],
   "source": [
    "# 混同行列\n",
    "from sklearn.metrics import confusion_matrix\n",
    "confusion_matrix=confusion_matrix(test_y,pred_y)\n",
    "print(f'accuracy_score : {confusion_matrix}')"
   ]
  },
  {
   "cell_type": "code",
   "execution_count": 21,
   "metadata": {
    "execution": {
     "iopub.execute_input": "2021-01-19T12:36:35.026726Z",
     "iopub.status.busy": "2021-01-19T12:36:35.026726Z",
     "iopub.status.idle": "2021-01-19T12:36:35.029738Z",
     "shell.execute_reply": "2021-01-19T12:36:35.029738Z",
     "shell.execute_reply.started": "2021-01-19T12:36:35.026726Z"
    }
   },
   "outputs": [],
   "source": [
    "# 正解率\n",
    "# 結果がどの程度正解していたか\n",
    "from sklearn.metrics import accuracy_score\n",
    "accuracy_score=accuracy_score(test_y,pred_y)\n",
    "print(f'accuracy_score : {accuracy_score}')"
   ]
  },
  {
   "cell_type": "code",
   "execution_count": null,
   "metadata": {},
   "outputs": [],
   "source": [
    "# 適合率\n",
    "# Positiveと予想したデータの中で正解した割合\n",
    "# 偽陽性の数を制限したい場合\n",
    "from sklearn.metrics import precision_score\n",
    "precision_score=precision_score(test_y,pred_y)\n",
    "print(f'precision_score : {precision_score}')"
   ]
  },
  {
   "cell_type": "code",
   "execution_count": null,
   "metadata": {},
   "outputs": [],
   "source": [
    "# 再現率\n",
    "# 陽性のうち、陽性と予測されたデータの割合\n",
    "from sklearn.metrics import recall_score\n",
    "recall_score=recall_score(test_y,pred_y)\n",
    "print(f'recall_score : {recall_score}')"
   ]
  },
  {
   "cell_type": "code",
   "execution_count": null,
   "metadata": {},
   "outputs": [],
   "source": [
    "# F値\n",
    "# 適合率と再現率の調和平均\n",
    "from sklearn.metrics import f1_score\n",
    "f1_score=f1_score(test_y,pred_y)\n",
    "print(f'f1_score : {f1_score}')"
   ]
  },
  {
   "cell_type": "markdown",
   "metadata": {},
   "source": [
    "回帰"
   ]
  },
  {
   "cell_type": "code",
   "execution_count": null,
   "metadata": {},
   "outputs": [],
   "source": [
    "# RMSE\n",
    "from sklearn.metrics import mean_squared_error\n",
    "from math import sqrt\n",
    "RMSE=sqrt(mean_squared_error(test_y,pred_y))\n",
    "print(f'RMSE : {RMSE}')"
   ]
  },
  {
   "cell_type": "code",
   "execution_count": 23,
   "metadata": {
    "collapsed": true,
    "execution": {
     "iopub.execute_input": "2021-01-19T13:21:02.064728Z",
     "iopub.status.busy": "2021-01-19T13:21:02.064728Z",
     "iopub.status.idle": "2021-01-19T13:21:02.068731Z",
     "shell.execute_reply": "2021-01-19T13:21:02.068731Z",
     "shell.execute_reply.started": "2021-01-19T13:21:02.064728Z"
    },
    "jupyter": {
     "outputs_hidden": true
    }
   },
   "outputs": [
    {
     "data": {
      "text/plain": [
       "'‘explained_variance’\\nmetrics.explained_variance_score\\n\\n‘max_error’\\nmetrics.max_error\\n\\n‘neg_mean_absolute_error’\\nmetrics.mean_absolute_error\\n\\n‘neg_mean_squared_error’\\nmetrics.mean_squared_error\\n\\n‘neg_root_mean_squared_error’\\nmetrics.mean_squared_error\\n\\n‘neg_mean_squared_log_error’\\nmetrics.mean_squared_log_error\\n\\n‘neg_median_absolute_error’\\nmetrics.median_absolute_error\\n\\n‘r2’\\nmetrics.r2_score\\n\\n‘neg_mean_poisson_deviance’\\nmetrics.mean_poisson_deviance\\n\\n‘neg_mean_gamma_deviance’\\nmetrics.mean_gamma_deviance\\n\\n‘neg_mean_absolute_percentage_error’\\nmetrics.mean_absolute_percentage_error'"
      ]
     },
     "execution_count": 23,
     "metadata": {},
     "output_type": "execute_result"
    }
   ],
   "source": [
    "\"\"\"‘explained_variance’\n",
    "metrics.explained_variance_score\n",
    "\n",
    "‘max_error’\n",
    "metrics.max_error\n",
    "\n",
    "‘neg_mean_absolute_error’\n",
    "metrics.mean_absolute_error\n",
    "\n",
    "‘neg_mean_squared_error’\n",
    "metrics.mean_squared_error\n",
    "\n",
    "‘neg_root_mean_squared_error’\n",
    "metrics.mean_squared_error\n",
    "\n",
    "‘neg_mean_squared_log_error’\n",
    "metrics.mean_squared_log_error\n",
    "\n",
    "‘neg_median_absolute_error’\n",
    "metrics.median_absolute_error\n",
    "\n",
    "‘r2’\n",
    "metrics.r2_score\n",
    "\n",
    "‘neg_mean_poisson_deviance’\n",
    "metrics.mean_poisson_deviance\n",
    "\n",
    "‘neg_mean_gamma_deviance’\n",
    "metrics.mean_gamma_deviance\n",
    "\n",
    "‘neg_mean_absolute_percentage_error’\n",
    "metrics.mean_absolute_percentage_error\"\"\""
   ]
  },
  {
   "cell_type": "code",
   "execution_count": null,
   "metadata": {},
   "outputs": [],
   "source": []
  },
  {
   "cell_type": "code",
   "execution_count": 32,
   "metadata": {
    "execution": {
     "iopub.execute_input": "2021-01-18T15:04:39.395166Z",
     "iopub.status.busy": "2021-01-18T15:04:39.395166Z",
     "iopub.status.idle": "2021-01-18T15:04:39.399169Z",
     "shell.execute_reply": "2021-01-18T15:04:39.399169Z",
     "shell.execute_reply.started": "2021-01-18T15:04:39.395166Z"
    }
   },
   "outputs": [],
   "source": [
    "# モデルの保存\n",
    "with open('../_submit/stacking_model_Xgb_NN.pickle', mode='wb') as f:\n",
    "    pickle.dump(model_2, f)"
   ]
  },
  {
   "cell_type": "markdown",
   "metadata": {},
   "source": [
    "### 提出用データの予測/作成"
   ]
  },
  {
   "cell_type": "code",
   "execution_count": 35,
   "metadata": {
    "execution": {
     "iopub.execute_input": "2021-01-18T15:05:11.027118Z",
     "iopub.status.busy": "2021-01-18T15:05:11.027118Z",
     "iopub.status.idle": "2021-01-18T15:05:11.479193Z",
     "shell.execute_reply": "2021-01-18T15:05:11.479193Z",
     "shell.execute_reply.started": "2021-01-18T15:05:11.027118Z"
    }
   },
   "outputs": [],
   "source": [
    "# テストデータの取得\n",
    "with open('../data/dataset/raw/test_data.pickle','rb') as f:\n",
    "    pred_data = pickle.load(f)"
   ]
  },
  {
   "cell_type": "code",
   "execution_count": 36,
   "metadata": {
    "execution": {
     "iopub.execute_input": "2021-01-18T15:05:21.377393Z",
     "iopub.status.busy": "2021-01-18T15:05:21.377393Z",
     "iopub.status.idle": "2021-01-18T15:05:21.380396Z",
     "shell.execute_reply": "2021-01-18T15:05:21.380396Z",
     "shell.execute_reply.started": "2021-01-18T15:05:21.377393Z"
    }
   },
   "outputs": [],
   "source": [
    "# モデルの取り出し\n",
    "with open('../_submit/stacking_model_Xgb_NN.pickle', mode='rb') as f:\n",
    "    model = pickle.load(f)"
   ]
  },
  {
   "cell_type": "code",
   "execution_count": 37,
   "metadata": {
    "collapsed": true,
    "execution": {
     "iopub.execute_input": "2021-01-18T15:05:23.556615Z",
     "iopub.status.busy": "2021-01-18T15:05:23.555614Z",
     "iopub.status.idle": "2021-01-18T15:05:23.688074Z",
     "shell.execute_reply": "2021-01-18T15:05:23.687074Z",
     "shell.execute_reply.started": "2021-01-18T15:05:23.556615Z"
    },
    "jupyter": {
     "outputs_hidden": true
    }
   },
   "outputs": [
    {
     "ename": "ValueError",
     "evalue": "could not convert string to float: 'aaaavgcebciyrso'",
     "output_type": "error",
     "traceback": [
      "\u001b[1;31m---------------------------------------------------------------------------\u001b[0m",
      "\u001b[1;31mValueError\u001b[0m                                Traceback (most recent call last)",
      "\u001b[1;32m<ipython-input-37-683281fb8d30>\u001b[0m in \u001b[0;36m<module>\u001b[1;34m\u001b[0m\n\u001b[0;32m      1\u001b[0m \u001b[1;31m# 予測\u001b[0m\u001b[1;33m\u001b[0m\u001b[1;33m\u001b[0m\u001b[1;33m\u001b[0m\u001b[0m\n\u001b[1;32m----> 2\u001b[1;33m \u001b[0mpred_data\u001b[0m \u001b[1;33m=\u001b[0m \u001b[0mmodel\u001b[0m\u001b[1;33m.\u001b[0m\u001b[0mpredict\u001b[0m\u001b[1;33m(\u001b[0m\u001b[0mpred_data\u001b[0m\u001b[1;33m)\u001b[0m\u001b[1;33m\u001b[0m\u001b[1;33m\u001b[0m\u001b[0m\n\u001b[0m",
      "\u001b[1;32mD:\\DataScience\\jupyter_projects\\Competitions\\グループ横断データ分析コンテスト\\scripts\\models\\models.py\u001b[0m in \u001b[0;36mpredict\u001b[1;34m(self, x)\u001b[0m\n\u001b[0;32m    124\u001b[0m \u001b[1;33m\u001b[0m\u001b[0m\n\u001b[0;32m    125\u001b[0m     \u001b[1;32mdef\u001b[0m \u001b[0mpredict\u001b[0m\u001b[1;33m(\u001b[0m\u001b[0mself\u001b[0m\u001b[1;33m,\u001b[0m \u001b[0mx\u001b[0m\u001b[1;33m)\u001b[0m\u001b[1;33m:\u001b[0m\u001b[1;33m\u001b[0m\u001b[1;33m\u001b[0m\u001b[0m\n\u001b[1;32m--> 126\u001b[1;33m         \u001b[0mx\u001b[0m \u001b[1;33m=\u001b[0m \u001b[0mself\u001b[0m\u001b[1;33m.\u001b[0m\u001b[0mscaler\u001b[0m\u001b[1;33m.\u001b[0m\u001b[0mtransform\u001b[0m\u001b[1;33m(\u001b[0m\u001b[0mx\u001b[0m\u001b[1;33m)\u001b[0m\u001b[1;33m\u001b[0m\u001b[1;33m\u001b[0m\u001b[0m\n\u001b[0m\u001b[0;32m    127\u001b[0m         \u001b[0mpred\u001b[0m \u001b[1;33m=\u001b[0m \u001b[0mself\u001b[0m\u001b[1;33m.\u001b[0m\u001b[0mmodel\u001b[0m\u001b[1;33m.\u001b[0m\u001b[0mpredict_proba\u001b[0m\u001b[1;33m(\u001b[0m\u001b[0mx\u001b[0m\u001b[1;33m)\u001b[0m\u001b[1;33m[\u001b[0m\u001b[1;33m:\u001b[0m\u001b[1;33m,\u001b[0m \u001b[1;36m1\u001b[0m\u001b[1;33m]\u001b[0m\u001b[1;33m\u001b[0m\u001b[1;33m\u001b[0m\u001b[0m\n\u001b[0;32m    128\u001b[0m         \u001b[1;32mreturn\u001b[0m \u001b[0mpred\u001b[0m\u001b[1;33m\u001b[0m\u001b[1;33m\u001b[0m\u001b[0m\n",
      "\u001b[1;32mc:\\users\\sirec\\anaconda3\\envs\\datascience\\lib\\site-packages\\sklearn\\preprocessing\\_data.py\u001b[0m in \u001b[0;36mtransform\u001b[1;34m(self, X, copy)\u001b[0m\n\u001b[0;32m    881\u001b[0m                                 \u001b[0maccept_sparse\u001b[0m\u001b[1;33m=\u001b[0m\u001b[1;34m'csr'\u001b[0m\u001b[1;33m,\u001b[0m \u001b[0mcopy\u001b[0m\u001b[1;33m=\u001b[0m\u001b[0mcopy\u001b[0m\u001b[1;33m,\u001b[0m\u001b[1;33m\u001b[0m\u001b[1;33m\u001b[0m\u001b[0m\n\u001b[0;32m    882\u001b[0m                                 \u001b[0mestimator\u001b[0m\u001b[1;33m=\u001b[0m\u001b[0mself\u001b[0m\u001b[1;33m,\u001b[0m \u001b[0mdtype\u001b[0m\u001b[1;33m=\u001b[0m\u001b[0mFLOAT_DTYPES\u001b[0m\u001b[1;33m,\u001b[0m\u001b[1;33m\u001b[0m\u001b[1;33m\u001b[0m\u001b[0m\n\u001b[1;32m--> 883\u001b[1;33m                                 force_all_finite='allow-nan')\n\u001b[0m\u001b[0;32m    884\u001b[0m \u001b[1;33m\u001b[0m\u001b[0m\n\u001b[0;32m    885\u001b[0m         \u001b[1;32mif\u001b[0m \u001b[0msparse\u001b[0m\u001b[1;33m.\u001b[0m\u001b[0missparse\u001b[0m\u001b[1;33m(\u001b[0m\u001b[0mX\u001b[0m\u001b[1;33m)\u001b[0m\u001b[1;33m:\u001b[0m\u001b[1;33m\u001b[0m\u001b[1;33m\u001b[0m\u001b[0m\n",
      "\u001b[1;32mc:\\users\\sirec\\anaconda3\\envs\\datascience\\lib\\site-packages\\sklearn\\base.py\u001b[0m in \u001b[0;36m_validate_data\u001b[1;34m(self, X, y, reset, validate_separately, **check_params)\u001b[0m\n\u001b[0;32m    419\u001b[0m             \u001b[0mout\u001b[0m \u001b[1;33m=\u001b[0m \u001b[0mX\u001b[0m\u001b[1;33m\u001b[0m\u001b[1;33m\u001b[0m\u001b[0m\n\u001b[0;32m    420\u001b[0m         \u001b[1;32melif\u001b[0m \u001b[0misinstance\u001b[0m\u001b[1;33m(\u001b[0m\u001b[0my\u001b[0m\u001b[1;33m,\u001b[0m \u001b[0mstr\u001b[0m\u001b[1;33m)\u001b[0m \u001b[1;32mand\u001b[0m \u001b[0my\u001b[0m \u001b[1;33m==\u001b[0m \u001b[1;34m'no_validation'\u001b[0m\u001b[1;33m:\u001b[0m\u001b[1;33m\u001b[0m\u001b[1;33m\u001b[0m\u001b[0m\n\u001b[1;32m--> 421\u001b[1;33m             \u001b[0mX\u001b[0m \u001b[1;33m=\u001b[0m \u001b[0mcheck_array\u001b[0m\u001b[1;33m(\u001b[0m\u001b[0mX\u001b[0m\u001b[1;33m,\u001b[0m \u001b[1;33m**\u001b[0m\u001b[0mcheck_params\u001b[0m\u001b[1;33m)\u001b[0m\u001b[1;33m\u001b[0m\u001b[1;33m\u001b[0m\u001b[0m\n\u001b[0m\u001b[0;32m    422\u001b[0m             \u001b[0mout\u001b[0m \u001b[1;33m=\u001b[0m \u001b[0mX\u001b[0m\u001b[1;33m\u001b[0m\u001b[1;33m\u001b[0m\u001b[0m\n\u001b[0;32m    423\u001b[0m         \u001b[1;32melse\u001b[0m\u001b[1;33m:\u001b[0m\u001b[1;33m\u001b[0m\u001b[1;33m\u001b[0m\u001b[0m\n",
      "\u001b[1;32mc:\\users\\sirec\\anaconda3\\envs\\datascience\\lib\\site-packages\\sklearn\\utils\\validation.py\u001b[0m in \u001b[0;36minner_f\u001b[1;34m(*args, **kwargs)\u001b[0m\n\u001b[0;32m     61\u001b[0m             \u001b[0mextra_args\u001b[0m \u001b[1;33m=\u001b[0m \u001b[0mlen\u001b[0m\u001b[1;33m(\u001b[0m\u001b[0margs\u001b[0m\u001b[1;33m)\u001b[0m \u001b[1;33m-\u001b[0m \u001b[0mlen\u001b[0m\u001b[1;33m(\u001b[0m\u001b[0mall_args\u001b[0m\u001b[1;33m)\u001b[0m\u001b[1;33m\u001b[0m\u001b[1;33m\u001b[0m\u001b[0m\n\u001b[0;32m     62\u001b[0m             \u001b[1;32mif\u001b[0m \u001b[0mextra_args\u001b[0m \u001b[1;33m<=\u001b[0m \u001b[1;36m0\u001b[0m\u001b[1;33m:\u001b[0m\u001b[1;33m\u001b[0m\u001b[1;33m\u001b[0m\u001b[0m\n\u001b[1;32m---> 63\u001b[1;33m                 \u001b[1;32mreturn\u001b[0m \u001b[0mf\u001b[0m\u001b[1;33m(\u001b[0m\u001b[1;33m*\u001b[0m\u001b[0margs\u001b[0m\u001b[1;33m,\u001b[0m \u001b[1;33m**\u001b[0m\u001b[0mkwargs\u001b[0m\u001b[1;33m)\u001b[0m\u001b[1;33m\u001b[0m\u001b[1;33m\u001b[0m\u001b[0m\n\u001b[0m\u001b[0;32m     64\u001b[0m \u001b[1;33m\u001b[0m\u001b[0m\n\u001b[0;32m     65\u001b[0m             \u001b[1;31m# extra_args > 0\u001b[0m\u001b[1;33m\u001b[0m\u001b[1;33m\u001b[0m\u001b[1;33m\u001b[0m\u001b[0m\n",
      "\u001b[1;32mc:\\users\\sirec\\anaconda3\\envs\\datascience\\lib\\site-packages\\sklearn\\utils\\validation.py\u001b[0m in \u001b[0;36mcheck_array\u001b[1;34m(array, accept_sparse, accept_large_sparse, dtype, order, copy, force_all_finite, ensure_2d, allow_nd, ensure_min_samples, ensure_min_features, estimator)\u001b[0m\n\u001b[0;32m    614\u001b[0m                     \u001b[0marray\u001b[0m \u001b[1;33m=\u001b[0m \u001b[0marray\u001b[0m\u001b[1;33m.\u001b[0m\u001b[0mastype\u001b[0m\u001b[1;33m(\u001b[0m\u001b[0mdtype\u001b[0m\u001b[1;33m,\u001b[0m \u001b[0mcasting\u001b[0m\u001b[1;33m=\u001b[0m\u001b[1;34m\"unsafe\"\u001b[0m\u001b[1;33m,\u001b[0m \u001b[0mcopy\u001b[0m\u001b[1;33m=\u001b[0m\u001b[1;32mFalse\u001b[0m\u001b[1;33m)\u001b[0m\u001b[1;33m\u001b[0m\u001b[1;33m\u001b[0m\u001b[0m\n\u001b[0;32m    615\u001b[0m                 \u001b[1;32melse\u001b[0m\u001b[1;33m:\u001b[0m\u001b[1;33m\u001b[0m\u001b[1;33m\u001b[0m\u001b[0m\n\u001b[1;32m--> 616\u001b[1;33m                     \u001b[0marray\u001b[0m \u001b[1;33m=\u001b[0m \u001b[0mnp\u001b[0m\u001b[1;33m.\u001b[0m\u001b[0masarray\u001b[0m\u001b[1;33m(\u001b[0m\u001b[0marray\u001b[0m\u001b[1;33m,\u001b[0m \u001b[0morder\u001b[0m\u001b[1;33m=\u001b[0m\u001b[0morder\u001b[0m\u001b[1;33m,\u001b[0m \u001b[0mdtype\u001b[0m\u001b[1;33m=\u001b[0m\u001b[0mdtype\u001b[0m\u001b[1;33m)\u001b[0m\u001b[1;33m\u001b[0m\u001b[1;33m\u001b[0m\u001b[0m\n\u001b[0m\u001b[0;32m    617\u001b[0m             \u001b[1;32mexcept\u001b[0m \u001b[0mComplexWarning\u001b[0m \u001b[1;32mas\u001b[0m \u001b[0mcomplex_warning\u001b[0m\u001b[1;33m:\u001b[0m\u001b[1;33m\u001b[0m\u001b[1;33m\u001b[0m\u001b[0m\n\u001b[0;32m    618\u001b[0m                 raise ValueError(\"Complex data not supported\\n\"\n",
      "\u001b[1;32mc:\\users\\sirec\\anaconda3\\envs\\datascience\\lib\\site-packages\\numpy\\core\\_asarray.py\u001b[0m in \u001b[0;36masarray\u001b[1;34m(a, dtype, order)\u001b[0m\n\u001b[0;32m     81\u001b[0m \u001b[1;33m\u001b[0m\u001b[0m\n\u001b[0;32m     82\u001b[0m     \"\"\"\n\u001b[1;32m---> 83\u001b[1;33m     \u001b[1;32mreturn\u001b[0m \u001b[0marray\u001b[0m\u001b[1;33m(\u001b[0m\u001b[0ma\u001b[0m\u001b[1;33m,\u001b[0m \u001b[0mdtype\u001b[0m\u001b[1;33m,\u001b[0m \u001b[0mcopy\u001b[0m\u001b[1;33m=\u001b[0m\u001b[1;32mFalse\u001b[0m\u001b[1;33m,\u001b[0m \u001b[0morder\u001b[0m\u001b[1;33m=\u001b[0m\u001b[0morder\u001b[0m\u001b[1;33m)\u001b[0m\u001b[1;33m\u001b[0m\u001b[1;33m\u001b[0m\u001b[0m\n\u001b[0m\u001b[0;32m     84\u001b[0m \u001b[1;33m\u001b[0m\u001b[0m\n\u001b[0;32m     85\u001b[0m \u001b[1;33m\u001b[0m\u001b[0m\n",
      "\u001b[1;32mc:\\users\\sirec\\anaconda3\\envs\\datascience\\lib\\site-packages\\pandas\\core\\generic.py\u001b[0m in \u001b[0;36m__array__\u001b[1;34m(self, dtype)\u001b[0m\n\u001b[0;32m   1894\u001b[0m \u001b[1;33m\u001b[0m\u001b[0m\n\u001b[0;32m   1895\u001b[0m     \u001b[1;32mdef\u001b[0m \u001b[0m__array__\u001b[0m\u001b[1;33m(\u001b[0m\u001b[0mself\u001b[0m\u001b[1;33m,\u001b[0m \u001b[0mdtype\u001b[0m\u001b[1;33m=\u001b[0m\u001b[1;32mNone\u001b[0m\u001b[1;33m)\u001b[0m \u001b[1;33m->\u001b[0m \u001b[0mnp\u001b[0m\u001b[1;33m.\u001b[0m\u001b[0mndarray\u001b[0m\u001b[1;33m:\u001b[0m\u001b[1;33m\u001b[0m\u001b[1;33m\u001b[0m\u001b[0m\n\u001b[1;32m-> 1896\u001b[1;33m         \u001b[1;32mreturn\u001b[0m \u001b[0mnp\u001b[0m\u001b[1;33m.\u001b[0m\u001b[0masarray\u001b[0m\u001b[1;33m(\u001b[0m\u001b[0mself\u001b[0m\u001b[1;33m.\u001b[0m\u001b[0m_values\u001b[0m\u001b[1;33m,\u001b[0m \u001b[0mdtype\u001b[0m\u001b[1;33m=\u001b[0m\u001b[0mdtype\u001b[0m\u001b[1;33m)\u001b[0m\u001b[1;33m\u001b[0m\u001b[1;33m\u001b[0m\u001b[0m\n\u001b[0m\u001b[0;32m   1897\u001b[0m \u001b[1;33m\u001b[0m\u001b[0m\n\u001b[0;32m   1898\u001b[0m     def __array_wrap__(\n",
      "\u001b[1;32mc:\\users\\sirec\\anaconda3\\envs\\datascience\\lib\\site-packages\\numpy\\core\\_asarray.py\u001b[0m in \u001b[0;36masarray\u001b[1;34m(a, dtype, order)\u001b[0m\n\u001b[0;32m     81\u001b[0m \u001b[1;33m\u001b[0m\u001b[0m\n\u001b[0;32m     82\u001b[0m     \"\"\"\n\u001b[1;32m---> 83\u001b[1;33m     \u001b[1;32mreturn\u001b[0m \u001b[0marray\u001b[0m\u001b[1;33m(\u001b[0m\u001b[0ma\u001b[0m\u001b[1;33m,\u001b[0m \u001b[0mdtype\u001b[0m\u001b[1;33m,\u001b[0m \u001b[0mcopy\u001b[0m\u001b[1;33m=\u001b[0m\u001b[1;32mFalse\u001b[0m\u001b[1;33m,\u001b[0m \u001b[0morder\u001b[0m\u001b[1;33m=\u001b[0m\u001b[0morder\u001b[0m\u001b[1;33m)\u001b[0m\u001b[1;33m\u001b[0m\u001b[1;33m\u001b[0m\u001b[0m\n\u001b[0m\u001b[0;32m     84\u001b[0m \u001b[1;33m\u001b[0m\u001b[0m\n\u001b[0;32m     85\u001b[0m \u001b[1;33m\u001b[0m\u001b[0m\n",
      "\u001b[1;31mValueError\u001b[0m: could not convert string to float: 'aaaavgcebciyrso'"
     ]
    }
   ],
   "source": [
    "# 予測\n",
    "pred_data = model.predict(pred_data)"
   ]
  },
  {
   "cell_type": "code",
   "execution_count": null,
   "metadata": {
    "execution": {
     "iopub.status.busy": "2021-01-17T13:22:51.008010Z",
     "iopub.status.idle": "2021-01-17T13:22:51.008010Z",
     "shell.execute_reply": "2021-01-17T13:22:51.008010Z"
    }
   },
   "outputs": [],
   "source": [
    "# dump pred_data\n",
    "filename= featureName + \"_\" + modelName + submitVer + \".pickle\"\n",
    "\n",
    "with open(filepath + filename','wb') as f:\n",
    "    pickle.dump(pred_data,f)"
   ]
  }
 ],
 "metadata": {
  "kernelspec": {
   "display_name": "Python 3",
   "language": "python",
   "name": "python3"
  },
  "language_info": {
   "codemirror_mode": {
    "name": "ipython",
    "version": 3
   },
   "file_extension": ".py",
   "mimetype": "text/x-python",
   "name": "python",
   "nbconvert_exporter": "python",
   "pygments_lexer": "ipython3",
   "version": "3.7.9"
  },
  "widgets": {
   "application/vnd.jupyter.widget-state+json": {
    "state": {},
    "version_major": 2,
    "version_minor": 0
   }
  }
 },
 "nbformat": 4,
 "nbformat_minor": 4
}
