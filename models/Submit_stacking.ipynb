{
 "cells": [
  {
   "cell_type": "markdown",
   "metadata": {},
   "source": [
    "# Submit"
   ]
  },
  {
   "cell_type": "code",
   "execution_count": 2,
   "metadata": {
    "execution": {
     "iopub.execute_input": "2021-01-17T14:20:43.758896Z",
     "iopub.status.busy": "2021-01-17T14:20:43.757903Z",
     "iopub.status.idle": "2021-01-17T14:20:43.760906Z",
     "shell.execute_reply": "2021-01-17T14:20:43.760906Z",
     "shell.execute_reply.started": "2021-01-17T14:20:43.758896Z"
    }
   },
   "outputs": [],
   "source": [
    "# warningの無視\n",
    "import warnings\n",
    "warnings.filterwarnings('ignore')"
   ]
  },
  {
   "cell_type": "code",
   "execution_count": 28,
   "metadata": {
    "execution": {
     "iopub.execute_input": "2021-01-23T16:17:41.537614Z",
     "iopub.status.busy": "2021-01-23T16:17:41.537614Z",
     "iopub.status.idle": "2021-01-23T16:17:41.555630Z",
     "shell.execute_reply": "2021-01-23T16:17:41.555630Z",
     "shell.execute_reply.started": "2021-01-23T16:17:41.537614Z"
    }
   },
   "outputs": [],
   "source": [
    "# 標準ライブラリ\n",
    "import pickle\n",
    "import datetime\n",
    "from dateutil.relativedelta import relativedelta\n",
    "\n",
    "# basic\n",
    "import pandas as pd\n",
    "import numpy as np\n",
    "\n",
    "# visualize\n",
    "import matplotlib.pyplot as plt\n",
    "import seaborn as sns\n",
    "sns.set()\n",
    "\n",
    "# Preprocessing\n",
    "import category_encoders as ce\n",
    "from sklearn.model_selection import train_test_split\n",
    "from sklearn.preprocessing import StandardScaler\n",
    "\n",
    "# Categorize Models\n",
    "import xgboost as xgb\n",
    "# https://qiita.com/FJyusk56/items/0649f4362587261bd57a\n",
    "\n",
    "# Regression Models\n",
    "from sklearn.linear_model import LogisticRegression\n",
    "\n",
    "# 指標\n",
    "from sklearn.model_selection import train_test_split\n",
    "from sklearn.metrics import accuracy_score\n",
    "from sklearn.metrics import f1_score\n",
    "\n",
    "# User defined functions\n",
    "from self_lib import tips\n",
    "from self_lib import doggie_tail as d_\n",
    "from self_lib import giraffe as graph\n",
    "from self_lib import timer as t\n",
    "\n",
    "# Jupyter上で図を表示するためのコマンド\n",
    "%matplotlib inline"
   ]
  },
  {
   "cell_type": "markdown",
   "metadata": {},
   "source": [
    "### 提出用データの予測/作成"
   ]
  },
  {
   "cell_type": "code",
   "execution_count": 29,
   "metadata": {
    "execution": {
     "iopub.execute_input": "2021-01-23T16:17:42.368247Z",
     "iopub.status.busy": "2021-01-23T16:17:42.368247Z",
     "iopub.status.idle": "2021-01-23T16:17:42.400276Z",
     "shell.execute_reply": "2021-01-23T16:17:42.400276Z",
     "shell.execute_reply.started": "2021-01-23T16:17:42.368247Z"
    }
   },
   "outputs": [],
   "source": [
    "# テストデータの取得\n",
    "with open('../data/feature/test_feature_data_X.pickle','rb') as f:\n",
    "    data = pickle.load(f)"
   ]
  },
  {
   "cell_type": "code",
   "execution_count": 32,
   "metadata": {
    "execution": {
     "iopub.execute_input": "2021-01-23T16:17:49.188477Z",
     "iopub.status.busy": "2021-01-23T16:17:49.187486Z",
     "iopub.status.idle": "2021-01-23T16:17:49.190487Z",
     "shell.execute_reply": "2021-01-23T16:17:49.190487Z",
     "shell.execute_reply.started": "2021-01-23T16:17:49.188477Z"
    }
   },
   "outputs": [
    {
     "data": {
      "text/plain": [
       "(194669, 92)"
      ]
     },
     "execution_count": 32,
     "metadata": {},
     "output_type": "execute_result"
    }
   ],
   "source": [
    "data.shape"
   ]
  },
  {
   "cell_type": "markdown",
   "metadata": {},
   "source": [
    "単体モデルで予測"
   ]
  },
  {
   "cell_type": "code",
   "execution_count": 59,
   "metadata": {
    "execution": {
     "iopub.execute_input": "2021-01-23T15:17:12.022542Z",
     "iopub.status.busy": "2021-01-23T15:17:12.022542Z",
     "iopub.status.idle": "2021-01-23T15:17:12.790232Z",
     "shell.execute_reply": "2021-01-23T15:17:12.790232Z",
     "shell.execute_reply.started": "2021-01-23T15:17:12.022542Z"
    }
   },
   "outputs": [],
   "source": [
    "# train base model\n",
    "# base_model_1 = pd.read_pickle(\"../data/models/model_GS_XGB.pickle\")\n",
    "base_model_2 = pd.read_pickle(\"../data/models/model_GS_LGBM.pickle\")\n",
    "# base_model_3 = pd.read_pickle(\"../data/models/model_GS_ExTree.pickle\")\n",
    "# base_model_4 = pd.read_pickle(\"../data/models/model_GS_GB.pickle\")\n",
    "base_model_5 = pd.read_pickle(\"../data/models/model_GS_RFM.pickle\")\n",
    "# base_model_6 = pd.read_pickle(\"../data/models/model_GS_Ridge.pickle\")\n",
    "# base_model_7 = pd.read_pickle(\"../data/models/model_GS_KN.pickle\")\n",
    "# base_model_8 = pd.read_pickle(\"../data/models/model_GS_TSNE.pickle\")\n",
    "# base_model_9 = NN()"
   ]
  },
  {
   "cell_type": "code",
   "execution_count": 108,
   "metadata": {
    "execution": {
     "iopub.execute_input": "2021-01-23T16:42:32.602190Z",
     "iopub.status.busy": "2021-01-23T16:42:32.601189Z",
     "iopub.status.idle": "2021-01-23T16:42:36.803011Z",
     "shell.execute_reply": "2021-01-23T16:42:36.803011Z",
     "shell.execute_reply.started": "2021-01-23T16:42:32.602190Z"
    }
   },
   "outputs": [],
   "source": [
    "# base predicts\n",
    "# base_pred_1 = base_model_1.predict_proba(train_X)\n",
    "base_pred_2 = base_model_2.predict_proba(train_X)\n",
    "# base_pred_3 = base_model_3.predict_proba(train_X)\n",
    "# base_pred_4 = base_model_4.predict_proba(train_X)\n",
    "# base_pred_5 = base_model_5.predict_proba(train_X)\n",
    "# base_pred_6 = base_model_6.predict_proba(train_X)\n",
    "base_pred_7 = base_model_7.predict_proba(train_X)\n",
    "# base_pred_8 = base_model_8.predict_proba(train_X)\n",
    "# base_pred_9 = base_model_9.predict_proba(train_X)"
   ]
  },
  {
   "cell_type": "markdown",
   "metadata": {},
   "source": [
    "予測結果からstackingモデルの学習データを作成"
   ]
  },
  {
   "cell_type": "code",
   "execution_count": 101,
   "metadata": {
    "execution": {
     "iopub.execute_input": "2021-01-23T16:39:34.776139Z",
     "iopub.status.busy": "2021-01-23T16:39:34.776139Z",
     "iopub.status.idle": "2021-01-23T16:39:34.779142Z",
     "shell.execute_reply": "2021-01-23T16:39:34.779142Z",
     "shell.execute_reply.started": "2021-01-23T16:39:34.776139Z"
    }
   },
   "outputs": [],
   "source": [
    "# stacking モデルの　trainデータを作成 \n",
    "stack_data = np.column_stack((base_pred_2, base_pred_5))"
   ]
  },
  {
   "cell_type": "code",
   "execution_count": null,
   "metadata": {},
   "outputs": [],
   "source": [
    "stack_model = pd.read_pickle('../data/models/model_Stacking.pickle')"
   ]
  },
  {
   "cell_type": "code",
   "execution_count": null,
   "metadata": {},
   "outputs": [],
   "source": [
    "pred = stack_model.predict(test_X)"
   ]
  },
  {
   "cell_type": "code",
   "execution_count": 31,
   "metadata": {
    "execution": {
     "iopub.execute_input": "2021-01-23T16:17:48.138858Z",
     "iopub.status.busy": "2021-01-23T16:17:48.138858Z",
     "iopub.status.idle": "2021-01-23T16:17:48.167876Z",
     "shell.execute_reply": "2021-01-23T16:17:48.167876Z",
     "shell.execute_reply.started": "2021-01-23T16:17:48.138858Z"
    }
   },
   "outputs": [],
   "source": [
    "# モデルの取得\n",
    "model = pd.read_pickle('../data/models/model_GS_LGBM.pickle')"
   ]
  },
  {
   "cell_type": "code",
   "execution_count": 33,
   "metadata": {
    "execution": {
     "iopub.execute_input": "2021-01-23T16:17:50.321203Z",
     "iopub.status.busy": "2021-01-23T16:17:50.321203Z",
     "iopub.status.idle": "2021-01-23T16:17:51.215006Z",
     "shell.execute_reply": "2021-01-23T16:17:51.215006Z",
     "shell.execute_reply.started": "2021-01-23T16:17:50.321203Z"
    }
   },
   "outputs": [],
   "source": [
    "# 予測\n",
    "pred_data = model.predict(stack_data)"
   ]
  },
  {
   "cell_type": "markdown",
   "metadata": {},
   "source": [
    "提出用データに加工"
   ]
  },
  {
   "cell_type": "code",
   "execution_count": 39,
   "metadata": {
    "execution": {
     "iopub.execute_input": "2021-01-23T16:27:24.105995Z",
     "iopub.status.busy": "2021-01-23T16:27:24.105995Z",
     "iopub.status.idle": "2021-01-23T16:27:24.420400Z",
     "shell.execute_reply": "2021-01-23T16:27:24.420400Z",
     "shell.execute_reply.started": "2021-01-23T16:27:24.105995Z"
    }
   },
   "outputs": [],
   "source": [
    "filepath= \"../data/submit/\"\n",
    "filename= \"submit_0124_1.csv\"\n",
    "\n",
    "# 提出サンプルデータの読み込み\n",
    "form_data=pd.read_csv('../data/raw/sample_submission.csv')\n",
    "\n",
    "# 提出用のデータを作成し、csv形式で保存\n",
    "form_data['LoanStatus'] = pred_data\n",
    "form_data.to_csv(filepath + filename, index=False)"
   ]
  },
  {
   "cell_type": "code",
   "execution_count": 38,
   "metadata": {
    "execution": {
     "iopub.execute_input": "2021-01-23T16:26:41.380937Z",
     "iopub.status.busy": "2021-01-23T16:26:41.379936Z",
     "iopub.status.idle": "2021-01-23T16:26:41.383940Z",
     "shell.execute_reply": "2021-01-23T16:26:41.383940Z",
     "shell.execute_reply.started": "2021-01-23T16:26:41.380937Z"
    }
   },
   "outputs": [
    {
     "data": {
      "text/plain": [
       "array([0, 0, 0, ..., 0, 0, 0], dtype=int64)"
      ]
     },
     "execution_count": 38,
     "metadata": {},
     "output_type": "execute_result"
    }
   ],
   "source": [
    "pred_data"
   ]
  },
  {
   "cell_type": "code",
   "execution_count": null,
   "metadata": {},
   "outputs": [],
   "source": []
  }
 ],
 "metadata": {
  "kernelspec": {
   "display_name": "Python 3",
   "language": "python",
   "name": "python3"
  },
  "language_info": {
   "codemirror_mode": {
    "name": "ipython",
    "version": 3
   },
   "file_extension": ".py",
   "mimetype": "text/x-python",
   "name": "python",
   "nbconvert_exporter": "python",
   "pygments_lexer": "ipython3",
   "version": "3.7.9"
  },
  "widgets": {
   "application/vnd.jupyter.widget-state+json": {
    "state": {},
    "version_major": 2,
    "version_minor": 0
   }
  }
 },
 "nbformat": 4,
 "nbformat_minor": 4
}
