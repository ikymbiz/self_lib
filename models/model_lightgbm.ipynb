{
 "cells": [
  {
   "cell_type": "markdown",
   "metadata": {},
   "source": [
    "# lightgbm"
   ]
  },
  {
   "cell_type": "code",
   "execution_count": null,
   "metadata": {},
   "outputs": [],
   "source": [
    "import lightgbm as lgb\n",
    "from sklearn.metrics import log_loss"
   ]
  },
  {
   "cell_type": "code",
   "execution_count": null,
   "metadata": {},
   "outputs": [],
   "source": [
    "# 特徴量と目的変数をlightgbmのデータ構造に変換する\n",
    "lgb_train=lgb.Dataset(tr_X,tr_y)\n",
    "lgb_eval=lgb.Dataset(va_X,va_y)"
   ]
  },
  {
   "cell_type": "code",
   "execution_count": null,
   "metadata": {},
   "outputs": [],
   "source": [
    "# 入パラメータの設定\n",
    "params = {'objective':'binary','seed':71,'verbose':0,'metrics'='binary_logloss'}\n",
    "num_round=100"
   ]
  },
  {
   "cell_type": "code",
   "execution_count": 1,
   "metadata": {
    "execution": {
     "iopub.execute_input": "2021-01-18T13:19:40.061414Z",
     "iopub.status.busy": "2021-01-18T13:19:40.061414Z",
     "iopub.status.idle": "2021-01-18T13:19:40.064408Z",
     "shell.execute_reply": "2021-01-18T13:19:40.064408Z",
     "shell.execute_reply.started": "2021-01-18T13:19:40.061414Z"
    }
   },
   "outputs": [],
   "source": [
    "# 学習の実行\n",
    "# カテゴリ変数をパラメータで指定している\n",
    "# バリデーションデータもモデルに渡す\n",
    "# 学習の振興ととともにスコアがどう変わるかモニタリングする\n",
    "categorical_features=['product','','','']\n",
    "model=lgb.train(params,\n",
    "                lgb_train,\n",
    "                num_boost_round=num_round,\n",
    "                categorical_feature=categorical_featutres,\n",
    "                calid_names=['train','valid'],\n",
    "               valid_sets=[lgb_train,lgb_eval])"
   ]
  },
  {
   "cell_type": "code",
   "execution_count": null,
   "metadata": {},
   "outputs": [],
   "source": [
    "# バリデーションデータでのスコアの確認\n",
    "va_pred=model.predict(va_X)\n",
    "score=log_loss(va_y,va_pred)\n",
    "print(f'logloss:{score:.4f}')"
   ]
  },
  {
   "cell_type": "code",
   "execution_count": null,
   "metadata": {},
   "outputs": [],
   "source": [
    "# 予測\n",
    "pred=model.predict(test_X)"
   ]
  }
 ],
 "metadata": {
  "kernelspec": {
   "display_name": "Python 3",
   "language": "python",
   "name": "python3"
  },
  "language_info": {
   "codemirror_mode": {
    "name": "ipython",
    "version": 3
   },
   "file_extension": ".py",
   "mimetype": "text/x-python",
   "name": "python",
   "nbconvert_exporter": "python",
   "pygments_lexer": "ipython3",
   "version": "3.7.9"
  },
  "widgets": {
   "application/vnd.jupyter.widget-state+json": {
    "state": {},
    "version_major": 2,
    "version_minor": 0
   }
  }
 },
 "nbformat": 4,
 "nbformat_minor": 4
}
