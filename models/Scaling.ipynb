{
 "cells": [
  {
   "cell_type": "markdown",
   "metadata": {},
   "source": [
    "Scaling"
   ]
  },
  {
   "cell_type": "code",
   "execution_count": 15,
   "metadata": {
    "execution": {
     "iopub.execute_input": "2021-01-24T05:25:14.604451Z",
     "iopub.status.busy": "2021-01-24T05:25:14.604451Z",
     "iopub.status.idle": "2021-01-24T05:25:14.607454Z",
     "shell.execute_reply": "2021-01-24T05:25:14.607454Z",
     "shell.execute_reply.started": "2021-01-24T05:25:14.604451Z"
    }
   },
   "outputs": [],
   "source": [
    "import pickle\n",
    "import pandas as pd\n",
    "from sklearn.model_selection import train_test_split\n",
    "from sklearn.preprocessing import StandardScaler"
   ]
  },
  {
   "cell_type": "code",
   "execution_count": 21,
   "metadata": {
    "execution": {
     "iopub.execute_input": "2021-01-24T05:34:16.373453Z",
     "iopub.status.busy": "2021-01-24T05:34:16.373453Z",
     "iopub.status.idle": "2021-01-24T05:34:16.738296Z",
     "shell.execute_reply": "2021-01-24T05:34:16.737785Z",
     "shell.execute_reply.started": "2021-01-24T05:34:16.373453Z"
    }
   },
   "outputs": [],
   "source": [
    "# 目的変数と説明変数の取得\n",
    "y=pd.read_pickle('../data/feature/pre_feature_data_y.pickle')\n",
    "X=pd.read_pickle('../data/feature/pre_feature_data_X.pickle')\n",
    "# submit_X=pd.read_pickle('../data/feature/test_feature_data_X.pickle')\n",
    "\n",
    "# 訓練データとテストデータの分割\n",
    "train_valid_X, test_X, train_valid_y, test_y = train_test_split(X, y, test_size=0.2, shuffle=True)\n",
    "# train_X, test_X, train_y, test_y = train_test_split(X, y, test_size=0.2, shuffle=True)\n",
    "\n",
    "# 訓練データと検証データの分割\n",
    "train_X, valid_X, train_y, valid_y = train_test_split(train_valid_X, train_valid_y, test_size=0.2, shuffle=True)\n",
    "\n",
    "train_X.to_pickle('../data/feature/train_X.pickle')\n",
    "valid_X.to_pickle('../data/feature/valid_X.pickle')\n",
    "\n",
    "train_y.to_pickle('../data/feature/train_y.pickle')\n",
    "valid_y.to_pickle('../data/feature/valid_y.pickle')\n",
    "\n",
    "test_X.to_pickle('../data/feature/test_X.pickle')\n",
    "test_y.to_pickle('../data/feature/test_y.pickle')"
   ]
  },
  {
   "cell_type": "code",
   "execution_count": 22,
   "metadata": {
    "execution": {
     "iopub.execute_input": "2021-01-24T05:34:17.526998Z",
     "iopub.status.busy": "2021-01-24T05:34:17.526998Z",
     "iopub.status.idle": "2021-01-24T05:34:19.189004Z",
     "shell.execute_reply": "2021-01-24T05:34:19.189004Z",
     "shell.execute_reply.started": "2021-01-24T05:34:17.526998Z"
    }
   },
   "outputs": [],
   "source": [
    "# データのスケーリング\n",
    "scaler =StandardScaler()\n",
    "train_X=scaler.fit_transform(train_X)\n",
    "valid_X=scaler.transform(valid_X)\n",
    "test_X=scaler.transform(test_X)\n",
    "# submit_X=scaler.transform(submit_X)\n",
    "\n",
    "path=\"../data/feature/\"\n",
    "with open(path + 'train_X.pickle', mode='wb') as f:\n",
    "    pickle.dump(train_X, f)\n",
    "\n",
    "with open(path + 'valid_X.pickle', mode='wb') as f:\n",
    "    pickle.dump(valid_X, f)\n",
    "\n",
    "with open(path + 'test_X.pickle', mode='wb') as f:\n",
    "    pickle.dump(test_X, f)\n",
    "\n",
    "# with open(path + 'submit_X.pickle', mode='wb') as f:\n",
    "#     pickle.dump(train_X, f)\n"
   ]
  },
  {
   "cell_type": "code",
   "execution_count": 23,
   "metadata": {
    "execution": {
     "iopub.execute_input": "2021-01-24T05:34:19.190007Z",
     "iopub.status.busy": "2021-01-24T05:34:19.190007Z",
     "iopub.status.idle": "2021-01-24T05:34:19.193002Z",
     "shell.execute_reply": "2021-01-24T05:34:19.193002Z",
     "shell.execute_reply.started": "2021-01-24T05:34:19.190007Z"
    }
   },
   "outputs": [
    {
     "data": {
      "text/plain": [
       "(51096, 93)"
      ]
     },
     "execution_count": 23,
     "metadata": {},
     "output_type": "execute_result"
    }
   ],
   "source": [
    "test_X.shape"
   ]
  },
  {
   "cell_type": "code",
   "execution_count": 24,
   "metadata": {
    "execution": {
     "iopub.execute_input": "2021-01-24T05:34:19.991103Z",
     "iopub.status.busy": "2021-01-24T05:34:19.991103Z",
     "iopub.status.idle": "2021-01-24T05:34:19.994105Z",
     "shell.execute_reply": "2021-01-24T05:34:19.994105Z",
     "shell.execute_reply.started": "2021-01-24T05:34:19.991103Z"
    }
   },
   "outputs": [
    {
     "data": {
      "text/plain": [
       "(51096,)"
      ]
     },
     "execution_count": 24,
     "metadata": {},
     "output_type": "execute_result"
    }
   ],
   "source": [
    "test_y.shape"
   ]
  },
  {
   "cell_type": "code",
   "execution_count": 25,
   "metadata": {
    "execution": {
     "iopub.execute_input": "2021-01-24T05:34:21.463205Z",
     "iopub.status.busy": "2021-01-24T05:34:21.463205Z",
     "iopub.status.idle": "2021-01-24T05:34:21.466206Z",
     "shell.execute_reply": "2021-01-24T05:34:21.466206Z",
     "shell.execute_reply.started": "2021-01-24T05:34:21.463205Z"
    }
   },
   "outputs": [
    {
     "data": {
      "text/plain": [
       "(163504, 93)"
      ]
     },
     "execution_count": 25,
     "metadata": {},
     "output_type": "execute_result"
    }
   ],
   "source": [
    "train_X.shape"
   ]
  },
  {
   "cell_type": "code",
   "execution_count": null,
   "metadata": {},
   "outputs": [],
   "source": []
  }
 ],
 "metadata": {
  "kernelspec": {
   "display_name": "Python 3",
   "language": "python",
   "name": "python3"
  },
  "language_info": {
   "codemirror_mode": {
    "name": "ipython",
    "version": 3
   },
   "file_extension": ".py",
   "mimetype": "text/x-python",
   "name": "python",
   "nbconvert_exporter": "python",
   "pygments_lexer": "ipython3",
   "version": "3.7.9"
  },
  "widgets": {
   "application/vnd.jupyter.widget-state+json": {
    "state": {},
    "version_major": 2,
    "version_minor": 0
   }
  }
 },
 "nbformat": 4,
 "nbformat_minor": 4
}
