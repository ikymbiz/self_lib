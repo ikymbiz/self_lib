{
 "cells": [
  {
   "cell_type": "markdown",
   "metadata": {},
   "source": [
    "# Scaling"
   ]
  },
  {
   "cell_type": "code",
   "execution_count": null,
   "metadata": {},
   "outputs": [],
   "source": [
    "import pickle\n",
    "import pandas as pd\n",
    "from sklearn.model_selection import train_test_split\n",
    "from sklearn.preprocessing import StandardScaler"
   ]
  },
  {
   "cell_type": "code",
   "execution_count": null,
   "metadata": {},
   "outputs": [],
   "source": [
    "# 目的変数と説明変数の取得\n",
    "y=pd.read_pickle('../data/feature/pre_feature_data_y.pickle')\n",
    "X=pd.read_pickle('../data/feature/pre_feature_data_X.pickle')\n",
    "submit_X=pd.read_pickle('../data/feature/test_feature_data_X.pickle')\n",
    "\n",
    "# # 訓練データとテストデータの分割\n",
    "# train_valid_X, test_X, train_valid_y, test_y = train_test_split(X, y, test_size=0.2, shuffle=True)\n",
    "# train_X, test_X, train_y, test_y = train_test_split(X, y, test_size=0.2, shuffle=True)\n",
    "\n",
    "# 訓練データと検証データの分割\n",
    "# train_X, valid_X, train_y, valid_y = train_test_split(train_valid_X, train_valid_y, test_size=0.2, shuffle=True)\n",
    "\n",
    "train_X, valid_X, train_y, valid_y = train_test_split(X, y, test_size=0.2, shuffle=True)\n",
    "\n",
    "\n",
    "\n",
    "train_X.to_pickle('../data/feature/train_X.pickle')\n",
    "valid_X.to_pickle('../data/feature/valid_X.pickle')\n",
    "\n",
    "train_y.to_pickle('../data/feature/train_y.pickle')\n",
    "valid_y.to_pickle('../data/feature/valid_y.pickle')\n",
    "\n",
    "# test_X.to_pickle('../data/feature/test_X.pickle')\n",
    "# test_y.to_pickle('../data/feature/test_y.pickle')"
   ]
  },
  {
   "cell_type": "markdown",
   "metadata": {},
   "source": [
    " "
   ]
  },
  {
   "cell_type": "code",
   "execution_count": 55,
   "metadata": {
    "execution": {
     "iopub.execute_input": "2021-01-26T16:25:53.055315Z",
     "iopub.status.busy": "2021-01-26T16:25:53.055315Z",
     "iopub.status.idle": "2021-01-26T16:25:53.738933Z",
     "shell.execute_reply": "2021-01-26T16:25:53.738933Z",
     "shell.execute_reply.started": "2021-01-26T16:25:53.055315Z"
    }
   },
   "outputs": [],
   "source": [
    "# train_X\n",
    "# クラスタリングを実行後、データを連結する\n",
    "train_feature=pd.read_pickle(\"../data/feature/cluster_features/train_features.pickle\")\n",
    "\n",
    "train_X=train_X.join(train_feature)\n",
    "train_X.to_pickle('../data/feature/train_X.pickle')"
   ]
  },
  {
   "cell_type": "code",
   "execution_count": 56,
   "metadata": {
    "execution": {
     "iopub.execute_input": "2021-01-26T16:25:53.739933Z",
     "iopub.status.busy": "2021-01-26T16:25:53.739933Z",
     "iopub.status.idle": "2021-01-26T16:25:53.864023Z",
     "shell.execute_reply": "2021-01-26T16:25:53.864023Z",
     "shell.execute_reply.started": "2021-01-26T16:25:53.739933Z"
    }
   },
   "outputs": [],
   "source": [
    "# valid\n",
    "valid_feature=pd.read_pickle(\"../data/feature/cluster_features/valid_features.pickle\")\n",
    "\n",
    "valid_X=valid_X.join(valid_feature)\n",
    "valid_X.to_pickle('../data/feature/valid_X.pickle')"
   ]
  },
  {
   "cell_type": "code",
   "execution_count": 57,
   "metadata": {
    "execution": {
     "iopub.execute_input": "2021-01-26T16:25:56.148034Z",
     "iopub.status.busy": "2021-01-26T16:25:56.147032Z",
     "iopub.status.idle": "2021-01-26T16:25:56.150035Z",
     "shell.execute_reply": "2021-01-26T16:25:56.150035Z",
     "shell.execute_reply.started": "2021-01-26T16:25:56.148034Z"
    }
   },
   "outputs": [],
   "source": [
    "# # test\n",
    "# test_feature=pd.read_pickle(\"../data/feature/cluster_features/test_features.pickle\")\n",
    "\n",
    "# test_X=test_X.join(test_feature)\n",
    "# test_X.to_pickle('../data/feature/test_X.pickle')"
   ]
  },
  {
   "cell_type": "code",
   "execution_count": 58,
   "metadata": {
    "execution": {
     "iopub.execute_input": "2021-01-26T16:25:56.556048Z",
     "iopub.status.busy": "2021-01-26T16:25:56.555047Z",
     "iopub.status.idle": "2021-01-26T16:25:56.656731Z",
     "shell.execute_reply": "2021-01-26T16:25:56.656731Z",
     "shell.execute_reply.started": "2021-01-26T16:25:56.556048Z"
    }
   },
   "outputs": [
    {
     "ename": "AttributeError",
     "evalue": "'numpy.ndarray' object has no attribute 'join'",
     "output_type": "error",
     "traceback": [
      "\u001b[1;31m---------------------------------------------------------------------------\u001b[0m",
      "\u001b[1;31mAttributeError\u001b[0m                            Traceback (most recent call last)",
      "\u001b[1;32m<ipython-input-58-13f9c23c8861>\u001b[0m in \u001b[0;36m<module>\u001b[1;34m\u001b[0m\n\u001b[0;32m      2\u001b[0m \u001b[0msubmit_feature\u001b[0m\u001b[1;33m=\u001b[0m\u001b[0mpd\u001b[0m\u001b[1;33m.\u001b[0m\u001b[0mread_pickle\u001b[0m\u001b[1;33m(\u001b[0m\u001b[1;34m\"../data/feature/cluster_features/submit_features.pickle\"\u001b[0m\u001b[1;33m)\u001b[0m\u001b[1;33m\u001b[0m\u001b[1;33m\u001b[0m\u001b[0m\n\u001b[0;32m      3\u001b[0m \u001b[1;33m\u001b[0m\u001b[0m\n\u001b[1;32m----> 4\u001b[1;33m \u001b[0msubmit_X\u001b[0m\u001b[1;33m=\u001b[0m\u001b[0msubmit_X\u001b[0m\u001b[1;33m.\u001b[0m\u001b[0mjoin\u001b[0m\u001b[1;33m(\u001b[0m\u001b[0msubmit_feature\u001b[0m\u001b[1;33m)\u001b[0m\u001b[1;33m\u001b[0m\u001b[1;33m\u001b[0m\u001b[0m\n\u001b[0m\u001b[0;32m      5\u001b[0m \u001b[0msubmit_X\u001b[0m\u001b[1;33m.\u001b[0m\u001b[0mto_pickle\u001b[0m\u001b[1;33m(\u001b[0m\u001b[1;34m'../data/feature/test_feature_data_X.pickle'\u001b[0m\u001b[1;33m)\u001b[0m\u001b[1;33m\u001b[0m\u001b[1;33m\u001b[0m\u001b[0m\n",
      "\u001b[1;31mAttributeError\u001b[0m: 'numpy.ndarray' object has no attribute 'join'"
     ]
    }
   ],
   "source": [
    "# submit\n",
    "submit_feature=pd.read_pickle(\"../data/feature/cluster_features/submit_features.pickle\")\n",
    "\n",
    "submit_X=submit_X.join(submit_feature)\n",
    "submit_X.to_pickle('../data/feature/test_feature_data_X.pickle')"
   ]
  },
  {
   "cell_type": "markdown",
   "metadata": {},
   "source": [
    " "
   ]
  },
  {
   "cell_type": "code",
   "execution_count": 53,
   "metadata": {
    "execution": {
     "iopub.execute_input": "2021-01-26T16:05:29.293559Z",
     "iopub.status.busy": "2021-01-26T16:05:29.293559Z",
     "iopub.status.idle": "2021-01-26T16:05:34.268083Z",
     "shell.execute_reply": "2021-01-26T16:05:34.268083Z",
     "shell.execute_reply.started": "2021-01-26T16:05:29.293559Z"
    }
   },
   "outputs": [
    {
     "name": "stderr",
     "output_type": "stream",
     "text": [
      "c:\\users\\sirec\\anaconda3\\envs\\datascience\\lib\\site-packages\\sklearn\\utils\\extmath.py:847: RuntimeWarning: invalid value encountered in true_divide\n",
      "  updated_mean = (last_sum + new_sum) / updated_sample_count\n",
      "c:\\users\\sirec\\anaconda3\\envs\\datascience\\lib\\site-packages\\sklearn\\utils\\extmath.py:689: RuntimeWarning: Degrees of freedom <= 0 for slice.\n",
      "  result = op(x, *args, **kwargs)\n"
     ]
    }
   ],
   "source": [
    "# データのスケーリング\n",
    "scaler =StandardScaler()\n",
    "train_X=scaler.fit_transform(train_X)\n",
    "valid_X=scaler.transform(valid_X)\n",
    "test_X=scaler.transform(test_X)\n",
    "submit_X=scaler.transform(submit_X)\n",
    "\n",
    "path=\"../data/feature/\"\n",
    "with open(path + 'train_X.pickle', mode='wb') as f:\n",
    "    pickle.dump(train_X, f)\n",
    "\n",
    "with open(path + 'valid_X.pickle', mode='wb') as f:\n",
    "    pickle.dump(valid_X, f)\n",
    "\n",
    "# with open(path + 'test_X.pickle', mode='wb') as f:\n",
    "#     pickle.dump(test_X, f)\n",
    "\n",
    "with open(path + 'test_feature_data_X.pickle', mode='wb') as f:\n",
    "    pickle.dump(submit_X, f)\n"
   ]
  },
  {
   "cell_type": "code",
   "execution_count": 26,
   "metadata": {
    "execution": {
     "iopub.execute_input": "2021-01-26T13:36:13.068714Z",
     "iopub.status.busy": "2021-01-26T13:36:13.067713Z",
     "iopub.status.idle": "2021-01-26T13:36:13.070715Z",
     "shell.execute_reply": "2021-01-26T13:36:13.070715Z",
     "shell.execute_reply.started": "2021-01-26T13:36:13.068714Z"
    }
   },
   "outputs": [
    {
     "data": {
      "text/plain": [
       "(163504, 265)"
      ]
     },
     "execution_count": 26,
     "metadata": {},
     "output_type": "execute_result"
    }
   ],
   "source": [
    "train_X.shape"
   ]
  },
  {
   "cell_type": "code",
   "execution_count": 27,
   "metadata": {
    "execution": {
     "iopub.execute_input": "2021-01-26T13:36:13.836714Z",
     "iopub.status.busy": "2021-01-26T13:36:13.836714Z",
     "iopub.status.idle": "2021-01-26T13:36:13.839716Z",
     "shell.execute_reply": "2021-01-26T13:36:13.839716Z",
     "shell.execute_reply.started": "2021-01-26T13:36:13.836714Z"
    }
   },
   "outputs": [
    {
     "data": {
      "text/plain": [
       "(163504,)"
      ]
     },
     "execution_count": 27,
     "metadata": {},
     "output_type": "execute_result"
    }
   ],
   "source": [
    "train_y.shape"
   ]
  },
  {
   "cell_type": "code",
   "execution_count": 28,
   "metadata": {
    "execution": {
     "iopub.execute_input": "2021-01-26T13:36:14.524135Z",
     "iopub.status.busy": "2021-01-26T13:36:14.524135Z",
     "iopub.status.idle": "2021-01-26T13:36:14.527138Z",
     "shell.execute_reply": "2021-01-26T13:36:14.527138Z",
     "shell.execute_reply.started": "2021-01-26T13:36:14.524135Z"
    }
   },
   "outputs": [
    {
     "data": {
      "text/plain": [
       "(51096, 265)"
      ]
     },
     "execution_count": 28,
     "metadata": {},
     "output_type": "execute_result"
    }
   ],
   "source": [
    "test_X.shape"
   ]
  },
  {
   "cell_type": "code",
   "execution_count": 29,
   "metadata": {
    "execution": {
     "iopub.execute_input": "2021-01-26T13:36:15.484713Z",
     "iopub.status.busy": "2021-01-26T13:36:15.484713Z",
     "iopub.status.idle": "2021-01-26T13:36:15.486715Z",
     "shell.execute_reply": "2021-01-26T13:36:15.486715Z",
     "shell.execute_reply.started": "2021-01-26T13:36:15.484713Z"
    }
   },
   "outputs": [
    {
     "data": {
      "text/plain": [
       "(51096,)"
      ]
     },
     "execution_count": 29,
     "metadata": {},
     "output_type": "execute_result"
    }
   ],
   "source": [
    "test_y.shape"
   ]
  },
  {
   "cell_type": "code",
   "execution_count": null,
   "metadata": {},
   "outputs": [],
   "source": []
  }
 ],
 "metadata": {
  "kernelspec": {
   "display_name": "Python 3",
   "language": "python",
   "name": "python3"
  },
  "language_info": {
   "codemirror_mode": {
    "name": "ipython",
    "version": 3
   },
   "file_extension": ".py",
   "mimetype": "text/x-python",
   "name": "python",
   "nbconvert_exporter": "python",
   "pygments_lexer": "ipython3",
   "version": "3.7.9"
  },
  "widgets": {
   "application/vnd.jupyter.widget-state+json": {
    "state": {},
    "version_major": 2,
    "version_minor": 0
   }
  }
 },
 "nbformat": 4,
 "nbformat_minor": 4
}
