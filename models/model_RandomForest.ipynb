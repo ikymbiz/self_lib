{
 "cells": [
  {
   "cell_type": "markdown",
   "metadata": {
    "execution": {
     "iopub.execute_input": "2021-01-17T06:24:00.638325Z",
     "iopub.status.busy": "2021-01-17T06:24:00.638325Z",
     "iopub.status.idle": "2021-01-17T06:24:00.640327Z",
     "shell.execute_reply": "2021-01-17T06:24:00.640327Z",
     "shell.execute_reply.started": "2021-01-17T06:24:00.638325Z"
    }
   },
   "source": [
    "# RandomForestClassifier"
   ]
  },
  {
   "cell_type": "code",
   "execution_count": 1,
   "metadata": {
    "execution": {
     "iopub.execute_input": "2021-01-17T14:44:59.156277Z",
     "iopub.status.busy": "2021-01-17T14:44:59.156277Z",
     "iopub.status.idle": "2021-01-17T14:44:59.162302Z",
     "shell.execute_reply": "2021-01-17T14:44:59.162302Z",
     "shell.execute_reply.started": "2021-01-17T14:44:59.156277Z"
    }
   },
   "outputs": [],
   "source": [
    "# warningの無視\n",
    "import warnings\n",
    "warnings.filterwarnings('ignore')"
   ]
  },
  {
   "cell_type": "code",
   "execution_count": 2,
   "metadata": {
    "execution": {
     "iopub.execute_input": "2021-01-17T14:44:59.163771Z",
     "iopub.status.busy": "2021-01-17T14:44:59.162302Z",
     "iopub.status.idle": "2021-01-17T14:45:00.235747Z",
     "shell.execute_reply": "2021-01-17T14:45:00.235747Z",
     "shell.execute_reply.started": "2021-01-17T14:44:59.163771Z"
    }
   },
   "outputs": [],
   "source": [
    "import pandas as pd\n",
    "import numpy as np\n",
    "\n",
    "import matplotlib.pyplot as plt\n",
    "import seaborn as sns\n",
    "sns.set()\n",
    "\n",
    "from sklearn.model_selection import train_test_split\n",
    "\n",
    "# モデル\n",
    "from sklearn.tree import DecisionTreeClassifier # 決定木に必要な関数\n",
    "from sklearn.ensemble import RandomForestClassifier # ランダムフォレストに必要な関数\n",
    "from sklearn.model_selection import GridSearchCV # グリッドサーチに必要な関数\n",
    "\n",
    "# 評価指標\n",
    "from sklearn import metrics # 精度検証に必要な関数\n",
    "from sklearn.metrics import log_loss\n",
    "from sklearn.metrics import accuracy_score # 精度の確認 / 正解率\n",
    "from sklearn.metrics import f1_score       #f1\n",
    "\n",
    "# User defined functions\n",
    "from self_lib import doggie_tail as d_\n",
    "from self_lib import timer as t\n",
    "\n",
    "# Jupyter上で図を表示するためのコマンド\n",
    "%matplotlib inline"
   ]
  },
  {
   "cell_type": "code",
   "execution_count": 3,
   "metadata": {
    "execution": {
     "iopub.execute_input": "2021-01-17T14:45:00.236749Z",
     "iopub.status.busy": "2021-01-17T14:45:00.236749Z",
     "iopub.status.idle": "2021-01-17T14:45:00.264774Z",
     "shell.execute_reply": "2021-01-17T14:45:00.264774Z",
     "shell.execute_reply.started": "2021-01-17T14:45:00.236749Z"
    }
   },
   "outputs": [],
   "source": [
    "# pickleで読込む\n",
    "import pickle\n",
    "\n",
    "# 前処理済みデータ取得\n",
    "with open('data/dataset/pre/pre_data.pickle','rb') as f:\n",
    "    pre_data = pickle.load(f)"
   ]
  },
  {
   "cell_type": "code",
   "execution_count": 4,
   "metadata": {
    "execution": {
     "iopub.execute_input": "2021-01-17T14:45:00.265775Z",
     "iopub.status.busy": "2021-01-17T14:45:00.265775Z",
     "iopub.status.idle": "2021-01-17T14:45:00.267778Z",
     "shell.execute_reply": "2021-01-17T14:45:00.267778Z",
     "shell.execute_reply.started": "2021-01-17T14:45:00.265775Z"
    }
   },
   "outputs": [],
   "source": [
    "# 表示列数を指定\n",
    "pd.set_option('display.max_columns', 100)\n",
    "pd.set_option('display.max_rows', 100)"
   ]
  },
  {
   "cell_type": "markdown",
   "metadata": {},
   "source": [
    "### version setting"
   ]
  },
  {
   "cell_type": "code",
   "execution_count": 5,
   "metadata": {
    "execution": {
     "iopub.execute_input": "2021-01-17T14:45:00.268778Z",
     "iopub.status.busy": "2021-01-17T14:45:00.268778Z",
     "iopub.status.idle": "2021-01-17T14:45:00.273783Z",
     "shell.execute_reply": "2021-01-17T14:45:00.273783Z",
     "shell.execute_reply.started": "2021-01-17T14:45:00.268778Z"
    }
   },
   "outputs": [],
   "source": [
    "submitVer=\"_v05\"\n",
    "modelName=\"XGBoost\""
   ]
  },
  {
   "cell_type": "code",
   "execution_count": 6,
   "metadata": {
    "execution": {
     "iopub.execute_input": "2021-01-17T14:45:00.274783Z",
     "iopub.status.busy": "2021-01-17T14:45:00.274783Z",
     "iopub.status.idle": "2021-01-17T14:45:00.278787Z",
     "shell.execute_reply": "2021-01-17T14:45:00.278787Z",
     "shell.execute_reply.started": "2021-01-17T14:45:00.274783Z"
    }
   },
   "outputs": [],
   "source": [
    "featureName=\"All\""
   ]
  },
  {
   "cell_type": "code",
   "execution_count": 7,
   "metadata": {
    "execution": {
     "iopub.execute_input": "2021-01-17T14:45:00.280789Z",
     "iopub.status.busy": "2021-01-17T14:45:00.279788Z",
     "iopub.status.idle": "2021-01-17T14:45:00.284793Z",
     "shell.execute_reply": "2021-01-17T14:45:00.284793Z",
     "shell.execute_reply.started": "2021-01-17T14:45:00.280789Z"
    }
   },
   "outputs": [],
   "source": [
    "yName='LoanStatus'"
   ]
  },
  {
   "cell_type": "code",
   "execution_count": 8,
   "metadata": {
    "execution": {
     "iopub.execute_input": "2021-01-17T14:45:00.286794Z",
     "iopub.status.busy": "2021-01-17T14:45:00.285793Z",
     "iopub.status.idle": "2021-01-17T14:45:00.291799Z",
     "shell.execute_reply": "2021-01-17T14:45:00.291799Z",
     "shell.execute_reply.started": "2021-01-17T14:45:00.286794Z"
    }
   },
   "outputs": [],
   "source": [
    "# y\n",
    "fileName=\"data.pickle\"\n",
    "with open(\"data/dataset/pre/\" + \"pre_y_data\" + submitVer + \".pickle\",'rb') as f:\n",
    "    y = pickle.load(f)"
   ]
  },
  {
   "cell_type": "code",
   "execution_count": 9,
   "metadata": {
    "execution": {
     "iopub.execute_input": "2021-01-17T14:45:00.292800Z",
     "iopub.status.busy": "2021-01-17T14:45:00.292800Z",
     "iopub.status.idle": "2021-01-17T14:45:00.322827Z",
     "shell.execute_reply": "2021-01-17T14:45:00.322827Z",
     "shell.execute_reply.started": "2021-01-17T14:45:00.292800Z"
    }
   },
   "outputs": [],
   "source": [
    "#X\n",
    "with open(\"data/dataset/pre/\" + \"pre_data.pickle\",'rb') as f:\n",
    "    pre_data = pickle.load(f)"
   ]
  },
  {
   "cell_type": "code",
   "execution_count": 10,
   "metadata": {
    "execution": {
     "iopub.execute_input": "2021-01-17T14:45:00.323828Z",
     "iopub.status.busy": "2021-01-17T14:45:00.323828Z",
     "iopub.status.idle": "2021-01-17T14:45:00.350852Z",
     "shell.execute_reply": "2021-01-17T14:45:00.350852Z",
     "shell.execute_reply.started": "2021-01-17T14:45:00.323828Z"
    }
   },
   "outputs": [],
   "source": [
    "# pred\n",
    "with open(\"data/dataset/test/\" + \"test_data.pickle\",'rb') as f:\n",
    "    test_data = pickle.load(f)"
   ]
  },
  {
   "cell_type": "code",
   "execution_count": 11,
   "metadata": {
    "execution": {
     "iopub.execute_input": "2021-01-17T14:45:00.351854Z",
     "iopub.status.busy": "2021-01-17T14:45:00.351854Z",
     "iopub.status.idle": "2021-01-17T14:45:00.522008Z",
     "shell.execute_reply": "2021-01-17T14:45:00.522008Z",
     "shell.execute_reply.started": "2021-01-17T14:45:00.351854Z"
    }
   },
   "outputs": [
    {
     "data": {
      "text/html": [
       "<div>\n",
       "<style scoped>\n",
       "    .dataframe tbody tr th:only-of-type {\n",
       "        vertical-align: middle;\n",
       "    }\n",
       "\n",
       "    .dataframe tbody tr th {\n",
       "        vertical-align: top;\n",
       "    }\n",
       "\n",
       "    .dataframe thead th {\n",
       "        text-align: right;\n",
       "    }\n",
       "</style>\n",
       "<table border=\"1\" class=\"dataframe\">\n",
       "  <thead>\n",
       "    <tr style=\"text-align: right;\">\n",
       "      <th></th>\n",
       "      <th>LoanStatus</th>\n",
       "      <th>Term</th>\n",
       "      <th>Approval_Y</th>\n",
       "      <th>Approval_M</th>\n",
       "      <th>Disbursement_Y</th>\n",
       "      <th>Disbursement_M</th>\n",
       "      <th>TermFlg</th>\n",
       "      <th>RevLineCr</th>\n",
       "      <th>LowLoan</th>\n",
       "      <th>LoanAmount</th>\n",
       "      <th>BalanceGross</th>\n",
       "      <th>SystemCode</th>\n",
       "      <th>Employees</th>\n",
       "      <th>ExistNew</th>\n",
       "      <th>CreateJob</th>\n",
       "      <th>FranchiseCode</th>\n",
       "      <th>Zip</th>\n",
       "      <th>BankState</th>\n",
       "      <th>UrbanRural</th>\n",
       "    </tr>\n",
       "  </thead>\n",
       "  <tbody>\n",
       "    <tr>\n",
       "      <th>count</th>\n",
       "      <td>255477.00</td>\n",
       "      <td>255477.00</td>\n",
       "      <td>255477.00</td>\n",
       "      <td>255477.00</td>\n",
       "      <td>254876.00</td>\n",
       "      <td>254876.00</td>\n",
       "      <td>255477.00</td>\n",
       "      <td>255477.00</td>\n",
       "      <td>255477.00</td>\n",
       "      <td>255477.00</td>\n",
       "      <td>255477.00</td>\n",
       "      <td>255477.00</td>\n",
       "      <td>255477.00</td>\n",
       "      <td>255431.00</td>\n",
       "      <td>255477.00</td>\n",
       "      <td>255477.00</td>\n",
       "      <td>255477.00</td>\n",
       "      <td>255477.00</td>\n",
       "      <td>255477.00</td>\n",
       "    </tr>\n",
       "    <tr>\n",
       "      <th>missing</th>\n",
       "      <td>0.00</td>\n",
       "      <td>0.00</td>\n",
       "      <td>0.00</td>\n",
       "      <td>0.00</td>\n",
       "      <td>601.00</td>\n",
       "      <td>601.00</td>\n",
       "      <td>0.00</td>\n",
       "      <td>0.00</td>\n",
       "      <td>0.00</td>\n",
       "      <td>0.00</td>\n",
       "      <td>0.00</td>\n",
       "      <td>0.00</td>\n",
       "      <td>0.00</td>\n",
       "      <td>46.00</td>\n",
       "      <td>0.00</td>\n",
       "      <td>0.00</td>\n",
       "      <td>0.00</td>\n",
       "      <td>0.00</td>\n",
       "      <td>0.00</td>\n",
       "    </tr>\n",
       "    <tr>\n",
       "      <th>unique</th>\n",
       "      <td>NaN</td>\n",
       "      <td>NaN</td>\n",
       "      <td>NaN</td>\n",
       "      <td>NaN</td>\n",
       "      <td>NaN</td>\n",
       "      <td>NaN</td>\n",
       "      <td>NaN</td>\n",
       "      <td>NaN</td>\n",
       "      <td>NaN</td>\n",
       "      <td>NaN</td>\n",
       "      <td>NaN</td>\n",
       "      <td>NaN</td>\n",
       "      <td>NaN</td>\n",
       "      <td>NaN</td>\n",
       "      <td>NaN</td>\n",
       "      <td>NaN</td>\n",
       "      <td>NaN</td>\n",
       "      <td>NaN</td>\n",
       "      <td>NaN</td>\n",
       "    </tr>\n",
       "    <tr>\n",
       "      <th>top</th>\n",
       "      <td>NaN</td>\n",
       "      <td>NaN</td>\n",
       "      <td>NaN</td>\n",
       "      <td>NaN</td>\n",
       "      <td>NaN</td>\n",
       "      <td>NaN</td>\n",
       "      <td>NaN</td>\n",
       "      <td>NaN</td>\n",
       "      <td>NaN</td>\n",
       "      <td>NaN</td>\n",
       "      <td>NaN</td>\n",
       "      <td>NaN</td>\n",
       "      <td>NaN</td>\n",
       "      <td>NaN</td>\n",
       "      <td>NaN</td>\n",
       "      <td>NaN</td>\n",
       "      <td>NaN</td>\n",
       "      <td>NaN</td>\n",
       "      <td>NaN</td>\n",
       "    </tr>\n",
       "    <tr>\n",
       "      <th>freq</th>\n",
       "      <td>NaN</td>\n",
       "      <td>NaN</td>\n",
       "      <td>NaN</td>\n",
       "      <td>NaN</td>\n",
       "      <td>NaN</td>\n",
       "      <td>NaN</td>\n",
       "      <td>NaN</td>\n",
       "      <td>NaN</td>\n",
       "      <td>NaN</td>\n",
       "      <td>NaN</td>\n",
       "      <td>NaN</td>\n",
       "      <td>NaN</td>\n",
       "      <td>NaN</td>\n",
       "      <td>NaN</td>\n",
       "      <td>NaN</td>\n",
       "      <td>NaN</td>\n",
       "      <td>NaN</td>\n",
       "      <td>NaN</td>\n",
       "      <td>NaN</td>\n",
       "    </tr>\n",
       "    <tr>\n",
       "      <th>mean</th>\n",
       "      <td>0.19</td>\n",
       "      <td>111.43</td>\n",
       "      <td>2000.97</td>\n",
       "      <td>6.48</td>\n",
       "      <td>2001.25</td>\n",
       "      <td>6.35</td>\n",
       "      <td>0.27</td>\n",
       "      <td>0.93</td>\n",
       "      <td>1.12</td>\n",
       "      <td>189347.82</td>\n",
       "      <td>0.71</td>\n",
       "      <td>398211.51</td>\n",
       "      <td>11.17</td>\n",
       "      <td>0.28</td>\n",
       "      <td>0.23</td>\n",
       "      <td>0.04</td>\n",
       "      <td>54086.45</td>\n",
       "      <td>0.01</td>\n",
       "      <td>0.76</td>\n",
       "    </tr>\n",
       "    <tr>\n",
       "      <th>std</th>\n",
       "      <td>0.39</td>\n",
       "      <td>79.48</td>\n",
       "      <td>5.98</td>\n",
       "      <td>3.37</td>\n",
       "      <td>5.89</td>\n",
       "      <td>3.43</td>\n",
       "      <td>0.45</td>\n",
       "      <td>0.72</td>\n",
       "      <td>0.34</td>\n",
       "      <td>282409.05</td>\n",
       "      <td>206.61</td>\n",
       "      <td>261522.61</td>\n",
       "      <td>75.02</td>\n",
       "      <td>0.45</td>\n",
       "      <td>0.42</td>\n",
       "      <td>0.19</td>\n",
       "      <td>31237.00</td>\n",
       "      <td>0.11</td>\n",
       "      <td>0.64</td>\n",
       "    </tr>\n",
       "    <tr>\n",
       "      <th>min</th>\n",
       "      <td>0.00</td>\n",
       "      <td>0.00</td>\n",
       "      <td>1971.00</td>\n",
       "      <td>1.00</td>\n",
       "      <td>1971.00</td>\n",
       "      <td>1.00</td>\n",
       "      <td>0.00</td>\n",
       "      <td>0.00</td>\n",
       "      <td>0.00</td>\n",
       "      <td>1000.00</td>\n",
       "      <td>0.00</td>\n",
       "      <td>0.00</td>\n",
       "      <td>0.00</td>\n",
       "      <td>0.00</td>\n",
       "      <td>0.00</td>\n",
       "      <td>0.00</td>\n",
       "      <td>0.00</td>\n",
       "      <td>0.00</td>\n",
       "      <td>0.00</td>\n",
       "    </tr>\n",
       "    <tr>\n",
       "      <th>25%</th>\n",
       "      <td>0.00</td>\n",
       "      <td>60.00</td>\n",
       "      <td>1996.00</td>\n",
       "      <td>4.00</td>\n",
       "      <td>1997.00</td>\n",
       "      <td>4.00</td>\n",
       "      <td>0.00</td>\n",
       "      <td>0.00</td>\n",
       "      <td>1.00</td>\n",
       "      <td>35000.00</td>\n",
       "      <td>0.00</td>\n",
       "      <td>235310.00</td>\n",
       "      <td>2.00</td>\n",
       "      <td>0.00</td>\n",
       "      <td>0.00</td>\n",
       "      <td>0.00</td>\n",
       "      <td>28031.00</td>\n",
       "      <td>0.00</td>\n",
       "      <td>0.00</td>\n",
       "    </tr>\n",
       "    <tr>\n",
       "      <th>50%</th>\n",
       "      <td>0.00</td>\n",
       "      <td>84.00</td>\n",
       "      <td>2002.00</td>\n",
       "      <td>6.00</td>\n",
       "      <td>2003.00</td>\n",
       "      <td>6.00</td>\n",
       "      <td>0.00</td>\n",
       "      <td>1.00</td>\n",
       "      <td>1.00</td>\n",
       "      <td>85000.00</td>\n",
       "      <td>0.00</td>\n",
       "      <td>445310.00</td>\n",
       "      <td>4.00</td>\n",
       "      <td>0.00</td>\n",
       "      <td>0.00</td>\n",
       "      <td>0.00</td>\n",
       "      <td>55439.00</td>\n",
       "      <td>0.00</td>\n",
       "      <td>1.00</td>\n",
       "    </tr>\n",
       "    <tr>\n",
       "      <th>75%</th>\n",
       "      <td>0.00</td>\n",
       "      <td>120.00</td>\n",
       "      <td>2006.00</td>\n",
       "      <td>9.00</td>\n",
       "      <td>2006.00</td>\n",
       "      <td>9.00</td>\n",
       "      <td>1.00</td>\n",
       "      <td>1.00</td>\n",
       "      <td>1.00</td>\n",
       "      <td>223000.00</td>\n",
       "      <td>0.00</td>\n",
       "      <td>561730.00</td>\n",
       "      <td>10.00</td>\n",
       "      <td>1.00</td>\n",
       "      <td>0.00</td>\n",
       "      <td>0.00</td>\n",
       "      <td>84032.00</td>\n",
       "      <td>0.00</td>\n",
       "      <td>1.00</td>\n",
       "    </tr>\n",
       "    <tr>\n",
       "      <th>max</th>\n",
       "      <td>1.00</td>\n",
       "      <td>527.00</td>\n",
       "      <td>2070.00</td>\n",
       "      <td>12.00</td>\n",
       "      <td>2070.00</td>\n",
       "      <td>12.00</td>\n",
       "      <td>1.00</td>\n",
       "      <td>2.00</td>\n",
       "      <td>2.00</td>\n",
       "      <td>5000000.00</td>\n",
       "      <td>84617.00</td>\n",
       "      <td>928120.00</td>\n",
       "      <td>9999.00</td>\n",
       "      <td>1.00</td>\n",
       "      <td>1.00</td>\n",
       "      <td>1.00</td>\n",
       "      <td>99999.00</td>\n",
       "      <td>1.00</td>\n",
       "      <td>2.00</td>\n",
       "    </tr>\n",
       "    <tr>\n",
       "      <th>d_type</th>\n",
       "      <td>int64</td>\n",
       "      <td>int64</td>\n",
       "      <td>int64</td>\n",
       "      <td>int64</td>\n",
       "      <td>float64</td>\n",
       "      <td>float64</td>\n",
       "      <td>int64</td>\n",
       "      <td>int32</td>\n",
       "      <td>int32</td>\n",
       "      <td>float64</td>\n",
       "      <td>float64</td>\n",
       "      <td>int64</td>\n",
       "      <td>int64</td>\n",
       "      <td>float64</td>\n",
       "      <td>int64</td>\n",
       "      <td>int64</td>\n",
       "      <td>int64</td>\n",
       "      <td>uint8</td>\n",
       "      <td>int64</td>\n",
       "    </tr>\n",
       "  </tbody>\n",
       "</table>\n",
       "</div>"
      ],
      "text/plain": [
       "        LoanStatus      Term Approval_Y Approval_M Disbursement_Y  \\\n",
       "count    255477.00 255477.00  255477.00  255477.00      254876.00   \n",
       "missing       0.00      0.00       0.00       0.00         601.00   \n",
       "unique         NaN       NaN        NaN        NaN            NaN   \n",
       "top            NaN       NaN        NaN        NaN            NaN   \n",
       "freq           NaN       NaN        NaN        NaN            NaN   \n",
       "mean          0.19    111.43    2000.97       6.48        2001.25   \n",
       "std           0.39     79.48       5.98       3.37           5.89   \n",
       "min           0.00      0.00    1971.00       1.00        1971.00   \n",
       "25%           0.00     60.00    1996.00       4.00        1997.00   \n",
       "50%           0.00     84.00    2002.00       6.00        2003.00   \n",
       "75%           0.00    120.00    2006.00       9.00        2006.00   \n",
       "max           1.00    527.00    2070.00      12.00        2070.00   \n",
       "d_type       int64     int64      int64      int64        float64   \n",
       "\n",
       "        Disbursement_M   TermFlg RevLineCr   LowLoan LoanAmount BalanceGross  \\\n",
       "count        254876.00 255477.00 255477.00 255477.00  255477.00    255477.00   \n",
       "missing         601.00      0.00      0.00      0.00       0.00         0.00   \n",
       "unique             NaN       NaN       NaN       NaN        NaN          NaN   \n",
       "top                NaN       NaN       NaN       NaN        NaN          NaN   \n",
       "freq               NaN       NaN       NaN       NaN        NaN          NaN   \n",
       "mean              6.35      0.27      0.93      1.12  189347.82         0.71   \n",
       "std               3.43      0.45      0.72      0.34  282409.05       206.61   \n",
       "min               1.00      0.00      0.00      0.00    1000.00         0.00   \n",
       "25%               4.00      0.00      0.00      1.00   35000.00         0.00   \n",
       "50%               6.00      0.00      1.00      1.00   85000.00         0.00   \n",
       "75%               9.00      1.00      1.00      1.00  223000.00         0.00   \n",
       "max              12.00      1.00      2.00      2.00 5000000.00     84617.00   \n",
       "d_type         float64     int64     int32     int32    float64      float64   \n",
       "\n",
       "        SystemCode Employees  ExistNew CreateJob FranchiseCode       Zip  \\\n",
       "count    255477.00 255477.00 255431.00 255477.00     255477.00 255477.00   \n",
       "missing       0.00      0.00     46.00      0.00          0.00      0.00   \n",
       "unique         NaN       NaN       NaN       NaN           NaN       NaN   \n",
       "top            NaN       NaN       NaN       NaN           NaN       NaN   \n",
       "freq           NaN       NaN       NaN       NaN           NaN       NaN   \n",
       "mean     398211.51     11.17      0.28      0.23          0.04  54086.45   \n",
       "std      261522.61     75.02      0.45      0.42          0.19  31237.00   \n",
       "min           0.00      0.00      0.00      0.00          0.00      0.00   \n",
       "25%      235310.00      2.00      0.00      0.00          0.00  28031.00   \n",
       "50%      445310.00      4.00      0.00      0.00          0.00  55439.00   \n",
       "75%      561730.00     10.00      1.00      0.00          0.00  84032.00   \n",
       "max      928120.00   9999.00      1.00      1.00          1.00  99999.00   \n",
       "d_type       int64     int64   float64     int64         int64     int64   \n",
       "\n",
       "        BankState UrbanRural  \n",
       "count   255477.00  255477.00  \n",
       "missing      0.00       0.00  \n",
       "unique        NaN        NaN  \n",
       "top           NaN        NaN  \n",
       "freq          NaN        NaN  \n",
       "mean         0.01       0.76  \n",
       "std          0.11       0.64  \n",
       "min          0.00       0.00  \n",
       "25%          0.00       0.00  \n",
       "50%          0.00       1.00  \n",
       "75%          0.00       1.00  \n",
       "max          1.00       2.00  \n",
       "d_type      uint8      int64  "
      ]
     },
     "execution_count": 11,
     "metadata": {},
     "output_type": "execute_result"
    }
   ],
   "source": [
    "d_.d(pre_data)"
   ]
  },
  {
   "cell_type": "code",
   "execution_count": 12,
   "metadata": {
    "execution": {
     "iopub.execute_input": "2021-01-17T14:45:00.523010Z",
     "iopub.status.busy": "2021-01-17T14:45:00.523010Z",
     "iopub.status.idle": "2021-01-17T14:45:00.526012Z",
     "shell.execute_reply": "2021-01-17T14:45:00.526012Z",
     "shell.execute_reply.started": "2021-01-17T14:45:00.523010Z"
    }
   },
   "outputs": [],
   "source": [
    "def importances(model):\n",
    "    \"\"\" 変数重要度\n",
    "    \"\"\"\n",
    "    importances = model.feature_importances_\n",
    "    indices = np.argsort(importances)\n",
    "\n",
    "    plt.barh(range(len(indices)), importances[indices] , align='center')\n",
    "    plt.yticks(range(len(indices)), feature_X[indices])\n",
    "    plt.title('decision tree feature importance')\n",
    "    plt.xlabel('feature importance')\n",
    "    plt.ylabel('variable')\n",
    "    plt.show()"
   ]
  },
  {
   "cell_type": "code",
   "execution_count": 13,
   "metadata": {
    "execution": {
     "iopub.execute_input": "2021-01-17T14:45:00.527013Z",
     "iopub.status.busy": "2021-01-17T14:45:00.527013Z",
     "iopub.status.idle": "2021-01-17T14:45:00.578059Z",
     "shell.execute_reply": "2021-01-17T14:45:00.578059Z",
     "shell.execute_reply.started": "2021-01-17T14:45:00.527013Z"
    }
   },
   "outputs": [],
   "source": [
    "pre_data=pre_data.fillna(pre_data.mean())"
   ]
  },
  {
   "cell_type": "code",
   "execution_count": 14,
   "metadata": {
    "execution": {
     "iopub.execute_input": "2021-01-17T14:45:00.579060Z",
     "iopub.status.busy": "2021-01-17T14:45:00.579060Z",
     "iopub.status.idle": "2021-01-17T14:45:00.627104Z",
     "shell.execute_reply": "2021-01-17T14:45:00.627104Z",
     "shell.execute_reply.started": "2021-01-17T14:45:00.579060Z"
    }
   },
   "outputs": [],
   "source": [
    "test_data=test_data.fillna(test_data.mean())"
   ]
  },
  {
   "cell_type": "markdown",
   "metadata": {},
   "source": [
    "#### 分割"
   ]
  },
  {
   "cell_type": "code",
   "execution_count": 15,
   "metadata": {
    "execution": {
     "iopub.execute_input": "2021-01-17T14:45:00.628104Z",
     "iopub.status.busy": "2021-01-17T14:45:00.628104Z",
     "iopub.status.idle": "2021-01-17T14:45:00.646121Z",
     "shell.execute_reply": "2021-01-17T14:45:00.646121Z",
     "shell.execute_reply.started": "2021-01-17T14:45:00.628104Z"
    }
   },
   "outputs": [],
   "source": [
    "# 目的変数と説明変数の取得\n",
    "y=pre_data['LoanStatus']\n",
    "X=pre_data.drop(columns='LoanStatus')"
   ]
  },
  {
   "cell_type": "code",
   "execution_count": 16,
   "metadata": {
    "execution": {
     "iopub.execute_input": "2021-01-17T14:45:00.647122Z",
     "iopub.status.busy": "2021-01-17T14:45:00.647122Z",
     "iopub.status.idle": "2021-01-17T14:45:00.650124Z",
     "shell.execute_reply": "2021-01-17T14:45:00.650124Z",
     "shell.execute_reply.started": "2021-01-17T14:45:00.647122Z"
    }
   },
   "outputs": [],
   "source": [
    "# 変数重要度を見るため、変数名を取り出しておく\n",
    "feature_X = X.columns\n",
    "feature_y = y.name"
   ]
  },
  {
   "cell_type": "code",
   "execution_count": null,
   "metadata": {},
   "outputs": [],
   "source": []
  },
  {
   "cell_type": "code",
   "execution_count": 17,
   "metadata": {
    "execution": {
     "iopub.execute_input": "2021-01-17T14:45:00.651125Z",
     "iopub.status.busy": "2021-01-17T14:45:00.651125Z",
     "iopub.status.idle": "2021-01-17T14:45:00.746212Z",
     "shell.execute_reply": "2021-01-17T14:45:00.746212Z",
     "shell.execute_reply.started": "2021-01-17T14:45:00.651125Z"
    }
   },
   "outputs": [],
   "source": [
    "# 訓練データとテストデータの分割\n",
    "train_X, test_X, train_y, test_y = train_test_split(X, y, test_size=0.2, shuffle=True)\n",
    "\n",
    "# 訓練データと検証データの分割\n",
    "train_X, valid_X, train_y, valid_y = train_test_split(train_X, train_y, test_size=0.2, shuffle=True)"
   ]
  },
  {
   "cell_type": "markdown",
   "metadata": {
    "execution": {
     "iopub.execute_input": "2021-01-14T16:07:35.403347Z",
     "iopub.status.busy": "2021-01-14T16:07:35.403347Z",
     "iopub.status.idle": "2021-01-14T16:07:43.720902Z",
     "shell.execute_reply": "2021-01-14T16:07:43.718902Z",
     "shell.execute_reply.started": "2021-01-14T16:07:35.403347Z"
    }
   },
   "source": [
    "#### Grid_Search\n",
    "https://scikit-learn.org/stable/modules/model_evaluation.html#scoring-parameter"
   ]
  },
  {
   "cell_type": "code",
   "execution_count": 18,
   "metadata": {
    "execution": {
     "iopub.execute_input": "2021-01-17T14:45:00.747213Z",
     "iopub.status.busy": "2021-01-17T14:45:00.747213Z",
     "iopub.status.idle": "2021-01-17T14:45:00.749215Z",
     "shell.execute_reply": "2021-01-17T14:45:00.749215Z",
     "shell.execute_reply.started": "2021-01-17T14:45:00.747213Z"
    }
   },
   "outputs": [],
   "source": [
    "\"\"\"ハイパーパラメータの max_depth(木の深さ), \n",
    "# n_estimators(決定木の数)に関してグリッドサーチを行う\n",
    "# グリッドサーチに使用するパラメータの値を用意\n",
    "\"\"\"\n",
    "params = {\n",
    "    'max_depth': [10, 20, 30],\n",
    "    'n_estimators': [10, 100, 1000]}"
   ]
  },
  {
   "cell_type": "code",
   "execution_count": 19,
   "metadata": {
    "execution": {
     "iopub.execute_input": "2021-01-17T14:45:00.750216Z",
     "iopub.status.busy": "2021-01-17T14:45:00.750216Z",
     "iopub.status.idle": "2021-01-17T15:24:27.811319Z",
     "shell.execute_reply": "2021-01-17T15:24:27.811319Z",
     "shell.execute_reply.started": "2021-01-17T14:45:00.750216Z"
    }
   },
   "outputs": [
    {
     "name": "stdout",
     "output_type": "stream",
     "text": [
      "Fitting 5 folds for each of 9 candidates, totalling 45 fits\n",
      "[CV] END ......................max_depth=10, n_estimators=10; total time=   0.9s\n",
      "[CV] END ......................max_depth=10, n_estimators=10; total time=   0.9s\n",
      "[CV] END ......................max_depth=10, n_estimators=10; total time=   0.9s\n",
      "[CV] END ......................max_depth=10, n_estimators=10; total time=   1.0s\n",
      "[CV] END ......................max_depth=10, n_estimators=10; total time=   0.9s\n",
      "[CV] END .....................max_depth=10, n_estimators=100; total time=   9.6s\n",
      "[CV] END .....................max_depth=10, n_estimators=100; total time=   9.6s\n",
      "[CV] END .....................max_depth=10, n_estimators=100; total time=   9.5s\n",
      "[CV] END .....................max_depth=10, n_estimators=100; total time=   9.6s\n",
      "[CV] END .....................max_depth=10, n_estimators=100; total time=   9.6s\n",
      "[CV] END ....................max_depth=10, n_estimators=1000; total time= 1.6min\n",
      "[CV] END ....................max_depth=10, n_estimators=1000; total time= 1.6min\n",
      "[CV] END ....................max_depth=10, n_estimators=1000; total time= 1.6min\n",
      "[CV] END ....................max_depth=10, n_estimators=1000; total time= 1.6min\n",
      "[CV] END ....................max_depth=10, n_estimators=1000; total time= 1.6min\n",
      "[CV] END ......................max_depth=20, n_estimators=10; total time=   1.4s\n",
      "[CV] END ......................max_depth=20, n_estimators=10; total time=   1.4s\n",
      "[CV] END ......................max_depth=20, n_estimators=10; total time=   1.4s\n",
      "[CV] END ......................max_depth=20, n_estimators=10; total time=   1.4s\n",
      "[CV] END ......................max_depth=20, n_estimators=10; total time=   1.4s\n",
      "[CV] END .....................max_depth=20, n_estimators=100; total time=  14.5s\n",
      "[CV] END .....................max_depth=20, n_estimators=100; total time=  14.6s\n",
      "[CV] END .....................max_depth=20, n_estimators=100; total time=  14.7s\n",
      "[CV] END .....................max_depth=20, n_estimators=100; total time=  14.6s\n",
      "[CV] END .....................max_depth=20, n_estimators=100; total time=  14.7s\n",
      "[CV] END ....................max_depth=20, n_estimators=1000; total time= 2.4min\n",
      "[CV] END ....................max_depth=20, n_estimators=1000; total time= 2.4min\n",
      "[CV] END ....................max_depth=20, n_estimators=1000; total time= 2.4min\n",
      "[CV] END ....................max_depth=20, n_estimators=1000; total time= 2.4min\n",
      "[CV] END ....................max_depth=20, n_estimators=1000; total time= 2.4min\n",
      "[CV] END ......................max_depth=30, n_estimators=10; total time=   1.5s\n",
      "[CV] END ......................max_depth=30, n_estimators=10; total time=   1.5s\n",
      "[CV] END ......................max_depth=30, n_estimators=10; total time=   1.5s\n",
      "[CV] END ......................max_depth=30, n_estimators=10; total time=   1.5s\n",
      "[CV] END ......................max_depth=30, n_estimators=10; total time=   1.5s\n",
      "[CV] END .....................max_depth=30, n_estimators=100; total time=  14.9s\n",
      "[CV] END .....................max_depth=30, n_estimators=100; total time=  14.6s\n",
      "[CV] END .....................max_depth=30, n_estimators=100; total time=  14.9s\n",
      "[CV] END .....................max_depth=30, n_estimators=100; total time=  14.9s\n",
      "[CV] END .....................max_depth=30, n_estimators=100; total time=  14.5s\n",
      "[CV] END ....................max_depth=30, n_estimators=1000; total time= 2.5min\n",
      "[CV] END ....................max_depth=30, n_estimators=1000; total time= 2.5min\n",
      "[CV] END ....................max_depth=30, n_estimators=1000; total time= 2.5min\n",
      "[CV] END ....................max_depth=30, n_estimators=1000; total time= 2.5min\n",
      "[CV] END ....................max_depth=30, n_estimators=1000; total time= 2.4min\n"
     ]
    },
    {
     "data": {
      "text/plain": [
       "GridSearchCV(cv=5, estimator=RandomForestClassifier(random_state=0), n_jobs=1,\n",
       "             param_grid={'max_depth': [10, 20, 30],\n",
       "                         'n_estimators': [10, 100, 1000]},\n",
       "             scoring='f1', verbose=2)"
      ]
     },
     "execution_count": 19,
     "metadata": {},
     "output_type": "execute_result"
    }
   ],
   "source": [
    "# グリッドサーチを行う\n",
    "grid = GridSearchCV(\n",
    "    estimator=RandomForestClassifier(random_state=0), # 識別器\n",
    "    param_grid=params, #　最適化したいパラメータセット\n",
    "    n_jobs=1,\n",
    "    cv=5,#　5分割交差検証\n",
    "    scoring='f1',\n",
    "    verbose=2)\n",
    "grid.fit(train_X,  train_y) "
   ]
  },
  {
   "cell_type": "code",
   "execution_count": 20,
   "metadata": {
    "execution": {
     "iopub.execute_input": "2021-01-17T15:24:27.812321Z",
     "iopub.status.busy": "2021-01-17T15:24:27.812321Z",
     "iopub.status.idle": "2021-01-17T15:24:27.814323Z",
     "shell.execute_reply": "2021-01-17T15:24:27.814323Z",
     "shell.execute_reply.started": "2021-01-17T15:24:27.812321Z"
    }
   },
   "outputs": [],
   "source": [
    "# 最適解でモデルを作成\n",
    "max_depth=grid.best_params_.get('max_depth')\n",
    "n_estimators=grid.best_params_.get('n_estimators')\n",
    "RFR_model = RandomForestClassifier(random_state=0, max_depth=max_depth, n_estimators=n_estimators)"
   ]
  },
  {
   "cell_type": "code",
   "execution_count": 21,
   "metadata": {
    "execution": {
     "iopub.execute_input": "2021-01-17T15:24:27.815323Z",
     "iopub.status.busy": "2021-01-17T15:24:27.815323Z",
     "iopub.status.idle": "2021-01-17T15:24:27.819327Z",
     "shell.execute_reply": "2021-01-17T15:24:27.819327Z",
     "shell.execute_reply.started": "2021-01-17T15:24:27.815323Z"
    }
   },
   "outputs": [],
   "source": [
    "# モデルの作成\n",
    "RFR_model = RandomForestClassifier(random_state=0, max_depth=15)"
   ]
  },
  {
   "cell_type": "code",
   "execution_count": 22,
   "metadata": {
    "execution": {
     "iopub.execute_input": "2021-01-17T15:24:27.821330Z",
     "iopub.status.busy": "2021-01-17T15:24:27.821330Z",
     "iopub.status.idle": "2021-01-17T15:24:44.600586Z",
     "shell.execute_reply": "2021-01-17T15:24:44.600586Z",
     "shell.execute_reply.started": "2021-01-17T15:24:27.821330Z"
    }
   },
   "outputs": [],
   "source": [
    "# モデルの学習\n",
    "RFR_model = RFR_model.fit(train_X, train_y)"
   ]
  },
  {
   "cell_type": "code",
   "execution_count": 23,
   "metadata": {
    "execution": {
     "iopub.execute_input": "2021-01-17T15:24:44.601588Z",
     "iopub.status.busy": "2021-01-17T15:24:44.601588Z",
     "iopub.status.idle": "2021-01-17T15:24:46.749541Z",
     "shell.execute_reply": "2021-01-17T15:24:46.749541Z",
     "shell.execute_reply.started": "2021-01-17T15:24:44.601588Z"
    }
   },
   "outputs": [],
   "source": [
    "# 学習データの予測\n",
    "pred_train_y = RFR_model.predict(train_X)"
   ]
  },
  {
   "cell_type": "code",
   "execution_count": 24,
   "metadata": {
    "execution": {
     "iopub.execute_input": "2021-01-17T15:24:46.750542Z",
     "iopub.status.busy": "2021-01-17T15:24:46.750542Z",
     "iopub.status.idle": "2021-01-17T15:24:47.377111Z",
     "shell.execute_reply": "2021-01-17T15:24:47.377111Z",
     "shell.execute_reply.started": "2021-01-17T15:24:46.750542Z"
    }
   },
   "outputs": [],
   "source": [
    "# 評価データの予測\n",
    "pred_test_y = RFR_model.predict(test_X)"
   ]
  },
  {
   "cell_type": "code",
   "execution_count": 25,
   "metadata": {
    "execution": {
     "iopub.execute_input": "2021-01-17T15:24:47.378112Z",
     "iopub.status.busy": "2021-01-17T15:24:47.378112Z",
     "iopub.status.idle": "2021-01-17T15:24:47.395128Z",
     "shell.execute_reply": "2021-01-17T15:24:47.395128Z",
     "shell.execute_reply.started": "2021-01-17T15:24:47.378112Z"
    }
   },
   "outputs": [
    {
     "name": "stdout",
     "output_type": "stream",
     "text": [
      "accuracy_score:0.9445\n",
      "f1_score:0.8474\n"
     ]
    }
   ],
   "source": [
    "# 精度の確認\n",
    "accuracyScore = accuracy_score(test_y, pred_test_y)\n",
    "f1Score=f1_score(test_y,pred_test_y)\n",
    "print('accuracy_score:{0:.4f}'.format(accuracyScore))\n",
    "print('f1_score:{0:.4f}'.format(f1Score))"
   ]
  },
  {
   "cell_type": "code",
   "execution_count": 26,
   "metadata": {
    "execution": {
     "iopub.execute_input": "2021-01-17T15:24:47.396129Z",
     "iopub.status.busy": "2021-01-17T15:24:47.396129Z",
     "iopub.status.idle": "2021-01-17T15:24:47.567284Z",
     "shell.execute_reply": "2021-01-17T15:24:47.567284Z",
     "shell.execute_reply.started": "2021-01-17T15:24:47.396129Z"
    }
   },
   "outputs": [
    {
     "data": {
      "image/png": "[encoded data removed]",
      "text/plain": [
       "<Figure size 432x288 with 1 Axes>"
      ]
     },
     "metadata": {
      "needs_background": "light"
     },
     "output_type": "display_data"
    }
   ],
   "source": [
    "importances(RFR_model)"
   ]
  },
  {
   "cell_type": "code",
   "execution_count": 27,
   "metadata": {
    "execution": {
     "iopub.execute_input": "2021-01-17T15:24:47.568286Z",
     "iopub.status.busy": "2021-01-17T15:24:47.568286Z",
     "iopub.status.idle": "2021-01-17T15:24:47.665373Z",
     "shell.execute_reply": "2021-01-17T15:24:47.665373Z",
     "shell.execute_reply.started": "2021-01-17T15:24:47.568286Z"
    }
   },
   "outputs": [
    {
     "ename": "NameError",
     "evalue": "name 'model' is not defined",
     "output_type": "error",
     "traceback": [
      "\u001b[1;31m---------------------------------------------------------------------------\u001b[0m",
      "\u001b[1;31mNameError\u001b[0m                                 Traceback (most recent call last)",
      "\u001b[1;32m<ipython-input-27-5b5bd589fd42>\u001b[0m in \u001b[0;36m<module>\u001b[1;34m\u001b[0m\n\u001b[0;32m      1\u001b[0m \u001b[1;31m# モデルの保存\u001b[0m\u001b[1;33m\u001b[0m\u001b[1;33m\u001b[0m\u001b[1;33m\u001b[0m\u001b[0m\n\u001b[0;32m      2\u001b[0m \u001b[1;32mwith\u001b[0m \u001b[0mopen\u001b[0m\u001b[1;33m(\u001b[0m\u001b[1;34m\"stack/\"\u001b[0m \u001b[1;33m+\u001b[0m \u001b[0mfeatureName\u001b[0m \u001b[1;33m+\u001b[0m \u001b[1;34m\"_\"\u001b[0m \u001b[1;33m+\u001b[0m \u001b[0mmodelName\u001b[0m \u001b[1;33m+\u001b[0m \u001b[1;34m'_model.pickle'\u001b[0m\u001b[1;33m,\u001b[0m \u001b[0mmode\u001b[0m\u001b[1;33m=\u001b[0m\u001b[1;34m'wb'\u001b[0m\u001b[1;33m)\u001b[0m \u001b[1;32mas\u001b[0m \u001b[0mf\u001b[0m\u001b[1;33m:\u001b[0m\u001b[1;33m\u001b[0m\u001b[1;33m\u001b[0m\u001b[0m\n\u001b[1;32m----> 3\u001b[1;33m     \u001b[0mpickle\u001b[0m\u001b[1;33m.\u001b[0m\u001b[0mdump\u001b[0m\u001b[1;33m(\u001b[0m\u001b[0mmodel\u001b[0m\u001b[1;33m,\u001b[0m \u001b[0mf\u001b[0m\u001b[1;33m)\u001b[0m\u001b[1;33m\u001b[0m\u001b[1;33m\u001b[0m\u001b[0m\n\u001b[0m",
      "\u001b[1;31mNameError\u001b[0m: name 'model' is not defined"
     ]
    }
   ],
   "source": [
    "# モデルの保存\n",
    "with open(\"stack/\" + featureName + \"_\" + modelName + '_model.pickle', mode='wb') as f:\n",
    "    pickle.dump(model, f)"
   ]
  }
 ],
 "metadata": {
  "kernelspec": {
   "display_name": "Python 3",
   "language": "python",
   "name": "python3"
  },
  "language_info": {
   "codemirror_mode": {
    "name": "ipython",
    "version": 3
   },
   "file_extension": ".py",
   "mimetype": "text/x-python",
   "name": "python",
   "nbconvert_exporter": "python",
   "pygments_lexer": "ipython3",
   "version": "3.7.9"
  },
  "widgets": {
   "application/vnd.jupyter.widget-state+json": {
    "state": {},
    "version_major": 2,
    "version_minor": 0
   }
  }
 },
 "nbformat": 4,
 "nbformat_minor": 4
}
