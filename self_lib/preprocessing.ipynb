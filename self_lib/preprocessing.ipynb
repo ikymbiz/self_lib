{
 "cells": [
  {
   "cell_type": "markdown",
   "metadata": {},
   "source": [
    "# Preprocessing"
   ]
  },
  {
   "cell_type": "markdown",
   "metadata": {},
   "source": [
    "### 前処理\n",
    "1. データ型の確認\n",
    "1. データ形の変換(日付型)\n",
    "1. データ形の変換(カテゴリ型の作成)\n",
    "1. 基本統計量の算出\n",
    "1. 単変量データの可視化\n",
    "1. 異常値の置換・除去\n",
    "1. 欠損値の補完・除去\n",
    "1. 相関(数値×数値)の可視化：ペアプロット&相関行列\n",
    "1. 相関(数値×カテゴリ)の可視化：ボックスプロット\n",
    "1. 相関(カテゴリ×カテゴリ)の可視化：ヒートマップ"
   ]
  },
  {
   "cell_type": "code",
   "execution_count": null,
   "metadata": {},
   "outputs": [],
   "source": [
    "# データ型の確認\n",
    "data.info()"
   ]
  },
  {
   "cell_type": "code",
   "execution_count": null,
   "metadata": {},
   "outputs": [],
   "source": [
    "# データ形の変換(日付型)\n",
    "raw['Date'] = pd.to_datetime(raw['Date'])"
   ]
  },
  {
   "cell_type": "code",
   "execution_count": null,
   "metadata": {},
   "outputs": [],
   "source": [
    "# データ形の変換(カテゴリ型の作成)\n",
    "raw['Age_cat'] = pd.cut(raw['Age'], bins=np.arange(0, 100, 10), right=False)"
   ]
  },
  {
   "cell_type": "code",
   "execution_count": null,
   "metadata": {},
   "outputs": [],
   "source": [
    "# データ形の変換(ID列をpd.DataframeのIndexへ変更)\n",
    "raw = raw.set_index('PassengerId')\n",
    "# raw = raw.set_index(raw['PassengerId'])#元の列名が残る方法"
   ]
  },
  {
   "cell_type": "code",
   "execution_count": null,
   "metadata": {},
   "outputs": [],
   "source": [
    "# 基本統計量の算出\n",
    "raw.describe(include='all')"
   ]
  },
  {
   "cell_type": "markdown",
   "metadata": {},
   "source": [
    "#### 基本統計量の指標一覧\n",
    "|指標|意味|\n",
    "|---|---|\n",
    "|count\t|データの個数|\n",
    "|unique\t|ユニークな値の個数|\n",
    "|top\t|最頻値（最も多く出現したカテゴリ)|\n",
    "|freq\t|topで返されたカテゴリの出現回数|\n",
    "|mean\t|平均|\n",
    "|std\t|標準偏差|\n",
    "|min\t|最小値|\n",
    "|25%\t|第一四分位数|\n",
    "|50%\t|第二四分位数（中央値）|\n",
    "|75%\t|第三四分位数|\n",
    "|max\t|最大値|"
   ]
  },
  {
   "cell_type": "markdown",
   "metadata": {},
   "source": [
    "### 単変量データの可視化\n",
    "クロス集計をして各変数間の関係性をみるまえに、まずは各変数ごとに可視化をしてデータを理解します  \n",
    "数値データはヒストグラム、カテゴリデータはカウントプロットで可視化すると分かりやすいです  \n",
    "pandasのデフォルトのグラフでも可視化はできるますが、ヒストグラムは平均・中央値と比較してみたい、カウントプロットは実数も重ねてみたい、、ので関数を定義します"
   ]
  },
  {
   "cell_type": "code",
   "execution_count": null,
   "metadata": {},
   "outputs": [],
   "source": [
    "# 数値データ用ヒストグラム\n",
    "def num_vis(data):\n",
    "    data.hist(figsize=(5, 4), color='darkblue', alpha=.7)\n",
    "    mean = data.mean()\n",
    "    median = data.median()\n",
    "    ymax = pd.cut(data, 10).value_counts().max()\n",
    "    plt.vlines(x=mean, ymin=0, ymax=ymax, colors='red', linestyles='--', lw=.7)# 平均値の直線追加\n",
    "    plt.annotate('Mean: {}'.format(round(mean, 2)),xy=(mean, ymax), color='red')\n",
    "    plt.vlines(x=median, ymin=0, ymax=ymax, colors='orange', linestyles='--', lw=.7)# 中央値の直線追加\n",
    "    plt.annotate('Median: {}'.format(round(median, 2)),xy=(mean, ymax*0.8), color='orange')\n",
    "    plt.title(data.name)\n",
    "    plt.show()"
   ]
  },
  {
   "cell_type": "code",
   "execution_count": null,
   "metadata": {},
   "outputs": [],
   "source": [
    "# カテゴリデータ用カウントプロット\n",
    "def cut_vis(data):\n",
    "    t = data.value_counts()\n",
    "    t.plot.bar(figsize=(5, 4), color='indianred', alpha=.7)\n",
    "    for i in range(len(t)):\n",
    "        plt.annotate(t[i], xy=(i, t[i]/2), ha='center')#haでannotatioinのテキストを中央寄せ\n",
    "    plt.title(data.name)   \n",
    "    plt.show()"
   ]
  },
  {
   "cell_type": "code",
   "execution_count": null,
   "metadata": {},
   "outputs": [],
   "source": [
    "# 関数を各変数へ適用\n",
    "num_vis(raw['Age'])\n",
    "num_vis(raw['Fare'])\n",
    "\n",
    "cut_vis(raw['Label'])\n",
    "cut_vis(raw['Sex'])\n",
    "cut_vis(raw['Embarked'])"
   ]
  },
  {
   "cell_type": "markdown",
   "metadata": {},
   "source": [
    "### 異常値の置換・除去"
   ]
  },
  {
   "cell_type": "code",
   "execution_count": null,
   "metadata": {},
   "outputs": [],
   "source": [
    "#異常値として除去する対象を表示（確認）\n",
    "raw[raw['Age'] > 100]"
   ]
  },
  {
   "cell_type": "code",
   "execution_count": null,
   "metadata": {},
   "outputs": [],
   "source": [
    "#対象のIndexを取得して、pd.Dataframe.dropで除去\n",
    "raw = raw.drop(raw[raw['Age'] > 100].index, axis=0)"
   ]
  },
  {
   "cell_type": "code",
   "execution_count": null,
   "metadata": {},
   "outputs": [],
   "source": [
    "def replace_male(x):\n",
    "    if pd.isna(x):\n",
    "        pass\n",
    "    else:\n",
    "        return x.replace('man', 'male')\n",
    "\n",
    "def replace_female(x):\n",
    "    if pd.isna(x):\n",
    "        pass\n",
    "    else:\n",
    "        return x.replace('woman', 'female')\n",
    "\n",
    "raw['Sex'] = raw['Sex'].apply(replace_female)\n",
    "raw['Sex'] = raw['Sex'].apply(replace_male)"
   ]
  },
  {
   "cell_type": "markdown",
   "metadata": {},
   "source": [
    "### 欠損値の補完・除去"
   ]
  },
  {
   "cell_type": "code",
   "execution_count": null,
   "metadata": {},
   "outputs": [],
   "source": [
    "# data = raw.dropna()\n",
    "# 欠損値除去後のデータは別名にして、元データは残しておくと後々便利"
   ]
  },
  {
   "cell_type": "code",
   "execution_count": null,
   "metadata": {},
   "outputs": [],
   "source": [
    "raw['Age'] = raw['Age'].fillna(raw['Age'].mean())\n",
    "raw['Fare'] = raw['Fare'].fillna(raw['Fare'].mean())"
   ]
  },
  {
   "cell_type": "markdown",
   "metadata": {},
   "source": [
    "### 相関(数値×数値)の可視化：ペアプロット&相関行列のヒートマップ"
   ]
  },
  {
   "cell_type": "code",
   "execution_count": null,
   "metadata": {},
   "outputs": [],
   "source": [
    "sns.pairplot(data=raw, vars=['Age', 'Fare'], size=3)"
   ]
  },
  {
   "cell_type": "markdown",
   "metadata": {},
   "source": [
    "ペアプロットは引数が色々あり、層別傾向や回帰直線も表現することができます  \n",
    "kind='reg'で回帰直線を追加、diag_kind='kde'でヒストグラムをカーネル密度推定で表現、hueで層別塗り分けをします"
   ]
  },
  {
   "cell_type": "code",
   "execution_count": null,
   "metadata": {},
   "outputs": [],
   "source": [
    "sns.pairplot(data=raw, vars=['Age', 'Fare'], hue='Sex', kind='reg', diag_kind='kde', size=3,\n",
    "            plot_kws={'scatter_kws': {'alpha': 0.4},'line_kws': {'linestyle': '--', 'linewidth': .7}})"
   ]
  },
  {
   "cell_type": "markdown",
   "metadata": {},
   "source": [
    "#### ヒートマップ\n",
    "pd.Dataframe.corr()で相関行列が算出できるので、それをSeabornのヒートマップで可視化"
   ]
  },
  {
   "cell_type": "code",
   "execution_count": null,
   "metadata": {},
   "outputs": [],
   "source": [
    "plt.figure(figsize=(6, 5))\n",
    "sns.heatmap(raw[['Age', 'Fare']].corr(), fmt=\"1.2f\", annot=True, lw=0.7, cmap='YlGnBu')"
   ]
  },
  {
   "cell_type": "markdown",
   "metadata": {},
   "source": [
    "### 相関(数値×カテゴリ)の可視化：ボックスプロット\n",
    "数値×カテゴリデータはボックスプロットでカテゴリごとの数値傾向を見るとデータの関係性が理解"
   ]
  },
  {
   "cell_type": "code",
   "execution_count": null,
   "metadata": {},
   "outputs": [],
   "source": [
    "sns.boxplot(data=raw, x='Label', y='Age', palette=\"Set3\")"
   ]
  },
  {
   "cell_type": "markdown",
   "metadata": {},
   "source": [
    "全ての数値×カテゴリの組み合わせに適用"
   ]
  },
  {
   "cell_type": "code",
   "execution_count": null,
   "metadata": {},
   "outputs": [],
   "source": [
    "plt.figure(figsize=(20, 7))\n",
    "plt.subplots_adjust(wspace=0.1, hspace=0.4)\n",
    "i = 1\n",
    "for x in ['Label', 'Sex', 'Embarked', 'Age_cat']:\n",
    "    for y in ['Age', 'Fare']:\n",
    "        plt.subplot(3, 3,i)\n",
    "        sns.boxplot(data=raw, x=x, y=y, palette=\"Set3\")\n",
    "        i += 1"
   ]
  },
  {
   "cell_type": "markdown",
   "metadata": {},
   "source": [
    "### 相関(カテゴリ×カテゴリ)の可視化：ヒートマップ"
   ]
  },
  {
   "cell_type": "markdown",
   "metadata": {},
   "source": [
    "カテゴリデータの関係性を把握するには、クロス集計表を出力して、ヒートマップで視覚的に把握するのが分かりやすいです  \n",
    "pd.crosstabでカテゴリデータのクロス集計表を作成して、それをSeabornのヒートマップで可視化します"
   ]
  },
  {
   "cell_type": "code",
   "execution_count": null,
   "metadata": {},
   "outputs": [],
   "source": [
    "sns.heatmap(pd.crosstab(raw['Label'], raw['Sex']), fmt=\"1.1f\", annot=True, lw=0.7, cmap='Blues')"
   ]
  },
  {
   "cell_type": "markdown",
   "metadata": {},
   "source": [
    "全てのカテゴリ×カテゴリの組み合わせに適用"
   ]
  },
  {
   "cell_type": "code",
   "execution_count": null,
   "metadata": {},
   "outputs": [],
   "source": [
    "plt.figure(figsize=(20, 7))\n",
    "plt.subplots_adjust(wspace=0.1, hspace=0.4)\n",
    "i = 1\n",
    "for label_1 in ['Label', 'Sex', 'Embarked']: \n",
    "    for label_2 in ['Label', 'Sex', 'Embarked']:\n",
    "        plt.subplot(3, 3,i)\n",
    "        sns.heatmap(pd.crosstab(raw[label_1], raw[label_2]), fmt=\"1.1f\", annot=True, lw=0.7, cmap='Blues')"
   ]
  },
  {
   "cell_type": "markdown",
   "metadata": {},
   "source": [
    "### pandas_profilingによるデータプロファイルレポートの自動作成"
   ]
  },
  {
   "cell_type": "code",
   "execution_count": null,
   "metadata": {},
   "outputs": [],
   "source": [
    "import pandas_profiling as pdp\n",
    "report = pdp.ProfileReport(raw)\n",
    "report# notebook上にレポートを表示\n",
    "# report.to_html# html形式でレポートを出力"
   ]
  }
 ],
 "metadata": {
  "kernelspec": {
   "display_name": "Python 3",
   "language": "python",
   "name": "python3"
  },
  "language_info": {
   "codemirror_mode": {
    "name": "ipython",
    "version": 3
   },
   "file_extension": ".py",
   "mimetype": "text/x-python",
   "name": "python",
   "nbconvert_exporter": "python",
   "pygments_lexer": "ipython3",
   "version": "3.7.9"
  },
  "widgets": {
   "application/vnd.jupyter.widget-state+json": {
    "state": {},
    "version_major": 2,
    "version_minor": 0
   }
  }
 },
 "nbformat": 4,
 "nbformat_minor": 4
}
