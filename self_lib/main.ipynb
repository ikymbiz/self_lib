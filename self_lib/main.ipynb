{
 "cells": [
  {
   "cell_type": "markdown",
   "metadata": {},
   "source": [
    "# forecast_rental_price_of_residential"
   ]
  },
  {
   "cell_type": "code",
   "execution_count": 2,
   "metadata": {
    "execution": {
     "iopub.execute_input": "2021-01-11T13:54:16.084369Z",
     "iopub.status.busy": "2021-01-11T13:54:16.083378Z",
     "iopub.status.idle": "2021-01-11T13:54:16.090374Z",
     "shell.execute_reply": "2021-01-11T13:54:16.090374Z",
     "shell.execute_reply.started": "2021-01-11T13:54:16.084369Z"
    }
   },
   "outputs": [],
   "source": [
    "import os\n",
    "import re\n",
    "import sys\n",
    "import calendar\n",
    "import datetime\n",
    "\n",
    "import numpy as np\n",
    "import pandas as pd\n",
    "import matplotlib.pyplot as plt\n",
    "import seaborn as sns\n",
    "sns.set()\n",
    "\n",
    "from sklearn.model_selection import train_test_split\n",
    "import category_encoders as ce\n",
    "\n",
    "from self_lib import tr_text as trtx\n",
    "from self_lib import rpl_text\n",
    "from self_lib import utils\n",
    "\n",
    "# 可視化\n",
    "from self_lib.graph import graph \n",
    "\n",
    "#tips\n",
    "from self_lib import tips \n",
    "%matplotlib inline\n",
    "\n",
    "# warningの無視\n",
    "import warnings\n",
    "warnings.filterwarnings('ignore')\n",
    "\n",
    "# 表示列数を指定\n",
    "pd.set_option('display.max_columns', 500)\n",
    "pd.set_option('display.max_rows', 100)\n",
    "\n",
    "# font\n",
    "plt.rcParams[\"font.family\"] = \"IPAexGothic\"\n",
    "## fontdict\n",
    "# font = {'family'  : 'IPAexGothic',  #フォントファミリー\n",
    "#         'color'   : 'navy',         #フォントカラー\n",
    "#         'style'   : 'italic',       #イタリック\n",
    "#         'weight'  : 'bold',         #フォントウェイト\n",
    "#         'size'    : '14',           #フォントサイズ\n",
    "#         'rotation': 90              # 90度回転\n",
    "#         }\n",
    "\n",
    "# 表の左寄せ表示\n",
    "\n",
    "%%html\n",
    "<style>\n",
    "table {float:left}\n",
    "</style>"
   ]
  },
  {
   "cell_type": "code",
   "execution_count": 3,
   "metadata": {
    "execution": {
     "iopub.execute_input": "2021-01-11T13:54:16.826002Z",
     "iopub.status.busy": "2021-01-11T13:54:16.826002Z",
     "iopub.status.idle": "2021-01-11T13:54:16.830004Z",
     "shell.execute_reply": "2021-01-11T13:54:16.830004Z",
     "shell.execute_reply.started": "2021-01-11T13:54:16.826002Z"
    }
   },
   "outputs": [],
   "source": [
    "# 変換リスト\n",
    "df_madori=pd.DataFrame({\n",
    "    '間取り':['1R',\n",
    "    '1K','1DK','1DKS','1KS','1LK','1LKS','1LDK','1LDKS',\n",
    "    '2K','2DK','2DKS','2KS','2LK','2LKS','2LDK','2LDKS',\n",
    "    '3K','3DK','3DKS','3KS','3LK','3LKS','3LDK','3LDKS',\n",
    "    '4K','4DK','4DKS','4KS','4LK','4LKS','4LDK','4LDKS',\n",
    "    '5K','5DK','5DKS','5KS','5LK','5LKS','5LDK','5LDKS',\n",
    "    '6K','6DK','6DKS','6KS','6LK','6LKS','6LDK','6LDKS']\n",
    "})\n",
    "\n",
    "dic_stracture={'木造': 'W', \n",
    "              '鉄骨造':'S' , '軽量鉄骨':'S' , \n",
    "              '鉄骨鉄筋コンクリート':'SRC' ,'鉄筋コンクリート':'RC' ,\n",
    "              '軽量気泡コンクリート':'ALC' , \n",
    "              'プレキャスト・コンクリート':'PC' ,'重量鉄骨':'HPC' ,\n",
    "               'ブロック':'B' , 'その他':'other'}"
   ]
  },
  {
   "cell_type": "markdown",
   "metadata": {},
   "source": [
    "## データ読込み"
   ]
  },
  {
   "cell_type": "code",
   "execution_count": 4,
   "metadata": {
    "execution": {
     "iopub.execute_input": "2021-01-11T13:54:17.273628Z",
     "iopub.status.busy": "2021-01-11T13:54:17.273628Z",
     "iopub.status.idle": "2021-01-11T13:54:17.634955Z",
     "shell.execute_reply": "2021-01-11T13:54:17.634955Z",
     "shell.execute_reply.started": "2021-01-11T13:54:17.273628Z"
    }
   },
   "outputs": [],
   "source": [
    "train_raw_data = pd.read_csv('../data/train.csv')\n",
    "data = pd.DataFrame(train_raw_data)"
   ]
  },
  {
   "cell_type": "markdown",
   "metadata": {},
   "source": [
    "EDA"
   ]
  },
  {
   "cell_type": "code",
   "execution_count": 1,
   "metadata": {
    "execution": {
     "iopub.execute_input": "2021-01-12T14:46:44.143594Z",
     "iopub.status.busy": "2021-01-12T14:46:44.142593Z",
     "iopub.status.idle": "2021-01-12T14:46:44.145596Z",
     "shell.execute_reply": "2021-01-12T14:46:44.145596Z",
     "shell.execute_reply.started": "2021-01-12T14:46:44.143594Z"
    }
   },
   "outputs": [],
   "source": [
    "# data.head()"
   ]
  },
  {
   "cell_type": "code",
   "execution_count": 2,
   "metadata": {
    "execution": {
     "iopub.execute_input": "2021-01-12T14:46:49.087105Z",
     "iopub.status.busy": "2021-01-12T14:46:49.086113Z",
     "iopub.status.idle": "2021-01-12T14:46:49.088106Z",
     "shell.execute_reply": "2021-01-12T14:46:49.088106Z",
     "shell.execute_reply.started": "2021-01-12T14:46:49.087105Z"
    }
   },
   "outputs": [],
   "source": [
    "# data.info()"
   ]
  },
  {
   "cell_type": "markdown",
   "metadata": {},
   "source": [
    "## 前処理"
   ]
  },
  {
   "cell_type": "code",
   "execution_count": 7,
   "metadata": {
    "execution": {
     "iopub.execute_input": "2021-01-11T13:54:18.433431Z",
     "iopub.status.busy": "2021-01-11T13:54:18.433431Z",
     "iopub.status.idle": "2021-01-11T13:54:18.439436Z",
     "shell.execute_reply": "2021-01-11T13:54:18.439436Z",
     "shell.execute_reply.started": "2021-01-11T13:54:18.433431Z"
    }
   },
   "outputs": [],
   "source": [
    "# id を削除\n",
    "data=data.drop(labels='id',axis=1)"
   ]
  },
  {
   "cell_type": "markdown",
   "metadata": {},
   "source": [
    "EDA"
   ]
  },
  {
   "cell_type": "code",
   "execution_count": 8,
   "metadata": {
    "execution": {
     "iopub.execute_input": "2021-01-11T13:54:18.827282Z",
     "iopub.status.busy": "2021-01-11T13:54:18.827282Z",
     "iopub.status.idle": "2021-01-11T13:54:18.831286Z",
     "shell.execute_reply": "2021-01-11T13:54:18.831286Z",
     "shell.execute_reply.started": "2021-01-11T13:54:18.827282Z"
    }
   },
   "outputs": [
    {
     "data": {
      "text/plain": [
       "31470"
      ]
     },
     "execution_count": 8,
     "metadata": {},
     "output_type": "execute_result"
    }
   ],
   "source": [
    "len(data['所在地'])"
   ]
  },
  {
   "cell_type": "code",
   "execution_count": 9,
   "metadata": {
    "execution": {
     "iopub.execute_input": "2021-01-11T13:54:19.020458Z",
     "iopub.status.busy": "2021-01-11T13:54:19.020458Z",
     "iopub.status.idle": "2021-01-11T13:54:19.026463Z",
     "shell.execute_reply": "2021-01-11T13:54:19.026463Z",
     "shell.execute_reply.started": "2021-01-11T13:54:19.020458Z"
    }
   },
   "outputs": [
    {
     "data": {
      "text/plain": [
       "0"
      ]
     },
     "execution_count": 9,
     "metadata": {},
     "output_type": "execute_result"
    }
   ],
   "source": [
    "data['所在地'].isna().sum()"
   ]
  },
  {
   "cell_type": "code",
   "execution_count": 10,
   "metadata": {
    "execution": {
     "iopub.execute_input": "2021-01-11T13:54:19.221640Z",
     "iopub.status.busy": "2021-01-11T13:54:19.221640Z",
     "iopub.status.idle": "2021-01-11T13:54:19.231650Z",
     "shell.execute_reply": "2021-01-11T13:54:19.231650Z",
     "shell.execute_reply.started": "2021-01-11T13:54:19.221640Z"
    }
   },
   "outputs": [
    {
     "name": "stdout",
     "output_type": "stream",
     "text": [
      "31470\n"
     ]
    }
   ],
   "source": [
    "i=0\n",
    "for strPrefecture in data['所在地']:\n",
    "    if '東京都' in strPrefecture:\n",
    "        i += 1\n",
    "    else:\n",
    "        pass\n",
    "print(i)"
   ]
  },
  {
   "cell_type": "markdown",
   "metadata": {},
   "source": [
    "->　欠損値なく、すべて東京都内"
   ]
  },
  {
   "cell_type": "markdown",
   "metadata": {},
   "source": [
    "## 正規化処理"
   ]
  },
  {
   "cell_type": "code",
   "execution_count": 11,
   "metadata": {
    "execution": {
     "iopub.execute_input": "2021-01-11T13:54:19.970411Z",
     "iopub.status.busy": "2021-01-11T13:54:19.970411Z",
     "iopub.status.idle": "2021-01-11T13:54:20.475870Z",
     "shell.execute_reply": "2021-01-11T13:54:20.475870Z",
     "shell.execute_reply.started": "2021-01-11T13:54:19.970411Z"
    }
   },
   "outputs": [],
   "source": [
    "# 住所の分割\n",
    "data[[\"都道府県\", \"区\"]] = data['所在地'].str.split(\"都\", expand=True)\n",
    "data['都道府県'] = data['都道府県'] + \"都\"\n",
    "data[[\"区\", \"地区\"]] = data['区'].str.split(\"区\", expand=True)\n",
    "data['区'] = data['区'] + \"区\"\n",
    "\n",
    "data['地区']=data['地区'] .map(trtx.zen_han)\n",
    "# train_data['地区']=train_data['地区'] .map(trtx.tr_areas)\n",
    "\n",
    "# data['地区']=data['地区'].str.replace('丁目','AoB')\n",
    "data['地区']=data['地区'].str.replace('丁目','o')\n",
    "\n",
    "data['番地']=data['地区'].str.split(\"o\",expand=True)[1]\n",
    "data['地区']=data['地区'].str.split(\"o\",expand=True)[0]"
   ]
  },
  {
   "cell_type": "code",
   "execution_count": 12,
   "metadata": {
    "execution": {
     "iopub.execute_input": "2021-01-11T13:54:20.476871Z",
     "iopub.status.busy": "2021-01-11T13:54:20.476871Z",
     "iopub.status.idle": "2021-01-11T13:54:20.800165Z",
     "shell.execute_reply": "2021-01-11T13:54:20.800165Z",
     "shell.execute_reply.started": "2021-01-11T13:54:20.476871Z"
    }
   },
   "outputs": [],
   "source": [
    "# 間取りの表現を正規化\n",
    "l_m=data['間取り']\n",
    "l_m=l_m.map(trtx.zen_han)\n",
    "l_m=l_m.str.replace(\"納戸\",\"\").str.replace(\"K\\+S\",\"KS\").str.replace(\"\\(\",\"\").str.replace(\"\\)\",\"\")\n",
    "data['間取り']=l_m"
   ]
  },
  {
   "cell_type": "code",
   "execution_count": 13,
   "metadata": {
    "execution": {
     "iopub.execute_input": "2021-01-11T13:54:20.801165Z",
     "iopub.status.busy": "2021-01-11T13:54:20.801165Z",
     "iopub.status.idle": "2021-01-11T13:54:20.824187Z",
     "shell.execute_reply": "2021-01-11T13:54:20.824187Z",
     "shell.execute_reply.started": "2021-01-11T13:54:20.801165Z"
    }
   },
   "outputs": [],
   "source": [
    "# 建物構造を正規化\n",
    "i=0\n",
    "l_s=[]\n",
    "for stracture in data['建物構造']:\n",
    "    type_s=rpl_text.dic_val(stracture,dic_stracture)\n",
    "    l_s.append(type_s)\n",
    "    i += 1\n",
    "data['type']=l_s"
   ]
  },
  {
   "cell_type": "code",
   "execution_count": 14,
   "metadata": {
    "execution": {
     "iopub.execute_input": "2021-01-11T13:54:20.825187Z",
     "iopub.status.busy": "2021-01-11T13:54:20.825187Z",
     "iopub.status.idle": "2021-01-11T13:54:20.924278Z",
     "shell.execute_reply": "2021-01-11T13:54:20.924278Z",
     "shell.execute_reply.started": "2021-01-11T13:54:20.825187Z"
    }
   },
   "outputs": [],
   "source": [
    "# 築年数を正規化\n",
    "\n",
    "# 年月に分割\n",
    "data[['p_year','p_month']]= data['築年数'].str.split(\"年\", expand=True)\n",
    "data['p_month']=data['p_month'].str.replace('ヶ月',\"\")\n",
    "\n",
    "# 新築を０年０ヶ月に変換\n",
    "data['p_year']=data['p_year'].str.replace('新築',\"0\")\n",
    "data['p_month']=data['p_month'].str.replace('新築',\"0\")\n",
    "data['p_month']=data['p_month'].fillna('0')\n",
    "\n",
    "# 型変換（int64）\n",
    "data['p_year']=data['p_year'].astype('int64')\n",
    "data['p_month']=data['p_month'].astype('int64')"
   ]
  },
  {
   "cell_type": "code",
   "execution_count": 15,
   "metadata": {
    "execution": {
     "iopub.execute_input": "2021-01-11T13:54:20.925278Z",
     "iopub.status.busy": "2021-01-11T13:54:20.925278Z",
     "iopub.status.idle": "2021-01-11T13:54:20.953304Z",
     "shell.execute_reply": "2021-01-11T13:54:20.953304Z",
     "shell.execute_reply.started": "2021-01-11T13:54:20.925278Z"
    }
   },
   "outputs": [],
   "source": [
    "# 面積を正規化\n",
    "# 単位を削除\n",
    "data['面積']=data['面積'].str.replace('m2',\"\")\n",
    "# 型変換（float）\n",
    "data['面積']=data['面積'].astype('float')"
   ]
  },
  {
   "cell_type": "code",
   "execution_count": 16,
   "metadata": {
    "execution": {
     "iopub.execute_input": "2021-01-11T13:54:21.210365Z",
     "iopub.status.busy": "2021-01-11T13:54:21.210365Z",
     "iopub.status.idle": "2021-01-11T13:54:21.329474Z",
     "shell.execute_reply": "2021-01-11T13:54:21.329474Z",
     "shell.execute_reply.started": "2021-01-11T13:54:21.210365Z"
    }
   },
   "outputs": [],
   "source": [
    "# 所在階を正規化\n",
    "data[['階','階建て']]=data['所在階'].str.split(\"／\", expand=True)\n",
    "data['階']=data['階'].str.replace('階',\"\")\n",
    "data['階建て']=data['階建て'].str.replace('階建',\"\")"
   ]
  },
  {
   "cell_type": "code",
   "execution_count": 17,
   "metadata": {
    "execution": {
     "iopub.execute_input": "2021-01-11T13:54:21.394532Z",
     "iopub.status.busy": "2021-01-11T13:54:21.394532Z",
     "iopub.status.idle": "2021-01-11T13:54:21.401539Z",
     "shell.execute_reply": "2021-01-11T13:54:21.401539Z",
     "shell.execute_reply.started": "2021-01-11T13:54:21.394532Z"
    }
   },
   "outputs": [],
   "source": [
    "a_data=data.copy()"
   ]
  },
  {
   "cell_type": "code",
   "execution_count": 18,
   "metadata": {
    "execution": {
     "iopub.execute_input": "2021-01-11T13:54:21.577697Z",
     "iopub.status.busy": "2021-01-11T13:54:21.577697Z",
     "iopub.status.idle": "2021-01-11T13:54:22.944940Z",
     "shell.execute_reply": "2021-01-11T13:54:22.944940Z",
     "shell.execute_reply.started": "2021-01-11T13:54:21.577697Z"
    }
   },
   "outputs": [],
   "source": [
    "# バス・トイレ/キッチン/放送通信を正規化\n",
    "\n",
    "facility=[\"バス・トイレ\",\"キッチン\",\"放送・通信\"]\n",
    "\n",
    "for f in facility: \n",
    "    # 改行を削除\n",
    "    a_data[f]=a_data[f].str.replace(\"\\t\",\"\")\n",
    "    \n",
    "    # 表現を統一\n",
    "    a_data[f]=a_data[f].str.replace(\"コンロ設置可（コンロ1口）\",\"コンロ1口\")\n",
    "    a_data[f]=a_data[f].str.replace(\"コンロ設置可（コンロ2口）\",\"コンロ2口\")\n",
    "    a_data[f]=a_data[f].str.replace(\"コンロ設置可（コンロ3口）\",\"コンロ3口\")\n",
    "    a_data[f]=a_data[f].str.replace(\"コンロ設置可（コンロ4口以上）\",\"コンロ4口以上\")\n",
    "    a_data[f]=a_data[f].str.replace(\"コンロ設置可（口数不明）\",\"コンロ1口\")\n",
    "    \n",
    "    # 分割してリストに格納\n",
    "    l_facility=[]\n",
    "\n",
    "    for word in pd.Series(a_data[f]):\n",
    "        if type(word) is str:\n",
    "            l_facility.append(word.split(\"／\"))\n",
    "        else: #欠損値行に欠損値を与える\n",
    "            l_facility.append(np.nan)      \n",
    "\n",
    "    # ダミー変数化\n",
    "    facility = pd.Series(l_facility,name=\"facility\")\n",
    "    df=facility.str.join(sep=',').str.get_dummies(sep=',')\n",
    "    a_data=pd.concat([df,a_data],axis=1)\n",
    "    \n",
    "    #EDA\n",
    "#     print(df.sum())"
   ]
  },
  {
   "cell_type": "code",
   "execution_count": 3,
   "metadata": {
    "execution": {
     "iopub.execute_input": "2021-01-12T14:46:58.180427Z",
     "iopub.status.busy": "2021-01-12T14:46:58.179426Z",
     "iopub.status.idle": "2021-01-12T14:46:58.182428Z",
     "shell.execute_reply": "2021-01-12T14:46:58.182428Z",
     "shell.execute_reply.started": "2021-01-12T14:46:58.180427Z"
    }
   },
   "outputs": [],
   "source": [
    "b_data=a_data.copy()"
   ]
  },
  {
   "cell_type": "markdown",
   "metadata": {},
   "source": [
    "契約期間  \n",
    "\n",
    "|Y|定期借家|期間|\n",
    "|---|---|---|\n",
    "|2|Null|Null|\n",
    "|2|1|2|"
   ]
  },
  {
   "cell_type": "code",
   "execution_count": 4,
   "metadata": {
    "execution": {
     "iopub.execute_input": "2021-01-12T14:47:28.439924Z",
     "iopub.status.busy": "2021-01-12T14:47:28.439924Z",
     "iopub.status.idle": "2021-01-12T14:47:28.447931Z",
     "shell.execute_reply": "2021-01-12T14:47:28.447931Z",
     "shell.execute_reply.started": "2021-01-12T14:47:28.439924Z"
    }
   },
   "outputs": [
    {
     "ename": "IndentationError",
     "evalue": "expected an indented block (<ipython-input-4-1ebb0d3586ee>, line 38)",
     "output_type": "error",
     "traceback": [
      "\u001b[1;36m  File \u001b[1;32m\"<ipython-input-4-1ebb0d3586ee>\"\u001b[1;36m, line \u001b[1;32m38\u001b[0m\n\u001b[1;33m    else: #欠損値行に欠損値を与える\u001b[0m\n\u001b[1;37m    ^\u001b[0m\n\u001b[1;31mIndentationError\u001b[0m\u001b[1;31m:\u001b[0m expected an indented block\n"
     ]
    }
   ],
   "source": [
    "# 契約期間を正規化\n",
    "\n",
    "# 不要文言削除\n",
    "term = b_data[\"契約期間\"].copy()\n",
    "term = term.str.replace(\"※この物件は\",\"\")\n",
    "term = term.str.replace(\"です。\",\"\")\n",
    "term = term.str.replace(\"\\t\",\";\")\n",
    "\n",
    "for word in term:\n",
    "    teiki=\"\"\n",
    "    if type(word) is str:\n",
    "        l_term = word.split(\";\")\n",
    "        while '' in l_term: \n",
    "            l_term:l_term.remove('')\n",
    "        \n",
    "        if \"定期借家\" in word:\n",
    "            teiki=1\n",
    "#             print(l_term[1])\n",
    "        else:\n",
    "            pass\n",
    "        \n",
    "        if \"まで\" in word:\n",
    "            target_term=l_term[0]\n",
    "            target_term=target_term.replace(\"まで\",\"\")\n",
    "            target_term=target_term.replace(\"年\",\"/\")\n",
    "            target_term=target_term.replace(\"月\",\"\")\n",
    "            y=pd.datetime.strptime(target_term, '%Y')\n",
    "#             print(y)\n",
    "            m=pd.datetime.strptime(target_term, '%m')\n",
    "#             print(m)\n",
    "            datetime.date(y, m, calendar.monthrange(y, m)[1])\n",
    "#             print(l_term[0])\n",
    "#             print(target_term)\n",
    "        else:\n",
    "#             print(l_term[0])\n",
    "            \n",
    "#         print(l_term)\n",
    "    else: #欠損値行に欠損値を与える\n",
    "#         l_facility.append(np.nan)\n",
    "        pass\n",
    "    "
   ]
  },
  {
   "cell_type": "code",
   "execution_count": 5,
   "metadata": {
    "execution": {
     "iopub.execute_input": "2021-01-12T14:47:34.737646Z",
     "iopub.status.busy": "2021-01-12T14:47:34.737646Z",
     "iopub.status.idle": "2021-01-12T14:47:34.739652Z",
     "shell.execute_reply": "2021-01-12T14:47:34.739652Z",
     "shell.execute_reply.started": "2021-01-12T14:47:34.737646Z"
    }
   },
   "outputs": [],
   "source": [
    "b_data[\"契約期間\"].unique()"
   ]
  },
  {
   "cell_type": "code",
   "execution_count": null,
   "metadata": {},
   "outputs": [],
   "source": []
  },
  {
   "cell_type": "code",
   "execution_count": null,
   "metadata": {},
   "outputs": [],
   "source": []
  },
  {
   "cell_type": "code",
   "execution_count": null,
   "metadata": {},
   "outputs": [],
   "source": []
  },
  {
   "cell_type": "code",
   "execution_count": null,
   "metadata": {},
   "outputs": [],
   "source": []
  },
  {
   "cell_type": "code",
   "execution_count": 110,
   "metadata": {
    "execution": {
     "iopub.execute_input": "2021-01-11T13:05:41.320096Z",
     "iopub.status.busy": "2021-01-11T13:05:41.319095Z",
     "iopub.status.idle": "2021-01-11T13:05:43.285548Z",
     "shell.execute_reply": "2021-01-11T13:05:43.285548Z",
     "shell.execute_reply.started": "2021-01-11T13:05:41.320096Z"
    }
   },
   "outputs": [],
   "source": [
    "# 室内設備を正規化\n",
    "\n",
    "facility=[\"室内設備\"]\n",
    "\n",
    "for f in facility: \n",
    "    # 改行を削除\n",
    "    b_data[f]=b_data[f].str.replace(\"\\t\",\" \")\n",
    "    b_data[f]=b_data[f].str.replace(\"／\",\" \")\n",
    "    b_data[f]=b_data[f].str.replace(\"\\\\\",\" \")\n",
    "    \n",
    "    # 分割してリストに格納\n",
    "    l_facility_room=[]\n",
    "\n",
    "    for word in pd.Series(b_data[f]):\n",
    "        if type(word) is str:\n",
    "            l_facility_room.append(word.split(\" \"))\n",
    "        else: #欠損値行に欠損値を与える\n",
    "            l_facility_room.append(np.nan)      \n",
    "\n",
    "    # ダミー変数化\n",
    "    facility_r = pd.Series(l_facility_room,name=\"facility\")\n",
    "    df=facility_r.str.join(sep=',').str.get_dummies(sep=',')\n",
    "    b_data=pd.concat([df,b_data],axis=1)\n",
    "    \n",
    "    #EDA\n",
    "#     print(df.sum())"
   ]
  },
  {
   "cell_type": "code",
   "execution_count": 6,
   "metadata": {
    "execution": {
     "iopub.execute_input": "2021-01-12T14:47:40.998335Z",
     "iopub.status.busy": "2021-01-12T14:47:40.998335Z",
     "iopub.status.idle": "2021-01-12T14:47:41.000338Z",
     "shell.execute_reply": "2021-01-12T14:47:41.000338Z",
     "shell.execute_reply.started": "2021-01-12T14:47:40.998335Z"
    }
   },
   "outputs": [],
   "source": [
    "#EDA\n",
    "b_data[\"アクセス\"].unique()"
   ]
  },
  {
   "cell_type": "code",
   "execution_count": 112,
   "metadata": {
    "execution": {
     "iopub.execute_input": "2021-01-11T13:06:11.749432Z",
     "iopub.status.busy": "2021-01-11T13:06:11.749432Z",
     "iopub.status.idle": "2021-01-11T13:06:11.770451Z",
     "shell.execute_reply": "2021-01-11T13:06:11.770451Z",
     "shell.execute_reply.started": "2021-01-11T13:06:11.749432Z"
    }
   },
   "outputs": [],
   "source": [
    "c_data=b_data.copy()"
   ]
  },
  {
   "cell_type": "code",
   "execution_count": 7,
   "metadata": {
    "execution": {
     "iopub.execute_input": "2021-01-12T14:47:58.135325Z",
     "iopub.status.busy": "2021-01-12T14:47:58.134325Z",
     "iopub.status.idle": "2021-01-12T14:47:58.179365Z",
     "shell.execute_reply": "2021-01-12T14:47:58.179365Z",
     "shell.execute_reply.started": "2021-01-12T14:47:58.135325Z"
    }
   },
   "outputs": [
    {
     "ename": "NameError",
     "evalue": "name 'c_data' is not defined",
     "output_type": "error",
     "traceback": [
      "\u001b[1;31m---------------------------------------------------------------------------\u001b[0m",
      "\u001b[1;31mNameError\u001b[0m                                 Traceback (most recent call last)",
      "\u001b[1;32m<ipython-input-7-a54848aa978f>\u001b[0m in \u001b[0;36m<module>\u001b[1;34m\u001b[0m\n\u001b[0;32m      2\u001b[0m \u001b[1;33m\u001b[0m\u001b[0m\n\u001b[0;32m      3\u001b[0m \u001b[1;31m# 表現を変更\u001b[0m\u001b[1;33m\u001b[0m\u001b[1;33m\u001b[0m\u001b[1;33m\u001b[0m\u001b[0m\n\u001b[1;32m----> 4\u001b[1;33m \u001b[0mc_data\u001b[0m\u001b[1;33m[\u001b[0m\u001b[1;34m\"アクセス\"\u001b[0m\u001b[1;33m]\u001b[0m\u001b[1;33m=\u001b[0m\u001b[0mc_data\u001b[0m\u001b[1;33m[\u001b[0m\u001b[1;34m\"アクセス\"\u001b[0m\u001b[1;33m]\u001b[0m\u001b[1;33m.\u001b[0m\u001b[0mstr\u001b[0m\u001b[1;33m.\u001b[0m\u001b[0mreplace\u001b[0m\u001b[1;33m(\u001b[0m\u001b[1;34m\"\\t\\t\"\u001b[0m\u001b[1;33m,\u001b[0m\u001b[1;34m\";\"\u001b[0m\u001b[1;33m)\u001b[0m\u001b[1;33m\u001b[0m\u001b[1;33m\u001b[0m\u001b[0m\n\u001b[0m\u001b[0;32m      5\u001b[0m \u001b[0mc_data\u001b[0m\u001b[1;33m[\u001b[0m\u001b[1;34m\"アクセス\"\u001b[0m\u001b[1;33m]\u001b[0m\u001b[1;33m=\u001b[0m\u001b[0mc_data\u001b[0m\u001b[1;33m[\u001b[0m\u001b[1;34m\"アクセス\"\u001b[0m\u001b[1;33m]\u001b[0m\u001b[1;33m.\u001b[0m\u001b[0mstr\u001b[0m\u001b[1;33m.\u001b[0m\u001b[0mreplace\u001b[0m\u001b[1;33m(\u001b[0m\u001b[1;34m\"\\t\"\u001b[0m\u001b[1;33m,\u001b[0m\u001b[1;34m\",\"\u001b[0m\u001b[1;33m)\u001b[0m\u001b[1;33m\u001b[0m\u001b[1;33m\u001b[0m\u001b[0m\n\u001b[0;32m      6\u001b[0m \u001b[1;33m\u001b[0m\u001b[0m\n",
      "\u001b[1;31mNameError\u001b[0m: name 'c_data' is not defined"
     ]
    }
   ],
   "source": [
    "# アクセスを正規化\n",
    "\n",
    "# 表現を変更\n",
    "c_data[\"アクセス\"]=c_data[\"アクセス\"].str.replace(\"\\t\\t\",\";\")\n",
    "c_data[\"アクセス\"]=c_data[\"アクセス\"].str.replace(\"\\t\",\",\")\n",
    "\n",
    "# 分割してリストに格納\n",
    "l_access=[]\n",
    "for word in pd.Series(c_data[\"アクセス\"]):\n",
    "    if type(word) is str: \n",
    "        l_access.append(word.split(\";\"))\n",
    "    else: #欠損値行に欠損値を与える\n",
    "        l_facility_room.append(np.nan)\n",
    "        \n",
    "    # ダミー変数化\n",
    "    access = pd.Series(l_access,name=\"access\")\n",
    "    df=access.str.join(sep=';').str.get_dummies(sep=';')\n",
    "    c_data=pd.concat([df,c_data],axis=1)\n",
    "    \n",
    "    #EDA\n",
    "    print(df.sum())"
   ]
  },
  {
   "cell_type": "code",
   "execution_count": null,
   "metadata": {},
   "outputs": [],
   "source": []
  },
  {
   "cell_type": "code",
   "execution_count": null,
   "metadata": {},
   "outputs": [],
   "source": []
  },
  {
   "cell_type": "code",
   "execution_count": null,
   "metadata": {},
   "outputs": [],
   "source": []
  },
  {
   "cell_type": "code",
   "execution_count": null,
   "metadata": {},
   "outputs": [],
   "source": []
  },
  {
   "cell_type": "code",
   "execution_count": null,
   "metadata": {},
   "outputs": [],
   "source": []
  },
  {
   "cell_type": "code",
   "execution_count": null,
   "metadata": {},
   "outputs": [],
   "source": []
  },
  {
   "cell_type": "code",
   "execution_count": null,
   "metadata": {},
   "outputs": [],
   "source": []
  },
  {
   "cell_type": "code",
   "execution_count": null,
   "metadata": {},
   "outputs": [],
   "source": []
  },
  {
   "cell_type": "code",
   "execution_count": 8,
   "metadata": {
    "execution": {
     "iopub.execute_input": "2021-01-12T14:48:11.174309Z",
     "iopub.status.busy": "2021-01-12T14:48:11.174309Z",
     "iopub.status.idle": "2021-01-12T14:48:11.180314Z",
     "shell.execute_reply": "2021-01-12T14:48:11.180314Z",
     "shell.execute_reply.started": "2021-01-12T14:48:11.174309Z"
    }
   },
   "outputs": [
    {
     "ename": "NameError",
     "evalue": "name 'a_data' is not defined",
     "output_type": "error",
     "traceback": [
      "\u001b[1;31m---------------------------------------------------------------------------\u001b[0m",
      "\u001b[1;31mNameError\u001b[0m                                 Traceback (most recent call last)",
      "\u001b[1;32m<ipython-input-8-ee5a4de605d5>\u001b[0m in \u001b[0;36m<module>\u001b[1;34m\u001b[0m\n\u001b[0;32m      1\u001b[0m \u001b[1;31m#EDA\u001b[0m\u001b[1;33m\u001b[0m\u001b[1;33m\u001b[0m\u001b[1;33m\u001b[0m\u001b[0m\n\u001b[1;32m----> 2\u001b[1;33m \u001b[0mcor_data\u001b[0m\u001b[1;33m=\u001b[0m\u001b[0ma_data\u001b[0m\u001b[1;33m[\u001b[0m\u001b[1;33m[\u001b[0m\u001b[1;34m\"賃料\"\u001b[0m\u001b[1;33m,\u001b[0m\u001b[1;34m\"コンロ1口\"\u001b[0m\u001b[1;33m,\u001b[0m\u001b[1;34m\"コンロ2口\"\u001b[0m\u001b[1;33m,\u001b[0m\u001b[1;34m\"コンロ3口\"\u001b[0m\u001b[1;33m,\u001b[0m\u001b[1;34m\"コンロ4口以上\"\u001b[0m\u001b[1;33m]\u001b[0m\u001b[1;33m]\u001b[0m\u001b[1;33m.\u001b[0m\u001b[0mcopy\u001b[0m\u001b[1;33m(\u001b[0m\u001b[1;33m)\u001b[0m\u001b[1;33m\u001b[0m\u001b[1;33m\u001b[0m\u001b[0m\n\u001b[0m\u001b[0;32m      3\u001b[0m \u001b[0mcor_data\u001b[0m\u001b[1;33m=\u001b[0m\u001b[0mcor_data\u001b[0m\u001b[1;33m.\u001b[0m\u001b[0mrename\u001b[0m\u001b[1;33m(\u001b[0m\u001b[0mcolumns\u001b[0m\u001b[1;33m=\u001b[0m\u001b[1;33m{\u001b[0m\u001b[1;34m\"賃料\"\u001b[0m\u001b[1;33m:\u001b[0m\u001b[1;34m\"price\"\u001b[0m\u001b[1;33m,\u001b[0m\u001b[1;34m\"コンロ1口\"\u001b[0m\u001b[1;33m:\u001b[0m\u001b[1;34m\"C1\"\u001b[0m\u001b[1;33m,\u001b[0m\u001b[1;34m\"コンロ2口\"\u001b[0m\u001b[1;33m:\u001b[0m\u001b[1;34m\"C2\"\u001b[0m\u001b[1;33m,\u001b[0m\u001b[1;34m\"コンロ3口\"\u001b[0m\u001b[1;33m:\u001b[0m\u001b[1;34m\"C3\"\u001b[0m\u001b[1;33m,\u001b[0m\u001b[1;34m\"コンロ4口以上\"\u001b[0m\u001b[1;33m:\u001b[0m\u001b[1;34m\"C4\"\u001b[0m\u001b[1;33m}\u001b[0m\u001b[1;33m)\u001b[0m\u001b[1;33m\u001b[0m\u001b[1;33m\u001b[0m\u001b[0m\n\u001b[0;32m      4\u001b[0m \u001b[1;31m# sns.heatmap(cor_data.corr(),annot=True, fmt='g', cmap='coolwarm',vmin=-1,vmax=1)\u001b[0m\u001b[1;33m\u001b[0m\u001b[1;33m\u001b[0m\u001b[1;33m\u001b[0m\u001b[0m\n",
      "\u001b[1;31mNameError\u001b[0m: name 'a_data' is not defined"
     ]
    }
   ],
   "source": [
    "#EDA\n",
    "cor_data=a_data[[\"賃料\",\"コンロ1口\",\"コンロ2口\",\"コンロ3口\",\"コンロ4口以上\"]].copy()\n",
    "cor_data=cor_data.rename(columns={\"賃料\":\"price\",\"コンロ1口\":\"C1\",\"コンロ2口\":\"C2\",\"コンロ3口\":\"C3\",\"コンロ4口以上\":\"C4\"})\n",
    "sns.heatmap(cor_data.corr(),annot=True, fmt='g', cmap='coolwarm',vmin=-1,vmax=1)"
   ]
  },
  {
   "cell_type": "markdown",
   "metadata": {},
   "source": [
    "-> C2,C3は賃料への影響が比較的高い  \n",
    "それ以外は相関は低そう"
   ]
  },
  {
   "cell_type": "code",
   "execution_count": 34,
   "metadata": {
    "execution": {
     "iopub.execute_input": "2021-01-11T12:28:56.262789Z",
     "iopub.status.busy": "2021-01-11T12:28:56.261788Z",
     "iopub.status.idle": "2021-01-11T12:28:56.366875Z",
     "shell.execute_reply": "2021-01-11T12:28:56.366875Z",
     "shell.execute_reply.started": "2021-01-11T12:28:56.262789Z"
    }
   },
   "outputs": [],
   "source": [
    "#EDA\n",
    "cor_data2=a_data[[\"賃料\",\"コンロ1口\",\"コンロ2口\",\"コンロ3口\",\"コンロ4口以上\",\"コンロ設置可（口数不明）\"]].copy()\n",
    "cor_data2=cor_data2.rename(columns={\"賃料\":\"price\",\"コンロ1口\":\"C1\",\"コンロ2口\":\"C2\",\"コンロ3口\":\"C3\",\"コンロ4口以上\":\"C4\",\"コンロ設置可（口数不明）\":\"Cn\"})"
   ]
  },
  {
   "cell_type": "code",
   "execution_count": 35,
   "metadata": {
    "execution": {
     "iopub.execute_input": "2021-01-11T12:29:12.815683Z",
     "iopub.status.busy": "2021-01-11T12:29:12.814683Z",
     "iopub.status.idle": "2021-01-11T12:29:12.920778Z",
     "shell.execute_reply": "2021-01-11T12:29:12.920778Z",
     "shell.execute_reply.started": "2021-01-11T12:29:12.815683Z"
    }
   },
   "outputs": [
    {
     "data": {
      "image/png": "[encoded data removed]",
      "text/plain": [
       "<Figure size 540x360 with 1 Axes>"
      ]
     },
     "metadata": {
      "needs_background": "light"
     },
     "output_type": "display_data"
    }
   ],
   "source": [
    "g=graph()\n",
    "g.cmp_box(ol_vis=0,\n",
    "    title=\"コンロ数別の賃料比較\",\n",
    "    x_title=\"コンロの数\",\n",
    "    y_title= \"price\",\n",
    "    labels=[\"1口\",\"2口\",\"3口\",\"4口以上\",\"不明\"],\n",
    "    dataset=[cor_data2['price'][cor_data2['C1']==1],\n",
    "    cor_data2['price'][cor_data2['C2']==1],\n",
    "    cor_data2['price'][cor_data2['C3']==1],\n",
    "    cor_data2['price'][cor_data2['C4']==1],\n",
    "    cor_data2['price'][cor_data2['Cn']==1]])"
   ]
  },
  {
   "cell_type": "code",
   "execution_count": 36,
   "metadata": {
    "execution": {
     "iopub.execute_input": "2021-01-11T12:29:21.243391Z",
     "iopub.status.busy": "2021-01-11T12:29:21.243391Z",
     "iopub.status.idle": "2021-01-11T12:29:21.346485Z",
     "shell.execute_reply": "2021-01-11T12:29:21.346485Z",
     "shell.execute_reply.started": "2021-01-11T12:29:21.243391Z"
    }
   },
   "outputs": [
    {
     "data": {
      "image/png": "[encoded data removed]",
      "text/plain": [
       "<Figure size 540x360 with 1 Axes>"
      ]
     },
     "metadata": {
      "needs_background": "light"
     },
     "output_type": "display_data"
    }
   ],
   "source": [
    "g=graph()\n",
    "g.cmp_box(ol_vis=1,\n",
    "    title=\"コンロ数別の賃料比較\",\n",
    "    x_title=\"コンロの数\",\n",
    "    y_title= \"price\",\n",
    "    labels=[\"1口\",\"2口\",\"3口\",\"4口以上\",\"不明\"],\n",
    "    dataset=[cor_data2['price'][cor_data2['C1']==1],\n",
    "    cor_data2['price'][cor_data2['C2']==1],\n",
    "    cor_data2['price'][cor_data2['C3']==1],\n",
    "    cor_data2['price'][cor_data2['C4']==1],\n",
    "    cor_data2['price'][cor_data2['Cn']==1]])"
   ]
  },
  {
   "cell_type": "markdown",
   "metadata": {},
   "source": [
    "->　不明分は１口に寄せてもよさそう"
   ]
  },
  {
   "cell_type": "code",
   "execution_count": null,
   "metadata": {},
   "outputs": [],
   "source": []
  },
  {
   "cell_type": "code",
   "execution_count": null,
   "metadata": {},
   "outputs": [],
   "source": []
  },
  {
   "cell_type": "code",
   "execution_count": null,
   "metadata": {},
   "outputs": [],
   "source": []
  },
  {
   "cell_type": "code",
   "execution_count": null,
   "metadata": {},
   "outputs": [],
   "source": []
  },
  {
   "cell_type": "markdown",
   "metadata": {},
   "source": []
  },
  {
   "cell_type": "markdown",
   "metadata": {},
   "source": []
  },
  {
   "cell_type": "markdown",
   "metadata": {},
   "source": [
    "## 方針"
   ]
  },
  {
   "cell_type": "markdown",
   "metadata": {},
   "source": [
    " >  Sのあるなしで賃料がゆれているため、Sありのフラグをたてるべき\n",
    " > >OneHotEncodingで対応  \n",
    "   \n",
    " > 線路/交通手段/時間で一つのカテゴリを作成する  \n",
    "  \n",
    " > 階数は高いほどよいが、3F以上はエレベーターがついているかが肝"
   ]
  },
  {
   "cell_type": "markdown",
   "metadata": {},
   "source": [
    "## 分析"
   ]
  },
  {
   "cell_type": "code",
   "execution_count": 26,
   "metadata": {
    "execution": {
     "iopub.execute_input": "2021-01-11T12:26:40.875207Z",
     "iopub.status.busy": "2021-01-11T12:26:40.875207Z",
     "iopub.status.idle": "2021-01-11T12:26:40.882213Z",
     "shell.execute_reply": "2021-01-11T12:26:40.882213Z",
     "shell.execute_reply.started": "2021-01-11T12:26:40.875207Z"
    }
   },
   "outputs": [],
   "source": [
    "c_data=data.copy()"
   ]
  },
  {
   "cell_type": "code",
   "execution_count": 27,
   "metadata": {
    "execution": {
     "iopub.execute_input": "2021-01-11T12:26:40.883214Z",
     "iopub.status.busy": "2021-01-11T12:26:40.883214Z",
     "iopub.status.idle": "2021-01-11T12:26:40.886217Z",
     "shell.execute_reply": "2021-01-11T12:26:40.886217Z",
     "shell.execute_reply.started": "2021-01-11T12:26:40.883214Z"
    }
   },
   "outputs": [],
   "source": [
    "def m_plot_2(x_label,label_A,label_B,Series_A,Series_B):\n",
    "    \"\"\"折れ線グラフ\n",
    "    \"\"\"\n",
    "    fig = plt.figure()\n",
    "    ax = fig.add_subplot(1, 1, 1)\n",
    "    ax.plot(Series_A)\n",
    "    ax.plot(Series_B)\n",
    "    ax.set_xlabel(x_label)\n",
    "    plt.show()"
   ]
  },
  {
   "cell_type": "code",
   "execution_count": 28,
   "metadata": {
    "execution": {
     "iopub.execute_input": "2021-01-11T12:26:40.887218Z",
     "iopub.status.busy": "2021-01-11T12:26:40.887218Z",
     "iopub.status.idle": "2021-01-11T12:26:40.912240Z",
     "shell.execute_reply": "2021-01-11T12:26:40.912240Z",
     "shell.execute_reply.started": "2021-01-11T12:26:40.887218Z"
    }
   },
   "outputs": [],
   "source": [
    "#賃料とtype/madoriの関係を確認する\n",
    "r_data=c_data[['賃料','type','間取り']]\n",
    "rg=r_data.groupby('間取り')\n",
    "rg_mean=rg.mean()\n",
    "rg_median=rg.median()"
   ]
  },
  {
   "cell_type": "code",
   "execution_count": 29,
   "metadata": {
    "execution": {
     "iopub.execute_input": "2021-01-11T12:26:40.913241Z",
     "iopub.status.busy": "2021-01-11T12:26:40.913241Z",
     "iopub.status.idle": "2021-01-11T12:26:40.991312Z",
     "shell.execute_reply": "2021-01-11T12:26:40.991312Z",
     "shell.execute_reply.started": "2021-01-11T12:26:40.913241Z"
    }
   },
   "outputs": [
    {
     "data": {
      "text/plain": [
       "<AxesSubplot:>"
      ]
     },
     "execution_count": 29,
     "metadata": {},
     "output_type": "execute_result"
    },
    {
     "data": {
      "image/png": "[encoded data removed]",
      "text/plain": [
       "<Figure size 432x288 with 1 Axes>"
      ]
     },
     "metadata": {
      "needs_background": "light"
     },
     "output_type": "display_data"
    }
   ],
   "source": [
    "r_data.plot.box()"
   ]
  },
  {
   "cell_type": "markdown",
   "metadata": {},
   "source": [
    "間取りでグループした場合の賃料に外れ値あり"
   ]
  },
  {
   "cell_type": "code",
   "execution_count": null,
   "metadata": {
    "execution": {
     "iopub.status.busy": "2021-01-11T08:40:44.261674Z",
     "iopub.status.idle": "2021-01-11T08:40:44.261674Z",
     "shell.execute_reply": "2021-01-11T08:40:44.261674Z"
    }
   },
   "outputs": [],
   "source": [
    "# 間取りの順序を取得する\n",
    "l2=df_madori.reset_index()\n",
    "l2=l2.rename(columns={'index':'order'})"
   ]
  },
  {
   "cell_type": "code",
   "execution_count": null,
   "metadata": {
    "execution": {
     "iopub.status.busy": "2021-01-11T08:40:44.262674Z",
     "iopub.status.idle": "2021-01-11T08:40:44.262674Z",
     "shell.execute_reply": "2021-01-11T08:40:44.262674Z"
    }
   },
   "outputs": [],
   "source": [
    "# mean に間取りの順序を適用する\n",
    "rgl_mean=pd.merge(rg_mean,l2,on='間取り')\n",
    "rgl_mean=rgl_mean.rename(columns={'賃料':'mean'})\n",
    "rgl_mean=rgl_mean.sort_values('order')\n",
    "rgl_mean=rgl_mean.reset_index(drop=True)\n",
    "# rgl_mean"
   ]
  },
  {
   "cell_type": "code",
   "execution_count": null,
   "metadata": {
    "execution": {
     "iopub.status.busy": "2021-01-11T08:40:44.263675Z",
     "iopub.status.idle": "2021-01-11T08:40:44.263675Z",
     "shell.execute_reply": "2021-01-11T08:40:44.263675Z"
    }
   },
   "outputs": [],
   "source": [
    "# mean に間取りの順序を適用する\n",
    "rgl_median=pd.merge(rg_median,l2,on='間取り')\n",
    "rgl_median=rgl_median.rename(columns={'賃料':'median'})\n",
    "rgl_median=rgl_median.sort_values('order')\n",
    "rgl_median=rgl_median.reset_index(drop=True)\n",
    "rgl_median"
   ]
  },
  {
   "cell_type": "code",
   "execution_count": null,
   "metadata": {
    "execution": {
     "iopub.status.busy": "2021-01-11T08:40:44.263675Z",
     "iopub.status.idle": "2021-01-11T08:40:44.264676Z",
     "shell.execute_reply": "2021-01-11T08:40:44.263675Z"
    }
   },
   "outputs": [],
   "source": [
    "# 表をマージする\n",
    "rgl=pd.merge(rgl_mean,rgl_median,on='間取り')\n",
    "rgl=rgl.sort_values('order_x')\n",
    "rgl=rgl.drop(columns=['order_x','order_y'])\n",
    "rgl.plot.line()\n",
    "plt.show()\n",
    "m_plot_2('test','mean','median',rgl_mean['mean'],rgl_median['median'])\n",
    "# print(rgl)\n",
    "print(rgl_median['間取り'])"
   ]
  },
  {
   "cell_type": "code",
   "execution_count": null,
   "metadata": {
    "execution": {
     "iopub.status.busy": "2021-01-11T08:40:44.264676Z",
     "iopub.status.idle": "2021-01-11T08:40:44.264676Z",
     "shell.execute_reply": "2021-01-11T08:40:44.264676Z"
    }
   },
   "outputs": [],
   "source": [
    "data.head()"
   ]
  },
  {
   "cell_type": "code",
   "execution_count": null,
   "metadata": {},
   "outputs": [],
   "source": []
  },
  {
   "cell_type": "code",
   "execution_count": null,
   "metadata": {
    "execution": {
     "iopub.status.busy": "2021-01-11T08:40:44.265677Z",
     "iopub.status.idle": "2021-01-11T08:40:44.265677Z",
     "shell.execute_reply": "2021-01-11T08:40:44.265677Z"
    }
   },
   "outputs": [],
   "source": [
    "# 不要な列の削除\n",
    "# c_data.drop(columns=['建物構造','所在地'])"
   ]
  },
  {
   "cell_type": "code",
   "execution_count": null,
   "metadata": {},
   "outputs": [],
   "source": []
  },
  {
   "cell_type": "code",
   "execution_count": null,
   "metadata": {},
   "outputs": [],
   "source": []
  },
  {
   "cell_type": "code",
   "execution_count": null,
   "metadata": {},
   "outputs": [],
   "source": []
  },
  {
   "cell_type": "code",
   "execution_count": null,
   "metadata": {},
   "outputs": [],
   "source": []
  },
  {
   "cell_type": "code",
   "execution_count": null,
   "metadata": {
    "execution": {
     "iopub.status.busy": "2021-01-11T08:40:44.266678Z",
     "iopub.status.idle": "2021-01-11T08:40:44.266678Z",
     "shell.execute_reply": "2021-01-11T08:40:44.266678Z"
    }
   },
   "outputs": [],
   "source": [
    "corr_data['madori'].unique()"
   ]
  },
  {
   "cell_type": "code",
   "execution_count": null,
   "metadata": {
    "execution": {
     "iopub.status.busy": "2021-01-11T08:40:44.267679Z",
     "iopub.status.idle": "2021-01-11T08:40:44.267679Z",
     "shell.execute_reply": "2021-01-11T08:40:44.267679Z"
    }
   },
   "outputs": [],
   "source": [
    "corr_data['madori'].value_counts()"
   ]
  },
  {
   "cell_type": "code",
   "execution_count": null,
   "metadata": {
    "execution": {
     "iopub.status.busy": "2021-01-11T08:40:44.267679Z",
     "iopub.status.idle": "2021-01-11T08:40:44.268680Z",
     "shell.execute_reply": "2021-01-11T08:40:44.268680Z"
    }
   },
   "outputs": [],
   "source": [
    "x = corr_data['madori'].value_counts().index\n",
    "y = corr_data['madori'].value_counts()\n",
    "\n",
    "graph.m_scatter_s(\"madori\",\"count\",x,y)"
   ]
  },
  {
   "cell_type": "code",
   "execution_count": null,
   "metadata": {},
   "outputs": [],
   "source": []
  },
  {
   "cell_type": "code",
   "execution_count": null,
   "metadata": {},
   "outputs": [],
   "source": []
  },
  {
   "cell_type": "code",
   "execution_count": null,
   "metadata": {},
   "outputs": [],
   "source": []
  },
  {
   "cell_type": "code",
   "execution_count": null,
   "metadata": {
    "execution": {
     "iopub.status.busy": "2021-01-11T08:40:44.268680Z",
     "iopub.status.idle": "2021-01-11T08:40:44.269681Z",
     "shell.execute_reply": "2021-01-11T08:40:44.268680Z"
    }
   },
   "outputs": [],
   "source": [
    "# # OneHotEncoding\n",
    "\n",
    "# #インスタンス化\n",
    "# encoder = ce.OneHotEncoder(use_cat_names=True)\n",
    "\n",
    "# # 学習\n",
    "# encoder.fit(c_data.drop('madori',axis=1))\n",
    "\n",
    "# # 変換\n",
    "# d_data = encoder.transform(c_data.drop('madori',axis=1))\n"
   ]
  },
  {
   "cell_type": "code",
   "execution_count": null,
   "metadata": {
    "execution": {
     "iopub.status.busy": "2021-01-11T08:40:44.269681Z",
     "iopub.status.idle": "2021-01-11T08:40:44.270681Z",
     "shell.execute_reply": "2021-01-11T08:40:44.269681Z"
    }
   },
   "outputs": [],
   "source": [
    "# from sklearn.preprocessing import OneHotEncoder\n",
    "\n",
    "# # OneHotEncoderでのencoding\n",
    "# ohe =OneHotEncoder(sparse=False,categories='auto')\n",
    "# ohe.fit(c_data['間取り'])\n",
    "\n",
    "# # ダミー変数の列名作成\n",
    "# columns=[]\n",
    "# for i,c in enumerate('間取り'):\n",
    "#     columns += [f'7{c}_{v}' for v in ohe.categories_[i]]\n",
    "\n",
    "# # 生成されたダミー変数をデータフレームに変換\n",
    "# c_data=pd.DataFrame(ohe.transform(c_data['間取り']),columns=columns)\n",
    "    "
   ]
  },
  {
   "cell_type": "code",
   "execution_count": null,
   "metadata": {},
   "outputs": [],
   "source": []
  },
  {
   "cell_type": "code",
   "execution_count": null,
   "metadata": {},
   "outputs": [],
   "source": []
  },
  {
   "cell_type": "code",
   "execution_count": null,
   "metadata": {},
   "outputs": [],
   "source": []
  },
  {
   "cell_type": "code",
   "execution_count": null,
   "metadata": {},
   "outputs": [],
   "source": []
  }
 ],
 "metadata": {
  "kernelspec": {
   "display_name": "Python 3",
   "language": "python",
   "name": "python3"
  },
  "language_info": {
   "codemirror_mode": {
    "name": "ipython",
    "version": 3
   },
   "file_extension": ".py",
   "mimetype": "text/x-python",
   "name": "python",
   "nbconvert_exporter": "python",
   "pygments_lexer": "ipython3",
   "version": "3.7.9"
  },
  "widgets": {
   "application/vnd.jupyter.widget-state+json": {
    "state": {},
    "version_major": 2,
    "version_minor": 0
   }
  }
 },
 "nbformat": 4,
 "nbformat_minor": 4
}
