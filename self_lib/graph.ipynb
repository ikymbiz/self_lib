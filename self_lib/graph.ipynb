{
 "cells": [
  {
   "cell_type": "code",
   "execution_count": 3,
   "metadata": {
    "execution": {
     "iopub.execute_input": "2021-01-12T14:52:52.865200Z",
     "iopub.status.busy": "2021-01-12T14:52:52.865200Z",
     "iopub.status.idle": "2021-01-12T14:52:52.867202Z",
     "shell.execute_reply": "2021-01-12T14:52:52.867202Z",
     "shell.execute_reply.started": "2021-01-12T14:52:52.865200Z"
    }
   },
   "outputs": [],
   "source": [
    "import pandas as pd"
   ]
  },
  {
   "cell_type": "code",
   "execution_count": 2,
   "metadata": {
    "execution": {
     "iopub.execute_input": "2021-01-12T14:52:48.264019Z",
     "iopub.status.busy": "2021-01-12T14:52:48.263018Z",
     "iopub.status.idle": "2021-01-12T14:52:48.560288Z",
     "shell.execute_reply": "2021-01-12T14:52:48.560288Z",
     "shell.execute_reply.started": "2021-01-12T14:52:48.264019Z"
    }
   },
   "outputs": [
    {
     "data": {
      "text/html": [
       "<div>\n",
       "<style scoped>\n",
       "    .dataframe tbody tr th:only-of-type {\n",
       "        vertical-align: middle;\n",
       "    }\n",
       "\n",
       "    .dataframe tbody tr th {\n",
       "        vertical-align: top;\n",
       "    }\n",
       "\n",
       "    .dataframe thead th {\n",
       "        text-align: right;\n",
       "    }\n",
       "</style>\n",
       "<table border=\"1\" class=\"dataframe\">\n",
       "  <thead>\n",
       "    <tr style=\"text-align: right;\">\n",
       "      <th></th>\n",
       "      <th>2000Y</th>\n",
       "      <th>2020Y</th>\n",
       "    </tr>\n",
       "  </thead>\n",
       "  <tbody>\n",
       "    <tr>\n",
       "      <th>0</th>\n",
       "      <td>12</td>\n",
       "      <td>14</td>\n",
       "    </tr>\n",
       "    <tr>\n",
       "      <th>1</th>\n",
       "      <td>10</td>\n",
       "      <td>12</td>\n",
       "    </tr>\n",
       "    <tr>\n",
       "      <th>2</th>\n",
       "      <td>16</td>\n",
       "      <td>17</td>\n",
       "    </tr>\n",
       "    <tr>\n",
       "      <th>3</th>\n",
       "      <td>19</td>\n",
       "      <td>23</td>\n",
       "    </tr>\n",
       "  </tbody>\n",
       "</table>\n",
       "</div>"
      ],
      "text/plain": [
       "   2000Y  2020Y\n",
       "0     12     14\n",
       "1     10     12\n",
       "2     16     17\n",
       "3     19     23"
      ]
     },
     "execution_count": 2,
     "metadata": {},
     "output_type": "execute_result"
    }
   ],
   "source": [
    "\n",
    "data = pd.DataFrame({\"2000Y\"  : [12,10,16,19],\n",
    "                     \"2020Y\": [14,12,17,23]})\n",
    "data.head()"
   ]
  },
  {
   "cell_type": "code",
   "execution_count": 67,
   "metadata": {
    "execution": {
     "iopub.execute_input": "2021-01-12T13:21:15.948796Z",
     "iopub.status.busy": "2021-01-12T13:21:15.948796Z",
     "iopub.status.idle": "2021-01-12T13:21:15.952799Z",
     "shell.execute_reply": "2021-01-12T13:21:15.952799Z",
     "shell.execute_reply.started": "2021-01-12T13:21:15.948796Z"
    }
   },
   "outputs": [],
   "source": [
    "import matplotlib.pyplot as plt\n",
    "def graph_type(ax,g_type,value,**kwargs):\n",
    "    \"\"\"graphの出力タイプ\n",
    "    \"\"\"\n",
    "    if g_type == \"line\":\n",
    "            ax.plot(value,label=kwargs[\"label\"],color=kwargs[\"color\"],linewidth=3,marker=\"o\")\n",
    "    elif g_type ==\"hist\":\n",
    "        cnt_bins=len(value)\n",
    "        ax.hist(value,bins=cnt_bins,label=kwargs[\"label\"],color=kwargs[\"color\"])\n",
    "    elif g_type ==\"box\":\n",
    "            ax.boxplot(value,label=kwargs[\"label\"],color=kwargs[\"color\"])\n",
    "    elif g_type ==\"bar\":\n",
    "        x=kwargs[\"x\"]\n",
    "        ax.bar(x,value,label=kwargs[\"label\"],color=kwargs[\"color\"])\n",
    "    else:\n",
    "        pass"
   ]
  },
  {
   "cell_type": "code",
   "execution_count": 68,
   "metadata": {
    "execution": {
     "iopub.execute_input": "2021-01-12T13:21:16.109942Z",
     "iopub.status.busy": "2021-01-12T13:21:16.108941Z",
     "iopub.status.idle": "2021-01-12T13:21:16.115948Z",
     "shell.execute_reply": "2021-01-12T13:21:16.115948Z",
     "shell.execute_reply.started": "2021-01-12T13:21:16.109942Z"
    }
   },
   "outputs": [],
   "source": [
    "class graph:\n",
    "    def __init__(self):\n",
    "        pass\n",
    "    def duplex(self,**kwargs):\n",
    "        # グラフの事象設定\n",
    "        plt.figure(1,figsize=(10,5))\n",
    "\n",
    "        # グラフの象限の設定\n",
    "        row,col,pos=1,1,1\n",
    "        ax=plt.subplot(1, 1, 1)\n",
    "\n",
    "        # グラフの重複数設定\n",
    "        duple=len(kwargs[\"g_type\"])\n",
    "\n",
    "        # グラフのデータ設定\n",
    "        main_title=kwargs.get(\"main_title\")\n",
    "        x_title=kwargs.get(\"x_title\")\n",
    "        x_scale=kwargs.get(\"x_scale\")\n",
    "        if x_scale is None:\n",
    "            pass\n",
    "        else:\n",
    "            x_scale,x_scale_label=x_scale\n",
    "        x_rotation=kwargs.get(\"x_rotation\",90)\n",
    "        y_title=kwargs.get(\"y_title\")\n",
    "        y_scale=kwargs.get(\"y_scale\")\n",
    "        if y_scale is None:\n",
    "            pass\n",
    "        else:\n",
    "            y_scale,y_scale_label=y_scale\n",
    "        y_rotation=kwargs.get(\"y_rotation\",90)\n",
    "        g_type=kwargs[\"g_type\"]\n",
    "        g_data=kwargs[\"g_data\"]\n",
    "        label=kwargs.get(\"label\")\n",
    "        color=kwargs.get(\"color\")\n",
    "        \n",
    "        i=0\n",
    "        for i in range(duple):\n",
    "            value = g_data[i]\n",
    "            graph_type(ax,g_type[i],value,label=label[i],x=x_scale,color=color[i])\n",
    "            i +=1\n",
    "            \n",
    "        # 軸の目盛りラベル\n",
    "        if x_scale is None:\n",
    "            pass\n",
    "        else:\n",
    "            plt.xticks(x_scale,x_scale_label,rotation=x_rotation)\n",
    "        if y_scale is None:\n",
    "            pass\n",
    "        else:\n",
    "            plt.yticks(y_scale,y_scale_label)\n",
    "        \n",
    "        # グラフの凡例\n",
    "        plt.legend()\n",
    "\n",
    "        # グラフのタイトル /ラベル\n",
    "        plt.title(main_title)\n",
    "        plt.xlabel(x_title)\n",
    "        plt.ylabel(y_title)"
   ]
  },
  {
   "cell_type": "code",
   "execution_count": 73,
   "metadata": {
    "execution": {
     "iopub.execute_input": "2021-01-12T13:21:36.390110Z",
     "iopub.status.busy": "2021-01-12T13:21:36.390110Z",
     "iopub.status.idle": "2021-01-12T13:21:36.467171Z",
     "shell.execute_reply": "2021-01-12T13:21:36.467171Z",
     "shell.execute_reply.started": "2021-01-12T13:21:36.390110Z"
    }
   },
   "outputs": [
    {
     "data": {
      "image/png": "[encoded data removed]",
      "text/plain": [
       "<Figure size 720x360 with 1 Axes>"
      ]
     },
     "metadata": {
      "needs_background": "light"
     },
     "output_type": "display_data"
    }
   ],
   "source": [
    "import matplotlib.pyplot as plt\n",
    "import seaborn as sns\n",
    "g=graph()\n",
    "g.duplex(main_title=\"T month compare\",\n",
    "         x_title=\"Month\",\n",
    "         x_rotation=45,\n",
    "         x_scale=[[0,1,2,3],[\"Jan\",\"Feb\",\"Mar\",\"Apr\"]],\n",
    "         y_title=\"Temparature\",\n",
    "         y_scale=[[10,15,20,25],[\"10C\",\"15C\",\"20C\",\"25C\"]],\n",
    "         y_rotation=90,\n",
    "         g_type=[\"line\",\"bar\"],\n",
    "         g_data=[data['2000Y'],data['2020Y']],\n",
    "         label=[\"2000Y\",\"2020Y\"],\n",
    "         color=[\"Red\",\"steelblue\"])"
   ]
  },
  {
   "cell_type": "code",
   "execution_count": null,
   "metadata": {},
   "outputs": [],
   "source": []
  },
  {
   "cell_type": "code",
   "execution_count": 70,
   "metadata": {
    "execution": {
     "iopub.execute_input": "2021-01-12T13:21:17.227958Z",
     "iopub.status.busy": "2021-01-12T13:21:17.227958Z",
     "iopub.status.idle": "2021-01-12T13:21:17.252981Z",
     "shell.execute_reply": "2021-01-12T13:21:17.252981Z",
     "shell.execute_reply.started": "2021-01-12T13:21:17.227958Z"
    }
   },
   "outputs": [
    {
     "ename": "NameError",
     "evalue": "name 'a_data' is not defined",
     "output_type": "error",
     "traceback": [
      "\u001b[1;31m---------------------------------------------------------------------------\u001b[0m",
      "\u001b[1;31mNameError\u001b[0m                                 Traceback (most recent call last)",
      "\u001b[1;32m<ipython-input-70-b887d7a75157>\u001b[0m in \u001b[0;36m<module>\u001b[1;34m\u001b[0m\n\u001b[0;32m      1\u001b[0m \u001b[1;31m#EDA\u001b[0m\u001b[1;33m\u001b[0m\u001b[1;33m\u001b[0m\u001b[1;33m\u001b[0m\u001b[0m\n\u001b[1;32m----> 2\u001b[1;33m \u001b[0mcor_data2\u001b[0m\u001b[1;33m=\u001b[0m\u001b[0ma_data\u001b[0m\u001b[1;33m[\u001b[0m\u001b[1;33m[\u001b[0m\u001b[1;34m\"賃料\"\u001b[0m\u001b[1;33m,\u001b[0m\u001b[1;34m\"コンロ1口\"\u001b[0m\u001b[1;33m,\u001b[0m\u001b[1;34m\"コンロ2口\"\u001b[0m\u001b[1;33m,\u001b[0m\u001b[1;34m\"コンロ3口\"\u001b[0m\u001b[1;33m,\u001b[0m\u001b[1;34m\"コンロ4口以上\"\u001b[0m\u001b[1;33m,\u001b[0m\u001b[1;34m\"コンロ設置可（口数不明）\"\u001b[0m\u001b[1;33m]\u001b[0m\u001b[1;33m]\u001b[0m\u001b[1;33m.\u001b[0m\u001b[0mcopy\u001b[0m\u001b[1;33m(\u001b[0m\u001b[1;33m)\u001b[0m\u001b[1;33m\u001b[0m\u001b[1;33m\u001b[0m\u001b[0m\n\u001b[0m\u001b[0;32m      3\u001b[0m \u001b[0mcor_data2\u001b[0m\u001b[1;33m=\u001b[0m\u001b[0mcor_data2\u001b[0m\u001b[1;33m.\u001b[0m\u001b[0mrename\u001b[0m\u001b[1;33m(\u001b[0m\u001b[0mcolumns\u001b[0m\u001b[1;33m=\u001b[0m\u001b[1;33m{\u001b[0m\u001b[1;34m\"賃料\"\u001b[0m\u001b[1;33m:\u001b[0m\u001b[1;34m\"price\"\u001b[0m\u001b[1;33m,\u001b[0m\u001b[1;34m\"コンロ1口\"\u001b[0m\u001b[1;33m:\u001b[0m\u001b[1;34m\"C1\"\u001b[0m\u001b[1;33m,\u001b[0m\u001b[1;34m\"コンロ2口\"\u001b[0m\u001b[1;33m:\u001b[0m\u001b[1;34m\"C2\"\u001b[0m\u001b[1;33m,\u001b[0m\u001b[1;34m\"コンロ3口\"\u001b[0m\u001b[1;33m:\u001b[0m\u001b[1;34m\"C3\"\u001b[0m\u001b[1;33m,\u001b[0m\u001b[1;34m\"コンロ4口以上\"\u001b[0m\u001b[1;33m:\u001b[0m\u001b[1;34m\"C4\"\u001b[0m\u001b[1;33m,\u001b[0m\u001b[1;34m\"コンロ設置可（口数不明）\"\u001b[0m\u001b[1;33m:\u001b[0m\u001b[1;34m\"Cn\"\u001b[0m\u001b[1;33m}\u001b[0m\u001b[1;33m)\u001b[0m\u001b[1;33m\u001b[0m\u001b[1;33m\u001b[0m\u001b[0m\n",
      "\u001b[1;31mNameError\u001b[0m: name 'a_data' is not defined"
     ]
    }
   ],
   "source": [
    "#EDA\n",
    "cor_data2=a_data[[\"賃料\",\"コンロ1口\",\"コンロ2口\",\"コンロ3口\",\"コンロ4口以上\",\"コンロ設置可（口数不明）\"]].copy()\n",
    "cor_data2=cor_data2.rename(columns={\"賃料\":\"price\",\"コンロ1口\":\"C1\",\"コンロ2口\":\"C2\",\"コンロ3口\":\"C3\",\"コンロ4口以上\":\"C4\",\"コンロ設置可（口数不明）\":\"Cn\"})"
   ]
  },
  {
   "cell_type": "code",
   "execution_count": 71,
   "metadata": {
    "execution": {
     "iopub.execute_input": "2021-01-12T13:21:20.709176Z",
     "iopub.status.busy": "2021-01-12T13:21:20.709176Z",
     "iopub.status.idle": "2021-01-12T13:21:20.713180Z",
     "shell.execute_reply": "2021-01-12T13:21:20.713180Z",
     "shell.execute_reply.started": "2021-01-12T13:21:20.709176Z"
    }
   },
   "outputs": [],
   "source": [
    "def dataType_ch_np(data):\n",
    "    \"\"\"ndarrayにして返す\n",
    "https://qiita.com/hatorijobs/items/8246e90db6b18d75338c\n",
    "    \"\"\"\n",
    "    if (type(data) is pd.core.frame.DataFrame):\n",
    "        print(\"enable: numpy.ndarray or pandas.Series\")\n",
    "        return False,data\n",
    "    if (type(data) is list):\n",
    "        data=np.ndarray(data)\n",
    "        return True,data\n",
    "    if (type(data) is np.ndarray):\n",
    "        return True,data\n",
    "    if (type(data) is pd.core.series.Series):\n",
    "        data=data.to_numpy()\n",
    "        return True,data"
   ]
  },
  {
   "cell_type": "code",
   "execution_count": 26,
   "metadata": {
    "execution": {
     "iopub.execute_input": "2021-01-11T12:00:03.953045Z",
     "iopub.status.busy": "2021-01-11T12:00:03.953045Z",
     "iopub.status.idle": "2021-01-11T12:00:03.959051Z",
     "shell.execute_reply": "2021-01-11T12:00:03.959051Z",
     "shell.execute_reply.started": "2021-01-11T12:00:03.953045Z"
    }
   },
   "outputs": [],
   "source": [
    "def cmp_box(ol_vis=0,**kwargs):\n",
    "    \"\"\"箱ひげ図を並べて表示する\n",
    "    \n",
    "# 外れ値のマーク\n",
    "# https://matplotlib.org/3.1.1/api/markers_api.html\n",
    "\n",
    "\n",
    "===================== sample =========================\n",
    "cmp_box(ol_vis=0,\n",
    "    title=\"コンロ数別の賃料比較\",\n",
    "    x_title=\"コンロの数\",\n",
    "    y_title= \"price\",\n",
    "    labels=[\"1口\",\"2口\",\"3口\",\"4口以上\",\"不明\"],\n",
    "    dataset=[cor_data2['price'][cor_data2['C1']==1],\n",
    "    cor_data2['price'][cor_data2['C2']==1],\n",
    "    cor_data2['price'][cor_data2['C3']==1],\n",
    "    cor_data2['price'][cor_data2['C4']==1],\n",
    "    cor_data2['price'][cor_data2['Cn']==1]])\n",
    "    \"\"\"\n",
    "    for s in kwargs[\"dataset\"]:\n",
    "        result,data=dataType_ch_np(s)\n",
    "        if result == False:\n",
    "            break\n",
    "        else:\n",
    "            pass\n",
    "    data = kwargs[\"dataset\"]\n",
    "    labels = kwargs.get(\"labels\",\"\")\n",
    "    title = kwargs.get(\"title\",\"\")\n",
    "    x_title = kwargs.get(\"x_title\",\"\")\n",
    "    y_title = kwargs.get(\"y_title\",\"\")\n",
    "    \n",
    "    # グラフの事象設定\n",
    "    ratio=1.5\n",
    "    height=len(kwargs[\"dataset\"])*ratio\n",
    "    width=len(kwargs[\"dataset\"])\n",
    "    plt.figure(1,figsize=(height,width))\n",
    "    row,col,pos=1,1,1\n",
    "    ax=plt.subplot(row,col,pos)\n",
    "\n",
    "    if ol_vis==0:\n",
    "    # 外れ値を表示する\n",
    "        ax.boxplot(data,labels=labels,meanline=True,sym=\"rx\")\n",
    "    elif ol_vis==1:\n",
    "    # 外れ値を表示しない\n",
    "        ax.boxplot(data,labels=labels,meanline=True,sym=\"\")\n",
    "    elif ol_vis==2:\n",
    "    # 外れ値の計算そのものをやめる(本来の最大値・最小値に基づいてひげを出す)\n",
    "        ax.boxplot(data,labels=labels,meanline=True,whis=\"range\")\n",
    "        \n",
    "    # グラフのタイトル /ラベル\n",
    "    plt.title(title)\n",
    "    plt.xlabel(x_title)\n",
    "    plt.ylabel(y_title)"
   ]
  },
  {
   "cell_type": "code",
   "execution_count": 65,
   "metadata": {
    "execution": {
     "iopub.execute_input": "2021-01-12T13:21:08.978435Z",
     "iopub.status.busy": "2021-01-12T13:21:08.978435Z",
     "iopub.status.idle": "2021-01-12T13:21:08.985442Z",
     "shell.execute_reply": "2021-01-12T13:21:08.985442Z",
     "shell.execute_reply.started": "2021-01-12T13:21:08.978435Z"
    }
   },
   "outputs": [
    {
     "ename": "NameError",
     "evalue": "name 'cmp_box' is not defined",
     "output_type": "error",
     "traceback": [
      "\u001b[1;31m---------------------------------------------------------------------------\u001b[0m",
      "\u001b[1;31mNameError\u001b[0m                                 Traceback (most recent call last)",
      "\u001b[1;32m<ipython-input-65-46a468315a23>\u001b[0m in \u001b[0;36m<module>\u001b[1;34m\u001b[0m\n\u001b[1;32m----> 1\u001b[1;33m cmp_box(ol_vis=0,\n\u001b[0m\u001b[0;32m      2\u001b[0m     \u001b[0mtitle\u001b[0m\u001b[1;33m=\u001b[0m\u001b[1;34m\"コンロ数別の賃料比較\"\u001b[0m\u001b[1;33m,\u001b[0m\u001b[1;33m\u001b[0m\u001b[1;33m\u001b[0m\u001b[0m\n\u001b[0;32m      3\u001b[0m     \u001b[0mx_title\u001b[0m\u001b[1;33m=\u001b[0m\u001b[1;34m\"コンロの数\"\u001b[0m\u001b[1;33m,\u001b[0m\u001b[1;33m\u001b[0m\u001b[1;33m\u001b[0m\u001b[0m\n\u001b[0;32m      4\u001b[0m     \u001b[0my_title\u001b[0m\u001b[1;33m=\u001b[0m \u001b[1;34m\"price\"\u001b[0m\u001b[1;33m,\u001b[0m\u001b[1;33m\u001b[0m\u001b[1;33m\u001b[0m\u001b[0m\n\u001b[0;32m      5\u001b[0m     \u001b[0mlabels\u001b[0m\u001b[1;33m=\u001b[0m\u001b[1;33m[\u001b[0m\u001b[1;34m\"1口\"\u001b[0m\u001b[1;33m,\u001b[0m\u001b[1;34m\"2口\"\u001b[0m\u001b[1;33m,\u001b[0m\u001b[1;34m\"3口\"\u001b[0m\u001b[1;33m,\u001b[0m\u001b[1;34m\"4口以上\"\u001b[0m\u001b[1;33m,\u001b[0m\u001b[1;34m\"不明\"\u001b[0m\u001b[1;33m]\u001b[0m\u001b[1;33m,\u001b[0m\u001b[1;33m\u001b[0m\u001b[1;33m\u001b[0m\u001b[0m\n",
      "\u001b[1;31mNameError\u001b[0m: name 'cmp_box' is not defined"
     ]
    }
   ],
   "source": [
    "cmp_box(ol_vis=0,\n",
    "    title=\"コンロ数別の賃料比較\",\n",
    "    x_title=\"コンロの数\",\n",
    "    y_title= \"price\",\n",
    "    labels=[\"1口\",\"2口\",\"3口\",\"4口以上\",\"不明\"],\n",
    "    dataset=[cor_data2['price'][cor_data2['C1']==1],\n",
    "    cor_data2['price'][cor_data2['C2']==1],\n",
    "    cor_data2['price'][cor_data2['C3']==1],\n",
    "    cor_data2['price'][cor_data2['C4']==1],\n",
    "    cor_data2['price'][cor_data2['Cn']==1]])"
   ]
  },
  {
   "cell_type": "code",
   "execution_count": null,
   "metadata": {},
   "outputs": [],
   "source": []
  },
  {
   "cell_type": "code",
   "execution_count": 1,
   "metadata": {
    "execution": {
     "iopub.execute_input": "2021-01-12T12:56:34.396507Z",
     "iopub.status.busy": "2021-01-12T12:56:34.396507Z",
     "iopub.status.idle": "2021-01-12T12:56:34.846916Z",
     "shell.execute_reply": "2021-01-12T12:56:34.846916Z",
     "shell.execute_reply.started": "2021-01-12T12:56:34.396507Z"
    }
   },
   "outputs": [],
   "source": [
    "# 必要なライブラリを読み込む\n",
    "import pandas as pd\n",
    "import numpy as np\n",
    "import matplotlib.pyplot as plt\n",
    "import os\n",
    "\n",
    "# Jupyter 上で図を表示するためのコマンド\n",
    "%matplotlib inline"
   ]
  },
  {
   "cell_type": "code",
   "execution_count": 89,
   "metadata": {
    "execution": {
     "iopub.execute_input": "2021-01-12T13:23:17.495578Z",
     "iopub.status.busy": "2021-01-12T13:23:17.495578Z",
     "iopub.status.idle": "2021-01-12T13:23:17.498582Z",
     "shell.execute_reply": "2021-01-12T13:23:17.498582Z",
     "shell.execute_reply.started": "2021-01-12T13:23:17.495578Z"
    }
   },
   "outputs": [],
   "source": [
    "# 表示する図表の設定\n",
    "plt.rcParams['font.size'] = 12\n",
    "plt.rcParams['axes.linewidth'] = 1.2\n",
    "plt.rcParams['axes.grid'] = True\n",
    "plt.rcParams['axes.edgecolor'] = 'black'\n",
    "plt.rcParams['axes.facecolor'] = 'w'\n",
    "plt.rcParams['grid.linestyle'] = '-'\n",
    "plt.rcParams['grid.linewidth'] = 0.3\n",
    "plt.rcParams['grid.color'] = 'grey'"
   ]
  },
  {
   "cell_type": "code",
   "execution_count": 3,
   "metadata": {
    "execution": {
     "iopub.execute_input": "2021-01-12T12:56:41.281007Z",
     "iopub.status.busy": "2021-01-12T12:56:41.281007Z",
     "iopub.status.idle": "2021-01-12T12:56:41.283009Z",
     "shell.execute_reply": "2021-01-12T12:56:41.283009Z",
     "shell.execute_reply.started": "2021-01-12T12:56:41.281007Z"
    }
   },
   "outputs": [],
   "source": [
    "# 可視化に用いる色を用意\n",
    "maincolor = '#70B145'\n",
    "accentcolor = '#D22D2C'"
   ]
  },
  {
   "cell_type": "code",
   "execution_count": null,
   "metadata": {},
   "outputs": [],
   "source": []
  },
  {
   "cell_type": "code",
   "execution_count": 4,
   "metadata": {
    "execution": {
     "iopub.execute_input": "2021-01-12T14:52:59.593314Z",
     "iopub.status.busy": "2021-01-12T14:52:59.592313Z",
     "iopub.status.idle": "2021-01-12T14:52:59.599319Z",
     "shell.execute_reply": "2021-01-12T14:52:59.599319Z",
     "shell.execute_reply.started": "2021-01-12T14:52:59.593314Z"
    }
   },
   "outputs": [],
   "source": [
    "# タイタニックデータを読み込む\n",
    "data = pd.read_csv('D:/_Download/2dfd2de0d4f8727f873422c5d959fff5-fa71405126017e6a37bea592440b4bee94bf7b9e/titanic.csv')"
   ]
  },
  {
   "cell_type": "code",
   "execution_count": 5,
   "metadata": {
    "execution": {
     "iopub.execute_input": "2021-01-12T14:53:01.417971Z",
     "iopub.status.busy": "2021-01-12T14:53:01.416971Z",
     "iopub.status.idle": "2021-01-12T14:53:01.425979Z",
     "shell.execute_reply": "2021-01-12T14:53:01.425979Z",
     "shell.execute_reply.started": "2021-01-12T14:53:01.417971Z"
    }
   },
   "outputs": [
    {
     "data": {
      "text/html": [
       "<div>\n",
       "<style scoped>\n",
       "    .dataframe tbody tr th:only-of-type {\n",
       "        vertical-align: middle;\n",
       "    }\n",
       "\n",
       "    .dataframe tbody tr th {\n",
       "        vertical-align: top;\n",
       "    }\n",
       "\n",
       "    .dataframe thead th {\n",
       "        text-align: right;\n",
       "    }\n",
       "</style>\n",
       "<table border=\"1\" class=\"dataframe\">\n",
       "  <thead>\n",
       "    <tr style=\"text-align: right;\">\n",
       "      <th></th>\n",
       "      <th>PassengerId</th>\n",
       "      <th>Survived</th>\n",
       "      <th>Pclass</th>\n",
       "      <th>Name</th>\n",
       "      <th>Sex</th>\n",
       "      <th>Age</th>\n",
       "      <th>SibSp</th>\n",
       "      <th>Parch</th>\n",
       "      <th>Ticket</th>\n",
       "      <th>Fare</th>\n",
       "      <th>Cabin</th>\n",
       "      <th>Embarked</th>\n",
       "    </tr>\n",
       "  </thead>\n",
       "  <tbody>\n",
       "    <tr>\n",
       "      <th>0</th>\n",
       "      <td>1</td>\n",
       "      <td>0</td>\n",
       "      <td>3</td>\n",
       "      <td>Braund, Mr. Owen Harris</td>\n",
       "      <td>male</td>\n",
       "      <td>22.0</td>\n",
       "      <td>1</td>\n",
       "      <td>0</td>\n",
       "      <td>A/5 21171</td>\n",
       "      <td>7.2500</td>\n",
       "      <td>NaN</td>\n",
       "      <td>S</td>\n",
       "    </tr>\n",
       "    <tr>\n",
       "      <th>1</th>\n",
       "      <td>2</td>\n",
       "      <td>1</td>\n",
       "      <td>1</td>\n",
       "      <td>Cumings, Mrs. John Bradley (Florence Briggs Th...</td>\n",
       "      <td>female</td>\n",
       "      <td>38.0</td>\n",
       "      <td>1</td>\n",
       "      <td>0</td>\n",
       "      <td>PC 17599</td>\n",
       "      <td>71.2833</td>\n",
       "      <td>C85</td>\n",
       "      <td>C</td>\n",
       "    </tr>\n",
       "    <tr>\n",
       "      <th>2</th>\n",
       "      <td>3</td>\n",
       "      <td>1</td>\n",
       "      <td>3</td>\n",
       "      <td>Heikkinen, Miss. Laina</td>\n",
       "      <td>female</td>\n",
       "      <td>26.0</td>\n",
       "      <td>0</td>\n",
       "      <td>0</td>\n",
       "      <td>STON/O2. 3101282</td>\n",
       "      <td>7.9250</td>\n",
       "      <td>NaN</td>\n",
       "      <td>S</td>\n",
       "    </tr>\n",
       "    <tr>\n",
       "      <th>3</th>\n",
       "      <td>4</td>\n",
       "      <td>1</td>\n",
       "      <td>1</td>\n",
       "      <td>Futrelle, Mrs. Jacques Heath (Lily May Peel)</td>\n",
       "      <td>female</td>\n",
       "      <td>35.0</td>\n",
       "      <td>1</td>\n",
       "      <td>0</td>\n",
       "      <td>113803</td>\n",
       "      <td>53.1000</td>\n",
       "      <td>C123</td>\n",
       "      <td>S</td>\n",
       "    </tr>\n",
       "    <tr>\n",
       "      <th>4</th>\n",
       "      <td>5</td>\n",
       "      <td>0</td>\n",
       "      <td>3</td>\n",
       "      <td>Allen, Mr. William Henry</td>\n",
       "      <td>male</td>\n",
       "      <td>35.0</td>\n",
       "      <td>0</td>\n",
       "      <td>0</td>\n",
       "      <td>373450</td>\n",
       "      <td>8.0500</td>\n",
       "      <td>NaN</td>\n",
       "      <td>S</td>\n",
       "    </tr>\n",
       "  </tbody>\n",
       "</table>\n",
       "</div>"
      ],
      "text/plain": [
       "   PassengerId  Survived  Pclass  \\\n",
       "0            1         0       3   \n",
       "1            2         1       1   \n",
       "2            3         1       3   \n",
       "3            4         1       1   \n",
       "4            5         0       3   \n",
       "\n",
       "                                                Name     Sex   Age  SibSp  \\\n",
       "0                            Braund, Mr. Owen Harris    male  22.0      1   \n",
       "1  Cumings, Mrs. John Bradley (Florence Briggs Th...  female  38.0      1   \n",
       "2                             Heikkinen, Miss. Laina  female  26.0      0   \n",
       "3       Futrelle, Mrs. Jacques Heath (Lily May Peel)  female  35.0      1   \n",
       "4                           Allen, Mr. William Henry    male  35.0      0   \n",
       "\n",
       "   Parch            Ticket     Fare Cabin Embarked  \n",
       "0      0         A/5 21171   7.2500   NaN        S  \n",
       "1      0          PC 17599  71.2833   C85        C  \n",
       "2      0  STON/O2. 3101282   7.9250   NaN        S  \n",
       "3      0            113803  53.1000  C123        S  \n",
       "4      0            373450   8.0500   NaN        S  "
      ]
     },
     "execution_count": 5,
     "metadata": {},
     "output_type": "execute_result"
    }
   ],
   "source": [
    "data.head()"
   ]
  },
  {
   "cell_type": "code",
   "execution_count": 6,
   "metadata": {
    "execution": {
     "iopub.execute_input": "2021-01-12T14:53:03.388763Z",
     "iopub.status.busy": "2021-01-12T14:53:03.388763Z",
     "iopub.status.idle": "2021-01-12T14:53:03.413785Z",
     "shell.execute_reply": "2021-01-12T14:53:03.413785Z",
     "shell.execute_reply.started": "2021-01-12T14:53:03.388763Z"
    }
   },
   "outputs": [
    {
     "ename": "NameError",
     "evalue": "name 'accentcolor' is not defined",
     "output_type": "error",
     "traceback": [
      "\u001b[1;31m---------------------------------------------------------------------------\u001b[0m",
      "\u001b[1;31mNameError\u001b[0m                                 Traceback (most recent call last)",
      "\u001b[1;32m<ipython-input-6-3d7edb952439>\u001b[0m in \u001b[0;36m<module>\u001b[1;34m\u001b[0m\n\u001b[0;32m      1\u001b[0m \u001b[1;31m# タイタニック号の生存者数、死亡者数確認\u001b[0m\u001b[1;33m\u001b[0m\u001b[1;33m\u001b[0m\u001b[1;33m\u001b[0m\u001b[0m\n\u001b[0;32m      2\u001b[0m \u001b[0mlabel\u001b[0m \u001b[1;33m=\u001b[0m \u001b[1;33m[\u001b[0m\u001b[1;34m'death'\u001b[0m\u001b[1;33m,\u001b[0m \u001b[1;34m'survival'\u001b[0m\u001b[1;33m]\u001b[0m\u001b[1;33m\u001b[0m\u001b[1;33m\u001b[0m\u001b[0m\n\u001b[1;32m----> 3\u001b[1;33m \u001b[0mcolors\u001b[0m \u001b[1;33m=\u001b[0m \u001b[1;33m[\u001b[0m\u001b[0maccentcolor\u001b[0m\u001b[1;33m,\u001b[0m \u001b[0mmaincolor\u001b[0m\u001b[1;33m]\u001b[0m\u001b[1;33m\u001b[0m\u001b[1;33m\u001b[0m\u001b[0m\n\u001b[0m\u001b[0;32m      4\u001b[0m \u001b[0mdata\u001b[0m\u001b[1;33m[\u001b[0m\u001b[1;34m'Sex'\u001b[0m\u001b[1;33m]\u001b[0m\u001b[1;33m.\u001b[0m\u001b[0mvalue_counts\u001b[0m\u001b[1;33m(\u001b[0m\u001b[1;33m)\u001b[0m\u001b[1;33m.\u001b[0m\u001b[0mplot\u001b[0m\u001b[1;33m.\u001b[0m\u001b[0mpie\u001b[0m\u001b[1;33m(\u001b[0m\u001b[0mlabels\u001b[0m\u001b[1;33m=\u001b[0m\u001b[0mlabel\u001b[0m\u001b[1;33m,\u001b[0m \u001b[0mcolors\u001b[0m\u001b[1;33m=\u001b[0m\u001b[0mcolors\u001b[0m\u001b[1;33m,\u001b[0m \u001b[0mautopct\u001b[0m\u001b[1;33m=\u001b[0m\u001b[1;34m'%1.1f%%'\u001b[0m\u001b[1;33m,\u001b[0m \u001b[0mstartangle\u001b[0m\u001b[1;33m=\u001b[0m\u001b[1;36m90\u001b[0m\u001b[1;33m)\u001b[0m\u001b[1;33m\u001b[0m\u001b[1;33m\u001b[0m\u001b[0m\n\u001b[0;32m      5\u001b[0m \u001b[0mplt\u001b[0m\u001b[1;33m.\u001b[0m\u001b[0mtitle\u001b[0m\u001b[1;33m(\u001b[0m\u001b[1;34m'Titanic survivor plot'\u001b[0m\u001b[1;33m)\u001b[0m\u001b[1;33m\u001b[0m\u001b[1;33m\u001b[0m\u001b[0m\n",
      "\u001b[1;31mNameError\u001b[0m: name 'accentcolor' is not defined"
     ]
    }
   ],
   "source": [
    "# タイタニック号の生存者数、死亡者数確認\n",
    "label = ['death', 'survival']\n",
    "colors = [accentcolor, maincolor]\n",
    "data['Sex'].value_counts().plot.pie(labels=label, colors=colors, autopct='%1.1f%%', startangle=90)\n",
    "plt.title('Titanic survivor plot')\n",
    "plt.xlabel('survival or death') # 1:生存、0:死亡\n",
    "plt.ylabel('freq')\n",
    "plt.show()"
   ]
  },
  {
   "cell_type": "code",
   "execution_count": 10,
   "metadata": {
    "execution": {
     "iopub.execute_input": "2021-01-12T14:53:31.664569Z",
     "iopub.status.busy": "2021-01-12T14:53:31.664569Z",
     "iopub.status.idle": "2021-01-12T14:53:31.668572Z",
     "shell.execute_reply": "2021-01-12T14:53:31.668572Z",
     "shell.execute_reply.started": "2021-01-12T14:53:31.664569Z"
    }
   },
   "outputs": [],
   "source": [
    "sns.set_palette(\"husl\")\n",
    "sns.set_theme(style=\"whitegrid\")\n",
    "sns.color_palette(\"Set1\", 24)\n",
    "sns.set(context='poster',\n",
    "        style='ticks',\n",
    "        palette='muted')"
   ]
  },
  {
   "cell_type": "code",
   "execution_count": 11,
   "metadata": {
    "execution": {
     "iopub.execute_input": "2021-01-12T14:53:32.113977Z",
     "iopub.status.busy": "2021-01-12T14:53:32.113977Z",
     "iopub.status.idle": "2021-01-12T14:53:32.117981Z",
     "shell.execute_reply": "2021-01-12T14:53:32.117981Z",
     "shell.execute_reply.started": "2021-01-12T14:53:32.113977Z"
    }
   },
   "outputs": [],
   "source": [
    "import pandas as pd\n",
    "import matplotlib.pyplot as plt\n",
    "import seaborn as sns\n",
    "\n",
    "\n",
    "\n",
    "def per_pie(Series):\n",
    "\n",
    "    labels=Series.value_counts().index.to_numpy()\n",
    "    values=Series.value_counts().to_numpy()\n",
    "    plt.pie(x=values,\n",
    "            labels=labels,\n",
    "            autopct='%.1f%%',\n",
    "            startangle=90,\n",
    "            counterclock=True,\n",
    "            pctdistance=0.6,\n",
    "            labeldistance=0.15,\n",
    "            textprops={'color':'white','weight':'bold','size':15},\n",
    "            frame=False)\n",
    "    plt.axis('equal')\n",
    "    plt.show()"
   ]
  },
  {
   "cell_type": "code",
   "execution_count": 12,
   "metadata": {
    "execution": {
     "iopub.execute_input": "2021-01-12T14:53:33.547280Z",
     "iopub.status.busy": "2021-01-12T14:53:33.547280Z",
     "iopub.status.idle": "2021-01-12T14:53:33.594322Z",
     "shell.execute_reply": "2021-01-12T14:53:33.594322Z",
     "shell.execute_reply.started": "2021-01-12T14:53:33.547280Z"
    }
   },
   "outputs": [
    {
     "data": {
      "image/png": "[encoded data removed]",
      "text/plain": [
       "<Figure size 432x288 with 1 Axes>"
      ]
     },
     "metadata": {},
     "output_type": "display_data"
    }
   ],
   "source": [
    "per_pie(data['Sex'])"
   ]
  },
  {
   "cell_type": "code",
   "execution_count": 13,
   "metadata": {
    "execution": {
     "iopub.execute_input": "2021-01-12T14:54:03.777798Z",
     "iopub.status.busy": "2021-01-12T14:54:03.777798Z",
     "iopub.status.idle": "2021-01-12T14:54:03.820837Z",
     "shell.execute_reply": "2021-01-12T14:54:03.820837Z",
     "shell.execute_reply.started": "2021-01-12T14:54:03.777798Z"
    }
   },
   "outputs": [
    {
     "data": {
      "image/png": "[encoded data removed]",
      "text/plain": [
       "<Figure size 432x288 with 1 Axes>"
      ]
     },
     "metadata": {},
     "output_type": "display_data"
    }
   ],
   "source": [
    "import graph as g\n",
    "g.per_pie(data['Sex'])"
   ]
  },
  {
   "cell_type": "code",
   "execution_count": 14,
   "metadata": {
    "execution": {
     "iopub.execute_input": "2021-01-12T14:54:24.539759Z",
     "iopub.status.busy": "2021-01-12T14:54:24.539759Z",
     "iopub.status.idle": "2021-01-12T14:54:24.544764Z",
     "shell.execute_reply": "2021-01-12T14:54:24.544764Z",
     "shell.execute_reply.started": "2021-01-12T14:54:24.539759Z"
    }
   },
   "outputs": [],
   "source": [
    "# 質的データの可視化\n",
    "def categorical_plot(survival, death, variable_name, label):\n",
    "    '''質的なデータの説明変数と生存者数の関係の可視化\n",
    "    \n",
    "    Args:\n",
    "            survival(DataFrame): 生存者のデータ\n",
    "            death(DataFrame): 死亡者のデータ\n",
    "            variable_name(object):可視化したい質的な説明変数の変数名\n",
    "            label(np.ndarray):可視化したい説明変数を棒グラフにした際のX軸のラベル\n",
    "    '''\n",
    "    survival_counts = survival[variable_name].value_counts().sort_index() \n",
    "    survival_counts.plot.bar(color=maincolor, bottom=0)\n",
    "    death[variable_name].value_counts().sort_index().plot.bar(color=accentcolor, bottom=survival_counts)\n",
    "    plt.title(variable_name + ' and survivor')\n",
    "    plt.xlabel(variable_name) \n",
    "    plt.ylabel('freq')\n",
    "    labels = label\n",
    "    x = np.arange(len(labels))\n",
    "    plt.xticks(x, labels)\n",
    "    plt.legend(['survival', 'death'])\n",
    "    plt.show()"
   ]
  },
  {
   "cell_type": "code",
   "execution_count": 15,
   "metadata": {
    "execution": {
     "iopub.execute_input": "2021-01-12T14:54:27.195171Z",
     "iopub.status.busy": "2021-01-12T14:54:27.195171Z",
     "iopub.status.idle": "2021-01-12T14:54:27.199176Z",
     "shell.execute_reply": "2021-01-12T14:54:27.199176Z",
     "shell.execute_reply.started": "2021-01-12T14:54:27.195171Z"
    }
   },
   "outputs": [],
   "source": [
    "# 量的データの可視化\n",
    "def continuous_plot(survival, death, variable_name, bins):\n",
    "    '''質的なデータの説明変数と生存者数の関係の可視化\n",
    "    \n",
    "    Args:\n",
    "            survival(DataFrame): 生存者のデータ\n",
    "            death(DataFrame): 死亡者のデータ\n",
    "            variable_name(object):可視化したい質的な説明変数の変数名\n",
    "    '''\n",
    "    plt.hist((survival[variable_name], death[variable_name]), stacked=True, color=(maincolor, accentcolor), bins=bins)\n",
    "    plt.title(variable_name + ' and survivor')\n",
    "    plt.xlabel(variable_name) \n",
    "    plt.ylabel('freq')\n",
    "    plt.legend(['survival', 'death'])\n",
    "    plt.show()"
   ]
  },
  {
   "cell_type": "code",
   "execution_count": 1,
   "metadata": {
    "execution": {
     "iopub.execute_input": "2021-01-12T14:31:05.733225Z",
     "iopub.status.busy": "2021-01-12T14:31:05.732224Z",
     "iopub.status.idle": "2021-01-12T14:31:06.518939Z",
     "shell.execute_reply": "2021-01-12T14:31:06.518939Z",
     "shell.execute_reply.started": "2021-01-12T14:31:05.732224Z"
    }
   },
   "outputs": [],
   "source": [
    "import graph as g\n",
    "import pandas as pd"
   ]
  },
  {
   "cell_type": "code",
   "execution_count": 16,
   "metadata": {
    "execution": {
     "iopub.execute_input": "2021-01-12T14:54:31.235843Z",
     "iopub.status.busy": "2021-01-12T14:54:31.235843Z",
     "iopub.status.idle": "2021-01-12T14:54:31.318919Z",
     "shell.execute_reply": "2021-01-12T14:54:31.318919Z",
     "shell.execute_reply.started": "2021-01-12T14:54:31.235843Z"
    }
   },
   "outputs": [
    {
     "data": {
      "image/png": "[encoded data removed]",
      "text/plain": [
       "<Figure size 720x360 with 1 Axes>"
      ]
     },
     "metadata": {},
     "output_type": "display_data"
    }
   ],
   "source": [
    "data = pd.DataFrame({\"2000Y\"  : [12,10,16,19],\n",
    "                 \"2020Y\": [14,12,17,23]})\n",
    "\n",
    "g.duplex(main_title=\"T month compare\",\n",
    "     x_title=\"Month\",\n",
    "     x_rotation=45,\n",
    "     x_scale=[[0,1,2,3],[\"Jan\",\"Feb\",\"Mar\",\"Apr\"]],\n",
    "     y_title=\"Temparature\",\n",
    "     y_scale=[[10,15,20,25],[\"10C\",\"15C\",\"20C\",\"25C\"]],\n",
    "     y_rotation=90,\n",
    "     g_type=[\"line\",\"line\"],\n",
    "     g_data=[data['2000Y'],data['2020Y']],\n",
    "     label=[\"2000Y\",\"2020Y\"],\n",
    "     color=[\"Red\",\"steelblue\"])\n"
   ]
  },
  {
   "cell_type": "code",
   "execution_count": null,
   "metadata": {},
   "outputs": [],
   "source": []
  }
 ],
 "metadata": {
  "kernelspec": {
   "display_name": "Python 3",
   "language": "python",
   "name": "python3"
  },
  "language_info": {
   "codemirror_mode": {
    "name": "ipython",
    "version": 3
   },
   "file_extension": ".py",
   "mimetype": "text/x-python",
   "name": "python",
   "nbconvert_exporter": "python",
   "pygments_lexer": "ipython3",
   "version": "3.7.9"
  },
  "widgets": {
   "application/vnd.jupyter.widget-state+json": {
    "state": {},
    "version_major": 2,
    "version_minor": 0
   }
  }
 },
 "nbformat": 4,
 "nbformat_minor": 4
}
