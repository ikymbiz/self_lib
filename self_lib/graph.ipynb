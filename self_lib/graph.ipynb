{
 "cells": [
  {
   "cell_type": "code",
   "execution_count": 5,
   "metadata": {
    "execution": {
     "iopub.execute_input": "2021-01-11T00:27:35.991720Z",
     "iopub.status.busy": "2021-01-11T00:27:35.991720Z",
     "iopub.status.idle": "2021-01-11T00:27:35.994724Z",
     "shell.execute_reply": "2021-01-11T00:27:35.994724Z",
     "shell.execute_reply.started": "2021-01-11T00:27:35.991720Z"
    }
   },
   "outputs": [],
   "source": []
  },
  {
   "cell_type": "code",
   "execution_count": 6,
   "metadata": {
    "execution": {
     "iopub.execute_input": "2021-01-11T00:27:36.137771Z",
     "iopub.status.busy": "2021-01-11T00:27:36.137771Z",
     "iopub.status.idle": "2021-01-11T00:27:36.145779Z",
     "shell.execute_reply": "2021-01-11T00:27:36.145779Z",
     "shell.execute_reply.started": "2021-01-11T00:27:36.137771Z"
    }
   },
   "outputs": [
    {
     "data": {
      "text/html": [
       "<div>\n",
       "<style scoped>\n",
       "    .dataframe tbody tr th:only-of-type {\n",
       "        vertical-align: middle;\n",
       "    }\n",
       "\n",
       "    .dataframe tbody tr th {\n",
       "        vertical-align: top;\n",
       "    }\n",
       "\n",
       "    .dataframe thead th {\n",
       "        text-align: right;\n",
       "    }\n",
       "</style>\n",
       "<table border=\"1\" class=\"dataframe\">\n",
       "  <thead>\n",
       "    <tr style=\"text-align: right;\">\n",
       "      <th></th>\n",
       "      <th>2000Y</th>\n",
       "      <th>2020Y</th>\n",
       "    </tr>\n",
       "  </thead>\n",
       "  <tbody>\n",
       "    <tr>\n",
       "      <th>0</th>\n",
       "      <td>12</td>\n",
       "      <td>14</td>\n",
       "    </tr>\n",
       "    <tr>\n",
       "      <th>1</th>\n",
       "      <td>10</td>\n",
       "      <td>12</td>\n",
       "    </tr>\n",
       "    <tr>\n",
       "      <th>2</th>\n",
       "      <td>16</td>\n",
       "      <td>17</td>\n",
       "    </tr>\n",
       "    <tr>\n",
       "      <th>3</th>\n",
       "      <td>19</td>\n",
       "      <td>23</td>\n",
       "    </tr>\n",
       "  </tbody>\n",
       "</table>\n",
       "</div>"
      ],
      "text/plain": [
       "   2000Y  2020Y\n",
       "0     12     14\n",
       "1     10     12\n",
       "2     16     17\n",
       "3     19     23"
      ]
     },
     "execution_count": 6,
     "metadata": {},
     "output_type": "execute_result"
    }
   ],
   "source": [
    "import pandas as pd\n",
    "data = pd.DataFrame({\"2000Y\"  : [12,10,16,19],\n",
    "                     \"2020Y\": [14,12,17,23]})\n",
    "data.head()"
   ]
  },
  {
   "cell_type": "code",
   "execution_count": 16,
   "metadata": {
    "execution": {
     "iopub.execute_input": "2021-01-11T00:32:17.760755Z",
     "iopub.status.busy": "2021-01-11T00:32:17.760755Z",
     "iopub.status.idle": "2021-01-11T00:32:17.764762Z",
     "shell.execute_reply": "2021-01-11T00:32:17.764762Z",
     "shell.execute_reply.started": "2021-01-11T00:32:17.760755Z"
    }
   },
   "outputs": [],
   "source": [
    "import matplotlib.pyplot as plt\n",
    "def graph_type(ax,g_type,value,**kwargs):\n",
    "    \"\"\"graphの出力タイプ\n",
    "    \"\"\"\n",
    "    if g_type == \"line\":\n",
    "            ax.plot(value,label=kwargs[\"label\"],color=kwargs[\"color\"],linewidth=3,marker=\"o\")\n",
    "    elif g_type ==\"hist\":\n",
    "        cnt_bins=len(value)\n",
    "        ax.hist(value,bins=cnt_bins,label=kwargs[\"label\"],color=kwargs[\"color\"])\n",
    "    elif g_type ==\"box\":\n",
    "            ax.boxplot(value,label=kwargs[\"label\"],color=kwargs[\"color\"])\n",
    "    elif g_type ==\"bar\":\n",
    "        x=kwargs[\"x\"]\n",
    "        ax.bar(x,value,label=kwargs[\"label\"],color=kwargs[\"color\"])\n",
    "    else:\n",
    "        pass"
   ]
  },
  {
   "cell_type": "code",
   "execution_count": 17,
   "metadata": {
    "execution": {
     "iopub.execute_input": "2021-01-11T00:32:18.143863Z",
     "iopub.status.busy": "2021-01-11T00:32:18.142863Z",
     "iopub.status.idle": "2021-01-11T00:32:18.149869Z",
     "shell.execute_reply": "2021-01-11T00:32:18.149869Z",
     "shell.execute_reply.started": "2021-01-11T00:32:18.143863Z"
    }
   },
   "outputs": [],
   "source": [
    "class graph:\n",
    "    def __init__(self):\n",
    "        pass\n",
    "    def duplex(self,**kwargs):\n",
    "        # グラフの事象設定\n",
    "        plt.figure(1,figsize=(10,5))\n",
    "\n",
    "        # グラフの象限の設定\n",
    "        row,col,pos=1,1,1\n",
    "        ax=plt.subplot(1, 1, 1)\n",
    "\n",
    "        # グラフの重複数設定\n",
    "        duple=len(kwargs[\"g_type\"])\n",
    "\n",
    "        # グラフのデータ設定\n",
    "        main_title=kwargs.get(\"main_title\")\n",
    "        x_title=kwargs.get(\"x_title\")\n",
    "        x_scale=kwargs.get(\"x_scale\")\n",
    "        if x_scale is None:\n",
    "            pass\n",
    "        else:\n",
    "            x_scale,x_scale_label=x_scale\n",
    "        x_rotation=kwargs.get(\"x_rotation\",90)\n",
    "        y_title=kwargs.get(\"y_title\")\n",
    "        y_scale=kwargs.get(\"y_scale\")\n",
    "        if y_scale is None:\n",
    "            pass\n",
    "        else:\n",
    "            y_scale,y_scale_label=y_scale\n",
    "        y_rotation=kwargs.get(\"y_rotation\",90)\n",
    "        g_type=kwargs[\"g_type\"]\n",
    "        g_data=kwargs[\"g_data\"]\n",
    "        label=kwargs.get(\"label\")\n",
    "        color=kwargs.get(\"color\")\n",
    "        \n",
    "        i=0\n",
    "        for i in range(duple):\n",
    "            value = g_data[i]\n",
    "            graph_type(ax,g_type[i],value,label=label[i],x=x_scale,color=color[i])\n",
    "            i +=1\n",
    "            \n",
    "        # 軸の目盛りラベル\n",
    "        if x_scale is None:\n",
    "            pass\n",
    "        else:\n",
    "            plt.xticks(x_scale,x_scale_label,rotation=x_rotation)\n",
    "        if y_scale is None:\n",
    "            pass\n",
    "        else:\n",
    "            plt.yticks(y_scale,y_scale_label)\n",
    "        \n",
    "        # グラフの凡例\n",
    "        plt.legend()\n",
    "\n",
    "        # グラフのタイトル /ラベル\n",
    "        plt.title(main_title)\n",
    "        plt.xlabel(x_title)\n",
    "        plt.ylabel(y_title)"
   ]
  },
  {
   "cell_type": "code",
   "execution_count": 18,
   "metadata": {
    "execution": {
     "iopub.execute_input": "2021-01-11T00:32:19.072563Z",
     "iopub.status.busy": "2021-01-11T00:32:19.072563Z",
     "iopub.status.idle": "2021-01-11T00:32:19.138615Z",
     "shell.execute_reply": "2021-01-11T00:32:19.138615Z",
     "shell.execute_reply.started": "2021-01-11T00:32:19.072563Z"
    }
   },
   "outputs": [
    {
     "data": {
      "image/png": "[encoded data removed]",
      "text/plain": [
       "<Figure size 720x360 with 1 Axes>"
      ]
     },
     "metadata": {
      "needs_background": "light"
     },
     "output_type": "display_data"
    }
   ],
   "source": [
    "import matplotlib.pyplot as plt\n",
    "import seaborn as sns\n",
    "g=graph()\n",
    "g.duplex(main_title=\"T month compare\",\n",
    "         x_title=\"Month\",\n",
    "         x_rotation=45,\n",
    "         x_scale=[[0,1,2,3],[\"Jan\",\"Feb\",\"Mar\",\"Apr\"]],\n",
    "         y_title=\"Temparature\",\n",
    "         y_scale=[[10,15,20,25],[\"10C\",\"15C\",\"20C\",\"25C\"]],\n",
    "         y_rotation=90,\n",
    "         g_type=[\"line\",\"hist\"],\n",
    "         g_data=[data['2000Y'],data['2020Y']],\n",
    "         label=[\"2000Y\",\"2020Y\"],\n",
    "         color=[\"Red\",\"steelblue\"])"
   ]
  },
  {
   "cell_type": "code",
   "execution_count": null,
   "metadata": {},
   "outputs": [],
   "source": []
  }
 ],
 "metadata": {
  "kernelspec": {
   "display_name": "Python 3",
   "language": "python",
   "name": "python3"
  },
  "language_info": {
   "codemirror_mode": {
    "name": "ipython",
    "version": 3
   },
   "file_extension": ".py",
   "mimetype": "text/x-python",
   "name": "python",
   "nbconvert_exporter": "python",
   "pygments_lexer": "ipython3",
   "version": "3.7.9"
  },
  "widgets": {
   "application/vnd.jupyter.widget-state+json": {
    "state": {},
    "version_major": 2,
    "version_minor": 0
   }
  }
 },
 "nbformat": 4,
 "nbformat_minor": 4
}
